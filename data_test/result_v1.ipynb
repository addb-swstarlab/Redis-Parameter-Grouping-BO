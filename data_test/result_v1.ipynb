{
 "cells": [
  {
   "cell_type": "code",
   "execution_count": 1,
   "metadata": {},
   "outputs": [],
   "source": [
    "import pandas as pd\n",
    "import os\n",
    "import numpy as np\n",
    "from scipy import stats\n",
    "import scipy as sp\n",
    "import seaborn as sns\n",
    "import matplotlib.pyplot as plt\n",
    "import math\n",
    "import numpy as np\n",
    "from numpy.random import randn\n",
    "from statsmodels.stats.weightstats import ztest"
   ]
  },
  {
   "cell_type": "code",
   "execution_count": 5,
   "metadata": {},
   "outputs": [
    {
     "data": {
      "text/plain": [
       "['gp_rdb_external_4_v1.csv',\n",
       " 'gp_rdb_external_4_v2.csv',\n",
       " '.DS_Store',\n",
       " 'gp_rdb_internal_4_v2.csv',\n",
       " 'gp_rdb_internal_4_v1.csv',\n",
       " 'gp_aof_external_4_v2.csv',\n",
       " 'gp_T_rdb_external_4.csv',\n",
       " 'gp_aof_external_4_v1.csv',\n",
       " 'gp_aof_internal_4_v1.csv',\n",
       " 'gp_aof_internal_4_v2.csv',\n",
       " 'gp_rdb_external_4_test.csv',\n",
       " 'gp_rdb_external_4_v11.csv',\n",
       " '.ipynb_checkpoints',\n",
       " 'check.csv',\n",
       " 'default_rdb_external_4.csv',\n",
       " 'default_aof_external_4.csv']"
      ]
     },
     "execution_count": 5,
     "metadata": {},
     "output_type": "execute_result"
    }
   ],
   "source": [
    "# 경로 내 파일 확인\n",
    "os.listdir('./result_data')"
   ]
  },
  {
   "cell_type": "code",
   "execution_count": 6,
   "metadata": {},
   "outputs": [],
   "source": [
    "# gp_T_rdb_external_4.csv [전체 gp]\n",
    "\n",
    "# rdb 1:1 internal -> configfile 확인용\n",
    "gp_rdb_internal_4_v11 = pd.read_csv('./result_data/gp_rdb_external_4_v11.csv', sep=',')\n",
    "gp_rdb_internal_4_v11_T = gp_rdb_internal_4_v11[240:]\n",
    "\n",
    "# rdb 1:1 external  30개씩\n",
    "gp_rdb_external_4_v11 = pd.read_csv('./result_data/gp_rdb_external_4_v11.csv', sep=',')\n",
    "gp_rdb_external_4_v11_th = gp_rdb_external_4_v11['Gets_KB/sec'][0:240].values  # throughput 값 추출\n",
    "\n",
    "# rdb 1:1 external  30개씩\n",
    "gp_rdb_external_4_T_v11 = pd.read_csv('./result_data/gp_rdb_external_4_v11.csv', sep=',')\n",
    "gp_rdb_external_4_v11_T_th = gp_rdb_external_4_v11['Gets_KB/sec'][240:].values  # throughput 값 추출\n",
    "\n",
    "# rdb 1:1 default  30개씩  90개까지!!\n",
    "default_rdb_external_4 = pd.read_csv('./result_data/default_rdb_external_4.csv', sep=',')  \n",
    "default_rdb_external_4_th_Total = default_rdb_external_4['Gets_KB/sec'].values # throughput 값 추출\n",
    "default_rdb_external_4_th = default_rdb_external_4_th_Total[:90]"
   ]
  },
  {
   "cell_type": "code",
   "execution_count": 9,
   "metadata": {
    "scrolled": true
   },
   "outputs": [
    {
     "name": "stdout",
     "output_type": "stream",
     "text": [
      "분퓨별 파라미터 57638.988000000005\n",
      "전체 파라미터 56580.07866666667\n",
      "Ttest_indResult(statistic=0.819113976840324, pvalue=0.20803724355578768)\n"
     ]
    }
   ],
   "source": [
    "x1 = gp_rdb_external_4_v11_th[0:30]\n",
    "x2 = gp_rdb_external_4_v11_T_th[0:30]\n",
    "print('분퓨별 파라미터',x1.mean())\n",
    "print('전체 파라미터',x2.mean())\n",
    "print(sp.stats.ttest_ind(x1, x2, equal_var=True, alternative='greater'))"
   ]
  },
  {
   "cell_type": "code",
   "execution_count": null,
   "metadata": {},
   "outputs": [],
   "source": [
    "x_norm = \n",
    "stats.shapiro()"
   ]
  },
  {
   "cell_type": "code",
   "execution_count": 13,
   "metadata": {},
   "outputs": [
    {
     "name": "stdout",
     "output_type": "stream",
     "text": [
      "###0###\n",
      "분퓨별 파라미터 59066.632999999994\n",
      "전체 파라미터 56028.824\n",
      "###1###\n",
      "분퓨별 파라미터 58245.32499999999\n",
      "전체 파라미터 56028.824\n",
      "###2###\n",
      "분퓨별 파라미터 58580.69\n",
      "전체 파라미터 56028.824\n",
      "###3###\n",
      "분퓨별 파라미터 58652.141\n",
      "전체 파라미터 56028.824\n",
      "###4###\n",
      "분퓨별 파라미터 57946.503000000004\n",
      "전체 파라미터 56028.824\n",
      "###5###\n",
      "분퓨별 파라미터 57578.47900000001\n",
      "전체 파라미터 56028.824\n",
      "###6###\n",
      "분퓨별 파라미터 58333.44300000001\n",
      "전체 파라미터 56028.824\n",
      "###7###\n",
      "분퓨별 파라미터 57782.963\n",
      "전체 파라미터 56028.824\n",
      "###8###\n",
      "분퓨별 파라미터 57781.93200000001\n",
      "전체 파라미터 56028.824\n",
      "###9###\n",
      "분퓨별 파라미터 57500.287\n",
      "전체 파라미터 56028.824\n",
      "###10###\n",
      "분퓨별 파라미터 56575.603\n",
      "전체 파라미터 56028.824\n",
      "###11###\n",
      "분퓨별 파라미터 57321.670000000006\n",
      "전체 파라미터 56028.824\n",
      "###12###\n",
      "분퓨별 파라미터 56524.73300000001\n",
      "전체 파라미터 56028.824\n",
      "###13###\n",
      "분퓨별 파라미터 56562.26299999999\n",
      "전체 파라미터 56028.824\n"
     ]
    }
   ],
   "source": [
    "for i in range(14):\n",
    "    print('###{}###'.format(i))\n",
    "    x1 = gp_rdb_external_4_v11_th[i:i+10]\n",
    "    x2 = gp_rdb_external_4_v11_T_th[18:28]\n",
    "#     x1 = gp_rdb_external_4_v11_th[0:30]\n",
    "#     x2 = gp_rdb_external_4_v11_T_th[0:30]\n",
    "    print('분퓨별 파라미터',x1.mean())\n",
    "    print('전체 파라미터',x2.mean())\n",
    "    ttest_stats, ttest_pval = sp.stats.ttest_ind(x1, x2, equal_var=True, alternative='greater')\n",
    "    if ttest_pval < 0.05 :\n",
    "        print(ttest_pval)\n",
    "        print(i)\n"
   ]
  },
  {
   "cell_type": "code",
   "execution_count": null,
   "metadata": {},
   "outputs": [],
   "source": []
  }
 ],
 "metadata": {
  "kernelspec": {
   "display_name": "Python 3",
   "language": "python",
   "name": "python3"
  },
  "language_info": {
   "codemirror_mode": {
    "name": "ipython",
    "version": 3
   },
   "file_extension": ".py",
   "mimetype": "text/x-python",
   "name": "python",
   "nbconvert_exporter": "python",
   "pygments_lexer": "ipython3",
   "version": "3.8.5"
  }
 },
 "nbformat": 4,
 "nbformat_minor": 4
}
