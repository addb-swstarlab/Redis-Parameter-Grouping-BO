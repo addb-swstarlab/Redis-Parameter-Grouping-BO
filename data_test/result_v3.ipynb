{
 "cells": [
  {
   "cell_type": "markdown",
   "metadata": {},
   "source": [
    "# throughput 결과 비교"
   ]
  },
  {
   "cell_type": "code",
   "execution_count": 2,
   "metadata": {},
   "outputs": [],
   "source": [
    "import pandas as pd\n",
    "import os\n",
    "import numpy as np\n",
    "from scipy import stats\n",
    "import scipy as sp\n",
    "import seaborn as sns\n",
    "import matplotlib.pyplot as plt\n",
    "import math\n",
    "import numpy as np\n",
    "from numpy.random import randn\n",
    "from statsmodels.stats.weightstats import ztest"
   ]
  },
  {
   "cell_type": "code",
   "execution_count": 171,
   "metadata": {},
   "outputs": [
    {
     "data": {
      "text/plain": [
       "['gp_rdb_external_4_v1.csv',\n",
       " 'result_data_internal.csv',\n",
       " 'gp_aof_external_4_v21.csv',\n",
       " 'gp_rdb_external_4_v2.csv',\n",
       " '.DS_Store',\n",
       " 'gp_rdb_internal_4_v2.csv',\n",
       " 'gp_rdb_internal_4_v1.csv',\n",
       " 'gp_aof_external_4_v2.csv',\n",
       " 'gp_T_rdb_external_4.csv',\n",
       " 'gp_aof_external_4_v1.csv',\n",
       " 'gp_rdb_external_4_v21.csv',\n",
       " 'gp_aof_internal_4_v1.csv',\n",
       " 'gp_aof_internal_4_v2.csv',\n",
       " 'result_data_external.csv',\n",
       " 'gp_rdb_external_4_test.csv',\n",
       " 'gp_rdb_external_4_v11.csv',\n",
       " 'check_rdb_internal.csv',\n",
       " '.ipynb_checkpoints',\n",
       " 'check.csv',\n",
       " 'check_rdb_external.csv',\n",
       " 'default_rdb_external_4.csv',\n",
       " 'default_aof_external_4.csv',\n",
       " 'gp_aof_external_4_v11.csv']"
      ]
     },
     "execution_count": 171,
     "metadata": {},
     "output_type": "execute_result"
    }
   ],
   "source": [
    "# 경로 내 파일 확인\n",
    "os.listdir('./result_data')"
   ]
  },
  {
   "cell_type": "code",
   "execution_count": 218,
   "metadata": {},
   "outputs": [],
   "source": [
    "check_rdb_internal = pd.read_csv('./result_data/check_rdb_internal.csv', sep=',')\n",
    "check_rdb_external = pd.read_csv('./result_data/check_rdb_external.csv', sep=',')\n",
    "check_rdb_external_th = check_rdb_external['Gets_KB/sec']"
   ]
  },
  {
   "cell_type": "code",
   "execution_count": 219,
   "metadata": {},
   "outputs": [
    {
     "data": {
      "text/plain": [
       "'/home/swredis/redis-sample-generation/configfiletest/rdb1/config_rdb1_rf_T.conf'"
      ]
     },
     "execution_count": 219,
     "metadata": {},
     "output_type": "execute_result"
    }
   ],
   "source": [
    "check_rdb_internal['config_file'][0]"
   ]
  },
  {
   "cell_type": "code",
   "execution_count": 201,
   "metadata": {},
   "outputs": [],
   "source": [
    "# configfile model inetrnal에서 인덱스 추출\n",
    "\n",
    "def get_config_model_idx(internalcsv_df, config_name_list):\n",
    "    config_name_data = list(internalcsv_df['config_file'])\n",
    "    \n",
    "    # 딕셔너리 미리 선언\n",
    "    config_idx_dict = {}\n",
    "    \n",
    "    for config_name in config_name_list:\n",
    "        print(config_name)\n",
    "        # 리스트 선언\n",
    "        config_idx_dict[config_name] = []\n",
    "        \n",
    "        for idx, config in enumerate(config_name_data):\n",
    "            if config_name == config[58:]:\n",
    "                config_idx_dict[config_name].append(idx)\n",
    "                \n",
    "    return config_idx_dict\n",
    "                \n",
    "        \n",
    "    \n"
   ]
  },
  {
   "cell_type": "code",
   "execution_count": 213,
   "metadata": {},
   "outputs": [],
   "source": [
    "def get_mean_th(config_name):\n",
    "    # internal.csv에서 idx 추출\n",
    "    config_name_list = [config_name+'_T.conf', config_name+'.conf']\n",
    "    idx_dict = get_config_model_idx(check_rdb_internal, config_name_list)\n",
    "    \n",
    "    # 인덱스 출력\n",
    "    print(idx_dict)\n",
    "    \n",
    "    # total bo 출력\n",
    "    print('total = ', check_rdb_external_th.iloc[idx_dict[config_name+'_T.conf']].mean())\n",
    "    # grouped bo 출력\n",
    "    print('grouped = ',check_rdb_external_th.iloc[idx_dict[config_name+'.conf']].mean())"
   ]
  },
  {
   "cell_type": "code",
   "execution_count": 220,
   "metadata": {},
   "outputs": [
    {
     "name": "stdout",
     "output_type": "stream",
     "text": [
      "config_rdb1_rf_T.conf\n",
      "config_rdb1_rf.conf\n",
      "{'config_rdb1_rf_T.conf': [0, 2, 4, 6, 8, 10, 12, 14, 16, 18], 'config_rdb1_rf.conf': [1, 3, 5, 7, 9, 11, 13, 15, 17, 19]}\n",
      "total =  57265.045\n",
      "grouped =  60467.189\n"
     ]
    }
   ],
   "source": [
    "get_mean_th('config_rdb1_rf')"
   ]
  },
  {
   "cell_type": "code",
   "execution_count": 204,
   "metadata": {},
   "outputs": [
    {
     "name": "stdout",
     "output_type": "stream",
     "text": [
      "config_rdb1_xgb_T.conf\n",
      "config_rdb1_xgb.conf\n"
     ]
    }
   ],
   "source": [
    "# internal.csv에서 idx 추출\n",
    "config_name_list = ['config_rdb1_xgb_T.conf', 'config_rdb1_xgb.conf']\n",
    "idx_dict = get_config_model_idx(check_rdb_internal, config_name_list)"
   ]
  },
  {
   "cell_type": "code",
   "execution_count": 184,
   "metadata": {},
   "outputs": [
    {
     "data": {
      "text/plain": [
       "{'config_rdb1_xgb_T.conf': [0, 2, 4, 6, 8, 10, 12, 14, 16, 18],\n",
       " 'config_rdb1_xgb.conf': [1, 3, 5, 7, 9, 11, 13, 15, 17, 19]}"
      ]
     },
     "execution_count": 184,
     "metadata": {},
     "output_type": "execute_result"
    }
   ],
   "source": [
    "idx_dict"
   ]
  },
  {
   "cell_type": "code",
   "execution_count": 187,
   "metadata": {},
   "outputs": [
    {
     "data": {
      "text/plain": [
       "57555.856999999996"
      ]
     },
     "execution_count": 187,
     "metadata": {},
     "output_type": "execute_result"
    }
   ],
   "source": [
    "check_rdb_external_th.iloc[idx_dict['config_rdb1_xgb_T.conf']].mean()"
   ]
  },
  {
   "cell_type": "code",
   "execution_count": 186,
   "metadata": {},
   "outputs": [
    {
     "data": {
      "text/plain": [
       "55839.91900000001"
      ]
     },
     "execution_count": 186,
     "metadata": {},
     "output_type": "execute_result"
    }
   ],
   "source": [
    "check_rdb_external_th.iloc[idx_dict['config_rdb1_xgb.conf']].mean()"
   ]
  },
  {
   "cell_type": "code",
   "execution_count": 161,
   "metadata": {},
   "outputs": [
    {
     "data": {
      "text/plain": [
       "Ttest_indResult(statistic=1.0089779801972019, pvalue=0.16317851167779113)"
      ]
     },
     "execution_count": 161,
     "metadata": {},
     "output_type": "execute_result"
    }
   ],
   "source": [
    "# ttest\n",
    "x1 = check_rdb_external_th.iloc[idx_dict['config_rdb1_lightgbm.conf']] \n",
    "x2 = check_rdb_external_th.iloc[idx_dict['config_rdb1_lightgbm_T.conf']]\n",
    "sp.stats.ttest_ind(x1, x2, equal_var=True, alternative='greater')"
   ]
  },
  {
   "cell_type": "code",
   "execution_count": 162,
   "metadata": {},
   "outputs": [
    {
     "name": "stdout",
     "output_type": "stream",
     "text": [
      "ShapiroResult(statistic=0.8984648585319519, pvalue=0.21073801815509796)\n",
      "ShapiroResult(statistic=0.8973281383514404, pvalue=0.20473258197307587)\n"
     ]
    }
   ],
   "source": [
    "# 정규성 검정\n",
    "x1 = check_rdb_external_th.iloc[idx_dict['config_rdb1_lightgbm.conf']]\n",
    "print(stats.shapiro(x1))\n",
    "\n",
    "x1 = check_rdb_external_th.iloc[idx_dict['config_rdb1_lightgbm_T.conf']]\n",
    "print(stats.shapiro(x1))"
   ]
  },
  {
   "cell_type": "code",
   "execution_count": 163,
   "metadata": {},
   "outputs": [
    {
     "data": {
      "text/plain": [
       "RanksumsResult(statistic=1.209486313629527, pvalue=0.11323803302174312)"
      ]
     },
     "execution_count": 163,
     "metadata": {},
     "output_type": "execute_result"
    }
   ],
   "source": [
    "# 순위합 검정\n",
    "x1 =  check_rdb_external_th.iloc[idx_dict['config_rdb1_lightgbm.conf']] \n",
    "x2 =  check_rdb_external_th.iloc[idx_dict['config_rdb1_lightgbm_T.conf']] \n",
    "stats.ranksums(x1, x2, alternative='greater')"
   ]
  },
  {
   "cell_type": "markdown",
   "metadata": {},
   "source": [
    "---"
   ]
  },
  {
   "cell_type": "markdown",
   "metadata": {},
   "source": [
    "## 결과 비교"
   ]
  },
  {
   "cell_type": "markdown",
   "metadata": {},
   "source": [
    "### RDB 1:1\n",
    "* lightgbm : ligthgbm_T = 60218.06100000001 : 57734.051\n",
    "* xgb : xgb_T =  57253.51400000001: 56484.08600000001\n",
    "* dt : dt_T = 60401.24899999999 : 59377.212\n",
    "* gbm : gbm_T =  60629.213: 56246.085\n",
    "* rf : rf_T =  60467.189: 57265.045\n",
    "* ridge : ridge_T = 58515.275 : 57963.73299999999\n",
    "* lasso : lasso_T = 60537.905999999995 : 54362.905999999995\n",
    "* lr : lr_T =  60766.30699999999: 59428.975\n",
    "\n",
    "60218,\n",
    "57254,\n",
    "60401,\n",
    "60629,\n",
    "60467,\n",
    "58515,\n",
    "60538,\n",
    "60766,\n",
    "\n",
    "\n",
    "57734,\n",
    "56484,\n",
    "59377,\n",
    "56246,\n",
    "57265,\n",
    "57964,\n",
    "54363,\n",
    "59429,"
   ]
  },
  {
   "cell_type": "markdown",
   "metadata": {},
   "source": [
    "### RDB 1:0\n",
    "* lightgbm : ligthgbm_T = 61104.594 : 59341.672999999995\n",
    "* xgb : xgb_T =  59431.960999999996: 57047.482\n",
    "* dt : dt_T =  60647.54800000001: 58754.46799999999\n",
    "* gbm : gbm_T =  59806.98300000001: 55797.536 \n",
    "* rf : rf_T =  58704.784: 56872.00600000001\n",
    "* ridge : ridge_T = 58830.56799999999:56211.77099999999\n",
    "* lasso : lasso_T =  56719.488: 56055.80500000001 \n",
    "* lr : lr_T =  60036.26399999999: 55539.239 \n",
    "\n",
    "\n",
    "61105,\n",
    "59432,\n",
    "60648,\n",
    "59807,\n",
    "58705,\n",
    "58831,\n",
    "56719,\n",
    "60036\n",
    "\n",
    "59342\n",
    "57047\n",
    "58754\n",
    "55798\n",
    "56872\n",
    "56212\n",
    "56056\n",
    "55539"
   ]
  },
  {
   "cell_type": "markdown",
   "metadata": {},
   "source": [
    "### AOF 1:1\n",
    "* lightgbm : ligthgbm_T =  47598.895: 46798.364\n",
    "* xgb : xgb_T =  46737.944: 45804.748999999996 \n",
    "* dt : dt_T =  48180.856: 46236.905000000006\n",
    "* gbm : gbm_T = 47223.39200000001 :  46215.36\n",
    "* rf : rf_T = 44559.83: 43553.254\n",
    "* ridge : ridge_T = 48138.235: 45653.562\n",
    "* lasso : lasso_T = 45938.11899999999 : 42203.963\n",
    "* lr : lr_T =  47609.629: 48321.268\n",
    "\n",
    "\n",
    "47599,\n",
    "46738,\n",
    "48181,\n",
    "47223,\n",
    "44560,\n",
    "48138,\n",
    "45938,\n",
    "48321\n",
    "\n",
    "\n",
    "46798,\n",
    "45805,\n",
    "46237,\n",
    "46215,\n",
    "43553,\n",
    "45654,\n",
    "42204,\n",
    "47610\n"
   ]
  },
  {
   "cell_type": "markdown",
   "metadata": {},
   "source": [
    "### AOF 1:0\n",
    "* lightgbm : ligthgbm_T = 44520.18200000001 : 36878.71000000001\n",
    "* xgb : xgb_T =  44380.258: 44004.786\n",
    "* dt : dt_T = 47973.918000000005: 44776.588\n",
    "* gbm : gbm_T =  45391.187000000005: 38095.614\n",
    "* rf : rf_T = 46795.33500000001 : 43649.324\n",
    "* ridge : ridge_T = 46167.246999999996: 43128.362\n",
    "* lasso : lasso_T = 45073.066 : 42195.172999999995 \n",
    "* lr : lr_T =  : 46739.427 : 44658.479999999996\n",
    "\n",
    "44520,  # lightgbm\n",
    "45988,  # xgb\n",
    "47974,\n",
    "45391,  # gbm\n",
    "46795,\n",
    "46167,  # ridge\n",
    "45073,\n",
    "46739\n",
    "\n",
    "\n",
    "36879,  # lightgbm\n",
    "44005,  # xgb\n",
    "44777,\n",
    "38096,  # gbm\n",
    "43649,\n",
    "43128,  # ridge\n",
    "42195,\n",
    "44658\n",
    "\n"
   ]
  },
  {
   "cell_type": "code",
   "execution_count": 8,
   "metadata": {},
   "outputs": [
    {
     "data": {
      "text/plain": [
       "0      66668.67\n",
       "1      59460.81\n",
       "2      61186.59\n",
       "3      59748.04\n",
       "4      62342.58\n",
       "         ...   \n",
       "495    48687.51\n",
       "496    43818.14\n",
       "497    52924.89\n",
       "498    51332.20\n",
       "499    48205.66\n",
       "Name: Gets_KB/sec, Length: 500, dtype: float64"
      ]
     },
     "execution_count": 8,
     "metadata": {},
     "output_type": "execute_result"
    }
   ],
   "source": [
    "rdb10_external = pd.read_csv('./result_data/result_rdb10_external.csv', sep=',')\n",
    "rdb10_external['Gets_KB/sec']"
   ]
  },
  {
   "cell_type": "code",
   "execution_count": null,
   "metadata": {},
   "outputs": [],
   "source": []
  }
 ],
 "metadata": {
  "kernelspec": {
   "display_name": "Python 3",
   "language": "python",
   "name": "python3"
  },
  "language_info": {
   "codemirror_mode": {
    "name": "ipython",
    "version": 3
   },
   "file_extension": ".py",
   "mimetype": "text/x-python",
   "name": "python",
   "nbconvert_exporter": "python",
   "pygments_lexer": "ipython3",
   "version": "3.8.5"
  }
 },
 "nbformat": 4,
 "nbformat_minor": 4
}
