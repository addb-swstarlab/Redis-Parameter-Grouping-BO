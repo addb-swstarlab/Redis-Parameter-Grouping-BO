{
 "cells": [
  {
   "cell_type": "markdown",
   "metadata": {},
   "source": [
    "# model"
   ]
  },
  {
   "cell_type": "code",
   "execution_count": 35,
   "metadata": {},
   "outputs": [],
   "source": [
    "import pandas as pd\n",
    "import numpy as np\n",
    "from sklearn.datasets import load_boston\n",
    "import xgboost\n",
    "import matplotlib.pyplot as plt\n",
    "from sklearn.model_selection import train_test_split\n",
    "from sklearn.metrics import explained_variance_score\n",
    "from lightgbm import LGBMRegressor, plot_importance\n",
    "from sklearn.metrics import roc_auc_score"
   ]
  },
  {
   "cell_type": "code",
   "execution_count": 36,
   "metadata": {},
   "outputs": [
    {
     "data": {
      "text/plain": [
       "('dynamic-hz',)"
      ]
     },
     "execution_count": 36,
     "metadata": {},
     "output_type": "execute_result"
    }
   ],
   "source": [
    "        'active-defrag-threshold-lower',\n",
    "        'save0_0',\n",
    "        'save1_0',\n",
    "        'save2_1',\n",
    "        'maxmemory',\n",
    "        'maxmemory-samples',\n",
    "        'hz',\n",
    "        \n",
    "        'rdbcompression',\n",
    "        'lazyfree-lazy-eviction',\n",
    "        'lazyfree-lazy-server-del',\n",
    "        'activerehashing',\n",
    "        'dynamic-hz',"
   ]
  },
  {
   "cell_type": "code",
   "execution_count": 37,
   "metadata": {},
   "outputs": [],
   "source": [
    "# knob 종류 및 바운드\n",
    "\n",
    "[730, 21, 1038, 3, 261, 19, 9438, 'yes', 90, 5, 'yes', 'yes']\n",
    "\n",
    "knobs_rdb = {\n",
    "    \n",
    "    \"hash-max-ziplist-entries\":     (256, 751), \n",
    "    \"hash-max-ziplist-value\": (16, 257),\n",
    "#     \"activerehashing\": ('yes', 'no'),  ##yes\n",
    "#     \"hz\": (1, 41),\n",
    "#     \"dynamic-hz\": ('yes', 'no'),\n",
    "\n",
    "    \"save0_0\": (700,1100),\n",
    "    \"save0_1\": (1,9),\n",
    "    \"save1_0\": (100,500),\n",
    "    \"save1_1\": (10,100),\n",
    "#     \"save2_0\": (30,90),\n",
    "    \"save2_1\": (8000,12000),\n",
    "\n",
    "#     \"rdbcompression\": ('yes', 'no'), ##yes\n",
    "#     \"rdbchecksum\": ('yes', 'no'),    ##yes\n",
    "    \"rdb-save-incremental-fsync\": ('yes', 'no'),   ## yes\n",
    "\n",
    "#     \"activedefrag\": ('yes','no'),  \n",
    "#     \"active-defrag-threshold-lower\": (1, 31),\n",
    "    \"active-defrag-threshold-upper\": (70, 101),\n",
    "    \"active-defrag-cycle-min\": (1, 31),\n",
    "#     \"active-defrag-cycle-max\": (70, 91),\n",
    "    \n",
    "#     \"maxmemory\": (1000, 2900),   ##\"volatile-lru\"\n",
    "#     \"maxmemory-policy\":     (\"volatile-lru\", \"allkeys-lru\", \"volatile-lfu\", \"allkeys-lfu\", \n",
    "#                              \"volatile-random\",\"allkeys-random\", \"volatile-ttl\", \"noeviction\"),\n",
    "#     \"maxmemory-samples\": (3, 7),\n",
    "    \n",
    "    \"lazyfree-lazy-eviction\": ('yes', 'no'),\n",
    "    \"lazyfree-lazy-expire\": ('yes', 'no'),\n",
    "#     \"lazyfree-lazy-server-del\": ('yes', 'no')\n",
    "}\n",
    "\n",
    "\n",
    "knobs_list = list(knobs_rdb.keys())\n",
    "knobs_bound = list(knobs_rdb.values())"
   ]
  },
  {
   "cell_type": "markdown",
   "metadata": {},
   "source": [
    "## 데이터 전처리\n",
    "* 이상치 파악\n",
    "* test, train 데이터 잘 나뉘어졌는지 확인"
   ]
  },
  {
   "cell_type": "code",
   "execution_count": 38,
   "metadata": {},
   "outputs": [],
   "source": [
    "# config(knob) data\n",
    "config_df = pd.read_csv(\"./data/result_config_6000_6.csv\", sep=',')\n",
    "\n",
    "# external(throughput) data\n",
    "external_df = pd.read_csv(\"./data/external_metrics_6000_6.csv\", sep=',')"
   ]
  },
  {
   "cell_type": "code",
   "execution_count": 39,
   "metadata": {},
   "outputs": [],
   "source": [
    "# config(knog), external(throughput) 데이터 하나의 프레임으로 결합\n",
    "dataset = config_df\n",
    "dataset['throughput'] = external_df['Gets_KB/sec']"
   ]
  },
  {
   "cell_type": "code",
   "execution_count": 40,
   "metadata": {},
   "outputs": [
    {
     "data": {
      "text/html": [
       "<div>\n",
       "<style scoped>\n",
       "    .dataframe tbody tr th:only-of-type {\n",
       "        vertical-align: middle;\n",
       "    }\n",
       "\n",
       "    .dataframe tbody tr th {\n",
       "        vertical-align: top;\n",
       "    }\n",
       "\n",
       "    .dataframe thead th {\n",
       "        text-align: right;\n",
       "    }\n",
       "</style>\n",
       "<table border=\"1\" class=\"dataframe\">\n",
       "  <thead>\n",
       "    <tr style=\"text-align: right;\">\n",
       "      <th></th>\n",
       "      <th>appendonly</th>\n",
       "      <th>appendfsync</th>\n",
       "      <th>auto-aof-rewrite-percentage</th>\n",
       "      <th>auto-aof-rewrite-min-size</th>\n",
       "      <th>no-appendfsync-on-rewrite</th>\n",
       "      <th>aof-rewrite-incremental-fsync</th>\n",
       "      <th>aof-use-rdb-preamble</th>\n",
       "      <th>save0_0</th>\n",
       "      <th>save0_1</th>\n",
       "      <th>save1_0</th>\n",
       "      <th>...</th>\n",
       "      <th>maxmemory-samples</th>\n",
       "      <th>lazyfree-lazy-eviction</th>\n",
       "      <th>lazyfree-lazy-expire</th>\n",
       "      <th>lazyfree-lazy-server-del</th>\n",
       "      <th>hash-max-ziplist-entries</th>\n",
       "      <th>hash-max-ziplist-value</th>\n",
       "      <th>activerehashing</th>\n",
       "      <th>hz</th>\n",
       "      <th>dynamic-hz</th>\n",
       "      <th>throughput</th>\n",
       "    </tr>\n",
       "  </thead>\n",
       "  <tbody>\n",
       "    <tr>\n",
       "      <th>0</th>\n",
       "      <td>NaN</td>\n",
       "      <td>NaN</td>\n",
       "      <td>NaN</td>\n",
       "      <td>NaN</td>\n",
       "      <td>NaN</td>\n",
       "      <td>NaN</td>\n",
       "      <td>NaN</td>\n",
       "      <td>805</td>\n",
       "      <td>5</td>\n",
       "      <td>178</td>\n",
       "      <td>...</td>\n",
       "      <td>5</td>\n",
       "      <td>no</td>\n",
       "      <td>yes</td>\n",
       "      <td>yes</td>\n",
       "      <td>258</td>\n",
       "      <td>253</td>\n",
       "      <td>no</td>\n",
       "      <td>7</td>\n",
       "      <td>yes</td>\n",
       "      <td>61645.41</td>\n",
       "    </tr>\n",
       "    <tr>\n",
       "      <th>1</th>\n",
       "      <td>NaN</td>\n",
       "      <td>NaN</td>\n",
       "      <td>NaN</td>\n",
       "      <td>NaN</td>\n",
       "      <td>NaN</td>\n",
       "      <td>NaN</td>\n",
       "      <td>NaN</td>\n",
       "      <td>1097</td>\n",
       "      <td>3</td>\n",
       "      <td>499</td>\n",
       "      <td>...</td>\n",
       "      <td>3</td>\n",
       "      <td>yes</td>\n",
       "      <td>yes</td>\n",
       "      <td>yes</td>\n",
       "      <td>360</td>\n",
       "      <td>226</td>\n",
       "      <td>yes</td>\n",
       "      <td>32</td>\n",
       "      <td>yes</td>\n",
       "      <td>63270.32</td>\n",
       "    </tr>\n",
       "    <tr>\n",
       "      <th>2</th>\n",
       "      <td>NaN</td>\n",
       "      <td>NaN</td>\n",
       "      <td>NaN</td>\n",
       "      <td>NaN</td>\n",
       "      <td>NaN</td>\n",
       "      <td>NaN</td>\n",
       "      <td>NaN</td>\n",
       "      <td>1018</td>\n",
       "      <td>2</td>\n",
       "      <td>497</td>\n",
       "      <td>...</td>\n",
       "      <td>3</td>\n",
       "      <td>yes</td>\n",
       "      <td>yes</td>\n",
       "      <td>yes</td>\n",
       "      <td>364</td>\n",
       "      <td>136</td>\n",
       "      <td>yes</td>\n",
       "      <td>40</td>\n",
       "      <td>no</td>\n",
       "      <td>63602.49</td>\n",
       "    </tr>\n",
       "  </tbody>\n",
       "</table>\n",
       "<p>3 rows × 33 columns</p>\n",
       "</div>"
      ],
      "text/plain": [
       "   appendonly  appendfsync  auto-aof-rewrite-percentage  \\\n",
       "0         NaN          NaN                          NaN   \n",
       "1         NaN          NaN                          NaN   \n",
       "2         NaN          NaN                          NaN   \n",
       "\n",
       "   auto-aof-rewrite-min-size  no-appendfsync-on-rewrite  \\\n",
       "0                        NaN                        NaN   \n",
       "1                        NaN                        NaN   \n",
       "2                        NaN                        NaN   \n",
       "\n",
       "   aof-rewrite-incremental-fsync  aof-use-rdb-preamble  save0_0  save0_1  \\\n",
       "0                            NaN                   NaN      805        5   \n",
       "1                            NaN                   NaN     1097        3   \n",
       "2                            NaN                   NaN     1018        2   \n",
       "\n",
       "   save1_0  ...  maxmemory-samples  lazyfree-lazy-eviction  \\\n",
       "0      178  ...                  5                      no   \n",
       "1      499  ...                  3                     yes   \n",
       "2      497  ...                  3                     yes   \n",
       "\n",
       "   lazyfree-lazy-expire lazyfree-lazy-server-del hash-max-ziplist-entries  \\\n",
       "0                   yes                      yes                      258   \n",
       "1                   yes                      yes                      360   \n",
       "2                   yes                      yes                      364   \n",
       "\n",
       "  hash-max-ziplist-value activerehashing  hz  dynamic-hz  throughput  \n",
       "0                    253              no   7         yes    61645.41  \n",
       "1                    226             yes  32         yes    63270.32  \n",
       "2                    136             yes  40          no    63602.49  \n",
       "\n",
       "[3 rows x 33 columns]"
      ]
     },
     "execution_count": 40,
     "metadata": {},
     "output_type": "execute_result"
    }
   ],
   "source": [
    "dataset.head(3)"
   ]
  },
  {
   "cell_type": "code",
   "execution_count": 41,
   "metadata": {},
   "outputs": [],
   "source": [
    "# 결측치 처리 \n",
    "dataset_nan = dataset.copy()\n",
    "dataset['activedefrag'].fillna(value='no', inplace=True)  # activedefrag no 채우기\n",
    "dataset = dataset.fillna(value = 0)  # 전부 0으로 채움"
   ]
  },
  {
   "cell_type": "code",
   "execution_count": 42,
   "metadata": {},
   "outputs": [],
   "source": [
    "# maxmemory knob 단위(mb) 처리\n",
    "dataset['maxmemory']  = dataset['maxmemory'].str.strip('mb')\n",
    "dataset['maxmemory'] = pd.to_numeric(dataset['maxmemory'])"
   ]
  },
  {
   "cell_type": "code",
   "execution_count": 43,
   "metadata": {},
   "outputs": [],
   "source": [
    "# Object 변수 categorical 로 변경 (LightGBM에 바로 넣기 위해)\n",
    "category_knob = []\n",
    "\n",
    "for knob in dataset:\n",
    "    if dataset[knob].dtype == 'O':  # Object인 경우 category 형으로 변경\n",
    "        dataset[knob] = dataset[knob].astype('category')\n",
    "        if knob in knobs_list:\n",
    "            category_knob.append(knob)"
   ]
  },
  {
   "cell_type": "code",
   "execution_count": 44,
   "metadata": {},
   "outputs": [],
   "source": [
    "# 설정한 knob들만 추출\n",
    "extract_knobs_list = knobs_list.copy()\n",
    "extract_knobs_list.append('throughput')  # target 값 추가\n",
    "\n",
    "dataset = dataset[extract_knobs_list]"
   ]
  },
  {
   "cell_type": "code",
   "execution_count": 45,
   "metadata": {
    "scrolled": true
   },
   "outputs": [
    {
     "name": "stdout",
     "output_type": "stream",
     "text": [
      "<class 'pandas.core.frame.DataFrame'>\n",
      "RangeIndex: 2500 entries, 0 to 2499\n",
      "Data columns (total 33 columns):\n",
      " #   Column                         Non-Null Count  Dtype  \n",
      "---  ------                         --------------  -----  \n",
      " 0   appendonly                     0 non-null      float64\n",
      " 1   appendfsync                    0 non-null      float64\n",
      " 2   auto-aof-rewrite-percentage    0 non-null      float64\n",
      " 3   auto-aof-rewrite-min-size      0 non-null      float64\n",
      " 4   no-appendfsync-on-rewrite      0 non-null      float64\n",
      " 5   aof-rewrite-incremental-fsync  0 non-null      float64\n",
      " 6   aof-use-rdb-preamble           0 non-null      float64\n",
      " 7   save0_0                        2500 non-null   int64  \n",
      " 8   save0_1                        2500 non-null   int64  \n",
      " 9   save1_0                        2500 non-null   int64  \n",
      " 10  save1_1                        2500 non-null   int64  \n",
      " 11  save2_0                        2500 non-null   int64  \n",
      " 12  save2_1                        2500 non-null   int64  \n",
      " 13  rdbcompression                 2500 non-null   object \n",
      " 14  rdbchecksum                    2500 non-null   object \n",
      " 15  rdb-save-incremental-fsync     2500 non-null   object \n",
      " 16  activedefrag                   1252 non-null   object \n",
      " 17  active-defrag-threshold-lower  1252 non-null   float64\n",
      " 18  active-defrag-threshold-upper  1252 non-null   float64\n",
      " 19  active-defrag-cycle-min        1252 non-null   float64\n",
      " 20  active-defrag-cycle-max        1252 non-null   float64\n",
      " 21  maxmemory                      2500 non-null   object \n",
      " 22  maxmemory-policy               2500 non-null   object \n",
      " 23  maxmemory-samples              2500 non-null   int64  \n",
      " 24  lazyfree-lazy-eviction         2500 non-null   object \n",
      " 25  lazyfree-lazy-expire           2500 non-null   object \n",
      " 26  lazyfree-lazy-server-del       2500 non-null   object \n",
      " 27  hash-max-ziplist-entries       2500 non-null   int64  \n",
      " 28  hash-max-ziplist-value         2500 non-null   int64  \n",
      " 29  activerehashing                2500 non-null   object \n",
      " 30  hz                             2500 non-null   int64  \n",
      " 31  dynamic-hz                     2500 non-null   object \n",
      " 32  throughput                     2500 non-null   float64\n",
      "dtypes: float64(12), int64(10), object(11)\n",
      "memory usage: 644.7+ KB\n",
      "None\n",
      "<class 'pandas.core.frame.DataFrame'>\n",
      "RangeIndex: 2500 entries, 0 to 2499\n",
      "Data columns (total 13 columns):\n",
      " #   Column                         Non-Null Count  Dtype   \n",
      "---  ------                         --------------  -----   \n",
      " 0   hash-max-ziplist-entries       2500 non-null   int64   \n",
      " 1   hash-max-ziplist-value         2500 non-null   int64   \n",
      " 2   save0_0                        2500 non-null   int64   \n",
      " 3   save0_1                        2500 non-null   int64   \n",
      " 4   save1_0                        2500 non-null   int64   \n",
      " 5   save1_1                        2500 non-null   int64   \n",
      " 6   save2_1                        2500 non-null   int64   \n",
      " 7   rdb-save-incremental-fsync     2500 non-null   category\n",
      " 8   active-defrag-threshold-upper  2500 non-null   float64 \n",
      " 9   active-defrag-cycle-min        2500 non-null   float64 \n",
      " 10  lazyfree-lazy-eviction         2500 non-null   category\n",
      " 11  lazyfree-lazy-expire           2500 non-null   category\n",
      " 12  throughput                     2500 non-null   float64 \n",
      "dtypes: category(3), float64(3), int64(7)\n",
      "memory usage: 203.1 KB\n",
      "None\n"
     ]
    }
   ],
   "source": [
    "# 결측치 처리전 확인\n",
    "print(dataset_nan.info())\n",
    "\n",
    "# 결측치 처리후 확인\n",
    "print(dataset.info())"
   ]
  },
  {
   "cell_type": "markdown",
   "metadata": {},
   "source": [
    "### 이상치 처리"
   ]
  },
  {
   "cell_type": "code",
   "execution_count": 46,
   "metadata": {},
   "outputs": [
    {
     "data": {
      "text/html": [
       "<div>\n",
       "<style scoped>\n",
       "    .dataframe tbody tr th:only-of-type {\n",
       "        vertical-align: middle;\n",
       "    }\n",
       "\n",
       "    .dataframe tbody tr th {\n",
       "        vertical-align: top;\n",
       "    }\n",
       "\n",
       "    .dataframe thead th {\n",
       "        text-align: right;\n",
       "    }\n",
       "</style>\n",
       "<table border=\"1\" class=\"dataframe\">\n",
       "  <thead>\n",
       "    <tr style=\"text-align: right;\">\n",
       "      <th></th>\n",
       "      <th>hash-max-ziplist-entries</th>\n",
       "      <th>hash-max-ziplist-value</th>\n",
       "      <th>save0_0</th>\n",
       "      <th>save0_1</th>\n",
       "      <th>save1_0</th>\n",
       "      <th>save1_1</th>\n",
       "      <th>save2_1</th>\n",
       "      <th>active-defrag-threshold-upper</th>\n",
       "      <th>active-defrag-cycle-min</th>\n",
       "      <th>throughput</th>\n",
       "    </tr>\n",
       "  </thead>\n",
       "  <tbody>\n",
       "    <tr>\n",
       "      <th>count</th>\n",
       "      <td>2500.000000</td>\n",
       "      <td>2500.000000</td>\n",
       "      <td>2500.000000</td>\n",
       "      <td>2500.000000</td>\n",
       "      <td>2500.00000</td>\n",
       "      <td>2500.000000</td>\n",
       "      <td>2500.000000</td>\n",
       "      <td>2500.000000</td>\n",
       "      <td>2500.000000</td>\n",
       "      <td>2500.000000</td>\n",
       "    </tr>\n",
       "    <tr>\n",
       "      <th>mean</th>\n",
       "      <td>505.647200</td>\n",
       "      <td>136.469200</td>\n",
       "      <td>895.984000</td>\n",
       "      <td>5.002000</td>\n",
       "      <td>301.26200</td>\n",
       "      <td>55.756000</td>\n",
       "      <td>9979.238400</td>\n",
       "      <td>42.668000</td>\n",
       "      <td>7.836000</td>\n",
       "      <td>58662.946124</td>\n",
       "    </tr>\n",
       "    <tr>\n",
       "      <th>std</th>\n",
       "      <td>143.769327</td>\n",
       "      <td>69.880698</td>\n",
       "      <td>116.627749</td>\n",
       "      <td>2.603057</td>\n",
       "      <td>116.01361</td>\n",
       "      <td>25.954813</td>\n",
       "      <td>1168.360083</td>\n",
       "      <td>43.087943</td>\n",
       "      <td>9.952363</td>\n",
       "      <td>3374.542926</td>\n",
       "    </tr>\n",
       "    <tr>\n",
       "      <th>min</th>\n",
       "      <td>256.000000</td>\n",
       "      <td>16.000000</td>\n",
       "      <td>700.000000</td>\n",
       "      <td>1.000000</td>\n",
       "      <td>100.00000</td>\n",
       "      <td>10.000000</td>\n",
       "      <td>8000.000000</td>\n",
       "      <td>0.000000</td>\n",
       "      <td>0.000000</td>\n",
       "      <td>47520.430000</td>\n",
       "    </tr>\n",
       "    <tr>\n",
       "      <th>25%</th>\n",
       "      <td>383.000000</td>\n",
       "      <td>76.000000</td>\n",
       "      <td>794.000000</td>\n",
       "      <td>3.000000</td>\n",
       "      <td>202.00000</td>\n",
       "      <td>33.000000</td>\n",
       "      <td>8957.250000</td>\n",
       "      <td>0.000000</td>\n",
       "      <td>0.000000</td>\n",
       "      <td>55643.050000</td>\n",
       "    </tr>\n",
       "    <tr>\n",
       "      <th>50%</th>\n",
       "      <td>504.000000</td>\n",
       "      <td>136.000000</td>\n",
       "      <td>891.000000</td>\n",
       "      <td>5.000000</td>\n",
       "      <td>302.00000</td>\n",
       "      <td>56.000000</td>\n",
       "      <td>9958.500000</td>\n",
       "      <td>70.000000</td>\n",
       "      <td>1.000000</td>\n",
       "      <td>59031.920000</td>\n",
       "    </tr>\n",
       "    <tr>\n",
       "      <th>75%</th>\n",
       "      <td>632.000000</td>\n",
       "      <td>199.000000</td>\n",
       "      <td>997.000000</td>\n",
       "      <td>7.000000</td>\n",
       "      <td>402.00000</td>\n",
       "      <td>78.000000</td>\n",
       "      <td>10999.500000</td>\n",
       "      <td>85.000000</td>\n",
       "      <td>16.000000</td>\n",
       "      <td>61586.640000</td>\n",
       "    </tr>\n",
       "    <tr>\n",
       "      <th>max</th>\n",
       "      <td>750.000000</td>\n",
       "      <td>256.000000</td>\n",
       "      <td>1100.000000</td>\n",
       "      <td>9.000000</td>\n",
       "      <td>500.00000</td>\n",
       "      <td>100.000000</td>\n",
       "      <td>11996.000000</td>\n",
       "      <td>100.000000</td>\n",
       "      <td>30.000000</td>\n",
       "      <td>66377.650000</td>\n",
       "    </tr>\n",
       "  </tbody>\n",
       "</table>\n",
       "</div>"
      ],
      "text/plain": [
       "       hash-max-ziplist-entries  hash-max-ziplist-value      save0_0  \\\n",
       "count               2500.000000             2500.000000  2500.000000   \n",
       "mean                 505.647200              136.469200   895.984000   \n",
       "std                  143.769327               69.880698   116.627749   \n",
       "min                  256.000000               16.000000   700.000000   \n",
       "25%                  383.000000               76.000000   794.000000   \n",
       "50%                  504.000000              136.000000   891.000000   \n",
       "75%                  632.000000              199.000000   997.000000   \n",
       "max                  750.000000              256.000000  1100.000000   \n",
       "\n",
       "           save0_1     save1_0      save1_1       save2_1  \\\n",
       "count  2500.000000  2500.00000  2500.000000   2500.000000   \n",
       "mean      5.002000   301.26200    55.756000   9979.238400   \n",
       "std       2.603057   116.01361    25.954813   1168.360083   \n",
       "min       1.000000   100.00000    10.000000   8000.000000   \n",
       "25%       3.000000   202.00000    33.000000   8957.250000   \n",
       "50%       5.000000   302.00000    56.000000   9958.500000   \n",
       "75%       7.000000   402.00000    78.000000  10999.500000   \n",
       "max       9.000000   500.00000   100.000000  11996.000000   \n",
       "\n",
       "       active-defrag-threshold-upper  active-defrag-cycle-min    throughput  \n",
       "count                    2500.000000              2500.000000   2500.000000  \n",
       "mean                       42.668000                 7.836000  58662.946124  \n",
       "std                        43.087943                 9.952363   3374.542926  \n",
       "min                         0.000000                 0.000000  47520.430000  \n",
       "25%                         0.000000                 0.000000  55643.050000  \n",
       "50%                        70.000000                 1.000000  59031.920000  \n",
       "75%                        85.000000                16.000000  61586.640000  \n",
       "max                       100.000000                30.000000  66377.650000  "
      ]
     },
     "execution_count": 46,
     "metadata": {},
     "output_type": "execute_result"
    }
   ],
   "source": [
    "# -999999와 같은 이상치 확인 -> 없음\n",
    "dataset.describe()"
   ]
  },
  {
   "cell_type": "code",
   "execution_count": 47,
   "metadata": {},
   "outputs": [
    {
     "data": {
      "text/plain": [
       "<AxesSubplot:>"
      ]
     },
     "execution_count": 47,
     "metadata": {},
     "output_type": "execute_result"
    },
    {
     "data": {
      "image/png": "[encoded data removed]",
      "text/plain": [
       "<Figure size 432x288 with 1 Axes>"
      ]
     },
     "metadata": {
      "needs_background": "light"
     },
     "output_type": "display_data"
    }
   ],
   "source": [
    "# 이상치 파악 \n",
    "dataset['throughput'].hist()"
   ]
  },
  {
   "cell_type": "code",
   "execution_count": 48,
   "metadata": {},
   "outputs": [
    {
     "name": "stdout",
     "output_type": "stream",
     "text": [
      "289     50567.71\n",
      "1662    48151.93\n",
      "1795    47520.43\n",
      "1819    52479.91\n",
      "1829    52219.64\n",
      "1869    52156.25\n",
      "1871    52365.91\n",
      "1872    52402.46\n",
      "1918    49023.47\n",
      "1941    52407.46\n",
      "1972    52470.66\n",
      "1994    51419.62\n",
      "2277    48485.40\n",
      "2400    50734.14\n",
      "2437    47543.22\n",
      "Name: throughput, dtype: float64\n",
      "개수:  15\n"
     ]
    }
   ],
   "source": [
    "# 인덱스제거하고 돌려보자\n",
    "print(dataset['throughput'][dataset['throughput'] <= 52500])\n",
    "outlier_index = dataset['throughput'][dataset['throughput'] <= 52500].index\n",
    "print('개수: ', len(outlier_index))"
   ]
  },
  {
   "cell_type": "code",
   "execution_count": 49,
   "metadata": {},
   "outputs": [
    {
     "data": {
      "image/png": "[encoded data removed]",
      "text/plain": [
       "<Figure size 432x288 with 1 Axes>"
      ]
     },
     "metadata": {
      "needs_background": "light"
     },
     "output_type": "display_data"
    }
   ],
   "source": [
    "# 이상치로 분류되진 않지만 제거한다. \n",
    "import seaborn as sns\n",
    "sns.boxplot(x = \"throughput\",data = dataset )\n",
    "plt.show()"
   ]
  },
  {
   "cell_type": "code",
   "execution_count": 50,
   "metadata": {},
   "outputs": [],
   "source": [
    "# # 이상치 제거\n",
    "# dataset = dataset.drop(outlier_index)"
   ]
  },
  {
   "cell_type": "code",
   "execution_count": 51,
   "metadata": {},
   "outputs": [
    {
     "data": {
      "text/plain": [
       "(2500, 13)"
      ]
     },
     "execution_count": 51,
     "metadata": {},
     "output_type": "execute_result"
    }
   ],
   "source": [
    "# 이상치 제거 확인\n",
    "dataset.shape"
   ]
  },
  {
   "cell_type": "markdown",
   "metadata": {},
   "source": [
    "### test, train 데이터 분리"
   ]
  },
  {
   "cell_type": "code",
   "execution_count": 52,
   "metadata": {},
   "outputs": [],
   "source": [
    "# test, train 데이터로 분리\n",
    "X_train, X_test, y_train, y_test = train_test_split(dataset.iloc[:,:-1]\n",
    "                                                    , dataset['throughput'] \n",
    "                                                    ,test_size=0.2\n",
    "                                                   , random_state = 156)\n"
   ]
  },
  {
   "cell_type": "code",
   "execution_count": 53,
   "metadata": {},
   "outputs": [
    {
     "data": {
      "text/html": [
       "<div>\n",
       "<style scoped>\n",
       "    .dataframe tbody tr th:only-of-type {\n",
       "        vertical-align: middle;\n",
       "    }\n",
       "\n",
       "    .dataframe tbody tr th {\n",
       "        vertical-align: top;\n",
       "    }\n",
       "\n",
       "    .dataframe thead th {\n",
       "        text-align: right;\n",
       "    }\n",
       "</style>\n",
       "<table border=\"1\" class=\"dataframe\">\n",
       "  <thead>\n",
       "    <tr style=\"text-align: right;\">\n",
       "      <th></th>\n",
       "      <th>hash-max-ziplist-entries</th>\n",
       "      <th>hash-max-ziplist-value</th>\n",
       "      <th>save0_0</th>\n",
       "      <th>save0_1</th>\n",
       "      <th>save1_0</th>\n",
       "      <th>save1_1</th>\n",
       "      <th>save2_1</th>\n",
       "      <th>rdb-save-incremental-fsync</th>\n",
       "      <th>active-defrag-threshold-upper</th>\n",
       "      <th>active-defrag-cycle-min</th>\n",
       "      <th>lazyfree-lazy-eviction</th>\n",
       "      <th>lazyfree-lazy-expire</th>\n",
       "    </tr>\n",
       "  </thead>\n",
       "  <tbody>\n",
       "    <tr>\n",
       "      <th>1716</th>\n",
       "      <td>656</td>\n",
       "      <td>49</td>\n",
       "      <td>838</td>\n",
       "      <td>4</td>\n",
       "      <td>205</td>\n",
       "      <td>67</td>\n",
       "      <td>10529</td>\n",
       "      <td>no</td>\n",
       "      <td>0.0</td>\n",
       "      <td>0.0</td>\n",
       "      <td>no</td>\n",
       "      <td>no</td>\n",
       "    </tr>\n",
       "    <tr>\n",
       "      <th>486</th>\n",
       "      <td>578</td>\n",
       "      <td>93</td>\n",
       "      <td>795</td>\n",
       "      <td>3</td>\n",
       "      <td>193</td>\n",
       "      <td>79</td>\n",
       "      <td>11917</td>\n",
       "      <td>no</td>\n",
       "      <td>0.0</td>\n",
       "      <td>0.0</td>\n",
       "      <td>yes</td>\n",
       "      <td>no</td>\n",
       "    </tr>\n",
       "    <tr>\n",
       "      <th>1803</th>\n",
       "      <td>521</td>\n",
       "      <td>31</td>\n",
       "      <td>1100</td>\n",
       "      <td>6</td>\n",
       "      <td>497</td>\n",
       "      <td>50</td>\n",
       "      <td>8122</td>\n",
       "      <td>yes</td>\n",
       "      <td>0.0</td>\n",
       "      <td>0.0</td>\n",
       "      <td>no</td>\n",
       "      <td>yes</td>\n",
       "    </tr>\n",
       "    <tr>\n",
       "      <th>1279</th>\n",
       "      <td>418</td>\n",
       "      <td>118</td>\n",
       "      <td>735</td>\n",
       "      <td>1</td>\n",
       "      <td>209</td>\n",
       "      <td>16</td>\n",
       "      <td>11753</td>\n",
       "      <td>no</td>\n",
       "      <td>0.0</td>\n",
       "      <td>0.0</td>\n",
       "      <td>no</td>\n",
       "      <td>yes</td>\n",
       "    </tr>\n",
       "    <tr>\n",
       "      <th>1642</th>\n",
       "      <td>376</td>\n",
       "      <td>47</td>\n",
       "      <td>818</td>\n",
       "      <td>6</td>\n",
       "      <td>255</td>\n",
       "      <td>76</td>\n",
       "      <td>10283</td>\n",
       "      <td>no</td>\n",
       "      <td>0.0</td>\n",
       "      <td>0.0</td>\n",
       "      <td>no</td>\n",
       "      <td>yes</td>\n",
       "    </tr>\n",
       "  </tbody>\n",
       "</table>\n",
       "</div>"
      ],
      "text/plain": [
       "      hash-max-ziplist-entries  hash-max-ziplist-value  save0_0  save0_1  \\\n",
       "1716                       656                      49      838        4   \n",
       "486                        578                      93      795        3   \n",
       "1803                       521                      31     1100        6   \n",
       "1279                       418                     118      735        1   \n",
       "1642                       376                      47      818        6   \n",
       "\n",
       "      save1_0  save1_1  save2_1 rdb-save-incremental-fsync  \\\n",
       "1716      205       67    10529                         no   \n",
       "486       193       79    11917                         no   \n",
       "1803      497       50     8122                        yes   \n",
       "1279      209       16    11753                         no   \n",
       "1642      255       76    10283                         no   \n",
       "\n",
       "      active-defrag-threshold-upper  active-defrag-cycle-min  \\\n",
       "1716                            0.0                      0.0   \n",
       "486                             0.0                      0.0   \n",
       "1803                            0.0                      0.0   \n",
       "1279                            0.0                      0.0   \n",
       "1642                            0.0                      0.0   \n",
       "\n",
       "     lazyfree-lazy-eviction lazyfree-lazy-expire  \n",
       "1716                     no                   no  \n",
       "486                     yes                   no  \n",
       "1803                     no                  yes  \n",
       "1279                     no                  yes  \n",
       "1642                     no                  yes  "
      ]
     },
     "execution_count": 53,
     "metadata": {},
     "output_type": "execute_result"
    }
   ],
   "source": [
    "# X_train 확인\n",
    "X_train.head()"
   ]
  },
  {
   "cell_type": "code",
   "execution_count": 54,
   "metadata": {},
   "outputs": [
    {
     "data": {
      "image/png": "[encoded data removed]",
      "text/plain": [
       "<Figure size 432x288 with 1 Axes>"
      ]
     },
     "metadata": {
      "needs_background": "light"
     },
     "output_type": "display_data"
    },
    {
     "data": {
      "image/png": "[encoded data removed]",
      "text/plain": [
       "<Figure size 432x288 with 1 Axes>"
      ]
     },
     "metadata": {
      "needs_background": "light"
     },
     "output_type": "display_data"
    }
   ],
   "source": [
    "# test, train 에 비슷하게 분류됬는지 확인\n",
    "y_train.hist()\n",
    "plt.title('train data')\n",
    "plt.show()\n",
    "\n",
    "y_test.hist()\n",
    "plt.title('test data')\n",
    "plt.show()"
   ]
  },
  {
   "cell_type": "markdown",
   "metadata": {},
   "source": [
    "## LightGBM 모델 생성"
   ]
  },
  {
   "cell_type": "code",
   "execution_count": 56,
   "metadata": {},
   "outputs": [
    {
     "name": "stdout",
     "output_type": "stream",
     "text": [
      "[1]\tvalid_0's auc: 1\tvalid_0's l2: 1.22367e+07\n",
      "Training until validation scores don't improve for 100 rounds\n",
      "[2]\tvalid_0's auc: 1\tvalid_0's l2: 1.2285e+07\n",
      "[3]\tvalid_0's auc: 1\tvalid_0's l2: 1.235e+07\n",
      "[4]\tvalid_0's auc: 1\tvalid_0's l2: 1.23124e+07\n",
      "[5]\tvalid_0's auc: 1\tvalid_0's l2: 1.23205e+07\n",
      "[6]\tvalid_0's auc: 1\tvalid_0's l2: 1.23881e+07\n",
      "[7]\tvalid_0's auc: 1\tvalid_0's l2: 1.24171e+07\n",
      "[8]\tvalid_0's auc: 1\tvalid_0's l2: 1.24589e+07\n",
      "[9]\tvalid_0's auc: 1\tvalid_0's l2: 1.24983e+07\n",
      "[10]\tvalid_0's auc: 1\tvalid_0's l2: 1.25159e+07\n",
      "[11]\tvalid_0's auc: 1\tvalid_0's l2: 1.25763e+07\n",
      "[12]\tvalid_0's auc: 1\tvalid_0's l2: 1.25483e+07\n",
      "[13]\tvalid_0's auc: 1\tvalid_0's l2: 1.25662e+07\n",
      "[14]\tvalid_0's auc: 1\tvalid_0's l2: 1.25631e+07\n",
      "[15]\tvalid_0's auc: 1\tvalid_0's l2: 1.25777e+07\n",
      "[16]\tvalid_0's auc: 1\tvalid_0's l2: 1.26092e+07\n",
      "[17]\tvalid_0's auc: 1\tvalid_0's l2: 1.26212e+07\n",
      "[18]\tvalid_0's auc: 1\tvalid_0's l2: 1.26687e+07\n",
      "[19]\tvalid_0's auc: 1\tvalid_0's l2: 1.26896e+07\n",
      "[20]\tvalid_0's auc: 1\tvalid_0's l2: 1.27131e+07\n",
      "[21]\tvalid_0's auc: 1\tvalid_0's l2: 1.26974e+07\n",
      "[22]\tvalid_0's auc: 1\tvalid_0's l2: 1.26931e+07\n",
      "[23]\tvalid_0's auc: 1\tvalid_0's l2: 1.26781e+07\n",
      "[24]\tvalid_0's auc: 1\tvalid_0's l2: 1.26976e+07\n",
      "[25]\tvalid_0's auc: 1\tvalid_0's l2: 1.27211e+07\n",
      "[26]\tvalid_0's auc: 1\tvalid_0's l2: 1.27159e+07\n",
      "[27]\tvalid_0's auc: 1\tvalid_0's l2: 1.2711e+07\n",
      "[28]\tvalid_0's auc: 1\tvalid_0's l2: 1.26654e+07\n",
      "[29]\tvalid_0's auc: 1\tvalid_0's l2: 1.27253e+07\n",
      "[30]\tvalid_0's auc: 1\tvalid_0's l2: 1.27447e+07\n",
      "[31]\tvalid_0's auc: 1\tvalid_0's l2: 1.27883e+07\n",
      "[32]\tvalid_0's auc: 1\tvalid_0's l2: 1.27941e+07\n",
      "[33]\tvalid_0's auc: 1\tvalid_0's l2: 1.28037e+07\n",
      "[34]\tvalid_0's auc: 1\tvalid_0's l2: 1.28247e+07\n",
      "[35]\tvalid_0's auc: 1\tvalid_0's l2: 1.28131e+07\n",
      "[36]\tvalid_0's auc: 1\tvalid_0's l2: 1.28658e+07\n",
      "[37]\tvalid_0's auc: 1\tvalid_0's l2: 1.28511e+07\n",
      "[38]\tvalid_0's auc: 1\tvalid_0's l2: 1.28426e+07\n",
      "[39]\tvalid_0's auc: 1\tvalid_0's l2: 1.28345e+07\n",
      "[40]\tvalid_0's auc: 1\tvalid_0's l2: 1.28613e+07\n",
      "[41]\tvalid_0's auc: 1\tvalid_0's l2: 1.28989e+07\n",
      "[42]\tvalid_0's auc: 1\tvalid_0's l2: 1.28833e+07\n",
      "[43]\tvalid_0's auc: 1\tvalid_0's l2: 1.29556e+07\n",
      "[44]\tvalid_0's auc: 1\tvalid_0's l2: 1.29686e+07\n",
      "[45]\tvalid_0's auc: 1\tvalid_0's l2: 1.29763e+07\n",
      "[46]\tvalid_0's auc: 1\tvalid_0's l2: 1.29441e+07\n",
      "[47]\tvalid_0's auc: 1\tvalid_0's l2: 1.2959e+07\n",
      "[48]\tvalid_0's auc: 1\tvalid_0's l2: 1.297e+07\n",
      "[49]\tvalid_0's auc: 1\tvalid_0's l2: 1.29976e+07\n",
      "[50]\tvalid_0's auc: 1\tvalid_0's l2: 1.3019e+07\n",
      "[51]\tvalid_0's auc: 1\tvalid_0's l2: 1.303e+07\n",
      "[52]\tvalid_0's auc: 1\tvalid_0's l2: 1.3049e+07\n",
      "[53]\tvalid_0's auc: 1\tvalid_0's l2: 1.308e+07\n",
      "[54]\tvalid_0's auc: 1\tvalid_0's l2: 1.31021e+07\n",
      "[55]\tvalid_0's auc: 1\tvalid_0's l2: 1.3114e+07\n",
      "[56]\tvalid_0's auc: 1\tvalid_0's l2: 1.30847e+07\n",
      "[57]\tvalid_0's auc: 1\tvalid_0's l2: 1.31246e+07\n",
      "[58]\tvalid_0's auc: 1\tvalid_0's l2: 1.31222e+07\n",
      "[59]\tvalid_0's auc: 1\tvalid_0's l2: 1.31345e+07\n",
      "[60]\tvalid_0's auc: 1\tvalid_0's l2: 1.31432e+07\n",
      "[61]\tvalid_0's auc: 1\tvalid_0's l2: 1.31295e+07\n",
      "[62]\tvalid_0's auc: 1\tvalid_0's l2: 1.31731e+07\n",
      "[63]\tvalid_0's auc: 1\tvalid_0's l2: 1.31889e+07\n",
      "[64]\tvalid_0's auc: 1\tvalid_0's l2: 1.31741e+07\n",
      "[65]\tvalid_0's auc: 1\tvalid_0's l2: 1.31973e+07\n",
      "[66]\tvalid_0's auc: 1\tvalid_0's l2: 1.32075e+07\n",
      "[67]\tvalid_0's auc: 1\tvalid_0's l2: 1.32067e+07\n",
      "[68]\tvalid_0's auc: 1\tvalid_0's l2: 1.32075e+07\n",
      "[69]\tvalid_0's auc: 1\tvalid_0's l2: 1.31948e+07\n",
      "[70]\tvalid_0's auc: 1\tvalid_0's l2: 1.31963e+07\n",
      "[71]\tvalid_0's auc: 1\tvalid_0's l2: 1.31848e+07\n",
      "[72]\tvalid_0's auc: 1\tvalid_0's l2: 1.32161e+07\n",
      "[73]\tvalid_0's auc: 1\tvalid_0's l2: 1.32327e+07\n",
      "[74]\tvalid_0's auc: 1\tvalid_0's l2: 1.32341e+07\n",
      "[75]\tvalid_0's auc: 1\tvalid_0's l2: 1.32663e+07\n",
      "[76]\tvalid_0's auc: 1\tvalid_0's l2: 1.3241e+07\n",
      "[77]\tvalid_0's auc: 1\tvalid_0's l2: 1.32438e+07\n",
      "[78]\tvalid_0's auc: 1\tvalid_0's l2: 1.3238e+07\n",
      "[79]\tvalid_0's auc: 1\tvalid_0's l2: 1.32647e+07\n",
      "[80]\tvalid_0's auc: 1\tvalid_0's l2: 1.32864e+07\n",
      "[81]\tvalid_0's auc: 1\tvalid_0's l2: 1.33099e+07\n",
      "[82]\tvalid_0's auc: 1\tvalid_0's l2: 1.33132e+07\n",
      "[83]\tvalid_0's auc: 1\tvalid_0's l2: 1.33254e+07\n",
      "[84]\tvalid_0's auc: 1\tvalid_0's l2: 1.33519e+07\n",
      "[85]\tvalid_0's auc: 1\tvalid_0's l2: 1.33637e+07\n",
      "[86]\tvalid_0's auc: 1\tvalid_0's l2: 1.33685e+07\n",
      "[87]\tvalid_0's auc: 1\tvalid_0's l2: 1.33522e+07\n",
      "[88]\tvalid_0's auc: 1\tvalid_0's l2: 1.33449e+07\n",
      "[89]\tvalid_0's auc: 1\tvalid_0's l2: 1.33378e+07\n",
      "[90]\tvalid_0's auc: 1\tvalid_0's l2: 1.3376e+07\n",
      "[91]\tvalid_0's auc: 1\tvalid_0's l2: 1.33995e+07\n",
      "[92]\tvalid_0's auc: 1\tvalid_0's l2: 1.34123e+07\n",
      "[93]\tvalid_0's auc: 1\tvalid_0's l2: 1.34479e+07\n",
      "[94]\tvalid_0's auc: 1\tvalid_0's l2: 1.34743e+07\n",
      "[95]\tvalid_0's auc: 1\tvalid_0's l2: 1.35082e+07\n",
      "[96]\tvalid_0's auc: 1\tvalid_0's l2: 1.35154e+07\n",
      "[97]\tvalid_0's auc: 1\tvalid_0's l2: 1.34999e+07\n",
      "[98]\tvalid_0's auc: 1\tvalid_0's l2: 1.34981e+07\n",
      "[99]\tvalid_0's auc: 1\tvalid_0's l2: 1.35178e+07\n",
      "[100]\tvalid_0's auc: 1\tvalid_0's l2: 1.35363e+07\n",
      "[101]\tvalid_0's auc: 1\tvalid_0's l2: 1.35434e+07\n",
      "Early stopping, best iteration is:\n",
      "[1]\tvalid_0's auc: 1\tvalid_0's l2: 1.22367e+07\n"
     ]
    },
    {
     "data": {
      "text/plain": [
       "LGBMRegressor(n_estimators=1000)"
      ]
     },
     "execution_count": 56,
     "metadata": {},
     "output_type": "execute_result"
    }
   ],
   "source": [
    "# 모델 객체 생성, n_estimators = 400으로 설정\n",
    "lgbm_wrapper = LGBMRegressor(n_estimators=1000, learning_rate=0.1)\n",
    "\n",
    "# 검증 데이터(validation data)\n",
    "evals = [(X_test, y_test)]\n",
    "\n",
    "lgbm_wrapper.fit(X_train, y_train, early_stopping_rounds=100, eval_metric='auc',\n",
    "                eval_set = evals, verbose = True)"
   ]
  },
  {
   "cell_type": "code",
   "execution_count": 57,
   "metadata": {},
   "outputs": [
    {
     "data": {
      "text/plain": [
       "array([58741.45026427, 58450.87457437, 58741.45026427, 58513.89064146,\n",
       "       58683.77622319, 58688.89617659, 58629.62444421, 58629.62444421,\n",
       "       58432.79478811, 58741.45026427, 58432.79478811, 58643.31673634,\n",
       "       58469.59941438, 58469.59941438, 58493.07530827, 58643.31673634,\n",
       "       58432.79478811, 58513.89064146, 58643.31673634, 58754.62392961,\n",
       "       58643.31673634, 58741.45026427, 58629.62444421, 58741.45026427,\n",
       "       58629.62444421, 58754.62392961, 58629.62444421, 58629.62444421,\n",
       "       58641.31886792, 58629.62444421, 58643.31673634, 58641.31886792,\n",
       "       58629.62444421, 58726.39671818, 58741.45026427, 58629.62444421,\n",
       "       58894.21000472, 58493.07530827, 58741.45026427, 58526.13347382,\n",
       "       58742.91359277, 58513.89064146, 58526.13347382, 58629.62444421,\n",
       "       58629.62444421, 58641.31886792, 58829.26063276, 58641.31886792,\n",
       "       58496.7597847 , 58688.89617659, 58526.13347382, 58432.79478811,\n",
       "       58829.26063276, 58629.62444421, 58770.93099142, 58629.62444421,\n",
       "       58894.21000472, 58829.26063276, 58629.62444421, 58409.72391284,\n",
       "       58493.07530827, 58629.62444421, 58629.62444421, 58823.55572308,\n",
       "       58741.45026427, 58741.45026427, 58513.89064146, 58741.45026427,\n",
       "       58643.31673634, 58469.59941438, 58741.45026427, 58629.62444421,\n",
       "       58741.45026427, 58629.62444421, 58770.93099142, 58641.31886792,\n",
       "       58741.45026427, 58741.45026427, 58697.62114803, 58823.55572308,\n",
       "       58683.77622319, 58741.45026427, 58469.59941438, 58629.62444421,\n",
       "       58714.09845245, 58726.39671818, 58741.45026427, 58629.62444421,\n",
       "       58629.62444421, 58629.62444421, 58741.45026427, 58469.59941438,\n",
       "       58469.59941438, 58629.62444421, 58629.62444421, 58683.77622319,\n",
       "       58697.62114803, 58741.45026427, 58754.62392961, 58754.62392961,\n",
       "       58496.7597847 , 58493.07530827, 58741.45026427, 58629.62444421,\n",
       "       58629.62444421, 58629.62444421, 58629.62444421, 58513.89064146,\n",
       "       58693.59193558, 58741.45026427, 58409.72391284, 58629.62444421,\n",
       "       58741.45026427, 58629.62444421, 58697.62114803, 58688.89617659,\n",
       "       58683.77622319, 58629.62444421, 58641.31886792, 58741.45026427,\n",
       "       58643.31673634, 58823.55572308, 58694.56728075, 58432.79478811,\n",
       "       58741.45026427, 58629.62444421, 58432.79478811, 58629.62444421,\n",
       "       58629.62444421, 58618.36448211, 58688.89617659, 58741.45026427,\n",
       "       58829.26063276, 58688.89617659, 58741.45026427, 58693.59193558,\n",
       "       58697.62114803, 58629.62444421, 58629.62444421, 58513.89064146,\n",
       "       58643.31673634, 58693.59193558, 58629.62444421, 58823.55572308,\n",
       "       58688.89617659, 58589.70174553, 58629.62444421, 58496.7597847 ,\n",
       "       58693.59193558, 58741.45026427, 58432.79478811, 58629.62444421,\n",
       "       58823.55572308, 58589.70174553, 58409.72391284, 58643.31673634,\n",
       "       58643.31673634, 58629.62444421, 58629.62444421, 58714.09845245,\n",
       "       58629.62444421, 58649.4581789 , 58741.45026427, 58493.07530827,\n",
       "       58770.93099142, 58847.64722536, 58469.59941438, 58513.89064146,\n",
       "       58697.62114803, 58829.26063276, 58629.62444421, 58829.26063276,\n",
       "       58754.62392961, 58726.39671818, 58894.21000472, 58754.62392961,\n",
       "       58754.62392961, 58496.7597847 , 58683.77622319, 58714.09845245,\n",
       "       58726.39671818, 58629.62444421, 58643.31673634, 58641.31886792,\n",
       "       58629.62444421, 58589.70174553, 58823.55572308, 58629.62444421,\n",
       "       58847.64722536, 58694.56728075, 58513.89064146, 58688.89617659,\n",
       "       58409.72391284, 58629.62444421, 58629.62444421, 58513.89064146,\n",
       "       58829.26063276, 58770.93099142, 58629.62444421, 58741.45026427,\n",
       "       58770.93099142, 58432.79478811, 58629.62444421, 58741.45026427,\n",
       "       58629.62444421, 58629.62444421, 58643.31673634, 58823.55572308,\n",
       "       58851.13442207, 58629.62444421, 58618.36448211, 58847.64722536,\n",
       "       58409.72391284, 58526.13347382, 58629.62444421, 58409.72391284,\n",
       "       58688.89617659, 58823.55572308, 58641.31886792, 58629.62444421,\n",
       "       58741.45026427, 58629.62444421, 58683.77622319, 58683.77622319,\n",
       "       58629.62444421, 58629.62444421, 58683.77622319, 58629.62444421,\n",
       "       58829.26063276, 58683.77622319, 58493.07530827, 58726.39671818,\n",
       "       58493.07530827, 58641.31886792, 58741.45026427, 58693.59193558,\n",
       "       58589.70174553, 58526.13347382, 58714.09845245, 58741.45026427,\n",
       "       58741.45026427, 58526.13347382, 58851.13442207, 58688.89617659,\n",
       "       58741.45026427, 58688.89617659, 58629.62444421, 58693.59193558,\n",
       "       58726.39671818, 58589.70174553, 58697.62114803, 58754.62392961,\n",
       "       58629.62444421, 58847.64722536, 58589.70174553, 58770.93099142,\n",
       "       58741.45026427, 58409.72391284, 58693.59193558, 58618.36448211,\n",
       "       58741.45026427, 58409.72391284, 58513.89064146, 58823.55572308,\n",
       "       58895.25803569, 58629.62444421, 58432.79478811, 58741.45026427,\n",
       "       58754.62392961, 58629.62444421, 58643.31673634, 58643.31673634,\n",
       "       58694.56728075, 58432.79478811, 58493.07530827, 58629.62444421,\n",
       "       58741.45026427, 58643.31673634, 58754.62392961, 58432.79478811,\n",
       "       58694.56728075, 58641.31886792, 58754.62392961, 58496.7597847 ,\n",
       "       58629.62444421, 58683.77622319, 58526.13347382, 58693.59193558,\n",
       "       58629.62444421, 58629.62444421, 58629.62444421, 58629.62444421,\n",
       "       58770.93099142, 58726.39671818, 58741.45026427, 58629.62444421,\n",
       "       58493.07530827, 58589.70174553, 58770.93099142, 58629.62444421,\n",
       "       58643.31673634, 58688.89617659, 58629.62444421, 58847.64722536,\n",
       "       58432.79478811, 58629.62444421, 58697.62114803, 58629.62444421,\n",
       "       58741.45026427, 58629.62444421, 58629.62444421, 58693.59193558,\n",
       "       58618.36448211, 58450.87457437, 58741.45026427, 58742.91359277,\n",
       "       58688.89617659, 58643.31673634, 58643.31673634, 58629.62444421,\n",
       "       58409.72391284, 58513.89064146, 58714.09845245, 58618.36448211,\n",
       "       58741.45026427, 58741.45026427, 58741.45026427, 58829.26063276,\n",
       "       58432.79478811, 58829.26063276, 58770.93099142, 58754.62392961,\n",
       "       58823.55572308, 58493.07530827, 58643.31673634, 58493.07530827,\n",
       "       58643.31673634, 58741.45026427, 58741.45026427, 58629.62444421,\n",
       "       58643.31673634, 58629.62444421, 58493.07530827, 58643.31673634,\n",
       "       58823.55572308, 58629.62444421, 58513.89064146, 58741.45026427,\n",
       "       58770.93099142, 58741.45026427, 58469.59941438, 58754.62392961,\n",
       "       58741.45026427, 58847.64722536, 58629.62444421, 58469.59941438,\n",
       "       58741.45026427, 58643.31673634, 58643.31673634, 58641.31886792,\n",
       "       58409.72391284, 58741.45026427, 58741.45026427, 58697.62114803,\n",
       "       58649.4581789 , 58629.62444421, 58526.13347382, 58894.21000472,\n",
       "       58741.45026427, 58450.87457437, 58741.45026427, 58770.93099142,\n",
       "       58629.62444421, 58469.59941438, 58526.13347382, 58629.62444421,\n",
       "       58618.36448211, 58526.13347382, 58714.09845245, 58895.25803569,\n",
       "       58450.87457437, 58493.07530827, 58847.64722536, 58741.45026427,\n",
       "       58450.87457437, 58694.56728075, 58643.31673634, 58409.72391284,\n",
       "       58770.93099142, 58770.93099142, 58847.64722536, 58823.55572308,\n",
       "       58683.77622319, 58714.09845245, 58643.31673634, 58741.45026427,\n",
       "       58450.87457437, 58741.45026427, 58641.31886792, 58741.45026427,\n",
       "       58643.31673634, 58409.72391284, 58823.55572308, 58741.45026427,\n",
       "       58741.45026427, 58741.45026427, 58629.62444421, 58697.62114803,\n",
       "       58741.45026427, 58823.55572308, 58629.62444421, 58450.87457437,\n",
       "       58409.72391284, 58629.62444421, 58629.62444421, 58649.4581789 ,\n",
       "       58726.39671818, 58493.07530827, 58754.62392961, 58851.13442207,\n",
       "       58493.07530827, 58469.59941438, 58526.13347382, 58629.62444421,\n",
       "       58629.62444421, 58629.62444421, 58693.59193558, 58409.72391284,\n",
       "       58741.45026427, 58629.62444421, 58754.62392961, 58469.59941438,\n",
       "       58697.62114803, 58714.09845245, 58741.45026427, 58629.62444421,\n",
       "       58742.91359277, 58754.62392961, 58754.62392961, 58741.45026427,\n",
       "       58714.09845245, 58697.62114803, 58649.4581789 , 58741.45026427,\n",
       "       58754.62392961, 58741.45026427, 58770.93099142, 58643.31673634,\n",
       "       58526.13347382, 58629.62444421, 58714.09845245, 58526.13347382,\n",
       "       58741.45026427, 58643.31673634, 58618.36448211, 58629.62444421,\n",
       "       58493.07530827, 58629.62444421, 58726.39671818, 58641.31886792,\n",
       "       58683.77622319, 58770.93099142, 58643.31673634, 58629.62444421,\n",
       "       58432.79478811, 58726.39671818, 58688.89617659, 58714.09845245,\n",
       "       58526.13347382, 58683.77622319, 58493.07530827, 58629.62444421,\n",
       "       58894.21000472, 58643.31673634, 58450.87457437, 58649.4581789 ,\n",
       "       58697.62114803, 58629.62444421, 58823.55572308, 58694.56728075,\n",
       "       58688.89617659, 58493.07530827, 58643.31673634, 58496.7597847 ,\n",
       "       58741.45026427, 58754.62392961, 58409.72391284, 58643.31673634,\n",
       "       58643.31673634, 58683.77622319, 58741.45026427, 58629.62444421,\n",
       "       58741.45026427, 58643.31673634, 58641.31886792, 58741.45026427,\n",
       "       58894.21000472, 58693.59193558, 58697.62114803, 58629.62444421])"
      ]
     },
     "execution_count": 57,
     "metadata": {},
     "output_type": "execute_result"
    }
   ],
   "source": [
    "preds = lgbm_wrapper.predict(X_test)  # 예측 결과\n",
    "# pred_proba = lgbm_wrapper.predict_proba(X_test)[:, 1]  # 예측 확률\n",
    "preds"
   ]
  },
  {
   "cell_type": "code",
   "execution_count": 58,
   "metadata": {},
   "outputs": [
    {
     "data": {
      "text/html": [
       "<div>\n",
       "<style scoped>\n",
       "    .dataframe tbody tr th:only-of-type {\n",
       "        vertical-align: middle;\n",
       "    }\n",
       "\n",
       "    .dataframe tbody tr th {\n",
       "        vertical-align: top;\n",
       "    }\n",
       "\n",
       "    .dataframe thead th {\n",
       "        text-align: right;\n",
       "    }\n",
       "</style>\n",
       "<table border=\"1\" class=\"dataframe\">\n",
       "  <thead>\n",
       "    <tr style=\"text-align: right;\">\n",
       "      <th></th>\n",
       "      <th>hash-max-ziplist-entries</th>\n",
       "      <th>hash-max-ziplist-value</th>\n",
       "      <th>save0_0</th>\n",
       "      <th>save0_1</th>\n",
       "      <th>save1_0</th>\n",
       "      <th>save1_1</th>\n",
       "      <th>save2_1</th>\n",
       "      <th>rdb-save-incremental-fsync</th>\n",
       "      <th>active-defrag-threshold-upper</th>\n",
       "      <th>active-defrag-cycle-min</th>\n",
       "      <th>lazyfree-lazy-eviction</th>\n",
       "      <th>lazyfree-lazy-expire</th>\n",
       "    </tr>\n",
       "  </thead>\n",
       "  <tbody>\n",
       "    <tr>\n",
       "      <th>1096</th>\n",
       "      <td>732</td>\n",
       "      <td>164</td>\n",
       "      <td>1068</td>\n",
       "      <td>4</td>\n",
       "      <td>270</td>\n",
       "      <td>99</td>\n",
       "      <td>9047</td>\n",
       "      <td>yes</td>\n",
       "      <td>0.0</td>\n",
       "      <td>0.0</td>\n",
       "      <td>no</td>\n",
       "      <td>no</td>\n",
       "    </tr>\n",
       "  </tbody>\n",
       "</table>\n",
       "</div>"
      ],
      "text/plain": [
       "      hash-max-ziplist-entries  hash-max-ziplist-value  save0_0  save0_1  \\\n",
       "1096                       732                     164     1068        4   \n",
       "\n",
       "      save1_0  save1_1  save2_1 rdb-save-incremental-fsync  \\\n",
       "1096      270       99     9047                        yes   \n",
       "\n",
       "      active-defrag-threshold-upper  active-defrag-cycle-min  \\\n",
       "1096                            0.0                      0.0   \n",
       "\n",
       "     lazyfree-lazy-eviction lazyfree-lazy-expire  \n",
       "1096                     no                   no  "
      ]
     },
     "execution_count": 58,
     "metadata": {},
     "output_type": "execute_result"
    }
   ],
   "source": [
    "X_test.iloc[:1,:]"
   ]
  },
  {
   "cell_type": "code",
   "execution_count": 59,
   "metadata": {},
   "outputs": [
    {
     "data": {
      "text/plain": [
       "array([58513.89064146])"
      ]
     },
     "execution_count": 59,
     "metadata": {},
     "output_type": "execute_result"
    }
   ],
   "source": [
    "lgbm_wrapper.predict(X_test.iloc[3:4,:])"
   ]
  },
  {
   "cell_type": "code",
   "execution_count": 60,
   "metadata": {},
   "outputs": [
    {
     "ename": "NameError",
     "evalue": "name 'df_result_test2' is not defined",
     "output_type": "error",
     "traceback": [
      "\u001b[0;31m---------------------------------------------------------------------------\u001b[0m",
      "\u001b[0;31mNameError\u001b[0m                                 Traceback (most recent call last)",
      "\u001b[0;32m<ipython-input-60-90f3de9becb3>\u001b[0m in \u001b[0;36m<module>\u001b[0;34m\u001b[0m\n\u001b[0;32m----> 1\u001b[0;31m \u001b[0mdf_result_test2\u001b[0m\u001b[0;34m\u001b[0m\u001b[0;34m\u001b[0m\u001b[0m\n\u001b[0m",
      "\u001b[0;31mNameError\u001b[0m: name 'df_result_test2' is not defined"
     ]
    }
   ],
   "source": [
    "df_result_test2"
   ]
  },
  {
   "cell_type": "code",
   "execution_count": 61,
   "metadata": {},
   "outputs": [],
   "source": [
    "# lgbm_wrapper.predict(df_result_test2)"
   ]
  },
  {
   "cell_type": "code",
   "execution_count": 62,
   "metadata": {},
   "outputs": [
    {
     "data": {
      "text/plain": [
       "<AxesSubplot:title={'center':'Feature importance'}, xlabel='Feature importance', ylabel='Features'>"
      ]
     },
     "execution_count": 62,
     "metadata": {},
     "output_type": "execute_result"
    },
    {
     "data": {
      "image/png": "[encoded data removed]",
      "text/plain": [
       "<Figure size 720x864 with 1 Axes>"
      ]
     },
     "metadata": {
      "needs_background": "light"
     },
     "output_type": "display_data"
    }
   ],
   "source": [
    "# plot_importance()를 이영해 피처 중요도 시각화\n",
    "from lightgbm import plot_importance\n",
    "import matplotlib.pyplot as plt\n",
    "%matplotlib inline\n",
    "\n",
    "fig, ax = plt.subplots(figsize=(10, 12))\n",
    "plot_importance(lgbm_wrapper, ax= ax)"
   ]
  },
  {
   "cell_type": "code",
   "execution_count": 63,
   "metadata": {},
   "outputs": [
    {
     "data": {
      "text/plain": [
       "12236658.728683934"
      ]
     },
     "execution_count": 63,
     "metadata": {},
     "output_type": "execute_result"
    }
   ],
   "source": [
    "from sklearn.metrics import mean_absolute_error, mean_squared_error\n",
    "\n",
    "mse = mean_squared_error(y_test ,preds)\n",
    "mse"
   ]
  },
  {
   "cell_type": "markdown",
   "metadata": {},
   "source": [
    "### 하이퍼파라미터 튜닝"
   ]
  },
  {
   "cell_type": "code",
   "execution_count": 64,
   "metadata": {},
   "outputs": [],
   "source": [
    "# from sklearn.model_selection import GridSearchCV\n",
    "\n",
    "# # 하이퍼파라미터 튜닝시 수행 속도를 향상시키기 위해 n_estimators를 200으로 감소\n",
    "# lgbm_wrapper = LGBMRegressor(n_estimators = 200)\n",
    "\n",
    "# params = {\n",
    "#     'num_leaves':[32, 64],\n",
    "#     'max_depth':[128, 160],\n",
    "#     'min_child_samples':[60, 100],\n",
    "#     'subsample':[0.8, 1]\n",
    "# }\n",
    "\n",
    "# # cv는 3으로 가정 (교차 검증을 자동으로 해주는건가?)\n",
    "# gridcv = GridSearchCV(lgbm_wrapper, param_grid = params, cv=3)\n",
    "# gridcv.fit(X_train, y_train, early_stopping_rounds = 30, eval_metric='auc', \n",
    "#           eval_set = [(X_train, y_train), (X_test, y_test)])\n",
    "\n",
    "# print('GridSeaerchCV 최적 파라미터:', gridcv.best_params_)"
   ]
  },
  {
   "cell_type": "code",
   "execution_count": 65,
   "metadata": {
    "scrolled": true
   },
   "outputs": [],
   "source": [
    "# # 하이퍼 파라미터 적용 후 다시 생성\n",
    "# lgbm_wrapper = LGBMRegressor(n_estimators = 1000,\n",
    "#                             num_leaves = 32,\n",
    "#                             subsample=0.8,\n",
    "#                             min_child_samples=60,\n",
    "#                             max_depth=128)\n",
    "\n",
    "# evals = [(X_test, y_test)]\n",
    "\n",
    "# lgbm_wrapper.fit(X_train, y_train, early_stopping_rounds=100,\n",
    "#                 eval_metric='auc',\n",
    "#                 eval_set=evals,\n",
    "#                 verbose=True)"
   ]
  },
  {
   "cell_type": "markdown",
   "metadata": {},
   "source": [
    "---"
   ]
  },
  {
   "cell_type": "markdown",
   "metadata": {},
   "source": [
    "# BO"
   ]
  },
  {
   "cell_type": "markdown",
   "metadata": {},
   "source": [
    "## 목적함수"
   ]
  },
  {
   "cell_type": "code",
   "execution_count": 66,
   "metadata": {},
   "outputs": [],
   "source": [
    "noise_level = 0.1\n",
    "\n",
    "def objective_func(knob_value, noise_level=noise_level):\n",
    "    knob_dict = {}\n",
    "\n",
    "    for i, knob in enumerate(knobs_list): # 딕셔너리로 이동\n",
    "        knob_dict[knob] = knob_value[i]\n",
    "    \n",
    "#     # 고정\n",
    "\n",
    "#     knob_dict['hash-max-ziplist-entries'] =305\n",
    "#     knob_dict['hash-max-ziplist-value'] =157\n",
    "#     knob_dict['activerehashing'] ='yes'\n",
    "#     knob_dict['hz'] = 32\n",
    "#     knob_dict['dynamic-hz'] ='yes'\n",
    "#     knob_dict['save0_0'] = 722\n",
    "#     knob_dict['save0_1'] = 5\n",
    "#     knob_dict['save1_0'] = 475\n",
    "#     knob_dict['save1_1'] =12\n",
    "#     knob_dict['save2_0'] = 82\n",
    "#     knob_dict['save2_1'] =9163\n",
    "#     knob_dict['rdbcompression'] = 'no'\n",
    "#     knob_dict['rdbchecksum'] = 'no'\n",
    "#     knob_dict['rdb-save-incremental-fsync'] = 'no'\n",
    "#     knob_dict['active-defrag-threshold-lower'] = 13\n",
    "#     knob_dict['active-defrag-threshold-upper'] = 72\n",
    "#     knob_dict['active-defrag-cycle-min'] = 2\n",
    "#     knob_dict['active-defrag-cycle-max'] = 73\n",
    "#     knob_dict['maxmemory'] = 1221\n",
    "#     knob_dict[\"maxmemory-policy\"] = 'allkeys-random'\n",
    "#     knob_dict['maxmemory-samples'] =3\n",
    "#     knob_dict['lazyfree-lazy-eviction'] = 'no'\n",
    "#     knob_dict['lazyfree-lazy-expire'] = 'yes'\n",
    "#     knob_dict['lazyfree-lazy-server-del'] = 'no'\n",
    "        \n",
    "    if 'activedefrag' in knob_dict:\n",
    "        if knob_dict['activedefrag'] == 'no':  # activedefrag no인 경우 나머지 관련 knob들에 0할당!\n",
    "            activ_var = ['active-defrag-threshold-lower', 'active-defrag-threshold-upper', 'active-defrag-cycle-min', 'active-defrag-cycle-max']\n",
    "            for activ_knob in activ_var:\n",
    "                knob_dict[activ_knob] = 0     \n",
    "    \n",
    "    knob_df = pd.DataFrame(knob_dict, index=[0])  # 데이터 프레임으로 변환\n",
    "    \n",
    "    # 카테고리 변수 변경\n",
    "    for knob in category_knob:\n",
    "        knob_df[knob] = knob_df[knob].astype('category') \n",
    "\n",
    "    return -lgbm_wrapper.predict(knob_df)[0]\n",
    "\n",
    "\n"
   ]
  },
  {
   "cell_type": "markdown",
   "metadata": {},
   "source": [
    "## gp_minimize"
   ]
  },
  {
   "cell_type": "code",
   "execution_count": 67,
   "metadata": {},
   "outputs": [
    {
     "name": "stdout",
     "output_type": "stream",
     "text": [
      "Automatically created module for IPython interactive environment\n"
     ]
    }
   ],
   "source": [
    "%matplotlib inline\n",
    "print(__doc__)\n",
    "\n",
    "import numpy as np\n",
    "np.random.seed(237)\n",
    "import matplotlib.pyplot as plt\n",
    "from skopt.plots import plot_gaussian_process\n",
    "from skopt import gp_minimize"
   ]
  },
  {
   "cell_type": "code",
   "execution_count": 68,
   "metadata": {},
   "outputs": [],
   "source": [
    "res = gp_minimize(objective_func,                  # the function to minimize\n",
    "                  knobs_bound,      # the bounds on each dimension of x\n",
    "                  acq_func=\"EI\",      # the acquisition function\n",
    "                  n_calls=150,         # the number of evaluations of f\n",
    "                  n_random_starts=20,  # the number of random initialization points\n",
    "                  noise=0.1**2,       # the noise level (optional)\n",
    "                  random_state=1234)   # the random seed"
   ]
  },
  {
   "cell_type": "code",
   "execution_count": 69,
   "metadata": {
    "scrolled": true
   },
   "outputs": [
    {
     "data": {
      "text/plain": [
       "[730, 21, 1038, 3, 261, 19, 9438, 'yes', 90, 5, 'yes', 'yes']"
      ]
     },
     "execution_count": 69,
     "metadata": {},
     "output_type": "execute_result"
    }
   ],
   "source": [
    "res.x"
   ]
  },
  {
   "cell_type": "code",
   "execution_count": 70,
   "metadata": {
    "scrolled": true
   },
   "outputs": [
    {
     "data": {
      "text/plain": [
       "[[502, 213, 945, 7, 444, 24, 8794, 'yes', 75, 4, 'no', 'no'],\n",
       " [420, 209, 739, 1, 277, 12, 9163, 'no', 93, 28, 'yes', 'no'],\n",
       " [451, 125, 915, 7, 286, 49, 10278, 'yes', 71, 17, 'no', 'no'],\n",
       " [418, 212, 959, 1, 498, 72, 11718, 'yes', 100, 13, 'no', 'no'],\n",
       " [634, 161, 732, 7, 166, 13, 9313, 'no', 72, 12, 'no', 'yes'],\n",
       " [634, 106, 710, 8, 415, 66, 8846, 'no', 91, 28, 'yes', 'no'],\n",
       " [359, 19, 729, 7, 492, 72, 11962, 'yes', 99, 19, 'yes', 'no'],\n",
       " [335, 242, 987, 5, 453, 46, 8686, 'no', 83, 2, 'yes', 'yes'],\n",
       " [388, 68, 771, 4, 489, 14, 11669, 'no', 99, 24, 'no', 'no'],\n",
       " [715, 218, 763, 7, 247, 94, 10453, 'yes', 86, 22, 'no', 'yes'],\n",
       " [624, 126, 732, 4, 473, 48, 8937, 'yes', 88, 14, 'yes', 'no'],\n",
       " [564, 131, 1090, 7, 111, 30, 8481, 'no', 83, 21, 'yes', 'yes'],\n",
       " [580, 105, 1081, 3, 440, 96, 9524, 'no', 78, 21, 'no', 'no'],\n",
       " [263, 98, 861, 5, 361, 100, 10070, 'no', 72, 2, 'yes', 'no'],\n",
       " [463, 18, 870, 4, 348, 48, 8055, 'no', 77, 17, 'yes', 'yes'],\n",
       " [506, 32, 863, 7, 470, 60, 9330, 'yes', 100, 7, 'yes', 'yes'],\n",
       " [631, 142, 938, 4, 133, 58, 11037, 'no', 71, 29, 'no', 'no'],\n",
       " [643, 154, 1051, 4, 271, 85, 8449, 'yes', 95, 16, 'no', 'no'],\n",
       " [341, 62, 741, 8, 333, 91, 9740, 'no', 77, 22, 'no', 'yes'],\n",
       " [625, 227, 788, 3, 497, 88, 8435, 'no', 88, 13, 'no', 'no'],\n",
       " [479, 56, 807, 2, 216, 71, 8000, 'no', 90, 25, 'yes', 'yes'],\n",
       " [520, 102, 826, 4, 311, 42, 8023, 'no', 75, 27, 'yes', 'yes'],\n",
       " [327, 16, 704, 7, 493, 75, 12000, 'yes', 99, 21, 'yes', 'no'],\n",
       " [329, 78, 759, 8, 480, 76, 10812, 'yes', 90, 18, 'yes', 'no'],\n",
       " [549, 16, 944, 4, 394, 46, 8609, 'yes', 72, 13, 'no', 'yes'],\n",
       " [506, 16, 802, 4, 270, 29, 9369, 'no', 71, 22, 'yes', 'yes'],\n",
       " [336, 16, 995, 7, 500, 54, 10139, 'yes', 97, 7, 'no', 'no'],\n",
       " [316, 217, 709, 7, 100, 10, 8000, 'yes', 71, 28, 'yes', 'yes'],\n",
       " [388, 203, 700, 1, 100, 10, 8000, 'no', 87, 29, 'yes', 'no'],\n",
       " [726, 17, 700, 1, 172, 66, 9048, 'yes', 70, 21, 'yes', 'no'],\n",
       " [426, 18, 880, 8, 410, 100, 9731, 'no', 88, 19, 'no', 'yes'],\n",
       " [548, 210, 1100, 9, 500, 95, 8000, 'no', 77, 4, 'no', 'no'],\n",
       " [431, 18, 1084, 4, 499, 10, 10393, 'yes', 101, 30, 'no', 'no'],\n",
       " [751, 16, 1100, 9, 100, 100, 12000, 'yes', 101, 1, 'yes', 'no'],\n",
       " [594, 170, 900, 7, 442, 100, 11060, 'yes', 80, 24, 'yes', 'no'],\n",
       " [256, 16, 1100, 9, 500, 10, 12000, 'yes', 101, 1, 'no', 'yes'],\n",
       " [724, 178, 717, 2, 135, 10, 11492, 'no', 83, 9, 'no', 'yes'],\n",
       " [420, 213, 884, 2, 311, 42, 9307, 'yes', 79, 17, 'yes', 'yes'],\n",
       " [276, 162, 889, 5, 455, 100, 10517, 'yes', 74, 29, 'no', 'no'],\n",
       " [256, 150, 700, 9, 374, 10, 12000, 'yes', 70, 1, 'yes', 'yes'],\n",
       " [311, 209, 983, 3, 337, 25, 9672, 'no', 101, 29, 'yes', 'no'],\n",
       " [583, 17, 1095, 9, 500, 84, 8023, 'no', 101, 1, 'no', 'yes'],\n",
       " [427, 17, 860, 6, 245, 23, 9038, 'no', 83, 30, 'yes', 'no'],\n",
       " [751, 257, 700, 9, 100, 100, 12000, 'yes', 101, 31, 'no', 'no'],\n",
       " [256, 18, 861, 3, 311, 84, 12000, 'yes', 86, 31, 'yes', 'yes'],\n",
       " [565, 18, 1068, 9, 488, 33, 12000, 'yes', 101, 1, 'yes', 'no'],\n",
       " [457, 208, 1011, 2, 401, 50, 9683, 'no', 73, 28, 'yes', 'no'],\n",
       " [697, 208, 927, 3, 269, 17, 11321, 'no', 98, 2, 'yes', 'yes'],\n",
       " [633, 214, 936, 6, 496, 12, 8035, 'yes', 70, 9, 'no', 'yes'],\n",
       " [670, 18, 1079, 8, 382, 60, 8224, 'no', 92, 21, 'yes', 'yes'],\n",
       " [709, 16, 967, 6, 134, 27, 11574, 'yes', 87, 17, 'yes', 'no'],\n",
       " [368, 212, 803, 9, 316, 10, 9459, 'yes', 80, 1, 'yes', 'no'],\n",
       " [292, 215, 710, 2, 255, 39, 8460, 'yes', 76, 8, 'no', 'no'],\n",
       " [266, 17, 765, 4, 127, 18, 9271, 'no', 92, 9, 'yes', 'yes'],\n",
       " [334, 17, 732, 4, 181, 33, 8483, 'yes', 80, 17, 'yes', 'no'],\n",
       " [440, 209, 968, 7, 426, 48, 10620, 'no', 85, 6, 'no', 'yes'],\n",
       " [689, 16, 948, 8, 474, 42, 8917, 'yes', 83, 13, 'yes', 'yes'],\n",
       " [730, 21, 1038, 3, 261, 19, 9438, 'yes', 90, 5, 'yes', 'yes'],\n",
       " [333, 21, 954, 3, 120, 64, 10883, 'yes', 88, 30, 'yes', 'yes'],\n",
       " [625, 19, 1075, 3, 133, 61, 9308, 'no', 79, 1, 'yes', 'no'],\n",
       " [445, 20, 848, 5, 259, 21, 9364, 'no', 74, 21, 'yes', 'yes'],\n",
       " [631, 21, 1001, 5, 257, 61, 8910, 'no', 92, 25, 'yes', 'yes'],\n",
       " [643, 18, 1067, 3, 146, 10, 8036, 'yes', 89, 10, 'no', 'yes'],\n",
       " [552, 19, 839, 5, 290, 43, 10105, 'yes', 70, 18, 'yes', 'no'],\n",
       " [402, 20, 746, 3, 453, 80, 8798, 'no', 92, 1, 'yes', 'yes'],\n",
       " [474, 16, 855, 9, 181, 43, 8000, 'yes', 82, 9, 'yes', 'yes'],\n",
       " [674, 20, 1068, 3, 310, 10, 9273, 'no', 83, 3, 'yes', 'yes'],\n",
       " [358, 19, 935, 6, 246, 20, 10113, 'no', 70, 9, 'no', 'yes'],\n",
       " [369, 16, 1075, 8, 331, 59, 9570, 'no', 89, 15, 'yes', 'yes'],\n",
       " [345, 17, 794, 5, 242, 85, 9184, 'no', 82, 27, 'yes', 'yes'],\n",
       " [666, 21, 829, 4, 156, 32, 9211, 'yes', 92, 15, 'yes', 'no'],\n",
       " [495, 18, 725, 4, 435, 83, 11383, 'no', 74, 25, 'yes', 'yes'],\n",
       " [393, 17, 705, 5, 377, 93, 10223, 'yes', 87, 8, 'no', 'yes'],\n",
       " [458, 17, 1024, 6, 408, 89, 9804, 'no', 75, 18, 'no', 'no'],\n",
       " [469, 17, 766, 4, 404, 65, 10638, 'no', 74, 19, 'yes', 'no'],\n",
       " [612, 18, 1047, 2, 161, 40, 10741, 'no', 88, 18, 'no', 'yes'],\n",
       " [399, 18, 751, 5, 106, 86, 11101, 'yes', 75, 20, 'no', 'no'],\n",
       " [505, 17, 789, 2, 131, 39, 11923, 'yes', 77, 13, 'yes', 'yes'],\n",
       " [751, 21, 926, 3, 235, 40, 9887, 'yes', 96, 8, 'no', 'no'],\n",
       " [404, 208, 1030, 7, 229, 80, 10605, 'no', 86, 5, 'no', 'no'],\n",
       " [751, 21, 960, 6, 297, 16, 9594, 'yes', 93, 5, 'yes', 'yes'],\n",
       " [549, 20, 967, 4, 218, 75, 9109, 'yes', 90, 4, 'no', 'no'],\n",
       " [516, 16, 904, 2, 236, 59, 8303, 'no', 86, 29, 'no', 'yes'],\n",
       " [591, 17, 1046, 2, 482, 91, 11160, 'no', 83, 16, 'no', 'no'],\n",
       " [751, 21, 953, 2, 189, 45, 10251, 'yes', 94, 16, 'no', 'yes'],\n",
       " [355, 16, 862, 4, 158, 97, 8868, 'yes', 95, 14, 'yes', 'no'],\n",
       " [320, 19, 753, 5, 364, 90, 9787, 'no', 70, 1, 'no', 'yes'],\n",
       " [349, 16, 1009, 3, 443, 78, 11003, 'yes', 83, 31, 'yes', 'yes'],\n",
       " [544, 20, 1003, 5, 331, 68, 9087, 'no', 70, 30, 'no', 'yes'],\n",
       " [751, 21, 1087, 3, 305, 69, 8539, 'yes', 89, 9, 'no', 'yes'],\n",
       " [302, 18, 823, 7, 153, 71, 9588, 'yes', 78, 22, 'yes', 'no'],\n",
       " [688, 18, 829, 9, 108, 40, 11790, 'yes', 71, 1, 'yes', 'no'],\n",
       " [628, 19, 1027, 2, 283, 11, 11328, 'yes', 73, 18, 'yes', 'no'],\n",
       " [687, 16, 947, 9, 212, 58, 11953, 'yes', 93, 28, 'yes', 'yes'],\n",
       " [644, 18, 830, 2, 339, 62, 12000, 'yes', 86, 8, 'no', 'yes'],\n",
       " [598, 20, 813, 2, 261, 26, 9569, 'no', 70, 16, 'no', 'yes'],\n",
       " [349, 18, 887, 4, 280, 46, 10888, 'yes', 71, 12, 'yes', 'no'],\n",
       " [618, 20, 758, 3, 421, 10, 8595, 'yes', 71, 26, 'yes', 'no'],\n",
       " [442, 214, 762, 4, 311, 86, 8370, 'yes', 99, 11, 'yes', 'yes'],\n",
       " [428, 18, 867, 9, 500, 62, 11844, 'yes', 80, 7, 'yes', 'yes'],\n",
       " [576, 21, 1064, 6, 243, 34, 8542, 'no', 74, 14, 'yes', 'yes'],\n",
       " [360, 21, 706, 6, 495, 22, 10387, 'yes', 79, 6, 'no', 'no'],\n",
       " [712, 19, 840, 9, 260, 40, 9445, 'no', 80, 30, 'no', 'yes'],\n",
       " [609, 18, 759, 2, 352, 47, 11543, 'no', 71, 17, 'yes', 'yes'],\n",
       " [473, 20, 1032, 4, 265, 10, 9730, 'yes', 76, 25, 'no', 'yes'],\n",
       " [627, 18, 853, 1, 188, 75, 9345, 'yes', 90, 12, 'no', 'yes'],\n",
       " [278, 21, 1032, 2, 258, 10, 9202, 'no', 86, 4, 'no', 'no'],\n",
       " [360, 16, 862, 8, 358, 33, 11298, 'no', 97, 12, 'yes', 'yes'],\n",
       " [635, 18, 1100, 5, 330, 12, 12000, 'yes', 80, 13, 'yes', 'no'],\n",
       " [582, 19, 786, 3, 296, 23, 8367, 'no', 94, 29, 'no', 'yes'],\n",
       " [583, 17, 852, 8, 450, 82, 11730, 'yes', 73, 28, 'yes', 'yes'],\n",
       " [687, 19, 806, 3, 258, 60, 10639, 'no', 87, 29, 'yes', 'no'],\n",
       " [256, 19, 847, 7, 261, 84, 10784, 'no', 90, 2, 'yes', 'yes'],\n",
       " [751, 17, 999, 4, 295, 10, 10541, 'yes', 78, 8, 'no', 'no'],\n",
       " [590, 17, 833, 2, 184, 60, 10821, 'no', 92, 12, 'yes', 'yes'],\n",
       " [444, 16, 751, 6, 444, 90, 12000, 'no', 70, 4, 'yes', 'yes'],\n",
       " [697, 213, 1014, 2, 307, 39, 11485, 'yes', 101, 24, 'yes', 'yes'],\n",
       " [346, 21, 774, 2, 268, 22, 9394, 'yes', 81, 6, 'yes', 'no'],\n",
       " [294, 20, 786, 7, 267, 44, 9057, 'no', 75, 16, 'yes', 'yes'],\n",
       " [595, 19, 807, 5, 124, 34, 10565, 'no', 80, 12, 'yes', 'no'],\n",
       " [597, 19, 732, 7, 158, 23, 11018, 'yes', 95, 25, 'no', 'yes'],\n",
       " [552, 18, 978, 1, 232, 17, 11953, 'yes', 75, 5, 'no', 'yes'],\n",
       " [310, 17, 817, 5, 493, 100, 11955, 'yes', 78, 24, 'yes', 'yes'],\n",
       " [411, 16, 1061, 7, 256, 82, 9890, 'no', 90, 4, 'yes', 'yes'],\n",
       " [505, 210, 994, 9, 329, 72, 9704, 'no', 101, 15, 'yes', 'yes'],\n",
       " [730, 20, 922, 4, 137, 95, 9414, 'no', 73, 14, 'yes', 'yes'],\n",
       " [265, 20, 700, 4, 184, 27, 9655, 'yes', 88, 27, 'yes', 'yes'],\n",
       " [385, 20, 979, 4, 100, 98, 9458, 'yes', 89, 25, 'no', 'no'],\n",
       " [478, 20, 739, 6, 488, 95, 11722, 'no', 83, 27, 'yes', 'no'],\n",
       " [262, 19, 947, 7, 351, 73, 9621, 'no', 85, 2, 'yes', 'no'],\n",
       " [659, 21, 1100, 3, 329, 22, 10859, 'yes', 76, 14, 'no', 'no'],\n",
       " [432, 18, 719, 9, 337, 73, 11756, 'no', 88, 15, 'yes', 'no'],\n",
       " [315, 19, 789, 5, 413, 100, 11817, 'no', 87, 29, 'no', 'no'],\n",
       " [647, 19, 785, 7, 308, 100, 12000, 'no', 75, 20, 'yes', 'no'],\n",
       " [300, 19, 976, 7, 311, 100, 9596, 'yes', 85, 6, 'yes', 'no'],\n",
       " [310, 216, 700, 1, 171, 63, 8604, 'no', 80, 11, 'no', 'yes'],\n",
       " [683, 16, 1100, 8, 157, 11, 8000, 'yes', 96, 14, 'no', 'no'],\n",
       " [556, 18, 738, 7, 165, 50, 8204, 'yes', 73, 22, 'yes', 'yes'],\n",
       " [410, 19, 727, 6, 206, 26, 9409, 'yes', 84, 14, 'no', 'no'],\n",
       " [424, 20, 802, 7, 389, 23, 9876, 'yes', 83, 21, 'yes', 'yes'],\n",
       " [513, 20, 700, 7, 200, 100, 8312, 'no', 90, 26, 'no', 'no'],\n",
       " [663, 18, 1093, 4, 389, 65, 10179, 'no', 92, 17, 'no', 'yes'],\n",
       " [439, 19, 827, 5, 143, 15, 10286, 'no', 87, 12, 'yes', 'yes'],\n",
       " [345, 20, 1086, 3, 234, 96, 9983, 'no', 78, 29, 'yes', 'no'],\n",
       " [584, 18, 954, 3, 117, 41, 9644, 'no', 97, 24, 'no', 'yes'],\n",
       " [388, 18, 981, 9, 498, 22, 8000, 'no', 82, 6, 'yes', 'yes'],\n",
       " [449, 18, 843, 1, 434, 59, 9528, 'no', 92, 26, 'yes', 'no'],\n",
       " [264, 20, 1084, 1, 424, 21, 9567, 'no', 91, 8, 'no', 'yes'],\n",
       " [695, 19, 916, 5, 289, 95, 10033, 'yes', 75, 14, 'no', 'yes'],\n",
       " [477, 18, 940, 8, 200, 74, 10468, 'no', 92, 29, 'yes', 'no']]"
      ]
     },
     "execution_count": 70,
     "metadata": {},
     "output_type": "execute_result"
    }
   ],
   "source": [
    "res.x_iters # "
   ]
  },
  {
   "cell_type": "code",
   "execution_count": 71,
   "metadata": {},
   "outputs": [
    {
     "data": {
      "text/plain": [
       "array([-58823.55572308, -58823.55572308, -58629.62444421, -58641.31886792,\n",
       "       -58754.62392961, -58629.62444421, -58851.13442207, -58496.7597847 ,\n",
       "       -58629.62444421, -58683.77622319, -58629.62444421, -58697.62114803,\n",
       "       -58697.62114803, -58629.62444421, -58851.13442207, -58493.07530827,\n",
       "       -58741.45026427, -58741.45026427, -58643.31673634, -58683.77622319,\n",
       "       -58688.89617659, -58629.62444421, -58851.13442207, -58629.62444421,\n",
       "       -58851.13442207, -58851.13442207, -58851.13442207, -58693.59193558,\n",
       "       -58693.59193558, -58851.13442207, -58851.13442207, -58450.87457437,\n",
       "       -58851.13442207, -58851.13442207, -58741.45026427, -58851.13442207,\n",
       "       -58526.13347382, -58770.93099142, -58741.45026427, -58754.62392961,\n",
       "       -58823.55572308, -58851.13442207, -58851.13442207, -58714.09845245,\n",
       "       -58851.13442207, -58851.13442207, -58496.7597847 , -58823.55572308,\n",
       "       -58450.87457437, -58851.13442207, -58851.13442207, -58432.79478811,\n",
       "       -58770.93099142, -58851.13442207, -58851.13442207, -58496.7597847 ,\n",
       "       -58851.13442207, -58895.25803569, -58694.56728075, -58851.13442207,\n",
       "       -58895.25803569, -58493.07530827, -58851.13442207, -58851.13442207,\n",
       "       -58493.07530827, -58851.13442207, -58493.07530827, -58851.13442207,\n",
       "       -58851.13442207, -58851.13442207, -58493.07530827, -58851.13442207,\n",
       "       -58851.13442207, -58851.13442207, -58851.13442207, -58851.13442207,\n",
       "       -58851.13442207, -58851.13442207, -58694.56728075, -58641.31886792,\n",
       "       -58694.56728075, -58493.07530827, -58851.13442207, -58851.13442207,\n",
       "       -58694.56728075, -58851.13442207, -58851.13442207, -58851.13442207,\n",
       "       -58493.07530827, -58493.07530827, -58851.13442207, -58851.13442207,\n",
       "       -58851.13442207, -58851.13442207, -58851.13442207, -58894.21000472,\n",
       "       -58851.13442207, -58493.07530827, -58450.87457437, -58851.13442207,\n",
       "       -58493.07530827, -58894.21000472, -58851.13442207, -58851.13442207,\n",
       "       -58694.56728075, -58851.13442207, -58493.07530827, -58851.13442207,\n",
       "       -58851.13442207, -58851.13442207, -58851.13442207, -58851.13442207,\n",
       "       -58851.13442207, -58851.13442207, -58851.13442207, -58851.13442207,\n",
       "       -58496.7597847 , -58895.25803569, -58493.07530827, -58851.13442207,\n",
       "       -58851.13442207, -58851.13442207, -58851.13442207, -58851.13442207,\n",
       "       -58649.4581789 , -58895.25803569, -58894.21000472, -58895.25803569,\n",
       "       -58894.21000472, -58851.13442207, -58694.56728075, -58851.13442207,\n",
       "       -58851.13442207, -58851.13442207, -58851.13442207, -58641.31886792,\n",
       "       -58851.13442207, -58851.13442207, -58851.13442207, -58894.21000472,\n",
       "       -58493.07530827, -58851.13442207, -58851.13442207, -58694.56728075,\n",
       "       -58851.13442207, -58851.13442207, -58851.13442207, -58694.56728075,\n",
       "       -58851.13442207, -58851.13442207])"
      ]
     },
     "execution_count": 71,
     "metadata": {},
     "output_type": "execute_result"
    }
   ],
   "source": [
    "res.func_vals"
   ]
  },
  {
   "cell_type": "code",
   "execution_count": 74,
   "metadata": {},
   "outputs": [
    {
     "data": {
      "text/plain": [
       "-58895.258035688916"
      ]
     },
     "execution_count": 74,
     "metadata": {},
     "output_type": "execute_result"
    }
   ],
   "source": [
    "res.fun"
   ]
  },
  {
   "cell_type": "markdown",
   "metadata": {},
   "source": [
    "clutster0 -58803.83961176113\n",
    "cluster1-58895.258035688916"
   ]
  },
  {
   "cell_type": "code",
   "execution_count": 73,
   "metadata": {},
   "outputs": [
    {
     "data": {
      "text/plain": [
       "[730, 21, 1038, 3, 261, 19, 9438, 'yes', 90, 5, 'yes', 'yes']"
      ]
     },
     "execution_count": 73,
     "metadata": {},
     "output_type": "execute_result"
    }
   ],
   "source": [
    "res.x"
   ]
  },
  {
   "cell_type": "markdown",
   "metadata": {},
   "source": [
    "---"
   ]
  },
  {
   "cell_type": "code",
   "execution_count": 127,
   "metadata": {},
   "outputs": [],
   "source": [
    "# gp 결과 정리 함수\n",
    "def li_to_str(result_list):\n",
    "    for idx,knob in enumerate(list(knobs_rdb.keys())):  # knobs_rdb 키마다 접근\n",
    "        print(\"{} \".format(knob), end='')\n",
    "        print('{}'.format(result_list[idx]))"
   ]
  },
  {
   "cell_type": "code",
   "execution_count": 128,
   "metadata": {},
   "outputs": [
    {
     "name": "stdout",
     "output_type": "stream",
     "text": [
      "hash-max-ziplist-entries 308\n",
      "hash-max-ziplist-value 257\n",
      "activerehashing yes\n",
      "hz 14\n",
      "dynamic-hz yes\n"
     ]
    }
   ],
   "source": [
    "# gp 결과\n",
    "li_to_str(res.x)"
   ]
  },
  {
   "cell_type": "markdown",
   "metadata": {},
   "source": [
    "## gp 결과 정리\n",
    "\n",
    "### gp 분류된것\n",
    "\"hash-max-ziplist-entries\" : 284\n",
    "'hash-max-ziplist-value' 22\n",
    "'activerehashing': 'yes'\n",
    "'hz' 32\n",
    "'dynamic-hz' : 'yes'\n",
    "'save0_0' : 877\n",
    "'save0_1'2\n",
    "'save1_0'272\n",
    "'save1_1' : 12\n",
    "'save2_0'33\n",
    "'save2_1' : 11669 \n",
    "'rdbcompression'no\n",
    "'rdbchecksum' yes\n",
    "\"rdb-save-incremental-fsync\" 'no'\n",
    "'active-defrag-threshold-lower'3\n",
    "'active-defrag-threshold-upper': 87\n",
    "'active-defrag-cycle-min' : 25\n",
    "'active-defrag-cycle-max' : 80\n",
    "'maxmemory'1298\n",
    "maxmemory-policy : 'allkeys-random' \n",
    "'maxmemory-samples'6\n",
    "\"lazyfree-lazy-eviction\"  'no'\n",
    "'lazyfree-lazy-expire' yes\n",
    "'lazyfree-lazy-server-del' yes\n",
    "\n",
    "\n",
    "### gp 분류된것2\n",
    "hash-max-ziplist-entries 502\n",
    "hash-max-ziplist-value 213\n",
    "activerehashing yes\n",
    "hz 32\n",
    "dynamic-hz yes\n",
    "save0_0 760\n",
    "save0_1 3\n",
    "save1_0 426\n",
    "save1_1 24\n",
    "save2_0 37\n",
    "save2_1 8052 \n",
    "rdbcompression no\n",
    "rdbchecksum' no\n",
    "rdb-save-incremental-fsync yes\n",
    "active-defrag-threshold-lower 4\n",
    "active-defrag-threshold-upper 72\n",
    "active-defrag-cycle-min 14\n",
    "active-defrag-cycle-max 70\n",
    "maxmemory 1552\n",
    "maxmemory-policy allkeys-random\n",
    "maxmemory-samples 6\n",
    "lazyfree-lazy-eviction yes\n",
    "lazyfree-lazy-expire yes\n",
    "lazyfree-lazy-server-del no\n",
    "[575,\n",
    " 94,\n",
    " 'no',\n",
    " 10,\n",
    " 'yes',\n",
    " 1072,\n",
    " 5,\n",
    " 465,\n",
    " 24,\n",
    " 83,\n",
    " 9398,\n",
    " 'yes',\n",
    " 'yes',\n",
    " 'no',\n",
    " 26,\n",
    " 81,\n",
    " 20,\n",
    " 75,\n",
    " 1539,\n",
    " 'allkeys-lfu',\n",
    " 4,\n",
    " 'yes',\n",
    " 'no',\n",
    " 'no']\n",
    "\n",
    "### gp_T\n",
    "hash-max-ziplist-entries 575\n",
    "hash-max-ziplist-value 94\n",
    "activerehashing no\n",
    "hz 10\n",
    "dynamic-hz yes\n",
    "save0_0 1072\n",
    "save0_1 5\n",
    "save1_0 465\n",
    "save1_1 24\n",
    "save2_0 83\n",
    "save2_1 9398\n",
    "rdbcompression yes\n",
    "rdbchecksum yes\n",
    "rdb-save-incremental-fsync no\n",
    "active-defrag-threshold-lower 26\n",
    "active-defrag-threshold-upper 81\n",
    "active-defrag-cycle-min 20\n",
    "active-defrag-cycle-max 75\n",
    "maxmemory 1539\n",
    "maxmemory-policy allkeys-lfu\n",
    "maxmemory-samples 4\n",
    "lazyfree-lazy-eviction yes\n",
    "lazyfree-lazy-expire no\n",
    "lazyfree-lazy-server-del no\n",
    "\n"
   ]
  },
  {
   "cell_type": "code",
   "execution_count": null,
   "metadata": {},
   "outputs": [],
   "source": []
  }
 ],
 "metadata": {
  "kernelspec": {
   "display_name": "Python 3",
   "language": "python",
   "name": "python3"
  },
  "language_info": {
   "codemirror_mode": {
    "name": "ipython",
    "version": 3
   },
   "file_extension": ".py",
   "mimetype": "text/x-python",
   "name": "python",
   "nbconvert_exporter": "python",
   "pygments_lexer": "ipython3",
   "version": "3.8.5"
  }
 },
 "nbformat": 4,
 "nbformat_minor": 4
}
