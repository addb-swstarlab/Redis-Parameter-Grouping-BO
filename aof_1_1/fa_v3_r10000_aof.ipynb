{
 "cells": [
  {
   "cell_type": "markdown",
   "metadata": {},
   "source": [
    "# FA & Clustering\n",
    "\n",
    "internal_metrics 만 필요하다!!"
   ]
  },
  {
   "cell_type": "markdown",
   "metadata": {},
   "source": [
    "## FA"
   ]
  },
  {
   "cell_type": "markdown",
   "metadata": {},
   "source": [
    "* 이상치 처리\n",
    "* 요인 수\n",
    "* 클러스터 개수"
   ]
  },
  {
   "cell_type": "markdown",
   "metadata": {},
   "source": [
    "## 데이터 전처리\n",
    "1. 버전 관련 제거\n",
    "2. 모두 동일한 값 제거\n",
    "3. 값이 2개인 경우 제거\n",
    "4. 범주형 변수 제거"
   ]
  },
  {
   "cell_type": "code",
   "execution_count": 1,
   "metadata": {},
   "outputs": [],
   "source": [
    "import pandas as pd\n",
    "from factor_analyzer import FactorAnalyzer\n",
    "import matplotlib.pyplot as plt\n",
    "import seaborn as sns"
   ]
  },
  {
   "cell_type": "code",
   "execution_count": 2,
   "metadata": {},
   "outputs": [],
   "source": [
    "# 데이터 가져오기\n",
    "\n",
    "file_dir = '../data/'\n",
    "file_name = 'internal_metrics_r10000_aof1.csv'\n",
    "\n",
    "internalMetrics_df = pd.read_csv(file_dir+file_name)"
   ]
  },
  {
   "cell_type": "code",
   "execution_count": 3,
   "metadata": {},
   "outputs": [
    {
     "data": {
      "text/plain": [
       "(1000, 131)"
      ]
     },
     "execution_count": 3,
     "metadata": {},
     "output_type": "execute_result"
    }
   ],
   "source": [
    "# 1250 개 추출\n",
    "internalMetrics_df.shape"
   ]
  },
  {
   "cell_type": "code",
   "execution_count": null,
   "metadata": {},
   "outputs": [],
   "source": []
  },
  {
   "cell_type": "markdown",
   "metadata": {},
   "source": [
    "### 0. role master 아닌 경우 제외"
   ]
  },
  {
   "cell_type": "code",
   "execution_count": 4,
   "metadata": {},
   "outputs": [],
   "source": [
    "# master 부분 추출\n",
    "idx_role_null = internalMetrics_df['role'] == 'master'\n",
    "internalMetrics_df = internalMetrics_df[idx_role_null]"
   ]
  },
  {
   "cell_type": "markdown",
   "metadata": {},
   "source": [
    "### 1. 버전 환경 관련 제거\n",
    "* redis_version\n",
    "* redis_builid_id\n",
    "* os\n",
    "* gcc_version\n",
    "* Executable\n",
    "* config_file\n",
    "* tcp_port\n",
    "* run_id\n",
    "* process_id"
   ]
  },
  {
   "cell_type": "code",
   "execution_count": 5,
   "metadata": {},
   "outputs": [],
   "source": [
    "# 버전, 환경 관련 변수\n",
    "var1_noRel = [\n",
    "    'redis_version', \n",
    "    'redis_build_id', \n",
    "    'os',\n",
    "    'gcc_version',\n",
    "    'executable',\n",
    "    'config_file',\n",
    "    'tcp_port',\n",
    "    'run_id',\n",
    "    'process_id',\n",
    "    'master_replid'\n",
    "]"
   ]
  },
  {
   "cell_type": "code",
   "execution_count": 6,
   "metadata": {
    "scrolled": true
   },
   "outputs": [
    {
     "data": {
      "text/plain": [
       "['redis_version',\n",
       " 'redis_build_id',\n",
       " 'os',\n",
       " 'gcc_version',\n",
       " 'executable',\n",
       " 'config_file',\n",
       " 'tcp_port',\n",
       " 'run_id',\n",
       " 'process_id',\n",
       " 'master_replid']"
      ]
     },
     "execution_count": 6,
     "metadata": {},
     "output_type": "execute_result"
    }
   ],
   "source": [
    "# 버전, 환경 관련 변수 확인\n",
    "var1_noRel"
   ]
  },
  {
   "cell_type": "code",
   "execution_count": 7,
   "metadata": {},
   "outputs": [],
   "source": [
    "# 변수 제거 \n",
    "internalMetrics_df = internalMetrics_df.drop(columns = var1_noRel, axis=0)"
   ]
  },
  {
   "cell_type": "code",
   "execution_count": 8,
   "metadata": {},
   "outputs": [
    {
     "data": {
      "text/plain": [
       "121"
      ]
     },
     "execution_count": 8,
     "metadata": {},
     "output_type": "execute_result"
    }
   ],
   "source": [
    "len(internalMetrics_df.columns)"
   ]
  },
  {
   "cell_type": "code",
   "execution_count": 9,
   "metadata": {},
   "outputs": [
    {
     "data": {
      "text/html": [
       "<div>\n",
       "<style scoped>\n",
       "    .dataframe tbody tr th:only-of-type {\n",
       "        vertical-align: middle;\n",
       "    }\n",
       "\n",
       "    .dataframe tbody tr th {\n",
       "        vertical-align: top;\n",
       "    }\n",
       "\n",
       "    .dataframe thead th {\n",
       "        text-align: right;\n",
       "    }\n",
       "</style>\n",
       "<table border=\"1\" class=\"dataframe\">\n",
       "  <thead>\n",
       "    <tr style=\"text-align: right;\">\n",
       "      <th></th>\n",
       "      <th>redis_git_sha1</th>\n",
       "      <th>redis_git_dirty</th>\n",
       "      <th>redis_mode</th>\n",
       "      <th>arch_bits</th>\n",
       "      <th>multiplexing_api</th>\n",
       "      <th>atomicvar_api</th>\n",
       "      <th>uptime_in_seconds</th>\n",
       "      <th>uptime_in_days</th>\n",
       "      <th>hz</th>\n",
       "      <th>configured_hz</th>\n",
       "      <th>...</th>\n",
       "      <th>repl_backlog_first_byte_offset</th>\n",
       "      <th>repl_backlog_histlen</th>\n",
       "      <th>used_cpu_sys</th>\n",
       "      <th>used_cpu_user</th>\n",
       "      <th>used_cpu_sys_children</th>\n",
       "      <th>used_cpu_user_children</th>\n",
       "      <th>cluster_enabled</th>\n",
       "      <th>db0:keys</th>\n",
       "      <th>expires</th>\n",
       "      <th>avg_ttl</th>\n",
       "    </tr>\n",
       "  </thead>\n",
       "  <tbody>\n",
       "    <tr>\n",
       "      <th>0</th>\n",
       "      <td>0</td>\n",
       "      <td>0</td>\n",
       "      <td>standalone</td>\n",
       "      <td>64</td>\n",
       "      <td>epoll</td>\n",
       "      <td>atomic-builtin</td>\n",
       "      <td>6</td>\n",
       "      <td>0</td>\n",
       "      <td>6</td>\n",
       "      <td>6</td>\n",
       "      <td>...</td>\n",
       "      <td>0</td>\n",
       "      <td>0</td>\n",
       "      <td>0.231712</td>\n",
       "      <td>0.102433</td>\n",
       "      <td>0.000000</td>\n",
       "      <td>0.000000</td>\n",
       "      <td>0</td>\n",
       "      <td>5000</td>\n",
       "      <td>0</td>\n",
       "      <td>0</td>\n",
       "    </tr>\n",
       "    <tr>\n",
       "      <th>1</th>\n",
       "      <td>0</td>\n",
       "      <td>0</td>\n",
       "      <td>standalone</td>\n",
       "      <td>64</td>\n",
       "      <td>epoll</td>\n",
       "      <td>atomic-builtin</td>\n",
       "      <td>6</td>\n",
       "      <td>0</td>\n",
       "      <td>18</td>\n",
       "      <td>18</td>\n",
       "      <td>...</td>\n",
       "      <td>0</td>\n",
       "      <td>0</td>\n",
       "      <td>0.246147</td>\n",
       "      <td>0.100983</td>\n",
       "      <td>0.000000</td>\n",
       "      <td>0.000000</td>\n",
       "      <td>0</td>\n",
       "      <td>5000</td>\n",
       "      <td>0</td>\n",
       "      <td>0</td>\n",
       "    </tr>\n",
       "    <tr>\n",
       "      <th>2</th>\n",
       "      <td>0</td>\n",
       "      <td>0</td>\n",
       "      <td>standalone</td>\n",
       "      <td>64</td>\n",
       "      <td>epoll</td>\n",
       "      <td>atomic-builtin</td>\n",
       "      <td>483</td>\n",
       "      <td>0</td>\n",
       "      <td>16</td>\n",
       "      <td>16</td>\n",
       "      <td>...</td>\n",
       "      <td>0</td>\n",
       "      <td>0</td>\n",
       "      <td>1.155518</td>\n",
       "      <td>0.506820</td>\n",
       "      <td>0.001195</td>\n",
       "      <td>0.002390</td>\n",
       "      <td>0</td>\n",
       "      <td>5000</td>\n",
       "      <td>0</td>\n",
       "      <td>0</td>\n",
       "    </tr>\n",
       "    <tr>\n",
       "      <th>3</th>\n",
       "      <td>0</td>\n",
       "      <td>0</td>\n",
       "      <td>standalone</td>\n",
       "      <td>64</td>\n",
       "      <td>epoll</td>\n",
       "      <td>atomic-builtin</td>\n",
       "      <td>6</td>\n",
       "      <td>0</td>\n",
       "      <td>2</td>\n",
       "      <td>2</td>\n",
       "      <td>...</td>\n",
       "      <td>0</td>\n",
       "      <td>0</td>\n",
       "      <td>0.277134</td>\n",
       "      <td>0.103668</td>\n",
       "      <td>0.000000</td>\n",
       "      <td>0.000000</td>\n",
       "      <td>0</td>\n",
       "      <td>5000</td>\n",
       "      <td>0</td>\n",
       "      <td>0</td>\n",
       "    </tr>\n",
       "    <tr>\n",
       "      <th>4</th>\n",
       "      <td>0</td>\n",
       "      <td>0</td>\n",
       "      <td>standalone</td>\n",
       "      <td>64</td>\n",
       "      <td>epoll</td>\n",
       "      <td>atomic-builtin</td>\n",
       "      <td>483</td>\n",
       "      <td>0</td>\n",
       "      <td>7</td>\n",
       "      <td>7</td>\n",
       "      <td>...</td>\n",
       "      <td>0</td>\n",
       "      <td>0</td>\n",
       "      <td>1.215523</td>\n",
       "      <td>0.382766</td>\n",
       "      <td>0.001959</td>\n",
       "      <td>0.001959</td>\n",
       "      <td>0</td>\n",
       "      <td>5000</td>\n",
       "      <td>0</td>\n",
       "      <td>0</td>\n",
       "    </tr>\n",
       "  </tbody>\n",
       "</table>\n",
       "<p>5 rows × 121 columns</p>\n",
       "</div>"
      ],
      "text/plain": [
       "   redis_git_sha1  redis_git_dirty  redis_mode  arch_bits multiplexing_api  \\\n",
       "0               0                0  standalone         64            epoll   \n",
       "1               0                0  standalone         64            epoll   \n",
       "2               0                0  standalone         64            epoll   \n",
       "3               0                0  standalone         64            epoll   \n",
       "4               0                0  standalone         64            epoll   \n",
       "\n",
       "    atomicvar_api  uptime_in_seconds  uptime_in_days  hz  configured_hz  ...  \\\n",
       "0  atomic-builtin                  6               0   6              6  ...   \n",
       "1  atomic-builtin                  6               0  18             18  ...   \n",
       "2  atomic-builtin                483               0  16             16  ...   \n",
       "3  atomic-builtin                  6               0   2              2  ...   \n",
       "4  atomic-builtin                483               0   7              7  ...   \n",
       "\n",
       "   repl_backlog_first_byte_offset  repl_backlog_histlen  used_cpu_sys  \\\n",
       "0                               0                     0      0.231712   \n",
       "1                               0                     0      0.246147   \n",
       "2                               0                     0      1.155518   \n",
       "3                               0                     0      0.277134   \n",
       "4                               0                     0      1.215523   \n",
       "\n",
       "   used_cpu_user  used_cpu_sys_children  used_cpu_user_children  \\\n",
       "0       0.102433               0.000000                0.000000   \n",
       "1       0.100983               0.000000                0.000000   \n",
       "2       0.506820               0.001195                0.002390   \n",
       "3       0.103668               0.000000                0.000000   \n",
       "4       0.382766               0.001959                0.001959   \n",
       "\n",
       "   cluster_enabled  db0:keys  expires  avg_ttl  \n",
       "0                0      5000        0        0  \n",
       "1                0      5000        0        0  \n",
       "2                0      5000        0        0  \n",
       "3                0      5000        0        0  \n",
       "4                0      5000        0        0  \n",
       "\n",
       "[5 rows x 121 columns]"
      ]
     },
     "execution_count": 9,
     "metadata": {},
     "output_type": "execute_result"
    }
   ],
   "source": [
    "# 변수 제거 데이터프레임 확인\n",
    "internalMetrics_df.head()"
   ]
  },
  {
   "cell_type": "markdown",
   "metadata": {},
   "source": [
    "### 2. 모두 동일한 값\n",
    "fa의 경우 모두 동일한 값이 존재하면 실행 시 오류 발생"
   ]
  },
  {
   "cell_type": "code",
   "execution_count": 10,
   "metadata": {},
   "outputs": [
    {
     "data": {
      "text/plain": [
       "121"
      ]
     },
     "execution_count": 10,
     "metadata": {},
     "output_type": "execute_result"
    }
   ],
   "source": [
    "len(internalMetrics_df.columns)"
   ]
  },
  {
   "cell_type": "code",
   "execution_count": 11,
   "metadata": {},
   "outputs": [],
   "source": [
    "def find_var_count(df, count):\n",
    "    var = []\n",
    "    \n",
    "    for metric in df:\n",
    "        if len(df[metric].unique()) == count:\n",
    "            var.append(metric)\n",
    "    return var"
   ]
  },
  {
   "cell_type": "code",
   "execution_count": 12,
   "metadata": {
    "scrolled": true
   },
   "outputs": [],
   "source": [
    "# 모두 동일한 값 가지고 있는 변수 리스트\n",
    "# sameValue_var = []\n",
    "\n",
    "# for metric in internalMetrics_df:\n",
    "#     if len(internalMetrics_df[metric].unique()) == 1:\n",
    "#         sameValue_var.append(metric)\n",
    "\n",
    "# len(sameValue_var)\n",
    "\n",
    "sameValue = find_var_count(internalMetrics_df, 1)\n",
    "\n",
    "# 동일 값 변수 제거\n",
    "internalMetrics_df = internalMetrics_df.drop(columns = sameValue, axis = 0)"
   ]
  },
  {
   "cell_type": "markdown",
   "metadata": {},
   "source": [
    "### 3. 값이 2개인 경우 제거"
   ]
  },
  {
   "cell_type": "code",
   "execution_count": 13,
   "metadata": {},
   "outputs": [],
   "source": [
    "# 값이 2개인 경우\n",
    "twoVal_var = find_var_count(internalMetrics_df, 2)\n",
    "\n",
    "internalMetrics_df = internalMetrics_df.drop(columns = twoVal_var, axis = 0)"
   ]
  },
  {
   "cell_type": "code",
   "execution_count": 14,
   "metadata": {},
   "outputs": [
    {
     "data": {
      "text/plain": [
       "49"
      ]
     },
     "execution_count": 14,
     "metadata": {},
     "output_type": "execute_result"
    }
   ],
   "source": [
    "len(internalMetrics_df.columns)"
   ]
  },
  {
   "cell_type": "code",
   "execution_count": 15,
   "metadata": {},
   "outputs": [],
   "source": [
    "# latest_fork_usec, slave_expires_tracked_keys, maxmemory-polcy, \n",
    "# print(internalMetrics_df['slave_expires_tracked_keys'].unique())\n",
    "# print(internalMetrics_df['latest_fork_usec'].unique())"
   ]
  },
  {
   "cell_type": "markdown",
   "metadata": {},
   "source": [
    "### 4. 범주형 변수 제거"
   ]
  },
  {
   "cell_type": "code",
   "execution_count": 16,
   "metadata": {},
   "outputs": [],
   "source": [
    "# maxmemory_policy만 제거해보고 해보기\n",
    "del_col = ['maxmemory_policy']\n",
    "# del_col = ['role','maxmemory_policy', 'slave_expires_tracked_keys', 'latest_fork_usec']\n",
    "internalMetrics_df = internalMetrics_df.drop(columns = del_col, axis = 0)\n"
   ]
  },
  {
   "cell_type": "code",
   "execution_count": 17,
   "metadata": {},
   "outputs": [],
   "source": [
    "# internalMetrics_df = pd.get_dummies(internalMetrics_df)\n",
    "# internalMetrics_df.head()"
   ]
  },
  {
   "cell_type": "code",
   "execution_count": 18,
   "metadata": {},
   "outputs": [],
   "source": [
    "# list(internalMetrics_df.dtypes)"
   ]
  },
  {
   "cell_type": "code",
   "execution_count": 19,
   "metadata": {
    "scrolled": true
   },
   "outputs": [
    {
     "data": {
      "text/plain": [
       "48"
      ]
     },
     "execution_count": 19,
     "metadata": {},
     "output_type": "execute_result"
    }
   ],
   "source": [
    "# 컬럼 개수\n",
    "len(internalMetrics_df.columns)"
   ]
  },
  {
   "cell_type": "markdown",
   "metadata": {},
   "source": [
    "---"
   ]
  },
  {
   "cell_type": "markdown",
   "metadata": {},
   "source": [
    "## Scaling"
   ]
  },
  {
   "cell_type": "code",
   "execution_count": 20,
   "metadata": {},
   "outputs": [],
   "source": [
    "from sklearn.preprocessing import StandardScaler, MinMaxScaler"
   ]
  },
  {
   "cell_type": "markdown",
   "metadata": {},
   "source": [
    "### standardscaler"
   ]
  },
  {
   "cell_type": "code",
   "execution_count": 21,
   "metadata": {},
   "outputs": [],
   "source": [
    "std_scaler = StandardScaler()\n",
    "df = internalMetrics_df.copy()\n",
    "std_scaler.fit(internalMetrics_df)\n",
    "internalMetrics_df = std_scaler.transform(internalMetrics_df)\n"
   ]
  },
  {
   "cell_type": "code",
   "execution_count": 22,
   "metadata": {},
   "outputs": [
    {
     "data": {
      "text/plain": [
       "array([1., 1., 1., 1., 1., 1., 1., 1., 1., 1., 1., 1., 1., 1., 1., 1., 1.,\n",
       "       1., 1., 1., 1., 1., 1., 1., 1., 1., 1., 1., 1., 1., 1., 1., 1., 1.,\n",
       "       1., 1., 1., 1., 1., 1., 1., 1., 1., 1., 1., 1., 1., 1.])"
      ]
     },
     "execution_count": 22,
     "metadata": {},
     "output_type": "execute_result"
    }
   ],
   "source": [
    "# 표준펴차 확인\n",
    "internalMetrics_df.std(axis=0)"
   ]
  },
  {
   "cell_type": "code",
   "execution_count": 23,
   "metadata": {},
   "outputs": [],
   "source": [
    "internalMetrics_df = pd.DataFrame(internalMetrics_df, columns = df.columns, index = list(df.index.values))\n"
   ]
  },
  {
   "cell_type": "code",
   "execution_count": 24,
   "metadata": {
    "scrolled": true
   },
   "outputs": [
    {
     "data": {
      "text/html": [
       "<div>\n",
       "<style scoped>\n",
       "    .dataframe tbody tr th:only-of-type {\n",
       "        vertical-align: middle;\n",
       "    }\n",
       "\n",
       "    .dataframe tbody tr th {\n",
       "        vertical-align: top;\n",
       "    }\n",
       "\n",
       "    .dataframe thead th {\n",
       "        text-align: right;\n",
       "    }\n",
       "</style>\n",
       "<table border=\"1\" class=\"dataframe\">\n",
       "  <thead>\n",
       "    <tr style=\"text-align: right;\">\n",
       "      <th></th>\n",
       "      <th>uptime_in_seconds</th>\n",
       "      <th>hz</th>\n",
       "      <th>configured_hz</th>\n",
       "      <th>lru_clock</th>\n",
       "      <th>used_memory</th>\n",
       "      <th>used_memory_human</th>\n",
       "      <th>used_memory_rss</th>\n",
       "      <th>used_memory_rss_human</th>\n",
       "      <th>used_memory_peak</th>\n",
       "      <th>used_memory_peak_human</th>\n",
       "      <th>...</th>\n",
       "      <th>total_net_output_bytes</th>\n",
       "      <th>instantaneous_input_kbps</th>\n",
       "      <th>instantaneous_output_kbps</th>\n",
       "      <th>keyspace_misses</th>\n",
       "      <th>latest_fork_usec</th>\n",
       "      <th>used_cpu_sys</th>\n",
       "      <th>used_cpu_user</th>\n",
       "      <th>used_cpu_sys_children</th>\n",
       "      <th>used_cpu_user_children</th>\n",
       "      <th>db0:keys</th>\n",
       "    </tr>\n",
       "  </thead>\n",
       "  <tbody>\n",
       "    <tr>\n",
       "      <th>0</th>\n",
       "      <td>-0.694134</td>\n",
       "      <td>-1.267939</td>\n",
       "      <td>-1.267939</td>\n",
       "      <td>-1.052629</td>\n",
       "      <td>-0.034167</td>\n",
       "      <td>-0.033106</td>\n",
       "      <td>-0.074192</td>\n",
       "      <td>-0.076905</td>\n",
       "      <td>-0.189661</td>\n",
       "      <td>-0.192137</td>\n",
       "      <td>...</td>\n",
       "      <td>-0.034985</td>\n",
       "      <td>-0.179861</td>\n",
       "      <td>-0.179855</td>\n",
       "      <td>0.018234</td>\n",
       "      <td>-0.137784</td>\n",
       "      <td>-0.766952</td>\n",
       "      <td>-0.752263</td>\n",
       "      <td>-0.611301</td>\n",
       "      <td>-0.571696</td>\n",
       "      <td>-0.039743</td>\n",
       "    </tr>\n",
       "    <tr>\n",
       "      <th>1</th>\n",
       "      <td>-0.694134</td>\n",
       "      <td>-0.229921</td>\n",
       "      <td>-0.229921</td>\n",
       "      <td>-1.052553</td>\n",
       "      <td>-0.032366</td>\n",
       "      <td>-0.033106</td>\n",
       "      <td>-0.265885</td>\n",
       "      <td>-0.269334</td>\n",
       "      <td>-0.188541</td>\n",
       "      <td>-0.192137</td>\n",
       "      <td>...</td>\n",
       "      <td>-0.034985</td>\n",
       "      <td>1.043098</td>\n",
       "      <td>1.043378</td>\n",
       "      <td>0.018234</td>\n",
       "      <td>-0.137784</td>\n",
       "      <td>-0.730844</td>\n",
       "      <td>-0.762178</td>\n",
       "      <td>-0.611301</td>\n",
       "      <td>-0.571696</td>\n",
       "      <td>-0.039743</td>\n",
       "    </tr>\n",
       "    <tr>\n",
       "      <th>2</th>\n",
       "      <td>1.460622</td>\n",
       "      <td>-0.402924</td>\n",
       "      <td>-0.402924</td>\n",
       "      <td>-1.050691</td>\n",
       "      <td>-0.032366</td>\n",
       "      <td>-0.033106</td>\n",
       "      <td>-0.217022</td>\n",
       "      <td>-0.221227</td>\n",
       "      <td>-0.188261</td>\n",
       "      <td>-0.192137</td>\n",
       "      <td>...</td>\n",
       "      <td>-0.034985</td>\n",
       "      <td>-1.226197</td>\n",
       "      <td>-1.226019</td>\n",
       "      <td>0.018234</td>\n",
       "      <td>0.093092</td>\n",
       "      <td>1.543863</td>\n",
       "      <td>2.012914</td>\n",
       "      <td>0.563665</td>\n",
       "      <td>1.705007</td>\n",
       "      <td>-0.039743</td>\n",
       "    </tr>\n",
       "    <tr>\n",
       "      <th>3</th>\n",
       "      <td>-0.694134</td>\n",
       "      <td>-1.613945</td>\n",
       "      <td>-1.613945</td>\n",
       "      <td>-1.050645</td>\n",
       "      <td>-0.032366</td>\n",
       "      <td>-0.033106</td>\n",
       "      <td>-0.243333</td>\n",
       "      <td>-0.240470</td>\n",
       "      <td>-0.188541</td>\n",
       "      <td>-0.192137</td>\n",
       "      <td>...</td>\n",
       "      <td>-0.034985</td>\n",
       "      <td>-0.880861</td>\n",
       "      <td>-0.881004</td>\n",
       "      <td>0.018234</td>\n",
       "      <td>-0.137784</td>\n",
       "      <td>-0.653333</td>\n",
       "      <td>-0.743818</td>\n",
       "      <td>-0.611301</td>\n",
       "      <td>-0.571696</td>\n",
       "      <td>-0.039743</td>\n",
       "    </tr>\n",
       "    <tr>\n",
       "      <th>4</th>\n",
       "      <td>1.460622</td>\n",
       "      <td>-1.181437</td>\n",
       "      <td>-1.181437</td>\n",
       "      <td>-1.048784</td>\n",
       "      <td>-0.032366</td>\n",
       "      <td>-0.033106</td>\n",
       "      <td>-0.318506</td>\n",
       "      <td>-0.317442</td>\n",
       "      <td>-0.188261</td>\n",
       "      <td>-0.192137</td>\n",
       "      <td>...</td>\n",
       "      <td>-0.034985</td>\n",
       "      <td>-1.223834</td>\n",
       "      <td>-1.223738</td>\n",
       "      <td>0.018234</td>\n",
       "      <td>0.064232</td>\n",
       "      <td>1.693960</td>\n",
       "      <td>1.164639</td>\n",
       "      <td>1.314856</td>\n",
       "      <td>1.294438</td>\n",
       "      <td>-0.039743</td>\n",
       "    </tr>\n",
       "  </tbody>\n",
       "</table>\n",
       "<p>5 rows × 48 columns</p>\n",
       "</div>"
      ],
      "text/plain": [
       "   uptime_in_seconds        hz  configured_hz  lru_clock  used_memory  \\\n",
       "0          -0.694134 -1.267939      -1.267939  -1.052629    -0.034167   \n",
       "1          -0.694134 -0.229921      -0.229921  -1.052553    -0.032366   \n",
       "2           1.460622 -0.402924      -0.402924  -1.050691    -0.032366   \n",
       "3          -0.694134 -1.613945      -1.613945  -1.050645    -0.032366   \n",
       "4           1.460622 -1.181437      -1.181437  -1.048784    -0.032366   \n",
       "\n",
       "   used_memory_human  used_memory_rss  used_memory_rss_human  \\\n",
       "0          -0.033106        -0.074192              -0.076905   \n",
       "1          -0.033106        -0.265885              -0.269334   \n",
       "2          -0.033106        -0.217022              -0.221227   \n",
       "3          -0.033106        -0.243333              -0.240470   \n",
       "4          -0.033106        -0.318506              -0.317442   \n",
       "\n",
       "   used_memory_peak  used_memory_peak_human  ...  total_net_output_bytes  \\\n",
       "0         -0.189661               -0.192137  ...               -0.034985   \n",
       "1         -0.188541               -0.192137  ...               -0.034985   \n",
       "2         -0.188261               -0.192137  ...               -0.034985   \n",
       "3         -0.188541               -0.192137  ...               -0.034985   \n",
       "4         -0.188261               -0.192137  ...               -0.034985   \n",
       "\n",
       "   instantaneous_input_kbps  instantaneous_output_kbps  keyspace_misses  \\\n",
       "0                 -0.179861                  -0.179855         0.018234   \n",
       "1                  1.043098                   1.043378         0.018234   \n",
       "2                 -1.226197                  -1.226019         0.018234   \n",
       "3                 -0.880861                  -0.881004         0.018234   \n",
       "4                 -1.223834                  -1.223738         0.018234   \n",
       "\n",
       "   latest_fork_usec  used_cpu_sys  used_cpu_user  used_cpu_sys_children  \\\n",
       "0         -0.137784     -0.766952      -0.752263              -0.611301   \n",
       "1         -0.137784     -0.730844      -0.762178              -0.611301   \n",
       "2          0.093092      1.543863       2.012914               0.563665   \n",
       "3         -0.137784     -0.653333      -0.743818              -0.611301   \n",
       "4          0.064232      1.693960       1.164639               1.314856   \n",
       "\n",
       "   used_cpu_user_children  db0:keys  \n",
       "0               -0.571696 -0.039743  \n",
       "1               -0.571696 -0.039743  \n",
       "2                1.705007 -0.039743  \n",
       "3               -0.571696 -0.039743  \n",
       "4                1.294438 -0.039743  \n",
       "\n",
       "[5 rows x 48 columns]"
      ]
     },
     "execution_count": 24,
     "metadata": {},
     "output_type": "execute_result"
    }
   ],
   "source": [
    "internalMetrics_df.head()"
   ]
  },
  {
   "cell_type": "markdown",
   "metadata": {},
   "source": [
    "### minmaxscaler"
   ]
  },
  {
   "cell_type": "code",
   "execution_count": 25,
   "metadata": {},
   "outputs": [],
   "source": [
    "# # 객체생성\n",
    "# scaler = MinMaxScaler()\n",
    "\n",
    "# # fit -> transform\n",
    "# scaler.fit(internalMetrics_df) # df는 2차원 이상의 값이어야 함\n",
    "# internalMetrics_df_MinMax = scaler.transform(internalMetrics_df.copy())\n",
    "\n",
    "# # 배열형태로 반환되기 때문에 데이터 프레임으로 변환해주는 작업\n",
    "# internalMetrics_df_MinMax = pd.DataFrame(data = internalMetrics_df_MinMax, columns=internalMetrics_df.columns)"
   ]
  },
  {
   "cell_type": "code",
   "execution_count": 26,
   "metadata": {},
   "outputs": [],
   "source": [
    "# internalMetrics_df_MinMax.head()"
   ]
  },
  {
   "cell_type": "markdown",
   "metadata": {},
   "source": [
    "---"
   ]
  },
  {
   "cell_type": "markdown",
   "metadata": {},
   "source": [
    "## Factor Analysis"
   ]
  },
  {
   "cell_type": "code",
   "execution_count": 27,
   "metadata": {},
   "outputs": [
    {
     "data": {
      "text/html": [
       "<div>\n",
       "<style scoped>\n",
       "    .dataframe tbody tr th:only-of-type {\n",
       "        vertical-align: middle;\n",
       "    }\n",
       "\n",
       "    .dataframe tbody tr th {\n",
       "        vertical-align: top;\n",
       "    }\n",
       "\n",
       "    .dataframe thead th {\n",
       "        text-align: right;\n",
       "    }\n",
       "</style>\n",
       "<table border=\"1\" class=\"dataframe\">\n",
       "  <thead>\n",
       "    <tr style=\"text-align: right;\">\n",
       "      <th></th>\n",
       "      <th>uptime_in_seconds</th>\n",
       "      <th>hz</th>\n",
       "      <th>configured_hz</th>\n",
       "      <th>lru_clock</th>\n",
       "      <th>used_memory</th>\n",
       "      <th>used_memory_human</th>\n",
       "      <th>used_memory_rss</th>\n",
       "      <th>used_memory_rss_human</th>\n",
       "      <th>used_memory_peak</th>\n",
       "      <th>used_memory_peak_human</th>\n",
       "      <th>...</th>\n",
       "      <th>total_net_output_bytes</th>\n",
       "      <th>instantaneous_input_kbps</th>\n",
       "      <th>instantaneous_output_kbps</th>\n",
       "      <th>keyspace_misses</th>\n",
       "      <th>latest_fork_usec</th>\n",
       "      <th>used_cpu_sys</th>\n",
       "      <th>used_cpu_user</th>\n",
       "      <th>used_cpu_sys_children</th>\n",
       "      <th>used_cpu_user_children</th>\n",
       "      <th>db0:keys</th>\n",
       "    </tr>\n",
       "  </thead>\n",
       "  <tbody>\n",
       "    <tr>\n",
       "      <th>0</th>\n",
       "      <td>-0.694134</td>\n",
       "      <td>-1.267939</td>\n",
       "      <td>-1.267939</td>\n",
       "      <td>-1.052629</td>\n",
       "      <td>-0.034167</td>\n",
       "      <td>-0.033106</td>\n",
       "      <td>-0.074192</td>\n",
       "      <td>-0.076905</td>\n",
       "      <td>-0.189661</td>\n",
       "      <td>-0.192137</td>\n",
       "      <td>...</td>\n",
       "      <td>-0.034985</td>\n",
       "      <td>-0.179861</td>\n",
       "      <td>-0.179855</td>\n",
       "      <td>0.018234</td>\n",
       "      <td>-0.137784</td>\n",
       "      <td>-0.766952</td>\n",
       "      <td>-0.752263</td>\n",
       "      <td>-0.611301</td>\n",
       "      <td>-0.571696</td>\n",
       "      <td>-0.039743</td>\n",
       "    </tr>\n",
       "    <tr>\n",
       "      <th>1</th>\n",
       "      <td>-0.694134</td>\n",
       "      <td>-0.229921</td>\n",
       "      <td>-0.229921</td>\n",
       "      <td>-1.052553</td>\n",
       "      <td>-0.032366</td>\n",
       "      <td>-0.033106</td>\n",
       "      <td>-0.265885</td>\n",
       "      <td>-0.269334</td>\n",
       "      <td>-0.188541</td>\n",
       "      <td>-0.192137</td>\n",
       "      <td>...</td>\n",
       "      <td>-0.034985</td>\n",
       "      <td>1.043098</td>\n",
       "      <td>1.043378</td>\n",
       "      <td>0.018234</td>\n",
       "      <td>-0.137784</td>\n",
       "      <td>-0.730844</td>\n",
       "      <td>-0.762178</td>\n",
       "      <td>-0.611301</td>\n",
       "      <td>-0.571696</td>\n",
       "      <td>-0.039743</td>\n",
       "    </tr>\n",
       "    <tr>\n",
       "      <th>2</th>\n",
       "      <td>1.460622</td>\n",
       "      <td>-0.402924</td>\n",
       "      <td>-0.402924</td>\n",
       "      <td>-1.050691</td>\n",
       "      <td>-0.032366</td>\n",
       "      <td>-0.033106</td>\n",
       "      <td>-0.217022</td>\n",
       "      <td>-0.221227</td>\n",
       "      <td>-0.188261</td>\n",
       "      <td>-0.192137</td>\n",
       "      <td>...</td>\n",
       "      <td>-0.034985</td>\n",
       "      <td>-1.226197</td>\n",
       "      <td>-1.226019</td>\n",
       "      <td>0.018234</td>\n",
       "      <td>0.093092</td>\n",
       "      <td>1.543863</td>\n",
       "      <td>2.012914</td>\n",
       "      <td>0.563665</td>\n",
       "      <td>1.705007</td>\n",
       "      <td>-0.039743</td>\n",
       "    </tr>\n",
       "    <tr>\n",
       "      <th>3</th>\n",
       "      <td>-0.694134</td>\n",
       "      <td>-1.613945</td>\n",
       "      <td>-1.613945</td>\n",
       "      <td>-1.050645</td>\n",
       "      <td>-0.032366</td>\n",
       "      <td>-0.033106</td>\n",
       "      <td>-0.243333</td>\n",
       "      <td>-0.240470</td>\n",
       "      <td>-0.188541</td>\n",
       "      <td>-0.192137</td>\n",
       "      <td>...</td>\n",
       "      <td>-0.034985</td>\n",
       "      <td>-0.880861</td>\n",
       "      <td>-0.881004</td>\n",
       "      <td>0.018234</td>\n",
       "      <td>-0.137784</td>\n",
       "      <td>-0.653333</td>\n",
       "      <td>-0.743818</td>\n",
       "      <td>-0.611301</td>\n",
       "      <td>-0.571696</td>\n",
       "      <td>-0.039743</td>\n",
       "    </tr>\n",
       "    <tr>\n",
       "      <th>4</th>\n",
       "      <td>1.460622</td>\n",
       "      <td>-1.181437</td>\n",
       "      <td>-1.181437</td>\n",
       "      <td>-1.048784</td>\n",
       "      <td>-0.032366</td>\n",
       "      <td>-0.033106</td>\n",
       "      <td>-0.318506</td>\n",
       "      <td>-0.317442</td>\n",
       "      <td>-0.188261</td>\n",
       "      <td>-0.192137</td>\n",
       "      <td>...</td>\n",
       "      <td>-0.034985</td>\n",
       "      <td>-1.223834</td>\n",
       "      <td>-1.223738</td>\n",
       "      <td>0.018234</td>\n",
       "      <td>0.064232</td>\n",
       "      <td>1.693960</td>\n",
       "      <td>1.164639</td>\n",
       "      <td>1.314856</td>\n",
       "      <td>1.294438</td>\n",
       "      <td>-0.039743</td>\n",
       "    </tr>\n",
       "    <tr>\n",
       "      <th>...</th>\n",
       "      <td>...</td>\n",
       "      <td>...</td>\n",
       "      <td>...</td>\n",
       "      <td>...</td>\n",
       "      <td>...</td>\n",
       "      <td>...</td>\n",
       "      <td>...</td>\n",
       "      <td>...</td>\n",
       "      <td>...</td>\n",
       "      <td>...</td>\n",
       "      <td>...</td>\n",
       "      <td>...</td>\n",
       "      <td>...</td>\n",
       "      <td>...</td>\n",
       "      <td>...</td>\n",
       "      <td>...</td>\n",
       "      <td>...</td>\n",
       "      <td>...</td>\n",
       "      <td>...</td>\n",
       "      <td>...</td>\n",
       "      <td>...</td>\n",
       "    </tr>\n",
       "    <tr>\n",
       "      <th>995</th>\n",
       "      <td>-0.694134</td>\n",
       "      <td>-1.354440</td>\n",
       "      <td>-1.354440</td>\n",
       "      <td>-0.232463</td>\n",
       "      <td>-0.032366</td>\n",
       "      <td>-0.033106</td>\n",
       "      <td>-0.247091</td>\n",
       "      <td>-0.250091</td>\n",
       "      <td>-0.188541</td>\n",
       "      <td>-0.192137</td>\n",
       "      <td>...</td>\n",
       "      <td>-0.034985</td>\n",
       "      <td>-0.358078</td>\n",
       "      <td>-0.358065</td>\n",
       "      <td>0.018234</td>\n",
       "      <td>-0.137784</td>\n",
       "      <td>-0.685203</td>\n",
       "      <td>-0.611962</td>\n",
       "      <td>-0.611301</td>\n",
       "      <td>-0.571696</td>\n",
       "      <td>-0.039743</td>\n",
       "    </tr>\n",
       "    <tr>\n",
       "      <th>996</th>\n",
       "      <td>-0.694134</td>\n",
       "      <td>0.548592</td>\n",
       "      <td>0.548592</td>\n",
       "      <td>-0.232418</td>\n",
       "      <td>-0.032366</td>\n",
       "      <td>-0.033106</td>\n",
       "      <td>-0.239574</td>\n",
       "      <td>-0.240470</td>\n",
       "      <td>-0.188261</td>\n",
       "      <td>-0.192137</td>\n",
       "      <td>...</td>\n",
       "      <td>-0.034985</td>\n",
       "      <td>1.118259</td>\n",
       "      <td>1.118369</td>\n",
       "      <td>0.018234</td>\n",
       "      <td>-0.137784</td>\n",
       "      <td>-0.648453</td>\n",
       "      <td>-0.777426</td>\n",
       "      <td>-0.611301</td>\n",
       "      <td>-0.571696</td>\n",
       "      <td>-0.039743</td>\n",
       "    </tr>\n",
       "    <tr>\n",
       "      <th>997</th>\n",
       "      <td>-0.694134</td>\n",
       "      <td>0.289088</td>\n",
       "      <td>0.289088</td>\n",
       "      <td>-0.232368</td>\n",
       "      <td>-0.032816</td>\n",
       "      <td>-0.033106</td>\n",
       "      <td>-0.265885</td>\n",
       "      <td>-0.269334</td>\n",
       "      <td>-0.189661</td>\n",
       "      <td>-0.192137</td>\n",
       "      <td>...</td>\n",
       "      <td>-0.034985</td>\n",
       "      <td>0.889259</td>\n",
       "      <td>0.889119</td>\n",
       "      <td>0.018234</td>\n",
       "      <td>-0.137784</td>\n",
       "      <td>-0.627691</td>\n",
       "      <td>-0.713868</td>\n",
       "      <td>-0.611301</td>\n",
       "      <td>-0.571696</td>\n",
       "      <td>-0.039743</td>\n",
       "    </tr>\n",
       "    <tr>\n",
       "      <th>998</th>\n",
       "      <td>1.736178</td>\n",
       "      <td>1.413607</td>\n",
       "      <td>1.413607</td>\n",
       "      <td>-0.230274</td>\n",
       "      <td>-0.032366</td>\n",
       "      <td>-0.033106</td>\n",
       "      <td>-0.145607</td>\n",
       "      <td>-0.144255</td>\n",
       "      <td>-0.188541</td>\n",
       "      <td>-0.192137</td>\n",
       "      <td>...</td>\n",
       "      <td>-0.034985</td>\n",
       "      <td>-1.225606</td>\n",
       "      <td>-1.225734</td>\n",
       "      <td>0.018234</td>\n",
       "      <td>0.073016</td>\n",
       "      <td>1.657046</td>\n",
       "      <td>1.718246</td>\n",
       "      <td>1.609827</td>\n",
       "      <td>0.145608</td>\n",
       "      <td>-0.039743</td>\n",
       "    </tr>\n",
       "    <tr>\n",
       "      <th>999</th>\n",
       "      <td>-0.694134</td>\n",
       "      <td>0.548592</td>\n",
       "      <td>0.548592</td>\n",
       "      <td>-0.230228</td>\n",
       "      <td>-0.034167</td>\n",
       "      <td>-0.033106</td>\n",
       "      <td>-0.160642</td>\n",
       "      <td>-0.163498</td>\n",
       "      <td>-0.189661</td>\n",
       "      <td>-0.192137</td>\n",
       "      <td>...</td>\n",
       "      <td>-0.034985</td>\n",
       "      <td>1.117873</td>\n",
       "      <td>1.117798</td>\n",
       "      <td>0.018234</td>\n",
       "      <td>-0.137784</td>\n",
       "      <td>-0.717394</td>\n",
       "      <td>-0.740768</td>\n",
       "      <td>-0.611301</td>\n",
       "      <td>-0.571696</td>\n",
       "      <td>-0.039743</td>\n",
       "    </tr>\n",
       "  </tbody>\n",
       "</table>\n",
       "<p>1000 rows × 48 columns</p>\n",
       "</div>"
      ],
      "text/plain": [
       "     uptime_in_seconds        hz  configured_hz  lru_clock  used_memory  \\\n",
       "0            -0.694134 -1.267939      -1.267939  -1.052629    -0.034167   \n",
       "1            -0.694134 -0.229921      -0.229921  -1.052553    -0.032366   \n",
       "2             1.460622 -0.402924      -0.402924  -1.050691    -0.032366   \n",
       "3            -0.694134 -1.613945      -1.613945  -1.050645    -0.032366   \n",
       "4             1.460622 -1.181437      -1.181437  -1.048784    -0.032366   \n",
       "..                 ...       ...            ...        ...          ...   \n",
       "995          -0.694134 -1.354440      -1.354440  -0.232463    -0.032366   \n",
       "996          -0.694134  0.548592       0.548592  -0.232418    -0.032366   \n",
       "997          -0.694134  0.289088       0.289088  -0.232368    -0.032816   \n",
       "998           1.736178  1.413607       1.413607  -0.230274    -0.032366   \n",
       "999          -0.694134  0.548592       0.548592  -0.230228    -0.034167   \n",
       "\n",
       "     used_memory_human  used_memory_rss  used_memory_rss_human  \\\n",
       "0            -0.033106        -0.074192              -0.076905   \n",
       "1            -0.033106        -0.265885              -0.269334   \n",
       "2            -0.033106        -0.217022              -0.221227   \n",
       "3            -0.033106        -0.243333              -0.240470   \n",
       "4            -0.033106        -0.318506              -0.317442   \n",
       "..                 ...              ...                    ...   \n",
       "995          -0.033106        -0.247091              -0.250091   \n",
       "996          -0.033106        -0.239574              -0.240470   \n",
       "997          -0.033106        -0.265885              -0.269334   \n",
       "998          -0.033106        -0.145607              -0.144255   \n",
       "999          -0.033106        -0.160642              -0.163498   \n",
       "\n",
       "     used_memory_peak  used_memory_peak_human  ...  total_net_output_bytes  \\\n",
       "0           -0.189661               -0.192137  ...               -0.034985   \n",
       "1           -0.188541               -0.192137  ...               -0.034985   \n",
       "2           -0.188261               -0.192137  ...               -0.034985   \n",
       "3           -0.188541               -0.192137  ...               -0.034985   \n",
       "4           -0.188261               -0.192137  ...               -0.034985   \n",
       "..                ...                     ...  ...                     ...   \n",
       "995         -0.188541               -0.192137  ...               -0.034985   \n",
       "996         -0.188261               -0.192137  ...               -0.034985   \n",
       "997         -0.189661               -0.192137  ...               -0.034985   \n",
       "998         -0.188541               -0.192137  ...               -0.034985   \n",
       "999         -0.189661               -0.192137  ...               -0.034985   \n",
       "\n",
       "     instantaneous_input_kbps  instantaneous_output_kbps  keyspace_misses  \\\n",
       "0                   -0.179861                  -0.179855         0.018234   \n",
       "1                    1.043098                   1.043378         0.018234   \n",
       "2                   -1.226197                  -1.226019         0.018234   \n",
       "3                   -0.880861                  -0.881004         0.018234   \n",
       "4                   -1.223834                  -1.223738         0.018234   \n",
       "..                        ...                        ...              ...   \n",
       "995                 -0.358078                  -0.358065         0.018234   \n",
       "996                  1.118259                   1.118369         0.018234   \n",
       "997                  0.889259                   0.889119         0.018234   \n",
       "998                 -1.225606                  -1.225734         0.018234   \n",
       "999                  1.117873                   1.117798         0.018234   \n",
       "\n",
       "     latest_fork_usec  used_cpu_sys  used_cpu_user  used_cpu_sys_children  \\\n",
       "0           -0.137784     -0.766952      -0.752263              -0.611301   \n",
       "1           -0.137784     -0.730844      -0.762178              -0.611301   \n",
       "2            0.093092      1.543863       2.012914               0.563665   \n",
       "3           -0.137784     -0.653333      -0.743818              -0.611301   \n",
       "4            0.064232      1.693960       1.164639               1.314856   \n",
       "..                ...           ...            ...                    ...   \n",
       "995         -0.137784     -0.685203      -0.611962              -0.611301   \n",
       "996         -0.137784     -0.648453      -0.777426              -0.611301   \n",
       "997         -0.137784     -0.627691      -0.713868              -0.611301   \n",
       "998          0.073016      1.657046       1.718246               1.609827   \n",
       "999         -0.137784     -0.717394      -0.740768              -0.611301   \n",
       "\n",
       "     used_cpu_user_children  db0:keys  \n",
       "0                 -0.571696 -0.039743  \n",
       "1                 -0.571696 -0.039743  \n",
       "2                  1.705007 -0.039743  \n",
       "3                 -0.571696 -0.039743  \n",
       "4                  1.294438 -0.039743  \n",
       "..                      ...       ...  \n",
       "995               -0.571696 -0.039743  \n",
       "996               -0.571696 -0.039743  \n",
       "997               -0.571696 -0.039743  \n",
       "998                0.145608 -0.039743  \n",
       "999               -0.571696 -0.039743  \n",
       "\n",
       "[1000 rows x 48 columns]"
      ]
     },
     "execution_count": 27,
     "metadata": {},
     "output_type": "execute_result"
    }
   ],
   "source": [
    "internalMetrics_df"
   ]
  },
  {
   "cell_type": "code",
   "execution_count": 28,
   "metadata": {},
   "outputs": [],
   "source": [
    "# # 상관성 높은 normal에서 .. df 구성\n",
    "# corr_knob = ['allocator_allocated',\n",
    "#  'allocator_rss_bytes',\n",
    "#  'used_memory_rss',\n",
    "#  'allocator_resident',\n",
    "#  'allocator_frag_bytes',\n",
    "#  'rss_overhead_bytes',\n",
    "#  'uptime_in_seconds',\n",
    "#  'mem_fragmentation_bytes',\n",
    "#  'used_memory_peak',\n",
    "#  'configured_hz',\n",
    "#  'used_cpu_sys',\n",
    "#  'maxmemory',\n",
    "#  'hz',\n",
    "#  'used_cpu_user',\n",
    "#  'used_memory_rss_human',\n",
    "#  'maxmemory_human',\n",
    "#  'allocator_rss_ratio']\n",
    "\n",
    "# internalMetrics_normal_df = internalMetrics_df.copy()[corr_knob]"
   ]
  },
  {
   "cell_type": "code",
   "execution_count": 29,
   "metadata": {},
   "outputs": [
    {
     "name": "stdout",
     "output_type": "stream",
     "text": [
      "['hz', 'configured_hz']\n"
     ]
    }
   ],
   "source": [
    "import itertools\n",
    "\n",
    "# singular Error 발생시키는 변수 확인\n",
    "def find_singularError_var(df, count):\n",
    "    sin_rel_var = []\n",
    "\n",
    "    for var in itertools.combinations(df.columns, count):\n",
    "        new_df = internalMetrics_df[list(var)]\n",
    "        try:\n",
    "            fa_func = FactorAnalyzer(n_factors=2, rotation='varimax')\n",
    "            fa_func.fit(new_df)        \n",
    "        except :\n",
    "            print(list(var))\n",
    "            sin_rel_var += list(var)\n",
    "            continue\n",
    "    sin_rel_var = list(set(sin_rel_var))\n",
    "    return sin_rel_var\n",
    "\n",
    "        \n",
    "sin_rel_var = find_singularError_var(internalMetrics_df, 2)\n",
    "# hz, configured_hz, total_net_output_bytes, keyspace_hits, keyspace_misses 5개! -> 3개를 생략해야 한다!!"
   ]
  },
  {
   "cell_type": "code",
   "execution_count": 30,
   "metadata": {
    "scrolled": true
   },
   "outputs": [
    {
     "data": {
      "text/plain": [
       "[]"
      ]
     },
     "execution_count": 30,
     "metadata": {},
     "output_type": "execute_result"
    }
   ],
   "source": [
    "# singluar error를 발생시키는 변수 삭제 -> 추후 조정 필요 상관계수 보면서!\n",
    "drop_val = ['configured_hz']\n",
    "internalMetrics_df_drop = internalMetrics_df.drop(columns = drop_val, axis = 0)\n",
    "\n",
    "find_singularError_var(internalMetrics_df_drop, 2)"
   ]
  },
  {
   "cell_type": "code",
   "execution_count": 31,
   "metadata": {},
   "outputs": [
    {
     "data": {
      "text/plain": [
       "47"
      ]
     },
     "execution_count": 31,
     "metadata": {},
     "output_type": "execute_result"
    }
   ],
   "source": [
    "# 커럼 개수 25개로 줄여짐\n",
    "len(internalMetrics_df_drop.columns)"
   ]
  },
  {
   "cell_type": "markdown",
   "metadata": {},
   "source": [
    "---"
   ]
  },
  {
   "cell_type": "markdown",
   "metadata": {},
   "source": [
    "### 이상치 제거"
   ]
  },
  {
   "cell_type": "code",
   "execution_count": 32,
   "metadata": {},
   "outputs": [],
   "source": [
    "# # 히스토그램으로 살펴보기\n",
    "# internalMetrics_df.hist(figsize=(20, 20), bins=30)"
   ]
  },
  {
   "cell_type": "code",
   "execution_count": 33,
   "metadata": {},
   "outputs": [],
   "source": [
    "# import numpy as np\n",
    "\n",
    "# def get_outlier(df=None, column=None, weight=1.5):\n",
    "    \n",
    "#     # target 값과 상관관계가 높은 열을 우선적으로 진행\n",
    "#     quantile_25 = np.percentile(df[column].values, 25)\n",
    "#     quantile_75 = np.percentile(df[column].values, 75)\n",
    "\n",
    "#     IQR = quantile_75 - quantile_25\n",
    "#     IQR_weight = IQR*weight\n",
    "\n",
    "#     lowest = quantile_25 - IQR_weight\n",
    "#     highest = quantile_75 + IQR_weight\n",
    "\n",
    "#     outlier_idx = df[column][ (df[column] < lowest) | (df[column] > highest) ].index\n",
    "#     return outlier_idx"
   ]
  },
  {
   "cell_type": "code",
   "execution_count": 34,
   "metadata": {},
   "outputs": [],
   "source": [
    "# col = internalMetrics_df_drop.columns.tolist()\n",
    "# outlier_idx = []\n",
    "\n",
    "# # 컬럼별로 접근해서 인덱스 가져온다.\n",
    "# for col_name in col:\n",
    "#     idx = get_outlier(internalMetrics_df_drop, col_name)\n",
    "#     outlier_idx += list(idx)\n",
    "\n",
    "# outlier_idx = list(set(outlier_idx))  # 인데스 중복 삭제\n",
    "\n",
    "# # 인덱스 개수가 너무 많다. -> 몇개만 골라서 삭제하자\n",
    "# print(len(outlier_idx))"
   ]
  },
  {
   "cell_type": "code",
   "execution_count": 35,
   "metadata": {},
   "outputs": [],
   "source": [
    "# # internal unique 한 결과 이상치 하나 삭제하는게 낫다고 판단 \n",
    "# # uptime_in_seconds = [  22   21   23 3304   25   24   26   27]\n",
    "# for i in internalMetrics_df_drop:\n",
    "#     print(i)\n",
    "#     print(internalMetrics_df_drop[i].unique())"
   ]
  },
  {
   "cell_type": "code",
   "execution_count": 36,
   "metadata": {},
   "outputs": [],
   "source": [
    "# # used_memory_rss\n",
    "# used_memory_rss_idx = get_outlier(internalMetrics_df_drop, 'used_memory_rss')\n",
    "\n",
    "# internalMetrics_df_drop.drop(used_memory_rss_idx, axis=0)['used_memory_rss'].hist()"
   ]
  },
  {
   "cell_type": "markdown",
   "metadata": {},
   "source": [
    "---"
   ]
  },
  {
   "cell_type": "markdown",
   "metadata": {},
   "source": [
    "### 요인수 선택\n",
    "* 요인 적재값\n",
    "* 공통성\n",
    "* \n",
    "* 클러스터링 개수 -> 각 클러스터마다 동등한 개수였으면 좋겠다"
   ]
  },
  {
   "cell_type": "code",
   "execution_count": 37,
   "metadata": {},
   "outputs": [],
   "source": [
    "def factor_analysis(n_factors, df):\n",
    "    fa = FactorAnalyzer(n_factors = n_factors, rotation='varimax')  # 객체 생성\n",
    "    fa.fit(df)  # fitting\n",
    "    df_fa = pd.DataFrame(fa.loadings_, index = df.columns)  # 데이터프레임으로 전달\n",
    "    ev, v = fa.get_eigenvalues()\n",
    "    return df_fa, ev"
   ]
  },
  {
   "cell_type": "code",
   "execution_count": 38,
   "metadata": {},
   "outputs": [],
   "source": [
    "internalMetrics_fa, ev = factor_analysis(8, internalMetrics_df_drop)  ## 전체 데이터\n",
    "\n",
    "# internalMetrics_df_drop = internalMetrics_normal_df\n",
    "# internalMetrics_fa, ev = factor_analysis(6, internalMetrics_normal_df)  # 상관성 높은걸로 줄인거\n"
   ]
  },
  {
   "cell_type": "code",
   "execution_count": 39,
   "metadata": {},
   "outputs": [
    {
     "name": "stdout",
     "output_type": "stream",
     "text": [
      "               0\n",
      "0   1.084727e+01\n",
      "1   9.371528e+00\n",
      "2   6.456625e+00\n",
      "3   5.062422e+00\n",
      "4   2.698820e+00\n",
      "5   1.938238e+00\n",
      "6   1.658914e+00\n",
      "7   1.544913e+00\n",
      "8   1.391640e+00\n",
      "9   9.668612e-01\n",
      "10  9.577547e-01\n",
      "11  8.400773e-01\n",
      "12  5.967451e-01\n",
      "13  5.657153e-01\n",
      "14  5.209094e-01\n",
      "15  4.123952e-01\n",
      "16  3.663618e-01\n",
      "17  3.161651e-01\n",
      "18  1.326875e-01\n",
      "19  1.075993e-01\n",
      "20  7.884819e-02\n",
      "21  4.624313e-02\n",
      "22  3.680328e-02\n",
      "23  2.690879e-02\n",
      "24  1.637778e-02\n",
      "25  1.365416e-02\n",
      "26  1.133263e-02\n",
      "27  7.851827e-03\n",
      "28  3.145432e-03\n",
      "29  2.885144e-03\n",
      "30  1.158570e-03\n",
      "31  8.873508e-04\n",
      "32  1.697591e-04\n",
      "33  4.421308e-05\n",
      "34  3.971813e-05\n",
      "35  4.673213e-06\n",
      "36  2.965097e-06\n",
      "37  1.004816e-07\n",
      "38  5.696535e-09\n",
      "39  1.052661e-09\n",
      "40  4.595014e-10\n",
      "41  3.736389e-15\n",
      "42  3.736950e-16\n",
      "43 -2.721688e-16\n",
      "44 -9.274881e-16\n",
      "45 -1.393042e-15\n",
      "46 -3.272854e-15\n"
     ]
    }
   ],
   "source": [
    "# 요인수 선택 방법1 -> 요인수와 상관없다.\n",
    "print(pd.DataFrame(ev))"
   ]
  },
  {
   "cell_type": "code",
   "execution_count": 40,
   "metadata": {},
   "outputs": [
    {
     "data": {
      "image/png": "[encoded data removed]",
      "text/plain": [
       "<Figure size 432x288 with 1 Axes>"
      ]
     },
     "metadata": {
      "needs_background": "light"
     },
     "output_type": "display_data"
    }
   ],
   "source": [
    "# 요인수 선택 방법2 -> 요인수와 상관없다\n",
    "plt.scatter(range(1,internalMetrics_df_drop.shape[1]+1),ev)\n",
    "plt.plot(range(1,internalMetrics_df_drop.shape[1]+1),ev)\n",
    "plt.title('Scree Plot')\n",
    "plt.xlabel('Factors')\n",
    "plt.ylabel('Eigenvalue')\n",
    "plt.grid()\n",
    "plt.show()"
   ]
  },
  {
   "cell_type": "code",
   "execution_count": 41,
   "metadata": {},
   "outputs": [
    {
     "data": {
      "text/plain": [
       "<AxesSubplot:>"
      ]
     },
     "execution_count": 41,
     "metadata": {},
     "output_type": "execute_result"
    },
    {
     "data": {
      "image/png": "[encoded data removed]",
      "text/plain": [
       "<Figure size 432x720 with 2 Axes>"
      ]
     },
     "metadata": {
      "needs_background": "light"
     },
     "output_type": "display_data"
    }
   ],
   "source": [
    "# 요인수 선택 방법3\n",
    "# internal_metrics들이 포함되는 요인들 확인 -> 세로출이 거의다 포함되면 좋다.\n",
    "plt.figure(figsize=(6,10))\n",
    "sns.heatmap(internalMetrics_fa, cmap=\"Blues\", annot=True, fmt='.2f')"
   ]
  },
  {
   "cell_type": "markdown",
   "metadata": {},
   "source": [
    "---"
   ]
  },
  {
   "cell_type": "markdown",
   "metadata": {},
   "source": [
    "## Clustering"
   ]
  },
  {
   "cell_type": "code",
   "execution_count": 42,
   "metadata": {},
   "outputs": [],
   "source": [
    "# from sklearn.cluster import KMeans\n",
    "\n",
    "# kmeans = KMeans(n_clusters=3)\n",
    "# kmeans.fit(internalMetrics_fa)"
   ]
  },
  {
   "cell_type": "code",
   "execution_count": 43,
   "metadata": {},
   "outputs": [],
   "source": [
    "from sklearn.cluster import KMeans\n",
    "def kmeans(n_clusters, df):\n",
    "    kmeans = KMeans(n_clusters = n_clusters)\n",
    "    kmeans.fit(df)\n",
    "    \n",
    "    df['cluster'] = kmeans.labels_\n",
    "    \n",
    "    return df"
   ]
  },
  {
   "cell_type": "code",
   "execution_count": 44,
   "metadata": {},
   "outputs": [],
   "source": [
    "kmeans_df = kmeans(2, internalMetrics_fa)"
   ]
  },
  {
   "cell_type": "code",
   "execution_count": 45,
   "metadata": {},
   "outputs": [],
   "source": [
    "# 클러스터 개수 확인 함수\n",
    "def clusters(df):\n",
    "    \n",
    "    # 총 개수 확인\n",
    "    print(df['cluster'].value_counts())\n",
    "    print()\n",
    "    \n",
    "    count_cluster = len(df['cluster'].unique())\n",
    "    new_df = pd.DataFrame()\n",
    "    metric_list = []\n",
    "    \n",
    "    for i in range(count_cluster):\n",
    "        metric_list = list(df[df['cluster'] == i].index)\n",
    "        print(\"len = {}\".format(len(df[df['cluster'] == i])))\n",
    "        print(\"cluster{}\".format(i))\n",
    "        for metric in metric_list:\n",
    "            print(metric)\n",
    "        print()\n",
    "        \n",
    "    return new_df"
   ]
  },
  {
   "cell_type": "code",
   "execution_count": 46,
   "metadata": {},
   "outputs": [
    {
     "name": "stdout",
     "output_type": "stream",
     "text": [
      "0    26\n",
      "1    21\n",
      "Name: cluster, dtype: int64\n",
      "\n",
      "len = 26\n",
      "cluster0\n",
      "uptime_in_seconds\n",
      "hz\n",
      "lru_clock\n",
      "used_memory_rss\n",
      "used_memory_rss_human\n",
      "used_memory_peak_perc\n",
      "used_memory_dataset_perc\n",
      "maxmemory\n",
      "maxmemory_human\n",
      "allocator_frag_ratio\n",
      "allocator_rss_ratio\n",
      "rss_overhead_ratio\n",
      "rss_overhead_bytes\n",
      "mem_fragmentation_ratio\n",
      "mem_fragmentation_bytes\n",
      "rdb_last_save_time\n",
      "rdb_last_bgsave_time_sec\n",
      "rdb_current_bgsave_time_sec\n",
      "rdb_last_cow_size\n",
      "aof_current_size\n",
      "keyspace_misses\n",
      "latest_fork_usec\n",
      "used_cpu_sys\n",
      "used_cpu_user\n",
      "used_cpu_sys_children\n",
      "used_cpu_user_children\n",
      "\n",
      "len = 21\n",
      "cluster1\n",
      "used_memory\n",
      "used_memory_human\n",
      "used_memory_peak\n",
      "used_memory_peak_human\n",
      "used_memory_overhead\n",
      "used_memory_dataset\n",
      "allocator_allocated\n",
      "allocator_active\n",
      "allocator_resident\n",
      "allocator_frag_bytes\n",
      "allocator_rss_bytes\n",
      "mem_not_counted_for_evict\n",
      "mem_aof_buffer\n",
      "rdb_changes_since_last_save\n",
      "aof_base_size\n",
      "aof_buffer_length\n",
      "instantaneous_ops_per_sec\n",
      "total_net_output_bytes\n",
      "instantaneous_input_kbps\n",
      "instantaneous_output_kbps\n",
      "db0:keys\n",
      "\n"
     ]
    }
   ],
   "source": [
    "df = clusters(kmeans_df)"
   ]
  },
  {
   "cell_type": "markdown",
   "metadata": {},
   "source": [
    "### Elbow"
   ]
  },
  {
   "cell_type": "code",
   "execution_count": 47,
   "metadata": {},
   "outputs": [],
   "source": [
    "def elbow(data, length):\n",
    "    sse = [] # sum of squre error 오차제곱합\n",
    "    for i in range(1, length):\n",
    "        kmeans = KMeans(n_clusters=i)\n",
    "        kmeans.fit(data)\n",
    "        # SSE 값 저장\n",
    "        sse.append(kmeans.inertia_)\n",
    "    plt.plot(range(1, length), sse, 'bo-')\n",
    "    plt.title(\"elbow method\")\n",
    "    plt.xlabel(\"number of clusters\")\n",
    "    plt.ylabel(\"SSE\")\n",
    "    plt.show()"
   ]
  },
  {
   "cell_type": "code",
   "execution_count": 48,
   "metadata": {},
   "outputs": [
    {
     "data": {
      "image/png": "[encoded data removed]",
      "text/plain": [
       "<Figure size 432x288 with 1 Axes>"
      ]
     },
     "metadata": {
      "needs_background": "light"
     },
     "output_type": "display_data"
    }
   ],
   "source": [
    "# 확 꺽이는 지점을 선택해야 한다. \n",
    "elbow(internalMetrics_fa, 10)"
   ]
  },
  {
   "cell_type": "code",
   "execution_count": 49,
   "metadata": {},
   "outputs": [],
   "source": [
    "# def visualize_silhouette_layer(data, param_init='random', param_n_init=10, param_max_iter=300):\n",
    "#     clusters_range = range(2,15)\n",
    "#     results = []\n",
    "\n",
    "#     for i in clusters_range:\n",
    "#         clusterer = KMeans(n_clusters=i, init=param_init, n_init=param_n_init, max_iter=param_max_iter, random_state=0)\n",
    "#         cluster_labels = clusterer.fit_predict(data)\n",
    "#         silhouette_avg = silhouette_score(data, cluster_labels)\n",
    "#         results.append([i, silhouette_avg])\n",
    "\n",
    "#     result = pd.DataFrame(results, columns=[\"n_clusters\", \"silhouette_score\"])\n",
    "#     pivot_km = pd.pivot_table(result, index=\"n_clusters\", values=\"silhouette_score\")\n",
    "\n",
    "#     plt.figure()\n",
    "#     sns.heatmap(pivot_km, annot=True, linewidths=.5, fmt='.3f', cmap=sns.cm._rocket_lut)\n",
    "#     plt.tight_layout()\n",
    "#     plt.show()"
   ]
  },
  {
   "cell_type": "code",
   "execution_count": null,
   "metadata": {},
   "outputs": [],
   "source": []
  },
  {
   "cell_type": "code",
   "execution_count": null,
   "metadata": {},
   "outputs": [],
   "source": []
  }
 ],
 "metadata": {
  "kernelspec": {
   "display_name": "Python 3",
   "language": "python",
   "name": "python3"
  },
  "language_info": {
   "codemirror_mode": {
    "name": "ipython",
    "version": 3
   },
   "file_extension": ".py",
   "mimetype": "text/x-python",
   "name": "python",
   "nbconvert_exporter": "python",
   "pygments_lexer": "ipython3",
   "version": "3.8.5"
  }
 },
 "nbformat": 4,
 "nbformat_minor": 4
}
