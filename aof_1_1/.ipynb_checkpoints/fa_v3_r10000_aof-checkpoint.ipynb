{
 "cells": [
  {
   "cell_type": "markdown",
   "metadata": {},
   "source": [
    "# FA & Clustering\n",
    "\n",
    "internal_metrics 만 필요하다!!"
   ]
  },
  {
   "cell_type": "markdown",
   "metadata": {},
   "source": [
    "## FA"
   ]
  },
  {
   "cell_type": "markdown",
   "metadata": {},
   "source": [
    "* 이상치 처리\n",
    "* 요인 수\n",
    "* 클러스터 개수"
   ]
  },
  {
   "cell_type": "markdown",
   "metadata": {},
   "source": [
    "## 데이터 전처리\n",
    "1. 버전 관련 제거\n",
    "2. 모두 동일한 값 제거\n",
    "3. 값이 2개인 경우 제거\n",
    "4. 범주형 변수 제거"
   ]
  },
  {
   "cell_type": "code",
   "execution_count": 1,
   "metadata": {},
   "outputs": [],
   "source": [
    "import pandas as pd\n",
    "from factor_analyzer import FactorAnalyzer\n",
    "import matplotlib.pyplot as plt\n",
    "import seaborn as sns"
   ]
  },
  {
   "cell_type": "code",
   "execution_count": 2,
   "metadata": {},
   "outputs": [],
   "source": [
    "# 데이터 가져오기\n",
    "\n",
    "file_dir = '../data/'\n",
    "file_name = 'internal_metrics_r10000_aof.csv'\n",
    "\n",
    "internalMetrics_df = pd.read_csv(file_dir+file_name)"
   ]
  },
  {
   "cell_type": "code",
   "execution_count": 3,
   "metadata": {},
   "outputs": [
    {
     "data": {
      "text/plain": [
       "(1250, 131)"
      ]
     },
     "execution_count": 3,
     "metadata": {},
     "output_type": "execute_result"
    }
   ],
   "source": [
    "# 1250 개 추출\n",
    "internalMetrics_df.shape"
   ]
  },
  {
   "cell_type": "markdown",
   "metadata": {},
   "source": [
    "### 0. role master 아닌 경우 제외"
   ]
  },
  {
   "cell_type": "code",
   "execution_count": 4,
   "metadata": {},
   "outputs": [],
   "source": [
    "# master 부분 추출\n",
    "idx_role_null = internalMetrics_df['role'] == 'master'\n",
    "internalMetrics_df = internalMetrics_df[idx_role_null]"
   ]
  },
  {
   "cell_type": "markdown",
   "metadata": {},
   "source": [
    "### 1. 버전 환경 관련 제거\n",
    "* redis_version\n",
    "* redis_builid_id\n",
    "* os\n",
    "* gcc_version\n",
    "* Executable\n",
    "* config_file\n",
    "* tcp_port\n",
    "* run_id\n",
    "* process_id"
   ]
  },
  {
   "cell_type": "code",
   "execution_count": 5,
   "metadata": {},
   "outputs": [],
   "source": [
    "# 버전, 환경 관련 변수\n",
    "var1_noRel = [\n",
    "    'redis_version', \n",
    "    'redis_build_id', \n",
    "    'os',\n",
    "    'gcc_version',\n",
    "    'executable',\n",
    "    'config_file',\n",
    "    'tcp_port',\n",
    "    'run_id',\n",
    "    'process_id',\n",
    "    'master_replid'\n",
    "]"
   ]
  },
  {
   "cell_type": "code",
   "execution_count": 6,
   "metadata": {
    "scrolled": true
   },
   "outputs": [
    {
     "data": {
      "text/plain": [
       "['redis_version',\n",
       " 'redis_build_id',\n",
       " 'os',\n",
       " 'gcc_version',\n",
       " 'executable',\n",
       " 'config_file',\n",
       " 'tcp_port',\n",
       " 'run_id',\n",
       " 'process_id',\n",
       " 'master_replid']"
      ]
     },
     "execution_count": 6,
     "metadata": {},
     "output_type": "execute_result"
    }
   ],
   "source": [
    "# 버전, 환경 관련 변수 확인\n",
    "var1_noRel"
   ]
  },
  {
   "cell_type": "code",
   "execution_count": 7,
   "metadata": {},
   "outputs": [],
   "source": [
    "# 변수 제거 \n",
    "internalMetrics_df = internalMetrics_df.drop(columns = var1_noRel, axis=0)"
   ]
  },
  {
   "cell_type": "code",
   "execution_count": 8,
   "metadata": {},
   "outputs": [
    {
     "data": {
      "text/plain": [
       "121"
      ]
     },
     "execution_count": 8,
     "metadata": {},
     "output_type": "execute_result"
    }
   ],
   "source": [
    "len(internalMetrics_df.columns)"
   ]
  },
  {
   "cell_type": "code",
   "execution_count": 9,
   "metadata": {},
   "outputs": [
    {
     "data": {
      "text/html": [
       "<div>\n",
       "<style scoped>\n",
       "    .dataframe tbody tr th:only-of-type {\n",
       "        vertical-align: middle;\n",
       "    }\n",
       "\n",
       "    .dataframe tbody tr th {\n",
       "        vertical-align: top;\n",
       "    }\n",
       "\n",
       "    .dataframe thead th {\n",
       "        text-align: right;\n",
       "    }\n",
       "</style>\n",
       "<table border=\"1\" class=\"dataframe\">\n",
       "  <thead>\n",
       "    <tr style=\"text-align: right;\">\n",
       "      <th></th>\n",
       "      <th>redis_git_sha1</th>\n",
       "      <th>redis_git_dirty</th>\n",
       "      <th>redis_mode</th>\n",
       "      <th>arch_bits</th>\n",
       "      <th>multiplexing_api</th>\n",
       "      <th>atomicvar_api</th>\n",
       "      <th>uptime_in_seconds</th>\n",
       "      <th>uptime_in_days</th>\n",
       "      <th>hz</th>\n",
       "      <th>configured_hz</th>\n",
       "      <th>...</th>\n",
       "      <th>repl_backlog_first_byte_offset</th>\n",
       "      <th>repl_backlog_histlen</th>\n",
       "      <th>used_cpu_sys</th>\n",
       "      <th>used_cpu_user</th>\n",
       "      <th>used_cpu_sys_children</th>\n",
       "      <th>used_cpu_user_children</th>\n",
       "      <th>cluster_enabled</th>\n",
       "      <th>db0:keys</th>\n",
       "      <th>expires</th>\n",
       "      <th>avg_ttl</th>\n",
       "    </tr>\n",
       "  </thead>\n",
       "  <tbody>\n",
       "    <tr>\n",
       "      <th>0</th>\n",
       "      <td>0</td>\n",
       "      <td>0</td>\n",
       "      <td>standalone</td>\n",
       "      <td>64</td>\n",
       "      <td>epoll</td>\n",
       "      <td>atomic-builtin</td>\n",
       "      <td>6</td>\n",
       "      <td>0</td>\n",
       "      <td>6</td>\n",
       "      <td>6</td>\n",
       "      <td>...</td>\n",
       "      <td>0</td>\n",
       "      <td>0</td>\n",
       "      <td>0.231712</td>\n",
       "      <td>0.102433</td>\n",
       "      <td>0.000000</td>\n",
       "      <td>0.000000</td>\n",
       "      <td>0.0</td>\n",
       "      <td>5000.0</td>\n",
       "      <td>0.0</td>\n",
       "      <td>0.0</td>\n",
       "    </tr>\n",
       "    <tr>\n",
       "      <th>1</th>\n",
       "      <td>0</td>\n",
       "      <td>0</td>\n",
       "      <td>standalone</td>\n",
       "      <td>64</td>\n",
       "      <td>epoll</td>\n",
       "      <td>atomic-builtin</td>\n",
       "      <td>6</td>\n",
       "      <td>0</td>\n",
       "      <td>18</td>\n",
       "      <td>18</td>\n",
       "      <td>...</td>\n",
       "      <td>0</td>\n",
       "      <td>0</td>\n",
       "      <td>0.246147</td>\n",
       "      <td>0.100983</td>\n",
       "      <td>0.000000</td>\n",
       "      <td>0.000000</td>\n",
       "      <td>0.0</td>\n",
       "      <td>5000.0</td>\n",
       "      <td>0.0</td>\n",
       "      <td>0.0</td>\n",
       "    </tr>\n",
       "    <tr>\n",
       "      <th>2</th>\n",
       "      <td>0</td>\n",
       "      <td>0</td>\n",
       "      <td>standalone</td>\n",
       "      <td>64</td>\n",
       "      <td>epoll</td>\n",
       "      <td>atomic-builtin</td>\n",
       "      <td>483</td>\n",
       "      <td>0</td>\n",
       "      <td>16</td>\n",
       "      <td>16</td>\n",
       "      <td>...</td>\n",
       "      <td>0</td>\n",
       "      <td>0</td>\n",
       "      <td>1.155518</td>\n",
       "      <td>0.506820</td>\n",
       "      <td>0.001195</td>\n",
       "      <td>0.002390</td>\n",
       "      <td>0.0</td>\n",
       "      <td>5000.0</td>\n",
       "      <td>0.0</td>\n",
       "      <td>0.0</td>\n",
       "    </tr>\n",
       "    <tr>\n",
       "      <th>3</th>\n",
       "      <td>0</td>\n",
       "      <td>0</td>\n",
       "      <td>standalone</td>\n",
       "      <td>64</td>\n",
       "      <td>epoll</td>\n",
       "      <td>atomic-builtin</td>\n",
       "      <td>6</td>\n",
       "      <td>0</td>\n",
       "      <td>2</td>\n",
       "      <td>2</td>\n",
       "      <td>...</td>\n",
       "      <td>0</td>\n",
       "      <td>0</td>\n",
       "      <td>0.277134</td>\n",
       "      <td>0.103668</td>\n",
       "      <td>0.000000</td>\n",
       "      <td>0.000000</td>\n",
       "      <td>0.0</td>\n",
       "      <td>5000.0</td>\n",
       "      <td>0.0</td>\n",
       "      <td>0.0</td>\n",
       "    </tr>\n",
       "    <tr>\n",
       "      <th>4</th>\n",
       "      <td>0</td>\n",
       "      <td>0</td>\n",
       "      <td>standalone</td>\n",
       "      <td>64</td>\n",
       "      <td>epoll</td>\n",
       "      <td>atomic-builtin</td>\n",
       "      <td>483</td>\n",
       "      <td>0</td>\n",
       "      <td>7</td>\n",
       "      <td>7</td>\n",
       "      <td>...</td>\n",
       "      <td>0</td>\n",
       "      <td>0</td>\n",
       "      <td>1.215523</td>\n",
       "      <td>0.382766</td>\n",
       "      <td>0.001959</td>\n",
       "      <td>0.001959</td>\n",
       "      <td>0.0</td>\n",
       "      <td>5000.0</td>\n",
       "      <td>0.0</td>\n",
       "      <td>0.0</td>\n",
       "    </tr>\n",
       "  </tbody>\n",
       "</table>\n",
       "<p>5 rows × 121 columns</p>\n",
       "</div>"
      ],
      "text/plain": [
       "   redis_git_sha1  redis_git_dirty  redis_mode  arch_bits multiplexing_api  \\\n",
       "0               0                0  standalone         64            epoll   \n",
       "1               0                0  standalone         64            epoll   \n",
       "2               0                0  standalone         64            epoll   \n",
       "3               0                0  standalone         64            epoll   \n",
       "4               0                0  standalone         64            epoll   \n",
       "\n",
       "    atomicvar_api  uptime_in_seconds  uptime_in_days  hz  configured_hz  ...  \\\n",
       "0  atomic-builtin                  6               0   6              6  ...   \n",
       "1  atomic-builtin                  6               0  18             18  ...   \n",
       "2  atomic-builtin                483               0  16             16  ...   \n",
       "3  atomic-builtin                  6               0   2              2  ...   \n",
       "4  atomic-builtin                483               0   7              7  ...   \n",
       "\n",
       "   repl_backlog_first_byte_offset  repl_backlog_histlen  used_cpu_sys  \\\n",
       "0                               0                     0      0.231712   \n",
       "1                               0                     0      0.246147   \n",
       "2                               0                     0      1.155518   \n",
       "3                               0                     0      0.277134   \n",
       "4                               0                     0      1.215523   \n",
       "\n",
       "   used_cpu_user  used_cpu_sys_children  used_cpu_user_children  \\\n",
       "0       0.102433               0.000000                0.000000   \n",
       "1       0.100983               0.000000                0.000000   \n",
       "2       0.506820               0.001195                0.002390   \n",
       "3       0.103668               0.000000                0.000000   \n",
       "4       0.382766               0.001959                0.001959   \n",
       "\n",
       "   cluster_enabled  db0:keys  expires  avg_ttl  \n",
       "0              0.0    5000.0      0.0      0.0  \n",
       "1              0.0    5000.0      0.0      0.0  \n",
       "2              0.0    5000.0      0.0      0.0  \n",
       "3              0.0    5000.0      0.0      0.0  \n",
       "4              0.0    5000.0      0.0      0.0  \n",
       "\n",
       "[5 rows x 121 columns]"
      ]
     },
     "execution_count": 9,
     "metadata": {},
     "output_type": "execute_result"
    }
   ],
   "source": [
    "# 변수 제거 데이터프레임 확인\n",
    "internalMetrics_df.head()"
   ]
  },
  {
   "cell_type": "markdown",
   "metadata": {},
   "source": [
    "### 2. 모두 동일한 값\n",
    "fa의 경우 모두 동일한 값이 존재하면 실행 시 오류 발생"
   ]
  },
  {
   "cell_type": "code",
   "execution_count": 10,
   "metadata": {},
   "outputs": [
    {
     "data": {
      "text/plain": [
       "121"
      ]
     },
     "execution_count": 10,
     "metadata": {},
     "output_type": "execute_result"
    }
   ],
   "source": [
    "len(internalMetrics_df.columns)"
   ]
  },
  {
   "cell_type": "code",
   "execution_count": 11,
   "metadata": {},
   "outputs": [],
   "source": [
    "def find_var_count(df, count):\n",
    "    var = []\n",
    "    \n",
    "    for metric in df:\n",
    "        if len(df[metric].unique()) == count:\n",
    "            var.append(metric)\n",
    "    return var"
   ]
  },
  {
   "cell_type": "code",
   "execution_count": 12,
   "metadata": {
    "scrolled": true
   },
   "outputs": [],
   "source": [
    "# 모두 동일한 값 가지고 있는 변수 리스트\n",
    "# sameValue_var = []\n",
    "\n",
    "# for metric in internalMetrics_df:\n",
    "#     if len(internalMetrics_df[metric].unique()) == 1:\n",
    "#         sameValue_var.append(metric)\n",
    "\n",
    "# len(sameValue_var)\n",
    "\n",
    "sameValue = find_var_count(internalMetrics_df, 1)\n",
    "\n",
    "# 동일 값 변수 제거\n",
    "internalMetrics_df = internalMetrics_df.drop(columns = sameValue, axis = 0)"
   ]
  },
  {
   "cell_type": "markdown",
   "metadata": {},
   "source": [
    "### 3. 값이 2개인 경우 제거"
   ]
  },
  {
   "cell_type": "code",
   "execution_count": 13,
   "metadata": {},
   "outputs": [],
   "source": [
    "# 값이 2개인 경우\n",
    "twoVal_var = find_var_count(internalMetrics_df, 2)\n",
    "\n",
    "internalMetrics_df = internalMetrics_df.drop(columns = twoVal_var, axis = 0)"
   ]
  },
  {
   "cell_type": "code",
   "execution_count": 14,
   "metadata": {},
   "outputs": [
    {
     "data": {
      "text/plain": [
       "49"
      ]
     },
     "execution_count": 14,
     "metadata": {},
     "output_type": "execute_result"
    }
   ],
   "source": [
    "len(internalMetrics_df.columns)"
   ]
  },
  {
   "cell_type": "code",
   "execution_count": 15,
   "metadata": {},
   "outputs": [],
   "source": [
    "# latest_fork_usec, slave_expires_tracked_keys, maxmemory-polcy, \n",
    "# print(internalMetrics_df['slave_expires_tracked_keys'].unique())\n",
    "# print(internalMetrics_df['latest_fork_usec'].unique())"
   ]
  },
  {
   "cell_type": "markdown",
   "metadata": {},
   "source": [
    "### 4. 범주형 변수 제거"
   ]
  },
  {
   "cell_type": "code",
   "execution_count": 16,
   "metadata": {},
   "outputs": [],
   "source": [
    "# maxmemory_policy만 제거해보고 해보기\n",
    "del_col = ['maxmemory_policy',  'latest_fork_usec']\n",
    "# del_col = ['role','maxmemory_policy', 'slave_expires_tracked_keys', 'latest_fork_usec']\n",
    "internalMetrics_df = internalMetrics_df.drop(columns = del_col, axis = 0)\n"
   ]
  },
  {
   "cell_type": "code",
   "execution_count": 17,
   "metadata": {},
   "outputs": [],
   "source": [
    "# internalMetrics_df = pd.get_dummies(internalMetrics_df)\n",
    "# internalMetrics_df.head()"
   ]
  },
  {
   "cell_type": "code",
   "execution_count": 18,
   "metadata": {},
   "outputs": [],
   "source": [
    "# list(internalMetrics_df.dtypes)"
   ]
  },
  {
   "cell_type": "code",
   "execution_count": 19,
   "metadata": {
    "scrolled": true
   },
   "outputs": [
    {
     "data": {
      "text/plain": [
       "47"
      ]
     },
     "execution_count": 19,
     "metadata": {},
     "output_type": "execute_result"
    }
   ],
   "source": [
    "# 컬럼 개수\n",
    "len(internalMetrics_df.columns)"
   ]
  },
  {
   "cell_type": "markdown",
   "metadata": {},
   "source": [
    "---"
   ]
  },
  {
   "cell_type": "markdown",
   "metadata": {},
   "source": [
    "## Scaling"
   ]
  },
  {
   "cell_type": "code",
   "execution_count": 20,
   "metadata": {},
   "outputs": [],
   "source": [
    "from sklearn.preprocessing import StandardScaler, MinMaxScaler"
   ]
  },
  {
   "cell_type": "markdown",
   "metadata": {},
   "source": [
    "### standardscaler"
   ]
  },
  {
   "cell_type": "code",
   "execution_count": 21,
   "metadata": {},
   "outputs": [],
   "source": [
    "std_scaler = StandardScaler()\n",
    "df = internalMetrics_df.copy()\n",
    "std_scaler.fit(internalMetrics_df)\n",
    "internalMetrics_df = std_scaler.transform(internalMetrics_df)\n"
   ]
  },
  {
   "cell_type": "code",
   "execution_count": 22,
   "metadata": {},
   "outputs": [
    {
     "data": {
      "text/plain": [
       "array([1., 1., 1., 1., 1., 1., 1., 1., 1., 1., 1., 1., 1., 1., 1., 1., 1.,\n",
       "       1., 1., 1., 1., 1., 1., 1., 1., 1., 1., 1., 1., 1., 1., 1., 1., 1.,\n",
       "       1., 1., 1., 1., 1., 1., 1., 1., 1., 1., 1., 1., 1.])"
      ]
     },
     "execution_count": 22,
     "metadata": {},
     "output_type": "execute_result"
    }
   ],
   "source": [
    "# 표준펴차 확인\n",
    "internalMetrics_df.std(axis=0)"
   ]
  },
  {
   "cell_type": "code",
   "execution_count": 23,
   "metadata": {},
   "outputs": [],
   "source": [
    "internalMetrics_df = pd.DataFrame(internalMetrics_df, columns = df.columns, index = list(df.index.values))\n"
   ]
  },
  {
   "cell_type": "code",
   "execution_count": 24,
   "metadata": {
    "scrolled": true
   },
   "outputs": [
    {
     "data": {
      "text/html": [
       "<div>\n",
       "<style scoped>\n",
       "    .dataframe tbody tr th:only-of-type {\n",
       "        vertical-align: middle;\n",
       "    }\n",
       "\n",
       "    .dataframe tbody tr th {\n",
       "        vertical-align: top;\n",
       "    }\n",
       "\n",
       "    .dataframe thead th {\n",
       "        text-align: right;\n",
       "    }\n",
       "</style>\n",
       "<table border=\"1\" class=\"dataframe\">\n",
       "  <thead>\n",
       "    <tr style=\"text-align: right;\">\n",
       "      <th></th>\n",
       "      <th>uptime_in_seconds</th>\n",
       "      <th>hz</th>\n",
       "      <th>configured_hz</th>\n",
       "      <th>lru_clock</th>\n",
       "      <th>used_memory</th>\n",
       "      <th>used_memory_human</th>\n",
       "      <th>used_memory_rss</th>\n",
       "      <th>used_memory_rss_human</th>\n",
       "      <th>used_memory_peak</th>\n",
       "      <th>used_memory_peak_human</th>\n",
       "      <th>...</th>\n",
       "      <th>instantaneous_ops_per_sec</th>\n",
       "      <th>total_net_output_bytes</th>\n",
       "      <th>instantaneous_input_kbps</th>\n",
       "      <th>instantaneous_output_kbps</th>\n",
       "      <th>keyspace_misses</th>\n",
       "      <th>used_cpu_sys</th>\n",
       "      <th>used_cpu_user</th>\n",
       "      <th>used_cpu_sys_children</th>\n",
       "      <th>used_cpu_user_children</th>\n",
       "      <th>db0:keys</th>\n",
       "    </tr>\n",
       "  </thead>\n",
       "  <tbody>\n",
       "    <tr>\n",
       "      <th>0</th>\n",
       "      <td>-0.707167</td>\n",
       "      <td>-1.255451</td>\n",
       "      <td>-1.255451</td>\n",
       "      <td>-1.685231</td>\n",
       "      <td>-0.028440</td>\n",
       "      <td>-0.027196</td>\n",
       "      <td>-0.103139</td>\n",
       "      <td>-0.105777</td>\n",
       "      <td>-0.190707</td>\n",
       "      <td>-0.193749</td>\n",
       "      <td>...</td>\n",
       "      <td>-0.154876</td>\n",
       "      <td>-0.041735</td>\n",
       "      <td>-0.154931</td>\n",
       "      <td>-0.154921</td>\n",
       "      <td>-0.004398</td>\n",
       "      <td>-0.777887</td>\n",
       "      <td>-0.758925</td>\n",
       "      <td>-0.621628</td>\n",
       "      <td>-0.602331</td>\n",
       "      <td>-0.0462</td>\n",
       "    </tr>\n",
       "    <tr>\n",
       "      <th>1</th>\n",
       "      <td>-0.707167</td>\n",
       "      <td>-0.229009</td>\n",
       "      <td>-0.229009</td>\n",
       "      <td>-1.684992</td>\n",
       "      <td>-0.026611</td>\n",
       "      <td>-0.027196</td>\n",
       "      <td>-0.286740</td>\n",
       "      <td>-0.290086</td>\n",
       "      <td>-0.189601</td>\n",
       "      <td>-0.193749</td>\n",
       "      <td>...</td>\n",
       "      <td>1.067904</td>\n",
       "      <td>-0.041735</td>\n",
       "      <td>1.067887</td>\n",
       "      <td>1.068162</td>\n",
       "      <td>-0.004398</td>\n",
       "      <td>-0.741817</td>\n",
       "      <td>-0.769099</td>\n",
       "      <td>-0.621628</td>\n",
       "      <td>-0.602331</td>\n",
       "      <td>-0.0462</td>\n",
       "    </tr>\n",
       "    <tr>\n",
       "      <th>2</th>\n",
       "      <td>1.448275</td>\n",
       "      <td>-0.400083</td>\n",
       "      <td>-0.400083</td>\n",
       "      <td>-1.679133</td>\n",
       "      <td>-0.026611</td>\n",
       "      <td>-0.027196</td>\n",
       "      <td>-0.239940</td>\n",
       "      <td>-0.244009</td>\n",
       "      <td>-0.189324</td>\n",
       "      <td>-0.193749</td>\n",
       "      <td>...</td>\n",
       "      <td>-1.201144</td>\n",
       "      <td>-0.041735</td>\n",
       "      <td>-1.201145</td>\n",
       "      <td>-1.200957</td>\n",
       "      <td>-0.004398</td>\n",
       "      <td>1.530479</td>\n",
       "      <td>2.078503</td>\n",
       "      <td>0.550413</td>\n",
       "      <td>1.766902</td>\n",
       "      <td>-0.0462</td>\n",
       "    </tr>\n",
       "    <tr>\n",
       "      <th>3</th>\n",
       "      <td>-0.707167</td>\n",
       "      <td>-1.597598</td>\n",
       "      <td>-1.597598</td>\n",
       "      <td>-1.678989</td>\n",
       "      <td>-0.026611</td>\n",
       "      <td>-0.027196</td>\n",
       "      <td>-0.265140</td>\n",
       "      <td>-0.262440</td>\n",
       "      <td>-0.189601</td>\n",
       "      <td>-0.193749</td>\n",
       "      <td>...</td>\n",
       "      <td>-0.855775</td>\n",
       "      <td>-0.041735</td>\n",
       "      <td>-0.855848</td>\n",
       "      <td>-0.855984</td>\n",
       "      <td>-0.004398</td>\n",
       "      <td>-0.664389</td>\n",
       "      <td>-0.750260</td>\n",
       "      <td>-0.621628</td>\n",
       "      <td>-0.602331</td>\n",
       "      <td>-0.0462</td>\n",
       "    </tr>\n",
       "    <tr>\n",
       "      <th>4</th>\n",
       "      <td>1.448275</td>\n",
       "      <td>-1.169914</td>\n",
       "      <td>-1.169914</td>\n",
       "      <td>-1.673130</td>\n",
       "      <td>-0.026611</td>\n",
       "      <td>-0.027196</td>\n",
       "      <td>-0.337140</td>\n",
       "      <td>-0.336164</td>\n",
       "      <td>-0.189324</td>\n",
       "      <td>-0.193749</td>\n",
       "      <td>...</td>\n",
       "      <td>-1.198777</td>\n",
       "      <td>-0.041735</td>\n",
       "      <td>-1.198782</td>\n",
       "      <td>-1.198676</td>\n",
       "      <td>-0.004398</td>\n",
       "      <td>1.680416</td>\n",
       "      <td>1.208064</td>\n",
       "      <td>1.299735</td>\n",
       "      <td>1.339647</td>\n",
       "      <td>-0.0462</td>\n",
       "    </tr>\n",
       "  </tbody>\n",
       "</table>\n",
       "<p>5 rows × 47 columns</p>\n",
       "</div>"
      ],
      "text/plain": [
       "   uptime_in_seconds        hz  configured_hz  lru_clock  used_memory  \\\n",
       "0          -0.707167 -1.255451      -1.255451  -1.685231    -0.028440   \n",
       "1          -0.707167 -0.229009      -0.229009  -1.684992    -0.026611   \n",
       "2           1.448275 -0.400083      -0.400083  -1.679133    -0.026611   \n",
       "3          -0.707167 -1.597598      -1.597598  -1.678989    -0.026611   \n",
       "4           1.448275 -1.169914      -1.169914  -1.673130    -0.026611   \n",
       "\n",
       "   used_memory_human  used_memory_rss  used_memory_rss_human  \\\n",
       "0          -0.027196        -0.103139              -0.105777   \n",
       "1          -0.027196        -0.286740              -0.290086   \n",
       "2          -0.027196        -0.239940              -0.244009   \n",
       "3          -0.027196        -0.265140              -0.262440   \n",
       "4          -0.027196        -0.337140              -0.336164   \n",
       "\n",
       "   used_memory_peak  used_memory_peak_human  ...  instantaneous_ops_per_sec  \\\n",
       "0         -0.190707               -0.193749  ...                  -0.154876   \n",
       "1         -0.189601               -0.193749  ...                   1.067904   \n",
       "2         -0.189324               -0.193749  ...                  -1.201144   \n",
       "3         -0.189601               -0.193749  ...                  -0.855775   \n",
       "4         -0.189324               -0.193749  ...                  -1.198777   \n",
       "\n",
       "   total_net_output_bytes  instantaneous_input_kbps  \\\n",
       "0               -0.041735                 -0.154931   \n",
       "1               -0.041735                  1.067887   \n",
       "2               -0.041735                 -1.201145   \n",
       "3               -0.041735                 -0.855848   \n",
       "4               -0.041735                 -1.198782   \n",
       "\n",
       "   instantaneous_output_kbps  keyspace_misses  used_cpu_sys  used_cpu_user  \\\n",
       "0                  -0.154921        -0.004398     -0.777887      -0.758925   \n",
       "1                   1.068162        -0.004398     -0.741817      -0.769099   \n",
       "2                  -1.200957        -0.004398      1.530479       2.078503   \n",
       "3                  -0.855984        -0.004398     -0.664389      -0.750260   \n",
       "4                  -1.198676        -0.004398      1.680416       1.208064   \n",
       "\n",
       "   used_cpu_sys_children  used_cpu_user_children  db0:keys  \n",
       "0              -0.621628               -0.602331   -0.0462  \n",
       "1              -0.621628               -0.602331   -0.0462  \n",
       "2               0.550413                1.766902   -0.0462  \n",
       "3              -0.621628               -0.602331   -0.0462  \n",
       "4               1.299735                1.339647   -0.0462  \n",
       "\n",
       "[5 rows x 47 columns]"
      ]
     },
     "execution_count": 24,
     "metadata": {},
     "output_type": "execute_result"
    }
   ],
   "source": [
    "internalMetrics_df.head()"
   ]
  },
  {
   "cell_type": "markdown",
   "metadata": {},
   "source": [
    "### minmaxscaler"
   ]
  },
  {
   "cell_type": "code",
   "execution_count": 25,
   "metadata": {},
   "outputs": [],
   "source": [
    "# # 객체생성\n",
    "# scaler = MinMaxScaler()\n",
    "\n",
    "# # fit -> transform\n",
    "# scaler.fit(internalMetrics_df) # df는 2차원 이상의 값이어야 함\n",
    "# internalMetrics_df_MinMax = scaler.transform(internalMetrics_df.copy())\n",
    "\n",
    "# # 배열형태로 반환되기 때문에 데이터 프레임으로 변환해주는 작업\n",
    "# internalMetrics_df_MinMax = pd.DataFrame(data = internalMetrics_df_MinMax, columns=internalMetrics_df.columns)"
   ]
  },
  {
   "cell_type": "code",
   "execution_count": 26,
   "metadata": {},
   "outputs": [],
   "source": [
    "# internalMetrics_df_MinMax.head()"
   ]
  },
  {
   "cell_type": "markdown",
   "metadata": {},
   "source": [
    "---"
   ]
  },
  {
   "cell_type": "markdown",
   "metadata": {},
   "source": [
    "## Factor Analysis"
   ]
  },
  {
   "cell_type": "code",
   "execution_count": 27,
   "metadata": {},
   "outputs": [
    {
     "data": {
      "text/html": [
       "<div>\n",
       "<style scoped>\n",
       "    .dataframe tbody tr th:only-of-type {\n",
       "        vertical-align: middle;\n",
       "    }\n",
       "\n",
       "    .dataframe tbody tr th {\n",
       "        vertical-align: top;\n",
       "    }\n",
       "\n",
       "    .dataframe thead th {\n",
       "        text-align: right;\n",
       "    }\n",
       "</style>\n",
       "<table border=\"1\" class=\"dataframe\">\n",
       "  <thead>\n",
       "    <tr style=\"text-align: right;\">\n",
       "      <th></th>\n",
       "      <th>uptime_in_seconds</th>\n",
       "      <th>hz</th>\n",
       "      <th>configured_hz</th>\n",
       "      <th>lru_clock</th>\n",
       "      <th>used_memory</th>\n",
       "      <th>used_memory_human</th>\n",
       "      <th>used_memory_rss</th>\n",
       "      <th>used_memory_rss_human</th>\n",
       "      <th>used_memory_peak</th>\n",
       "      <th>used_memory_peak_human</th>\n",
       "      <th>...</th>\n",
       "      <th>instantaneous_ops_per_sec</th>\n",
       "      <th>total_net_output_bytes</th>\n",
       "      <th>instantaneous_input_kbps</th>\n",
       "      <th>instantaneous_output_kbps</th>\n",
       "      <th>keyspace_misses</th>\n",
       "      <th>used_cpu_sys</th>\n",
       "      <th>used_cpu_user</th>\n",
       "      <th>used_cpu_sys_children</th>\n",
       "      <th>used_cpu_user_children</th>\n",
       "      <th>db0:keys</th>\n",
       "    </tr>\n",
       "  </thead>\n",
       "  <tbody>\n",
       "    <tr>\n",
       "      <th>0</th>\n",
       "      <td>-0.707167</td>\n",
       "      <td>-1.255451</td>\n",
       "      <td>-1.255451</td>\n",
       "      <td>-1.685231</td>\n",
       "      <td>-0.028440</td>\n",
       "      <td>-0.027196</td>\n",
       "      <td>-0.103139</td>\n",
       "      <td>-0.105777</td>\n",
       "      <td>-0.190707</td>\n",
       "      <td>-0.193749</td>\n",
       "      <td>...</td>\n",
       "      <td>-0.154876</td>\n",
       "      <td>-0.041735</td>\n",
       "      <td>-0.154931</td>\n",
       "      <td>-0.154921</td>\n",
       "      <td>-0.004398</td>\n",
       "      <td>-0.777887</td>\n",
       "      <td>-0.758925</td>\n",
       "      <td>-0.621628</td>\n",
       "      <td>-0.602331</td>\n",
       "      <td>-0.046200</td>\n",
       "    </tr>\n",
       "    <tr>\n",
       "      <th>1</th>\n",
       "      <td>-0.707167</td>\n",
       "      <td>-0.229009</td>\n",
       "      <td>-0.229009</td>\n",
       "      <td>-1.684992</td>\n",
       "      <td>-0.026611</td>\n",
       "      <td>-0.027196</td>\n",
       "      <td>-0.286740</td>\n",
       "      <td>-0.290086</td>\n",
       "      <td>-0.189601</td>\n",
       "      <td>-0.193749</td>\n",
       "      <td>...</td>\n",
       "      <td>1.067904</td>\n",
       "      <td>-0.041735</td>\n",
       "      <td>1.067887</td>\n",
       "      <td>1.068162</td>\n",
       "      <td>-0.004398</td>\n",
       "      <td>-0.741817</td>\n",
       "      <td>-0.769099</td>\n",
       "      <td>-0.621628</td>\n",
       "      <td>-0.602331</td>\n",
       "      <td>-0.046200</td>\n",
       "    </tr>\n",
       "    <tr>\n",
       "      <th>2</th>\n",
       "      <td>1.448275</td>\n",
       "      <td>-0.400083</td>\n",
       "      <td>-0.400083</td>\n",
       "      <td>-1.679133</td>\n",
       "      <td>-0.026611</td>\n",
       "      <td>-0.027196</td>\n",
       "      <td>-0.239940</td>\n",
       "      <td>-0.244009</td>\n",
       "      <td>-0.189324</td>\n",
       "      <td>-0.193749</td>\n",
       "      <td>...</td>\n",
       "      <td>-1.201144</td>\n",
       "      <td>-0.041735</td>\n",
       "      <td>-1.201145</td>\n",
       "      <td>-1.200957</td>\n",
       "      <td>-0.004398</td>\n",
       "      <td>1.530479</td>\n",
       "      <td>2.078503</td>\n",
       "      <td>0.550413</td>\n",
       "      <td>1.766902</td>\n",
       "      <td>-0.046200</td>\n",
       "    </tr>\n",
       "    <tr>\n",
       "      <th>3</th>\n",
       "      <td>-0.707167</td>\n",
       "      <td>-1.597598</td>\n",
       "      <td>-1.597598</td>\n",
       "      <td>-1.678989</td>\n",
       "      <td>-0.026611</td>\n",
       "      <td>-0.027196</td>\n",
       "      <td>-0.265140</td>\n",
       "      <td>-0.262440</td>\n",
       "      <td>-0.189601</td>\n",
       "      <td>-0.193749</td>\n",
       "      <td>...</td>\n",
       "      <td>-0.855775</td>\n",
       "      <td>-0.041735</td>\n",
       "      <td>-0.855848</td>\n",
       "      <td>-0.855984</td>\n",
       "      <td>-0.004398</td>\n",
       "      <td>-0.664389</td>\n",
       "      <td>-0.750260</td>\n",
       "      <td>-0.621628</td>\n",
       "      <td>-0.602331</td>\n",
       "      <td>-0.046200</td>\n",
       "    </tr>\n",
       "    <tr>\n",
       "      <th>4</th>\n",
       "      <td>1.448275</td>\n",
       "      <td>-1.169914</td>\n",
       "      <td>-1.169914</td>\n",
       "      <td>-1.673130</td>\n",
       "      <td>-0.026611</td>\n",
       "      <td>-0.027196</td>\n",
       "      <td>-0.337140</td>\n",
       "      <td>-0.336164</td>\n",
       "      <td>-0.189324</td>\n",
       "      <td>-0.193749</td>\n",
       "      <td>...</td>\n",
       "      <td>-1.198777</td>\n",
       "      <td>-0.041735</td>\n",
       "      <td>-1.198782</td>\n",
       "      <td>-1.198676</td>\n",
       "      <td>-0.004398</td>\n",
       "      <td>1.680416</td>\n",
       "      <td>1.208064</td>\n",
       "      <td>1.299735</td>\n",
       "      <td>1.339647</td>\n",
       "      <td>-0.046200</td>\n",
       "    </tr>\n",
       "    <tr>\n",
       "      <th>...</th>\n",
       "      <td>...</td>\n",
       "      <td>...</td>\n",
       "      <td>...</td>\n",
       "      <td>...</td>\n",
       "      <td>...</td>\n",
       "      <td>...</td>\n",
       "      <td>...</td>\n",
       "      <td>...</td>\n",
       "      <td>...</td>\n",
       "      <td>...</td>\n",
       "      <td>...</td>\n",
       "      <td>...</td>\n",
       "      <td>...</td>\n",
       "      <td>...</td>\n",
       "      <td>...</td>\n",
       "      <td>...</td>\n",
       "      <td>...</td>\n",
       "      <td>...</td>\n",
       "      <td>...</td>\n",
       "      <td>...</td>\n",
       "      <td>...</td>\n",
       "    </tr>\n",
       "    <tr>\n",
       "      <th>1245</th>\n",
       "      <td>-0.707167</td>\n",
       "      <td>0.455285</td>\n",
       "      <td>0.455285</td>\n",
       "      <td>1.465422</td>\n",
       "      <td>-0.026611</td>\n",
       "      <td>-0.027196</td>\n",
       "      <td>-0.272340</td>\n",
       "      <td>-0.271655</td>\n",
       "      <td>-0.189324</td>\n",
       "      <td>-0.193749</td>\n",
       "      <td>...</td>\n",
       "      <td>1.081964</td>\n",
       "      <td>-0.041735</td>\n",
       "      <td>1.081988</td>\n",
       "      <td>1.081847</td>\n",
       "      <td>-0.004398</td>\n",
       "      <td>-0.692739</td>\n",
       "      <td>-0.577223</td>\n",
       "      <td>-0.621628</td>\n",
       "      <td>-0.602331</td>\n",
       "      <td>-0.046200</td>\n",
       "    </tr>\n",
       "    <tr>\n",
       "      <th>1246</th>\n",
       "      <td>1.579319</td>\n",
       "      <td>-0.742230</td>\n",
       "      <td>-0.742230</td>\n",
       "      <td>1.471628</td>\n",
       "      <td>-0.026611</td>\n",
       "      <td>-0.027196</td>\n",
       "      <td>-0.189540</td>\n",
       "      <td>-0.188716</td>\n",
       "      <td>-0.189324</td>\n",
       "      <td>-0.193749</td>\n",
       "      <td>...</td>\n",
       "      <td>-1.197664</td>\n",
       "      <td>-0.041735</td>\n",
       "      <td>-1.197703</td>\n",
       "      <td>-1.197535</td>\n",
       "      <td>-0.004398</td>\n",
       "      <td>1.614424</td>\n",
       "      <td>1.458066</td>\n",
       "      <td>-0.621628</td>\n",
       "      <td>2.293288</td>\n",
       "      <td>-0.046200</td>\n",
       "    </tr>\n",
       "    <tr>\n",
       "      <th>1247</th>\n",
       "      <td>-0.707167</td>\n",
       "      <td>-0.827767</td>\n",
       "      <td>-0.827767</td>\n",
       "      <td>1.471772</td>\n",
       "      <td>-0.028440</td>\n",
       "      <td>-0.027196</td>\n",
       "      <td>0.019261</td>\n",
       "      <td>0.023240</td>\n",
       "      <td>2.721446</td>\n",
       "      <td>2.679780</td>\n",
       "      <td>...</td>\n",
       "      <td>0.730192</td>\n",
       "      <td>-0.041735</td>\n",
       "      <td>0.730245</td>\n",
       "      <td>0.730318</td>\n",
       "      <td>-0.004398</td>\n",
       "      <td>-0.811913</td>\n",
       "      <td>-0.705227</td>\n",
       "      <td>-0.621628</td>\n",
       "      <td>-0.602331</td>\n",
       "      <td>-0.046200</td>\n",
       "    </tr>\n",
       "    <tr>\n",
       "      <th>1248</th>\n",
       "      <td>-0.707167</td>\n",
       "      <td>-0.742230</td>\n",
       "      <td>-0.742230</td>\n",
       "      <td>1.471916</td>\n",
       "      <td>-0.028440</td>\n",
       "      <td>-0.027196</td>\n",
       "      <td>-0.178740</td>\n",
       "      <td>-0.179501</td>\n",
       "      <td>-0.190707</td>\n",
       "      <td>-0.193749</td>\n",
       "      <td>...</td>\n",
       "      <td>0.893341</td>\n",
       "      <td>-0.041735</td>\n",
       "      <td>0.893287</td>\n",
       "      <td>0.893395</td>\n",
       "      <td>-0.004398</td>\n",
       "      <td>-0.772300</td>\n",
       "      <td>-0.803060</td>\n",
       "      <td>-0.621628</td>\n",
       "      <td>-0.602331</td>\n",
       "      <td>-0.046200</td>\n",
       "    </tr>\n",
       "    <tr>\n",
       "      <th>1249</th>\n",
       "      <td>1.633544</td>\n",
       "      <td>-1.683135</td>\n",
       "      <td>-1.683135</td>\n",
       "      <td>2.850798</td>\n",
       "      <td>3.194948</td>\n",
       "      <td>2.977131</td>\n",
       "      <td>-0.247140</td>\n",
       "      <td>-0.244009</td>\n",
       "      <td>1.758746</td>\n",
       "      <td>1.781802</td>\n",
       "      <td>...</td>\n",
       "      <td>-1.197803</td>\n",
       "      <td>28.846335</td>\n",
       "      <td>-1.197806</td>\n",
       "      <td>-1.197820</td>\n",
       "      <td>-19.509218</td>\n",
       "      <td>1.492268</td>\n",
       "      <td>0.681874</td>\n",
       "      <td>0.207137</td>\n",
       "      <td>1.911634</td>\n",
       "      <td>21.584914</td>\n",
       "    </tr>\n",
       "  </tbody>\n",
       "</table>\n",
       "<p>939 rows × 47 columns</p>\n",
       "</div>"
      ],
      "text/plain": [
       "      uptime_in_seconds        hz  configured_hz  lru_clock  used_memory  \\\n",
       "0             -0.707167 -1.255451      -1.255451  -1.685231    -0.028440   \n",
       "1             -0.707167 -0.229009      -0.229009  -1.684992    -0.026611   \n",
       "2              1.448275 -0.400083      -0.400083  -1.679133    -0.026611   \n",
       "3             -0.707167 -1.597598      -1.597598  -1.678989    -0.026611   \n",
       "4              1.448275 -1.169914      -1.169914  -1.673130    -0.026611   \n",
       "...                 ...       ...            ...        ...          ...   \n",
       "1245          -0.707167  0.455285       0.455285   1.465422    -0.026611   \n",
       "1246           1.579319 -0.742230      -0.742230   1.471628    -0.026611   \n",
       "1247          -0.707167 -0.827767      -0.827767   1.471772    -0.028440   \n",
       "1248          -0.707167 -0.742230      -0.742230   1.471916    -0.028440   \n",
       "1249           1.633544 -1.683135      -1.683135   2.850798     3.194948   \n",
       "\n",
       "      used_memory_human  used_memory_rss  used_memory_rss_human  \\\n",
       "0             -0.027196        -0.103139              -0.105777   \n",
       "1             -0.027196        -0.286740              -0.290086   \n",
       "2             -0.027196        -0.239940              -0.244009   \n",
       "3             -0.027196        -0.265140              -0.262440   \n",
       "4             -0.027196        -0.337140              -0.336164   \n",
       "...                 ...              ...                    ...   \n",
       "1245          -0.027196        -0.272340              -0.271655   \n",
       "1246          -0.027196        -0.189540              -0.188716   \n",
       "1247          -0.027196         0.019261               0.023240   \n",
       "1248          -0.027196        -0.178740              -0.179501   \n",
       "1249           2.977131        -0.247140              -0.244009   \n",
       "\n",
       "      used_memory_peak  used_memory_peak_human  ...  \\\n",
       "0            -0.190707               -0.193749  ...   \n",
       "1            -0.189601               -0.193749  ...   \n",
       "2            -0.189324               -0.193749  ...   \n",
       "3            -0.189601               -0.193749  ...   \n",
       "4            -0.189324               -0.193749  ...   \n",
       "...                ...                     ...  ...   \n",
       "1245         -0.189324               -0.193749  ...   \n",
       "1246         -0.189324               -0.193749  ...   \n",
       "1247          2.721446                2.679780  ...   \n",
       "1248         -0.190707               -0.193749  ...   \n",
       "1249          1.758746                1.781802  ...   \n",
       "\n",
       "      instantaneous_ops_per_sec  total_net_output_bytes  \\\n",
       "0                     -0.154876               -0.041735   \n",
       "1                      1.067904               -0.041735   \n",
       "2                     -1.201144               -0.041735   \n",
       "3                     -0.855775               -0.041735   \n",
       "4                     -1.198777               -0.041735   \n",
       "...                         ...                     ...   \n",
       "1245                   1.081964               -0.041735   \n",
       "1246                  -1.197664               -0.041735   \n",
       "1247                   0.730192               -0.041735   \n",
       "1248                   0.893341               -0.041735   \n",
       "1249                  -1.197803               28.846335   \n",
       "\n",
       "      instantaneous_input_kbps  instantaneous_output_kbps  keyspace_misses  \\\n",
       "0                    -0.154931                  -0.154921        -0.004398   \n",
       "1                     1.067887                   1.068162        -0.004398   \n",
       "2                    -1.201145                  -1.200957        -0.004398   \n",
       "3                    -0.855848                  -0.855984        -0.004398   \n",
       "4                    -1.198782                  -1.198676        -0.004398   \n",
       "...                        ...                        ...              ...   \n",
       "1245                  1.081988                   1.081847        -0.004398   \n",
       "1246                 -1.197703                  -1.197535        -0.004398   \n",
       "1247                  0.730245                   0.730318        -0.004398   \n",
       "1248                  0.893287                   0.893395        -0.004398   \n",
       "1249                 -1.197806                  -1.197820       -19.509218   \n",
       "\n",
       "      used_cpu_sys  used_cpu_user  used_cpu_sys_children  \\\n",
       "0        -0.777887      -0.758925              -0.621628   \n",
       "1        -0.741817      -0.769099              -0.621628   \n",
       "2         1.530479       2.078503               0.550413   \n",
       "3        -0.664389      -0.750260              -0.621628   \n",
       "4         1.680416       1.208064               1.299735   \n",
       "...            ...            ...                    ...   \n",
       "1245     -0.692739      -0.577223              -0.621628   \n",
       "1246      1.614424       1.458066              -0.621628   \n",
       "1247     -0.811913      -0.705227              -0.621628   \n",
       "1248     -0.772300      -0.803060              -0.621628   \n",
       "1249      1.492268       0.681874               0.207137   \n",
       "\n",
       "      used_cpu_user_children   db0:keys  \n",
       "0                  -0.602331  -0.046200  \n",
       "1                  -0.602331  -0.046200  \n",
       "2                   1.766902  -0.046200  \n",
       "3                  -0.602331  -0.046200  \n",
       "4                   1.339647  -0.046200  \n",
       "...                      ...        ...  \n",
       "1245               -0.602331  -0.046200  \n",
       "1246                2.293288  -0.046200  \n",
       "1247               -0.602331  -0.046200  \n",
       "1248               -0.602331  -0.046200  \n",
       "1249                1.911634  21.584914  \n",
       "\n",
       "[939 rows x 47 columns]"
      ]
     },
     "execution_count": 27,
     "metadata": {},
     "output_type": "execute_result"
    }
   ],
   "source": [
    "internalMetrics_df"
   ]
  },
  {
   "cell_type": "code",
   "execution_count": 28,
   "metadata": {},
   "outputs": [],
   "source": [
    "# # 상관성 높은 normal에서 .. df 구성\n",
    "# corr_knob = ['allocator_allocated',\n",
    "#  'allocator_rss_bytes',\n",
    "#  'used_memory_rss',\n",
    "#  'allocator_resident',\n",
    "#  'allocator_frag_bytes',\n",
    "#  'rss_overhead_bytes',\n",
    "#  'uptime_in_seconds',\n",
    "#  'mem_fragmentation_bytes',\n",
    "#  'used_memory_peak',\n",
    "#  'configured_hz',\n",
    "#  'used_cpu_sys',\n",
    "#  'maxmemory',\n",
    "#  'hz',\n",
    "#  'used_cpu_user',\n",
    "#  'used_memory_rss_human',\n",
    "#  'maxmemory_human',\n",
    "#  'allocator_rss_ratio']\n",
    "\n",
    "# internalMetrics_normal_df = internalMetrics_df.copy()[corr_knob]"
   ]
  },
  {
   "cell_type": "code",
   "execution_count": 29,
   "metadata": {},
   "outputs": [
    {
     "name": "stdout",
     "output_type": "stream",
     "text": [
      "['hz', 'configured_hz']\n"
     ]
    }
   ],
   "source": [
    "import itertools\n",
    "\n",
    "# singular Error 발생시키는 변수 확인\n",
    "def find_singularError_var(df, count):\n",
    "    sin_rel_var = []\n",
    "\n",
    "    for var in itertools.combinations(df.columns, count):\n",
    "        new_df = internalMetrics_df[list(var)]\n",
    "        try:\n",
    "            fa_func = FactorAnalyzer(n_factors=2, rotation='varimax')\n",
    "            fa_func.fit(new_df)        \n",
    "        except :\n",
    "            print(list(var))\n",
    "            sin_rel_var += list(var)\n",
    "            continue\n",
    "    sin_rel_var = list(set(sin_rel_var))\n",
    "    return sin_rel_var\n",
    "\n",
    "        \n",
    "sin_rel_var = find_singularError_var(internalMetrics_df, 2)\n",
    "# hz, configured_hz, total_net_output_bytes, keyspace_hits, keyspace_misses 5개! -> 3개를 생략해야 한다!!"
   ]
  },
  {
   "cell_type": "code",
   "execution_count": 30,
   "metadata": {
    "scrolled": true
   },
   "outputs": [
    {
     "data": {
      "text/plain": [
       "[]"
      ]
     },
     "execution_count": 30,
     "metadata": {},
     "output_type": "execute_result"
    }
   ],
   "source": [
    "# singluar error를 발생시키는 변수 삭제 -> 추후 조정 필요 상관계수 보면서!\n",
    "drop_val = ['configured_hz']\n",
    "internalMetrics_df_drop = internalMetrics_df.drop(columns = drop_val, axis = 0)\n",
    "\n",
    "find_singularError_var(internalMetrics_df_drop, 2)"
   ]
  },
  {
   "cell_type": "code",
   "execution_count": 31,
   "metadata": {},
   "outputs": [
    {
     "data": {
      "text/plain": [
       "46"
      ]
     },
     "execution_count": 31,
     "metadata": {},
     "output_type": "execute_result"
    }
   ],
   "source": [
    "# 커럼 개수 25개로 줄여짐\n",
    "len(internalMetrics_df_drop.columns)"
   ]
  },
  {
   "cell_type": "markdown",
   "metadata": {},
   "source": [
    "---"
   ]
  },
  {
   "cell_type": "markdown",
   "metadata": {},
   "source": [
    "### 이상치 제거"
   ]
  },
  {
   "cell_type": "code",
   "execution_count": 32,
   "metadata": {},
   "outputs": [],
   "source": [
    "# # 히스토그램으로 살펴보기\n",
    "# internalMetrics_df.hist(figsize=(20, 20), bins=30)"
   ]
  },
  {
   "cell_type": "code",
   "execution_count": 33,
   "metadata": {},
   "outputs": [],
   "source": [
    "# import numpy as np\n",
    "\n",
    "# def get_outlier(df=None, column=None, weight=1.5):\n",
    "    \n",
    "#     # target 값과 상관관계가 높은 열을 우선적으로 진행\n",
    "#     quantile_25 = np.percentile(df[column].values, 25)\n",
    "#     quantile_75 = np.percentile(df[column].values, 75)\n",
    "\n",
    "#     IQR = quantile_75 - quantile_25\n",
    "#     IQR_weight = IQR*weight\n",
    "\n",
    "#     lowest = quantile_25 - IQR_weight\n",
    "#     highest = quantile_75 + IQR_weight\n",
    "\n",
    "#     outlier_idx = df[column][ (df[column] < lowest) | (df[column] > highest) ].index\n",
    "#     return outlier_idx"
   ]
  },
  {
   "cell_type": "code",
   "execution_count": 34,
   "metadata": {},
   "outputs": [],
   "source": [
    "# col = internalMetrics_df_drop.columns.tolist()\n",
    "# outlier_idx = []\n",
    "\n",
    "# # 컬럼별로 접근해서 인덱스 가져온다.\n",
    "# for col_name in col:\n",
    "#     idx = get_outlier(internalMetrics_df_drop, col_name)\n",
    "#     outlier_idx += list(idx)\n",
    "\n",
    "# outlier_idx = list(set(outlier_idx))  # 인데스 중복 삭제\n",
    "\n",
    "# # 인덱스 개수가 너무 많다. -> 몇개만 골라서 삭제하자\n",
    "# print(len(outlier_idx))"
   ]
  },
  {
   "cell_type": "code",
   "execution_count": 35,
   "metadata": {},
   "outputs": [],
   "source": [
    "# # internal unique 한 결과 이상치 하나 삭제하는게 낫다고 판단 \n",
    "# # uptime_in_seconds = [  22   21   23 3304   25   24   26   27]\n",
    "# for i in internalMetrics_df_drop:\n",
    "#     print(i)\n",
    "#     print(internalMetrics_df_drop[i].unique())"
   ]
  },
  {
   "cell_type": "code",
   "execution_count": 36,
   "metadata": {},
   "outputs": [],
   "source": [
    "# # used_memory_rss\n",
    "# used_memory_rss_idx = get_outlier(internalMetrics_df_drop, 'used_memory_rss')\n",
    "\n",
    "# internalMetrics_df_drop.drop(used_memory_rss_idx, axis=0)['used_memory_rss'].hist()"
   ]
  },
  {
   "cell_type": "markdown",
   "metadata": {},
   "source": [
    "---"
   ]
  },
  {
   "cell_type": "markdown",
   "metadata": {},
   "source": [
    "### 요인수 선택\n",
    "* 요인 적재값\n",
    "* 공통성\n",
    "* \n",
    "* 클러스터링 개수 -> 각 클러스터마다 동등한 개수였으면 좋겠다"
   ]
  },
  {
   "cell_type": "code",
   "execution_count": 37,
   "metadata": {},
   "outputs": [],
   "source": [
    "def factor_analysis(n_factors, df):\n",
    "    fa = FactorAnalyzer(n_factors = n_factors, rotation='varimax')  # 객체 생성\n",
    "    fa.fit(df)  # fitting\n",
    "    df_fa = pd.DataFrame(fa.loadings_, index = df.columns)  # 데이터프레임으로 전달\n",
    "    ev, v = fa.get_eigenvalues()\n",
    "    return df_fa, ev"
   ]
  },
  {
   "cell_type": "code",
   "execution_count": 38,
   "metadata": {},
   "outputs": [],
   "source": [
    "internalMetrics_fa, ev = factor_analysis(9, internalMetrics_df_drop)  ## 전체 데이터\n",
    "\n",
    "# internalMetrics_df_drop = internalMetrics_normal_df\n",
    "# internalMetrics_fa, ev = factor_analysis(6, internalMetrics_normal_df)  # 상관성 높은걸로 줄인거\n"
   ]
  },
  {
   "cell_type": "code",
   "execution_count": 39,
   "metadata": {},
   "outputs": [
    {
     "name": "stdout",
     "output_type": "stream",
     "text": [
      "               0\n",
      "0   1.103810e+01\n",
      "1   9.154065e+00\n",
      "2   6.455658e+00\n",
      "3   3.738349e+00\n",
      "4   2.736190e+00\n",
      "5   1.950848e+00\n",
      "6   1.822870e+00\n",
      "7   1.538586e+00\n",
      "8   1.342669e+00\n",
      "9   1.190064e+00\n",
      "10  9.604550e-01\n",
      "11  6.670088e-01\n",
      "12  6.056481e-01\n",
      "13  5.882384e-01\n",
      "14  4.724281e-01\n",
      "15  4.396283e-01\n",
      "16  3.577410e-01\n",
      "17  3.267921e-01\n",
      "18  2.783404e-01\n",
      "19  1.124762e-01\n",
      "20  7.887705e-02\n",
      "21  3.891418e-02\n",
      "22  3.084212e-02\n",
      "23  2.599794e-02\n",
      "24  1.827741e-02\n",
      "25  1.246459e-02\n",
      "26  9.894953e-03\n",
      "27  3.245941e-03\n",
      "28  3.057073e-03\n",
      "29  1.105544e-03\n",
      "30  8.815838e-04\n",
      "31  1.852585e-04\n",
      "32  4.771004e-05\n",
      "33  4.264998e-05\n",
      "34  4.276276e-06\n",
      "35  3.096849e-06\n",
      "36  1.185289e-07\n",
      "37  5.919869e-09\n",
      "38  4.913763e-09\n",
      "39  9.981240e-10\n",
      "40  5.542479e-15\n",
      "41 -9.414098e-19\n",
      "42 -2.645629e-16\n",
      "43 -1.975428e-15\n",
      "44 -4.557915e-15\n",
      "45 -8.288984e-15\n"
     ]
    }
   ],
   "source": [
    "# 요인수 선택 방법1 -> 요인수와 상관없다.\n",
    "print(pd.DataFrame(ev))"
   ]
  },
  {
   "cell_type": "code",
   "execution_count": 40,
   "metadata": {},
   "outputs": [
    {
     "data": {
      "image/png": "[encoded data removed]",
      "text/plain": [
       "<Figure size 432x288 with 1 Axes>"
      ]
     },
     "metadata": {
      "needs_background": "light"
     },
     "output_type": "display_data"
    }
   ],
   "source": [
    "# 요인수 선택 방법2 -> 요인수와 상관없다\n",
    "plt.scatter(range(1,internalMetrics_df_drop.shape[1]+1),ev)\n",
    "plt.plot(range(1,internalMetrics_df_drop.shape[1]+1),ev)\n",
    "plt.title('Scree Plot')\n",
    "plt.xlabel('Factors')\n",
    "plt.ylabel('Eigenvalue')\n",
    "plt.grid()\n",
    "plt.show()"
   ]
  },
  {
   "cell_type": "code",
   "execution_count": 41,
   "metadata": {},
   "outputs": [
    {
     "data": {
      "text/plain": [
       "<AxesSubplot:>"
      ]
     },
     "execution_count": 41,
     "metadata": {},
     "output_type": "execute_result"
    },
    {
     "data": {
      "image/png": "[encoded data removed]",
      "text/plain": [
       "<Figure size 432x720 with 2 Axes>"
      ]
     },
     "metadata": {
      "needs_background": "light"
     },
     "output_type": "display_data"
    }
   ],
   "source": [
    "# 요인수 선택 방법3\n",
    "# internal_metrics들이 포함되는 요인들 확인 -> 세로출이 거의다 포함되면 좋다.\n",
    "plt.figure(figsize=(6,10))\n",
    "sns.heatmap(internalMetrics_fa, cmap=\"Blues\", annot=True, fmt='.2f')"
   ]
  },
  {
   "cell_type": "markdown",
   "metadata": {},
   "source": [
    "---"
   ]
  },
  {
   "cell_type": "markdown",
   "metadata": {},
   "source": [
    "## Clustering"
   ]
  },
  {
   "cell_type": "code",
   "execution_count": 42,
   "metadata": {},
   "outputs": [],
   "source": [
    "# from sklearn.cluster import KMeans\n",
    "\n",
    "# kmeans = KMeans(n_clusters=3)\n",
    "# kmeans.fit(internalMetrics_fa)"
   ]
  },
  {
   "cell_type": "code",
   "execution_count": 43,
   "metadata": {},
   "outputs": [],
   "source": [
    "from sklearn.cluster import KMeans\n",
    "def kmeans(n_clusters, df):\n",
    "    kmeans = KMeans(n_clusters = n_clusters)\n",
    "    kmeans.fit(df)\n",
    "    \n",
    "    df['cluster'] = kmeans.labels_\n",
    "    \n",
    "    return df"
   ]
  },
  {
   "cell_type": "code",
   "execution_count": 44,
   "metadata": {},
   "outputs": [],
   "source": [
    "kmeans_df = kmeans(2, internalMetrics_fa)"
   ]
  },
  {
   "cell_type": "code",
   "execution_count": 45,
   "metadata": {},
   "outputs": [],
   "source": [
    "# 클러스터 개수 확인 함수\n",
    "def clusters(df):\n",
    "    \n",
    "    # 총 개수 확인\n",
    "    print(df['cluster'].value_counts())\n",
    "    print()\n",
    "    \n",
    "    count_cluster = len(df['cluster'].unique())\n",
    "    new_df = pd.DataFrame()\n",
    "    metric_list = []\n",
    "    \n",
    "    for i in range(count_cluster):\n",
    "        metric_list = list(df[df['cluster'] == i].index)\n",
    "        print(\"len = {}\".format(len(df[df['cluster'] == i])))\n",
    "        print(\"cluster{}\".format(i))\n",
    "        for metric in metric_list:\n",
    "            print(metric)\n",
    "        print()\n",
    "        \n",
    "    return new_df"
   ]
  },
  {
   "cell_type": "code",
   "execution_count": 46,
   "metadata": {},
   "outputs": [
    {
     "name": "stdout",
     "output_type": "stream",
     "text": [
      "0    29\n",
      "1    17\n",
      "Name: cluster, dtype: int64\n",
      "\n",
      "len = 29\n",
      "cluster0\n",
      "uptime_in_seconds\n",
      "hz\n",
      "lru_clock\n",
      "used_memory_rss\n",
      "used_memory_rss_human\n",
      "used_memory_peak_perc\n",
      "used_memory_dataset\n",
      "used_memory_dataset_perc\n",
      "maxmemory\n",
      "maxmemory_human\n",
      "allocator_frag_ratio\n",
      "allocator_rss_ratio\n",
      "rss_overhead_ratio\n",
      "rss_overhead_bytes\n",
      "mem_fragmentation_ratio\n",
      "mem_fragmentation_bytes\n",
      "rdb_last_save_time\n",
      "rdb_last_bgsave_time_sec\n",
      "rdb_current_bgsave_time_sec\n",
      "rdb_last_cow_size\n",
      "aof_current_size\n",
      "aof_base_size\n",
      "total_net_output_bytes\n",
      "keyspace_misses\n",
      "used_cpu_sys\n",
      "used_cpu_user\n",
      "used_cpu_sys_children\n",
      "used_cpu_user_children\n",
      "db0:keys\n",
      "\n",
      "len = 17\n",
      "cluster1\n",
      "used_memory\n",
      "used_memory_human\n",
      "used_memory_peak\n",
      "used_memory_peak_human\n",
      "used_memory_overhead\n",
      "allocator_allocated\n",
      "allocator_active\n",
      "allocator_resident\n",
      "allocator_frag_bytes\n",
      "allocator_rss_bytes\n",
      "mem_not_counted_for_evict\n",
      "mem_aof_buffer\n",
      "rdb_changes_since_last_save\n",
      "aof_buffer_length\n",
      "instantaneous_ops_per_sec\n",
      "instantaneous_input_kbps\n",
      "instantaneous_output_kbps\n",
      "\n"
     ]
    }
   ],
   "source": [
    "df = clusters(kmeans_df)"
   ]
  },
  {
   "cell_type": "markdown",
   "metadata": {},
   "source": [
    "### Elbow"
   ]
  },
  {
   "cell_type": "code",
   "execution_count": 47,
   "metadata": {},
   "outputs": [],
   "source": [
    "def elbow(data, length):\n",
    "    sse = [] # sum of squre error 오차제곱합\n",
    "    for i in range(1, length):\n",
    "        kmeans = KMeans(n_clusters=i)\n",
    "        kmeans.fit(data)\n",
    "        # SSE 값 저장\n",
    "        sse.append(kmeans.inertia_)\n",
    "    plt.plot(range(1, length), sse, 'bo-')\n",
    "    plt.title(\"elbow method\")\n",
    "    plt.xlabel(\"number of clusters\")\n",
    "    plt.ylabel(\"SSE\")\n",
    "    plt.show()"
   ]
  },
  {
   "cell_type": "code",
   "execution_count": 48,
   "metadata": {},
   "outputs": [
    {
     "data": {
      "image/png": "[encoded data removed]",
      "text/plain": [
       "<Figure size 432x288 with 1 Axes>"
      ]
     },
     "metadata": {
      "needs_background": "light"
     },
     "output_type": "display_data"
    }
   ],
   "source": [
    "# 확 꺽이는 지점을 선택해야 한다. \n",
    "elbow(internalMetrics_fa, 10)"
   ]
  },
  {
   "cell_type": "code",
   "execution_count": null,
   "metadata": {},
   "outputs": [],
   "source": [
    "# def visualize_silhouette_layer(data, param_init='random', param_n_init=10, param_max_iter=300):\n",
    "#     clusters_range = range(2,15)\n",
    "#     results = []\n",
    "\n",
    "#     for i in clusters_range:\n",
    "#         clusterer = KMeans(n_clusters=i, init=param_init, n_init=param_n_init, max_iter=param_max_iter, random_state=0)\n",
    "#         cluster_labels = clusterer.fit_predict(data)\n",
    "#         silhouette_avg = silhouette_score(data, cluster_labels)\n",
    "#         results.append([i, silhouette_avg])\n",
    "\n",
    "#     result = pd.DataFrame(results, columns=[\"n_clusters\", \"silhouette_score\"])\n",
    "#     pivot_km = pd.pivot_table(result, index=\"n_clusters\", values=\"silhouette_score\")\n",
    "\n",
    "#     plt.figure()\n",
    "#     sns.heatmap(pivot_km, annot=True, linewidths=.5, fmt='.3f', cmap=sns.cm._rocket_lut)\n",
    "#     plt.tight_layout()\n",
    "#     plt.show()"
   ]
  }
 ],
 "metadata": {
  "kernelspec": {
   "display_name": "Python 3",
   "language": "python",
   "name": "python3"
  },
  "language_info": {
   "codemirror_mode": {
    "name": "ipython",
    "version": 3
   },
   "file_extension": ".py",
   "mimetype": "text/x-python",
   "name": "python",
   "nbconvert_exporter": "python",
   "pygments_lexer": "ipython3",
   "version": "3.8.5"
  }
 },
 "nbformat": 4,
 "nbformat_minor": 4
}
