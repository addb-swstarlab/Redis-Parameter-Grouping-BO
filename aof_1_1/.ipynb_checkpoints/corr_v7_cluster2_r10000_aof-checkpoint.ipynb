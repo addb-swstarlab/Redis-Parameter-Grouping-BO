{
 "cells": [
  {
   "cell_type": "markdown",
   "metadata": {},
   "source": [
    "# 상관분석\n",
    "\n",
    "* internal_metrics() 이상치를 한번 파악하려고 봤더니 상자그림이 이상하게 그려졌다. 25\n",
    "* knob 이상치 제거할 필요 없다. 랜덤생성했기 때문에 14 (+ 범주형은 10개)\n",
    "\n",
    "1. 데이터 전처리\n",
    "2. 상관분석 함수\n",
    "3. activedefrag 있는 경우\n",
    "4. 전체 knob\n",
    "5. activedefrag 없는 경우\n",
    "6. pointbeir~\n",
    "\n",
    "\n",
    "len = 17\n",
    "cluster0\n",
    "hz\n",
    "lru_clock\n",
    "used_memory_peak\n",
    "used_memory_overhead\n",
    "allocator_allocated\n",
    "allocator_active\n",
    "maxmemory\n",
    "maxmemory_human\n",
    "allocator_frag_bytes\n",
    "rss_overhead_ratio\n",
    "rss_overhead_bytes\n",
    "rdb_last_save_time\n",
    "instantaneous_ops_per_sec\n",
    "instantaneous_input_kbps\n",
    "instantaneous_output_kbps\n",
    "used_cpu_sys\n",
    "used_cpu_user\n",
    "\n",
    "len = 7\n",
    "cluster1\n",
    "used_memory_rss\n",
    "used_memory_rss_human\n",
    "allocator_resident\n",
    "allocator_rss_ratio\n",
    "allocator_rss_bytes\n",
    "mem_fragmentation_ratio\n",
    "mem_fragmentation_bytes"
   ]
  },
  {
   "cell_type": "code",
   "execution_count": 4,
   "metadata": {},
   "outputs": [],
   "source": [
    "import pandas as pd\n",
    "import numpy as np\n",
    "import seaborn as sns\n",
    "import matplotlib.pyplot as plt"
   ]
  },
  {
   "cell_type": "code",
   "execution_count": 5,
   "metadata": {},
   "outputs": [],
   "source": [
    "# internal metrics 분류 결과\n",
    "cluster0 =[ \n",
    "'uptime_in_seconds',\n",
    "'hz',\n",
    "'lru_clock',\n",
    "'used_memory_rss',\n",
    "'used_memory_rss_human',\n",
    "'used_memory_peak_perc',\n",
    "'used_memory_dataset',\n",
    "'used_memory_dataset_perc',\n",
    "'maxmemory',\n",
    "'maxmemory_human',\n",
    "'allocator_frag_ratio',\n",
    "'allocator_rss_ratio',\n",
    "'rss_overhead_ratio',\n",
    "'rss_overhead_bytes',\n",
    "'mem_fragmentation_ratio',\n",
    "'mem_fragmentation_bytes',\n",
    "'rdb_last_save_time',\n",
    "'rdb_last_bgsave_time_sec',\n",
    "'rdb_current_bgsave_time_sec',\n",
    "'rdb_last_cow_size',\n",
    "'aof_current_size',\n",
    "'aof_base_size',\n",
    "'total_net_output_bytes',\n",
    "'keyspace_misses',\n",
    "'used_cpu_sys',\n",
    "'used_cpu_user',\n",
    "'used_cpu_sys_children',\n",
    "'used_cpu_user_children',\n",
    "'db0:keys',\n",
    "]\n",
    "\n",
    "cluster1 = [\n",
    "'used_memory',\n",
    "'used_memory_human',\n",
    "'used_memory_peak',\n",
    "'used_memory_peak_human',\n",
    "'used_memory_overhead',\n",
    "'allocator_allocated',\n",
    "'allocator_active',\n",
    "'allocator_resident',\n",
    "'allocator_frag_bytes',\n",
    "'allocator_rss_bytes',\n",
    "'mem_not_counted_for_evict',\n",
    "'mem_aof_buffer',\n",
    "'rdb_changes_since_last_save',\n",
    "'aof_buffer_length',\n",
    "'instantaneous_ops_per_sec',\n",
    "'instantaneous_input_kbps',\n",
    "'instantaneous_output_kbps',\n",
    "\n",
    "]\n",
    "\n",
    "knob_list = [\n",
    "    \"hash-max-ziplist-entries\", \n",
    "    \"hash-max-ziplist-value\",\n",
    "    \"activerehashing\",  ##yes\n",
    "    \"hz\",\n",
    "    \"dynamic-hz\",\n",
    "    \n",
    "    # appendonly 제외\n",
    "    'appendfsync',\n",
    "    'auto-aof-rewrite-percentage',\n",
    "    'auto-aof-rewrite-min-size',\n",
    "    'no-appendfsync-on-rewrite',\n",
    "    'aof-rewrite-incremental-fsync',\n",
    "    'aof-use-rdb-preamble',\n",
    "    \n",
    "    \"activedefrag\",\n",
    "    \"active-defrag-threshold-lower\",\n",
    "    \"active-defrag-threshold-upper\",\n",
    "    \"active-defrag-cycle-min\",\n",
    "    \"active-defrag-cycle-max\",\n",
    "    \n",
    "    \"maxmemory\",   ##\"volatile-lru\"\n",
    "    \"maxmemory-policy\",\n",
    "    \"maxmemory-samples\",\n",
    "    \n",
    "    \"lazyfree-lazy-eviction\",\n",
    "    \"lazyfree-lazy-expire\",\n",
    "    \"lazyfree-lazy-server-del\"\n",
    "]\n",
    "\n",
    "activedefrag_knobs = [\n",
    "    \"activedefrag\",\n",
    "    \"active-defrag-threshold-lower\",\n",
    "    \"active-defrag-threshold-upper\",\n",
    "    \"active-defrag-cycle-min\",\n",
    "    \"active-defrag-cycle-max\",\n",
    "]"
   ]
  },
  {
   "cell_type": "code",
   "execution_count": 6,
   "metadata": {},
   "outputs": [
    {
     "data": {
      "text/plain": [
       "(1250, 131)"
      ]
     },
     "execution_count": 6,
     "metadata": {},
     "output_type": "execute_result"
    }
   ],
   "source": [
    "# 데이터 불러오기 internal metrics와 knob들의 상관관계분석\n",
    "# internal_csv = pd.read_csv('./data/internal_metrcis0.csv')\n",
    "\n",
    "file_dir = '../data/'\n",
    "file_name = 'internal_metrics_r10000_aof.csv'\n",
    "\n",
    "internal_csv = pd.read_csv(file_dir+file_name)\n",
    "\n",
    "# 1250 개 추출\n",
    "internal_csv = internal_csv.iloc[0:1250,:]\n",
    "internal_csv.shape"
   ]
  },
  {
   "cell_type": "code",
   "execution_count": 7,
   "metadata": {},
   "outputs": [
    {
     "data": {
      "text/plain": [
       "(939, 131)"
      ]
     },
     "execution_count": 7,
     "metadata": {},
     "output_type": "execute_result"
    }
   ],
   "source": [
    "# role == master 인 부분 제외\n",
    "idx_role_null = internal_csv['role'] == 'master'\n",
    "internal_csv = internal_csv[idx_role_null]\n",
    "internal_csv.shape"
   ]
  },
  {
   "cell_type": "code",
   "execution_count": 8,
   "metadata": {},
   "outputs": [
    {
     "data": {
      "text/plain": [
       "(1250, 32)"
      ]
     },
     "execution_count": 8,
     "metadata": {},
     "output_type": "execute_result"
    }
   ],
   "source": [
    "# 데이터 불러오기 knob_list\n",
    "# knobs = pd.read_csv('./data/result_config0.csv')\n",
    "\n",
    "file_dir = '../data/'\n",
    "file_name = 'result_config_r10000_aof.csv'\n",
    "\n",
    "knobs = pd.read_csv(file_dir + file_name)\n",
    "# 1250 개 추출\n",
    "knobs = knobs.iloc[0:1250,:]\n",
    "knobs.shape"
   ]
  },
  {
   "cell_type": "code",
   "execution_count": 9,
   "metadata": {},
   "outputs": [
    {
     "data": {
      "text/plain": [
       "(939, 32)"
      ]
     },
     "execution_count": 9,
     "metadata": {},
     "output_type": "execute_result"
    }
   ],
   "source": [
    "# role == master 인 부분 제외\n",
    "knobs = knobs[idx_role_null]\n",
    "knobs.shape"
   ]
  },
  {
   "cell_type": "code",
   "execution_count": 10,
   "metadata": {},
   "outputs": [],
   "source": [
    "# 컬럼 추출 함수\n",
    "def extract_data(cluster_list, df):\n",
    "    extracted_df = pd.DataFrame()\n",
    "    for elem in cluster_list:\n",
    "        extracted_df[elem] = df[elem]\n",
    "\n",
    "    return extracted_df    "
   ]
  },
  {
   "cell_type": "markdown",
   "metadata": {},
   "source": [
    "## 데이터 전처리"
   ]
  },
  {
   "cell_type": "code",
   "execution_count": 11,
   "metadata": {},
   "outputs": [],
   "source": [
    "# 클러스터 합치기\n",
    "cluster = cluster0+cluster1"
   ]
  },
  {
   "cell_type": "code",
   "execution_count": 12,
   "metadata": {
    "scrolled": true
   },
   "outputs": [],
   "source": [
    "# 클러스터 요소에 해당되는 metrics 25개 추출\n",
    "total_internal_df = extract_data(cluster, internal_csv)"
   ]
  },
  {
   "cell_type": "markdown",
   "metadata": {},
   "source": [
    "### 결측치 확인"
   ]
  },
  {
   "cell_type": "code",
   "execution_count": 13,
   "metadata": {
    "scrolled": true
   },
   "outputs": [
    {
     "name": "stdout",
     "output_type": "stream",
     "text": [
      "<class 'pandas.core.frame.DataFrame'>\n",
      "Int64Index: 939 entries, 0 to 1249\n",
      "Data columns (total 46 columns):\n",
      " #   Column                       Non-Null Count  Dtype  \n",
      "---  ------                       --------------  -----  \n",
      " 0   uptime_in_seconds            939 non-null    int64  \n",
      " 1   hz                           939 non-null    int64  \n",
      " 2   lru_clock                    939 non-null    int64  \n",
      " 3   used_memory_rss              939 non-null    int64  \n",
      " 4   used_memory_rss_human        939 non-null    float64\n",
      " 5   used_memory_peak_perc        939 non-null    float64\n",
      " 6   used_memory_dataset          939 non-null    int64  \n",
      " 7   used_memory_dataset_perc     939 non-null    float64\n",
      " 8   maxmemory                    939 non-null    int64  \n",
      " 9   maxmemory_human              939 non-null    float64\n",
      " 10  allocator_frag_ratio         939 non-null    float64\n",
      " 11  allocator_rss_ratio          939 non-null    float64\n",
      " 12  rss_overhead_ratio           939 non-null    float64\n",
      " 13  rss_overhead_bytes           939 non-null    int64  \n",
      " 14  mem_fragmentation_ratio      939 non-null    float64\n",
      " 15  mem_fragmentation_bytes      939 non-null    int64  \n",
      " 16  rdb_last_save_time           939 non-null    int64  \n",
      " 17  rdb_last_bgsave_time_sec     939 non-null    int64  \n",
      " 18  rdb_current_bgsave_time_sec  939 non-null    int64  \n",
      " 19  rdb_last_cow_size            939 non-null    int64  \n",
      " 20  aof_current_size             939 non-null    int64  \n",
      " 21  aof_base_size                939 non-null    int64  \n",
      " 22  total_net_output_bytes       939 non-null    int64  \n",
      " 23  keyspace_misses              939 non-null    int64  \n",
      " 24  used_cpu_sys                 939 non-null    float64\n",
      " 25  used_cpu_user                939 non-null    float64\n",
      " 26  used_cpu_sys_children        939 non-null    float64\n",
      " 27  used_cpu_user_children       939 non-null    float64\n",
      " 28  db0:keys                     939 non-null    float64\n",
      " 29  used_memory                  939 non-null    int64  \n",
      " 30  used_memory_human            939 non-null    float64\n",
      " 31  used_memory_peak             939 non-null    int64  \n",
      " 32  used_memory_peak_human       939 non-null    float64\n",
      " 33  used_memory_overhead         939 non-null    int64  \n",
      " 34  allocator_allocated          939 non-null    int64  \n",
      " 35  allocator_active             939 non-null    int64  \n",
      " 36  allocator_resident           939 non-null    int64  \n",
      " 37  allocator_frag_bytes         939 non-null    int64  \n",
      " 38  allocator_rss_bytes          939 non-null    int64  \n",
      " 39  mem_not_counted_for_evict    939 non-null    int64  \n",
      " 40  mem_aof_buffer               939 non-null    int64  \n",
      " 41  rdb_changes_since_last_save  939 non-null    int64  \n",
      " 42  aof_buffer_length            939 non-null    int64  \n",
      " 43  instantaneous_ops_per_sec    939 non-null    int64  \n",
      " 44  instantaneous_input_kbps     939 non-null    float64\n",
      " 45  instantaneous_output_kbps    939 non-null    float64\n",
      "dtypes: float64(17), int64(29)\n",
      "memory usage: 344.8 KB\n"
     ]
    }
   ],
   "source": [
    "# internal_csv 결측치 확인 \n",
    "total_internal_df.info()"
   ]
  },
  {
   "cell_type": "code",
   "execution_count": 14,
   "metadata": {
    "scrolled": true
   },
   "outputs": [],
   "source": [
    "# # # throughput 결측치 제거\n",
    "# total_internal_df=total_internal_df.dropna()"
   ]
  },
  {
   "cell_type": "code",
   "execution_count": 15,
   "metadata": {},
   "outputs": [],
   "source": [
    "# maxmemory 처리 knob\n",
    "knobs['maxmemory'] = knobs['maxmemory'].str.strip('mb')  # 단위 자르기\n",
    "knobs['maxmemory'] = pd.to_numeric(knobs['maxmemory'])  # 숫자형으로 바꾸기\n",
    "\n",
    "# auto-aof-rewrite-min-size knob 단위(mb) 처리\n",
    "knobs['auto-aof-rewrite-min-size']  = knobs['auto-aof-rewrite-min-size'].str.strip('mb')\n",
    "knobs['auto-aof-rewrite-min-size'] = pd.to_numeric(knobs['auto-aof-rewrite-min-size'])"
   ]
  },
  {
   "cell_type": "markdown",
   "metadata": {},
   "source": [
    "### activedefrag 처리\n",
    "* subTotal_knobs_Active : 약 1300개 이며 activedefrag가 있는 경우 \n",
    "* subTotal_knobs_NoActive: 약 1300개 이며 activedefrag가 nan값으로 제거한 경우\n",
    "* subTotal_knobs_T : 2500개 이며 activedefrag 상관없이 전체 데이터\n",
    "\n",
    "\n",
    "* total_internal_Active : 약 1300개 이며 activedefrag가 있는 경우 \n",
    "* total_internal_NoActive: 약 1300개 이며 activedefrag가 nan값으로 제거한 경우\n",
    "* total_internal_T : 2500개 이며 activedefrag 상관없이 전체 데이터"
   ]
  },
  {
   "cell_type": "code",
   "execution_count": 16,
   "metadata": {},
   "outputs": [],
   "source": [
    "# knob_list 만 추출\n",
    "subTotal_knobs = extract_data(knob_list, knobs)"
   ]
  },
  {
   "cell_type": "code",
   "execution_count": 17,
   "metadata": {},
   "outputs": [],
   "source": [
    "#activedefrag knobs 분리\n",
    "\n",
    "# activedefrag O 존재\n",
    "subTotal_knobs_Active = subTotal_knobs.dropna()\n",
    "Active_index = list(subTotal_knobs_Active.index)  # 인덱스\n",
    "\n",
    "# # activedefrag X 존재하지 않는 나머지 반\n",
    "subTotal_knobs_NoActive = subTotal_knobs.loc[subTotal_knobs['activedefrag'].isna()].dropna(axis=1)\n",
    "NoActive_index = list(subTotal_knobs_NoActive.index)  # 인덱스\n",
    "\n",
    "# activedefrag O and X 전체 \n",
    "subTotal_knobs_T = subTotal_knobs.dropna(axis=1)\n",
    "total_index = list(subTotal_knobs_T.index)   # 인덱스"
   ]
  },
  {
   "cell_type": "code",
   "execution_count": 18,
   "metadata": {},
   "outputs": [],
   "source": [
    "# knobs에서 타입별로 분리 (수치, 불리언, 불리언아닌 문자)\n",
    "\n",
    "def varType(subTotal_knobs):\n",
    "    object_var = []\n",
    "    numerical_var = []  # 문자, 숫자 타입\n",
    "    \n",
    "    for idx in subTotal_knobs.dtypes.index:\n",
    "        if subTotal_knobs.dtypes[idx] == 'O':  # 문자일 경우\n",
    "            object_var.append(idx)\n",
    "        else: \n",
    "            numerical_var.append(idx)  # 숫자일 경우\n",
    "\n",
    "    boolean_var = []\n",
    "    booleanNo_var = []  # 2개, 2개이상\n",
    "\n",
    "    for col in object_var:\n",
    "        col_count = len(subTotal_knobs[col].unique())\n",
    "\n",
    "        if col_count == 2:  # 2개일 경우\n",
    "            boolean_var.append(col)\n",
    "        elif col_count > 2:  # 2개 이상일 경우\n",
    "            booleanNo_var.append(col)\n",
    "    \n",
    "    return numerical_var, boolean_var, booleanNo_var\n",
    "\n",
    "# 수치, 불리언, 불리언아닌것 (전체)\n",
    "numerical_var, boolean_var, NobooleanNo_var = varType(subTotal_knobs_T)\n",
    "\n",
    "# 수치, 불리언, 불리언아닌것 (activedefrag)\n",
    "numericalActive_var, booleanActive_var, NobooleanNoActive_var = varType(subTotal_knobs_Active)\n",
    "\n",
    "# 수치, 불리언, 불리언아닌것 (activedefrag 없는것)\n",
    "numericalNoActive_var, booleanNoActive_var, NobooleanNoActive_var = varType(subTotal_knobs_NoActive)\n"
   ]
  },
  {
   "cell_type": "code",
   "execution_count": 19,
   "metadata": {},
   "outputs": [],
   "source": [
    "# internal에서 분리 \n",
    "\n",
    "# activedefrag O\n",
    "total_internal_Active = total_internal_df.loc[Active_index]\n",
    "\n",
    "# activedefrag X\n",
    "total_internal_NoActive = total_internal_df.loc[NoActive_index]\n",
    "\n",
    "# activedefrag O and X\n",
    "total_internal_T = total_internal_df.loc[total_index]"
   ]
  },
  {
   "cell_type": "markdown",
   "metadata": {},
   "source": [
    "---"
   ]
  },
  {
   "cell_type": "markdown",
   "metadata": {},
   "source": [
    "## 상관분석 함수"
   ]
  },
  {
   "cell_type": "code",
   "execution_count": 20,
   "metadata": {},
   "outputs": [],
   "source": [
    "def get_outlier(df=None, column=None, weight=1.5):\n",
    "    \n",
    "    # target 값과 상관관계가 높은 열을 우선적으로 진행\n",
    "    quantile_25 = np.percentile(df[column].values, 25)\n",
    "    quantile_75 = np.percentile(df[column].values, 75)\n",
    "\n",
    "    IQR = quantile_75 - quantile_25\n",
    "    IQR_weight = IQR*weight\n",
    "\n",
    "    lowest = quantile_25 - IQR_weight\n",
    "    highest = quantile_75 + IQR_weight\n",
    "\n",
    "    outlier_idx = df[column][ (df[column] < lowest) | (df[column] > highest) ].index\n",
    "    return outlier_idx"
   ]
  },
  {
   "cell_type": "code",
   "execution_count": 21,
   "metadata": {},
   "outputs": [],
   "source": [
    "from scipy.stats import pearsonr\n",
    "from scipy.stats import spearmanr\n",
    "from scipy.stats import kendalltau\n",
    "\n",
    "\n",
    "# knob하나 internal 여러개 상관계수 구하기\n",
    "\n",
    "# pearson\n",
    "## 모수 검정\n",
    "def cal_pearsonr(knobs, internal_df):\n",
    "    df = pd.DataFrame(columns = ['corr', 'p-value'])\n",
    "    for internal in internal_df:\n",
    "        result = pearsonr(knobs, internal_df[internal])\n",
    "        df.loc[internal] = [result[0], result[1]]\n",
    "    return df\n",
    "\n",
    "# kendall\n",
    "## 변수값 대신 순위로 바꿔서 이용, 비모수 검정\n",
    "## 샘플사이저 적거나, 데이터 동률이 많을 때 유용\n",
    "def cal_kendalltau(knobs, internal_df):\n",
    "    df = pd.DataFrame(columns = ['corr', 'p-value'])\n",
    "    for internal in internal_df:\n",
    "        result = kendalltau(knobs, internal_df[internal])\n",
    "        df.loc[internal] = [result[0], result[1]]\n",
    "    return df\n",
    "\n",
    "# 스피어만\n",
    "## 변수값 대신 순위로 바꿔서 이용, 비모수 검정\n",
    "## 데이터 내 편차와 에러에 만감하며, 일반적으로 켄달보다 높은 값을 가진다.\n",
    "def cal_spearmanr(knobs, internal_df):\n",
    "    df = pd.DataFrame(columns = ['corr', 'p-value'])\n",
    "    for internal in internal_df:\n",
    "        result = spearmanr(knobs, internal_df[internal])\n",
    "        df.loc[internal] = [result[0], result[1]]\n",
    "    return df\n",
    "\n",
    "\n",
    "# knob하나 internal 여러개 상관계수 구하기 이상치 제거 버전\n",
    "# pearson\n",
    "## 모수 검정\n",
    "def cal_pearsonr_outlier(knobs, internal_df):\n",
    "\n",
    "    for internal in internal_df:\n",
    "        outlier_idx = get_outlier(df=internal_df, column=internal, weight=1.5)  # 이상치 인덱스\n",
    "        \n",
    "        internal_df_no_outlier = internal_df[internal].drop(outlier_idx, axis=0)\n",
    "        knobs_no_outlier = knobs.drop(outlier_idx, axis=0)\n",
    "\n",
    "        result = pearsonr(knobs_no_outlier, internal_df_no_outlier)\n",
    "        if result[1] <= 0.05:\n",
    "            print(internal)\n",
    "            print(result[0])\n",
    "\n",
    "# kendall\n",
    "## 변수값 대신 순위로 바꿔서 이용, 비모수 검정\n",
    "## 샘플사이저 적거나, 데이터 동률이 많을 때 유용\n",
    "def cal_kendalltau_outlier(knobs, internal_df):\n",
    "\n",
    "    for internal in internal_df:\n",
    "        outlier_idx = get_outlier(df=internal_df, column=internal, weight=1.5)  # 이상치 인덱스\n",
    "        \n",
    "        internal_df_no_outlier = internal_df[internal].drop(outlier_idx, axis=0)\n",
    "        knobs_no_outlier = knobs.drop(outlier_idx, axis=0)\n",
    "\n",
    "        result = kendalltau(knobs_no_outlier, internal_df_no_outlier)\n",
    "        if result[1] <= 0.05:\n",
    "            print(internal)\n",
    "            print(result[0])\n",
    "\n",
    "    \n",
    "# 스피어만\n",
    "## 변수값 대신 순위로 바꿔서 이용, 비모수 검정\n",
    "## 데이터 내 편차와 에러에 만감하며, 일반적으로 켄달보다 높은 값을 가진다.\n",
    "def cal_spearmanr_outlier(knobs, internal_df):\n",
    "\n",
    "    for internal in internal_df:\n",
    "        outlier_idx = get_outlier(df=internal_df, column=internal, weight=1.5)  # 이상치 인덱스\n",
    "        \n",
    "        internal_df_no_outlier = internal_df[internal].drop(outlier_idx, axis=0)\n",
    "        knobs_no_outlier = knobs.drop(outlier_idx, axis=0)\n",
    "\n",
    "        result = spearmanr(knobs_no_outlier, internal_df_no_outlier)\n",
    "        if result[1] <= 0.05:\n",
    "            print(internal)\n",
    "            print(result[0])\n",
    "\n"
   ]
  },
  {
   "cell_type": "code",
   "execution_count": 22,
   "metadata": {},
   "outputs": [],
   "source": [
    "# knob 하나별로 3가지 상관분석 수행\n",
    "def extract_pvalue(knobs, internal_df):\n",
    "    print('pearson')\n",
    "    df = cal_pearsonr(knobs, internal_df)\n",
    "    is_pvalue = df['p-value'] <= 0.05\n",
    "    print(df[is_pvalue])\n",
    "    print()\n",
    "    \n",
    "    print('kendalltau')\n",
    "    df = cal_kendalltau(knobs, internal_df)\n",
    "    is_pvalue = df['p-value'] <= 0.05\n",
    "    print(df[is_pvalue])\n",
    "    print()\n",
    "    \n",
    "    print('spearman')\n",
    "    df = cal_spearmanr(knobs, internal_df)\n",
    "    is_pvalue = df['p-value'] <= 0.05\n",
    "    print(df[is_pvalue])\n",
    "    print()\n",
    "\n",
    "def extract_pvalue_outlier(knobs, internal_df):\n",
    "    print('pearson')\n",
    "    cal_pearsonr_outlier(knobs, internal_df)\n",
    "    print()\n",
    "    \n",
    "    print('kendalltau')\n",
    "    cal_kendalltau_outlier(knobs, internal_df)\n",
    "    print()\n",
    "    \n",
    "    print('spearman')\n",
    "    cal_spearmanr_outlier(knobs, internal_df)\n",
    "    print()\n",
    "    \n",
    "\n",
    "# knob 리스트 각각 별로 extract_pvalue 수행\n",
    "def extract_pvalue_knob(knob_list, subTotal_knobs, total_internal):\n",
    "    for knob in knob_list:\n",
    "        print('###{}###'.format(knob))\n",
    "        extract_pvalue(subTotal_knobs[knob], total_internal)\n",
    "        \n",
    "        \n",
    "# knob 리스트 각각 별로 extract_pvalue 수행 이상치 제거 \n",
    "def extract_pvalue_knob_outlier(knob_list, subTotal_knobs, total_internal):\n",
    "    for knob in knob_list:\n",
    "        print('###{}###'.format(knob))\n",
    "        extract_pvalue_outlier(subTotal_knobs[knob], total_internal)"
   ]
  },
  {
   "cell_type": "markdown",
   "metadata": {},
   "source": [
    "---"
   ]
  },
  {
   "cell_type": "markdown",
   "metadata": {},
   "source": [
    "## activedefrag 상관계수\n",
    "* subTotal_knobs_Active\n",
    "* total_internal_Active\n",
    "\n",
    "### numericalActive_var :\n",
    "* active-defrag-threshold-lower \n",
    "* active-defrag-threshold-upper \n",
    "* active-defrag-cycle-min\n",
    "* active-defrag-cycle-max"
   ]
  },
  {
   "cell_type": "code",
   "execution_count": 23,
   "metadata": {
    "scrolled": true
   },
   "outputs": [
    {
     "data": {
      "text/plain": [
       "['hash-max-ziplist-entries',\n",
       " 'hash-max-ziplist-value',\n",
       " 'hz',\n",
       " 'auto-aof-rewrite-percentage',\n",
       " 'auto-aof-rewrite-min-size',\n",
       " 'active-defrag-threshold-lower',\n",
       " 'active-defrag-threshold-upper',\n",
       " 'active-defrag-cycle-min',\n",
       " 'active-defrag-cycle-max',\n",
       " 'maxmemory',\n",
       " 'maxmemory-samples']"
      ]
     },
     "execution_count": 23,
     "metadata": {},
     "output_type": "execute_result"
    }
   ],
   "source": [
    "numericalActive_var"
   ]
  },
  {
   "cell_type": "code",
   "execution_count": 24,
   "metadata": {},
   "outputs": [
    {
     "data": {
      "text/plain": [
       "['active-defrag-threshold-lower',\n",
       " 'active-defrag-threshold-upper',\n",
       " 'active-defrag-cycle-min',\n",
       " 'active-defrag-cycle-max']"
      ]
     },
     "execution_count": 24,
     "metadata": {},
     "output_type": "execute_result"
    }
   ],
   "source": [
    "numericalActive_var\n",
    "numericalActive_var_new = numericalActive_var[5:9]\n",
    "numericalActive_var_new"
   ]
  },
  {
   "cell_type": "code",
   "execution_count": 25,
   "metadata": {
    "scrolled": false
   },
   "outputs": [
    {
     "name": "stdout",
     "output_type": "stream",
     "text": [
      "###active-defrag-threshold-lower###\n",
      "pearson\n",
      "Empty DataFrame\n",
      "Columns: [corr, p-value]\n",
      "Index: []\n",
      "\n",
      "kendalltau\n",
      "                      corr   p-value\n",
      "aof_current_size  0.083036  0.036502\n",
      "aof_base_size     0.086435  0.029581\n",
      "\n",
      "spearman\n",
      "                      corr   p-value\n",
      "aof_current_size  0.100167  0.036330\n",
      "aof_base_size     0.104303  0.029249\n",
      "\n",
      "###active-defrag-threshold-upper###\n",
      "pearson\n"
     ]
    },
    {
     "name": "stderr",
     "output_type": "stream",
     "text": [
      "/Users/joseong-un/opt/anaconda3/lib/python3.8/site-packages/scipy/stats/stats.py:4023: PearsonRConstantInputWarning: An input array is constant; the correlation coefficient is not defined.\n",
      "  warnings.warn(PearsonRConstantInputWarning())\n",
      "/Users/joseong-un/opt/anaconda3/lib/python3.8/site-packages/scipy/stats/stats.py:4484: SpearmanRConstantInputWarning: An input array is constant; the correlation coefficient is not defined.\n",
      "  warnings.warn(SpearmanRConstantInputWarning())\n",
      "/Users/joseong-un/opt/anaconda3/lib/python3.8/site-packages/scipy/stats/stats.py:4023: PearsonRConstantInputWarning: An input array is constant; the correlation coefficient is not defined.\n",
      "  warnings.warn(PearsonRConstantInputWarning())\n"
     ]
    },
    {
     "name": "stdout",
     "output_type": "stream",
     "text": [
      "                             corr   p-value\n",
      "mem_fragmentation_ratio -0.095785  0.045370\n",
      "mem_fragmentation_bytes -0.094051  0.049436\n",
      "\n",
      "kendalltau\n",
      "                             corr   p-value\n",
      "mem_fragmentation_ratio -0.066212  0.046048\n",
      "mem_fragmentation_bytes -0.067973  0.037940\n",
      "\n",
      "spearman\n",
      "                             corr   p-value\n",
      "mem_fragmentation_ratio -0.098569  0.039432\n",
      "mem_fragmentation_bytes -0.101676  0.033594\n",
      "\n",
      "###active-defrag-cycle-min###\n",
      "pearson\n",
      "                          corr   p-value\n",
      "used_memory          -0.098481  0.039608\n",
      "used_memory_human    -0.098930  0.038713\n",
      "used_memory_overhead -0.095025  0.047116"
     ]
    },
    {
     "name": "stderr",
     "output_type": "stream",
     "text": [
      "/Users/joseong-un/opt/anaconda3/lib/python3.8/site-packages/scipy/stats/stats.py:4484: SpearmanRConstantInputWarning: An input array is constant; the correlation coefficient is not defined.\n",
      "  warnings.warn(SpearmanRConstantInputWarning())\n",
      "/Users/joseong-un/opt/anaconda3/lib/python3.8/site-packages/scipy/stats/stats.py:4023: PearsonRConstantInputWarning: An input array is constant; the correlation coefficient is not defined.\n",
      "  warnings.warn(PearsonRConstantInputWarning())\n"
     ]
    },
    {
     "name": "stdout",
     "output_type": "stream",
     "text": [
      "\n",
      "\n",
      "kendalltau\n",
      "                       corr   p-value\n",
      "used_cpu_sys       0.065296  0.044772\n",
      "used_memory_human -0.082190  0.038647\n",
      "\n",
      "spearman\n",
      "                       corr   p-value\n",
      "used_cpu_sys       0.096474  0.043835\n",
      "used_memory_human -0.099136  0.038306\n",
      "\n",
      "###active-defrag-cycle-max###\n",
      "pearson\n"
     ]
    },
    {
     "name": "stderr",
     "output_type": "stream",
     "text": [
      "/Users/joseong-un/opt/anaconda3/lib/python3.8/site-packages/scipy/stats/stats.py:4484: SpearmanRConstantInputWarning: An input array is constant; the correlation coefficient is not defined.\n",
      "  warnings.warn(SpearmanRConstantInputWarning())\n",
      "/Users/joseong-un/opt/anaconda3/lib/python3.8/site-packages/scipy/stats/stats.py:4023: PearsonRConstantInputWarning: An input array is constant; the correlation coefficient is not defined.\n",
      "  warnings.warn(PearsonRConstantInputWarning())\n"
     ]
    },
    {
     "name": "stdout",
     "output_type": "stream",
     "text": [
      "Empty DataFrame\n",
      "Columns: [corr, p-value]\n",
      "Index: []\n",
      "\n",
      "kendalltau\n",
      "                             corr   p-value\n",
      "used_memory_rss          0.068256  0.039371\n",
      "used_memory_rss_human    0.067975  0.043574\n",
      "mem_fragmentation_ratio  0.076604  0.021923\n",
      "mem_fragmentation_bytes  0.068471  0.037904\n",
      "\n",
      "spearman\n",
      "                             corr   p-value\n",
      "used_memory_rss          0.098784  0.039002\n",
      "used_memory_rss_human    0.096807  0.043107\n",
      "mem_fragmentation_ratio  0.109760  0.021742\n",
      "mem_fragmentation_bytes  0.099536  0.037529\n",
      "\n"
     ]
    },
    {
     "name": "stderr",
     "output_type": "stream",
     "text": [
      "/Users/joseong-un/opt/anaconda3/lib/python3.8/site-packages/scipy/stats/stats.py:4484: SpearmanRConstantInputWarning: An input array is constant; the correlation coefficient is not defined.\n",
      "  warnings.warn(SpearmanRConstantInputWarning())\n"
     ]
    }
   ],
   "source": [
    "extract_pvalue_knob(numericalActive_var_new, subTotal_knobs_Active,total_internal_Active)"
   ]
  },
  {
   "cell_type": "code",
   "execution_count": 26,
   "metadata": {},
   "outputs": [
    {
     "name": "stderr",
     "output_type": "stream",
     "text": [
      "/Users/joseong-un/opt/anaconda3/lib/python3.8/site-packages/scipy/stats/stats.py:4023: PearsonRConstantInputWarning: An input array is constant; the correlation coefficient is not defined.\n",
      "  warnings.warn(PearsonRConstantInputWarning())\n"
     ]
    }
   ],
   "source": [
    "# cluster 별 knob들의 상관계수 합  \n",
    "active_result = pd.DataFrame(index = numericalActive_var_new)\n",
    "\n",
    "cluster_list = [cluster0, cluster1]\n",
    "\n",
    "for idx, cluster in enumerate(cluster_list):\n",
    "    cluster_val = []\n",
    "    for knob in numericalActive_var_new:\n",
    "        df = cal_pearsonr(subTotal_knobs_Active[knob], total_internal_Active.loc[:,cluster])\n",
    "        cluster_val.append(df['corr'].abs().mean())\n",
    "\n",
    "    active_result['cluster'+str(idx)] = cluster_val"
   ]
  },
  {
   "cell_type": "code",
   "execution_count": 27,
   "metadata": {},
   "outputs": [
    {
     "data": {
      "text/html": [
       "<div>\n",
       "<style scoped>\n",
       "    .dataframe tbody tr th:only-of-type {\n",
       "        vertical-align: middle;\n",
       "    }\n",
       "\n",
       "    .dataframe tbody tr th {\n",
       "        vertical-align: top;\n",
       "    }\n",
       "\n",
       "    .dataframe thead th {\n",
       "        text-align: right;\n",
       "    }\n",
       "</style>\n",
       "<table border=\"1\" class=\"dataframe\">\n",
       "  <thead>\n",
       "    <tr style=\"text-align: right;\">\n",
       "      <th></th>\n",
       "      <th>cluster0</th>\n",
       "      <th>cluster1</th>\n",
       "    </tr>\n",
       "  </thead>\n",
       "  <tbody>\n",
       "    <tr>\n",
       "      <th>active-defrag-threshold-lower</th>\n",
       "      <td>0.029099</td>\n",
       "      <td>0.041818</td>\n",
       "    </tr>\n",
       "    <tr>\n",
       "      <th>active-defrag-threshold-upper</th>\n",
       "      <td>0.040849</td>\n",
       "      <td>0.020743</td>\n",
       "    </tr>\n",
       "    <tr>\n",
       "      <th>active-defrag-cycle-min</th>\n",
       "      <td>0.041359</td>\n",
       "      <td>0.047946</td>\n",
       "    </tr>\n",
       "    <tr>\n",
       "      <th>active-defrag-cycle-max</th>\n",
       "      <td>0.044767</td>\n",
       "      <td>0.038307</td>\n",
       "    </tr>\n",
       "  </tbody>\n",
       "</table>\n",
       "</div>"
      ],
      "text/plain": [
       "                               cluster0  cluster1\n",
       "active-defrag-threshold-lower  0.029099  0.041818\n",
       "active-defrag-threshold-upper  0.040849  0.020743\n",
       "active-defrag-cycle-min        0.041359  0.047946\n",
       "active-defrag-cycle-max        0.044767  0.038307"
      ]
     },
     "execution_count": 27,
     "metadata": {},
     "output_type": "execute_result"
    }
   ],
   "source": [
    "active_result"
   ]
  },
  {
   "cell_type": "code",
   "execution_count": 28,
   "metadata": {},
   "outputs": [],
   "source": [
    "# knob이 어떤 클러스터에 속하는지 확인 가능 함수\n",
    "def get_cluster(df):\n",
    "    cluster_list = df.columns.tolist()  # [cluster0, cluster1]\n",
    "    for knob_index in list(df.index):\n",
    "        max_index = np.argmax(df.loc[knob_index,:].values)\n",
    "        print(knob_index+' : ', end='')\n",
    "        print(cluster_list[max_index])    "
   ]
  },
  {
   "cell_type": "code",
   "execution_count": 30,
   "metadata": {
    "scrolled": false
   },
   "outputs": [
    {
     "name": "stdout",
     "output_type": "stream",
     "text": [
      "active-defrag-threshold-lower : cluster1\n",
      "active-defrag-threshold-upper : cluster0\n",
      "active-defrag-cycle-min : cluster1\n",
      "active-defrag-cycle-max : cluster0\n"
     ]
    }
   ],
   "source": [
    "get_cluster(active_result)"
   ]
  },
  {
   "cell_type": "markdown",
   "metadata": {},
   "source": [
    "### 이상치 제거 후 상관계수"
   ]
  },
  {
   "cell_type": "code",
   "execution_count": 31,
   "metadata": {
    "scrolled": false
   },
   "outputs": [],
   "source": [
    "# extract_pvalue_knob_outlier(numericalActive_var_new, subTotal_knobs_Active,total_internal_Active)"
   ]
  },
  {
   "cell_type": "markdown",
   "metadata": {},
   "source": [
    "---"
   ]
  },
  {
   "cell_type": "markdown",
   "metadata": {},
   "source": [
    "## 전체 knob\n",
    "* subTotal_knobs_T\n",
    "* total_internal_T\n",
    "\n",
    "### numerical_var"
   ]
  },
  {
   "cell_type": "code",
   "execution_count": 32,
   "metadata": {},
   "outputs": [
    {
     "data": {
      "text/plain": [
       "['hash-max-ziplist-entries',\n",
       " 'hash-max-ziplist-value',\n",
       " 'hz',\n",
       " 'auto-aof-rewrite-percentage',\n",
       " 'auto-aof-rewrite-min-size',\n",
       " 'maxmemory',\n",
       " 'maxmemory-samples']"
      ]
     },
     "execution_count": 32,
     "metadata": {},
     "output_type": "execute_result"
    }
   ],
   "source": [
    "numerical_var"
   ]
  },
  {
   "cell_type": "code",
   "execution_count": 33,
   "metadata": {
    "scrolled": false
   },
   "outputs": [
    {
     "name": "stdout",
     "output_type": "stream",
     "text": [
      "###hash-max-ziplist-entries###\n",
      "pearson\n",
      "Empty DataFrame\n",
      "Columns: [corr, p-value]\n",
      "Index: []\n",
      "\n",
      "kendalltau\n",
      "Empty DataFrame\n",
      "Columns: [corr, p-value]\n",
      "Index: []\n",
      "\n",
      "spearman\n",
      "Empty DataFrame\n",
      "Columns: [corr, p-value]\n",
      "Index: []\n",
      "\n",
      "###hash-max-ziplist-value###\n",
      "pearson\n",
      "                          corr   p-value\n",
      "allocator_frag_bytes  0.074426  0.022562\n",
      "\n",
      "kendalltau\n",
      "                               corr   p-value\n",
      "used_memory_dataset_perc   0.059014  0.023687\n",
      "used_memory               -0.057603  0.025756\n",
      "used_memory_overhead      -0.059847  0.021787\n",
      "allocator_allocated        0.049974  0.023795\n",
      "allocator_active           0.054132  0.034519\n",
      "mem_not_counted_for_evict -0.053412  0.042747\n",
      "mem_aof_buffer            -0.053412  0.042747\n",
      "\n",
      "spearman\n",
      "                               corr   p-value\n",
      "used_memory_dataset_perc   0.073898  0.023540\n",
      "used_memory               -0.072646  0.026009\n",
      "used_memory_overhead      -0.074944  0.021636\n",
      "allocator_allocated        0.073053  0.025184\n",
      "allocator_active           0.069431  0.033394\n",
      "mem_not_counted_for_evict -0.066292  0.042262\n",
      "mem_aof_buffer            -0.066292  0.042262\n",
      "\n",
      "###hz###\n",
      "pearson\n",
      "                                 corr       p-value\n",
      "uptime_in_seconds            0.080299  1.384310e-02\n",
      "hz                           1.000000  0.000000e+00\n",
      "allocator_frag_ratio        -0.087056  7.603287e-03\n",
      "rdb_current_bgsave_time_sec -0.143567  1.003698e-05\n",
      "used_cpu_sys                 0.086296  8.150072e-03\n",
      "used_cpu_user                0.140416  1.571283e-05\n",
      "used_cpu_sys_children        0.077544  1.747329e-02\n",
      "allocator_active            -0.078807  1.571643e-02\n",
      "allocator_frag_bytes        -0.266319  1.038287e-16\n",
      "rdb_changes_since_last_save -0.078133  1.663334e-02\n",
      "instantaneous_ops_per_sec    0.198204  8.990556e-10\n",
      "instantaneous_input_kbps     0.198215  8.971630e-10\n",
      "instantaneous_output_kbps    0.198220  8.962401e-10\n",
      "\n",
      "kendalltau\n",
      "                                 corr       p-value\n",
      "uptime_in_seconds            0.059747  1.545218e-02\n",
      "hz                           1.000000  0.000000e+00\n",
      "used_memory_peak_perc        0.080751  2.144749e-03\n",
      "used_memory_dataset         -0.085247  1.552360e-03\n",
      "used_memory_dataset_perc    -0.115613  1.149315e-05\n",
      "maxmemory_human             -0.050650  2.503657e-02\n",
      "mem_fragmentation_ratio     -0.059464  8.231977e-03\n",
      "rdb_last_bgsave_time_sec     0.058984  2.834898e-02\n",
      "rdb_current_bgsave_time_sec -0.124747  3.746205e-06\n",
      "rdb_last_cow_size            0.082378  9.265878e-04\n",
      "used_cpu_sys                 0.093290  2.355168e-05\n",
      "used_cpu_user                0.145203  4.668778e-11\n",
      "used_cpu_sys_children        0.063749  1.058096e-02\n",
      "used_cpu_user_children       0.055339  2.628115e-02\n",
      "used_memory                  0.100085  1.254288e-04\n",
      "used_memory_human            0.102696  1.370519e-04\n",
      "used_memory_peak             0.081387  7.751349e-04\n",
      "used_memory_overhead         0.106517  5.303529e-05\n",
      "allocator_active            -0.122348  2.248607e-06\n",
      "allocator_resident          -0.054611  1.649667e-02\n",
      "allocator_frag_bytes        -0.201942  1.548645e-19\n",
      "mem_not_counted_for_evict    0.059943  2.438615e-02\n",
      "mem_aof_buffer               0.059943  2.438615e-02\n",
      "rdb_changes_since_last_save -0.052309  3.496069e-02\n",
      "instantaneous_ops_per_sec    0.120466  5.306690e-08\n",
      "instantaneous_input_kbps     0.120315  5.303644e-08\n",
      "instantaneous_output_kbps    0.120947  4.947132e-08\n",
      "\n",
      "spearman\n",
      "                                 corr       p-value\n",
      "uptime_in_seconds            0.078697  1.586255e-02\n",
      "hz                           1.000000  0.000000e+00\n",
      "used_memory_peak_perc        0.100577  2.030701e-03\n",
      "used_memory_dataset         -0.103465  1.499504e-03\n",
      "used_memory_dataset_perc    -0.142577  1.156587e-05\n",
      "maxmemory_human             -0.072914  2.546332e-02\n",
      "mem_fragmentation_ratio     -0.084265  9.786001e-03\n",
      "rdb_last_bgsave_time_sec     0.071014  2.955885e-02\n",
      "rdb_current_bgsave_time_sec -0.150750  3.486973e-06\n",
      "rdb_last_cow_size            0.108895  8.306205e-04\n",
      "used_cpu_sys                 0.136573  2.679490e-05\n",
      "used_cpu_user                0.213583  3.777258e-11\n",
      "used_cpu_sys_children        0.083392  1.057513e-02\n",
      "used_cpu_user_children       0.072733  2.583073e-02\n",
      "used_memory                  0.124921  1.240889e-04\n",
      "used_memory_human            0.125025  1.224645e-04\n",
      "used_memory_peak             0.109514  7.751818e-04\n",
      "used_memory_overhead         0.131305  5.443695e-05\n",
      "allocator_active            -0.151658  3.039804e-06\n",
      "allocator_resident          -0.077436  1.763011e-02\n",
      "allocator_frag_bytes        -0.291333  7.949553e-20\n",
      "mem_not_counted_for_evict    0.073659  2.399558e-02\n",
      "mem_aof_buffer               0.073659  2.399558e-02\n",
      "rdb_changes_since_last_save -0.068644  3.545424e-02\n",
      "instantaneous_ops_per_sec    0.138028  2.192870e-05\n",
      "instantaneous_input_kbps     0.138051  2.185689e-05\n",
      "instantaneous_output_kbps    0.138539  2.042660e-05\n",
      "\n",
      "###auto-aof-rewrite-percentage###\n",
      "pearson\n",
      "                             corr   p-value\n",
      "used_memory_rss         -0.094307  0.003822\n",
      "used_memory_rss_human   -0.094296  0.003826\n",
      "rss_overhead_ratio      -0.091386  0.005071\n",
      "rss_overhead_bytes      -0.091281  0.005122\n",
      "mem_fragmentation_ratio -0.087901  0.007035\n",
      "mem_fragmentation_bytes -0.092782  0.004434\n",
      "total_net_output_bytes  -0.064562  0.047950\n",
      "\n",
      "kendalltau\n",
      "                            corr   p-value\n",
      "total_net_output_bytes -0.059181  0.026963\n",
      "\n",
      "spearman\n",
      "                            corr   p-value\n",
      "total_net_output_bytes -0.072266  0.026801\n",
      "\n",
      "###auto-aof-rewrite-min-size###\n",
      "pearson\n",
      "                             corr   p-value\n",
      "used_memory_rss          0.079558  0.014747\n",
      "used_memory_rss_human    0.079406  0.014939\n",
      "rss_overhead_ratio       0.084114  0.009919\n",
      "rss_overhead_bytes       0.084414  0.009657\n",
      "mem_fragmentation_ratio  0.074295  0.022801\n",
      "mem_fragmentation_bytes  0.078665  0.015906\n",
      "\n",
      "kendalltau\n",
      "                        corr   p-value\n",
      "rss_overhead_bytes  0.045070  0.040397\n",
      "used_cpu_sys        0.048449  0.026527\n",
      "\n",
      "spearman\n",
      "                        corr   p-value\n",
      "rss_overhead_bytes  0.065729  0.044049\n",
      "used_cpu_sys        0.072116  0.027119\n",
      "\n",
      "###maxmemory###\n",
      "pearson\n",
      "                          corr       p-value\n",
      "maxmemory             1.000000  0.000000e+00\n",
      "maxmemory_human      -0.400848  1.482269e-37\n",
      "allocator_frag_ratio -0.064972  4.654820e-02\n",
      "allocator_allocated   0.080487  1.362124e-02\n",
      "allocator_active      0.081307  1.269175e-02\n",
      "allocator_resident    0.069021  3.445376e-02\n",
      "\n",
      "kendalltau\n",
      "                         corr        p-value\n",
      "used_memory_dataset  0.054329   4.628169e-02\n",
      "maxmemory            1.000000   0.000000e+00\n",
      "maxmemory_human      0.771601  2.138760e-249\n",
      "allocator_allocated  0.044655   4.819706e-02\n",
      "allocator_active     0.053217   4.208495e-02\n",
      "\n",
      "spearman\n",
      "                         corr        p-value\n",
      "used_memory_dataset  0.065057   4.626194e-02\n",
      "maxmemory            1.000000   0.000000e+00\n",
      "maxmemory_human      0.673942  2.441398e-125\n",
      "allocator_allocated  0.065309   4.542030e-02\n",
      "allocator_active     0.067095   3.982460e-02\n",
      "\n",
      "###maxmemory-samples###\n",
      "pearson\n",
      "              corr   p-value\n",
      "db0:keys  0.066671  0.041096\n",
      "\n",
      "kendalltau\n",
      "              corr   p-value\n",
      "db0:keys  0.059447  0.041788\n",
      "\n",
      "spearman\n",
      "              corr   p-value\n",
      "db0:keys  0.066466  0.041725\n",
      "\n"
     ]
    }
   ],
   "source": [
    "extract_pvalue_knob(numerical_var, subTotal_knobs_T,total_internal_T)"
   ]
  },
  {
   "cell_type": "code",
   "execution_count": 34,
   "metadata": {},
   "outputs": [
    {
     "data": {
      "text/html": [
       "<div>\n",
       "<style scoped>\n",
       "    .dataframe tbody tr th:only-of-type {\n",
       "        vertical-align: middle;\n",
       "    }\n",
       "\n",
       "    .dataframe tbody tr th {\n",
       "        vertical-align: top;\n",
       "    }\n",
       "\n",
       "    .dataframe thead th {\n",
       "        text-align: right;\n",
       "    }\n",
       "</style>\n",
       "<table border=\"1\" class=\"dataframe\">\n",
       "  <thead>\n",
       "    <tr style=\"text-align: right;\">\n",
       "      <th></th>\n",
       "      <th>uptime_in_seconds</th>\n",
       "      <th>hz</th>\n",
       "      <th>lru_clock</th>\n",
       "      <th>used_memory_rss</th>\n",
       "      <th>used_memory_rss_human</th>\n",
       "      <th>used_memory_peak_perc</th>\n",
       "      <th>used_memory_dataset</th>\n",
       "      <th>used_memory_dataset_perc</th>\n",
       "      <th>maxmemory</th>\n",
       "      <th>maxmemory_human</th>\n",
       "      <th>...</th>\n",
       "      <th>allocator_resident</th>\n",
       "      <th>allocator_frag_bytes</th>\n",
       "      <th>allocator_rss_bytes</th>\n",
       "      <th>mem_not_counted_for_evict</th>\n",
       "      <th>mem_aof_buffer</th>\n",
       "      <th>rdb_changes_since_last_save</th>\n",
       "      <th>aof_buffer_length</th>\n",
       "      <th>instantaneous_ops_per_sec</th>\n",
       "      <th>instantaneous_input_kbps</th>\n",
       "      <th>instantaneous_output_kbps</th>\n",
       "    </tr>\n",
       "  </thead>\n",
       "  <tbody>\n",
       "    <tr>\n",
       "      <th>0</th>\n",
       "      <td>6</td>\n",
       "      <td>6</td>\n",
       "      <td>4246225</td>\n",
       "      <td>4259840</td>\n",
       "      <td>4.06</td>\n",
       "      <td>95.15</td>\n",
       "      <td>383720</td>\n",
       "      <td>59.09</td>\n",
       "      <td>1048576000</td>\n",
       "      <td>1000.00</td>\n",
       "      <td>...</td>\n",
       "      <td>4464640</td>\n",
       "      <td>259432</td>\n",
       "      <td>2977792</td>\n",
       "      <td>156</td>\n",
       "      <td>160</td>\n",
       "      <td>12744</td>\n",
       "      <td>0</td>\n",
       "      <td>7530</td>\n",
       "      <td>408.13</td>\n",
       "      <td>36.77</td>\n",
       "    </tr>\n",
       "    <tr>\n",
       "      <th>1</th>\n",
       "      <td>6</td>\n",
       "      <td>18</td>\n",
       "      <td>4246245</td>\n",
       "      <td>4050944</td>\n",
       "      <td>3.86</td>\n",
       "      <td>95.15</td>\n",
       "      <td>383720</td>\n",
       "      <td>59.08</td>\n",
       "      <td>1887436800</td>\n",
       "      <td>1.76</td>\n",
       "      <td>...</td>\n",
       "      <td>4382720</td>\n",
       "      <td>251608</td>\n",
       "      <td>2936832</td>\n",
       "      <td>220</td>\n",
       "      <td>224</td>\n",
       "      <td>10000</td>\n",
       "      <td>0</td>\n",
       "      <td>16314</td>\n",
       "      <td>884.23</td>\n",
       "      <td>79.67</td>\n",
       "    </tr>\n",
       "    <tr>\n",
       "      <th>2</th>\n",
       "      <td>483</td>\n",
       "      <td>16</td>\n",
       "      <td>4246734</td>\n",
       "      <td>4104192</td>\n",
       "      <td>3.91</td>\n",
       "      <td>95.15</td>\n",
       "      <td>383720</td>\n",
       "      <td>59.08</td>\n",
       "      <td>2621440000</td>\n",
       "      <td>2.44</td>\n",
       "      <td>...</td>\n",
       "      <td>4386816</td>\n",
       "      <td>246752</td>\n",
       "      <td>2940928</td>\n",
       "      <td>220</td>\n",
       "      <td>224</td>\n",
       "      <td>3544</td>\n",
       "      <td>0</td>\n",
       "      <td>14</td>\n",
       "      <td>0.79</td>\n",
       "      <td>0.08</td>\n",
       "    </tr>\n",
       "    <tr>\n",
       "      <th>3</th>\n",
       "      <td>6</td>\n",
       "      <td>2</td>\n",
       "      <td>4246746</td>\n",
       "      <td>4075520</td>\n",
       "      <td>3.89</td>\n",
       "      <td>95.15</td>\n",
       "      <td>383720</td>\n",
       "      <td>59.08</td>\n",
       "      <td>2202009600</td>\n",
       "      <td>2.05</td>\n",
       "      <td>...</td>\n",
       "      <td>4542464</td>\n",
       "      <td>249680</td>\n",
       "      <td>3096576</td>\n",
       "      <td>220</td>\n",
       "      <td>224</td>\n",
       "      <td>10000</td>\n",
       "      <td>0</td>\n",
       "      <td>2495</td>\n",
       "      <td>135.23</td>\n",
       "      <td>12.18</td>\n",
       "    </tr>\n",
       "    <tr>\n",
       "      <th>4</th>\n",
       "      <td>483</td>\n",
       "      <td>7</td>\n",
       "      <td>4247235</td>\n",
       "      <td>3993600</td>\n",
       "      <td>3.81</td>\n",
       "      <td>95.15</td>\n",
       "      <td>383720</td>\n",
       "      <td>59.08</td>\n",
       "      <td>1468006400</td>\n",
       "      <td>1.37</td>\n",
       "      <td>...</td>\n",
       "      <td>4354048</td>\n",
       "      <td>252376</td>\n",
       "      <td>2908160</td>\n",
       "      <td>220</td>\n",
       "      <td>224</td>\n",
       "      <td>3785</td>\n",
       "      <td>0</td>\n",
       "      <td>31</td>\n",
       "      <td>1.71</td>\n",
       "      <td>0.16</td>\n",
       "    </tr>\n",
       "    <tr>\n",
       "      <th>...</th>\n",
       "      <td>...</td>\n",
       "      <td>...</td>\n",
       "      <td>...</td>\n",
       "      <td>...</td>\n",
       "      <td>...</td>\n",
       "      <td>...</td>\n",
       "      <td>...</td>\n",
       "      <td>...</td>\n",
       "      <td>...</td>\n",
       "      <td>...</td>\n",
       "      <td>...</td>\n",
       "      <td>...</td>\n",
       "      <td>...</td>\n",
       "      <td>...</td>\n",
       "      <td>...</td>\n",
       "      <td>...</td>\n",
       "      <td>...</td>\n",
       "      <td>...</td>\n",
       "      <td>...</td>\n",
       "      <td>...</td>\n",
       "      <td>...</td>\n",
       "    </tr>\n",
       "    <tr>\n",
       "      <th>1245</th>\n",
       "      <td>6</td>\n",
       "      <td>26</td>\n",
       "      <td>4509198</td>\n",
       "      <td>4067328</td>\n",
       "      <td>3.88</td>\n",
       "      <td>95.15</td>\n",
       "      <td>383720</td>\n",
       "      <td>59.08</td>\n",
       "      <td>1258291200</td>\n",
       "      <td>1.17</td>\n",
       "      <td>...</td>\n",
       "      <td>4448256</td>\n",
       "      <td>252368</td>\n",
       "      <td>3002368</td>\n",
       "      <td>220</td>\n",
       "      <td>224</td>\n",
       "      <td>10000</td>\n",
       "      <td>0</td>\n",
       "      <td>16415</td>\n",
       "      <td>889.72</td>\n",
       "      <td>80.15</td>\n",
       "    </tr>\n",
       "    <tr>\n",
       "      <th>1246</th>\n",
       "      <td>512</td>\n",
       "      <td>12</td>\n",
       "      <td>4509716</td>\n",
       "      <td>4161536</td>\n",
       "      <td>3.97</td>\n",
       "      <td>95.15</td>\n",
       "      <td>383720</td>\n",
       "      <td>59.08</td>\n",
       "      <td>2411724800</td>\n",
       "      <td>2.25</td>\n",
       "      <td>...</td>\n",
       "      <td>4354048</td>\n",
       "      <td>250952</td>\n",
       "      <td>2908160</td>\n",
       "      <td>220</td>\n",
       "      <td>224</td>\n",
       "      <td>4210</td>\n",
       "      <td>0</td>\n",
       "      <td>39</td>\n",
       "      <td>2.13</td>\n",
       "      <td>0.20</td>\n",
       "    </tr>\n",
       "    <tr>\n",
       "      <th>1247</th>\n",
       "      <td>6</td>\n",
       "      <td>11</td>\n",
       "      <td>4509728</td>\n",
       "      <td>4399104</td>\n",
       "      <td>4.20</td>\n",
       "      <td>83.77</td>\n",
       "      <td>383720</td>\n",
       "      <td>59.09</td>\n",
       "      <td>1572864000</td>\n",
       "      <td>1.46</td>\n",
       "      <td>...</td>\n",
       "      <td>4780032</td>\n",
       "      <td>260352</td>\n",
       "      <td>3293184</td>\n",
       "      <td>156</td>\n",
       "      <td>160</td>\n",
       "      <td>10000</td>\n",
       "      <td>0</td>\n",
       "      <td>13888</td>\n",
       "      <td>752.77</td>\n",
       "      <td>67.82</td>\n",
       "    </tr>\n",
       "    <tr>\n",
       "      <th>1248</th>\n",
       "      <td>6</td>\n",
       "      <td>12</td>\n",
       "      <td>4509740</td>\n",
       "      <td>4173824</td>\n",
       "      <td>3.98</td>\n",
       "      <td>95.15</td>\n",
       "      <td>383720</td>\n",
       "      <td>59.09</td>\n",
       "      <td>1572864000</td>\n",
       "      <td>1.46</td>\n",
       "      <td>...</td>\n",
       "      <td>4550656</td>\n",
       "      <td>260352</td>\n",
       "      <td>3063808</td>\n",
       "      <td>156</td>\n",
       "      <td>160</td>\n",
       "      <td>10000</td>\n",
       "      <td>0</td>\n",
       "      <td>15060</td>\n",
       "      <td>816.25</td>\n",
       "      <td>73.54</td>\n",
       "    </tr>\n",
       "    <tr>\n",
       "      <th>1249</th>\n",
       "      <td>524</td>\n",
       "      <td>1</td>\n",
       "      <td>4624830</td>\n",
       "      <td>4096000</td>\n",
       "      <td>3.91</td>\n",
       "      <td>95.55</td>\n",
       "      <td>453096</td>\n",
       "      <td>59.44</td>\n",
       "      <td>2306867200</td>\n",
       "      <td>2.15</td>\n",
       "      <td>...</td>\n",
       "      <td>4460544</td>\n",
       "      <td>249224</td>\n",
       "      <td>2863104</td>\n",
       "      <td>220</td>\n",
       "      <td>224</td>\n",
       "      <td>4350</td>\n",
       "      <td>0</td>\n",
       "      <td>38</td>\n",
       "      <td>2.09</td>\n",
       "      <td>0.19</td>\n",
       "    </tr>\n",
       "  </tbody>\n",
       "</table>\n",
       "<p>939 rows × 46 columns</p>\n",
       "</div>"
      ],
      "text/plain": [
       "      uptime_in_seconds  hz  lru_clock  used_memory_rss  \\\n",
       "0                     6   6    4246225          4259840   \n",
       "1                     6  18    4246245          4050944   \n",
       "2                   483  16    4246734          4104192   \n",
       "3                     6   2    4246746          4075520   \n",
       "4                   483   7    4247235          3993600   \n",
       "...                 ...  ..        ...              ...   \n",
       "1245                  6  26    4509198          4067328   \n",
       "1246                512  12    4509716          4161536   \n",
       "1247                  6  11    4509728          4399104   \n",
       "1248                  6  12    4509740          4173824   \n",
       "1249                524   1    4624830          4096000   \n",
       "\n",
       "      used_memory_rss_human  used_memory_peak_perc  used_memory_dataset  \\\n",
       "0                      4.06                  95.15               383720   \n",
       "1                      3.86                  95.15               383720   \n",
       "2                      3.91                  95.15               383720   \n",
       "3                      3.89                  95.15               383720   \n",
       "4                      3.81                  95.15               383720   \n",
       "...                     ...                    ...                  ...   \n",
       "1245                   3.88                  95.15               383720   \n",
       "1246                   3.97                  95.15               383720   \n",
       "1247                   4.20                  83.77               383720   \n",
       "1248                   3.98                  95.15               383720   \n",
       "1249                   3.91                  95.55               453096   \n",
       "\n",
       "      used_memory_dataset_perc   maxmemory  maxmemory_human  ...  \\\n",
       "0                        59.09  1048576000          1000.00  ...   \n",
       "1                        59.08  1887436800             1.76  ...   \n",
       "2                        59.08  2621440000             2.44  ...   \n",
       "3                        59.08  2202009600             2.05  ...   \n",
       "4                        59.08  1468006400             1.37  ...   \n",
       "...                        ...         ...              ...  ...   \n",
       "1245                     59.08  1258291200             1.17  ...   \n",
       "1246                     59.08  2411724800             2.25  ...   \n",
       "1247                     59.09  1572864000             1.46  ...   \n",
       "1248                     59.09  1572864000             1.46  ...   \n",
       "1249                     59.44  2306867200             2.15  ...   \n",
       "\n",
       "      allocator_resident  allocator_frag_bytes  allocator_rss_bytes  \\\n",
       "0                4464640                259432              2977792   \n",
       "1                4382720                251608              2936832   \n",
       "2                4386816                246752              2940928   \n",
       "3                4542464                249680              3096576   \n",
       "4                4354048                252376              2908160   \n",
       "...                  ...                   ...                  ...   \n",
       "1245             4448256                252368              3002368   \n",
       "1246             4354048                250952              2908160   \n",
       "1247             4780032                260352              3293184   \n",
       "1248             4550656                260352              3063808   \n",
       "1249             4460544                249224              2863104   \n",
       "\n",
       "      mem_not_counted_for_evict  mem_aof_buffer  rdb_changes_since_last_save  \\\n",
       "0                           156             160                        12744   \n",
       "1                           220             224                        10000   \n",
       "2                           220             224                         3544   \n",
       "3                           220             224                        10000   \n",
       "4                           220             224                         3785   \n",
       "...                         ...             ...                          ...   \n",
       "1245                        220             224                        10000   \n",
       "1246                        220             224                         4210   \n",
       "1247                        156             160                        10000   \n",
       "1248                        156             160                        10000   \n",
       "1249                        220             224                         4350   \n",
       "\n",
       "      aof_buffer_length  instantaneous_ops_per_sec  instantaneous_input_kbps  \\\n",
       "0                     0                       7530                    408.13   \n",
       "1                     0                      16314                    884.23   \n",
       "2                     0                         14                      0.79   \n",
       "3                     0                       2495                    135.23   \n",
       "4                     0                         31                      1.71   \n",
       "...                 ...                        ...                       ...   \n",
       "1245                  0                      16415                    889.72   \n",
       "1246                  0                         39                      2.13   \n",
       "1247                  0                      13888                    752.77   \n",
       "1248                  0                      15060                    816.25   \n",
       "1249                  0                         38                      2.09   \n",
       "\n",
       "      instantaneous_output_kbps  \n",
       "0                         36.77  \n",
       "1                         79.67  \n",
       "2                          0.08  \n",
       "3                         12.18  \n",
       "4                          0.16  \n",
       "...                         ...  \n",
       "1245                      80.15  \n",
       "1246                       0.20  \n",
       "1247                      67.82  \n",
       "1248                      73.54  \n",
       "1249                       0.19  \n",
       "\n",
       "[939 rows x 46 columns]"
      ]
     },
     "execution_count": 34,
     "metadata": {},
     "output_type": "execute_result"
    }
   ],
   "source": [
    "subTotal_knobs_T  # knobs에서 aof 관련 제거한 것\n",
    "total_internal_T  # 전체"
   ]
  },
  {
   "cell_type": "code",
   "execution_count": 35,
   "metadata": {},
   "outputs": [],
   "source": [
    "# cluster 별 knob들의 상관계수 합  \n",
    "numerical_result = pd.DataFrame(index = numerical_var)\n",
    "\n",
    "cluster_list = [cluster0, cluster1]\n",
    "\n",
    "for idx, cluster in enumerate(cluster_list):\n",
    "    cluster_val = []\n",
    "    for knob in numerical_var:\n",
    "        df = cal_spearmanr(subTotal_knobs_T[knob], total_internal_T.loc[:,cluster])\n",
    "        cluster_val.append(df['corr'].abs().mean())\n",
    "\n",
    "    numerical_result['cluster'+str(idx)] = cluster_val"
   ]
  },
  {
   "cell_type": "code",
   "execution_count": 36,
   "metadata": {},
   "outputs": [
    {
     "data": {
      "text/html": [
       "<div>\n",
       "<style scoped>\n",
       "    .dataframe tbody tr th:only-of-type {\n",
       "        vertical-align: middle;\n",
       "    }\n",
       "\n",
       "    .dataframe tbody tr th {\n",
       "        vertical-align: top;\n",
       "    }\n",
       "\n",
       "    .dataframe thead th {\n",
       "        text-align: right;\n",
       "    }\n",
       "</style>\n",
       "<table border=\"1\" class=\"dataframe\">\n",
       "  <thead>\n",
       "    <tr style=\"text-align: right;\">\n",
       "      <th></th>\n",
       "      <th>cluster0</th>\n",
       "      <th>cluster1</th>\n",
       "    </tr>\n",
       "  </thead>\n",
       "  <tbody>\n",
       "    <tr>\n",
       "      <th>hash-max-ziplist-entries</th>\n",
       "      <td>0.020314</td>\n",
       "      <td>0.012741</td>\n",
       "    </tr>\n",
       "    <tr>\n",
       "      <th>hash-max-ziplist-value</th>\n",
       "      <td>0.031486</td>\n",
       "      <td>0.036889</td>\n",
       "    </tr>\n",
       "    <tr>\n",
       "      <th>hz</th>\n",
       "      <td>0.103123</td>\n",
       "      <td>0.104369</td>\n",
       "    </tr>\n",
       "    <tr>\n",
       "      <th>auto-aof-rewrite-percentage</th>\n",
       "      <td>0.019308</td>\n",
       "      <td>0.013190</td>\n",
       "    </tr>\n",
       "    <tr>\n",
       "      <th>auto-aof-rewrite-min-size</th>\n",
       "      <td>0.035369</td>\n",
       "      <td>0.025484</td>\n",
       "    </tr>\n",
       "    <tr>\n",
       "      <th>maxmemory</th>\n",
       "      <td>0.081444</td>\n",
       "      <td>0.027919</td>\n",
       "    </tr>\n",
       "    <tr>\n",
       "      <th>maxmemory-samples</th>\n",
       "      <td>0.026548</td>\n",
       "      <td>0.016733</td>\n",
       "    </tr>\n",
       "  </tbody>\n",
       "</table>\n",
       "</div>"
      ],
      "text/plain": [
       "                             cluster0  cluster1\n",
       "hash-max-ziplist-entries     0.020314  0.012741\n",
       "hash-max-ziplist-value       0.031486  0.036889\n",
       "hz                           0.103123  0.104369\n",
       "auto-aof-rewrite-percentage  0.019308  0.013190\n",
       "auto-aof-rewrite-min-size    0.035369  0.025484\n",
       "maxmemory                    0.081444  0.027919\n",
       "maxmemory-samples            0.026548  0.016733"
      ]
     },
     "execution_count": 36,
     "metadata": {},
     "output_type": "execute_result"
    }
   ],
   "source": [
    "numerical_result"
   ]
  },
  {
   "cell_type": "code",
   "execution_count": 38,
   "metadata": {},
   "outputs": [
    {
     "name": "stdout",
     "output_type": "stream",
     "text": [
      "hash-max-ziplist-entries : cluster0\n",
      "hash-max-ziplist-value : cluster1\n",
      "hz : cluster1\n",
      "auto-aof-rewrite-percentage : cluster0\n",
      "auto-aof-rewrite-min-size : cluster0\n",
      "maxmemory : cluster0\n",
      "maxmemory-samples : cluster0\n"
     ]
    }
   ],
   "source": [
    "get_cluster(numerical_result)"
   ]
  },
  {
   "cell_type": "code",
   "execution_count": 39,
   "metadata": {},
   "outputs": [],
   "source": [
    "# numerical_result"
   ]
  },
  {
   "cell_type": "code",
   "execution_count": 40,
   "metadata": {
    "scrolled": false
   },
   "outputs": [],
   "source": [
    "# extract_pvalue_knob_outlier(numerical_var, subTotal_knobs_T,total_internal_T)"
   ]
  },
  {
   "cell_type": "markdown",
   "metadata": {},
   "source": [
    "---"
   ]
  },
  {
   "cell_type": "markdown",
   "metadata": {},
   "source": [
    "## Activedefrag 없는 knob들\n",
    "* subTotal_knobs_Active\n",
    "* total_internal_Active\n",
    "active인거는 신경 안써도 된다.\n",
    "### numericalActive_var"
   ]
  },
  {
   "cell_type": "code",
   "execution_count": 41,
   "metadata": {},
   "outputs": [],
   "source": [
    "# numericalActive_var"
   ]
  },
  {
   "cell_type": "code",
   "execution_count": 42,
   "metadata": {},
   "outputs": [],
   "source": [
    "# extract_pvalue_knob(numericalActive_var, subTotal_knobs_Active,total_internal_Active)"
   ]
  },
  {
   "cell_type": "markdown",
   "metadata": {},
   "source": [
    "## other knob\n",
    "* subTotal_knobs_NoActive\n",
    "* total_internal_NoActive\n",
    "active인거는 신경 안써도 된다.\n",
    "### numericalNoActive_var"
   ]
  },
  {
   "cell_type": "code",
   "execution_count": 43,
   "metadata": {},
   "outputs": [],
   "source": [
    "# numericalNoActive_var"
   ]
  },
  {
   "cell_type": "code",
   "execution_count": 44,
   "metadata": {},
   "outputs": [],
   "source": [
    "# extract_pvalue_knob(numericalNoActive_var, subTotal_knobs_NoActive,total_internal_NoActive)"
   ]
  },
  {
   "cell_type": "markdown",
   "metadata": {},
   "source": [
    "---"
   ]
  },
  {
   "cell_type": "markdown",
   "metadata": {},
   "source": [
    "## pointbiserialr 분석"
   ]
  },
  {
   "cell_type": "code",
   "execution_count": 45,
   "metadata": {},
   "outputs": [],
   "source": [
    "from scipy.stats import pointbiserialr\n",
    "# pointbiserialr\n",
    "## yes,no 데이터와 연속형 데이터 상관분석\n",
    "def cal_pointbiserialr(knobs, internal_df):\n",
    "    df = pd.DataFrame(columns = ['corr', 'p-value'])\n",
    "    for internal in internal_df:\n",
    "        result = pointbiserialr(knobs, internal_df[internal])\n",
    "        df.loc[internal] = [result[0], result[1]]\n",
    "    return df\n",
    "\n",
    "# knob 하나별로 3가지 상관분석 수행\n",
    "def extract_pvalue(knobs, internal_df):\n",
    "    print('pointbierialr')\n",
    "    df = cal_pointbiserialr(knobs, internal_df)\n",
    "    is_pvalue = df['p-value'] <= 0.05\n",
    "    print(df[is_pvalue])\n",
    "    print()\n",
    "\n",
    "    \n",
    "# knob 리스트 각각 별로 extract_pvalue 수행\n",
    "def extract_pvalue_knob_point(knob_list, subTotal_knobs, total_internal):\n",
    "    for knob in knob_list:\n",
    "        print('###{}###'.format(knob))\n",
    "        extract_pvalue(subTotal_knobs[knob], total_internal)\n",
    "\n",
    "\n",
    "# 이상치 제거 버전\n",
    "def cal_pointbiserialr_outlier(knobs, internal_df):\n",
    "\n",
    "    for internal in internal_df:\n",
    "        outlier_idx = get_outlier(df=internal_df, column=internal, weight=1.5)  # 이상치 인덱스\n",
    "        \n",
    "        internal_df_no_outlier = internal_df[internal].drop(outlier_idx, axis=0)\n",
    "        knobs_no_outlier = knobs.drop(outlier_idx, axis=0)\n",
    "\n",
    "        result = pointbiserialr(knobs_no_outlier, internal_df_no_outlier)\n",
    "        if result[1] <= 0.05:\n",
    "            print(internal)\n",
    "            print(result[0])\n",
    "\n",
    "# knob 하나별로 3가지 상관분석 수행\n",
    "def extract_pvalue_outlier(knobs, internal_df):\n",
    "    print('pointbierialr')\n",
    "    cal_pointbiserialr(knobs, internal_df)\n",
    "    print()\n",
    "\n",
    "# knob 리스트 각각 별로 extract_pvalue 수행\n",
    "def extract_pvalue_knob_point_outlier(knob_list, subTotal_knobs, total_internal):\n",
    "    for knob in knob_list:\n",
    "        print('###{}###'.format(knob))\n",
    "        extract_pvalue(subTotal_knobs[knob], total_internal)\n"
   ]
  },
  {
   "cell_type": "markdown",
   "metadata": {},
   "source": [
    "## other knob(activedefrag 제외)\n",
    "* subTotal_knobs_T\n",
    "* total_internal_T\n",
    "\n",
    "### boolean_var"
   ]
  },
  {
   "cell_type": "code",
   "execution_count": 46,
   "metadata": {},
   "outputs": [
    {
     "data": {
      "text/plain": [
       "['activerehashing',\n",
       " 'dynamic-hz',\n",
       " 'no-appendfsync-on-rewrite',\n",
       " 'aof-rewrite-incremental-fsync',\n",
       " 'aof-use-rdb-preamble',\n",
       " 'lazyfree-lazy-eviction',\n",
       " 'lazyfree-lazy-expire',\n",
       " 'lazyfree-lazy-server-del']"
      ]
     },
     "execution_count": 46,
     "metadata": {},
     "output_type": "execute_result"
    }
   ],
   "source": [
    "boolean_var"
   ]
  },
  {
   "cell_type": "code",
   "execution_count": 47,
   "metadata": {},
   "outputs": [],
   "source": [
    "#  yes, no -> 1, 0으로 변경\n",
    "subTotal_knobs_T_bool = subTotal_knobs_T[boolean_var]  ## boolean 변수 df 추출\n",
    "subTotal_knobs_T_point = subTotal_knobs_T_bool.replace(['yes', 'no'], [1,0])  ## 1, 0 변경"
   ]
  },
  {
   "cell_type": "code",
   "execution_count": 48,
   "metadata": {},
   "outputs": [
    {
     "name": "stdout",
     "output_type": "stream",
     "text": [
      "###activerehashing###\n",
      "pointbierialr\n",
      "Empty DataFrame\n",
      "Columns: [corr, p-value]\n",
      "Index: []\n",
      "\n",
      "###dynamic-hz###\n",
      "pointbierialr\n",
      "Empty DataFrame\n",
      "Columns: [corr, p-value]\n",
      "Index: []\n",
      "\n",
      "###no-appendfsync-on-rewrite###\n",
      "pointbierialr\n",
      "                                 corr       p-value\n",
      "uptime_in_seconds           -0.159985  8.321693e-07\n",
      "allocator_frag_ratio         0.070740  3.019524e-02\n",
      "rdb_last_bgsave_time_sec    -0.103797  1.447307e-03\n",
      "rdb_current_bgsave_time_sec  0.087436  7.342658e-03\n",
      "used_cpu_sys                -0.157267  1.279527e-06\n",
      "used_cpu_user               -0.150796  3.462897e-06\n",
      "allocator_frag_bytes         0.066153  4.269833e-02\n",
      "rdb_changes_since_last_save  0.088662  6.555658e-03\n",
      "instantaneous_ops_per_sec    0.089332  6.158003e-03\n",
      "instantaneous_input_kbps     0.089333  6.157350e-03\n",
      "instantaneous_output_kbps    0.089331  6.158967e-03\n",
      "\n",
      "###aof-rewrite-incremental-fsync###\n",
      "pointbierialr\n",
      "Empty DataFrame\n",
      "Columns: [corr, p-value]\n",
      "Index: []\n",
      "\n",
      "###aof-use-rdb-preamble###\n",
      "pointbierialr\n",
      "Empty DataFrame\n",
      "Columns: [corr, p-value]\n",
      "Index: []\n",
      "\n",
      "###lazyfree-lazy-eviction###\n",
      "pointbierialr\n",
      "                            corr   p-value\n",
      "used_memory_peak_perc  -0.071481  0.028504\n",
      "used_memory_peak        0.079366  0.014990\n",
      "used_memory_peak_human  0.079766  0.014489\n",
      "allocator_resident      0.072690  0.025919\n",
      "\n",
      "###lazyfree-lazy-expire###\n",
      "pointbierialr\n",
      "Empty DataFrame\n",
      "Columns: [corr, p-value]\n",
      "Index: []\n",
      "\n",
      "###lazyfree-lazy-server-del###\n",
      "pointbierialr\n",
      "Empty DataFrame\n",
      "Columns: [corr, p-value]\n",
      "Index: []\n",
      "\n"
     ]
    }
   ],
   "source": [
    "extract_pvalue_knob_point(boolean_var, subTotal_knobs_T_point, total_internal_T)"
   ]
  },
  {
   "cell_type": "code",
   "execution_count": 49,
   "metadata": {},
   "outputs": [],
   "source": [
    "# cluster 별 knob들의 상관계수 합\n",
    "bool_result = pd.DataFrame(index = boolean_var)\n",
    "\n",
    "cluster_list = [cluster0, cluster1]\n",
    "\n",
    "for idx, cluster in enumerate(cluster_list):\n",
    "    cluster_val = []\n",
    "    for knob in boolean_var:\n",
    "        df = cal_pointbiserialr(subTotal_knobs_T_point[knob], total_internal_T.loc[:,cluster])\n",
    "        cluster_val.append(df['corr'].abs().mean())\n",
    "\n",
    "    bool_result['cluster'+str(idx)] = cluster_val"
   ]
  },
  {
   "cell_type": "code",
   "execution_count": 50,
   "metadata": {},
   "outputs": [
    {
     "data": {
      "text/html": [
       "<div>\n",
       "<style scoped>\n",
       "    .dataframe tbody tr th:only-of-type {\n",
       "        vertical-align: middle;\n",
       "    }\n",
       "\n",
       "    .dataframe tbody tr th {\n",
       "        vertical-align: top;\n",
       "    }\n",
       "\n",
       "    .dataframe thead th {\n",
       "        text-align: right;\n",
       "    }\n",
       "</style>\n",
       "<table border=\"1\" class=\"dataframe\">\n",
       "  <thead>\n",
       "    <tr style=\"text-align: right;\">\n",
       "      <th></th>\n",
       "      <th>cluster0</th>\n",
       "      <th>cluster1</th>\n",
       "    </tr>\n",
       "  </thead>\n",
       "  <tbody>\n",
       "    <tr>\n",
       "      <th>activerehashing</th>\n",
       "      <td>0.020236</td>\n",
       "      <td>0.030927</td>\n",
       "    </tr>\n",
       "    <tr>\n",
       "      <th>dynamic-hz</th>\n",
       "      <td>0.023592</td>\n",
       "      <td>0.030689</td>\n",
       "    </tr>\n",
       "    <tr>\n",
       "      <th>no-appendfsync-on-rewrite</th>\n",
       "      <td>0.044705</td>\n",
       "      <td>0.035891</td>\n",
       "    </tr>\n",
       "    <tr>\n",
       "      <th>aof-rewrite-incremental-fsync</th>\n",
       "      <td>0.026041</td>\n",
       "      <td>0.029833</td>\n",
       "    </tr>\n",
       "    <tr>\n",
       "      <th>aof-use-rdb-preamble</th>\n",
       "      <td>0.017474</td>\n",
       "      <td>0.026876</td>\n",
       "    </tr>\n",
       "    <tr>\n",
       "      <th>lazyfree-lazy-eviction</th>\n",
       "      <td>0.028203</td>\n",
       "      <td>0.053646</td>\n",
       "    </tr>\n",
       "    <tr>\n",
       "      <th>lazyfree-lazy-expire</th>\n",
       "      <td>0.029469</td>\n",
       "      <td>0.023467</td>\n",
       "    </tr>\n",
       "    <tr>\n",
       "      <th>lazyfree-lazy-server-del</th>\n",
       "      <td>0.020730</td>\n",
       "      <td>0.016051</td>\n",
       "    </tr>\n",
       "  </tbody>\n",
       "</table>\n",
       "</div>"
      ],
      "text/plain": [
       "                               cluster0  cluster1\n",
       "activerehashing                0.020236  0.030927\n",
       "dynamic-hz                     0.023592  0.030689\n",
       "no-appendfsync-on-rewrite      0.044705  0.035891\n",
       "aof-rewrite-incremental-fsync  0.026041  0.029833\n",
       "aof-use-rdb-preamble           0.017474  0.026876\n",
       "lazyfree-lazy-eviction         0.028203  0.053646\n",
       "lazyfree-lazy-expire           0.029469  0.023467\n",
       "lazyfree-lazy-server-del       0.020730  0.016051"
      ]
     },
     "execution_count": 50,
     "metadata": {},
     "output_type": "execute_result"
    }
   ],
   "source": [
    "bool_result"
   ]
  },
  {
   "cell_type": "code",
   "execution_count": 51,
   "metadata": {},
   "outputs": [
    {
     "name": "stdout",
     "output_type": "stream",
     "text": [
      "activerehashing : cluster1\n",
      "dynamic-hz : cluster1\n",
      "no-appendfsync-on-rewrite : cluster0\n",
      "aof-rewrite-incremental-fsync : cluster1\n",
      "aof-use-rdb-preamble : cluster1\n",
      "lazyfree-lazy-eviction : cluster1\n",
      "lazyfree-lazy-expire : cluster0\n",
      "lazyfree-lazy-server-del : cluster0\n"
     ]
    }
   ],
   "source": [
    "get_cluster(bool_result)"
   ]
  },
  {
   "cell_type": "code",
   "execution_count": 52,
   "metadata": {},
   "outputs": [],
   "source": [
    "# #이상치 제거\n",
    "# extract_pvalue_knob_point_outlier(boolean_var, subTotal_knobs_T_point, total_internal_T)"
   ]
  },
  {
   "cell_type": "markdown",
   "metadata": {},
   "source": [
    "---"
   ]
  },
  {
   "cell_type": "code",
   "execution_count": 53,
   "metadata": {},
   "outputs": [],
   "source": [
    "# extract_pvalue_knob(numerical_var, subTotal_knobs_T,total_internal_T)\n",
    "# extract_pvalue_knob(numericalActive_var_new, subTotal_knobs_Active,total_internal_Active)\n",
    "# extract_pvalue_knob_point(boolean_var, subTotal_knobs_T_point, total_internal_T)"
   ]
  }
 ],
 "metadata": {
  "kernelspec": {
   "display_name": "Python 3",
   "language": "python",
   "name": "python3"
  },
  "language_info": {
   "codemirror_mode": {
    "name": "ipython",
    "version": 3
   },
   "file_extension": ".py",
   "mimetype": "text/x-python",
   "name": "python",
   "nbconvert_exporter": "python",
   "pygments_lexer": "ipython3",
   "version": "3.8.5"
  }
 },
 "nbformat": 4,
 "nbformat_minor": 4
}
