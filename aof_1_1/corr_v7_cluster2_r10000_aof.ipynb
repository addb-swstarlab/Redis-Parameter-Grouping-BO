{
 "cells": [
  {
   "cell_type": "markdown",
   "metadata": {},
   "source": [
    "# 상관분석\n",
    "\n",
    "* internal_metrics() 이상치를 한번 파악하려고 봤더니 상자그림이 이상하게 그려졌다. 25\n",
    "* knob 이상치 제거할 필요 없다. 랜덤생성했기 때문에 14 (+ 범주형은 10개)\n",
    "\n",
    "1. 데이터 전처리\n",
    "2. 상관분석 함수\n",
    "3. activedefrag 있는 경우\n",
    "4. 전체 knob\n",
    "5. activedefrag 없는 경우\n",
    "6. pointbeir~\n",
    "\n",
    "\n",
    "len = 17\n",
    "cluster0\n",
    "hz\n",
    "lru_clock\n",
    "used_memory_peak\n",
    "used_memory_overhead\n",
    "allocator_allocated\n",
    "allocator_active\n",
    "maxmemory\n",
    "maxmemory_human\n",
    "allocator_frag_bytes\n",
    "rss_overhead_ratio\n",
    "rss_overhead_bytes\n",
    "rdb_last_save_time\n",
    "instantaneous_ops_per_sec\n",
    "instantaneous_input_kbps\n",
    "instantaneous_output_kbps\n",
    "used_cpu_sys\n",
    "used_cpu_user\n",
    "\n",
    "len = 7\n",
    "cluster1\n",
    "used_memory_rss\n",
    "used_memory_rss_human\n",
    "allocator_resident\n",
    "allocator_rss_ratio\n",
    "allocator_rss_bytes\n",
    "mem_fragmentation_ratio\n",
    "mem_fragmentation_bytes"
   ]
  },
  {
   "cell_type": "code",
   "execution_count": 1,
   "metadata": {},
   "outputs": [],
   "source": [
    "import pandas as pd\n",
    "import numpy as np\n",
    "import seaborn as sns\n",
    "import matplotlib.pyplot as plt"
   ]
  },
  {
   "cell_type": "code",
   "execution_count": 2,
   "metadata": {},
   "outputs": [],
   "source": [
    "# internal metrics 분류 결과\n",
    "cluster0 =[ \n",
    "'uptime_in_seconds',\n",
    "'hz',\n",
    "'lru_clock',\n",
    "'used_memory_rss',\n",
    "'used_memory_rss_human',\n",
    "'used_memory_peak_perc',\n",
    "'used_memory_dataset_perc',\n",
    "'maxmemory',\n",
    "'maxmemory_human',\n",
    "'allocator_frag_ratio',\n",
    "'allocator_rss_ratio',\n",
    "'rss_overhead_ratio',\n",
    "'rss_overhead_bytes',\n",
    "'mem_fragmentation_ratio',\n",
    "'mem_fragmentation_bytes',\n",
    "'rdb_last_save_time',\n",
    "'rdb_last_bgsave_time_sec',\n",
    "'rdb_current_bgsave_time_sec',\n",
    "'rdb_last_cow_size',\n",
    "'aof_current_size',\n",
    "'keyspace_misses',\n",
    "'latest_fork_usec',\n",
    "'used_cpu_sys',\n",
    "\"used_cpu_user\",\n",
    "'used_cpu_sys_children',\n",
    "'used_cpu_user_children',\n",
    "]\n",
    "\n",
    "cluster1 = [\n",
    "'used_memory',\n",
    "'used_memory_human',\n",
    "'used_memory_peak',\n",
    "'used_memory_peak_human',\n",
    "'used_memory_overhead',\n",
    "'used_memory_dataset',\n",
    "'allocator_allocated',\n",
    "'allocator_active',\n",
    "'allocator_resident',\n",
    "'allocator_frag_bytes',\n",
    "'allocator_rss_bytes',\n",
    "'mem_not_counted_for_evict',\n",
    "'mem_aof_buffer',\n",
    "'rdb_changes_since_last_save',\n",
    "'aof_base_size',\n",
    "'aof_buffer_length',\n",
    "'instantaneous_ops_per_sec',\n",
    "'total_net_output_bytes',\n",
    "'instantaneous_input_kbps',\n",
    "'instantaneous_output_kbps',\n",
    "'db0:keys',\n",
    "]\n",
    "\n",
    "knob_list = [\n",
    "    \"hash-max-ziplist-entries\", \n",
    "    \"hash-max-ziplist-value\",\n",
    "    \"activerehashing\",  ##yes\n",
    "    \"hz\",\n",
    "    \"dynamic-hz\",\n",
    "    \n",
    "    # appendonly 제외\n",
    "    'appendfsync',\n",
    "    'auto-aof-rewrite-percentage',\n",
    "    'auto-aof-rewrite-min-size',\n",
    "    'no-appendfsync-on-rewrite',\n",
    "    'aof-rewrite-incremental-fsync',\n",
    "    'aof-use-rdb-preamble',\n",
    "    \n",
    "    \"activedefrag\",\n",
    "    \"active-defrag-threshold-lower\",\n",
    "    \"active-defrag-threshold-upper\",\n",
    "    \"active-defrag-cycle-min\",\n",
    "    \"active-defrag-cycle-max\",\n",
    "    \n",
    "    \"maxmemory\",   ##\"volatile-lru\"\n",
    "    \"maxmemory-policy\",\n",
    "    \"maxmemory-samples\",\n",
    "    \n",
    "    \"lazyfree-lazy-eviction\",\n",
    "    \"lazyfree-lazy-expire\",\n",
    "    \"lazyfree-lazy-server-del\"\n",
    "]\n",
    "\n",
    "activedefrag_knobs = [\n",
    "    \"activedefrag\",\n",
    "    \"active-defrag-threshold-lower\",\n",
    "    \"active-defrag-threshold-upper\",\n",
    "    \"active-defrag-cycle-min\",\n",
    "    \"active-defrag-cycle-max\",\n",
    "]"
   ]
  },
  {
   "cell_type": "code",
   "execution_count": 3,
   "metadata": {},
   "outputs": [
    {
     "data": {
      "text/plain": [
       "(1000, 131)"
      ]
     },
     "execution_count": 3,
     "metadata": {},
     "output_type": "execute_result"
    }
   ],
   "source": [
    "# 데이터 불러오기 internal metrics와 knob들의 상관관계분석\n",
    "# internal_csv = pd.read_csv('./data/internal_metrcis0.csv')\n",
    "\n",
    "file_dir = '../data/'\n",
    "file_name = 'internal_metrics_r10000_aof1.csv'\n",
    "\n",
    "internal_csv = pd.read_csv(file_dir+file_name)\n",
    "\n",
    "# 1250 개 추출\n",
    "internal_csv = internal_csv.iloc[0:1250,:]\n",
    "internal_csv.shape"
   ]
  },
  {
   "cell_type": "code",
   "execution_count": 4,
   "metadata": {},
   "outputs": [
    {
     "data": {
      "text/plain": [
       "(1000, 131)"
      ]
     },
     "execution_count": 4,
     "metadata": {},
     "output_type": "execute_result"
    }
   ],
   "source": [
    "# role == master 인 부분 제외\n",
    "idx_role_null = internal_csv['role'] == 'master'\n",
    "internal_csv = internal_csv[idx_role_null]\n",
    "internal_csv.shape"
   ]
  },
  {
   "cell_type": "code",
   "execution_count": 5,
   "metadata": {},
   "outputs": [
    {
     "data": {
      "text/plain": [
       "(1000, 32)"
      ]
     },
     "execution_count": 5,
     "metadata": {},
     "output_type": "execute_result"
    }
   ],
   "source": [
    "# 데이터 불러오기 knob_list\n",
    "# knobs = pd.read_csv('./data/result_config0.csv')\n",
    "\n",
    "file_dir = '../data/'\n",
    "file_name = 'result_config_r10000_aof.csv'\n",
    "\n",
    "knobs = pd.read_csv(file_dir + file_name)\n",
    "# 1250 개 추출\n",
    "knobs = knobs.iloc[0:1000,:]\n",
    "knobs.shape"
   ]
  },
  {
   "cell_type": "code",
   "execution_count": 6,
   "metadata": {},
   "outputs": [
    {
     "data": {
      "text/plain": [
       "(1000, 32)"
      ]
     },
     "execution_count": 6,
     "metadata": {},
     "output_type": "execute_result"
    }
   ],
   "source": [
    "# role == master 인 부분 제외\n",
    "knobs = knobs[idx_role_null]\n",
    "knobs.shape"
   ]
  },
  {
   "cell_type": "code",
   "execution_count": 7,
   "metadata": {},
   "outputs": [],
   "source": [
    "# 컬럼 추출 함수\n",
    "def extract_data(cluster_list, df):\n",
    "    extracted_df = pd.DataFrame()\n",
    "    for elem in cluster_list:\n",
    "        extracted_df[elem] = df[elem]\n",
    "\n",
    "    return extracted_df    "
   ]
  },
  {
   "cell_type": "markdown",
   "metadata": {},
   "source": [
    "## 데이터 전처리"
   ]
  },
  {
   "cell_type": "code",
   "execution_count": 8,
   "metadata": {},
   "outputs": [],
   "source": [
    "# 클러스터 합치기\n",
    "cluster = cluster0+cluster1"
   ]
  },
  {
   "cell_type": "code",
   "execution_count": 9,
   "metadata": {
    "scrolled": true
   },
   "outputs": [],
   "source": [
    "# 클러스터 요소에 해당되는 metrics 25개 추출\n",
    "total_internal_df = extract_data(cluster, internal_csv)"
   ]
  },
  {
   "cell_type": "markdown",
   "metadata": {},
   "source": [
    "### 결측치 확인"
   ]
  },
  {
   "cell_type": "code",
   "execution_count": 10,
   "metadata": {
    "scrolled": true
   },
   "outputs": [
    {
     "name": "stdout",
     "output_type": "stream",
     "text": [
      "<class 'pandas.core.frame.DataFrame'>\n",
      "Int64Index: 1000 entries, 0 to 999\n",
      "Data columns (total 47 columns):\n",
      " #   Column                       Non-Null Count  Dtype  \n",
      "---  ------                       --------------  -----  \n",
      " 0   uptime_in_seconds            1000 non-null   int64  \n",
      " 1   hz                           1000 non-null   int64  \n",
      " 2   lru_clock                    1000 non-null   int64  \n",
      " 3   used_memory_rss              1000 non-null   int64  \n",
      " 4   used_memory_rss_human        1000 non-null   float64\n",
      " 5   used_memory_peak_perc        1000 non-null   float64\n",
      " 6   used_memory_dataset_perc     1000 non-null   float64\n",
      " 7   maxmemory                    1000 non-null   int64  \n",
      " 8   maxmemory_human              1000 non-null   float64\n",
      " 9   allocator_frag_ratio         1000 non-null   float64\n",
      " 10  allocator_rss_ratio          1000 non-null   float64\n",
      " 11  rss_overhead_ratio           1000 non-null   float64\n",
      " 12  rss_overhead_bytes           1000 non-null   int64  \n",
      " 13  mem_fragmentation_ratio      1000 non-null   float64\n",
      " 14  mem_fragmentation_bytes      1000 non-null   int64  \n",
      " 15  rdb_last_save_time           1000 non-null   int64  \n",
      " 16  rdb_last_bgsave_time_sec     1000 non-null   int64  \n",
      " 17  rdb_current_bgsave_time_sec  1000 non-null   int64  \n",
      " 18  rdb_last_cow_size            1000 non-null   int64  \n",
      " 19  aof_current_size             1000 non-null   int64  \n",
      " 20  keyspace_misses              1000 non-null   int64  \n",
      " 21  latest_fork_usec             1000 non-null   int64  \n",
      " 22  used_cpu_sys                 1000 non-null   float64\n",
      " 23  used_cpu_user                1000 non-null   float64\n",
      " 24  used_cpu_sys_children        1000 non-null   float64\n",
      " 25  used_cpu_user_children       1000 non-null   float64\n",
      " 26  used_memory                  1000 non-null   int64  \n",
      " 27  used_memory_human            1000 non-null   float64\n",
      " 28  used_memory_peak             1000 non-null   int64  \n",
      " 29  used_memory_peak_human       1000 non-null   float64\n",
      " 30  used_memory_overhead         1000 non-null   int64  \n",
      " 31  used_memory_dataset          1000 non-null   int64  \n",
      " 32  allocator_allocated          1000 non-null   int64  \n",
      " 33  allocator_active             1000 non-null   int64  \n",
      " 34  allocator_resident           1000 non-null   int64  \n",
      " 35  allocator_frag_bytes         1000 non-null   int64  \n",
      " 36  allocator_rss_bytes          1000 non-null   int64  \n",
      " 37  mem_not_counted_for_evict    1000 non-null   int64  \n",
      " 38  mem_aof_buffer               1000 non-null   int64  \n",
      " 39  rdb_changes_since_last_save  1000 non-null   int64  \n",
      " 40  aof_base_size                1000 non-null   int64  \n",
      " 41  aof_buffer_length            1000 non-null   int64  \n",
      " 42  instantaneous_ops_per_sec    1000 non-null   int64  \n",
      " 43  total_net_output_bytes       1000 non-null   int64  \n",
      " 44  instantaneous_input_kbps     1000 non-null   float64\n",
      " 45  instantaneous_output_kbps    1000 non-null   float64\n",
      " 46  db0:keys                     1000 non-null   int64  \n",
      "dtypes: float64(16), int64(31)\n",
      "memory usage: 375.0 KB\n"
     ]
    }
   ],
   "source": [
    "# internal_csv 결측치 확인 \n",
    "total_internal_df.info()"
   ]
  },
  {
   "cell_type": "code",
   "execution_count": 11,
   "metadata": {
    "scrolled": true
   },
   "outputs": [],
   "source": [
    "# # # throughput 결측치 제거\n",
    "# total_internal_df=total_internal_df.dropna()"
   ]
  },
  {
   "cell_type": "code",
   "execution_count": 12,
   "metadata": {},
   "outputs": [],
   "source": [
    "# maxmemory 처리 knob\n",
    "knobs['maxmemory'] = knobs['maxmemory'].str.strip('mb')  # 단위 자르기\n",
    "knobs['maxmemory'] = pd.to_numeric(knobs['maxmemory'])  # 숫자형으로 바꾸기\n",
    "\n",
    "# auto-aof-rewrite-min-size knob 단위(mb) 처리\n",
    "knobs['auto-aof-rewrite-min-size']  = knobs['auto-aof-rewrite-min-size'].str.strip('mb')\n",
    "knobs['auto-aof-rewrite-min-size'] = pd.to_numeric(knobs['auto-aof-rewrite-min-size'])"
   ]
  },
  {
   "cell_type": "markdown",
   "metadata": {},
   "source": [
    "### activedefrag 처리\n",
    "* subTotal_knobs_Active : 약 1300개 이며 activedefrag가 있는 경우 \n",
    "* subTotal_knobs_NoActive: 약 1300개 이며 activedefrag가 nan값으로 제거한 경우\n",
    "* subTotal_knobs_T : 2500개 이며 activedefrag 상관없이 전체 데이터\n",
    "\n",
    "\n",
    "* total_internal_Active : 약 1300개 이며 activedefrag가 있는 경우 \n",
    "* total_internal_NoActive: 약 1300개 이며 activedefrag가 nan값으로 제거한 경우\n",
    "* total_internal_T : 2500개 이며 activedefrag 상관없이 전체 데이터"
   ]
  },
  {
   "cell_type": "code",
   "execution_count": 13,
   "metadata": {},
   "outputs": [],
   "source": [
    "# knob_list 만 추출\n",
    "subTotal_knobs = extract_data(knob_list, knobs)"
   ]
  },
  {
   "cell_type": "code",
   "execution_count": 14,
   "metadata": {},
   "outputs": [],
   "source": [
    "#activedefrag knobs 분리\n",
    "\n",
    "# activedefrag O 존재\n",
    "subTotal_knobs_Active = subTotal_knobs.dropna()\n",
    "Active_index = list(subTotal_knobs_Active.index)  # 인덱스\n",
    "\n",
    "# # activedefrag X 존재하지 않는 나머지 반\n",
    "subTotal_knobs_NoActive = subTotal_knobs.loc[subTotal_knobs['activedefrag'].isna()].dropna(axis=1)\n",
    "NoActive_index = list(subTotal_knobs_NoActive.index)  # 인덱스\n",
    "\n",
    "# activedefrag O and X 전체 \n",
    "subTotal_knobs_T = subTotal_knobs.dropna(axis=1)\n",
    "total_index = list(subTotal_knobs_T.index)   # 인덱스"
   ]
  },
  {
   "cell_type": "code",
   "execution_count": 15,
   "metadata": {},
   "outputs": [],
   "source": [
    "# knobs에서 타입별로 분리 (수치, 불리언, 불리언아닌 문자)\n",
    "\n",
    "def varType(subTotal_knobs):\n",
    "    object_var = []\n",
    "    numerical_var = []  # 문자, 숫자 타입\n",
    "    \n",
    "    for idx in subTotal_knobs.dtypes.index:\n",
    "        if subTotal_knobs.dtypes[idx] == 'O':  # 문자일 경우\n",
    "            object_var.append(idx)\n",
    "        else: \n",
    "            numerical_var.append(idx)  # 숫자일 경우\n",
    "\n",
    "    boolean_var = []\n",
    "    booleanNo_var = []  # 2개, 2개이상\n",
    "\n",
    "    for col in object_var:\n",
    "        col_count = len(subTotal_knobs[col].unique())\n",
    "\n",
    "        if col_count == 2:  # 2개일 경우\n",
    "            boolean_var.append(col)\n",
    "        elif col_count > 2:  # 2개 이상일 경우\n",
    "            booleanNo_var.append(col)\n",
    "    \n",
    "    return numerical_var, boolean_var, booleanNo_var\n",
    "\n",
    "# 수치, 불리언, 불리언아닌것 (전체)\n",
    "numerical_var, boolean_var, NobooleanNo_var = varType(subTotal_knobs_T)\n",
    "\n",
    "# 수치, 불리언, 불리언아닌것 (activedefrag)\n",
    "numericalActive_var, booleanActive_var, NobooleanNoActive_var = varType(subTotal_knobs_Active)\n",
    "\n",
    "# 수치, 불리언, 불리언아닌것 (activedefrag 없는것)\n",
    "numericalNoActive_var, booleanNoActive_var, NobooleanNoActive_var = varType(subTotal_knobs_NoActive)\n"
   ]
  },
  {
   "cell_type": "code",
   "execution_count": 16,
   "metadata": {},
   "outputs": [],
   "source": [
    "# internal에서 분리 \n",
    "\n",
    "# activedefrag O\n",
    "total_internal_Active = total_internal_df.loc[Active_index]\n",
    "\n",
    "# activedefrag X\n",
    "total_internal_NoActive = total_internal_df.loc[NoActive_index]\n",
    "\n",
    "# activedefrag O and X\n",
    "total_internal_T = total_internal_df.loc[total_index]"
   ]
  },
  {
   "cell_type": "markdown",
   "metadata": {},
   "source": [
    "---"
   ]
  },
  {
   "cell_type": "markdown",
   "metadata": {},
   "source": [
    "## 상관분석 함수"
   ]
  },
  {
   "cell_type": "code",
   "execution_count": 17,
   "metadata": {},
   "outputs": [],
   "source": [
    "def get_outlier(df=None, column=None, weight=1.5):\n",
    "    \n",
    "    # target 값과 상관관계가 높은 열을 우선적으로 진행\n",
    "    quantile_25 = np.percentile(df[column].values, 25)\n",
    "    quantile_75 = np.percentile(df[column].values, 75)\n",
    "\n",
    "    IQR = quantile_75 - quantile_25\n",
    "    IQR_weight = IQR*weight\n",
    "\n",
    "    lowest = quantile_25 - IQR_weight\n",
    "    highest = quantile_75 + IQR_weight\n",
    "\n",
    "    outlier_idx = df[column][ (df[column] < lowest) | (df[column] > highest) ].index\n",
    "    return outlier_idx"
   ]
  },
  {
   "cell_type": "code",
   "execution_count": 18,
   "metadata": {},
   "outputs": [],
   "source": [
    "from scipy.stats import pearsonr\n",
    "from scipy.stats import spearmanr\n",
    "from scipy.stats import kendalltau\n",
    "\n",
    "\n",
    "# knob하나 internal 여러개 상관계수 구하기\n",
    "\n",
    "# pearson\n",
    "## 모수 검정\n",
    "def cal_pearsonr(knobs, internal_df):\n",
    "    df = pd.DataFrame(columns = ['corr', 'p-value'])\n",
    "    for internal in internal_df:\n",
    "        result = pearsonr(knobs, internal_df[internal])\n",
    "        df.loc[internal] = [result[0], result[1]]\n",
    "    return df\n",
    "\n",
    "# kendall\n",
    "## 변수값 대신 순위로 바꿔서 이용, 비모수 검정\n",
    "## 샘플사이저 적거나, 데이터 동률이 많을 때 유용\n",
    "def cal_kendalltau(knobs, internal_df):\n",
    "    df = pd.DataFrame(columns = ['corr', 'p-value'])\n",
    "    for internal in internal_df:\n",
    "        result = kendalltau(knobs, internal_df[internal])\n",
    "        df.loc[internal] = [result[0], result[1]]\n",
    "    return df\n",
    "\n",
    "# 스피어만\n",
    "## 변수값 대신 순위로 바꿔서 이용, 비모수 검정\n",
    "## 데이터 내 편차와 에러에 만감하며, 일반적으로 켄달보다 높은 값을 가진다.\n",
    "def cal_spearmanr(knobs, internal_df):\n",
    "    df = pd.DataFrame(columns = ['corr', 'p-value'])\n",
    "    for internal in internal_df:\n",
    "        result = spearmanr(knobs, internal_df[internal])\n",
    "        df.loc[internal] = [result[0], result[1]]\n",
    "    return df\n",
    "\n",
    "\n",
    "# knob하나 internal 여러개 상관계수 구하기 이상치 제거 버전\n",
    "# pearson\n",
    "## 모수 검정\n",
    "def cal_pearsonr_outlier(knobs, internal_df):\n",
    "\n",
    "    for internal in internal_df:\n",
    "        outlier_idx = get_outlier(df=internal_df, column=internal, weight=1.5)  # 이상치 인덱스\n",
    "        \n",
    "        internal_df_no_outlier = internal_df[internal].drop(outlier_idx, axis=0)\n",
    "        knobs_no_outlier = knobs.drop(outlier_idx, axis=0)\n",
    "\n",
    "        result = pearsonr(knobs_no_outlier, internal_df_no_outlier)\n",
    "        if result[1] <= 0.05:\n",
    "            print(internal)\n",
    "            print(result[0])\n",
    "\n",
    "# kendall\n",
    "## 변수값 대신 순위로 바꿔서 이용, 비모수 검정\n",
    "## 샘플사이저 적거나, 데이터 동률이 많을 때 유용\n",
    "def cal_kendalltau_outlier(knobs, internal_df):\n",
    "\n",
    "    for internal in internal_df:\n",
    "        outlier_idx = get_outlier(df=internal_df, column=internal, weight=1.5)  # 이상치 인덱스\n",
    "        \n",
    "        internal_df_no_outlier = internal_df[internal].drop(outlier_idx, axis=0)\n",
    "        knobs_no_outlier = knobs.drop(outlier_idx, axis=0)\n",
    "\n",
    "        result = kendalltau(knobs_no_outlier, internal_df_no_outlier)\n",
    "        if result[1] <= 0.05:\n",
    "            print(internal)\n",
    "            print(result[0])\n",
    "\n",
    "    \n",
    "# 스피어만\n",
    "## 변수값 대신 순위로 바꿔서 이용, 비모수 검정\n",
    "## 데이터 내 편차와 에러에 만감하며, 일반적으로 켄달보다 높은 값을 가진다.\n",
    "def cal_spearmanr_outlier(knobs, internal_df):\n",
    "\n",
    "    for internal in internal_df:\n",
    "        outlier_idx = get_outlier(df=internal_df, column=internal, weight=1.5)  # 이상치 인덱스\n",
    "        \n",
    "        internal_df_no_outlier = internal_df[internal].drop(outlier_idx, axis=0)\n",
    "        knobs_no_outlier = knobs.drop(outlier_idx, axis=0)\n",
    "\n",
    "        result = spearmanr(knobs_no_outlier, internal_df_no_outlier)\n",
    "        if result[1] <= 0.05:\n",
    "            print(internal)\n",
    "            print(result[0])\n",
    "\n"
   ]
  },
  {
   "cell_type": "code",
   "execution_count": 19,
   "metadata": {},
   "outputs": [],
   "source": [
    "# knob 하나별로 3가지 상관분석 수행\n",
    "def extract_pvalue(knobs, internal_df):\n",
    "    print('pearson')\n",
    "    df = cal_pearsonr(knobs, internal_df)\n",
    "    is_pvalue = df['p-value'] <= 0.05\n",
    "    print(df[is_pvalue])\n",
    "    print()\n",
    "    \n",
    "    print('kendalltau')\n",
    "    df = cal_kendalltau(knobs, internal_df)\n",
    "    is_pvalue = df['p-value'] <= 0.05\n",
    "    print(df[is_pvalue])\n",
    "    print()\n",
    "    \n",
    "    print('spearman')\n",
    "    df = cal_spearmanr(knobs, internal_df)\n",
    "    is_pvalue = df['p-value'] <= 0.05\n",
    "    print(df[is_pvalue])\n",
    "    print()\n",
    "\n",
    "def extract_pvalue_outlier(knobs, internal_df):\n",
    "    print('pearson')\n",
    "    cal_pearsonr_outlier(knobs, internal_df)\n",
    "    print()\n",
    "    \n",
    "    print('kendalltau')\n",
    "    cal_kendalltau_outlier(knobs, internal_df)\n",
    "    print()\n",
    "    \n",
    "    print('spearman')\n",
    "    cal_spearmanr_outlier(knobs, internal_df)\n",
    "    print()\n",
    "    \n",
    "\n",
    "# knob 리스트 각각 별로 extract_pvalue 수행\n",
    "def extract_pvalue_knob(knob_list, subTotal_knobs, total_internal):\n",
    "    for knob in knob_list:\n",
    "        print('###{}###'.format(knob))\n",
    "        extract_pvalue(subTotal_knobs[knob], total_internal)\n",
    "        \n",
    "        \n",
    "# knob 리스트 각각 별로 extract_pvalue 수행 이상치 제거 \n",
    "def extract_pvalue_knob_outlier(knob_list, subTotal_knobs, total_internal):\n",
    "    for knob in knob_list:\n",
    "        print('###{}###'.format(knob))\n",
    "        extract_pvalue_outlier(subTotal_knobs[knob], total_internal)"
   ]
  },
  {
   "cell_type": "markdown",
   "metadata": {},
   "source": [
    "---"
   ]
  },
  {
   "cell_type": "markdown",
   "metadata": {},
   "source": [
    "## activedefrag 상관계수\n",
    "* subTotal_knobs_Active\n",
    "* total_internal_Active\n",
    "\n",
    "### numericalActive_var :\n",
    "* active-defrag-threshold-lower \n",
    "* active-defrag-threshold-upper \n",
    "* active-defrag-cycle-min\n",
    "* active-defrag-cycle-max"
   ]
  },
  {
   "cell_type": "code",
   "execution_count": 20,
   "metadata": {
    "scrolled": true
   },
   "outputs": [
    {
     "data": {
      "text/plain": [
       "['hash-max-ziplist-entries',\n",
       " 'hash-max-ziplist-value',\n",
       " 'hz',\n",
       " 'auto-aof-rewrite-percentage',\n",
       " 'auto-aof-rewrite-min-size',\n",
       " 'active-defrag-threshold-lower',\n",
       " 'active-defrag-threshold-upper',\n",
       " 'active-defrag-cycle-min',\n",
       " 'active-defrag-cycle-max',\n",
       " 'maxmemory',\n",
       " 'maxmemory-samples']"
      ]
     },
     "execution_count": 20,
     "metadata": {},
     "output_type": "execute_result"
    }
   ],
   "source": [
    "numericalActive_var"
   ]
  },
  {
   "cell_type": "code",
   "execution_count": 21,
   "metadata": {},
   "outputs": [
    {
     "data": {
      "text/plain": [
       "['active-defrag-threshold-lower',\n",
       " 'active-defrag-threshold-upper',\n",
       " 'active-defrag-cycle-min',\n",
       " 'active-defrag-cycle-max']"
      ]
     },
     "execution_count": 21,
     "metadata": {},
     "output_type": "execute_result"
    }
   ],
   "source": [
    "numericalActive_var\n",
    "numericalActive_var_new = numericalActive_var[5:9]\n",
    "numericalActive_var_new"
   ]
  },
  {
   "cell_type": "code",
   "execution_count": 22,
   "metadata": {
    "scrolled": false
   },
   "outputs": [
    {
     "name": "stdout",
     "output_type": "stream",
     "text": [
      "###active-defrag-threshold-lower###\n",
      "pearson\n",
      "                         corr   p-value\n",
      "allocator_rss_ratio  0.097725  0.031948\n",
      "\n",
      "kendalltau\n",
      "                      corr   p-value\n",
      "aof_current_size  0.081509  0.031146\n",
      "aof_base_size     0.085017  0.024653\n",
      "\n",
      "spearman\n",
      "                      corr   p-value\n",
      "aof_current_size  0.098278  0.030984\n",
      "aof_base_size     0.102535  0.024373\n",
      "\n",
      "###active-defrag-threshold-upper###\n",
      "pearson\n"
     ]
    },
    {
     "name": "stderr",
     "output_type": "stream",
     "text": [
      "/Users/joseong-un/opt/anaconda3/lib/python3.8/site-packages/scipy/stats/stats.py:4023: PearsonRConstantInputWarning: An input array is constant; the correlation coefficient is not defined.\n",
      "  warnings.warn(PearsonRConstantInputWarning())\n",
      "/Users/joseong-un/opt/anaconda3/lib/python3.8/site-packages/scipy/stats/stats.py:4484: SpearmanRConstantInputWarning: An input array is constant; the correlation coefficient is not defined.\n",
      "  warnings.warn(SpearmanRConstantInputWarning())\n",
      "/Users/joseong-un/opt/anaconda3/lib/python3.8/site-packages/scipy/stats/stats.py:4023: PearsonRConstantInputWarning: An input array is constant; the correlation coefficient is not defined.\n",
      "  warnings.warn(PearsonRConstantInputWarning())\n"
     ]
    },
    {
     "name": "stdout",
     "output_type": "stream",
     "text": [
      "Empty DataFrame\n",
      "Columns: [corr, p-value]\n",
      "Index: []\n",
      "\n",
      "kendalltau\n",
      "Empty DataFrame\n",
      "Columns: [corr, p-value]\n",
      "Index: []\n",
      "\n",
      "spearman\n",
      "Empty DataFrame\n",
      "Columns: [corr, p-value]\n",
      "Index: []\n",
      "\n",
      "###active-defrag-cycle-min###\n",
      "pearson\n"
     ]
    },
    {
     "name": "stderr",
     "output_type": "stream",
     "text": [
      "/Users/joseong-un/opt/anaconda3/lib/python3.8/site-packages/scipy/stats/stats.py:4484: SpearmanRConstantInputWarning: An input array is constant; the correlation coefficient is not defined.\n",
      "  warnings.warn(SpearmanRConstantInputWarning())\n",
      "/Users/joseong-un/opt/anaconda3/lib/python3.8/site-packages/scipy/stats/stats.py:4023: PearsonRConstantInputWarning: An input array is constant; the correlation coefficient is not defined.\n",
      "  warnings.warn(PearsonRConstantInputWarning())\n"
     ]
    },
    {
     "name": "stdout",
     "output_type": "stream",
     "text": [
      "                              corr   p-value\n",
      "used_memory_dataset_perc  0.092694  0.041937\n",
      "used_memory              -0.101189  0.026318\n",
      "used_memory_human        -0.101313  0.026133\n",
      "used_memory_overhead     -0.097520  0.032310\n",
      "\n",
      "kendalltau\n",
      "                           corr   p-value\n",
      "used_memory_peak_perc -0.090703  0.014081\n",
      "used_memory_human     -0.085814  0.023328\n",
      "used_memory_peak       0.087478  0.009806\n",
      "\n",
      "spearman\n",
      "                           corr   p-value\n",
      "used_memory_peak_perc -0.111401  0.014404\n",
      "used_memory_human     -0.103448  0.023125\n",
      "used_memory_peak       0.116824  0.010260\n",
      "\n",
      "###active-defrag-cycle-max###\n",
      "pearson\n"
     ]
    },
    {
     "name": "stderr",
     "output_type": "stream",
     "text": [
      "/Users/joseong-un/opt/anaconda3/lib/python3.8/site-packages/scipy/stats/stats.py:4484: SpearmanRConstantInputWarning: An input array is constant; the correlation coefficient is not defined.\n",
      "  warnings.warn(SpearmanRConstantInputWarning())\n",
      "/Users/joseong-un/opt/anaconda3/lib/python3.8/site-packages/scipy/stats/stats.py:4023: PearsonRConstantInputWarning: An input array is constant; the correlation coefficient is not defined.\n",
      "  warnings.warn(PearsonRConstantInputWarning())\n"
     ]
    },
    {
     "name": "stdout",
     "output_type": "stream",
     "text": [
      "                                 corr   p-value\n",
      "uptime_in_seconds           -0.090659  0.046667\n",
      "rdb_last_bgsave_time_sec    -0.095375  0.036327\n",
      "used_cpu_sys                -0.091938  0.043646\n",
      "rdb_changes_since_last_save  0.104722  0.021478\n",
      "\n",
      "kendalltau\n",
      "                                 corr   p-value\n",
      "used_memory_rss              0.064749  0.040120\n",
      "used_memory_rss_human        0.068000  0.034198\n",
      "mem_fragmentation_ratio      0.064302  0.043504\n",
      "mem_fragmentation_bytes      0.066556  0.034029\n",
      "rdb_last_bgsave_time_sec    -0.078492  0.038990\n",
      "used_cpu_sys                -0.070318  0.024148\n",
      "used_cpu_user               -0.066004  0.034307\n",
      "used_cpu_user_children      -0.077764  0.028136\n",
      "used_memory_peak            -0.080568  0.018185\n",
      "allocator_resident           0.065398  0.041938\n",
      "allocator_rss_bytes          0.063788  0.046688\n",
      "rdb_changes_since_last_save  0.078909  0.025280\n",
      "\n",
      "spearman\n",
      "                                 corr   p-value\n",
      "used_memory_rss              0.093673  0.039810\n",
      "used_memory_rss_human        0.096429  0.034303\n",
      "mem_fragmentation_ratio      0.093291  0.040627\n",
      "mem_fragmentation_bytes      0.096884  0.033461\n",
      "rdb_last_bgsave_time_sec    -0.094285  0.038526\n",
      "used_cpu_sys                -0.103511  0.023042\n",
      "used_cpu_user               -0.097092  0.033080\n",
      "used_cpu_user_children      -0.100469  0.027412\n",
      "used_memory_peak            -0.105777  0.020191\n",
      "allocator_resident           0.094245  0.038608\n",
      "allocator_rss_bytes          0.092312  0.042792\n",
      "rdb_changes_since_last_save  0.101762  0.025475\n",
      "\n"
     ]
    },
    {
     "name": "stderr",
     "output_type": "stream",
     "text": [
      "/Users/joseong-un/opt/anaconda3/lib/python3.8/site-packages/scipy/stats/stats.py:4484: SpearmanRConstantInputWarning: An input array is constant; the correlation coefficient is not defined.\n",
      "  warnings.warn(SpearmanRConstantInputWarning())\n"
     ]
    }
   ],
   "source": [
    "extract_pvalue_knob(numericalActive_var_new, subTotal_knobs_Active,total_internal_Active)"
   ]
  },
  {
   "cell_type": "code",
   "execution_count": 23,
   "metadata": {},
   "outputs": [
    {
     "name": "stderr",
     "output_type": "stream",
     "text": [
      "/Users/joseong-un/opt/anaconda3/lib/python3.8/site-packages/scipy/stats/stats.py:4023: PearsonRConstantInputWarning: An input array is constant; the correlation coefficient is not defined.\n",
      "  warnings.warn(PearsonRConstantInputWarning())\n"
     ]
    }
   ],
   "source": [
    "# cluster 별 knob들의 상관계수 합  \n",
    "active_result = pd.DataFrame(index = numericalActive_var_new)\n",
    "\n",
    "cluster_list = [cluster0, cluster1]\n",
    "\n",
    "for idx, cluster in enumerate(cluster_list):\n",
    "    cluster_val = []\n",
    "    for knob in numericalActive_var_new:\n",
    "        df = cal_pearsonr(subTotal_knobs_Active[knob], total_internal_Active.loc[:,cluster])\n",
    "        cluster_val.append(df['corr'].abs().mean())\n",
    "\n",
    "    active_result['cluster'+str(idx)] = cluster_val"
   ]
  },
  {
   "cell_type": "code",
   "execution_count": 24,
   "metadata": {},
   "outputs": [
    {
     "data": {
      "text/html": [
       "<div>\n",
       "<style scoped>\n",
       "    .dataframe tbody tr th:only-of-type {\n",
       "        vertical-align: middle;\n",
       "    }\n",
       "\n",
       "    .dataframe tbody tr th {\n",
       "        vertical-align: top;\n",
       "    }\n",
       "\n",
       "    .dataframe thead th {\n",
       "        text-align: right;\n",
       "    }\n",
       "</style>\n",
       "<table border=\"1\" class=\"dataframe\">\n",
       "  <thead>\n",
       "    <tr style=\"text-align: right;\">\n",
       "      <th></th>\n",
       "      <th>cluster0</th>\n",
       "      <th>cluster1</th>\n",
       "    </tr>\n",
       "  </thead>\n",
       "  <tbody>\n",
       "    <tr>\n",
       "      <th>active-defrag-threshold-lower</th>\n",
       "      <td>0.030065</td>\n",
       "      <td>0.036516</td>\n",
       "    </tr>\n",
       "    <tr>\n",
       "      <th>active-defrag-threshold-upper</th>\n",
       "      <td>0.033583</td>\n",
       "      <td>0.026840</td>\n",
       "    </tr>\n",
       "    <tr>\n",
       "      <th>active-defrag-cycle-min</th>\n",
       "      <td>0.040898</td>\n",
       "      <td>0.042833</td>\n",
       "    </tr>\n",
       "    <tr>\n",
       "      <th>active-defrag-cycle-max</th>\n",
       "      <td>0.040553</td>\n",
       "      <td>0.038432</td>\n",
       "    </tr>\n",
       "  </tbody>\n",
       "</table>\n",
       "</div>"
      ],
      "text/plain": [
       "                               cluster0  cluster1\n",
       "active-defrag-threshold-lower  0.030065  0.036516\n",
       "active-defrag-threshold-upper  0.033583  0.026840\n",
       "active-defrag-cycle-min        0.040898  0.042833\n",
       "active-defrag-cycle-max        0.040553  0.038432"
      ]
     },
     "execution_count": 24,
     "metadata": {},
     "output_type": "execute_result"
    }
   ],
   "source": [
    "active_result"
   ]
  },
  {
   "cell_type": "code",
   "execution_count": 25,
   "metadata": {},
   "outputs": [],
   "source": [
    "# knob이 어떤 클러스터에 속하는지 확인 가능 함수\n",
    "def get_cluster(df):\n",
    "    cluster_list = df.columns.tolist()  # [cluster0, cluster1]\n",
    "    for knob_index in list(df.index):\n",
    "        max_index = np.argmax(df.loc[knob_index,:].values)\n",
    "        print(knob_index+' : ', end='')\n",
    "        print(cluster_list[max_index])    "
   ]
  },
  {
   "cell_type": "code",
   "execution_count": 27,
   "metadata": {
    "scrolled": false
   },
   "outputs": [
    {
     "name": "stdout",
     "output_type": "stream",
     "text": [
      "active-defrag-threshold-lower : cluster1\n",
      "active-defrag-threshold-upper : cluster0\n",
      "active-defrag-cycle-min : cluster1\n",
      "active-defrag-cycle-max : cluster0\n"
     ]
    }
   ],
   "source": [
    "get_cluster(active_result)"
   ]
  },
  {
   "cell_type": "markdown",
   "metadata": {},
   "source": [
    "### 이상치 제거 후 상관계수"
   ]
  },
  {
   "cell_type": "code",
   "execution_count": 28,
   "metadata": {
    "scrolled": false
   },
   "outputs": [],
   "source": [
    "# extract_pvalue_knob_outlier(numericalActive_var_new, subTotal_knobs_Active,total_internal_Active)"
   ]
  },
  {
   "cell_type": "markdown",
   "metadata": {},
   "source": [
    "---"
   ]
  },
  {
   "cell_type": "markdown",
   "metadata": {},
   "source": [
    "## 전체 knob\n",
    "* subTotal_knobs_T\n",
    "* total_internal_T\n",
    "\n",
    "### numerical_var"
   ]
  },
  {
   "cell_type": "code",
   "execution_count": 29,
   "metadata": {},
   "outputs": [
    {
     "data": {
      "text/plain": [
       "['hash-max-ziplist-entries',\n",
       " 'hash-max-ziplist-value',\n",
       " 'hz',\n",
       " 'auto-aof-rewrite-percentage',\n",
       " 'auto-aof-rewrite-min-size',\n",
       " 'maxmemory',\n",
       " 'maxmemory-samples']"
      ]
     },
     "execution_count": 29,
     "metadata": {},
     "output_type": "execute_result"
    }
   ],
   "source": [
    "numerical_var"
   ]
  },
  {
   "cell_type": "code",
   "execution_count": 30,
   "metadata": {
    "scrolled": false
   },
   "outputs": [
    {
     "name": "stdout",
     "output_type": "stream",
     "text": [
      "###hash-max-ziplist-entries###\n",
      "pearson\n",
      "Empty DataFrame\n",
      "Columns: [corr, p-value]\n",
      "Index: []\n",
      "\n",
      "kendalltau\n",
      "Empty DataFrame\n",
      "Columns: [corr, p-value]\n",
      "Index: []\n",
      "\n",
      "spearman\n",
      "Empty DataFrame\n",
      "Columns: [corr, p-value]\n",
      "Index: []\n",
      "\n",
      "###hash-max-ziplist-value###\n",
      "pearson\n",
      "               corr   p-value\n",
      "maxmemory  0.069812  0.027272\n",
      "\n",
      "kendalltau\n",
      "                      corr   p-value\n",
      "maxmemory         0.046627  0.031561\n",
      "maxmemory_human   0.061224  0.004758\n",
      "allocator_active  0.048784  0.049285\n",
      "\n",
      "spearman\n",
      "                      corr   p-value\n",
      "maxmemory         0.068345  0.030689\n",
      "maxmemory_human   0.089644  0.004554\n",
      "allocator_active  0.062291  0.048923\n",
      "\n",
      "###hz###\n",
      "pearson\n",
      "                                 corr       p-value\n",
      "uptime_in_seconds            0.075935  1.631751e-02\n",
      "hz                           1.000000  0.000000e+00\n",
      "allocator_frag_ratio        -0.067155  3.372339e-02\n",
      "rdb_current_bgsave_time_sec -0.128557  4.558712e-05\n",
      "used_cpu_sys                 0.080949  1.044248e-02\n",
      "used_cpu_user                0.137638  1.254783e-05\n",
      "used_cpu_sys_children        0.073451  2.018170e-02\n",
      "allocator_allocated         -0.075003  1.768387e-02\n",
      "allocator_active            -0.104282  9.580381e-04\n",
      "allocator_frag_bytes        -0.267200  8.268420e-18\n",
      "rdb_changes_since_last_save -0.075907  1.635683e-02\n",
      "instantaneous_ops_per_sec    0.187410  2.343740e-09\n",
      "instantaneous_input_kbps     0.187418  2.339817e-09\n",
      "instantaneous_output_kbps    0.187423  2.337353e-09\n",
      "\n",
      "kendalltau\n",
      "                                 corr       p-value\n",
      "uptime_in_seconds            0.052578  2.826371e-02\n",
      "hz                           1.000000  0.000000e+00\n",
      "used_memory_rss             -0.046498  3.148662e-02\n",
      "used_memory_rss_human       -0.045976  3.669821e-02\n",
      "used_memory_peak_perc        0.071002  5.416614e-03\n",
      "used_memory_dataset_perc    -0.109101  2.058078e-05\n",
      "mem_fragmentation_ratio     -0.047026  3.109366e-02\n",
      "rdb_last_bgsave_time_sec     0.056253  3.091096e-02\n",
      "rdb_current_bgsave_time_sec -0.111532  1.993651e-05\n",
      "rdb_last_cow_size            0.081510  7.370057e-04\n",
      "used_cpu_sys                 0.076781  3.290506e-04\n",
      "used_cpu_user                0.151070  1.594370e-12\n",
      "used_cpu_sys_children        0.062360  9.999635e-03\n",
      "used_cpu_user_children       0.050118  3.819319e-02\n",
      "used_memory                  0.095194  1.722683e-04\n",
      "used_memory_human            0.094909  2.766342e-04\n",
      "used_memory_peak             0.080793  5.872965e-04\n",
      "used_memory_overhead         0.102418  6.398054e-05\n",
      "used_memory_dataset         -0.081744  1.741050e-03\n",
      "allocator_active            -0.139016  2.930843e-08\n",
      "allocator_resident          -0.066389  2.663046e-03\n",
      "allocator_frag_bytes        -0.206628  1.339295e-21\n",
      "mem_not_counted_for_evict    0.061255  1.787986e-02\n",
      "mem_aof_buffer               0.061255  1.787986e-02\n",
      "rdb_changes_since_last_save -0.052412  2.952202e-02\n",
      "instantaneous_ops_per_sec    0.110551  2.562150e-07\n",
      "instantaneous_input_kbps     0.110245  2.678552e-07\n",
      "instantaneous_output_kbps    0.110812  2.516094e-07\n",
      "\n",
      "spearman\n",
      "                                 corr       p-value\n",
      "uptime_in_seconds            0.068739  2.973662e-02\n",
      "hz                           1.000000  0.000000e+00\n",
      "used_memory_rss             -0.066924  3.434146e-02\n",
      "used_memory_rss_human       -0.064840  4.036271e-02\n",
      "used_memory_peak_perc        0.088827  4.938683e-03\n",
      "used_memory_dataset_perc    -0.133937  2.144151e-05\n",
      "mem_fragmentation_ratio     -0.065544  3.823706e-02\n",
      "rdb_last_bgsave_time_sec     0.067798  3.205335e-02\n",
      "rdb_current_bgsave_time_sec -0.134840  1.883762e-05\n",
      "rdb_last_cow_size            0.107517  6.601925e-04\n",
      "used_cpu_sys                 0.112085  3.834698e-04\n",
      "used_cpu_user                0.224988  6.095911e-13\n",
      "used_cpu_sys_children        0.080878  1.051039e-02\n",
      "used_cpu_user_children       0.066432  3.568783e-02\n",
      "used_memory                  0.118834  1.655336e-04\n",
      "used_memory_human            0.115728  2.450467e-04\n",
      "used_memory_peak             0.108863  5.637433e-04\n",
      "used_memory_overhead         0.125849  6.590702e-05\n",
      "used_memory_dataset         -0.099386  1.651068e-03\n",
      "allocator_active            -0.172043  4.386627e-08\n",
      "allocator_resident          -0.093283  3.150767e-03\n",
      "allocator_frag_bytes        -0.298195  5.522287e-22\n",
      "mem_not_counted_for_evict    0.075138  1.747941e-02\n",
      "mem_aof_buffer               0.075138  1.747941e-02\n",
      "rdb_changes_since_last_save -0.069104  2.887771e-02\n",
      "instantaneous_ops_per_sec    0.121650  1.150474e-04\n",
      "instantaneous_input_kbps     0.121438  1.182850e-04\n",
      "instantaneous_output_kbps    0.121761  1.134020e-04\n",
      "\n",
      "###auto-aof-rewrite-percentage###\n",
      "pearson\n",
      "                             corr   p-value\n",
      "used_memory_rss         -0.084700  0.007364\n",
      "used_memory_rss_human   -0.084659  0.007393\n",
      "rss_overhead_ratio      -0.086079  0.006455\n",
      "rss_overhead_bytes      -0.087288  0.005743\n",
      "mem_fragmentation_ratio -0.079695  0.011701\n",
      "mem_fragmentation_bytes -0.083478  0.008264\n",
      "\n",
      "kendalltau\n",
      "                            corr   p-value\n",
      "rss_overhead_ratio     -0.045685  0.043892\n",
      "rss_overhead_bytes     -0.043206  0.042905\n",
      "total_net_output_bytes -0.056575  0.029078\n",
      "\n",
      "spearman\n",
      "                            corr   p-value\n",
      "rss_overhead_ratio     -0.064098  0.042712\n",
      "rss_overhead_bytes     -0.064574  0.041191\n",
      "total_net_output_bytes -0.069084  0.028925\n",
      "\n",
      "###auto-aof-rewrite-min-size###\n",
      "pearson\n",
      "                             corr   p-value\n",
      "used_memory_rss          0.068480  0.030361\n",
      "used_memory_rss_human    0.068408  0.030535\n",
      "rss_overhead_ratio       0.073818  0.019564\n",
      "rss_overhead_bytes       0.074134  0.019047\n",
      "mem_fragmentation_ratio  0.063256  0.045517\n",
      "mem_fragmentation_bytes  0.067491  0.032841\n",
      "\n",
      "kendalltau\n",
      "Empty DataFrame\n",
      "Columns: [corr, p-value]\n",
      "Index: []\n",
      "\n",
      "spearman\n",
      "Empty DataFrame\n",
      "Columns: [corr, p-value]\n",
      "Index: []\n",
      "\n",
      "###maxmemory###\n",
      "pearson\n",
      "                         corr       p-value\n",
      "maxmemory            1.000000  0.000000e+00\n",
      "maxmemory_human     -0.419134  8.155232e-44\n",
      "allocator_allocated  0.062754  4.726499e-02\n",
      "\n",
      "kendalltau\n",
      "                     corr        p-value\n",
      "maxmemory        1.000000   0.000000e+00\n",
      "maxmemory_human  0.736373  1.162804e-241\n",
      "\n",
      "spearman\n",
      "                     corr        p-value\n",
      "maxmemory        1.000000   0.000000e+00\n",
      "maxmemory_human  0.623907  5.608049e-109\n",
      "\n",
      "###maxmemory-samples###\n",
      "pearson\n",
      "Empty DataFrame\n",
      "Columns: [corr, p-value]\n",
      "Index: []\n",
      "\n",
      "kendalltau\n",
      "                        corr  p-value\n",
      "rss_overhead_ratio -0.049092  0.04727\n",
      "\n",
      "spearman\n",
      "Empty DataFrame\n",
      "Columns: [corr, p-value]\n",
      "Index: []\n",
      "\n"
     ]
    }
   ],
   "source": [
    "extract_pvalue_knob(numerical_var, subTotal_knobs_T,total_internal_T)"
   ]
  },
  {
   "cell_type": "code",
   "execution_count": 31,
   "metadata": {},
   "outputs": [
    {
     "data": {
      "text/html": [
       "<div>\n",
       "<style scoped>\n",
       "    .dataframe tbody tr th:only-of-type {\n",
       "        vertical-align: middle;\n",
       "    }\n",
       "\n",
       "    .dataframe tbody tr th {\n",
       "        vertical-align: top;\n",
       "    }\n",
       "\n",
       "    .dataframe thead th {\n",
       "        text-align: right;\n",
       "    }\n",
       "</style>\n",
       "<table border=\"1\" class=\"dataframe\">\n",
       "  <thead>\n",
       "    <tr style=\"text-align: right;\">\n",
       "      <th></th>\n",
       "      <th>uptime_in_seconds</th>\n",
       "      <th>hz</th>\n",
       "      <th>lru_clock</th>\n",
       "      <th>used_memory_rss</th>\n",
       "      <th>used_memory_rss_human</th>\n",
       "      <th>used_memory_peak_perc</th>\n",
       "      <th>used_memory_dataset_perc</th>\n",
       "      <th>maxmemory</th>\n",
       "      <th>maxmemory_human</th>\n",
       "      <th>allocator_frag_ratio</th>\n",
       "      <th>...</th>\n",
       "      <th>mem_not_counted_for_evict</th>\n",
       "      <th>mem_aof_buffer</th>\n",
       "      <th>rdb_changes_since_last_save</th>\n",
       "      <th>aof_base_size</th>\n",
       "      <th>aof_buffer_length</th>\n",
       "      <th>instantaneous_ops_per_sec</th>\n",
       "      <th>total_net_output_bytes</th>\n",
       "      <th>instantaneous_input_kbps</th>\n",
       "      <th>instantaneous_output_kbps</th>\n",
       "      <th>db0:keys</th>\n",
       "    </tr>\n",
       "  </thead>\n",
       "  <tbody>\n",
       "    <tr>\n",
       "      <th>0</th>\n",
       "      <td>6</td>\n",
       "      <td>6</td>\n",
       "      <td>4246225</td>\n",
       "      <td>4259840</td>\n",
       "      <td>4.06</td>\n",
       "      <td>95.15</td>\n",
       "      <td>59.09</td>\n",
       "      <td>1048576000</td>\n",
       "      <td>1000.00</td>\n",
       "      <td>1.21</td>\n",
       "      <td>...</td>\n",
       "      <td>156</td>\n",
       "      <td>160</td>\n",
       "      <td>12744</td>\n",
       "      <td>205846</td>\n",
       "      <td>0</td>\n",
       "      <td>7530</td>\n",
       "      <td>100000</td>\n",
       "      <td>408.13</td>\n",
       "      <td>36.77</td>\n",
       "      <td>5000</td>\n",
       "    </tr>\n",
       "    <tr>\n",
       "      <th>1</th>\n",
       "      <td>6</td>\n",
       "      <td>18</td>\n",
       "      <td>4246245</td>\n",
       "      <td>4050944</td>\n",
       "      <td>3.86</td>\n",
       "      <td>95.15</td>\n",
       "      <td>59.08</td>\n",
       "      <td>1887436800</td>\n",
       "      <td>1.76</td>\n",
       "      <td>1.21</td>\n",
       "      <td>...</td>\n",
       "      <td>220</td>\n",
       "      <td>224</td>\n",
       "      <td>10000</td>\n",
       "      <td>0</td>\n",
       "      <td>0</td>\n",
       "      <td>16314</td>\n",
       "      <td>100000</td>\n",
       "      <td>884.23</td>\n",
       "      <td>79.67</td>\n",
       "      <td>5000</td>\n",
       "    </tr>\n",
       "    <tr>\n",
       "      <th>2</th>\n",
       "      <td>483</td>\n",
       "      <td>16</td>\n",
       "      <td>4246734</td>\n",
       "      <td>4104192</td>\n",
       "      <td>3.91</td>\n",
       "      <td>95.15</td>\n",
       "      <td>59.08</td>\n",
       "      <td>2621440000</td>\n",
       "      <td>2.44</td>\n",
       "      <td>1.21</td>\n",
       "      <td>...</td>\n",
       "      <td>220</td>\n",
       "      <td>224</td>\n",
       "      <td>3544</td>\n",
       "      <td>0</td>\n",
       "      <td>0</td>\n",
       "      <td>14</td>\n",
       "      <td>100000</td>\n",
       "      <td>0.79</td>\n",
       "      <td>0.08</td>\n",
       "      <td>5000</td>\n",
       "    </tr>\n",
       "    <tr>\n",
       "      <th>3</th>\n",
       "      <td>6</td>\n",
       "      <td>2</td>\n",
       "      <td>4246746</td>\n",
       "      <td>4075520</td>\n",
       "      <td>3.89</td>\n",
       "      <td>95.15</td>\n",
       "      <td>59.08</td>\n",
       "      <td>2202009600</td>\n",
       "      <td>2.05</td>\n",
       "      <td>1.21</td>\n",
       "      <td>...</td>\n",
       "      <td>220</td>\n",
       "      <td>224</td>\n",
       "      <td>10000</td>\n",
       "      <td>0</td>\n",
       "      <td>0</td>\n",
       "      <td>2495</td>\n",
       "      <td>100000</td>\n",
       "      <td>135.23</td>\n",
       "      <td>12.18</td>\n",
       "      <td>5000</td>\n",
       "    </tr>\n",
       "    <tr>\n",
       "      <th>4</th>\n",
       "      <td>483</td>\n",
       "      <td>7</td>\n",
       "      <td>4247235</td>\n",
       "      <td>3993600</td>\n",
       "      <td>3.81</td>\n",
       "      <td>95.15</td>\n",
       "      <td>59.08</td>\n",
       "      <td>1468006400</td>\n",
       "      <td>1.37</td>\n",
       "      <td>1.21</td>\n",
       "      <td>...</td>\n",
       "      <td>220</td>\n",
       "      <td>224</td>\n",
       "      <td>3785</td>\n",
       "      <td>0</td>\n",
       "      <td>0</td>\n",
       "      <td>31</td>\n",
       "      <td>100000</td>\n",
       "      <td>1.71</td>\n",
       "      <td>0.16</td>\n",
       "      <td>5000</td>\n",
       "    </tr>\n",
       "    <tr>\n",
       "      <th>...</th>\n",
       "      <td>...</td>\n",
       "      <td>...</td>\n",
       "      <td>...</td>\n",
       "      <td>...</td>\n",
       "      <td>...</td>\n",
       "      <td>...</td>\n",
       "      <td>...</td>\n",
       "      <td>...</td>\n",
       "      <td>...</td>\n",
       "      <td>...</td>\n",
       "      <td>...</td>\n",
       "      <td>...</td>\n",
       "      <td>...</td>\n",
       "      <td>...</td>\n",
       "      <td>...</td>\n",
       "      <td>...</td>\n",
       "      <td>...</td>\n",
       "      <td>...</td>\n",
       "      <td>...</td>\n",
       "      <td>...</td>\n",
       "      <td>...</td>\n",
       "    </tr>\n",
       "    <tr>\n",
       "      <th>995</th>\n",
       "      <td>6</td>\n",
       "      <td>5</td>\n",
       "      <td>4461639</td>\n",
       "      <td>4071424</td>\n",
       "      <td>3.88</td>\n",
       "      <td>95.15</td>\n",
       "      <td>59.08</td>\n",
       "      <td>1677721600</td>\n",
       "      <td>1.56</td>\n",
       "      <td>1.21</td>\n",
       "      <td>...</td>\n",
       "      <td>220</td>\n",
       "      <td>224</td>\n",
       "      <td>10000</td>\n",
       "      <td>0</td>\n",
       "      <td>0</td>\n",
       "      <td>6250</td>\n",
       "      <td>100000</td>\n",
       "      <td>338.75</td>\n",
       "      <td>30.52</td>\n",
       "      <td>5000</td>\n",
       "    </tr>\n",
       "    <tr>\n",
       "      <th>996</th>\n",
       "      <td>6</td>\n",
       "      <td>27</td>\n",
       "      <td>4461651</td>\n",
       "      <td>4079616</td>\n",
       "      <td>3.89</td>\n",
       "      <td>95.15</td>\n",
       "      <td>55.93</td>\n",
       "      <td>2516582400</td>\n",
       "      <td>2.34</td>\n",
       "      <td>1.21</td>\n",
       "      <td>...</td>\n",
       "      <td>220</td>\n",
       "      <td>224</td>\n",
       "      <td>10000</td>\n",
       "      <td>0</td>\n",
       "      <td>0</td>\n",
       "      <td>16854</td>\n",
       "      <td>100000</td>\n",
       "      <td>913.49</td>\n",
       "      <td>82.30</td>\n",
       "      <td>5000</td>\n",
       "    </tr>\n",
       "    <tr>\n",
       "      <th>997</th>\n",
       "      <td>6</td>\n",
       "      <td>24</td>\n",
       "      <td>4461664</td>\n",
       "      <td>4050944</td>\n",
       "      <td>3.86</td>\n",
       "      <td>95.15</td>\n",
       "      <td>59.09</td>\n",
       "      <td>1887436800</td>\n",
       "      <td>1.76</td>\n",
       "      <td>1.21</td>\n",
       "      <td>...</td>\n",
       "      <td>156</td>\n",
       "      <td>160</td>\n",
       "      <td>10000</td>\n",
       "      <td>0</td>\n",
       "      <td>0</td>\n",
       "      <td>15209</td>\n",
       "      <td>100000</td>\n",
       "      <td>824.34</td>\n",
       "      <td>74.26</td>\n",
       "      <td>5000</td>\n",
       "    </tr>\n",
       "    <tr>\n",
       "      <th>998</th>\n",
       "      <td>544</td>\n",
       "      <td>37</td>\n",
       "      <td>4462214</td>\n",
       "      <td>4182016</td>\n",
       "      <td>3.99</td>\n",
       "      <td>95.15</td>\n",
       "      <td>59.08</td>\n",
       "      <td>1048576000</td>\n",
       "      <td>1000.00</td>\n",
       "      <td>1.21</td>\n",
       "      <td>...</td>\n",
       "      <td>220</td>\n",
       "      <td>224</td>\n",
       "      <td>4376</td>\n",
       "      <td>0</td>\n",
       "      <td>0</td>\n",
       "      <td>18</td>\n",
       "      <td>100000</td>\n",
       "      <td>1.02</td>\n",
       "      <td>0.09</td>\n",
       "      <td>5000</td>\n",
       "    </tr>\n",
       "    <tr>\n",
       "      <th>999</th>\n",
       "      <td>6</td>\n",
       "      <td>27</td>\n",
       "      <td>4462226</td>\n",
       "      <td>4165632</td>\n",
       "      <td>3.97</td>\n",
       "      <td>95.15</td>\n",
       "      <td>59.09</td>\n",
       "      <td>1572864000</td>\n",
       "      <td>1.46</td>\n",
       "      <td>1.21</td>\n",
       "      <td>...</td>\n",
       "      <td>156</td>\n",
       "      <td>160</td>\n",
       "      <td>10000</td>\n",
       "      <td>0</td>\n",
       "      <td>0</td>\n",
       "      <td>16851</td>\n",
       "      <td>100000</td>\n",
       "      <td>913.34</td>\n",
       "      <td>82.28</td>\n",
       "      <td>5000</td>\n",
       "    </tr>\n",
       "  </tbody>\n",
       "</table>\n",
       "<p>1000 rows × 47 columns</p>\n",
       "</div>"
      ],
      "text/plain": [
       "     uptime_in_seconds  hz  lru_clock  used_memory_rss  used_memory_rss_human  \\\n",
       "0                    6   6    4246225          4259840                   4.06   \n",
       "1                    6  18    4246245          4050944                   3.86   \n",
       "2                  483  16    4246734          4104192                   3.91   \n",
       "3                    6   2    4246746          4075520                   3.89   \n",
       "4                  483   7    4247235          3993600                   3.81   \n",
       "..                 ...  ..        ...              ...                    ...   \n",
       "995                  6   5    4461639          4071424                   3.88   \n",
       "996                  6  27    4461651          4079616                   3.89   \n",
       "997                  6  24    4461664          4050944                   3.86   \n",
       "998                544  37    4462214          4182016                   3.99   \n",
       "999                  6  27    4462226          4165632                   3.97   \n",
       "\n",
       "     used_memory_peak_perc  used_memory_dataset_perc   maxmemory  \\\n",
       "0                    95.15                     59.09  1048576000   \n",
       "1                    95.15                     59.08  1887436800   \n",
       "2                    95.15                     59.08  2621440000   \n",
       "3                    95.15                     59.08  2202009600   \n",
       "4                    95.15                     59.08  1468006400   \n",
       "..                     ...                       ...         ...   \n",
       "995                  95.15                     59.08  1677721600   \n",
       "996                  95.15                     55.93  2516582400   \n",
       "997                  95.15                     59.09  1887436800   \n",
       "998                  95.15                     59.08  1048576000   \n",
       "999                  95.15                     59.09  1572864000   \n",
       "\n",
       "     maxmemory_human  allocator_frag_ratio  ...  mem_not_counted_for_evict  \\\n",
       "0            1000.00                  1.21  ...                        156   \n",
       "1               1.76                  1.21  ...                        220   \n",
       "2               2.44                  1.21  ...                        220   \n",
       "3               2.05                  1.21  ...                        220   \n",
       "4               1.37                  1.21  ...                        220   \n",
       "..               ...                   ...  ...                        ...   \n",
       "995             1.56                  1.21  ...                        220   \n",
       "996             2.34                  1.21  ...                        220   \n",
       "997             1.76                  1.21  ...                        156   \n",
       "998          1000.00                  1.21  ...                        220   \n",
       "999             1.46                  1.21  ...                        156   \n",
       "\n",
       "     mem_aof_buffer  rdb_changes_since_last_save  aof_base_size  \\\n",
       "0               160                        12744         205846   \n",
       "1               224                        10000              0   \n",
       "2               224                         3544              0   \n",
       "3               224                        10000              0   \n",
       "4               224                         3785              0   \n",
       "..              ...                          ...            ...   \n",
       "995             224                        10000              0   \n",
       "996             224                        10000              0   \n",
       "997             160                        10000              0   \n",
       "998             224                         4376              0   \n",
       "999             160                        10000              0   \n",
       "\n",
       "     aof_buffer_length  instantaneous_ops_per_sec  total_net_output_bytes  \\\n",
       "0                    0                       7530                  100000   \n",
       "1                    0                      16314                  100000   \n",
       "2                    0                         14                  100000   \n",
       "3                    0                       2495                  100000   \n",
       "4                    0                         31                  100000   \n",
       "..                 ...                        ...                     ...   \n",
       "995                  0                       6250                  100000   \n",
       "996                  0                      16854                  100000   \n",
       "997                  0                      15209                  100000   \n",
       "998                  0                         18                  100000   \n",
       "999                  0                      16851                  100000   \n",
       "\n",
       "     instantaneous_input_kbps  instantaneous_output_kbps  db0:keys  \n",
       "0                      408.13                      36.77      5000  \n",
       "1                      884.23                      79.67      5000  \n",
       "2                        0.79                       0.08      5000  \n",
       "3                      135.23                      12.18      5000  \n",
       "4                        1.71                       0.16      5000  \n",
       "..                        ...                        ...       ...  \n",
       "995                    338.75                      30.52      5000  \n",
       "996                    913.49                      82.30      5000  \n",
       "997                    824.34                      74.26      5000  \n",
       "998                      1.02                       0.09      5000  \n",
       "999                    913.34                      82.28      5000  \n",
       "\n",
       "[1000 rows x 47 columns]"
      ]
     },
     "execution_count": 31,
     "metadata": {},
     "output_type": "execute_result"
    }
   ],
   "source": [
    "subTotal_knobs_T  # knobs에서 aof 관련 제거한 것\n",
    "total_internal_T  # 전체"
   ]
  },
  {
   "cell_type": "code",
   "execution_count": 32,
   "metadata": {},
   "outputs": [],
   "source": [
    "# cluster 별 knob들의 상관계수 합  \n",
    "numerical_result = pd.DataFrame(index = numerical_var)\n",
    "\n",
    "cluster_list = [cluster0, cluster1]\n",
    "\n",
    "for idx, cluster in enumerate(cluster_list):\n",
    "    cluster_val = []\n",
    "    for knob in numerical_var:\n",
    "        df = cal_spearmanr(subTotal_knobs_T[knob], total_internal_T.loc[:,cluster])\n",
    "        cluster_val.append(df['corr'].abs().mean())\n",
    "\n",
    "    numerical_result['cluster'+str(idx)] = cluster_val"
   ]
  },
  {
   "cell_type": "code",
   "execution_count": 33,
   "metadata": {},
   "outputs": [
    {
     "data": {
      "text/html": [
       "<div>\n",
       "<style scoped>\n",
       "    .dataframe tbody tr th:only-of-type {\n",
       "        vertical-align: middle;\n",
       "    }\n",
       "\n",
       "    .dataframe tbody tr th {\n",
       "        vertical-align: top;\n",
       "    }\n",
       "\n",
       "    .dataframe thead th {\n",
       "        text-align: right;\n",
       "    }\n",
       "</style>\n",
       "<table border=\"1\" class=\"dataframe\">\n",
       "  <thead>\n",
       "    <tr style=\"text-align: right;\">\n",
       "      <th></th>\n",
       "      <th>cluster0</th>\n",
       "      <th>cluster1</th>\n",
       "    </tr>\n",
       "  </thead>\n",
       "  <tbody>\n",
       "    <tr>\n",
       "      <th>hash-max-ziplist-entries</th>\n",
       "      <td>0.020878</td>\n",
       "      <td>0.021634</td>\n",
       "    </tr>\n",
       "    <tr>\n",
       "      <th>hash-max-ziplist-value</th>\n",
       "      <td>0.023193</td>\n",
       "      <td>0.026211</td>\n",
       "    </tr>\n",
       "    <tr>\n",
       "      <th>hz</th>\n",
       "      <td>0.104122</td>\n",
       "      <td>0.092831</td>\n",
       "    </tr>\n",
       "    <tr>\n",
       "      <th>auto-aof-rewrite-percentage</th>\n",
       "      <td>0.027117</td>\n",
       "      <td>0.034750</td>\n",
       "    </tr>\n",
       "    <tr>\n",
       "      <th>auto-aof-rewrite-min-size</th>\n",
       "      <td>0.026535</td>\n",
       "      <td>0.026542</td>\n",
       "    </tr>\n",
       "    <tr>\n",
       "      <th>maxmemory</th>\n",
       "      <td>0.079543</td>\n",
       "      <td>0.023752</td>\n",
       "    </tr>\n",
       "    <tr>\n",
       "      <th>maxmemory-samples</th>\n",
       "      <td>0.031796</td>\n",
       "      <td>0.026476</td>\n",
       "    </tr>\n",
       "  </tbody>\n",
       "</table>\n",
       "</div>"
      ],
      "text/plain": [
       "                             cluster0  cluster1\n",
       "hash-max-ziplist-entries     0.020878  0.021634\n",
       "hash-max-ziplist-value       0.023193  0.026211\n",
       "hz                           0.104122  0.092831\n",
       "auto-aof-rewrite-percentage  0.027117  0.034750\n",
       "auto-aof-rewrite-min-size    0.026535  0.026542\n",
       "maxmemory                    0.079543  0.023752\n",
       "maxmemory-samples            0.031796  0.026476"
      ]
     },
     "execution_count": 33,
     "metadata": {},
     "output_type": "execute_result"
    }
   ],
   "source": [
    "numerical_result"
   ]
  },
  {
   "cell_type": "code",
   "execution_count": 35,
   "metadata": {},
   "outputs": [
    {
     "name": "stdout",
     "output_type": "stream",
     "text": [
      "hash-max-ziplist-entries : cluster1\n",
      "hash-max-ziplist-value : cluster1\n",
      "hz : cluster0\n",
      "auto-aof-rewrite-percentage : cluster1\n",
      "auto-aof-rewrite-min-size : cluster1\n",
      "maxmemory : cluster0\n",
      "maxmemory-samples : cluster0\n"
     ]
    }
   ],
   "source": [
    "get_cluster(numerical_result)"
   ]
  },
  {
   "cell_type": "code",
   "execution_count": 36,
   "metadata": {},
   "outputs": [],
   "source": [
    "# numerical_result"
   ]
  },
  {
   "cell_type": "code",
   "execution_count": 37,
   "metadata": {
    "scrolled": false
   },
   "outputs": [],
   "source": [
    "# extract_pvalue_knob_outlier(numerical_var, subTotal_knobs_T,total_internal_T)"
   ]
  },
  {
   "cell_type": "markdown",
   "metadata": {},
   "source": [
    "---"
   ]
  },
  {
   "cell_type": "markdown",
   "metadata": {},
   "source": [
    "## Activedefrag 없는 knob들\n",
    "* subTotal_knobs_Active\n",
    "* total_internal_Active\n",
    "active인거는 신경 안써도 된다.\n",
    "### numericalActive_var"
   ]
  },
  {
   "cell_type": "code",
   "execution_count": 38,
   "metadata": {},
   "outputs": [],
   "source": [
    "# numericalActive_var"
   ]
  },
  {
   "cell_type": "code",
   "execution_count": 39,
   "metadata": {},
   "outputs": [],
   "source": [
    "# extract_pvalue_knob(numericalActive_var, subTotal_knobs_Active,total_internal_Active)"
   ]
  },
  {
   "cell_type": "markdown",
   "metadata": {},
   "source": [
    "## other knob\n",
    "* subTotal_knobs_NoActive\n",
    "* total_internal_NoActive\n",
    "active인거는 신경 안써도 된다.\n",
    "### numericalNoActive_var"
   ]
  },
  {
   "cell_type": "code",
   "execution_count": 40,
   "metadata": {},
   "outputs": [],
   "source": [
    "# numericalNoActive_var"
   ]
  },
  {
   "cell_type": "code",
   "execution_count": 41,
   "metadata": {},
   "outputs": [],
   "source": [
    "# extract_pvalue_knob(numericalNoActive_var, subTotal_knobs_NoActive,total_internal_NoActive)"
   ]
  },
  {
   "cell_type": "markdown",
   "metadata": {},
   "source": [
    "---"
   ]
  },
  {
   "cell_type": "markdown",
   "metadata": {},
   "source": [
    "## pointbiserialr 분석"
   ]
  },
  {
   "cell_type": "code",
   "execution_count": 42,
   "metadata": {},
   "outputs": [],
   "source": [
    "from scipy.stats import pointbiserialr\n",
    "# pointbiserialr\n",
    "## yes,no 데이터와 연속형 데이터 상관분석\n",
    "def cal_pointbiserialr(knobs, internal_df):\n",
    "    df = pd.DataFrame(columns = ['corr', 'p-value'])\n",
    "    for internal in internal_df:\n",
    "        result = pointbiserialr(knobs, internal_df[internal])\n",
    "        df.loc[internal] = [result[0], result[1]]\n",
    "    return df\n",
    "\n",
    "# knob 하나별로 3가지 상관분석 수행\n",
    "def extract_pvalue(knobs, internal_df):\n",
    "    print('pointbierialr')\n",
    "    df = cal_pointbiserialr(knobs, internal_df)\n",
    "    is_pvalue = df['p-value'] <= 0.05\n",
    "    print(df[is_pvalue])\n",
    "    print()\n",
    "\n",
    "    \n",
    "# knob 리스트 각각 별로 extract_pvalue 수행\n",
    "def extract_pvalue_knob_point(knob_list, subTotal_knobs, total_internal):\n",
    "    for knob in knob_list:\n",
    "        print('###{}###'.format(knob))\n",
    "        extract_pvalue(subTotal_knobs[knob], total_internal)\n",
    "\n",
    "\n",
    "# 이상치 제거 버전\n",
    "def cal_pointbiserialr_outlier(knobs, internal_df):\n",
    "\n",
    "    for internal in internal_df:\n",
    "        outlier_idx = get_outlier(df=internal_df, column=internal, weight=1.5)  # 이상치 인덱스\n",
    "        \n",
    "        internal_df_no_outlier = internal_df[internal].drop(outlier_idx, axis=0)\n",
    "        knobs_no_outlier = knobs.drop(outlier_idx, axis=0)\n",
    "\n",
    "        result = pointbiserialr(knobs_no_outlier, internal_df_no_outlier)\n",
    "        if result[1] <= 0.05:\n",
    "            print(internal)\n",
    "            print(result[0])\n",
    "\n",
    "# knob 하나별로 3가지 상관분석 수행\n",
    "def extract_pvalue_outlier(knobs, internal_df):\n",
    "    print('pointbierialr')\n",
    "    cal_pointbiserialr(knobs, internal_df)\n",
    "    print()\n",
    "\n",
    "# knob 리스트 각각 별로 extract_pvalue 수행\n",
    "def extract_pvalue_knob_point_outlier(knob_list, subTotal_knobs, total_internal):\n",
    "    for knob in knob_list:\n",
    "        print('###{}###'.format(knob))\n",
    "        extract_pvalue(subTotal_knobs[knob], total_internal)\n"
   ]
  },
  {
   "cell_type": "markdown",
   "metadata": {},
   "source": [
    "## other knob(activedefrag 제외)\n",
    "* subTotal_knobs_T\n",
    "* total_internal_T\n",
    "\n",
    "### boolean_var"
   ]
  },
  {
   "cell_type": "code",
   "execution_count": 43,
   "metadata": {},
   "outputs": [
    {
     "data": {
      "text/plain": [
       "['activerehashing',\n",
       " 'dynamic-hz',\n",
       " 'no-appendfsync-on-rewrite',\n",
       " 'aof-rewrite-incremental-fsync',\n",
       " 'aof-use-rdb-preamble',\n",
       " 'lazyfree-lazy-eviction',\n",
       " 'lazyfree-lazy-expire',\n",
       " 'lazyfree-lazy-server-del']"
      ]
     },
     "execution_count": 43,
     "metadata": {},
     "output_type": "execute_result"
    }
   ],
   "source": [
    "boolean_var"
   ]
  },
  {
   "cell_type": "code",
   "execution_count": 44,
   "metadata": {},
   "outputs": [],
   "source": [
    "#  yes, no -> 1, 0으로 변경\n",
    "subTotal_knobs_T_bool = subTotal_knobs_T[boolean_var]  ## boolean 변수 df 추출\n",
    "subTotal_knobs_T_point = subTotal_knobs_T_bool.replace(['yes', 'no'], [1,0])  ## 1, 0 변경"
   ]
  },
  {
   "cell_type": "code",
   "execution_count": 45,
   "metadata": {},
   "outputs": [
    {
     "name": "stdout",
     "output_type": "stream",
     "text": [
      "###activerehashing###\n",
      "pointbierialr\n",
      "                                 corr  p-value\n",
      "rdb_current_bgsave_time_sec -0.081922  0.00955\n",
      "\n",
      "###dynamic-hz###\n",
      "pointbierialr\n",
      "                               corr   p-value\n",
      "maxmemory                 -0.083378  0.008341\n",
      "allocator_rss_ratio        0.064300  0.042062\n",
      "allocator_rss_bytes        0.066754  0.034802\n",
      "instantaneous_ops_per_sec  0.089498  0.004621\n",
      "instantaneous_input_kbps   0.089497  0.004622\n",
      "instantaneous_output_kbps  0.089499  0.004621\n",
      "\n",
      "###no-appendfsync-on-rewrite###\n",
      "pointbierialr\n",
      "                                 corr       p-value\n",
      "uptime_in_seconds           -0.161148  3.005725e-07\n",
      "rdb_last_bgsave_time_sec    -0.107870  6.334889e-04\n",
      "rdb_current_bgsave_time_sec  0.078551  1.296443e-02\n",
      "used_cpu_sys                -0.158845  4.442810e-07\n",
      "used_cpu_user               -0.148853  2.271572e-06\n",
      "rdb_changes_since_last_save  0.090925  4.006248e-03\n",
      "instantaneous_ops_per_sec    0.100164  1.516600e-03\n",
      "instantaneous_input_kbps     0.100166  1.516279e-03\n",
      "instantaneous_output_kbps    0.100163  1.516735e-03\n",
      "\n",
      "###aof-rewrite-incremental-fsync###\n",
      "pointbierialr\n",
      "                           corr   p-value\n",
      "used_memory_peak_perc -0.062641  0.047663\n",
      "\n",
      "###aof-use-rdb-preamble###\n",
      "pointbierialr\n",
      "                        corr   p-value\n",
      "lru_clock           0.069365  0.028277\n",
      "rdb_last_save_time  0.069364  0.028281\n",
      "\n",
      "###lazyfree-lazy-eviction###\n",
      "pointbierialr\n",
      "        corr   p-value\n",
      "hz  0.075889  0.016382\n",
      "\n",
      "###lazyfree-lazy-expire###\n",
      "pointbierialr\n",
      "Empty DataFrame\n",
      "Columns: [corr, p-value]\n",
      "Index: []\n",
      "\n",
      "###lazyfree-lazy-server-del###\n",
      "pointbierialr\n",
      "                      corr   p-value\n",
      "aof_current_size -0.075094  0.017546\n",
      "aof_base_size    -0.066147  0.036489\n",
      "\n"
     ]
    }
   ],
   "source": [
    "extract_pvalue_knob_point(boolean_var, subTotal_knobs_T_point, total_internal_T)"
   ]
  },
  {
   "cell_type": "code",
   "execution_count": 46,
   "metadata": {},
   "outputs": [],
   "source": [
    "# cluster 별 knob들의 상관계수 합\n",
    "bool_result = pd.DataFrame(index = boolean_var)\n",
    "\n",
    "cluster_list = [cluster0, cluster1]\n",
    "\n",
    "for idx, cluster in enumerate(cluster_list):\n",
    "    cluster_val = []\n",
    "    for knob in boolean_var:\n",
    "        df = cal_pointbiserialr(subTotal_knobs_T_point[knob], total_internal_T.loc[:,cluster])\n",
    "        cluster_val.append(df['corr'].abs().mean())\n",
    "\n",
    "    bool_result['cluster'+str(idx)] = cluster_val"
   ]
  },
  {
   "cell_type": "code",
   "execution_count": 47,
   "metadata": {},
   "outputs": [
    {
     "data": {
      "text/html": [
       "<div>\n",
       "<style scoped>\n",
       "    .dataframe tbody tr th:only-of-type {\n",
       "        vertical-align: middle;\n",
       "    }\n",
       "\n",
       "    .dataframe tbody tr th {\n",
       "        vertical-align: top;\n",
       "    }\n",
       "\n",
       "    .dataframe thead th {\n",
       "        text-align: right;\n",
       "    }\n",
       "</style>\n",
       "<table border=\"1\" class=\"dataframe\">\n",
       "  <thead>\n",
       "    <tr style=\"text-align: right;\">\n",
       "      <th></th>\n",
       "      <th>cluster0</th>\n",
       "      <th>cluster1</th>\n",
       "    </tr>\n",
       "  </thead>\n",
       "  <tbody>\n",
       "    <tr>\n",
       "      <th>activerehashing</th>\n",
       "      <td>0.020390</td>\n",
       "      <td>0.026123</td>\n",
       "    </tr>\n",
       "    <tr>\n",
       "      <th>dynamic-hz</th>\n",
       "      <td>0.029571</td>\n",
       "      <td>0.037217</td>\n",
       "    </tr>\n",
       "    <tr>\n",
       "      <th>no-appendfsync-on-rewrite</th>\n",
       "      <td>0.042940</td>\n",
       "      <td>0.037318</td>\n",
       "    </tr>\n",
       "    <tr>\n",
       "      <th>aof-rewrite-incremental-fsync</th>\n",
       "      <td>0.026942</td>\n",
       "      <td>0.028639</td>\n",
       "    </tr>\n",
       "    <tr>\n",
       "      <th>aof-use-rdb-preamble</th>\n",
       "      <td>0.023416</td>\n",
       "      <td>0.028426</td>\n",
       "    </tr>\n",
       "    <tr>\n",
       "      <th>lazyfree-lazy-eviction</th>\n",
       "      <td>0.022655</td>\n",
       "      <td>0.032319</td>\n",
       "    </tr>\n",
       "    <tr>\n",
       "      <th>lazyfree-lazy-expire</th>\n",
       "      <td>0.026801</td>\n",
       "      <td>0.020382</td>\n",
       "    </tr>\n",
       "    <tr>\n",
       "      <th>lazyfree-lazy-server-del</th>\n",
       "      <td>0.021664</td>\n",
       "      <td>0.022184</td>\n",
       "    </tr>\n",
       "  </tbody>\n",
       "</table>\n",
       "</div>"
      ],
      "text/plain": [
       "                               cluster0  cluster1\n",
       "activerehashing                0.020390  0.026123\n",
       "dynamic-hz                     0.029571  0.037217\n",
       "no-appendfsync-on-rewrite      0.042940  0.037318\n",
       "aof-rewrite-incremental-fsync  0.026942  0.028639\n",
       "aof-use-rdb-preamble           0.023416  0.028426\n",
       "lazyfree-lazy-eviction         0.022655  0.032319\n",
       "lazyfree-lazy-expire           0.026801  0.020382\n",
       "lazyfree-lazy-server-del       0.021664  0.022184"
      ]
     },
     "execution_count": 47,
     "metadata": {},
     "output_type": "execute_result"
    }
   ],
   "source": [
    "bool_result"
   ]
  },
  {
   "cell_type": "code",
   "execution_count": 48,
   "metadata": {},
   "outputs": [
    {
     "name": "stdout",
     "output_type": "stream",
     "text": [
      "activerehashing : cluster1\n",
      "dynamic-hz : cluster1\n",
      "no-appendfsync-on-rewrite : cluster0\n",
      "aof-rewrite-incremental-fsync : cluster1\n",
      "aof-use-rdb-preamble : cluster1\n",
      "lazyfree-lazy-eviction : cluster1\n",
      "lazyfree-lazy-expire : cluster0\n",
      "lazyfree-lazy-server-del : cluster1\n"
     ]
    }
   ],
   "source": [
    "get_cluster(bool_result)"
   ]
  },
  {
   "cell_type": "code",
   "execution_count": 49,
   "metadata": {},
   "outputs": [],
   "source": [
    "# #이상치 제거\n",
    "# extract_pvalue_knob_point_outlier(boolean_var, subTotal_knobs_T_point, total_internal_T)"
   ]
  },
  {
   "cell_type": "markdown",
   "metadata": {},
   "source": [
    "---"
   ]
  },
  {
   "cell_type": "code",
   "execution_count": 53,
   "metadata": {},
   "outputs": [],
   "source": [
    "# extract_pvalue_knob(numerical_var, subTotal_knobs_T,total_internal_T)\n",
    "# extract_pvalue_knob(numericalActive_var_new, subTotal_knobs_Active,total_internal_Active)\n",
    "# extract_pvalue_knob_point(boolean_var, subTotal_knobs_T_point, total_internal_T)"
   ]
  }
 ],
 "metadata": {
  "kernelspec": {
   "display_name": "Python 3",
   "language": "python",
   "name": "python3"
  },
  "language_info": {
   "codemirror_mode": {
    "name": "ipython",
    "version": 3
   },
   "file_extension": ".py",
   "mimetype": "text/x-python",
   "name": "python",
   "nbconvert_exporter": "python",
   "pygments_lexer": "ipython3",
   "version": "3.8.5"
  }
 },
 "nbformat": 4,
 "nbformat_minor": 4
}
