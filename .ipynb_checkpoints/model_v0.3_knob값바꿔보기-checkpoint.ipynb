{
 "cells": [
  {
   "cell_type": "markdown",
   "metadata": {},
   "source": [
    "# model"
   ]
  },
  {
   "cell_type": "code",
   "execution_count": 142,
   "metadata": {},
   "outputs": [],
   "source": [
    "import pandas as pd\n",
    "import numpy as np\n",
    "from sklearn.datasets import load_boston\n",
    "import xgboost\n",
    "import matplotlib.pyplot as plt\n",
    "from sklearn.model_selection import train_test_split\n",
    "from sklearn.metrics import explained_variance_score\n",
    "from lightgbm import LGBMRegressor, plot_importance\n",
    "from sklearn.metrics import roc_auc_score"
   ]
  },
  {
   "cell_type": "code",
   "execution_count": 143,
   "metadata": {},
   "outputs": [],
   "source": [
    "# knob 종류 및 바운드\n",
    "[305, 722, 5, 12, 9163, 'no', 'yes']\n",
    "knobs_rdb = {\n",
    "    \n",
    "    \"hash-max-ziplist-entries\":     (256, 751), \n",
    "#     \"hash-max-ziplist-value\": (16, 257),\n",
    "#     \"activerehashing\": ('yes', 'no'),  ##yes\n",
    "#     \"hz\": (1, 41),\n",
    "#     \"dynamic-hz\": ('yes', 'no'),\n",
    "\n",
    "    \"save0_0\": (700,1100),\n",
    "    \"save0_1\": (1,9),\n",
    "#     \"save1_0\": (100,500),\n",
    "    \"save1_1\": (10,100),\n",
    "    \"save2_0\": (30,90),\n",
    "    \"save2_1\": (8000,12000),\n",
    "\n",
    "    \"rdbcompression\": ('yes', 'no'), ##yes\n",
    "#     \"rdbchecksum\": ('yes', 'no'),    ##yes\n",
    "    \"rdb-save-incremental-fsync\": ('yes', 'no'),   ## yes\n",
    "\n",
    "#     \"activedefrag\": ('yes','no'),  \n",
    "#     \"active-defrag-threshold-lower\": (1, 31),\n",
    "#     \"active-defrag-threshold-upper\": (70, 101),\n",
    "#     \"active-defrag-cycle-min\": (1, 31),\n",
    "    \"active-defrag-cycle-max\": (70, 91),\n",
    "    \n",
    "    \"maxmemory\": (1000, 2900),   ##\"volatile-lru\"\n",
    "#     \"maxmemory-policy\":     (\"volatile-lru\", \"allkeys-lru\", \"volatile-lfu\", \"allkeys-lfu\", \n",
    "#                              \"volatile-random\",\"allkeys-random\", \"volatile-ttl\", \"noeviction\"),\n",
    "    \"maxmemory-samples\": (3, 7),\n",
    "    \n",
    "#     \"lazyfree-lazy-eviction\": ('yes', 'no'),\n",
    "    \"lazyfree-lazy-expire\": ('yes', 'no'),\n",
    "#     \"lazyfree-lazy-server-del\": ('yes', 'no')\n",
    "}\n",
    "\n",
    "knobs_list = list(knobs_rdb.keys())\n",
    "knobs_bound = list(knobs_rdb.values())"
   ]
  },
  {
   "cell_type": "markdown",
   "metadata": {},
   "source": [
    "## 데이터 전처리\n",
    "* 이상치 파악\n",
    "* test, train 데이터 잘 나뉘어졌는지 확인"
   ]
  },
  {
   "cell_type": "code",
   "execution_count": 144,
   "metadata": {},
   "outputs": [],
   "source": [
    "# config(knob) data\n",
    "config_df = pd.read_csv(\"./data/result_config0.csv\", sep=',')\n",
    "\n",
    "# external(throughput) data\n",
    "external_df = pd.read_csv(\"./data/external_metrics0.csv\", sep=',')"
   ]
  },
  {
   "cell_type": "code",
   "execution_count": 145,
   "metadata": {},
   "outputs": [],
   "source": [
    "# config(knog), external(throughput) 데이터 하나의 프레임으로 결합\n",
    "dataset = config_df\n",
    "dataset['throughput'] = external_df['Gets_KB/sec']"
   ]
  },
  {
   "cell_type": "code",
   "execution_count": 146,
   "metadata": {},
   "outputs": [
    {
     "data": {
      "text/html": [
       "<div>\n",
       "<style scoped>\n",
       "    .dataframe tbody tr th:only-of-type {\n",
       "        vertical-align: middle;\n",
       "    }\n",
       "\n",
       "    .dataframe tbody tr th {\n",
       "        vertical-align: top;\n",
       "    }\n",
       "\n",
       "    .dataframe thead th {\n",
       "        text-align: right;\n",
       "    }\n",
       "</style>\n",
       "<table border=\"1\" class=\"dataframe\">\n",
       "  <thead>\n",
       "    <tr style=\"text-align: right;\">\n",
       "      <th></th>\n",
       "      <th>appendonly</th>\n",
       "      <th>appendfsync</th>\n",
       "      <th>auto-aof-rewrite-percentage</th>\n",
       "      <th>auto-aof-rewrite-min-size</th>\n",
       "      <th>no-appendfsync-on-rewrite</th>\n",
       "      <th>aof-rewrite-incremental-fsync</th>\n",
       "      <th>aof-use-rdb-preamble</th>\n",
       "      <th>save0_0</th>\n",
       "      <th>save0_1</th>\n",
       "      <th>save1_0</th>\n",
       "      <th>...</th>\n",
       "      <th>maxmemory-samples</th>\n",
       "      <th>lazyfree-lazy-eviction</th>\n",
       "      <th>lazyfree-lazy-expire</th>\n",
       "      <th>lazyfree-lazy-server-del</th>\n",
       "      <th>hash-max-ziplist-entries</th>\n",
       "      <th>hash-max-ziplist-value</th>\n",
       "      <th>activerehashing</th>\n",
       "      <th>hz</th>\n",
       "      <th>dynamic-hz</th>\n",
       "      <th>throughput</th>\n",
       "    </tr>\n",
       "  </thead>\n",
       "  <tbody>\n",
       "    <tr>\n",
       "      <th>0</th>\n",
       "      <td>NaN</td>\n",
       "      <td>NaN</td>\n",
       "      <td>NaN</td>\n",
       "      <td>NaN</td>\n",
       "      <td>NaN</td>\n",
       "      <td>NaN</td>\n",
       "      <td>NaN</td>\n",
       "      <td>805</td>\n",
       "      <td>5</td>\n",
       "      <td>178</td>\n",
       "      <td>...</td>\n",
       "      <td>5</td>\n",
       "      <td>no</td>\n",
       "      <td>yes</td>\n",
       "      <td>yes</td>\n",
       "      <td>258</td>\n",
       "      <td>253</td>\n",
       "      <td>no</td>\n",
       "      <td>7</td>\n",
       "      <td>yes</td>\n",
       "      <td>61645.41</td>\n",
       "    </tr>\n",
       "    <tr>\n",
       "      <th>1</th>\n",
       "      <td>NaN</td>\n",
       "      <td>NaN</td>\n",
       "      <td>NaN</td>\n",
       "      <td>NaN</td>\n",
       "      <td>NaN</td>\n",
       "      <td>NaN</td>\n",
       "      <td>NaN</td>\n",
       "      <td>1097</td>\n",
       "      <td>3</td>\n",
       "      <td>499</td>\n",
       "      <td>...</td>\n",
       "      <td>3</td>\n",
       "      <td>yes</td>\n",
       "      <td>yes</td>\n",
       "      <td>yes</td>\n",
       "      <td>360</td>\n",
       "      <td>226</td>\n",
       "      <td>yes</td>\n",
       "      <td>32</td>\n",
       "      <td>yes</td>\n",
       "      <td>63270.32</td>\n",
       "    </tr>\n",
       "    <tr>\n",
       "      <th>2</th>\n",
       "      <td>NaN</td>\n",
       "      <td>NaN</td>\n",
       "      <td>NaN</td>\n",
       "      <td>NaN</td>\n",
       "      <td>NaN</td>\n",
       "      <td>NaN</td>\n",
       "      <td>NaN</td>\n",
       "      <td>1018</td>\n",
       "      <td>2</td>\n",
       "      <td>497</td>\n",
       "      <td>...</td>\n",
       "      <td>3</td>\n",
       "      <td>yes</td>\n",
       "      <td>yes</td>\n",
       "      <td>yes</td>\n",
       "      <td>364</td>\n",
       "      <td>136</td>\n",
       "      <td>yes</td>\n",
       "      <td>40</td>\n",
       "      <td>no</td>\n",
       "      <td>63602.49</td>\n",
       "    </tr>\n",
       "  </tbody>\n",
       "</table>\n",
       "<p>3 rows × 33 columns</p>\n",
       "</div>"
      ],
      "text/plain": [
       "   appendonly  appendfsync  auto-aof-rewrite-percentage  \\\n",
       "0         NaN          NaN                          NaN   \n",
       "1         NaN          NaN                          NaN   \n",
       "2         NaN          NaN                          NaN   \n",
       "\n",
       "   auto-aof-rewrite-min-size  no-appendfsync-on-rewrite  \\\n",
       "0                        NaN                        NaN   \n",
       "1                        NaN                        NaN   \n",
       "2                        NaN                        NaN   \n",
       "\n",
       "   aof-rewrite-incremental-fsync  aof-use-rdb-preamble  save0_0  save0_1  \\\n",
       "0                            NaN                   NaN      805        5   \n",
       "1                            NaN                   NaN     1097        3   \n",
       "2                            NaN                   NaN     1018        2   \n",
       "\n",
       "   save1_0  ...  maxmemory-samples  lazyfree-lazy-eviction  \\\n",
       "0      178  ...                  5                      no   \n",
       "1      499  ...                  3                     yes   \n",
       "2      497  ...                  3                     yes   \n",
       "\n",
       "   lazyfree-lazy-expire lazyfree-lazy-server-del hash-max-ziplist-entries  \\\n",
       "0                   yes                      yes                      258   \n",
       "1                   yes                      yes                      360   \n",
       "2                   yes                      yes                      364   \n",
       "\n",
       "  hash-max-ziplist-value activerehashing  hz  dynamic-hz  throughput  \n",
       "0                    253              no   7         yes    61645.41  \n",
       "1                    226             yes  32         yes    63270.32  \n",
       "2                    136             yes  40          no    63602.49  \n",
       "\n",
       "[3 rows x 33 columns]"
      ]
     },
     "execution_count": 146,
     "metadata": {},
     "output_type": "execute_result"
    }
   ],
   "source": [
    "dataset.head(3)"
   ]
  },
  {
   "cell_type": "code",
   "execution_count": 147,
   "metadata": {},
   "outputs": [],
   "source": [
    "# 결측치 처리 \n",
    "dataset_nan = dataset.copy()\n",
    "dataset = dataset.fillna(value = 0)  # 전부 0으로 채움"
   ]
  },
  {
   "cell_type": "code",
   "execution_count": 148,
   "metadata": {},
   "outputs": [],
   "source": [
    "# maxmemory knob 단위(mb) 처리\n",
    "dataset['maxmemory']  = dataset['maxmemory'].str.strip('mb')\n",
    "dataset['maxmemory'] = pd.to_numeric(dataset['maxmemory'])"
   ]
  },
  {
   "cell_type": "code",
   "execution_count": 149,
   "metadata": {},
   "outputs": [],
   "source": [
    "# Object 변수 categorical 로 변경 (LightGBM에 바로 넣기 위해)\n",
    "category_knob = []\n",
    "\n",
    "for knob in dataset:\n",
    "    if dataset[knob].dtype == 'O':  # Object인 경우 category 형으로 변경\n",
    "        dataset[knob] = dataset[knob].astype('category')\n",
    "        if knob in knobs_list:\n",
    "            category_knob.append(knob)"
   ]
  },
  {
   "cell_type": "code",
   "execution_count": 150,
   "metadata": {},
   "outputs": [],
   "source": [
    "# 설정한 knob들만 추출\n",
    "extract_knobs_list = knobs_list.copy()\n",
    "extract_knobs_list.append('throughput')  # target 값 추가\n",
    "\n",
    "dataset = dataset[extract_knobs_list]"
   ]
  },
  {
   "cell_type": "code",
   "execution_count": 151,
   "metadata": {
    "scrolled": true
   },
   "outputs": [
    {
     "data": {
      "text/html": [
       "<div>\n",
       "<style scoped>\n",
       "    .dataframe tbody tr th:only-of-type {\n",
       "        vertical-align: middle;\n",
       "    }\n",
       "\n",
       "    .dataframe tbody tr th {\n",
       "        vertical-align: top;\n",
       "    }\n",
       "\n",
       "    .dataframe thead th {\n",
       "        text-align: right;\n",
       "    }\n",
       "</style>\n",
       "<table border=\"1\" class=\"dataframe\">\n",
       "  <thead>\n",
       "    <tr style=\"text-align: right;\">\n",
       "      <th></th>\n",
       "      <th>hash-max-ziplist-entries</th>\n",
       "      <th>save0_0</th>\n",
       "      <th>save0_1</th>\n",
       "      <th>save1_1</th>\n",
       "      <th>save2_0</th>\n",
       "      <th>save2_1</th>\n",
       "      <th>rdbcompression</th>\n",
       "      <th>rdb-save-incremental-fsync</th>\n",
       "      <th>active-defrag-cycle-max</th>\n",
       "      <th>maxmemory</th>\n",
       "      <th>maxmemory-samples</th>\n",
       "      <th>lazyfree-lazy-expire</th>\n",
       "      <th>throughput</th>\n",
       "    </tr>\n",
       "  </thead>\n",
       "  <tbody>\n",
       "    <tr>\n",
       "      <th>0</th>\n",
       "      <td>258</td>\n",
       "      <td>805</td>\n",
       "      <td>5</td>\n",
       "      <td>91</td>\n",
       "      <td>36</td>\n",
       "      <td>9230</td>\n",
       "      <td>no</td>\n",
       "      <td>no</td>\n",
       "      <td>72.0</td>\n",
       "      <td>2700</td>\n",
       "      <td>5</td>\n",
       "      <td>yes</td>\n",
       "      <td>61645.41</td>\n",
       "    </tr>\n",
       "    <tr>\n",
       "      <th>1</th>\n",
       "      <td>360</td>\n",
       "      <td>1097</td>\n",
       "      <td>3</td>\n",
       "      <td>33</td>\n",
       "      <td>82</td>\n",
       "      <td>9410</td>\n",
       "      <td>yes</td>\n",
       "      <td>no</td>\n",
       "      <td>80.0</td>\n",
       "      <td>2200</td>\n",
       "      <td>3</td>\n",
       "      <td>yes</td>\n",
       "      <td>63270.32</td>\n",
       "    </tr>\n",
       "    <tr>\n",
       "      <th>2</th>\n",
       "      <td>364</td>\n",
       "      <td>1018</td>\n",
       "      <td>2</td>\n",
       "      <td>23</td>\n",
       "      <td>36</td>\n",
       "      <td>8649</td>\n",
       "      <td>yes</td>\n",
       "      <td>yes</td>\n",
       "      <td>71.0</td>\n",
       "      <td>1700</td>\n",
       "      <td>3</td>\n",
       "      <td>yes</td>\n",
       "      <td>63602.49</td>\n",
       "    </tr>\n",
       "  </tbody>\n",
       "</table>\n",
       "</div>"
      ],
      "text/plain": [
       "   hash-max-ziplist-entries  save0_0  save0_1  save1_1  save2_0  save2_1  \\\n",
       "0                       258      805        5       91       36     9230   \n",
       "1                       360     1097        3       33       82     9410   \n",
       "2                       364     1018        2       23       36     8649   \n",
       "\n",
       "  rdbcompression rdb-save-incremental-fsync  active-defrag-cycle-max  \\\n",
       "0             no                         no                     72.0   \n",
       "1            yes                         no                     80.0   \n",
       "2            yes                        yes                     71.0   \n",
       "\n",
       "   maxmemory  maxmemory-samples lazyfree-lazy-expire  throughput  \n",
       "0       2700                  5                  yes    61645.41  \n",
       "1       2200                  3                  yes    63270.32  \n",
       "2       1700                  3                  yes    63602.49  "
      ]
     },
     "execution_count": 151,
     "metadata": {},
     "output_type": "execute_result"
    }
   ],
   "source": [
    "dataset.head(3)"
   ]
  },
  {
   "cell_type": "code",
   "execution_count": 152,
   "metadata": {
    "scrolled": true
   },
   "outputs": [
    {
     "name": "stdout",
     "output_type": "stream",
     "text": [
      "<class 'pandas.core.frame.DataFrame'>\n",
      "RangeIndex: 2500 entries, 0 to 2499\n",
      "Data columns (total 33 columns):\n",
      " #   Column                         Non-Null Count  Dtype  \n",
      "---  ------                         --------------  -----  \n",
      " 0   appendonly                     0 non-null      float64\n",
      " 1   appendfsync                    0 non-null      float64\n",
      " 2   auto-aof-rewrite-percentage    0 non-null      float64\n",
      " 3   auto-aof-rewrite-min-size      0 non-null      float64\n",
      " 4   no-appendfsync-on-rewrite      0 non-null      float64\n",
      " 5   aof-rewrite-incremental-fsync  0 non-null      float64\n",
      " 6   aof-use-rdb-preamble           0 non-null      float64\n",
      " 7   save0_0                        2500 non-null   int64  \n",
      " 8   save0_1                        2500 non-null   int64  \n",
      " 9   save1_0                        2500 non-null   int64  \n",
      " 10  save1_1                        2500 non-null   int64  \n",
      " 11  save2_0                        2500 non-null   int64  \n",
      " 12  save2_1                        2500 non-null   int64  \n",
      " 13  rdbcompression                 2500 non-null   object \n",
      " 14  rdbchecksum                    2500 non-null   object \n",
      " 15  rdb-save-incremental-fsync     2500 non-null   object \n",
      " 16  activedefrag                   1252 non-null   object \n",
      " 17  active-defrag-threshold-lower  1252 non-null   float64\n",
      " 18  active-defrag-threshold-upper  1252 non-null   float64\n",
      " 19  active-defrag-cycle-min        1252 non-null   float64\n",
      " 20  active-defrag-cycle-max        1252 non-null   float64\n",
      " 21  maxmemory                      2500 non-null   object \n",
      " 22  maxmemory-policy               2500 non-null   object \n",
      " 23  maxmemory-samples              2500 non-null   int64  \n",
      " 24  lazyfree-lazy-eviction         2500 non-null   object \n",
      " 25  lazyfree-lazy-expire           2500 non-null   object \n",
      " 26  lazyfree-lazy-server-del       2500 non-null   object \n",
      " 27  hash-max-ziplist-entries       2500 non-null   int64  \n",
      " 28  hash-max-ziplist-value         2500 non-null   int64  \n",
      " 29  activerehashing                2500 non-null   object \n",
      " 30  hz                             2500 non-null   int64  \n",
      " 31  dynamic-hz                     2500 non-null   object \n",
      " 32  throughput                     2500 non-null   float64\n",
      "dtypes: float64(12), int64(10), object(11)\n",
      "memory usage: 644.7+ KB\n",
      "None\n",
      "<class 'pandas.core.frame.DataFrame'>\n",
      "RangeIndex: 2500 entries, 0 to 2499\n",
      "Data columns (total 13 columns):\n",
      " #   Column                      Non-Null Count  Dtype   \n",
      "---  ------                      --------------  -----   \n",
      " 0   hash-max-ziplist-entries    2500 non-null   int64   \n",
      " 1   save0_0                     2500 non-null   int64   \n",
      " 2   save0_1                     2500 non-null   int64   \n",
      " 3   save1_1                     2500 non-null   int64   \n",
      " 4   save2_0                     2500 non-null   int64   \n",
      " 5   save2_1                     2500 non-null   int64   \n",
      " 6   rdbcompression              2500 non-null   category\n",
      " 7   rdb-save-incremental-fsync  2500 non-null   category\n",
      " 8   active-defrag-cycle-max     2500 non-null   float64 \n",
      " 9   maxmemory                   2500 non-null   int64   \n",
      " 10  maxmemory-samples           2500 non-null   int64   \n",
      " 11  lazyfree-lazy-expire        2500 non-null   category\n",
      " 12  throughput                  2500 non-null   float64 \n",
      "dtypes: category(3), float64(2), int64(8)\n",
      "memory usage: 203.1 KB\n",
      "None\n"
     ]
    }
   ],
   "source": [
    "# 결측치 처리전 확인\n",
    "print(dataset_nan.info())\n",
    "\n",
    "# 결측치 처리후 확인\n",
    "print(dataset.info())"
   ]
  },
  {
   "cell_type": "markdown",
   "metadata": {},
   "source": [
    "### 이상치 처리"
   ]
  },
  {
   "cell_type": "code",
   "execution_count": 153,
   "metadata": {},
   "outputs": [
    {
     "data": {
      "text/html": [
       "<div>\n",
       "<style scoped>\n",
       "    .dataframe tbody tr th:only-of-type {\n",
       "        vertical-align: middle;\n",
       "    }\n",
       "\n",
       "    .dataframe tbody tr th {\n",
       "        vertical-align: top;\n",
       "    }\n",
       "\n",
       "    .dataframe thead th {\n",
       "        text-align: right;\n",
       "    }\n",
       "</style>\n",
       "<table border=\"1\" class=\"dataframe\">\n",
       "  <thead>\n",
       "    <tr style=\"text-align: right;\">\n",
       "      <th></th>\n",
       "      <th>hash-max-ziplist-entries</th>\n",
       "      <th>save0_0</th>\n",
       "      <th>save0_1</th>\n",
       "      <th>save1_1</th>\n",
       "      <th>save2_0</th>\n",
       "      <th>save2_1</th>\n",
       "      <th>active-defrag-cycle-max</th>\n",
       "      <th>maxmemory</th>\n",
       "      <th>maxmemory-samples</th>\n",
       "      <th>throughput</th>\n",
       "    </tr>\n",
       "  </thead>\n",
       "  <tbody>\n",
       "    <tr>\n",
       "      <th>count</th>\n",
       "      <td>2500.000000</td>\n",
       "      <td>2500.000000</td>\n",
       "      <td>2500.000000</td>\n",
       "      <td>2500.000000</td>\n",
       "      <td>2500.000000</td>\n",
       "      <td>2500.000000</td>\n",
       "      <td>2500.000000</td>\n",
       "      <td>2500.000000</td>\n",
       "      <td>2500.000000</td>\n",
       "      <td>2500.000000</td>\n",
       "    </tr>\n",
       "    <tr>\n",
       "      <th>mean</th>\n",
       "      <td>505.647200</td>\n",
       "      <td>895.984000</td>\n",
       "      <td>5.002000</td>\n",
       "      <td>55.756000</td>\n",
       "      <td>60.318400</td>\n",
       "      <td>9979.238400</td>\n",
       "      <td>40.216000</td>\n",
       "      <td>1950.880000</td>\n",
       "      <td>4.990000</td>\n",
       "      <td>58662.946124</td>\n",
       "    </tr>\n",
       "    <tr>\n",
       "      <th>std</th>\n",
       "      <td>143.769327</td>\n",
       "      <td>116.627749</td>\n",
       "      <td>2.603057</td>\n",
       "      <td>25.954813</td>\n",
       "      <td>17.331716</td>\n",
       "      <td>1168.360083</td>\n",
       "      <td>40.392647</td>\n",
       "      <td>583.036189</td>\n",
       "      <td>1.407229</td>\n",
       "      <td>3374.542926</td>\n",
       "    </tr>\n",
       "    <tr>\n",
       "      <th>min</th>\n",
       "      <td>256.000000</td>\n",
       "      <td>700.000000</td>\n",
       "      <td>1.000000</td>\n",
       "      <td>10.000000</td>\n",
       "      <td>30.000000</td>\n",
       "      <td>8000.000000</td>\n",
       "      <td>0.000000</td>\n",
       "      <td>1000.000000</td>\n",
       "      <td>3.000000</td>\n",
       "      <td>47520.430000</td>\n",
       "    </tr>\n",
       "    <tr>\n",
       "      <th>25%</th>\n",
       "      <td>383.000000</td>\n",
       "      <td>794.000000</td>\n",
       "      <td>3.000000</td>\n",
       "      <td>33.000000</td>\n",
       "      <td>46.000000</td>\n",
       "      <td>8957.250000</td>\n",
       "      <td>0.000000</td>\n",
       "      <td>1400.000000</td>\n",
       "      <td>4.000000</td>\n",
       "      <td>55643.050000</td>\n",
       "    </tr>\n",
       "    <tr>\n",
       "      <th>50%</th>\n",
       "      <td>504.000000</td>\n",
       "      <td>891.000000</td>\n",
       "      <td>5.000000</td>\n",
       "      <td>56.000000</td>\n",
       "      <td>61.000000</td>\n",
       "      <td>9958.500000</td>\n",
       "      <td>70.000000</td>\n",
       "      <td>2000.000000</td>\n",
       "      <td>5.000000</td>\n",
       "      <td>59031.920000</td>\n",
       "    </tr>\n",
       "    <tr>\n",
       "      <th>75%</th>\n",
       "      <td>632.000000</td>\n",
       "      <td>997.000000</td>\n",
       "      <td>7.000000</td>\n",
       "      <td>78.000000</td>\n",
       "      <td>76.000000</td>\n",
       "      <td>10999.500000</td>\n",
       "      <td>81.000000</td>\n",
       "      <td>2500.000000</td>\n",
       "      <td>6.000000</td>\n",
       "      <td>61586.640000</td>\n",
       "    </tr>\n",
       "    <tr>\n",
       "      <th>max</th>\n",
       "      <td>750.000000</td>\n",
       "      <td>1100.000000</td>\n",
       "      <td>9.000000</td>\n",
       "      <td>100.000000</td>\n",
       "      <td>90.000000</td>\n",
       "      <td>11996.000000</td>\n",
       "      <td>90.000000</td>\n",
       "      <td>2900.000000</td>\n",
       "      <td>7.000000</td>\n",
       "      <td>66377.650000</td>\n",
       "    </tr>\n",
       "  </tbody>\n",
       "</table>\n",
       "</div>"
      ],
      "text/plain": [
       "       hash-max-ziplist-entries      save0_0      save0_1      save1_1  \\\n",
       "count               2500.000000  2500.000000  2500.000000  2500.000000   \n",
       "mean                 505.647200   895.984000     5.002000    55.756000   \n",
       "std                  143.769327   116.627749     2.603057    25.954813   \n",
       "min                  256.000000   700.000000     1.000000    10.000000   \n",
       "25%                  383.000000   794.000000     3.000000    33.000000   \n",
       "50%                  504.000000   891.000000     5.000000    56.000000   \n",
       "75%                  632.000000   997.000000     7.000000    78.000000   \n",
       "max                  750.000000  1100.000000     9.000000   100.000000   \n",
       "\n",
       "           save2_0       save2_1  active-defrag-cycle-max    maxmemory  \\\n",
       "count  2500.000000   2500.000000              2500.000000  2500.000000   \n",
       "mean     60.318400   9979.238400                40.216000  1950.880000   \n",
       "std      17.331716   1168.360083                40.392647   583.036189   \n",
       "min      30.000000   8000.000000                 0.000000  1000.000000   \n",
       "25%      46.000000   8957.250000                 0.000000  1400.000000   \n",
       "50%      61.000000   9958.500000                70.000000  2000.000000   \n",
       "75%      76.000000  10999.500000                81.000000  2500.000000   \n",
       "max      90.000000  11996.000000                90.000000  2900.000000   \n",
       "\n",
       "       maxmemory-samples    throughput  \n",
       "count        2500.000000   2500.000000  \n",
       "mean            4.990000  58662.946124  \n",
       "std             1.407229   3374.542926  \n",
       "min             3.000000  47520.430000  \n",
       "25%             4.000000  55643.050000  \n",
       "50%             5.000000  59031.920000  \n",
       "75%             6.000000  61586.640000  \n",
       "max             7.000000  66377.650000  "
      ]
     },
     "execution_count": 153,
     "metadata": {},
     "output_type": "execute_result"
    }
   ],
   "source": [
    "# -999999와 같은 이상치 확인 -> 없음\n",
    "dataset.describe()"
   ]
  },
  {
   "cell_type": "code",
   "execution_count": 154,
   "metadata": {},
   "outputs": [
    {
     "data": {
      "text/plain": [
       "<AxesSubplot:>"
      ]
     },
     "execution_count": 154,
     "metadata": {},
     "output_type": "execute_result"
    },
    {
     "data": {
      "image/png": "[encoded data removed]",
      "text/plain": [
       "<Figure size 432x288 with 1 Axes>"
      ]
     },
     "metadata": {
      "needs_background": "light"
     },
     "output_type": "display_data"
    }
   ],
   "source": [
    "# 이상치 파악 \n",
    "dataset['throughput'].hist()"
   ]
  },
  {
   "cell_type": "code",
   "execution_count": 155,
   "metadata": {},
   "outputs": [
    {
     "name": "stdout",
     "output_type": "stream",
     "text": [
      "289     50567.71\n",
      "1662    48151.93\n",
      "1795    47520.43\n",
      "1819    52479.91\n",
      "1829    52219.64\n",
      "1869    52156.25\n",
      "1871    52365.91\n",
      "1872    52402.46\n",
      "1918    49023.47\n",
      "1941    52407.46\n",
      "1972    52470.66\n",
      "1994    51419.62\n",
      "2277    48485.40\n",
      "2400    50734.14\n",
      "2437    47543.22\n",
      "Name: throughput, dtype: float64\n",
      "개수:  15\n"
     ]
    }
   ],
   "source": [
    "# 인덱스제거하고 돌려보자\n",
    "print(dataset['throughput'][dataset['throughput'] <= 52500])\n",
    "outlier_index = dataset['throughput'][dataset['throughput'] <= 52500].index\n",
    "print('개수: ', len(outlier_index))"
   ]
  },
  {
   "cell_type": "code",
   "execution_count": 156,
   "metadata": {},
   "outputs": [
    {
     "data": {
      "image/png": "[encoded data removed]",
      "text/plain": [
       "<Figure size 432x288 with 1 Axes>"
      ]
     },
     "metadata": {
      "needs_background": "light"
     },
     "output_type": "display_data"
    }
   ],
   "source": [
    "# 이상치로 분류되진 않지만 제거한다. \n",
    "import seaborn as sns\n",
    "sns.boxplot(x = \"throughput\",data = dataset )\n",
    "plt.show()"
   ]
  },
  {
   "cell_type": "code",
   "execution_count": 157,
   "metadata": {},
   "outputs": [],
   "source": [
    "# # 이상치 제거\n",
    "# dataset = dataset.drop(outlier_index)"
   ]
  },
  {
   "cell_type": "code",
   "execution_count": 158,
   "metadata": {},
   "outputs": [
    {
     "data": {
      "text/plain": [
       "(2500, 13)"
      ]
     },
     "execution_count": 158,
     "metadata": {},
     "output_type": "execute_result"
    }
   ],
   "source": [
    "# 이상치 제거 확인\n",
    "dataset.shape"
   ]
  },
  {
   "cell_type": "markdown",
   "metadata": {},
   "source": [
    "### test, train 데이터 분리"
   ]
  },
  {
   "cell_type": "code",
   "execution_count": 159,
   "metadata": {},
   "outputs": [],
   "source": [
    "# test, train 데이터로 분리\n",
    "X_train, X_test, y_train, y_test = train_test_split(dataset.iloc[:,:-1]\n",
    "                                                    , dataset['throughput'] \n",
    "                                                    ,test_size=0.2\n",
    "                                                   , random_state = 156)\n"
   ]
  },
  {
   "cell_type": "code",
   "execution_count": 160,
   "metadata": {},
   "outputs": [
    {
     "data": {
      "text/html": [
       "<div>\n",
       "<style scoped>\n",
       "    .dataframe tbody tr th:only-of-type {\n",
       "        vertical-align: middle;\n",
       "    }\n",
       "\n",
       "    .dataframe tbody tr th {\n",
       "        vertical-align: top;\n",
       "    }\n",
       "\n",
       "    .dataframe thead th {\n",
       "        text-align: right;\n",
       "    }\n",
       "</style>\n",
       "<table border=\"1\" class=\"dataframe\">\n",
       "  <thead>\n",
       "    <tr style=\"text-align: right;\">\n",
       "      <th></th>\n",
       "      <th>hash-max-ziplist-entries</th>\n",
       "      <th>save0_0</th>\n",
       "      <th>save0_1</th>\n",
       "      <th>save1_1</th>\n",
       "      <th>save2_0</th>\n",
       "      <th>save2_1</th>\n",
       "      <th>rdbcompression</th>\n",
       "      <th>rdb-save-incremental-fsync</th>\n",
       "      <th>active-defrag-cycle-max</th>\n",
       "      <th>maxmemory</th>\n",
       "      <th>maxmemory-samples</th>\n",
       "      <th>lazyfree-lazy-expire</th>\n",
       "    </tr>\n",
       "  </thead>\n",
       "  <tbody>\n",
       "    <tr>\n",
       "      <th>1716</th>\n",
       "      <td>656</td>\n",
       "      <td>838</td>\n",
       "      <td>4</td>\n",
       "      <td>67</td>\n",
       "      <td>43</td>\n",
       "      <td>10529</td>\n",
       "      <td>yes</td>\n",
       "      <td>no</td>\n",
       "      <td>0.0</td>\n",
       "      <td>2600</td>\n",
       "      <td>3</td>\n",
       "      <td>no</td>\n",
       "    </tr>\n",
       "    <tr>\n",
       "      <th>486</th>\n",
       "      <td>578</td>\n",
       "      <td>795</td>\n",
       "      <td>3</td>\n",
       "      <td>79</td>\n",
       "      <td>47</td>\n",
       "      <td>11917</td>\n",
       "      <td>no</td>\n",
       "      <td>no</td>\n",
       "      <td>0.0</td>\n",
       "      <td>2700</td>\n",
       "      <td>4</td>\n",
       "      <td>no</td>\n",
       "    </tr>\n",
       "    <tr>\n",
       "      <th>1803</th>\n",
       "      <td>521</td>\n",
       "      <td>1100</td>\n",
       "      <td>6</td>\n",
       "      <td>50</td>\n",
       "      <td>48</td>\n",
       "      <td>8122</td>\n",
       "      <td>yes</td>\n",
       "      <td>yes</td>\n",
       "      <td>0.0</td>\n",
       "      <td>2400</td>\n",
       "      <td>3</td>\n",
       "      <td>yes</td>\n",
       "    </tr>\n",
       "    <tr>\n",
       "      <th>1279</th>\n",
       "      <td>418</td>\n",
       "      <td>735</td>\n",
       "      <td>1</td>\n",
       "      <td>16</td>\n",
       "      <td>82</td>\n",
       "      <td>11753</td>\n",
       "      <td>yes</td>\n",
       "      <td>no</td>\n",
       "      <td>0.0</td>\n",
       "      <td>2300</td>\n",
       "      <td>5</td>\n",
       "      <td>yes</td>\n",
       "    </tr>\n",
       "    <tr>\n",
       "      <th>1642</th>\n",
       "      <td>376</td>\n",
       "      <td>818</td>\n",
       "      <td>6</td>\n",
       "      <td>76</td>\n",
       "      <td>55</td>\n",
       "      <td>10283</td>\n",
       "      <td>no</td>\n",
       "      <td>no</td>\n",
       "      <td>0.0</td>\n",
       "      <td>1500</td>\n",
       "      <td>3</td>\n",
       "      <td>yes</td>\n",
       "    </tr>\n",
       "  </tbody>\n",
       "</table>\n",
       "</div>"
      ],
      "text/plain": [
       "      hash-max-ziplist-entries  save0_0  save0_1  save1_1  save2_0  save2_1  \\\n",
       "1716                       656      838        4       67       43    10529   \n",
       "486                        578      795        3       79       47    11917   \n",
       "1803                       521     1100        6       50       48     8122   \n",
       "1279                       418      735        1       16       82    11753   \n",
       "1642                       376      818        6       76       55    10283   \n",
       "\n",
       "     rdbcompression rdb-save-incremental-fsync  active-defrag-cycle-max  \\\n",
       "1716            yes                         no                      0.0   \n",
       "486              no                         no                      0.0   \n",
       "1803            yes                        yes                      0.0   \n",
       "1279            yes                         no                      0.0   \n",
       "1642             no                         no                      0.0   \n",
       "\n",
       "      maxmemory  maxmemory-samples lazyfree-lazy-expire  \n",
       "1716       2600                  3                   no  \n",
       "486        2700                  4                   no  \n",
       "1803       2400                  3                  yes  \n",
       "1279       2300                  5                  yes  \n",
       "1642       1500                  3                  yes  "
      ]
     },
     "execution_count": 160,
     "metadata": {},
     "output_type": "execute_result"
    }
   ],
   "source": [
    "# X_train 확인\n",
    "X_train.head()"
   ]
  },
  {
   "cell_type": "code",
   "execution_count": 161,
   "metadata": {},
   "outputs": [
    {
     "data": {
      "image/png": "[encoded data removed]",
      "text/plain": [
       "<Figure size 432x288 with 1 Axes>"
      ]
     },
     "metadata": {
      "needs_background": "light"
     },
     "output_type": "display_data"
    },
    {
     "data": {
      "image/png": "[encoded data removed]",
      "text/plain": [
       "<Figure size 432x288 with 1 Axes>"
      ]
     },
     "metadata": {
      "needs_background": "light"
     },
     "output_type": "display_data"
    }
   ],
   "source": [
    "# test, train 에 비슷하게 분류됬는지 확인\n",
    "y_train.hist()\n",
    "plt.title('train data')\n",
    "plt.show()\n",
    "\n",
    "y_test.hist()\n",
    "plt.title('test data')\n",
    "plt.show()"
   ]
  },
  {
   "cell_type": "markdown",
   "metadata": {},
   "source": [
    "## LightGBM 모델 생성"
   ]
  },
  {
   "cell_type": "code",
   "execution_count": 162,
   "metadata": {},
   "outputs": [
    {
     "name": "stderr",
     "output_type": "stream",
     "text": [
      "/Users/joseong-un/opt/anaconda3/lib/python3.8/site-packages/lightgbm/basic.py:1433: UserWarning: Overriding the parameters from Reference Dataset.\n",
      "  _log_warning('Overriding the parameters from Reference Dataset.')\n",
      "/Users/joseong-un/opt/anaconda3/lib/python3.8/site-packages/lightgbm/basic.py:1245: UserWarning: categorical_column in param dict is overridden.\n",
      "  _log_warning('{} in param dict is overridden.'.format(cat_alias))\n"
     ]
    },
    {
     "name": "stdout",
     "output_type": "stream",
     "text": [
      "[1]\tvalid_0's auc: 1\tvalid_0's l2: 1.21888e+07\n",
      "Training until validation scores don't improve for 100 rounds\n",
      "[2]\tvalid_0's auc: 1\tvalid_0's l2: 1.22218e+07\n",
      "[3]\tvalid_0's auc: 1\tvalid_0's l2: 1.22602e+07\n",
      "[4]\tvalid_0's auc: 1\tvalid_0's l2: 1.22883e+07\n",
      "[5]\tvalid_0's auc: 1\tvalid_0's l2: 1.22693e+07\n",
      "[6]\tvalid_0's auc: 1\tvalid_0's l2: 1.22932e+07\n",
      "[7]\tvalid_0's auc: 1\tvalid_0's l2: 1.23341e+07\n",
      "[8]\tvalid_0's auc: 1\tvalid_0's l2: 1.23514e+07\n",
      "[9]\tvalid_0's auc: 1\tvalid_0's l2: 1.23697e+07\n",
      "[10]\tvalid_0's auc: 1\tvalid_0's l2: 1.24097e+07\n",
      "[11]\tvalid_0's auc: 1\tvalid_0's l2: 1.24106e+07\n",
      "[12]\tvalid_0's auc: 1\tvalid_0's l2: 1.24151e+07\n",
      "[13]\tvalid_0's auc: 1\tvalid_0's l2: 1.24356e+07\n",
      "[14]\tvalid_0's auc: 1\tvalid_0's l2: 1.24446e+07\n",
      "[15]\tvalid_0's auc: 1\tvalid_0's l2: 1.24511e+07\n",
      "[16]\tvalid_0's auc: 1\tvalid_0's l2: 1.24895e+07\n",
      "[17]\tvalid_0's auc: 1\tvalid_0's l2: 1.24769e+07\n",
      "[18]\tvalid_0's auc: 1\tvalid_0's l2: 1.25247e+07\n",
      "[19]\tvalid_0's auc: 1\tvalid_0's l2: 1.25426e+07\n",
      "[20]\tvalid_0's auc: 1\tvalid_0's l2: 1.2547e+07\n",
      "[21]\tvalid_0's auc: 1\tvalid_0's l2: 1.25258e+07\n",
      "[22]\tvalid_0's auc: 1\tvalid_0's l2: 1.25545e+07\n",
      "[23]\tvalid_0's auc: 1\tvalid_0's l2: 1.25927e+07\n",
      "[24]\tvalid_0's auc: 1\tvalid_0's l2: 1.26019e+07\n",
      "[25]\tvalid_0's auc: 1\tvalid_0's l2: 1.25939e+07\n",
      "[26]\tvalid_0's auc: 1\tvalid_0's l2: 1.26042e+07\n",
      "[27]\tvalid_0's auc: 1\tvalid_0's l2: 1.26132e+07\n",
      "[28]\tvalid_0's auc: 1\tvalid_0's l2: 1.26062e+07\n",
      "[29]\tvalid_0's auc: 1\tvalid_0's l2: 1.26605e+07\n",
      "[30]\tvalid_0's auc: 1\tvalid_0's l2: 1.27108e+07\n",
      "[31]\tvalid_0's auc: 1\tvalid_0's l2: 1.2701e+07\n",
      "[32]\tvalid_0's auc: 1\tvalid_0's l2: 1.27051e+07\n",
      "[33]\tvalid_0's auc: 1\tvalid_0's l2: 1.2724e+07\n",
      "[34]\tvalid_0's auc: 1\tvalid_0's l2: 1.26925e+07\n",
      "[35]\tvalid_0's auc: 1\tvalid_0's l2: 1.26968e+07\n",
      "[36]\tvalid_0's auc: 1\tvalid_0's l2: 1.26795e+07\n",
      "[37]\tvalid_0's auc: 1\tvalid_0's l2: 1.2705e+07\n",
      "[38]\tvalid_0's auc: 1\tvalid_0's l2: 1.27004e+07\n",
      "[39]\tvalid_0's auc: 1\tvalid_0's l2: 1.27072e+07\n",
      "[40]\tvalid_0's auc: 1\tvalid_0's l2: 1.27113e+07\n",
      "[41]\tvalid_0's auc: 1\tvalid_0's l2: 1.27369e+07\n",
      "[42]\tvalid_0's auc: 1\tvalid_0's l2: 1.27368e+07\n",
      "[43]\tvalid_0's auc: 1\tvalid_0's l2: 1.27381e+07\n",
      "[44]\tvalid_0's auc: 1\tvalid_0's l2: 1.27577e+07\n",
      "[45]\tvalid_0's auc: 1\tvalid_0's l2: 1.27881e+07\n",
      "[46]\tvalid_0's auc: 1\tvalid_0's l2: 1.2807e+07\n",
      "[47]\tvalid_0's auc: 1\tvalid_0's l2: 1.28207e+07\n",
      "[48]\tvalid_0's auc: 1\tvalid_0's l2: 1.28365e+07\n",
      "[49]\tvalid_0's auc: 1\tvalid_0's l2: 1.28546e+07\n",
      "[50]\tvalid_0's auc: 1\tvalid_0's l2: 1.28553e+07\n",
      "[51]\tvalid_0's auc: 1\tvalid_0's l2: 1.28827e+07\n",
      "[52]\tvalid_0's auc: 1\tvalid_0's l2: 1.29004e+07\n",
      "[53]\tvalid_0's auc: 1\tvalid_0's l2: 1.28889e+07\n",
      "[54]\tvalid_0's auc: 1\tvalid_0's l2: 1.28713e+07\n",
      "[55]\tvalid_0's auc: 1\tvalid_0's l2: 1.28707e+07\n",
      "[56]\tvalid_0's auc: 1\tvalid_0's l2: 1.28599e+07\n",
      "[57]\tvalid_0's auc: 1\tvalid_0's l2: 1.28538e+07\n",
      "[58]\tvalid_0's auc: 1\tvalid_0's l2: 1.2876e+07\n",
      "[59]\tvalid_0's auc: 1\tvalid_0's l2: 1.28852e+07\n",
      "[60]\tvalid_0's auc: 1\tvalid_0's l2: 1.28557e+07\n",
      "[61]\tvalid_0's auc: 1\tvalid_0's l2: 1.28752e+07\n",
      "[62]\tvalid_0's auc: 1\tvalid_0's l2: 1.29195e+07\n",
      "[63]\tvalid_0's auc: 1\tvalid_0's l2: 1.29162e+07\n",
      "[64]\tvalid_0's auc: 1\tvalid_0's l2: 1.29116e+07\n",
      "[65]\tvalid_0's auc: 1\tvalid_0's l2: 1.29426e+07\n",
      "[66]\tvalid_0's auc: 1\tvalid_0's l2: 1.29135e+07\n",
      "[67]\tvalid_0's auc: 1\tvalid_0's l2: 1.291e+07\n",
      "[68]\tvalid_0's auc: 1\tvalid_0's l2: 1.29329e+07\n",
      "[69]\tvalid_0's auc: 1\tvalid_0's l2: 1.29167e+07\n",
      "[70]\tvalid_0's auc: 1\tvalid_0's l2: 1.29566e+07\n",
      "[71]\tvalid_0's auc: 1\tvalid_0's l2: 1.29658e+07\n",
      "[72]\tvalid_0's auc: 1\tvalid_0's l2: 1.29681e+07\n",
      "[73]\tvalid_0's auc: 1\tvalid_0's l2: 1.29704e+07\n",
      "[74]\tvalid_0's auc: 1\tvalid_0's l2: 1.2975e+07\n",
      "[75]\tvalid_0's auc: 1\tvalid_0's l2: 1.29801e+07\n",
      "[76]\tvalid_0's auc: 1\tvalid_0's l2: 1.29953e+07\n",
      "[77]\tvalid_0's auc: 1\tvalid_0's l2: 1.30046e+07\n",
      "[78]\tvalid_0's auc: 1\tvalid_0's l2: 1.30127e+07\n",
      "[79]\tvalid_0's auc: 1\tvalid_0's l2: 1.30358e+07\n",
      "[80]\tvalid_0's auc: 1\tvalid_0's l2: 1.30745e+07\n",
      "[81]\tvalid_0's auc: 1\tvalid_0's l2: 1.31113e+07\n",
      "[82]\tvalid_0's auc: 1\tvalid_0's l2: 1.31176e+07\n",
      "[83]\tvalid_0's auc: 1\tvalid_0's l2: 1.31212e+07\n",
      "[84]\tvalid_0's auc: 1\tvalid_0's l2: 1.31206e+07\n",
      "[85]\tvalid_0's auc: 1\tvalid_0's l2: 1.31337e+07\n",
      "[86]\tvalid_0's auc: 1\tvalid_0's l2: 1.31468e+07\n",
      "[87]\tvalid_0's auc: 1\tvalid_0's l2: 1.31446e+07\n",
      "[88]\tvalid_0's auc: 1\tvalid_0's l2: 1.31284e+07\n",
      "[89]\tvalid_0's auc: 1\tvalid_0's l2: 1.31617e+07\n",
      "[90]\tvalid_0's auc: 1\tvalid_0's l2: 1.31614e+07\n",
      "[91]\tvalid_0's auc: 1\tvalid_0's l2: 1.31812e+07\n",
      "[92]\tvalid_0's auc: 1\tvalid_0's l2: 1.31889e+07\n",
      "[93]\tvalid_0's auc: 1\tvalid_0's l2: 1.32133e+07\n",
      "[94]\tvalid_0's auc: 1\tvalid_0's l2: 1.32018e+07\n",
      "[95]\tvalid_0's auc: 1\tvalid_0's l2: 1.32228e+07\n",
      "[96]\tvalid_0's auc: 1\tvalid_0's l2: 1.32471e+07\n",
      "[97]\tvalid_0's auc: 1\tvalid_0's l2: 1.32473e+07\n",
      "[98]\tvalid_0's auc: 1\tvalid_0's l2: 1.32575e+07\n",
      "[99]\tvalid_0's auc: 1\tvalid_0's l2: 1.32827e+07\n",
      "[100]\tvalid_0's auc: 1\tvalid_0's l2: 1.32706e+07\n",
      "[101]\tvalid_0's auc: 1\tvalid_0's l2: 1.32705e+07\n",
      "Early stopping, best iteration is:\n",
      "[1]\tvalid_0's auc: 1\tvalid_0's l2: 1.21888e+07\n"
     ]
    },
    {
     "data": {
      "text/plain": [
       "LGBMRegressor(n_estimators=1000)"
      ]
     },
     "execution_count": 162,
     "metadata": {},
     "output_type": "execute_result"
    }
   ],
   "source": [
    "# 모델 객체 생성, n_estimators = 400으로 설정\n",
    "lgbm_wrapper = LGBMRegressor(n_estimators=1000, learning_rate=0.1)\n",
    "\n",
    "# 검증 데이터(validation data)\n",
    "evals = [(X_test, y_test)]\n",
    "\n",
    "lgbm_wrapper.fit(X_train, y_train, early_stopping_rounds=100, eval_metric='auc',\n",
    "                eval_set = evals, verbose = True)"
   ]
  },
  {
   "cell_type": "code",
   "execution_count": 163,
   "metadata": {},
   "outputs": [
    {
     "data": {
      "text/plain": [
       "array([58926.71601709, 58534.60319939, 58571.76532278, 58577.30546875,\n",
       "       58709.57033127, 58709.57033127, 58709.57033127, 58726.12411019,\n",
       "       58709.57033127, 58511.63547571, 58726.12411019, 58677.9729991 ,\n",
       "       58677.9729991 , 58679.94340369, 58511.63547571, 58577.96627414,\n",
       "       58709.57033127, 58709.57033127, 58677.9729991 , 58728.03456107,\n",
       "       58709.57033127, 58577.96627414, 58709.57033127, 58709.57033127,\n",
       "       58735.28679857, 58482.19987954, 58679.94340369, 58728.03456107,\n",
       "       58482.19987954, 58577.96627414, 58711.96550644, 58709.57033127,\n",
       "       58897.67184605, 58677.9729991 , 58630.25071069, 58709.57033127,\n",
       "       58825.38338173, 58709.57033127, 58709.57033127, 58534.60319939,\n",
       "       58577.30546875, 58486.323848  , 58630.25071069, 58728.03456107,\n",
       "       58677.9729991 , 58630.25071069, 58726.12411019, 58677.9729991 ,\n",
       "       58726.12411019, 58677.9729991 , 58705.9577109 , 58705.9577109 ,\n",
       "       58709.57033127, 58511.63547571, 58709.57033127, 58511.63547571,\n",
       "       58709.57033127, 58825.38338173, 58709.57033127, 58511.63547571,\n",
       "       58709.57033127, 58605.47624521, 58726.12411019, 58939.95710777,\n",
       "       58709.57033127, 58679.94340369, 58709.57033127, 58511.63547571,\n",
       "       58482.62455042, 58709.57033127, 58486.323848  , 58709.57033127,\n",
       "       58939.95710777, 58677.9729991 , 58825.38338173, 58482.19987954,\n",
       "       58677.9729991 , 58577.30546875, 58677.9729991 , 58705.9577109 ,\n",
       "       58511.63547571, 58630.25071069, 58482.19987954, 58705.9577109 ,\n",
       "       58705.9577109 , 58709.57033127, 58677.9729991 , 58705.9577109 ,\n",
       "       58735.28679857, 58605.47624521, 58577.30546875, 58482.62455042,\n",
       "       58482.62455042, 58594.22265428, 58605.47624521, 58534.60319939,\n",
       "       58735.28679857, 58511.63547571, 58677.9729991 , 58482.19987954,\n",
       "       58677.9729991 , 58705.9577109 , 58709.57033127, 58511.63547571,\n",
       "       58511.63547571, 58394.21252899, 58677.9729991 , 58394.21252899,\n",
       "       58571.76532278, 58705.9577109 , 58735.28679857, 58593.1735603 ,\n",
       "       58482.62455042, 58709.57033127, 58710.46995854, 58511.63547571,\n",
       "       58749.48960049, 58677.9729991 , 58705.9577109 , 58486.323848  ,\n",
       "       58677.9729991 , 58705.9577109 , 58630.25071069, 58677.9729991 ,\n",
       "       58705.9577109 , 58726.12411019, 58709.57033127, 58605.47624521,\n",
       "       58709.57033127, 58735.28679857, 58709.57033127, 58593.1735603 ,\n",
       "       58705.9577109 , 58709.57033127, 58705.9577109 , 58926.71601709,\n",
       "       58522.09812641, 58671.36045892, 58677.9729991 , 58897.67184605,\n",
       "       58594.22265428, 58534.60319939, 58486.323848  , 58594.22265428,\n",
       "       58677.9729991 , 58522.09812641, 58482.19987954, 58709.57033127,\n",
       "       58522.09812641, 58677.9729991 , 58677.9729991 , 58677.9729991 ,\n",
       "       58593.1735603 , 58726.12411019, 58735.28679857, 58709.57033127,\n",
       "       58677.9729991 , 58709.57033127, 58709.57033127, 58728.03456107,\n",
       "       58511.63547571, 58677.9729991 , 58571.76532278, 58679.94340369,\n",
       "       58705.9577109 , 58677.9729991 , 58511.63547571, 58709.57033127,\n",
       "       58711.96550644, 58709.57033127, 58677.9729991 , 58677.9729991 ,\n",
       "       58594.22265428, 58680.19188236, 58726.12411019, 58825.38338173,\n",
       "       58709.57033127, 58486.323848  , 58711.96550644, 58711.96550644,\n",
       "       58486.323848  , 58571.76532278, 58709.57033127, 58679.94340369,\n",
       "       58709.57033127, 58726.12411019, 58825.38338173, 58571.76532278,\n",
       "       58711.96550644, 58486.323848  , 58709.57033127, 58710.46995854,\n",
       "       58735.28679857, 58705.9577109 , 58709.57033127, 58482.62455042,\n",
       "       58671.36045892, 58486.323848  , 58677.9729991 , 58709.57033127,\n",
       "       58594.22265428, 58705.9577109 , 58709.57033127, 58735.28679857,\n",
       "       58594.22265428, 58709.57033127, 58711.96550644, 58709.57033127,\n",
       "       58534.60319939, 58677.9729991 , 58705.9577109 , 58709.57033127,\n",
       "       58939.95710777, 58677.9729991 , 58825.38338173, 58735.28679857,\n",
       "       58511.63547571, 58709.57033127, 58709.57033127, 58705.9577109 ,\n",
       "       58709.57033127, 58677.9729991 , 58671.36045892, 58709.57033127,\n",
       "       58486.323848  , 58709.57033127, 58709.57033127, 58605.47624521,\n",
       "       58677.9729991 , 58926.71601709, 58705.9577109 , 58486.323848  ,\n",
       "       58726.12411019, 58709.57033127, 58726.12411019, 58403.76842285,\n",
       "       58939.95710777, 58728.03456107, 58677.9729991 , 58677.9729991 ,\n",
       "       58577.30546875, 58709.57033127, 58571.76532278, 58897.67184605,\n",
       "       58486.323848  , 58705.9577109 , 58705.9577109 , 58522.09812641,\n",
       "       58728.03456107, 58709.57033127, 58605.47624521, 58709.57033127,\n",
       "       58705.9577109 , 58709.57033127, 58511.63547571, 58705.9577109 ,\n",
       "       58711.96550644, 58709.57033127, 58594.22265428, 58735.28679857,\n",
       "       58671.36045892, 58571.76532278, 58677.9729991 , 58709.57033127,\n",
       "       58482.62455042, 58482.19987954, 58394.21252899, 58728.03456107,\n",
       "       58594.22265428, 58709.57033127, 58709.57033127, 58709.57033127,\n",
       "       58897.67184605, 58939.95710777, 58705.9577109 , 58511.63547571,\n",
       "       58705.9577109 , 58705.9577109 , 58709.57033127, 58726.12411019,\n",
       "       58577.30546875, 58709.57033127, 58709.57033127, 58726.12411019,\n",
       "       58897.67184605, 58709.57033127, 58709.57033127, 58522.09812641,\n",
       "       58709.57033127, 58605.47624521, 58486.323848  , 58403.76842285,\n",
       "       58735.28679857, 58709.57033127, 58735.28679857, 58486.323848  ,\n",
       "       58709.57033127, 58677.9729991 , 58709.57033127, 58594.22265428,\n",
       "       58511.63547571, 58482.19987954, 58594.22265428, 58677.9729991 ,\n",
       "       58482.19987954, 58825.38338173, 58677.9729991 , 58511.63547571,\n",
       "       58677.9729991 , 58403.76842285, 58711.96550644, 58710.46995854,\n",
       "       58709.57033127, 58403.76842285, 58630.25071069, 58577.30546875,\n",
       "       58709.57033127, 58726.12411019, 58482.62455042, 58630.25071069,\n",
       "       58482.19987954, 58939.95710777, 58709.57033127, 58577.30546875,\n",
       "       58825.38338173, 58486.323848  , 58709.57033127, 58709.57033127,\n",
       "       58394.21252899, 58709.57033127, 58735.28679857, 58726.12411019,\n",
       "       58709.57033127, 58679.94340369, 58482.62455042, 58677.9729991 ,\n",
       "       58726.12411019, 58728.03456107, 58571.76532278, 58709.57033127,\n",
       "       58726.12411019, 58705.9577109 , 58677.9729991 , 58735.28679857,\n",
       "       58577.96627414, 58677.9729991 , 58825.38338173, 58825.38338173,\n",
       "       58726.12411019, 58709.57033127, 58630.25071069, 58534.60319939,\n",
       "       58671.36045892, 58897.67184605, 58726.12411019, 58482.19987954,\n",
       "       58709.57033127, 58709.57033127, 58482.62455042, 58482.19987954,\n",
       "       58577.30546875, 58709.57033127, 58671.36045892, 58735.28679857,\n",
       "       58677.9729991 , 58486.323848  , 58677.9729991 , 58726.12411019,\n",
       "       58709.57033127, 58679.94340369, 58677.9729991 , 58677.9729991 ,\n",
       "       58749.48960049, 58709.57033127, 58511.63547571, 58825.38338173,\n",
       "       58735.28679857, 58677.9729991 , 58486.323848  , 58677.9729991 ,\n",
       "       58486.323848  , 58710.46995854, 58677.9729991 , 58709.57033127,\n",
       "       58522.09812641, 58679.94340369, 58709.57033127, 58577.30546875,\n",
       "       58677.9729991 , 58705.9577109 , 58709.57033127, 58705.9577109 ,\n",
       "       58709.57033127, 58577.30546875, 58677.9729991 , 58577.30546875,\n",
       "       58735.28679857, 58593.1735603 , 58709.57033127, 58709.57033127,\n",
       "       58482.19987954, 58709.57033127, 58726.12411019, 58593.1735603 ,\n",
       "       58534.60319939, 58709.57033127, 58486.323848  , 58939.95710777,\n",
       "       58735.28679857, 58825.38338173, 58711.96550644, 58605.47624521,\n",
       "       58677.9729991 , 58677.9729991 , 58705.9577109 , 58726.12411019,\n",
       "       58482.19987954, 58482.19987954, 58486.323848  , 58709.57033127,\n",
       "       58571.76532278, 58482.62455042, 58728.03456107, 58677.9729991 ,\n",
       "       58571.76532278, 58677.9729991 , 58605.47624521, 58709.57033127,\n",
       "       58709.57033127, 58679.94340369, 58486.323848  , 58709.57033127,\n",
       "       58680.19188236, 58709.57033127, 58709.57033127, 58677.9729991 ,\n",
       "       58679.94340369, 58825.38338173, 58593.1735603 , 58726.12411019,\n",
       "       58726.12411019, 58726.12411019, 58726.12411019, 58593.1735603 ,\n",
       "       58511.63547571, 58705.9577109 , 58705.9577109 , 58677.9729991 ,\n",
       "       58677.9729991 , 58593.1735603 , 58677.9729991 , 58482.62455042,\n",
       "       58709.57033127, 58677.9729991 , 58709.57033127, 58705.9577109 ,\n",
       "       58522.09812641, 58677.9729991 , 58939.95710777, 58486.323848  ,\n",
       "       58677.9729991 , 58705.9577109 , 58571.76532278, 58735.28679857,\n",
       "       58709.57033127, 58709.57033127, 58735.28679857, 58735.28679857,\n",
       "       58593.1735603 , 58593.1735603 , 58403.76842285, 58677.9729991 ,\n",
       "       58594.22265428, 58825.38338173, 58522.09812641, 58825.38338173,\n",
       "       58680.19188236, 58705.9577109 , 58571.76532278, 58735.28679857,\n",
       "       58726.12411019, 58709.57033127, 58677.9729991 , 58486.323848  ,\n",
       "       58677.9729991 , 58705.9577109 , 58671.36045892, 58486.323848  ,\n",
       "       58709.57033127, 58677.9729991 , 58709.57033127, 58482.19987954,\n",
       "       58726.12411019, 58711.96550644, 58486.323848  , 58486.323848  ,\n",
       "       58571.76532278, 58403.76842285, 58577.30546875, 58709.57033127])"
      ]
     },
     "execution_count": 163,
     "metadata": {},
     "output_type": "execute_result"
    }
   ],
   "source": [
    "preds = lgbm_wrapper.predict(X_test)  # 예측 결과\n",
    "# pred_proba = lgbm_wrapper.predict_proba(X_test)[:, 1]  # 예측 확률\n",
    "preds"
   ]
  },
  {
   "cell_type": "code",
   "execution_count": 164,
   "metadata": {},
   "outputs": [
    {
     "data": {
      "text/html": [
       "<div>\n",
       "<style scoped>\n",
       "    .dataframe tbody tr th:only-of-type {\n",
       "        vertical-align: middle;\n",
       "    }\n",
       "\n",
       "    .dataframe tbody tr th {\n",
       "        vertical-align: top;\n",
       "    }\n",
       "\n",
       "    .dataframe thead th {\n",
       "        text-align: right;\n",
       "    }\n",
       "</style>\n",
       "<table border=\"1\" class=\"dataframe\">\n",
       "  <thead>\n",
       "    <tr style=\"text-align: right;\">\n",
       "      <th></th>\n",
       "      <th>hash-max-ziplist-entries</th>\n",
       "      <th>save0_0</th>\n",
       "      <th>save0_1</th>\n",
       "      <th>save1_1</th>\n",
       "      <th>save2_0</th>\n",
       "      <th>save2_1</th>\n",
       "      <th>rdbcompression</th>\n",
       "      <th>rdb-save-incremental-fsync</th>\n",
       "      <th>active-defrag-cycle-max</th>\n",
       "      <th>maxmemory</th>\n",
       "      <th>maxmemory-samples</th>\n",
       "      <th>lazyfree-lazy-expire</th>\n",
       "    </tr>\n",
       "  </thead>\n",
       "  <tbody>\n",
       "    <tr>\n",
       "      <th>1096</th>\n",
       "      <td>732</td>\n",
       "      <td>1068</td>\n",
       "      <td>4</td>\n",
       "      <td>99</td>\n",
       "      <td>65</td>\n",
       "      <td>9047</td>\n",
       "      <td>no</td>\n",
       "      <td>yes</td>\n",
       "      <td>0.0</td>\n",
       "      <td>1000</td>\n",
       "      <td>3</td>\n",
       "      <td>no</td>\n",
       "    </tr>\n",
       "  </tbody>\n",
       "</table>\n",
       "</div>"
      ],
      "text/plain": [
       "      hash-max-ziplist-entries  save0_0  save0_1  save1_1  save2_0  save2_1  \\\n",
       "1096                       732     1068        4       99       65     9047   \n",
       "\n",
       "     rdbcompression rdb-save-incremental-fsync  active-defrag-cycle-max  \\\n",
       "1096             no                        yes                      0.0   \n",
       "\n",
       "      maxmemory  maxmemory-samples lazyfree-lazy-expire  \n",
       "1096       1000                  3                   no  "
      ]
     },
     "execution_count": 164,
     "metadata": {},
     "output_type": "execute_result"
    }
   ],
   "source": [
    "X_test.iloc[:1,:]"
   ]
  },
  {
   "cell_type": "code",
   "execution_count": 165,
   "metadata": {},
   "outputs": [
    {
     "data": {
      "text/plain": [
       "array([58577.30546875])"
      ]
     },
     "execution_count": 165,
     "metadata": {},
     "output_type": "execute_result"
    }
   ],
   "source": [
    "lgbm_wrapper.predict(X_test.iloc[3:4,:])"
   ]
  },
  {
   "cell_type": "code",
   "execution_count": 166,
   "metadata": {},
   "outputs": [
    {
     "data": {
      "text/plain": [
       "58710.469958536785"
      ]
     },
     "execution_count": 166,
     "metadata": {},
     "output_type": "execute_result"
    }
   ],
   "source": [
    "# 예측 prediction 시험\n",
    "\n",
    "df_result_test = {}\n",
    "\n",
    "for i in knobs_list:\n",
    "    df_result_test[i] = ''\n",
    "\n",
    "df_result_test['save0_0'] = [100]\n",
    "df_result_test['save0_1'] = [100]\n",
    "df_result_test['save1_1'] = [0]\n",
    "df_result_test['save2_1'] = [0]\n",
    "df_result_test['hash-max-ziplist-entries'] = [0]\n",
    "df_result_test['rdb-save-incremental-fsync'] = ['yes']\n",
    "df_result_test['lazyfree-lazy-expire'] = ['no']\n",
    "\n",
    "df_result_test['save2_0'] = [0]\n",
    "df_result_test['rdbcompression'] = ['yes']\n",
    "df_result_test['active-defrag-cycle-max'] = [0]\n",
    "df_result_test['maxmemory'] = [0]\n",
    "df_result_test['maxmemory-samples'] = [0]\n",
    "\n",
    "\n",
    "\n",
    "df_result_test2 = pd.DataFrame(df_result_test)\n",
    "# for idx, ty in enumerate(list(df_result_test2.dtypes)):\n",
    "#     if ty == 'O':\n",
    "#         df_result_test2.iloc[0,idx].astype('category')\n",
    "    \n",
    "for elem in df_result_test2:\n",
    "    if df_result_test2[elem].dtype == 'O':\n",
    "        \n",
    "        df_result_test2[elem] = df_result_test2[elem].astype('category')\n",
    "        \n",
    "lgbm_wrapper.predict(df_result_test2.iloc[:1,:])[0]"
   ]
  },
  {
   "cell_type": "code",
   "execution_count": 167,
   "metadata": {},
   "outputs": [
    {
     "data": {
      "text/html": [
       "<div>\n",
       "<style scoped>\n",
       "    .dataframe tbody tr th:only-of-type {\n",
       "        vertical-align: middle;\n",
       "    }\n",
       "\n",
       "    .dataframe tbody tr th {\n",
       "        vertical-align: top;\n",
       "    }\n",
       "\n",
       "    .dataframe thead th {\n",
       "        text-align: right;\n",
       "    }\n",
       "</style>\n",
       "<table border=\"1\" class=\"dataframe\">\n",
       "  <thead>\n",
       "    <tr style=\"text-align: right;\">\n",
       "      <th></th>\n",
       "      <th>hash-max-ziplist-entries</th>\n",
       "      <th>save0_0</th>\n",
       "      <th>save0_1</th>\n",
       "      <th>save1_1</th>\n",
       "      <th>save2_0</th>\n",
       "      <th>save2_1</th>\n",
       "      <th>rdbcompression</th>\n",
       "      <th>rdb-save-incremental-fsync</th>\n",
       "      <th>active-defrag-cycle-max</th>\n",
       "      <th>maxmemory</th>\n",
       "      <th>maxmemory-samples</th>\n",
       "      <th>lazyfree-lazy-expire</th>\n",
       "    </tr>\n",
       "  </thead>\n",
       "  <tbody>\n",
       "    <tr>\n",
       "      <th>0</th>\n",
       "      <td>0</td>\n",
       "      <td>100</td>\n",
       "      <td>100</td>\n",
       "      <td>0</td>\n",
       "      <td>0</td>\n",
       "      <td>0</td>\n",
       "      <td>yes</td>\n",
       "      <td>yes</td>\n",
       "      <td>0</td>\n",
       "      <td>0</td>\n",
       "      <td>0</td>\n",
       "      <td>no</td>\n",
       "    </tr>\n",
       "  </tbody>\n",
       "</table>\n",
       "</div>"
      ],
      "text/plain": [
       "   hash-max-ziplist-entries  save0_0  save0_1  save1_1  save2_0  save2_1  \\\n",
       "0                         0      100      100        0        0        0   \n",
       "\n",
       "  rdbcompression rdb-save-incremental-fsync  active-defrag-cycle-max  \\\n",
       "0            yes                        yes                        0   \n",
       "\n",
       "   maxmemory  maxmemory-samples lazyfree-lazy-expire  \n",
       "0          0                  0                   no  "
      ]
     },
     "execution_count": 167,
     "metadata": {},
     "output_type": "execute_result"
    }
   ],
   "source": [
    "df_result_test2"
   ]
  },
  {
   "cell_type": "code",
   "execution_count": 168,
   "metadata": {},
   "outputs": [
    {
     "data": {
      "text/plain": [
       "array([58710.46995854])"
      ]
     },
     "execution_count": 168,
     "metadata": {},
     "output_type": "execute_result"
    }
   ],
   "source": [
    "lgbm_wrapper.predict(df_result_test2)"
   ]
  },
  {
   "cell_type": "code",
   "execution_count": 169,
   "metadata": {},
   "outputs": [
    {
     "data": {
      "text/plain": [
       "<AxesSubplot:title={'center':'Feature importance'}, xlabel='Feature importance', ylabel='Features'>"
      ]
     },
     "execution_count": 169,
     "metadata": {},
     "output_type": "execute_result"
    },
    {
     "data": {
      "image/png": "[encoded data removed]",
      "text/plain": [
       "<Figure size 720x864 with 1 Axes>"
      ]
     },
     "metadata": {
      "needs_background": "light"
     },
     "output_type": "display_data"
    }
   ],
   "source": [
    "# plot_importance()를 이영해 피처 중요도 시각화\n",
    "from lightgbm import plot_importance\n",
    "import matplotlib.pyplot as plt\n",
    "%matplotlib inline\n",
    "\n",
    "fig, ax = plt.subplots(figsize=(10, 12))\n",
    "plot_importance(lgbm_wrapper, ax= ax)"
   ]
  },
  {
   "cell_type": "code",
   "execution_count": 170,
   "metadata": {},
   "outputs": [
    {
     "data": {
      "text/plain": [
       "12188843.433550263"
      ]
     },
     "execution_count": 170,
     "metadata": {},
     "output_type": "execute_result"
    }
   ],
   "source": [
    "from sklearn.metrics import mean_absolute_error, mean_squared_error\n",
    "\n",
    "mse = mean_squared_error(y_test ,preds)\n",
    "mse"
   ]
  },
  {
   "cell_type": "markdown",
   "metadata": {},
   "source": [
    "### 하이퍼파라미터 튜닝"
   ]
  },
  {
   "cell_type": "code",
   "execution_count": 171,
   "metadata": {},
   "outputs": [],
   "source": [
    "# from sklearn.model_selection import GridSearchCV\n",
    "\n",
    "# # 하이퍼파라미터 튜닝시 수행 속도를 향상시키기 위해 n_estimators를 200으로 감소\n",
    "# lgbm_wrapper = LGBMRegressor(n_estimators = 200)\n",
    "\n",
    "# params = {\n",
    "#     'num_leaves':[32, 64],\n",
    "#     'max_depth':[128, 160],\n",
    "#     'min_child_samples':[60, 100],\n",
    "#     'subsample':[0.8, 1]\n",
    "# }\n",
    "\n",
    "# # cv는 3으로 가정 (교차 검증을 자동으로 해주는건가?)\n",
    "# gridcv = GridSearchCV(lgbm_wrapper, param_grid = params, cv=3)\n",
    "# gridcv.fit(X_train, y_train, early_stopping_rounds = 30, eval_metric='auc', \n",
    "#           eval_set = [(X_train, y_train), (X_test, y_test)])\n",
    "\n",
    "# print('GridSeaerchCV 최적 파라미터:', gridcv.best_params_)"
   ]
  },
  {
   "cell_type": "code",
   "execution_count": 172,
   "metadata": {
    "scrolled": true
   },
   "outputs": [],
   "source": [
    "# # 하이퍼 파라미터 적용 후 다시 생성\n",
    "# lgbm_wrapper = LGBMRegressor(n_estimators = 1000,\n",
    "#                             num_leaves = 32,\n",
    "#                             subsample=0.8,\n",
    "#                             min_child_samples=60,\n",
    "#                             max_depth=128)\n",
    "\n",
    "# evals = [(X_test, y_test)]\n",
    "\n",
    "# lgbm_wrapper.fit(X_train, y_train, early_stopping_rounds=100,\n",
    "#                 eval_metric='auc',\n",
    "#                 eval_set=evals,\n",
    "#                 verbose=True)"
   ]
  },
  {
   "cell_type": "markdown",
   "metadata": {},
   "source": [
    "---"
   ]
  },
  {
   "cell_type": "markdown",
   "metadata": {},
   "source": [
    "# BO"
   ]
  },
  {
   "cell_type": "markdown",
   "metadata": {},
   "source": [
    "## 목적함수"
   ]
  },
  {
   "cell_type": "code",
   "execution_count": 173,
   "metadata": {},
   "outputs": [],
   "source": [
    "# noise_level = 0.1\n",
    "\n",
    "# def objective_func(knob_value, noise_level=noise_level):\n",
    "#     knob_dict = {}\n",
    "\n",
    "#     for i, knob in enumerate(knobs_list): # 딕셔너리로 이동\n",
    "#         knob_dict[knob] = knob_value[i]\n",
    "    \n",
    "# #     # 고정\n",
    "\n",
    "# #     knob_dict['hash-max-ziplist-entries'] =305\n",
    "# #     knob_dict['hash-max-ziplist-value'] =157\n",
    "# #     knob_dict['activerehashing'] ='yes'\n",
    "# #     knob_dict['hz'] = 32\n",
    "# #     knob_dict['dynamic-hz'] ='yes'\n",
    "# #     knob_dict['save0_0'] = 722\n",
    "# #     knob_dict['save0_1'] = 5\n",
    "# #     knob_dict['save1_0'] = 475\n",
    "# #     knob_dict['save1_1'] =12\n",
    "# #     knob_dict['save2_0'] = 82\n",
    "# #     knob_dict['save2_1'] =9163\n",
    "# #     knob_dict['rdbcompression'] = 'no'\n",
    "# #     knob_dict['rdbchecksum'] = 'no'\n",
    "# #     knob_dict['rdb-save-incremental-fsync'] = 'no'\n",
    "# #     knob_dict['active-defrag-threshold-lower'] = 13\n",
    "# #     knob_dict['active-defrag-threshold-upper'] = 72\n",
    "# #     knob_dict['active-defrag-cycle-min'] = 2\n",
    "# #     knob_dict['active-defrag-cycle-max'] = 73\n",
    "# #     knob_dict['maxmemory'] = 1221\n",
    "# #     knob_dict[\"maxmemory-policy\"] = 'allkeys-random'\n",
    "# #     knob_dict['maxmemory-samples'] =3\n",
    "# #     knob_dict['lazyfree-lazy-eviction'] = 'no'\n",
    "# #     knob_dict['lazyfree-lazy-expire'] = 'yes'\n",
    "# #     knob_dict['lazyfree-lazy-server-del'] = 'no'\n",
    "        \n",
    "#     if 'activedefrag' in knob_dict:\n",
    "#         if knob_dict['activedefrag'] == 'no':  # activedefrag no인 경우 나머지 관련 knob들에 0할당!\n",
    "#             activ_var = ['active-defrag-threshold-lower', 'active-defrag-threshold-upper', 'active-defrag-cycle-min', 'active-defrag-cycle-max']\n",
    "#             for activ_knob in activ_var:\n",
    "#                 knob_dict[activ_knob] = 0     \n",
    "    \n",
    "#     knob_df = pd.DataFrame(knob_dict, index=[0])  # 데이터 프레임으로 변환\n",
    "    \n",
    "#     # 카테고리 변수 변경\n",
    "#     for knob in category_knob:\n",
    "#         knob_df[knob] = knob_df[knob].astype('category') \n",
    "\n",
    "#     return -lgbm_wrapper.predict(knob_df)[0]\n",
    "\n",
    "\n",
    "noise_level = 0.1\n",
    "\n",
    "def objective_func2(knob_value, noise_level=noise_level):\n",
    "    knob_dict = {}\n",
    "    \n",
    "    for knob in knobs_list:\n",
    "        knob_dict[knob] = ''\n",
    "    \n",
    "    # cluster0 인덱스 순서와 무관\n",
    "    knob_dict['save0_0'] = 722\n",
    "    knob_dict['save0_1'] = 5\n",
    "    knob_dict['save1_1'] = 12\n",
    "    knob_dict['save2_1'] = 9163   \n",
    "    knob_dict['hash-max-ziplist-entries'] = 305\n",
    "    knob_dict['rdb-save-incremental-fsync'] = 'no'\n",
    "    knob_dict['lazyfree-lazy-expire'] = 'yes'\n",
    "\n",
    "    # 나머지 새로운 넣어주기 \n",
    "    for i, knob in enumerate(list(knobs_rdb2.keys())): # 현재 클러스터 내용만 담긴다. \n",
    "        knob_dict[knob] = knob_value[i]\n",
    "    \n",
    "    \n",
    "#     # cluster1\n",
    "#     knob_dict['save2_0'] = 60\n",
    "#     knob_dict['maxmemory'] = 2466    \n",
    "#     knob_dict['maxmemory-samples'] = 6\n",
    "#     knob_dict['rdbcomporession'] = 'yes'\n",
    "#     knob_dict['active-defrag-cycle-max'] = 722\n",
    "        \n",
    "    if 'activedefrag' in knob_dict:\n",
    "        if knob_dict['activedefrag'] == 'no':  # activedefrag no인 경우 나머지 관련 knob들에 0할당!\n",
    "            activ_var = ['active-defrag-threshold-lower', 'active-defrag-threshold-upper', 'active-defrag-cycle-min', 'active-defrag-cycle-max']\n",
    "            for activ_knob in activ_var:\n",
    "                knob_dict[activ_knob] = 0     \n",
    "    \n",
    "    knob_df = pd.DataFrame(knob_dict, index=[0])  # 데이터 프레임으로 변환\n",
    "    \n",
    "    # 카테고리 변수 변경\n",
    "    for knob in category_knob:\n",
    "        knob_df[knob] = knob_df[knob].astype('category') \n",
    "        \n",
    "#     print('#########')    \n",
    "#     print(knob_df)\n",
    "\n",
    "    return -lgbm_wrapper.predict(knob_df)[0]\n",
    "\n",
    "\n",
    "#     change_numeric = ['active-defrag-threshold-lower', 'active-defrag-threshold-upper', 'active-defrag-cycle-min', 'active-defrag-cycle-max']\n"
   ]
  },
  {
   "cell_type": "code",
   "execution_count": 174,
   "metadata": {},
   "outputs": [],
   "source": [
    "# knob 종류 및 바운드\n",
    "[60, 'yes', 83, 2466, 6]\n",
    "knobs_rdb2 = {\n",
    "    \n",
    "#     \"hash-max-ziplist-entries\":     (256, 751), \n",
    "#     \"hash-max-ziplist-value\": (16, 257),\n",
    "#     \"activerehashing\": ('yes', 'no'),  ##yes\n",
    "#     \"hz\": (1, 41),\n",
    "#     \"dynamic-hz\": ('yes', 'no'),\n",
    "\n",
    "#     \"save0_0\": (700,1100),\n",
    "#     \"save0_1\": (1,9),\n",
    "#     \"save1_0\": (100,500),\n",
    "#     \"save1_1\": (10,100),\n",
    "    \"save2_0\": (30,90),\n",
    "#     \"save2_1\": (8000,12000),\n",
    "\n",
    "    \"rdbcompression\": ('yes', 'no'), ##yes\n",
    "#     \"rdbchecksum\": ('yes', 'no'),    ##yes\n",
    "#     \"rdb-save-incremental-fsync\": ('yes', 'no'),   ## yes\n",
    "\n",
    "#     \"activedefrag\": ('yes','no'),  \n",
    "#     \"active-defrag-threshold-lower\": (1, 31),\n",
    "#     \"active-defrag-threshold-upper\": (70, 101),\n",
    "#     \"active-defrag-cycle-min\": (1, 31),\n",
    "    \"active-defrag-cycle-max\": (70, 91),\n",
    "    \n",
    "    \"maxmemory\": (1000, 2900),   ##\"volatile-lru\"\n",
    "#     \"maxmemory-policy\":     (\"volatile-lru\", \"allkeys-lru\", \"volatile-lfu\", \"allkeys-lfu\", \n",
    "#                              \"volatile-random\",\"allkeys-random\", \"volatile-ttl\", \"noeviction\"),\n",
    "    \"maxmemory-samples\": (3, 7),\n",
    "    \n",
    "#     \"lazyfree-lazy-eviction\": ('yes', 'no'),\n",
    "#     \"lazyfree-lazy-expire\": ('yes', 'no'),\n",
    "#     \"lazyfree-lazy-server-del\": ('yes', 'no')\n",
    "}\n",
    "\n",
    "knobs_list2 = list(knobs_rdb2.keys())\n",
    "knobs_bound2 = list(knobs_rdb2.values())"
   ]
  },
  {
   "cell_type": "markdown",
   "metadata": {},
   "source": [
    "## gp_minimize"
   ]
  },
  {
   "cell_type": "code",
   "execution_count": 175,
   "metadata": {},
   "outputs": [
    {
     "name": "stdout",
     "output_type": "stream",
     "text": [
      "Automatically created module for IPython interactive environment\n"
     ]
    }
   ],
   "source": [
    "%matplotlib inline\n",
    "print(__doc__)\n",
    "\n",
    "import numpy as np\n",
    "np.random.seed(237)\n",
    "import matplotlib.pyplot as plt\n",
    "from skopt.plots import plot_gaussian_process\n",
    "from skopt import gp_minimize"
   ]
  },
  {
   "cell_type": "code",
   "execution_count": 176,
   "metadata": {},
   "outputs": [
    {
     "name": "stderr",
     "output_type": "stream",
     "text": [
      "/Users/joseong-un/opt/anaconda3/lib/python3.8/site-packages/skopt/optimizer/optimizer.py:449: UserWarning: The objective has been evaluated at this point before.\n",
      "  warnings.warn(\"The objective has been evaluated \"\n",
      "/Users/joseong-un/opt/anaconda3/lib/python3.8/site-packages/skopt/optimizer/optimizer.py:449: UserWarning: The objective has been evaluated at this point before.\n",
      "  warnings.warn(\"The objective has been evaluated \"\n",
      "/Users/joseong-un/opt/anaconda3/lib/python3.8/site-packages/skopt/optimizer/optimizer.py:449: UserWarning: The objective has been evaluated at this point before.\n",
      "  warnings.warn(\"The objective has been evaluated \"\n",
      "/Users/joseong-un/opt/anaconda3/lib/python3.8/site-packages/skopt/optimizer/optimizer.py:449: UserWarning: The objective has been evaluated at this point before.\n",
      "  warnings.warn(\"The objective has been evaluated \"\n",
      "/Users/joseong-un/opt/anaconda3/lib/python3.8/site-packages/skopt/optimizer/optimizer.py:449: UserWarning: The objective has been evaluated at this point before.\n",
      "  warnings.warn(\"The objective has been evaluated \"\n",
      "/Users/joseong-un/opt/anaconda3/lib/python3.8/site-packages/skopt/optimizer/optimizer.py:449: UserWarning: The objective has been evaluated at this point before.\n",
      "  warnings.warn(\"The objective has been evaluated \"\n",
      "/Users/joseong-un/opt/anaconda3/lib/python3.8/site-packages/skopt/optimizer/optimizer.py:449: UserWarning: The objective has been evaluated at this point before.\n",
      "  warnings.warn(\"The objective has been evaluated \"\n",
      "/Users/joseong-un/opt/anaconda3/lib/python3.8/site-packages/skopt/optimizer/optimizer.py:449: UserWarning: The objective has been evaluated at this point before.\n",
      "  warnings.warn(\"The objective has been evaluated \"\n",
      "/Users/joseong-un/opt/anaconda3/lib/python3.8/site-packages/skopt/optimizer/optimizer.py:449: UserWarning: The objective has been evaluated at this point before.\n",
      "  warnings.warn(\"The objective has been evaluated \"\n",
      "/Users/joseong-un/opt/anaconda3/lib/python3.8/site-packages/skopt/optimizer/optimizer.py:449: UserWarning: The objective has been evaluated at this point before.\n",
      "  warnings.warn(\"The objective has been evaluated \"\n",
      "/Users/joseong-un/opt/anaconda3/lib/python3.8/site-packages/skopt/optimizer/optimizer.py:449: UserWarning: The objective has been evaluated at this point before.\n",
      "  warnings.warn(\"The objective has been evaluated \"\n",
      "/Users/joseong-un/opt/anaconda3/lib/python3.8/site-packages/skopt/optimizer/optimizer.py:449: UserWarning: The objective has been evaluated at this point before.\n",
      "  warnings.warn(\"The objective has been evaluated \"\n",
      "/Users/joseong-un/opt/anaconda3/lib/python3.8/site-packages/skopt/optimizer/optimizer.py:449: UserWarning: The objective has been evaluated at this point before.\n",
      "  warnings.warn(\"The objective has been evaluated \"\n",
      "/Users/joseong-un/opt/anaconda3/lib/python3.8/site-packages/skopt/optimizer/optimizer.py:449: UserWarning: The objective has been evaluated at this point before.\n",
      "  warnings.warn(\"The objective has been evaluated \"\n",
      "/Users/joseong-un/opt/anaconda3/lib/python3.8/site-packages/skopt/optimizer/optimizer.py:449: UserWarning: The objective has been evaluated at this point before.\n",
      "  warnings.warn(\"The objective has been evaluated \"\n",
      "/Users/joseong-un/opt/anaconda3/lib/python3.8/site-packages/skopt/optimizer/optimizer.py:449: UserWarning: The objective has been evaluated at this point before.\n",
      "  warnings.warn(\"The objective has been evaluated \"\n",
      "/Users/joseong-un/opt/anaconda3/lib/python3.8/site-packages/skopt/optimizer/optimizer.py:449: UserWarning: The objective has been evaluated at this point before.\n",
      "  warnings.warn(\"The objective has been evaluated \"\n"
     ]
    }
   ],
   "source": [
    "res = gp_minimize(objective_func2,                  # the function to minimize\n",
    "                  knobs_bound2,      # the bounds on each dimension of x\n",
    "                  acq_func=\"EI\",      # the acquisition function\n",
    "                  n_calls=50,         # the number of evaluations of f\n",
    "                  n_random_starts=20,  # the number of random initialization points\n",
    "                  noise=0.1**2,       # the noise level (optional)\n",
    "                  random_state=1234)   # the random seed"
   ]
  },
  {
   "cell_type": "code",
   "execution_count": 177,
   "metadata": {
    "scrolled": true
   },
   "outputs": [
    {
     "data": {
      "text/plain": [
       "[74, 'yes', 91, 1223, 5]"
      ]
     },
     "execution_count": 177,
     "metadata": {},
     "output_type": "execute_result"
    }
   ],
   "source": [
    "res.x"
   ]
  },
  {
   "cell_type": "code",
   "execution_count": 178,
   "metadata": {},
   "outputs": [
    {
     "data": {
      "text/plain": [
       "[[60, 'yes', 83, 2466, 6],\n",
       " [39, 'no', 87, 1302, 3],\n",
       " [31, 'no', 77, 2525, 3],\n",
       " [33, 'no', 70, 1552, 4],\n",
       " [74, 'yes', 91, 1223, 5],\n",
       " [57, 'yes', 87, 1885, 5],\n",
       " [64, 'yes', 71, 2041, 5],\n",
       " [53, 'no', 87, 2228, 3],\n",
       " [90, 'yes', 90, 2744, 7],\n",
       " [54, 'no', 79, 2453, 5],\n",
       " [35, 'yes', 73, 1061, 4],\n",
       " [58, 'no', 78, 1225, 7],\n",
       " [76, 'no', 71, 2722, 6],\n",
       " [67, 'no', 76, 2257, 7],\n",
       " [70, 'no', 74, 1022, 3],\n",
       " [74, 'yes', 84, 2882, 6],\n",
       " [87, 'yes', 81, 1320, 4],\n",
       " [86, 'yes', 80, 2679, 5],\n",
       " [40, 'no', 79, 1047, 5],\n",
       " [77, 'no', 74, 1337, 5],\n",
       " [79, 'yes', 91, 1000, 6],\n",
       " [79, 'yes', 90, 2900, 4],\n",
       " [77, 'yes', 91, 2900, 5],\n",
       " [90, 'yes', 91, 1000, 5],\n",
       " [77, 'yes', 91, 1000, 7],\n",
       " [77, 'yes', 71, 1000, 6],\n",
       " [81, 'yes', 85, 1000, 7],\n",
       " [90, 'yes', 84, 2900, 3],\n",
       " [76, 'yes', 87, 2900, 3],\n",
       " [86, 'yes', 85, 2900, 7],\n",
       " [90, 'yes', 91, 2900, 7],\n",
       " [90, 'yes', 91, 2641, 7],\n",
       " [90, 'yes', 91, 2900, 7],\n",
       " [90, 'yes', 91, 2900, 7],\n",
       " [90, 'yes', 91, 2900, 7],\n",
       " [90, 'yes', 91, 2900, 7],\n",
       " [90, 'yes', 91, 2900, 7],\n",
       " [90, 'yes', 91, 2900, 7],\n",
       " [90, 'yes', 91, 2900, 7],\n",
       " [90, 'yes', 91, 2900, 7],\n",
       " [90, 'yes', 91, 2900, 7],\n",
       " [90, 'yes', 91, 2900, 7],\n",
       " [90, 'yes', 91, 2900, 7],\n",
       " [90, 'yes', 91, 2900, 7],\n",
       " [90, 'yes', 91, 2900, 7],\n",
       " [90, 'yes', 91, 2900, 7],\n",
       " [90, 'no', 91, 2900, 7],\n",
       " [90, 'no', 91, 2900, 7],\n",
       " [90, 'no', 91, 2900, 7],\n",
       " [90, 'no', 91, 2900, 7]]"
      ]
     },
     "execution_count": 178,
     "metadata": {},
     "output_type": "execute_result"
    }
   ],
   "source": [
    "res.x_iters # "
   ]
  },
  {
   "cell_type": "code",
   "execution_count": 179,
   "metadata": {},
   "outputs": [
    {
     "data": {
      "text/plain": [
       "array([-58571.76532278, -58709.57033127, -58726.12411019, -58709.57033127,\n",
       "       -58825.38338173, -58486.323848  , -58571.76532278, -58709.57033127,\n",
       "       -58825.38338173, -58577.96627414, -58709.57033127, -58571.76532278,\n",
       "       -58594.22265428, -58571.76532278, -58571.76532278, -58825.38338173,\n",
       "       -58825.38338173, -58825.38338173, -58709.57033127, -58594.22265428,\n",
       "       -58825.38338173, -58825.38338173, -58825.38338173, -58825.38338173,\n",
       "       -58825.38338173, -58594.22265428, -58825.38338173, -58825.38338173,\n",
       "       -58825.38338173, -58825.38338173, -58825.38338173, -58825.38338173,\n",
       "       -58825.38338173, -58825.38338173, -58825.38338173, -58825.38338173,\n",
       "       -58825.38338173, -58825.38338173, -58825.38338173, -58825.38338173,\n",
       "       -58825.38338173, -58825.38338173, -58825.38338173, -58825.38338173,\n",
       "       -58825.38338173, -58825.38338173, -58825.38338173, -58825.38338173,\n",
       "       -58825.38338173, -58825.38338173])"
      ]
     },
     "execution_count": 179,
     "metadata": {},
     "output_type": "execute_result"
    }
   ],
   "source": [
    "res.func_vals"
   ]
  },
  {
   "cell_type": "code",
   "execution_count": 180,
   "metadata": {},
   "outputs": [
    {
     "data": {
      "text/plain": [
       "-58825.38338172531"
      ]
     },
     "execution_count": 180,
     "metadata": {},
     "output_type": "execute_result"
    }
   ],
   "source": [
    "res.fun"
   ]
  },
  {
   "cell_type": "markdown",
   "metadata": {},
   "source": [
    "---"
   ]
  },
  {
   "cell_type": "code",
   "execution_count": 181,
   "metadata": {},
   "outputs": [],
   "source": [
    "# gp 결과 정리 함수\n",
    "def li_to_str(result_list):\n",
    "    for idx,knob in enumerate(list(knobs_rdb.keys())):  # knobs_rdb 키마다 접근\n",
    "        print(\"{} \".format(knob), end='')\n",
    "        print('{}'.format(result_list[idx]))"
   ]
  },
  {
   "cell_type": "code",
   "execution_count": 74,
   "metadata": {},
   "outputs": [
    {
     "name": "stdout",
     "output_type": "stream",
     "text": [
      "hash-max-ziplist-entries 305\n",
      "save0_0 722\n",
      "save0_1 5\n",
      "save1_1 12\n",
      "save2_1 9163\n",
      "rdb-save-incremental-fsync no\n",
      "lazyfree-lazy-expire yes\n"
     ]
    }
   ],
   "source": [
    "# gp 결과\n",
    "li_to_str(res.x)"
   ]
  },
  {
   "cell_type": "markdown",
   "metadata": {},
   "source": [
    "## gp 결과 정리\n",
    "\n",
    "### gp 분류된것\n",
    "\"hash-max-ziplist-entries\" : 284\n",
    "'hash-max-ziplist-value' 22\n",
    "'activerehashing': 'yes'\n",
    "'hz' 32\n",
    "'dynamic-hz' : 'yes'\n",
    "'save0_0' : 877\n",
    "'save0_1'2\n",
    "'save1_0'272\n",
    "'save1_1' : 12\n",
    "'save2_0'33\n",
    "'save2_1' : 11669 \n",
    "'rdbcompression'no\n",
    "'rdbchecksum' yes\n",
    "\"rdb-save-incremental-fsync\" 'no'\n",
    "'active-defrag-threshold-lower'3\n",
    "'active-defrag-threshold-upper': 87\n",
    "'active-defrag-cycle-min' : 25\n",
    "'active-defrag-cycle-max' : 80\n",
    "'maxmemory'1298\n",
    "maxmemory-policy : 'allkeys-random' \n",
    "'maxmemory-samples'6\n",
    "\"lazyfree-lazy-eviction\"  'no'\n",
    "'lazyfree-lazy-expire' yes\n",
    "'lazyfree-lazy-server-del' yes\n",
    "\n",
    "\n",
    "### gp 분류된것2\n",
    "hash-max-ziplist-entries 502\n",
    "hash-max-ziplist-value 213\n",
    "activerehashing yes\n",
    "hz 32\n",
    "dynamic-hz yes\n",
    "save0_0 760\n",
    "save0_1 3\n",
    "save1_0 426\n",
    "save1_1 24\n",
    "save2_0 37\n",
    "save2_1 8052 \n",
    "rdbcompression no\n",
    "rdbchecksum' no\n",
    "rdb-save-incremental-fsync yes\n",
    "active-defrag-threshold-lower 4\n",
    "active-defrag-threshold-upper 72\n",
    "active-defrag-cycle-min 14\n",
    "active-defrag-cycle-max 70\n",
    "maxmemory 1552\n",
    "maxmemory-policy allkeys-random\n",
    "maxmemory-samples 6\n",
    "lazyfree-lazy-eviction yes\n",
    "lazyfree-lazy-expire yes\n",
    "lazyfree-lazy-server-del no\n",
    "[575,\n",
    " 94,\n",
    " 'no',\n",
    " 10,\n",
    " 'yes',\n",
    " 1072,\n",
    " 5,\n",
    " 465,\n",
    " 24,\n",
    " 83,\n",
    " 9398,\n",
    " 'yes',\n",
    " 'yes',\n",
    " 'no',\n",
    " 26,\n",
    " 81,\n",
    " 20,\n",
    " 75,\n",
    " 1539,\n",
    " 'allkeys-lfu',\n",
    " 4,\n",
    " 'yes',\n",
    " 'no',\n",
    " 'no']\n",
    "\n",
    "### gp_T\n",
    "hash-max-ziplist-entries 575\n",
    "hash-max-ziplist-value 94\n",
    "activerehashing no\n",
    "hz 10\n",
    "dynamic-hz yes\n",
    "save0_0 1072\n",
    "save0_1 5\n",
    "save1_0 465\n",
    "save1_1 24\n",
    "save2_0 83\n",
    "save2_1 9398\n",
    "rdbcompression yes\n",
    "rdbchecksum yes\n",
    "rdb-save-incremental-fsync no\n",
    "active-defrag-threshold-lower 26\n",
    "active-defrag-threshold-upper 81\n",
    "active-defrag-cycle-min 20\n",
    "active-defrag-cycle-max 75\n",
    "maxmemory 1539\n",
    "maxmemory-policy allkeys-lfu\n",
    "maxmemory-samples 4\n",
    "lazyfree-lazy-eviction yes\n",
    "lazyfree-lazy-expire no\n",
    "lazyfree-lazy-server-del no\n",
    "\n"
   ]
  }
 ],
 "metadata": {
  "kernelspec": {
   "display_name": "Python 3",
   "language": "python",
   "name": "python3"
  },
  "language_info": {
   "codemirror_mode": {
    "name": "ipython",
    "version": 3
   },
   "file_extension": ".py",
   "mimetype": "text/x-python",
   "name": "python",
   "nbconvert_exporter": "python",
   "pygments_lexer": "ipython3",
   "version": "3.8.5"
  }
 },
 "nbformat": 4,
 "nbformat_minor": 4
}
