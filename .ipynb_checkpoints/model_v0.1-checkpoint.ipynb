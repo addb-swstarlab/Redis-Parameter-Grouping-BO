{
 "cells": [
  {
   "cell_type": "markdown",
   "metadata": {},
   "source": [
    "# BO RDB v\n",
    "* save, maxmemroy 반영 후\n",
    "* throughtput 값 40000대부터 시작"
   ]
  },
  {
   "cell_type": "markdown",
   "metadata": {},
   "source": [
    "* 모델 생성\n",
    "* 목적함수 생성"
   ]
  },
  {
   "cell_type": "code",
   "execution_count": 1,
   "metadata": {},
   "outputs": [],
   "source": [
    "import pandas as pd\n",
    "import numpy as np\n",
    "from sklearn.datasets import load_boston\n",
    "import xgboost\n",
    "import matplotlib.pyplot as plt\n",
    "from sklearn.model_selection import train_test_split\n",
    "from sklearn.metrics import explained_variance_score\n",
    "from lightgbm import LGBMRegressor, plot_importance\n",
    "import lightgbm as lgb\n",
    "from lightgbm import LGBMClassifier, LGBMRegressor"
   ]
  },
  {
   "cell_type": "markdown",
   "metadata": {},
   "source": [
    "## Model 생성"
   ]
  },
  {
   "cell_type": "markdown",
   "metadata": {},
   "source": [
    "### knobs 종류, 바운드 입력"
   ]
  },
  {
   "cell_type": "code",
   "execution_count": 30,
   "metadata": {},
   "outputs": [],
   "source": [
    "knobs_rdb = {\n",
    "    \n",
    "    \"hash-max-ziplist-entries\":     (256, 751), \n",
    "    \"hash-max-ziplist-value\": (16, 257),\n",
    "    \"activerehashing\": ('yes', 'no'),\n",
    "    \"hz\": (1, 41),\n",
    "    \"dynamic-hz\": ('yes', 'no'),\n",
    "\n",
    "    \"save0_0\": (700,1100),\n",
    "    \"save0_1\": (1,9),\n",
    "    \"save1_0\": (100,500),\n",
    "    \"save1_1\": (10,100),\n",
    "    \"save2_0\": (30,90),\n",
    "    \"save2_1\": (8000,12000),\n",
    "\n",
    "    \"rdbcompression\": ('yes', 'no'),\n",
    "    \"rdbchecksum\": ('yes', 'no'),\n",
    "    \"rdb-save-incremental-fsync\": ('yes', 'no'),\n",
    "\n",
    "    \"activedefrag\": ('yes', 'no'),\n",
    "    \"active-defrag-threshold-lower\": (1, 31),\n",
    "    \"active-defrag-threshold-upper\": (70, 101),\n",
    "    \"active-defrag-cycle-min\": (1, 31),\n",
    "    \"active-defrag-cycle-max\": (70, 91),\n",
    "    \n",
    "    \"maxmemory\": (1000, 2900),\n",
    "    \"maxmemory-policy\":     (\"volatile-lru\", \"allkeys-lru\", \"volatile-lfu\", \"allkeys-lfu\", \n",
    "                             \"volatile-random\",\"allkeys-random\", \"volatile-ttl\", \"noeviction\"),\n",
    "    \"maxmemory-samples\": (3, 7),\n",
    "    \n",
    "    \"lazyfree-lazy-eviction\": ('yes', 'no'),\n",
    "    \"lazyfree-lazy-expire\": ('yes', 'no'),\n",
    "    \"lazyfree-lazy-server-del\": ('yes', 'no')\n",
    "}\n",
    "\n",
    "knobs_list = list(knobs_rdb.keys())\n",
    "knobs_bound = list(knobs_rdb.values())"
   ]
  },
  {
   "cell_type": "code",
   "execution_count": 31,
   "metadata": {},
   "outputs": [
    {
     "name": "stdout",
     "output_type": "stream",
     "text": [
      "[(700, 1100), (1, 9), (100, 500), (10, 100), (30, 90), (8000, 12000), ('yes', 'no'), ('yes', 'no'), ('yes', 'no')]\n"
     ]
    }
   ],
   "source": [
    "# 확인\n",
    "print(knobs_bound)"
   ]
  },
  {
   "cell_type": "markdown",
   "metadata": {},
   "source": [
    "# 0. config data의 csv 파일 처리\n",
    "csv 파일은 confile.conf 파일에서 선별한 knob 값들을 파싱하여 저장된 상태이다. \n",
    "* config_df 는 랜덤하게 값을 할당한 모든 변수 존재한다. \n",
    "* 부분적으로 knob 선별 작업 필요!"
   ]
  },
  {
   "cell_type": "markdown",
   "metadata": {},
   "source": [
    "### csv 파일 가져오기"
   ]
  },
  {
   "cell_type": "code",
   "execution_count": 32,
   "metadata": {},
   "outputs": [],
   "source": [
    "# config data(.csv) -> DataFrame\n",
    "config_df = pd.read_csv(\"./data/result_config0.csv\", sep=',')"
   ]
  },
  {
   "cell_type": "code",
   "execution_count": 33,
   "metadata": {
    "scrolled": false
   },
   "outputs": [
    {
     "data": {
      "text/plain": [
       "appendonly                       float64\n",
       "appendfsync                      float64\n",
       "auto-aof-rewrite-percentage      float64\n",
       "auto-aof-rewrite-min-size        float64\n",
       "no-appendfsync-on-rewrite        float64\n",
       "aof-rewrite-incremental-fsync    float64\n",
       "aof-use-rdb-preamble             float64\n",
       "save0_0                            int64\n",
       "save0_1                            int64\n",
       "save1_0                            int64\n",
       "save1_1                            int64\n",
       "save2_0                            int64\n",
       "save2_1                            int64\n",
       "rdbcompression                    object\n",
       "rdbchecksum                       object\n",
       "rdb-save-incremental-fsync        object\n",
       "activedefrag                      object\n",
       "active-defrag-threshold-lower    float64\n",
       "active-defrag-threshold-upper    float64\n",
       "active-defrag-cycle-min          float64\n",
       "active-defrag-cycle-max          float64\n",
       "maxmemory                         object\n",
       "maxmemory-policy                  object\n",
       "maxmemory-samples                  int64\n",
       "lazyfree-lazy-eviction            object\n",
       "lazyfree-lazy-expire              object\n",
       "lazyfree-lazy-server-del          object\n",
       "hash-max-ziplist-entries           int64\n",
       "hash-max-ziplist-value             int64\n",
       "activerehashing                   object\n",
       "hz                                 int64\n",
       "dynamic-hz                        object\n",
       "dtype: object"
      ]
     },
     "execution_count": 33,
     "metadata": {},
     "output_type": "execute_result"
    }
   ],
   "source": [
    "# 확인\n",
    "config_df.dtypes"
   ]
  },
  {
   "cell_type": "markdown",
   "metadata": {},
   "source": [
    "### maxmemory 처리"
   ]
  },
  {
   "cell_type": "code",
   "execution_count": 34,
   "metadata": {},
   "outputs": [],
   "source": [
    "config_df['maxmemory']  = config_df['maxmemory'].str.strip('mb')"
   ]
  },
  {
   "cell_type": "code",
   "execution_count": 35,
   "metadata": {},
   "outputs": [],
   "source": [
    "config_df['maxmemory'] = pd.to_numeric(config_df['maxmemory'])"
   ]
  },
  {
   "cell_type": "code",
   "execution_count": 36,
   "metadata": {},
   "outputs": [
    {
     "name": "stdout",
     "output_type": "stream",
     "text": [
      "0       2700\n",
      "1       2200\n",
      "2       1700\n",
      "3       1000\n",
      "4       1900\n",
      "        ... \n",
      "2495    2800\n",
      "2496    1500\n",
      "2497    2900\n",
      "2498    2200\n",
      "2499    1400\n",
      "Name: maxmemory, Length: 2500, dtype: int64\n",
      "appendonly                       float64\n",
      "appendfsync                      float64\n",
      "auto-aof-rewrite-percentage      float64\n",
      "auto-aof-rewrite-min-size        float64\n",
      "no-appendfsync-on-rewrite        float64\n",
      "aof-rewrite-incremental-fsync    float64\n",
      "aof-use-rdb-preamble             float64\n",
      "save0_0                            int64\n",
      "save0_1                            int64\n",
      "save1_0                            int64\n",
      "save1_1                            int64\n",
      "save2_0                            int64\n",
      "save2_1                            int64\n",
      "rdbcompression                    object\n",
      "rdbchecksum                       object\n",
      "rdb-save-incremental-fsync        object\n",
      "activedefrag                      object\n",
      "active-defrag-threshold-lower    float64\n",
      "active-defrag-threshold-upper    float64\n",
      "active-defrag-cycle-min          float64\n",
      "active-defrag-cycle-max          float64\n",
      "maxmemory                          int64\n",
      "maxmemory-policy                  object\n",
      "maxmemory-samples                  int64\n",
      "lazyfree-lazy-eviction            object\n",
      "lazyfree-lazy-expire              object\n",
      "lazyfree-lazy-server-del          object\n",
      "hash-max-ziplist-entries           int64\n",
      "hash-max-ziplist-value             int64\n",
      "activerehashing                   object\n",
      "hz                                 int64\n",
      "dynamic-hz                        object\n",
      "dtype: object\n"
     ]
    }
   ],
   "source": [
    "# 확인\n",
    "print(config_df['maxmemory'])\n",
    "print(config_df.dtypes)"
   ]
  },
  {
   "cell_type": "markdown",
   "metadata": {},
   "source": [
    "### null 값 처리"
   ]
  },
  {
   "cell_type": "code",
   "execution_count": 37,
   "metadata": {
    "scrolled": true
   },
   "outputs": [],
   "source": [
    "# fillna(value = 0) 0 값으로 채워 넣기\n",
    "config_df = config_df.fillna(value = 0)"
   ]
  },
  {
   "cell_type": "code",
   "execution_count": 38,
   "metadata": {
    "scrolled": true
   },
   "outputs": [
    {
     "data": {
      "text/html": [
       "<div>\n",
       "<style scoped>\n",
       "    .dataframe tbody tr th:only-of-type {\n",
       "        vertical-align: middle;\n",
       "    }\n",
       "\n",
       "    .dataframe tbody tr th {\n",
       "        vertical-align: top;\n",
       "    }\n",
       "\n",
       "    .dataframe thead th {\n",
       "        text-align: right;\n",
       "    }\n",
       "</style>\n",
       "<table border=\"1\" class=\"dataframe\">\n",
       "  <thead>\n",
       "    <tr style=\"text-align: right;\">\n",
       "      <th></th>\n",
       "      <th>appendonly</th>\n",
       "      <th>appendfsync</th>\n",
       "      <th>auto-aof-rewrite-percentage</th>\n",
       "      <th>auto-aof-rewrite-min-size</th>\n",
       "      <th>no-appendfsync-on-rewrite</th>\n",
       "      <th>aof-rewrite-incremental-fsync</th>\n",
       "      <th>aof-use-rdb-preamble</th>\n",
       "      <th>save0_0</th>\n",
       "      <th>save0_1</th>\n",
       "      <th>save1_0</th>\n",
       "      <th>...</th>\n",
       "      <th>maxmemory-policy</th>\n",
       "      <th>maxmemory-samples</th>\n",
       "      <th>lazyfree-lazy-eviction</th>\n",
       "      <th>lazyfree-lazy-expire</th>\n",
       "      <th>lazyfree-lazy-server-del</th>\n",
       "      <th>hash-max-ziplist-entries</th>\n",
       "      <th>hash-max-ziplist-value</th>\n",
       "      <th>activerehashing</th>\n",
       "      <th>hz</th>\n",
       "      <th>dynamic-hz</th>\n",
       "    </tr>\n",
       "  </thead>\n",
       "  <tbody>\n",
       "    <tr>\n",
       "      <th>0</th>\n",
       "      <td>0.0</td>\n",
       "      <td>0.0</td>\n",
       "      <td>0.0</td>\n",
       "      <td>0.0</td>\n",
       "      <td>0.0</td>\n",
       "      <td>0.0</td>\n",
       "      <td>0.0</td>\n",
       "      <td>805</td>\n",
       "      <td>5</td>\n",
       "      <td>178</td>\n",
       "      <td>...</td>\n",
       "      <td>volatile-lru</td>\n",
       "      <td>5</td>\n",
       "      <td>no</td>\n",
       "      <td>yes</td>\n",
       "      <td>yes</td>\n",
       "      <td>258</td>\n",
       "      <td>253</td>\n",
       "      <td>no</td>\n",
       "      <td>7</td>\n",
       "      <td>yes</td>\n",
       "    </tr>\n",
       "    <tr>\n",
       "      <th>1</th>\n",
       "      <td>0.0</td>\n",
       "      <td>0.0</td>\n",
       "      <td>0.0</td>\n",
       "      <td>0.0</td>\n",
       "      <td>0.0</td>\n",
       "      <td>0.0</td>\n",
       "      <td>0.0</td>\n",
       "      <td>1097</td>\n",
       "      <td>3</td>\n",
       "      <td>499</td>\n",
       "      <td>...</td>\n",
       "      <td>allkeys-random</td>\n",
       "      <td>3</td>\n",
       "      <td>yes</td>\n",
       "      <td>yes</td>\n",
       "      <td>yes</td>\n",
       "      <td>360</td>\n",
       "      <td>226</td>\n",
       "      <td>yes</td>\n",
       "      <td>32</td>\n",
       "      <td>yes</td>\n",
       "    </tr>\n",
       "    <tr>\n",
       "      <th>2</th>\n",
       "      <td>0.0</td>\n",
       "      <td>0.0</td>\n",
       "      <td>0.0</td>\n",
       "      <td>0.0</td>\n",
       "      <td>0.0</td>\n",
       "      <td>0.0</td>\n",
       "      <td>0.0</td>\n",
       "      <td>1018</td>\n",
       "      <td>2</td>\n",
       "      <td>497</td>\n",
       "      <td>...</td>\n",
       "      <td>allkeys-lfu</td>\n",
       "      <td>3</td>\n",
       "      <td>yes</td>\n",
       "      <td>yes</td>\n",
       "      <td>yes</td>\n",
       "      <td>364</td>\n",
       "      <td>136</td>\n",
       "      <td>yes</td>\n",
       "      <td>40</td>\n",
       "      <td>no</td>\n",
       "    </tr>\n",
       "    <tr>\n",
       "      <th>3</th>\n",
       "      <td>0.0</td>\n",
       "      <td>0.0</td>\n",
       "      <td>0.0</td>\n",
       "      <td>0.0</td>\n",
       "      <td>0.0</td>\n",
       "      <td>0.0</td>\n",
       "      <td>0.0</td>\n",
       "      <td>858</td>\n",
       "      <td>5</td>\n",
       "      <td>423</td>\n",
       "      <td>...</td>\n",
       "      <td>noeviction</td>\n",
       "      <td>3</td>\n",
       "      <td>no</td>\n",
       "      <td>yes</td>\n",
       "      <td>no</td>\n",
       "      <td>417</td>\n",
       "      <td>173</td>\n",
       "      <td>no</td>\n",
       "      <td>37</td>\n",
       "      <td>no</td>\n",
       "    </tr>\n",
       "    <tr>\n",
       "      <th>4</th>\n",
       "      <td>0.0</td>\n",
       "      <td>0.0</td>\n",
       "      <td>0.0</td>\n",
       "      <td>0.0</td>\n",
       "      <td>0.0</td>\n",
       "      <td>0.0</td>\n",
       "      <td>0.0</td>\n",
       "      <td>727</td>\n",
       "      <td>6</td>\n",
       "      <td>230</td>\n",
       "      <td>...</td>\n",
       "      <td>allkeys-random</td>\n",
       "      <td>4</td>\n",
       "      <td>no</td>\n",
       "      <td>yes</td>\n",
       "      <td>no</td>\n",
       "      <td>522</td>\n",
       "      <td>141</td>\n",
       "      <td>yes</td>\n",
       "      <td>30</td>\n",
       "      <td>yes</td>\n",
       "    </tr>\n",
       "  </tbody>\n",
       "</table>\n",
       "<p>5 rows × 32 columns</p>\n",
       "</div>"
      ],
      "text/plain": [
       "   appendonly  appendfsync  auto-aof-rewrite-percentage  \\\n",
       "0         0.0          0.0                          0.0   \n",
       "1         0.0          0.0                          0.0   \n",
       "2         0.0          0.0                          0.0   \n",
       "3         0.0          0.0                          0.0   \n",
       "4         0.0          0.0                          0.0   \n",
       "\n",
       "   auto-aof-rewrite-min-size  no-appendfsync-on-rewrite  \\\n",
       "0                        0.0                        0.0   \n",
       "1                        0.0                        0.0   \n",
       "2                        0.0                        0.0   \n",
       "3                        0.0                        0.0   \n",
       "4                        0.0                        0.0   \n",
       "\n",
       "   aof-rewrite-incremental-fsync  aof-use-rdb-preamble  save0_0  save0_1  \\\n",
       "0                            0.0                   0.0      805        5   \n",
       "1                            0.0                   0.0     1097        3   \n",
       "2                            0.0                   0.0     1018        2   \n",
       "3                            0.0                   0.0      858        5   \n",
       "4                            0.0                   0.0      727        6   \n",
       "\n",
       "   save1_0  ...  maxmemory-policy  maxmemory-samples  lazyfree-lazy-eviction  \\\n",
       "0      178  ...      volatile-lru                  5                      no   \n",
       "1      499  ...    allkeys-random                  3                     yes   \n",
       "2      497  ...       allkeys-lfu                  3                     yes   \n",
       "3      423  ...        noeviction                  3                      no   \n",
       "4      230  ...    allkeys-random                  4                      no   \n",
       "\n",
       "  lazyfree-lazy-expire lazyfree-lazy-server-del hash-max-ziplist-entries  \\\n",
       "0                  yes                      yes                      258   \n",
       "1                  yes                      yes                      360   \n",
       "2                  yes                      yes                      364   \n",
       "3                  yes                       no                      417   \n",
       "4                  yes                       no                      522   \n",
       "\n",
       "  hash-max-ziplist-value  activerehashing  hz  dynamic-hz  \n",
       "0                    253               no   7         yes  \n",
       "1                    226              yes  32         yes  \n",
       "2                    136              yes  40          no  \n",
       "3                    173               no  37          no  \n",
       "4                    141              yes  30         yes  \n",
       "\n",
       "[5 rows x 32 columns]"
      ]
     },
     "execution_count": 38,
     "metadata": {},
     "output_type": "execute_result"
    }
   ],
   "source": [
    "# 확인\n",
    "## 확인 결과 모두 값이 0이면 제거하는 것이 좋다. !! 자동화 코드 만들 필요!\n",
    "config_df.head()"
   ]
  },
  {
   "cell_type": "markdown",
   "metadata": {},
   "source": [
    "### 카테고리 형 처리\n",
    "* numeric\n",
    "* category\n",
    "\n",
    "애초에 위 두가지 형태 밖에 존재하지 않는다. numeric의 경우 모두 numeric으로 처리가 된 상태이며, category의 경우 object로 처리가 될것이다. 따라서 Object인 경우에만 category형태로 타입을 변경해준다."
   ]
  },
  {
   "cell_type": "code",
   "execution_count": 39,
   "metadata": {},
   "outputs": [],
   "source": [
    "category_knob = []\n",
    "\n",
    "for knob in config_df:\n",
    "    if config_df[knob].dtype == 'O':  # Object인 경우 category 형으로 변경\n",
    "        config_df[knob] = config_df[knob].astype('category')\n",
    "        category_knob.append(knob)"
   ]
  },
  {
   "cell_type": "code",
   "execution_count": 40,
   "metadata": {},
   "outputs": [
    {
     "data": {
      "text/plain": [
       "['rdbcompression',\n",
       " 'rdbchecksum',\n",
       " 'rdb-save-incremental-fsync',\n",
       " 'activedefrag',\n",
       " 'maxmemory-policy',\n",
       " 'lazyfree-lazy-eviction',\n",
       " 'lazyfree-lazy-expire',\n",
       " 'lazyfree-lazy-server-del',\n",
       " 'activerehashing',\n",
       " 'dynamic-hz']"
      ]
     },
     "execution_count": 40,
     "metadata": {},
     "output_type": "execute_result"
    }
   ],
   "source": [
    "# 확인\n",
    "category_knob"
   ]
  },
  {
   "cell_type": "markdown",
   "metadata": {},
   "source": [
    "### knob 추출"
   ]
  },
  {
   "cell_type": "code",
   "execution_count": 41,
   "metadata": {},
   "outputs": [],
   "source": [
    "# knob 들만 추출\n",
    "config_df_knob = config_df.loc[:,knobs_list]"
   ]
  },
  {
   "cell_type": "code",
   "execution_count": 42,
   "metadata": {},
   "outputs": [
    {
     "data": {
      "text/html": [
       "<div>\n",
       "<style scoped>\n",
       "    .dataframe tbody tr th:only-of-type {\n",
       "        vertical-align: middle;\n",
       "    }\n",
       "\n",
       "    .dataframe tbody tr th {\n",
       "        vertical-align: top;\n",
       "    }\n",
       "\n",
       "    .dataframe thead th {\n",
       "        text-align: right;\n",
       "    }\n",
       "</style>\n",
       "<table border=\"1\" class=\"dataframe\">\n",
       "  <thead>\n",
       "    <tr style=\"text-align: right;\">\n",
       "      <th></th>\n",
       "      <th>save0_0</th>\n",
       "      <th>save0_1</th>\n",
       "      <th>save1_0</th>\n",
       "      <th>save1_1</th>\n",
       "      <th>save2_0</th>\n",
       "      <th>save2_1</th>\n",
       "      <th>rdbcompression</th>\n",
       "      <th>rdbchecksum</th>\n",
       "      <th>rdb-save-incremental-fsync</th>\n",
       "    </tr>\n",
       "  </thead>\n",
       "  <tbody>\n",
       "    <tr>\n",
       "      <th>0</th>\n",
       "      <td>805</td>\n",
       "      <td>5</td>\n",
       "      <td>178</td>\n",
       "      <td>91</td>\n",
       "      <td>36</td>\n",
       "      <td>9230</td>\n",
       "      <td>no</td>\n",
       "      <td>no</td>\n",
       "      <td>no</td>\n",
       "    </tr>\n",
       "    <tr>\n",
       "      <th>1</th>\n",
       "      <td>1097</td>\n",
       "      <td>3</td>\n",
       "      <td>499</td>\n",
       "      <td>33</td>\n",
       "      <td>82</td>\n",
       "      <td>9410</td>\n",
       "      <td>yes</td>\n",
       "      <td>no</td>\n",
       "      <td>no</td>\n",
       "    </tr>\n",
       "    <tr>\n",
       "      <th>2</th>\n",
       "      <td>1018</td>\n",
       "      <td>2</td>\n",
       "      <td>497</td>\n",
       "      <td>23</td>\n",
       "      <td>36</td>\n",
       "      <td>8649</td>\n",
       "      <td>yes</td>\n",
       "      <td>no</td>\n",
       "      <td>yes</td>\n",
       "    </tr>\n",
       "    <tr>\n",
       "      <th>3</th>\n",
       "      <td>858</td>\n",
       "      <td>5</td>\n",
       "      <td>423</td>\n",
       "      <td>14</td>\n",
       "      <td>80</td>\n",
       "      <td>8407</td>\n",
       "      <td>no</td>\n",
       "      <td>no</td>\n",
       "      <td>no</td>\n",
       "    </tr>\n",
       "    <tr>\n",
       "      <th>4</th>\n",
       "      <td>727</td>\n",
       "      <td>6</td>\n",
       "      <td>230</td>\n",
       "      <td>54</td>\n",
       "      <td>61</td>\n",
       "      <td>8327</td>\n",
       "      <td>yes</td>\n",
       "      <td>no</td>\n",
       "      <td>no</td>\n",
       "    </tr>\n",
       "  </tbody>\n",
       "</table>\n",
       "</div>"
      ],
      "text/plain": [
       "   save0_0  save0_1  save1_0  save1_1  save2_0  save2_1 rdbcompression  \\\n",
       "0      805        5      178       91       36     9230             no   \n",
       "1     1097        3      499       33       82     9410            yes   \n",
       "2     1018        2      497       23       36     8649            yes   \n",
       "3      858        5      423       14       80     8407             no   \n",
       "4      727        6      230       54       61     8327            yes   \n",
       "\n",
       "  rdbchecksum rdb-save-incremental-fsync  \n",
       "0          no                         no  \n",
       "1          no                         no  \n",
       "2          no                        yes  \n",
       "3          no                         no  \n",
       "4          no                         no  "
      ]
     },
     "execution_count": 42,
     "metadata": {},
     "output_type": "execute_result"
    }
   ],
   "source": [
    "# 확인\n",
    "config_df_knob.head()"
   ]
  },
  {
   "cell_type": "markdown",
   "metadata": {},
   "source": [
    "### 모두 값이 0일 경우 제거"
   ]
  },
  {
   "cell_type": "code",
   "execution_count": null,
   "metadata": {},
   "outputs": [],
   "source": []
  },
  {
   "cell_type": "markdown",
   "metadata": {},
   "source": [
    "### result.csv 파일 가져오기"
   ]
  },
  {
   "cell_type": "code",
   "execution_count": 43,
   "metadata": {},
   "outputs": [],
   "source": [
    "# external data(.csv) -> DataFrame\n",
    "external_df = pd.read_csv(\"./data/external_metrics0.csv\", sep=',')\n",
    "throughput_data = external_df['Gets_KB/sec']"
   ]
  },
  {
   "cell_type": "code",
   "execution_count": 44,
   "metadata": {
    "scrolled": true
   },
   "outputs": [
    {
     "data": {
      "text/plain": [
       "0       61645.41\n",
       "1       63270.32\n",
       "2       63602.49\n",
       "3       63679.99\n",
       "4       60092.30\n",
       "          ...   \n",
       "2495    58900.45\n",
       "2496    62418.19\n",
       "2497    60296.22\n",
       "2498    62108.52\n",
       "2499    63440.13\n",
       "Name: Gets_KB/sec, Length: 2500, dtype: float64"
      ]
     },
     "execution_count": 44,
     "metadata": {},
     "output_type": "execute_result"
    }
   ],
   "source": [
    "# throuput 값으로 예상 확인\n",
    "external_df['Gets_KB/sec']"
   ]
  },
  {
   "cell_type": "code",
   "execution_count": 45,
   "metadata": {},
   "outputs": [
    {
     "name": "stdout",
     "output_type": "stream",
     "text": [
      "max: 66377.65\n",
      "min: 47520.43\n"
     ]
    }
   ],
   "source": [
    "print(\"max: {}\".format(max(external_df['Gets_KB/sec'])))\n",
    "print(\"min: {}\".format(min(external_df['Gets_KB/sec'])))"
   ]
  },
  {
   "cell_type": "code",
   "execution_count": 46,
   "metadata": {},
   "outputs": [
    {
     "data": {
      "text/html": [
       "<div>\n",
       "<style scoped>\n",
       "    .dataframe tbody tr th:only-of-type {\n",
       "        vertical-align: middle;\n",
       "    }\n",
       "\n",
       "    .dataframe tbody tr th {\n",
       "        vertical-align: top;\n",
       "    }\n",
       "\n",
       "    .dataframe thead th {\n",
       "        text-align: right;\n",
       "    }\n",
       "</style>\n",
       "<table border=\"1\" class=\"dataframe\">\n",
       "  <thead>\n",
       "    <tr style=\"text-align: right;\">\n",
       "      <th></th>\n",
       "      <th>Sets_Ops/sec</th>\n",
       "      <th>Sets_Hits/sec</th>\n",
       "      <th>Sets_Misses/sec</th>\n",
       "      <th>Sets_Avg_Latency</th>\n",
       "      <th>Sets_p50_Latency</th>\n",
       "      <th>Sets_p99_Latency</th>\n",
       "      <th>Sets_p100_Latency</th>\n",
       "      <th>Sets_KB/sec</th>\n",
       "      <th>Gets_Ops/sec</th>\n",
       "      <th>Gets_Hits/sec</th>\n",
       "      <th>...</th>\n",
       "      <th>Waits_p100_Latency</th>\n",
       "      <th>Waits_KB/sec</th>\n",
       "      <th>Totals_Ops/sec</th>\n",
       "      <th>Totals_Hits/sec</th>\n",
       "      <th>Totals_Misses/sec</th>\n",
       "      <th>Totals_Avg_Latency</th>\n",
       "      <th>Totals_p50_Latency</th>\n",
       "      <th>Totals_p99_Latency</th>\n",
       "      <th>Totals_p100_Latency</th>\n",
       "      <th>Totals_KB/sec</th>\n",
       "    </tr>\n",
       "  </thead>\n",
       "  <tbody>\n",
       "    <tr>\n",
       "      <th>1662</th>\n",
       "      <td>24075.97</td>\n",
       "      <td>NaN</td>\n",
       "      <td>NaN</td>\n",
       "      <td>0.040</td>\n",
       "      <td>2633.31</td>\n",
       "      <td>24075.97</td>\n",
       "      <td>35.73</td>\n",
       "      <td>24040.24</td>\n",
       "      <td>0.039</td>\n",
       "      <td>848.90</td>\n",
       "      <td>...</td>\n",
       "      <td>NaN</td>\n",
       "      <td>NaN</td>\n",
       "      <td>NaN</td>\n",
       "      <td>NaN</td>\n",
       "      <td>NaN</td>\n",
       "      <td>NaN</td>\n",
       "      <td>NaN</td>\n",
       "      <td>NaN</td>\n",
       "      <td>NaN</td>\n",
       "      <td>NaN</td>\n",
       "    </tr>\n",
       "    <tr>\n",
       "      <th>1795</th>\n",
       "      <td>23760.21</td>\n",
       "      <td>NaN</td>\n",
       "      <td>NaN</td>\n",
       "      <td>0.041</td>\n",
       "      <td>2598.77</td>\n",
       "      <td>23760.21</td>\n",
       "      <td>35.26</td>\n",
       "      <td>23724.95</td>\n",
       "      <td>0.039</td>\n",
       "      <td>837.76</td>\n",
       "      <td>...</td>\n",
       "      <td>NaN</td>\n",
       "      <td>NaN</td>\n",
       "      <td>NaN</td>\n",
       "      <td>NaN</td>\n",
       "      <td>NaN</td>\n",
       "      <td>NaN</td>\n",
       "      <td>NaN</td>\n",
       "      <td>NaN</td>\n",
       "      <td>NaN</td>\n",
       "      <td>NaN</td>\n",
       "    </tr>\n",
       "    <tr>\n",
       "      <th>1918</th>\n",
       "      <td>24511.73</td>\n",
       "      <td>NaN</td>\n",
       "      <td>NaN</td>\n",
       "      <td>0.040</td>\n",
       "      <td>2680.97</td>\n",
       "      <td>24511.73</td>\n",
       "      <td>36.38</td>\n",
       "      <td>24475.36</td>\n",
       "      <td>0.038</td>\n",
       "      <td>864.26</td>\n",
       "      <td>...</td>\n",
       "      <td>NaN</td>\n",
       "      <td>NaN</td>\n",
       "      <td>NaN</td>\n",
       "      <td>NaN</td>\n",
       "      <td>NaN</td>\n",
       "      <td>NaN</td>\n",
       "      <td>NaN</td>\n",
       "      <td>NaN</td>\n",
       "      <td>NaN</td>\n",
       "      <td>NaN</td>\n",
       "    </tr>\n",
       "    <tr>\n",
       "      <th>2277</th>\n",
       "      <td>24242.70</td>\n",
       "      <td>NaN</td>\n",
       "      <td>NaN</td>\n",
       "      <td>0.040</td>\n",
       "      <td>2651.55</td>\n",
       "      <td>24242.70</td>\n",
       "      <td>35.98</td>\n",
       "      <td>24206.72</td>\n",
       "      <td>0.039</td>\n",
       "      <td>854.78</td>\n",
       "      <td>...</td>\n",
       "      <td>NaN</td>\n",
       "      <td>NaN</td>\n",
       "      <td>NaN</td>\n",
       "      <td>NaN</td>\n",
       "      <td>NaN</td>\n",
       "      <td>NaN</td>\n",
       "      <td>NaN</td>\n",
       "      <td>NaN</td>\n",
       "      <td>NaN</td>\n",
       "      <td>NaN</td>\n",
       "    </tr>\n",
       "    <tr>\n",
       "      <th>2437</th>\n",
       "      <td>23771.61</td>\n",
       "      <td>NaN</td>\n",
       "      <td>NaN</td>\n",
       "      <td>0.041</td>\n",
       "      <td>2600.02</td>\n",
       "      <td>23771.61</td>\n",
       "      <td>35.32</td>\n",
       "      <td>23736.29</td>\n",
       "      <td>0.039</td>\n",
       "      <td>838.17</td>\n",
       "      <td>...</td>\n",
       "      <td>NaN</td>\n",
       "      <td>NaN</td>\n",
       "      <td>NaN</td>\n",
       "      <td>NaN</td>\n",
       "      <td>NaN</td>\n",
       "      <td>NaN</td>\n",
       "      <td>NaN</td>\n",
       "      <td>NaN</td>\n",
       "      <td>NaN</td>\n",
       "      <td>NaN</td>\n",
       "    </tr>\n",
       "  </tbody>\n",
       "</table>\n",
       "<p>5 rows × 32 columns</p>\n",
       "</div>"
      ],
      "text/plain": [
       "      Sets_Ops/sec  Sets_Hits/sec  Sets_Misses/sec  Sets_Avg_Latency  \\\n",
       "1662      24075.97            NaN              NaN             0.040   \n",
       "1795      23760.21            NaN              NaN             0.041   \n",
       "1918      24511.73            NaN              NaN             0.040   \n",
       "2277      24242.70            NaN              NaN             0.040   \n",
       "2437      23771.61            NaN              NaN             0.041   \n",
       "\n",
       "      Sets_p50_Latency  Sets_p99_Latency  Sets_p100_Latency  Sets_KB/sec  \\\n",
       "1662           2633.31          24075.97              35.73     24040.24   \n",
       "1795           2598.77          23760.21              35.26     23724.95   \n",
       "1918           2680.97          24511.73              36.38     24475.36   \n",
       "2277           2651.55          24242.70              35.98     24206.72   \n",
       "2437           2600.02          23771.61              35.32     23736.29   \n",
       "\n",
       "      Gets_Ops/sec  Gets_Hits/sec  ...  Waits_p100_Latency  Waits_KB/sec  \\\n",
       "1662         0.039         848.90  ...                 NaN           NaN   \n",
       "1795         0.039         837.76  ...                 NaN           NaN   \n",
       "1918         0.038         864.26  ...                 NaN           NaN   \n",
       "2277         0.039         854.78  ...                 NaN           NaN   \n",
       "2437         0.039         838.17  ...                 NaN           NaN   \n",
       "\n",
       "      Totals_Ops/sec  Totals_Hits/sec  Totals_Misses/sec  Totals_Avg_Latency  \\\n",
       "1662             NaN              NaN                NaN                 NaN   \n",
       "1795             NaN              NaN                NaN                 NaN   \n",
       "1918             NaN              NaN                NaN                 NaN   \n",
       "2277             NaN              NaN                NaN                 NaN   \n",
       "2437             NaN              NaN                NaN                 NaN   \n",
       "\n",
       "      Totals_p50_Latency  Totals_p99_Latency  Totals_p100_Latency  \\\n",
       "1662                 NaN                 NaN                  NaN   \n",
       "1795                 NaN                 NaN                  NaN   \n",
       "1918                 NaN                 NaN                  NaN   \n",
       "2277                 NaN                 NaN                  NaN   \n",
       "2437                 NaN                 NaN                  NaN   \n",
       "\n",
       "      Totals_KB/sec  \n",
       "1662            NaN  \n",
       "1795            NaN  \n",
       "1918            NaN  \n",
       "2277            NaN  \n",
       "2437            NaN  \n",
       "\n",
       "[5 rows x 32 columns]"
      ]
     },
     "execution_count": 46,
     "metadata": {},
     "output_type": "execute_result"
    }
   ],
   "source": [
    "# 40000~ 50000대 확인\n",
    "index1 = (external_df['Gets_KB/sec'] >= 47520.43)\n",
    "index2 = (external_df['Gets_KB/sec'] <= 50000)\n",
    "\n",
    "external_df[index2]"
   ]
  },
  {
   "cell_type": "code",
   "execution_count": 47,
   "metadata": {},
   "outputs": [
    {
     "data": {
      "text/plain": [
       "31      65011.44\n",
       "280     65632.04\n",
       "281     65767.16\n",
       "282     66377.65\n",
       "285     65321.22\n",
       "288     66161.63\n",
       "2007    65339.15\n",
       "2010    65185.13\n",
       "2036    65146.51\n",
       "2051    65367.86\n",
       "Name: Gets_KB/sec, dtype: float64"
      ]
     },
     "execution_count": 47,
     "metadata": {},
     "output_type": "execute_result"
    }
   ],
   "source": [
    "# 60000대 확인\n",
    "index3 = (external_df['Gets_KB/sec'] >= 65000)\n",
    "\n",
    "external_df[index3]['Gets_KB/sec']"
   ]
  },
  {
   "cell_type": "code",
   "execution_count": 48,
   "metadata": {},
   "outputs": [
    {
     "data": {
      "image/png": "[encoded data removed]",
      "text/plain": [
       "<Figure size 432x288 with 1 Axes>"
      ]
     },
     "metadata": {
      "needs_background": "light"
     },
     "output_type": "display_data"
    }
   ],
   "source": [
    "import seaborn as sns\n",
    "sns.boxplot(x = \"Gets_KB/sec\",data = external_df )\n",
    "plt.show()"
   ]
  },
  {
   "cell_type": "markdown",
   "metadata": {},
   "source": [
    "### train, test 데이터 분리"
   ]
  },
  {
   "cell_type": "code",
   "execution_count": 49,
   "metadata": {},
   "outputs": [
    {
     "name": "stdout",
     "output_type": "stream",
     "text": [
      "Training until validation scores don't improve for 10 rounds\n",
      "Early stopping, best iteration is:\n",
      "[1]\tvalid's auc: 1\n"
     ]
    },
    {
     "name": "stderr",
     "output_type": "stream",
     "text": [
      "/Users/joseong-un/opt/anaconda3/lib/python3.8/site-packages/lightgbm/basic.py:1433: UserWarning: Overriding the parameters from Reference Dataset.\n",
      "  _log_warning('Overriding the parameters from Reference Dataset.')\n",
      "/Users/joseong-un/opt/anaconda3/lib/python3.8/site-packages/lightgbm/basic.py:1245: UserWarning: categorical_column in param dict is overridden.\n",
      "  _log_warning('{} in param dict is overridden.'.format(cat_alias))\n"
     ]
    },
    {
     "data": {
      "text/plain": [
       "LGBMRegressor(colsample_bytree=0.9, metric='None', n_estimators=1000, n_jobs=4,\n",
       "              num_leaves=15, random_state=314, subsample=0.9)"
      ]
     },
     "execution_count": 49,
     "metadata": {},
     "output_type": "execute_result"
    }
   ],
   "source": [
    "# train, test 데이터 분리\n",
    "X_train, X_test, y_train, y_test = train_test_split(config_df_knob, throughput_data ,test_size=0.2)\n",
    "\n",
    "#lightGBM 파라미터 설정\n",
    "fit_params={\"early_stopping_rounds\":10, \n",
    "            \"eval_metric\" : 'auc', \n",
    "            \"eval_set\" : [(X_test,y_test)],\n",
    "            'eval_names': ['valid'],\n",
    "            'verbose': 100,\n",
    "            'feature_name': 'auto', # that's actually the default\n",
    "            'categorical_feature': 'auto' # that's actually the default\n",
    "           }\n",
    "\n",
    "# 모델 생성\n",
    "lgbr = lgb.LGBMRegressor(num_leaves= 15, max_depth=-1, \n",
    "                         random_state=314, \n",
    "                         silent=True, \n",
    "                         metric='None', \n",
    "                         n_jobs=4, \n",
    "                         n_estimators=1000,\n",
    "                         colsample_bytree=0.9,\n",
    "                         subsample=0.9,\n",
    "                         learning_rate=0.1)\n",
    "\n",
    "# 모델 fitting\n",
    "lgbr.fit(X_train, y_train, **fit_params)"
   ]
  },
  {
   "cell_type": "code",
   "execution_count": 50,
   "metadata": {},
   "outputs": [],
   "source": [
    "# 확인\n",
    "y_predict = lgbr.predict(X_test)"
   ]
  },
  {
   "cell_type": "code",
   "execution_count": 51,
   "metadata": {},
   "outputs": [
    {
     "name": "stdout",
     "output_type": "stream",
     "text": [
      "LGBMRegressor(colsample_bytree=0.9, metric='None', n_estimators=1000, n_jobs=4,\n",
      "              num_leaves=15, random_state=314, subsample=0.9)\n"
     ]
    }
   ],
   "source": [
    "print(lgbr)"
   ]
  },
  {
   "cell_type": "markdown",
   "metadata": {},
   "source": [
    "---"
   ]
  },
  {
   "cell_type": "markdown",
   "metadata": {},
   "source": [
    "# Bayeian Optimization 진행"
   ]
  },
  {
   "cell_type": "markdown",
   "metadata": {},
   "source": [
    "### Objective Function 생성"
   ]
  },
  {
   "cell_type": "code",
   "execution_count": 55,
   "metadata": {},
   "outputs": [],
   "source": [
    "noise_level = 0.1\n",
    "\n",
    "def objective_func(knob_value, noise_level=noise_level):\n",
    "    knob_dict = {}\n",
    "\n",
    "    for i, knob in enumerate(knobs_list): # 딕셔너리로 이동\n",
    "        knob_dict[knob] = knob_value[i]\n",
    "    \n",
    "    if knob_dict['activedefrag'] == 'no':  # activedefrag no인 경우 나머지 관련 knob들에 0할당!\n",
    "        activ_var = ['active-defrag-threshold-lower', 'active-defrag-threshold-upper', 'active-defrag-cycle-min', 'active-defrag-cycle-max']\n",
    "        for activ_knob in activ_var:\n",
    "            knob_dict[activ_knob] = 0     \n",
    "    \n",
    "    knob_df = pd.DataFrame(knob_dict, index=[0])  # 데이터 프레임으로 변환\n",
    "    \n",
    "    # 카테고리 변수 변경\n",
    "    for knob in category_knob:\n",
    "        knob_df[knob] = knob_df[knob].astype('category') \n",
    "\n",
    "    return -lgbr.predict(knob_df)[0]\n",
    "\n",
    "\n",
    "#     change_numeric = ['active-defrag-threshold-lower', 'active-defrag-threshold-upper', 'active-defrag-cycle-min', 'active-defrag-cycle-max']\n"
   ]
  },
  {
   "cell_type": "markdown",
   "metadata": {},
   "source": [
    "## gp_minimize 호출"
   ]
  },
  {
   "cell_type": "code",
   "execution_count": 56,
   "metadata": {},
   "outputs": [
    {
     "name": "stdout",
     "output_type": "stream",
     "text": [
      "Automatically created module for IPython interactive environment\n"
     ]
    }
   ],
   "source": [
    "%matplotlib inline\n",
    "print(__doc__)\n",
    "\n",
    "import numpy as np\n",
    "np.random.seed(237)\n",
    "import matplotlib.pyplot as plt\n",
    "from skopt.plots import plot_gaussian_process\n",
    "from skopt import gp_minimize"
   ]
  },
  {
   "cell_type": "code",
   "execution_count": 57,
   "metadata": {},
   "outputs": [
    {
     "ename": "KeyError",
     "evalue": "'activedefrag'",
     "output_type": "error",
     "traceback": [
      "\u001b[0;31m---------------------------------------------------------------------------\u001b[0m",
      "\u001b[0;31mKeyError\u001b[0m                                  Traceback (most recent call last)",
      "\u001b[0;32m~/opt/anaconda3/lib/python3.8/site-packages/pandas/core/indexes/base.py\u001b[0m in \u001b[0;36mget_loc\u001b[0;34m(self, key, method, tolerance)\u001b[0m\n\u001b[1;32m   3360\u001b[0m             \u001b[0;32mtry\u001b[0m\u001b[0;34m:\u001b[0m\u001b[0;34m\u001b[0m\u001b[0;34m\u001b[0m\u001b[0m\n\u001b[0;32m-> 3361\u001b[0;31m                 \u001b[0;32mreturn\u001b[0m \u001b[0mself\u001b[0m\u001b[0;34m.\u001b[0m\u001b[0m_engine\u001b[0m\u001b[0;34m.\u001b[0m\u001b[0mget_loc\u001b[0m\u001b[0;34m(\u001b[0m\u001b[0mcasted_key\u001b[0m\u001b[0;34m)\u001b[0m\u001b[0;34m\u001b[0m\u001b[0;34m\u001b[0m\u001b[0m\n\u001b[0m\u001b[1;32m   3362\u001b[0m             \u001b[0;32mexcept\u001b[0m \u001b[0mKeyError\u001b[0m \u001b[0;32mas\u001b[0m \u001b[0merr\u001b[0m\u001b[0;34m:\u001b[0m\u001b[0;34m\u001b[0m\u001b[0;34m\u001b[0m\u001b[0m\n",
      "\u001b[0;32m~/opt/anaconda3/lib/python3.8/site-packages/pandas/_libs/index.pyx\u001b[0m in \u001b[0;36mpandas._libs.index.IndexEngine.get_loc\u001b[0;34m()\u001b[0m\n",
      "\u001b[0;32m~/opt/anaconda3/lib/python3.8/site-packages/pandas/_libs/index.pyx\u001b[0m in \u001b[0;36mpandas._libs.index.IndexEngine.get_loc\u001b[0;34m()\u001b[0m\n",
      "\u001b[0;32mpandas/_libs/hashtable_class_helper.pxi\u001b[0m in \u001b[0;36mpandas._libs.hashtable.PyObjectHashTable.get_item\u001b[0;34m()\u001b[0m\n",
      "\u001b[0;32mpandas/_libs/hashtable_class_helper.pxi\u001b[0m in \u001b[0;36mpandas._libs.hashtable.PyObjectHashTable.get_item\u001b[0;34m()\u001b[0m\n",
      "\u001b[0;31mKeyError\u001b[0m: 'activedefrag'",
      "\nThe above exception was the direct cause of the following exception:\n",
      "\u001b[0;31mKeyError\u001b[0m                                  Traceback (most recent call last)",
      "\u001b[0;32m<ipython-input-57-6937a054a55b>\u001b[0m in \u001b[0;36m<module>\u001b[0;34m\u001b[0m\n\u001b[0;32m----> 1\u001b[0;31m res = gp_minimize(objective_func,                  # the function to minimize\n\u001b[0m\u001b[1;32m      2\u001b[0m                   \u001b[0mknobs_bound\u001b[0m\u001b[0;34m,\u001b[0m      \u001b[0;31m# the bounds on each dimension of x\u001b[0m\u001b[0;34m\u001b[0m\u001b[0;34m\u001b[0m\u001b[0m\n\u001b[1;32m      3\u001b[0m                   \u001b[0macq_func\u001b[0m\u001b[0;34m=\u001b[0m\u001b[0;34m\"EI\"\u001b[0m\u001b[0;34m,\u001b[0m      \u001b[0;31m# the acquisition function\u001b[0m\u001b[0;34m\u001b[0m\u001b[0;34m\u001b[0m\u001b[0m\n\u001b[1;32m      4\u001b[0m                   \u001b[0mn_calls\u001b[0m\u001b[0;34m=\u001b[0m\u001b[0;36m50\u001b[0m\u001b[0;34m,\u001b[0m         \u001b[0;31m# the number of evaluations of f\u001b[0m\u001b[0;34m\u001b[0m\u001b[0;34m\u001b[0m\u001b[0m\n\u001b[1;32m      5\u001b[0m                   \u001b[0mn_random_starts\u001b[0m\u001b[0;34m=\u001b[0m\u001b[0;36m20\u001b[0m\u001b[0;34m,\u001b[0m  \u001b[0;31m# the number of random initialization points\u001b[0m\u001b[0;34m\u001b[0m\u001b[0;34m\u001b[0m\u001b[0m\n",
      "\u001b[0;32m~/opt/anaconda3/lib/python3.8/site-packages/skopt/optimizer/gp.py\u001b[0m in \u001b[0;36mgp_minimize\u001b[0;34m(func, dimensions, base_estimator, n_calls, n_random_starts, n_initial_points, initial_point_generator, acq_func, acq_optimizer, x0, y0, random_state, verbose, callback, n_points, n_restarts_optimizer, xi, kappa, noise, n_jobs, model_queue_size)\u001b[0m\n\u001b[1;32m    257\u001b[0m             noise=noise)\n\u001b[1;32m    258\u001b[0m \u001b[0;34m\u001b[0m\u001b[0m\n\u001b[0;32m--> 259\u001b[0;31m     return base_minimize(\n\u001b[0m\u001b[1;32m    260\u001b[0m         \u001b[0mfunc\u001b[0m\u001b[0;34m,\u001b[0m \u001b[0mspace\u001b[0m\u001b[0;34m,\u001b[0m \u001b[0mbase_estimator\u001b[0m\u001b[0;34m=\u001b[0m\u001b[0mbase_estimator\u001b[0m\u001b[0;34m,\u001b[0m\u001b[0;34m\u001b[0m\u001b[0;34m\u001b[0m\u001b[0m\n\u001b[1;32m    261\u001b[0m         \u001b[0macq_func\u001b[0m\u001b[0;34m=\u001b[0m\u001b[0macq_func\u001b[0m\u001b[0;34m,\u001b[0m\u001b[0;34m\u001b[0m\u001b[0;34m\u001b[0m\u001b[0m\n",
      "\u001b[0;32m~/opt/anaconda3/lib/python3.8/site-packages/skopt/optimizer/base.py\u001b[0m in \u001b[0;36mbase_minimize\u001b[0;34m(func, dimensions, base_estimator, n_calls, n_random_starts, n_initial_points, initial_point_generator, acq_func, acq_optimizer, x0, y0, random_state, verbose, callback, n_points, n_restarts_optimizer, xi, kappa, n_jobs, model_queue_size)\u001b[0m\n\u001b[1;32m    299\u001b[0m     \u001b[0;32mfor\u001b[0m \u001b[0mn\u001b[0m \u001b[0;32min\u001b[0m \u001b[0mrange\u001b[0m\u001b[0;34m(\u001b[0m\u001b[0mn_calls\u001b[0m\u001b[0;34m)\u001b[0m\u001b[0;34m:\u001b[0m\u001b[0;34m\u001b[0m\u001b[0;34m\u001b[0m\u001b[0m\n\u001b[1;32m    300\u001b[0m         \u001b[0mnext_x\u001b[0m \u001b[0;34m=\u001b[0m \u001b[0moptimizer\u001b[0m\u001b[0;34m.\u001b[0m\u001b[0mask\u001b[0m\u001b[0;34m(\u001b[0m\u001b[0;34m)\u001b[0m\u001b[0;34m\u001b[0m\u001b[0;34m\u001b[0m\u001b[0m\n\u001b[0;32m--> 301\u001b[0;31m         \u001b[0mnext_y\u001b[0m \u001b[0;34m=\u001b[0m \u001b[0mfunc\u001b[0m\u001b[0;34m(\u001b[0m\u001b[0mnext_x\u001b[0m\u001b[0;34m)\u001b[0m\u001b[0;34m\u001b[0m\u001b[0;34m\u001b[0m\u001b[0m\n\u001b[0m\u001b[1;32m    302\u001b[0m         \u001b[0mresult\u001b[0m \u001b[0;34m=\u001b[0m \u001b[0moptimizer\u001b[0m\u001b[0;34m.\u001b[0m\u001b[0mtell\u001b[0m\u001b[0;34m(\u001b[0m\u001b[0mnext_x\u001b[0m\u001b[0;34m,\u001b[0m \u001b[0mnext_y\u001b[0m\u001b[0;34m)\u001b[0m\u001b[0;34m\u001b[0m\u001b[0;34m\u001b[0m\u001b[0m\n\u001b[1;32m    303\u001b[0m         \u001b[0mresult\u001b[0m\u001b[0;34m.\u001b[0m\u001b[0mspecs\u001b[0m \u001b[0;34m=\u001b[0m \u001b[0mspecs\u001b[0m\u001b[0;34m\u001b[0m\u001b[0;34m\u001b[0m\u001b[0m\n",
      "\u001b[0;32m<ipython-input-55-5695cb7ca384>\u001b[0m in \u001b[0;36mobjective_func\u001b[0;34m(knob_value, noise_level)\u001b[0m\n\u001b[1;32m     16\u001b[0m     \u001b[0;31m# 카테고리 변수 변경\u001b[0m\u001b[0;34m\u001b[0m\u001b[0;34m\u001b[0m\u001b[0;34m\u001b[0m\u001b[0m\n\u001b[1;32m     17\u001b[0m     \u001b[0;32mfor\u001b[0m \u001b[0mknob\u001b[0m \u001b[0;32min\u001b[0m \u001b[0mcategory_knob\u001b[0m\u001b[0;34m:\u001b[0m\u001b[0;34m\u001b[0m\u001b[0;34m\u001b[0m\u001b[0m\n\u001b[0;32m---> 18\u001b[0;31m         \u001b[0mknob_df\u001b[0m\u001b[0;34m[\u001b[0m\u001b[0mknob\u001b[0m\u001b[0;34m]\u001b[0m \u001b[0;34m=\u001b[0m \u001b[0mknob_df\u001b[0m\u001b[0;34m[\u001b[0m\u001b[0mknob\u001b[0m\u001b[0;34m]\u001b[0m\u001b[0;34m.\u001b[0m\u001b[0mastype\u001b[0m\u001b[0;34m(\u001b[0m\u001b[0;34m'category'\u001b[0m\u001b[0;34m)\u001b[0m\u001b[0;34m\u001b[0m\u001b[0;34m\u001b[0m\u001b[0m\n\u001b[0m\u001b[1;32m     19\u001b[0m \u001b[0;34m\u001b[0m\u001b[0m\n\u001b[1;32m     20\u001b[0m     \u001b[0;32mreturn\u001b[0m \u001b[0;34m-\u001b[0m\u001b[0mlgbr\u001b[0m\u001b[0;34m.\u001b[0m\u001b[0mpredict\u001b[0m\u001b[0;34m(\u001b[0m\u001b[0mknob_df\u001b[0m\u001b[0;34m)\u001b[0m\u001b[0;34m[\u001b[0m\u001b[0;36m0\u001b[0m\u001b[0;34m]\u001b[0m\u001b[0;34m\u001b[0m\u001b[0;34m\u001b[0m\u001b[0m\n",
      "\u001b[0;32m~/opt/anaconda3/lib/python3.8/site-packages/pandas/core/frame.py\u001b[0m in \u001b[0;36m__getitem__\u001b[0;34m(self, key)\u001b[0m\n\u001b[1;32m   3453\u001b[0m             \u001b[0;32mif\u001b[0m \u001b[0mself\u001b[0m\u001b[0;34m.\u001b[0m\u001b[0mcolumns\u001b[0m\u001b[0;34m.\u001b[0m\u001b[0mnlevels\u001b[0m \u001b[0;34m>\u001b[0m \u001b[0;36m1\u001b[0m\u001b[0;34m:\u001b[0m\u001b[0;34m\u001b[0m\u001b[0;34m\u001b[0m\u001b[0m\n\u001b[1;32m   3454\u001b[0m                 \u001b[0;32mreturn\u001b[0m \u001b[0mself\u001b[0m\u001b[0;34m.\u001b[0m\u001b[0m_getitem_multilevel\u001b[0m\u001b[0;34m(\u001b[0m\u001b[0mkey\u001b[0m\u001b[0;34m)\u001b[0m\u001b[0;34m\u001b[0m\u001b[0;34m\u001b[0m\u001b[0m\n\u001b[0;32m-> 3455\u001b[0;31m             \u001b[0mindexer\u001b[0m \u001b[0;34m=\u001b[0m \u001b[0mself\u001b[0m\u001b[0;34m.\u001b[0m\u001b[0mcolumns\u001b[0m\u001b[0;34m.\u001b[0m\u001b[0mget_loc\u001b[0m\u001b[0;34m(\u001b[0m\u001b[0mkey\u001b[0m\u001b[0;34m)\u001b[0m\u001b[0;34m\u001b[0m\u001b[0;34m\u001b[0m\u001b[0m\n\u001b[0m\u001b[1;32m   3456\u001b[0m             \u001b[0;32mif\u001b[0m \u001b[0mis_integer\u001b[0m\u001b[0;34m(\u001b[0m\u001b[0mindexer\u001b[0m\u001b[0;34m)\u001b[0m\u001b[0;34m:\u001b[0m\u001b[0;34m\u001b[0m\u001b[0;34m\u001b[0m\u001b[0m\n\u001b[1;32m   3457\u001b[0m                 \u001b[0mindexer\u001b[0m \u001b[0;34m=\u001b[0m \u001b[0;34m[\u001b[0m\u001b[0mindexer\u001b[0m\u001b[0;34m]\u001b[0m\u001b[0;34m\u001b[0m\u001b[0;34m\u001b[0m\u001b[0m\n",
      "\u001b[0;32m~/opt/anaconda3/lib/python3.8/site-packages/pandas/core/indexes/base.py\u001b[0m in \u001b[0;36mget_loc\u001b[0;34m(self, key, method, tolerance)\u001b[0m\n\u001b[1;32m   3361\u001b[0m                 \u001b[0;32mreturn\u001b[0m \u001b[0mself\u001b[0m\u001b[0;34m.\u001b[0m\u001b[0m_engine\u001b[0m\u001b[0;34m.\u001b[0m\u001b[0mget_loc\u001b[0m\u001b[0;34m(\u001b[0m\u001b[0mcasted_key\u001b[0m\u001b[0;34m)\u001b[0m\u001b[0;34m\u001b[0m\u001b[0;34m\u001b[0m\u001b[0m\n\u001b[1;32m   3362\u001b[0m             \u001b[0;32mexcept\u001b[0m \u001b[0mKeyError\u001b[0m \u001b[0;32mas\u001b[0m \u001b[0merr\u001b[0m\u001b[0;34m:\u001b[0m\u001b[0;34m\u001b[0m\u001b[0;34m\u001b[0m\u001b[0m\n\u001b[0;32m-> 3363\u001b[0;31m                 \u001b[0;32mraise\u001b[0m \u001b[0mKeyError\u001b[0m\u001b[0;34m(\u001b[0m\u001b[0mkey\u001b[0m\u001b[0;34m)\u001b[0m \u001b[0;32mfrom\u001b[0m \u001b[0merr\u001b[0m\u001b[0;34m\u001b[0m\u001b[0;34m\u001b[0m\u001b[0m\n\u001b[0m\u001b[1;32m   3364\u001b[0m \u001b[0;34m\u001b[0m\u001b[0m\n\u001b[1;32m   3365\u001b[0m         \u001b[0;32mif\u001b[0m \u001b[0mis_scalar\u001b[0m\u001b[0;34m(\u001b[0m\u001b[0mkey\u001b[0m\u001b[0;34m)\u001b[0m \u001b[0;32mand\u001b[0m \u001b[0misna\u001b[0m\u001b[0;34m(\u001b[0m\u001b[0mkey\u001b[0m\u001b[0;34m)\u001b[0m \u001b[0;32mand\u001b[0m \u001b[0;32mnot\u001b[0m \u001b[0mself\u001b[0m\u001b[0;34m.\u001b[0m\u001b[0mhasnans\u001b[0m\u001b[0;34m:\u001b[0m\u001b[0;34m\u001b[0m\u001b[0;34m\u001b[0m\u001b[0m\n",
      "\u001b[0;31mKeyError\u001b[0m: 'activedefrag'"
     ]
    }
   ],
   "source": [
    "res = gp_minimize(objective_func,                  # the function to minimize\n",
    "                  knobs_bound,      # the bounds on each dimension of x\n",
    "                  acq_func=\"EI\",      # the acquisition function\n",
    "                  n_calls=50,         # the number of evaluations of f\n",
    "                  n_random_starts=20,  # the number of random initialization points\n",
    "                  noise=0.1**2,       # the noise level (optional)\n",
    "                  random_state=1234)   # the random seed"
   ]
  },
  {
   "cell_type": "code",
   "execution_count": 28,
   "metadata": {},
   "outputs": [
    {
     "data": {
      "text/plain": [
       "[256,\n",
       " 16,\n",
       " 'no',\n",
       " 41,\n",
       " 'no',\n",
       " 1100,\n",
       " 9,\n",
       " 100,\n",
       " 100,\n",
       " 30,\n",
       " 12000,\n",
       " 'yes',\n",
       " 'yes',\n",
       " 'yes',\n",
       " 'yes',\n",
       " 31,\n",
       " 101,\n",
       " 1,\n",
       " 70,\n",
       " 2900,\n",
       " 'volatile-ttl',\n",
       " 7,\n",
       " 'no',\n",
       " 'no',\n",
       " 'yes']"
      ]
     },
     "execution_count": 28,
     "metadata": {},
     "output_type": "execute_result"
    }
   ],
   "source": [
    "res.x"
   ]
  },
  {
   "cell_type": "code",
   "execution_count": 29,
   "metadata": {},
   "outputs": [
    {
     "data": {
      "text/plain": [
       "-58826.941926391606"
      ]
     },
     "execution_count": 29,
     "metadata": {},
     "output_type": "execute_result"
    }
   ],
   "source": [
    "res.fun # 63000"
   ]
  },
  {
   "cell_type": "code",
   "execution_count": null,
   "metadata": {},
   "outputs": [],
   "source": []
  }
 ],
 "metadata": {
  "kernelspec": {
   "display_name": "Python 3",
   "language": "python",
   "name": "python3"
  },
  "language_info": {
   "codemirror_mode": {
    "name": "ipython",
    "version": 3
   },
   "file_extension": ".py",
   "mimetype": "text/x-python",
   "name": "python",
   "nbconvert_exporter": "python",
   "pygments_lexer": "ipython3",
   "version": "3.8.5"
  }
 },
 "nbformat": 4,
 "nbformat_minor": 4
}
