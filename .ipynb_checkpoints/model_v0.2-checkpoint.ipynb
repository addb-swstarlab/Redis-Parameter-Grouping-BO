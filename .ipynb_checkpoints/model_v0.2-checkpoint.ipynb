{
 "cells": [
  {
   "cell_type": "markdown",
   "metadata": {},
   "source": [
    "# model"
   ]
  },
  {
   "cell_type": "code",
   "execution_count": 101,
   "metadata": {},
   "outputs": [],
   "source": [
    "import pandas as pd\n",
    "import numpy as np\n",
    "from sklearn.datasets import load_boston\n",
    "import matplotlib.pyplot as plt\n",
    "from sklearn.model_selection import train_test_split\n",
    "from sklearn.metrics import explained_variance_score\n",
    "from lightgbm import LGBMRegressor, plot_importance\n",
    "from sklearn.metrics import roc_auc_score"
   ]
  },
  {
   "cell_type": "code",
   "execution_count": 102,
   "metadata": {},
   "outputs": [],
   "source": [
    "# knob 종류 및 바운드\n",
    "[305, 722, 5, 12, 9163, 'no', 'yes']\n",
    "knobs_rdb = {\n",
    "    \n",
    "    \"hash-max-ziplist-entries\":     (256, 751), \n",
    "#     \"hash-max-ziplist-value\": (16, 257),\n",
    "#     \"activerehashing\": ('yes', 'no'),  ##yes\n",
    "#     \"hz\": (1, 41),\n",
    "#     \"dynamic-hz\": ('yes', 'no'),\n",
    "\n",
    "    \"save0_0\": (700,1100),\n",
    "    \"save0_1\": (1,9),\n",
    "#     \"save1_0\": (100,500),\n",
    "    \"save1_1\": (10,100),\n",
    "#     \"save2_0\": (30,90),\n",
    "    \"save2_1\": (8000,12000),\n",
    "\n",
    "#     \"rdbcompression\": ('yes', 'no'), ##yes\n",
    "#     \"rdbchecksum\": ('yes', 'no'),    ##yes\n",
    "    \"rdb-save-incremental-fsync\": ('yes', 'no'),   ## yes\n",
    "\n",
    "#     \"activedefrag\": ('yes','no'),  \n",
    "#     \"active-defrag-threshold-lower\": (1, 31),\n",
    "#     \"active-defrag-threshold-upper\": (70, 101),\n",
    "#     \"active-defrag-cycle-min\": (1, 31),\n",
    "#     \"active-defrag-cycle-max\": (70, 91),\n",
    "    \n",
    "#     \"maxmemory\": (1000, 2900),   ##\"volatile-lru\"\n",
    "#     \"maxmemory-policy\":     (\"volatile-lru\", \"allkeys-lru\", \"volatile-lfu\", \"allkeys-lfu\", \n",
    "#                              \"volatile-random\",\"allkeys-random\", \"volatile-ttl\", \"noeviction\"),\n",
    "#     \"maxmemory-samples\": (3, 7),\n",
    "    \n",
    "#     \"lazyfree-lazy-eviction\": ('yes', 'no'),\n",
    "#     \"lazyfree-lazy-expire\": ('yes', 'no'),\n",
    "#     \"lazyfree-lazy-server-del\": ('yes', 'no')\n",
    "}\n",
    "\n",
    "knobs_list = list(knobs_rdb.keys())\n",
    "knobs_bound = list(knobs_rdb.values())"
   ]
  },
  {
   "cell_type": "markdown",
   "metadata": {},
   "source": [
    "## 데이터 전처리\n",
    "* 이상치 파악\n",
    "* test, train 데이터 잘 나뉘어졌는지 확인"
   ]
  },
  {
   "cell_type": "code",
   "execution_count": 103,
   "metadata": {},
   "outputs": [],
   "source": [
    "# config(knob) data\n",
    "config_df = pd.read_csv(\"./data/result_config0.csv\", sep=',')\n",
    "\n",
    "# external(throughput) data\n",
    "external_df = pd.read_csv(\"./data/external_metrics0.csv\", sep=',')"
   ]
  },
  {
   "cell_type": "code",
   "execution_count": 104,
   "metadata": {},
   "outputs": [],
   "source": [
    "# config(knog), external(throughput) 데이터 하나의 프레임으로 결합\n",
    "dataset = config_df\n",
    "dataset['throughput'] = external_df['Gets_KB/sec']"
   ]
  },
  {
   "cell_type": "code",
   "execution_count": 105,
   "metadata": {},
   "outputs": [
    {
     "data": {
      "text/html": [
       "<div>\n",
       "<style scoped>\n",
       "    .dataframe tbody tr th:only-of-type {\n",
       "        vertical-align: middle;\n",
       "    }\n",
       "\n",
       "    .dataframe tbody tr th {\n",
       "        vertical-align: top;\n",
       "    }\n",
       "\n",
       "    .dataframe thead th {\n",
       "        text-align: right;\n",
       "    }\n",
       "</style>\n",
       "<table border=\"1\" class=\"dataframe\">\n",
       "  <thead>\n",
       "    <tr style=\"text-align: right;\">\n",
       "      <th></th>\n",
       "      <th>appendonly</th>\n",
       "      <th>appendfsync</th>\n",
       "      <th>auto-aof-rewrite-percentage</th>\n",
       "      <th>auto-aof-rewrite-min-size</th>\n",
       "      <th>no-appendfsync-on-rewrite</th>\n",
       "      <th>aof-rewrite-incremental-fsync</th>\n",
       "      <th>aof-use-rdb-preamble</th>\n",
       "      <th>save0_0</th>\n",
       "      <th>save0_1</th>\n",
       "      <th>save1_0</th>\n",
       "      <th>...</th>\n",
       "      <th>maxmemory-samples</th>\n",
       "      <th>lazyfree-lazy-eviction</th>\n",
       "      <th>lazyfree-lazy-expire</th>\n",
       "      <th>lazyfree-lazy-server-del</th>\n",
       "      <th>hash-max-ziplist-entries</th>\n",
       "      <th>hash-max-ziplist-value</th>\n",
       "      <th>activerehashing</th>\n",
       "      <th>hz</th>\n",
       "      <th>dynamic-hz</th>\n",
       "      <th>throughput</th>\n",
       "    </tr>\n",
       "  </thead>\n",
       "  <tbody>\n",
       "    <tr>\n",
       "      <th>0</th>\n",
       "      <td>NaN</td>\n",
       "      <td>NaN</td>\n",
       "      <td>NaN</td>\n",
       "      <td>NaN</td>\n",
       "      <td>NaN</td>\n",
       "      <td>NaN</td>\n",
       "      <td>NaN</td>\n",
       "      <td>805</td>\n",
       "      <td>5</td>\n",
       "      <td>178</td>\n",
       "      <td>...</td>\n",
       "      <td>5</td>\n",
       "      <td>no</td>\n",
       "      <td>yes</td>\n",
       "      <td>yes</td>\n",
       "      <td>258</td>\n",
       "      <td>253</td>\n",
       "      <td>no</td>\n",
       "      <td>7</td>\n",
       "      <td>yes</td>\n",
       "      <td>61645.41</td>\n",
       "    </tr>\n",
       "    <tr>\n",
       "      <th>1</th>\n",
       "      <td>NaN</td>\n",
       "      <td>NaN</td>\n",
       "      <td>NaN</td>\n",
       "      <td>NaN</td>\n",
       "      <td>NaN</td>\n",
       "      <td>NaN</td>\n",
       "      <td>NaN</td>\n",
       "      <td>1097</td>\n",
       "      <td>3</td>\n",
       "      <td>499</td>\n",
       "      <td>...</td>\n",
       "      <td>3</td>\n",
       "      <td>yes</td>\n",
       "      <td>yes</td>\n",
       "      <td>yes</td>\n",
       "      <td>360</td>\n",
       "      <td>226</td>\n",
       "      <td>yes</td>\n",
       "      <td>32</td>\n",
       "      <td>yes</td>\n",
       "      <td>63270.32</td>\n",
       "    </tr>\n",
       "    <tr>\n",
       "      <th>2</th>\n",
       "      <td>NaN</td>\n",
       "      <td>NaN</td>\n",
       "      <td>NaN</td>\n",
       "      <td>NaN</td>\n",
       "      <td>NaN</td>\n",
       "      <td>NaN</td>\n",
       "      <td>NaN</td>\n",
       "      <td>1018</td>\n",
       "      <td>2</td>\n",
       "      <td>497</td>\n",
       "      <td>...</td>\n",
       "      <td>3</td>\n",
       "      <td>yes</td>\n",
       "      <td>yes</td>\n",
       "      <td>yes</td>\n",
       "      <td>364</td>\n",
       "      <td>136</td>\n",
       "      <td>yes</td>\n",
       "      <td>40</td>\n",
       "      <td>no</td>\n",
       "      <td>63602.49</td>\n",
       "    </tr>\n",
       "  </tbody>\n",
       "</table>\n",
       "<p>3 rows × 33 columns</p>\n",
       "</div>"
      ],
      "text/plain": [
       "   appendonly  appendfsync  auto-aof-rewrite-percentage  \\\n",
       "0         NaN          NaN                          NaN   \n",
       "1         NaN          NaN                          NaN   \n",
       "2         NaN          NaN                          NaN   \n",
       "\n",
       "   auto-aof-rewrite-min-size  no-appendfsync-on-rewrite  \\\n",
       "0                        NaN                        NaN   \n",
       "1                        NaN                        NaN   \n",
       "2                        NaN                        NaN   \n",
       "\n",
       "   aof-rewrite-incremental-fsync  aof-use-rdb-preamble  save0_0  save0_1  \\\n",
       "0                            NaN                   NaN      805        5   \n",
       "1                            NaN                   NaN     1097        3   \n",
       "2                            NaN                   NaN     1018        2   \n",
       "\n",
       "   save1_0  ...  maxmemory-samples  lazyfree-lazy-eviction  \\\n",
       "0      178  ...                  5                      no   \n",
       "1      499  ...                  3                     yes   \n",
       "2      497  ...                  3                     yes   \n",
       "\n",
       "   lazyfree-lazy-expire lazyfree-lazy-server-del hash-max-ziplist-entries  \\\n",
       "0                   yes                      yes                      258   \n",
       "1                   yes                      yes                      360   \n",
       "2                   yes                      yes                      364   \n",
       "\n",
       "  hash-max-ziplist-value activerehashing  hz  dynamic-hz  throughput  \n",
       "0                    253              no   7         yes    61645.41  \n",
       "1                    226             yes  32         yes    63270.32  \n",
       "2                    136             yes  40          no    63602.49  \n",
       "\n",
       "[3 rows x 33 columns]"
      ]
     },
     "execution_count": 105,
     "metadata": {},
     "output_type": "execute_result"
    }
   ],
   "source": [
    "dataset.head(3)"
   ]
  },
  {
   "cell_type": "code",
   "execution_count": 106,
   "metadata": {},
   "outputs": [],
   "source": [
    "# 결측치 처리 \n",
    "dataset_nan = dataset.copy()\n",
    "dataset = dataset.fillna(value = 0)  # 전부 0으로 채움"
   ]
  },
  {
   "cell_type": "code",
   "execution_count": 107,
   "metadata": {},
   "outputs": [],
   "source": [
    "# maxmemory knob 단위(mb) 처리\n",
    "dataset['maxmemory']  = dataset['maxmemory'].str.strip('mb')\n",
    "dataset['maxmemory'] = pd.to_numeric(dataset['maxmemory'])"
   ]
  },
  {
   "cell_type": "code",
   "execution_count": 108,
   "metadata": {},
   "outputs": [],
   "source": [
    "# Object 변수 categorical 로 변경 (LightGBM에 바로 넣기 위해)\n",
    "category_knob = []\n",
    "\n",
    "for knob in dataset:\n",
    "    if dataset[knob].dtype == 'O':  # Object인 경우 category 형으로 변경\n",
    "        dataset[knob] = dataset[knob].astype('category')\n",
    "        if knob in knobs_list:\n",
    "            category_knob.append(knob)"
   ]
  },
  {
   "cell_type": "code",
   "execution_count": 109,
   "metadata": {},
   "outputs": [],
   "source": [
    "# 설정한 knob들만 추출\n",
    "extract_knobs_list = knobs_list.copy()\n",
    "extract_knobs_list.append('throughput')  # target 값 추가\n",
    "\n",
    "dataset = dataset[extract_knobs_list]"
   ]
  },
  {
   "cell_type": "code",
   "execution_count": 110,
   "metadata": {
    "scrolled": true
   },
   "outputs": [
    {
     "data": {
      "text/html": [
       "<div>\n",
       "<style scoped>\n",
       "    .dataframe tbody tr th:only-of-type {\n",
       "        vertical-align: middle;\n",
       "    }\n",
       "\n",
       "    .dataframe tbody tr th {\n",
       "        vertical-align: top;\n",
       "    }\n",
       "\n",
       "    .dataframe thead th {\n",
       "        text-align: right;\n",
       "    }\n",
       "</style>\n",
       "<table border=\"1\" class=\"dataframe\">\n",
       "  <thead>\n",
       "    <tr style=\"text-align: right;\">\n",
       "      <th></th>\n",
       "      <th>hash-max-ziplist-entries</th>\n",
       "      <th>save0_0</th>\n",
       "      <th>save0_1</th>\n",
       "      <th>save1_1</th>\n",
       "      <th>save2_1</th>\n",
       "      <th>rdb-save-incremental-fsync</th>\n",
       "      <th>throughput</th>\n",
       "    </tr>\n",
       "  </thead>\n",
       "  <tbody>\n",
       "    <tr>\n",
       "      <th>0</th>\n",
       "      <td>258</td>\n",
       "      <td>805</td>\n",
       "      <td>5</td>\n",
       "      <td>91</td>\n",
       "      <td>9230</td>\n",
       "      <td>no</td>\n",
       "      <td>61645.41</td>\n",
       "    </tr>\n",
       "    <tr>\n",
       "      <th>1</th>\n",
       "      <td>360</td>\n",
       "      <td>1097</td>\n",
       "      <td>3</td>\n",
       "      <td>33</td>\n",
       "      <td>9410</td>\n",
       "      <td>no</td>\n",
       "      <td>63270.32</td>\n",
       "    </tr>\n",
       "    <tr>\n",
       "      <th>2</th>\n",
       "      <td>364</td>\n",
       "      <td>1018</td>\n",
       "      <td>2</td>\n",
       "      <td>23</td>\n",
       "      <td>8649</td>\n",
       "      <td>yes</td>\n",
       "      <td>63602.49</td>\n",
       "    </tr>\n",
       "  </tbody>\n",
       "</table>\n",
       "</div>"
      ],
      "text/plain": [
       "   hash-max-ziplist-entries  save0_0  save0_1  save1_1  save2_1  \\\n",
       "0                       258      805        5       91     9230   \n",
       "1                       360     1097        3       33     9410   \n",
       "2                       364     1018        2       23     8649   \n",
       "\n",
       "  rdb-save-incremental-fsync  throughput  \n",
       "0                         no    61645.41  \n",
       "1                         no    63270.32  \n",
       "2                        yes    63602.49  "
      ]
     },
     "execution_count": 110,
     "metadata": {},
     "output_type": "execute_result"
    }
   ],
   "source": [
    "dataset.head(3)"
   ]
  },
  {
   "cell_type": "code",
   "execution_count": 111,
   "metadata": {
    "scrolled": true
   },
   "outputs": [
    {
     "name": "stdout",
     "output_type": "stream",
     "text": [
      "<class 'pandas.core.frame.DataFrame'>\n",
      "RangeIndex: 2500 entries, 0 to 2499\n",
      "Data columns (total 33 columns):\n",
      " #   Column                         Non-Null Count  Dtype  \n",
      "---  ------                         --------------  -----  \n",
      " 0   appendonly                     0 non-null      float64\n",
      " 1   appendfsync                    0 non-null      float64\n",
      " 2   auto-aof-rewrite-percentage    0 non-null      float64\n",
      " 3   auto-aof-rewrite-min-size      0 non-null      float64\n",
      " 4   no-appendfsync-on-rewrite      0 non-null      float64\n",
      " 5   aof-rewrite-incremental-fsync  0 non-null      float64\n",
      " 6   aof-use-rdb-preamble           0 non-null      float64\n",
      " 7   save0_0                        2500 non-null   int64  \n",
      " 8   save0_1                        2500 non-null   int64  \n",
      " 9   save1_0                        2500 non-null   int64  \n",
      " 10  save1_1                        2500 non-null   int64  \n",
      " 11  save2_0                        2500 non-null   int64  \n",
      " 12  save2_1                        2500 non-null   int64  \n",
      " 13  rdbcompression                 2500 non-null   object \n",
      " 14  rdbchecksum                    2500 non-null   object \n",
      " 15  rdb-save-incremental-fsync     2500 non-null   object \n",
      " 16  activedefrag                   1252 non-null   object \n",
      " 17  active-defrag-threshold-lower  1252 non-null   float64\n",
      " 18  active-defrag-threshold-upper  1252 non-null   float64\n",
      " 19  active-defrag-cycle-min        1252 non-null   float64\n",
      " 20  active-defrag-cycle-max        1252 non-null   float64\n",
      " 21  maxmemory                      2500 non-null   object \n",
      " 22  maxmemory-policy               2500 non-null   object \n",
      " 23  maxmemory-samples              2500 non-null   int64  \n",
      " 24  lazyfree-lazy-eviction         2500 non-null   object \n",
      " 25  lazyfree-lazy-expire           2500 non-null   object \n",
      " 26  lazyfree-lazy-server-del       2500 non-null   object \n",
      " 27  hash-max-ziplist-entries       2500 non-null   int64  \n",
      " 28  hash-max-ziplist-value         2500 non-null   int64  \n",
      " 29  activerehashing                2500 non-null   object \n",
      " 30  hz                             2500 non-null   int64  \n",
      " 31  dynamic-hz                     2500 non-null   object \n",
      " 32  throughput                     2500 non-null   float64\n",
      "dtypes: float64(12), int64(10), object(11)\n",
      "memory usage: 644.7+ KB\n",
      "None\n",
      "<class 'pandas.core.frame.DataFrame'>\n",
      "RangeIndex: 2500 entries, 0 to 2499\n",
      "Data columns (total 7 columns):\n",
      " #   Column                      Non-Null Count  Dtype   \n",
      "---  ------                      --------------  -----   \n",
      " 0   hash-max-ziplist-entries    2500 non-null   int64   \n",
      " 1   save0_0                     2500 non-null   int64   \n",
      " 2   save0_1                     2500 non-null   int64   \n",
      " 3   save1_1                     2500 non-null   int64   \n",
      " 4   save2_1                     2500 non-null   int64   \n",
      " 5   rdb-save-incremental-fsync  2500 non-null   category\n",
      " 6   throughput                  2500 non-null   float64 \n",
      "dtypes: category(1), float64(1), int64(5)\n",
      "memory usage: 119.9 KB\n",
      "None\n"
     ]
    }
   ],
   "source": [
    "# 결측치 처리전 확인\n",
    "print(dataset_nan.info())\n",
    "\n",
    "# 결측치 처리후 확인\n",
    "print(dataset.info())"
   ]
  },
  {
   "cell_type": "markdown",
   "metadata": {},
   "source": [
    "### 이상치 처리"
   ]
  },
  {
   "cell_type": "code",
   "execution_count": 112,
   "metadata": {},
   "outputs": [
    {
     "data": {
      "text/html": [
       "<div>\n",
       "<style scoped>\n",
       "    .dataframe tbody tr th:only-of-type {\n",
       "        vertical-align: middle;\n",
       "    }\n",
       "\n",
       "    .dataframe tbody tr th {\n",
       "        vertical-align: top;\n",
       "    }\n",
       "\n",
       "    .dataframe thead th {\n",
       "        text-align: right;\n",
       "    }\n",
       "</style>\n",
       "<table border=\"1\" class=\"dataframe\">\n",
       "  <thead>\n",
       "    <tr style=\"text-align: right;\">\n",
       "      <th></th>\n",
       "      <th>hash-max-ziplist-entries</th>\n",
       "      <th>save0_0</th>\n",
       "      <th>save0_1</th>\n",
       "      <th>save1_1</th>\n",
       "      <th>save2_1</th>\n",
       "      <th>throughput</th>\n",
       "    </tr>\n",
       "  </thead>\n",
       "  <tbody>\n",
       "    <tr>\n",
       "      <th>count</th>\n",
       "      <td>2500.000000</td>\n",
       "      <td>2500.000000</td>\n",
       "      <td>2500.000000</td>\n",
       "      <td>2500.000000</td>\n",
       "      <td>2500.000000</td>\n",
       "      <td>2500.000000</td>\n",
       "    </tr>\n",
       "    <tr>\n",
       "      <th>mean</th>\n",
       "      <td>505.647200</td>\n",
       "      <td>895.984000</td>\n",
       "      <td>5.002000</td>\n",
       "      <td>55.756000</td>\n",
       "      <td>9979.238400</td>\n",
       "      <td>58662.946124</td>\n",
       "    </tr>\n",
       "    <tr>\n",
       "      <th>std</th>\n",
       "      <td>143.769327</td>\n",
       "      <td>116.627749</td>\n",
       "      <td>2.603057</td>\n",
       "      <td>25.954813</td>\n",
       "      <td>1168.360083</td>\n",
       "      <td>3374.542926</td>\n",
       "    </tr>\n",
       "    <tr>\n",
       "      <th>min</th>\n",
       "      <td>256.000000</td>\n",
       "      <td>700.000000</td>\n",
       "      <td>1.000000</td>\n",
       "      <td>10.000000</td>\n",
       "      <td>8000.000000</td>\n",
       "      <td>47520.430000</td>\n",
       "    </tr>\n",
       "    <tr>\n",
       "      <th>25%</th>\n",
       "      <td>383.000000</td>\n",
       "      <td>794.000000</td>\n",
       "      <td>3.000000</td>\n",
       "      <td>33.000000</td>\n",
       "      <td>8957.250000</td>\n",
       "      <td>55643.050000</td>\n",
       "    </tr>\n",
       "    <tr>\n",
       "      <th>50%</th>\n",
       "      <td>504.000000</td>\n",
       "      <td>891.000000</td>\n",
       "      <td>5.000000</td>\n",
       "      <td>56.000000</td>\n",
       "      <td>9958.500000</td>\n",
       "      <td>59031.920000</td>\n",
       "    </tr>\n",
       "    <tr>\n",
       "      <th>75%</th>\n",
       "      <td>632.000000</td>\n",
       "      <td>997.000000</td>\n",
       "      <td>7.000000</td>\n",
       "      <td>78.000000</td>\n",
       "      <td>10999.500000</td>\n",
       "      <td>61586.640000</td>\n",
       "    </tr>\n",
       "    <tr>\n",
       "      <th>max</th>\n",
       "      <td>750.000000</td>\n",
       "      <td>1100.000000</td>\n",
       "      <td>9.000000</td>\n",
       "      <td>100.000000</td>\n",
       "      <td>11996.000000</td>\n",
       "      <td>66377.650000</td>\n",
       "    </tr>\n",
       "  </tbody>\n",
       "</table>\n",
       "</div>"
      ],
      "text/plain": [
       "       hash-max-ziplist-entries      save0_0      save0_1      save1_1  \\\n",
       "count               2500.000000  2500.000000  2500.000000  2500.000000   \n",
       "mean                 505.647200   895.984000     5.002000    55.756000   \n",
       "std                  143.769327   116.627749     2.603057    25.954813   \n",
       "min                  256.000000   700.000000     1.000000    10.000000   \n",
       "25%                  383.000000   794.000000     3.000000    33.000000   \n",
       "50%                  504.000000   891.000000     5.000000    56.000000   \n",
       "75%                  632.000000   997.000000     7.000000    78.000000   \n",
       "max                  750.000000  1100.000000     9.000000   100.000000   \n",
       "\n",
       "            save2_1    throughput  \n",
       "count   2500.000000   2500.000000  \n",
       "mean    9979.238400  58662.946124  \n",
       "std     1168.360083   3374.542926  \n",
       "min     8000.000000  47520.430000  \n",
       "25%     8957.250000  55643.050000  \n",
       "50%     9958.500000  59031.920000  \n",
       "75%    10999.500000  61586.640000  \n",
       "max    11996.000000  66377.650000  "
      ]
     },
     "execution_count": 112,
     "metadata": {},
     "output_type": "execute_result"
    }
   ],
   "source": [
    "# -999999와 같은 이상치 확인 -> 없음\n",
    "dataset.describe()"
   ]
  },
  {
   "cell_type": "code",
   "execution_count": 113,
   "metadata": {},
   "outputs": [
    {
     "data": {
      "text/plain": [
       "<AxesSubplot:>"
      ]
     },
     "execution_count": 113,
     "metadata": {},
     "output_type": "execute_result"
    },
    {
     "data": {
      "image/png": "[encoded data removed]",
      "text/plain": [
       "<Figure size 432x288 with 1 Axes>"
      ]
     },
     "metadata": {
      "needs_background": "light"
     },
     "output_type": "display_data"
    }
   ],
   "source": [
    "# 이상치 파악 \n",
    "dataset['throughput'].hist()"
   ]
  },
  {
   "cell_type": "code",
   "execution_count": 114,
   "metadata": {},
   "outputs": [
    {
     "name": "stdout",
     "output_type": "stream",
     "text": [
      "289     50567.71\n",
      "1662    48151.93\n",
      "1795    47520.43\n",
      "1819    52479.91\n",
      "1829    52219.64\n",
      "1869    52156.25\n",
      "1871    52365.91\n",
      "1872    52402.46\n",
      "1918    49023.47\n",
      "1941    52407.46\n",
      "1972    52470.66\n",
      "1994    51419.62\n",
      "2277    48485.40\n",
      "2400    50734.14\n",
      "2437    47543.22\n",
      "Name: throughput, dtype: float64\n",
      "개수:  15\n"
     ]
    }
   ],
   "source": [
    "# 인덱스제거하고 돌려보자\n",
    "print(dataset['throughput'][dataset['throughput'] <= 52500])\n",
    "outlier_index = dataset['throughput'][dataset['throughput'] <= 52500].index\n",
    "print('개수: ', len(outlier_index))"
   ]
  },
  {
   "cell_type": "code",
   "execution_count": 115,
   "metadata": {},
   "outputs": [
    {
     "data": {
      "image/png": "[encoded data removed]",
      "text/plain": [
       "<Figure size 432x288 with 1 Axes>"
      ]
     },
     "metadata": {
      "needs_background": "light"
     },
     "output_type": "display_data"
    }
   ],
   "source": [
    "# 이상치로 분류되진 않지만 제거한다. \n",
    "import seaborn as sns\n",
    "sns.boxplot(x = \"throughput\",data = dataset )\n",
    "plt.show()"
   ]
  },
  {
   "cell_type": "code",
   "execution_count": 116,
   "metadata": {},
   "outputs": [],
   "source": [
    "# 이상치 제거\n",
    "dataset = dataset.drop(outlier_index)"
   ]
  },
  {
   "cell_type": "code",
   "execution_count": 117,
   "metadata": {},
   "outputs": [
    {
     "data": {
      "text/plain": [
       "(2485, 7)"
      ]
     },
     "execution_count": 117,
     "metadata": {},
     "output_type": "execute_result"
    }
   ],
   "source": [
    "# 이상치 제거 확인\n",
    "dataset.shape"
   ]
  },
  {
   "cell_type": "code",
   "execution_count": 118,
   "metadata": {},
   "outputs": [
    {
     "data": {
      "text/plain": [
       "hash-max-ziplist-entries         int64\n",
       "save0_0                          int64\n",
       "save0_1                          int64\n",
       "save1_1                          int64\n",
       "save2_1                          int64\n",
       "rdb-save-incremental-fsync    category\n",
       "throughput                     float64\n",
       "dtype: object"
      ]
     },
     "execution_count": 118,
     "metadata": {},
     "output_type": "execute_result"
    }
   ],
   "source": [
    "# 타입 확인 (카테고리)\n",
    "dataset.dtypes"
   ]
  },
  {
   "cell_type": "markdown",
   "metadata": {},
   "source": [
    "### test, train 데이터 분리"
   ]
  },
  {
   "cell_type": "code",
   "execution_count": 119,
   "metadata": {},
   "outputs": [],
   "source": [
    "# test, train 데이터로 분리\n",
    "X_train, X_test, y_train, y_test = train_test_split(dataset.iloc[:,:-1]\n",
    "                                                    , dataset['throughput'] \n",
    "                                                    ,test_size=0.2\n",
    "                                                   , random_state = 156)\n"
   ]
  },
  {
   "cell_type": "code",
   "execution_count": 120,
   "metadata": {},
   "outputs": [
    {
     "data": {
      "text/html": [
       "<div>\n",
       "<style scoped>\n",
       "    .dataframe tbody tr th:only-of-type {\n",
       "        vertical-align: middle;\n",
       "    }\n",
       "\n",
       "    .dataframe tbody tr th {\n",
       "        vertical-align: top;\n",
       "    }\n",
       "\n",
       "    .dataframe thead th {\n",
       "        text-align: right;\n",
       "    }\n",
       "</style>\n",
       "<table border=\"1\" class=\"dataframe\">\n",
       "  <thead>\n",
       "    <tr style=\"text-align: right;\">\n",
       "      <th></th>\n",
       "      <th>hash-max-ziplist-entries</th>\n",
       "      <th>save0_0</th>\n",
       "      <th>save0_1</th>\n",
       "      <th>save1_1</th>\n",
       "      <th>save2_1</th>\n",
       "      <th>rdb-save-incremental-fsync</th>\n",
       "    </tr>\n",
       "  </thead>\n",
       "  <tbody>\n",
       "    <tr>\n",
       "      <th>1658</th>\n",
       "      <td>672</td>\n",
       "      <td>1069</td>\n",
       "      <td>3</td>\n",
       "      <td>90</td>\n",
       "      <td>9659</td>\n",
       "      <td>no</td>\n",
       "    </tr>\n",
       "    <tr>\n",
       "      <th>1286</th>\n",
       "      <td>596</td>\n",
       "      <td>779</td>\n",
       "      <td>5</td>\n",
       "      <td>31</td>\n",
       "      <td>8198</td>\n",
       "      <td>no</td>\n",
       "    </tr>\n",
       "    <tr>\n",
       "      <th>1709</th>\n",
       "      <td>547</td>\n",
       "      <td>1013</td>\n",
       "      <td>4</td>\n",
       "      <td>96</td>\n",
       "      <td>8063</td>\n",
       "      <td>no</td>\n",
       "    </tr>\n",
       "    <tr>\n",
       "      <th>1166</th>\n",
       "      <td>642</td>\n",
       "      <td>791</td>\n",
       "      <td>3</td>\n",
       "      <td>25</td>\n",
       "      <td>9672</td>\n",
       "      <td>no</td>\n",
       "    </tr>\n",
       "    <tr>\n",
       "      <th>2258</th>\n",
       "      <td>293</td>\n",
       "      <td>780</td>\n",
       "      <td>5</td>\n",
       "      <td>53</td>\n",
       "      <td>11759</td>\n",
       "      <td>no</td>\n",
       "    </tr>\n",
       "  </tbody>\n",
       "</table>\n",
       "</div>"
      ],
      "text/plain": [
       "      hash-max-ziplist-entries  save0_0  save0_1  save1_1  save2_1  \\\n",
       "1658                       672     1069        3       90     9659   \n",
       "1286                       596      779        5       31     8198   \n",
       "1709                       547     1013        4       96     8063   \n",
       "1166                       642      791        3       25     9672   \n",
       "2258                       293      780        5       53    11759   \n",
       "\n",
       "     rdb-save-incremental-fsync  \n",
       "1658                         no  \n",
       "1286                         no  \n",
       "1709                         no  \n",
       "1166                         no  \n",
       "2258                         no  "
      ]
     },
     "execution_count": 120,
     "metadata": {},
     "output_type": "execute_result"
    }
   ],
   "source": [
    "# X_train 확인\n",
    "X_train.head()"
   ]
  },
  {
   "cell_type": "code",
   "execution_count": 121,
   "metadata": {},
   "outputs": [],
   "source": [
    "# # test, train 에 비슷하게 분류됬는지 확인\n",
    "# y_train.hist()\n",
    "# plt.title('train data')\n",
    "# plt.show()\n",
    "\n",
    "# y_test.hist()\n",
    "# plt.title('test data')\n",
    "# plt.show()"
   ]
  },
  {
   "cell_type": "markdown",
   "metadata": {},
   "source": [
    "## LightGBM 모델 생성"
   ]
  },
  {
   "cell_type": "code",
   "execution_count": 131,
   "metadata": {},
   "outputs": [
    {
     "name": "stdout",
     "output_type": "stream",
     "text": [
      "[1]\tvalid_0's auc: 1\tvalid_0's l2: 1.15589e+07\n",
      "Training until validation scores don't improve for 100 rounds\n",
      "[2]\tvalid_0's auc: 1\tvalid_0's l2: 1.15638e+07\n",
      "[3]\tvalid_0's auc: 1\tvalid_0's l2: 1.15953e+07\n",
      "[4]\tvalid_0's auc: 1\tvalid_0's l2: 1.15596e+07\n",
      "[5]\tvalid_0's auc: 1\tvalid_0's l2: 1.15865e+07\n",
      "[6]\tvalid_0's auc: 1\tvalid_0's l2: 1.15975e+07\n",
      "[7]\tvalid_0's auc: 1\tvalid_0's l2: 1.16118e+07\n",
      "[8]\tvalid_0's auc: 1\tvalid_0's l2: 1.16282e+07\n",
      "[9]\tvalid_0's auc: 1\tvalid_0's l2: 1.16343e+07\n",
      "[10]\tvalid_0's auc: 1\tvalid_0's l2: 1.16586e+07\n",
      "[11]\tvalid_0's auc: 1\tvalid_0's l2: 1.16764e+07\n",
      "[12]\tvalid_0's auc: 1\tvalid_0's l2: 1.1712e+07\n",
      "[13]\tvalid_0's auc: 1\tvalid_0's l2: 1.17206e+07\n",
      "[14]\tvalid_0's auc: 1\tvalid_0's l2: 1.17292e+07\n",
      "[15]\tvalid_0's auc: 1\tvalid_0's l2: 1.17405e+07\n",
      "[16]\tvalid_0's auc: 1\tvalid_0's l2: 1.17646e+07\n",
      "[17]\tvalid_0's auc: 1\tvalid_0's l2: 1.17921e+07\n",
      "[18]\tvalid_0's auc: 1\tvalid_0's l2: 1.1819e+07\n",
      "[19]\tvalid_0's auc: 1\tvalid_0's l2: 1.18262e+07\n",
      "[20]\tvalid_0's auc: 1\tvalid_0's l2: 1.18465e+07\n",
      "[21]\tvalid_0's auc: 1\tvalid_0's l2: 1.18632e+07\n",
      "[22]\tvalid_0's auc: 1\tvalid_0's l2: 1.19052e+07\n",
      "[23]\tvalid_0's auc: 1\tvalid_0's l2: 1.19376e+07\n",
      "[24]\tvalid_0's auc: 1\tvalid_0's l2: 1.19821e+07\n",
      "[25]\tvalid_0's auc: 1\tvalid_0's l2: 1.20125e+07\n",
      "[26]\tvalid_0's auc: 1\tvalid_0's l2: 1.19996e+07\n",
      "[27]\tvalid_0's auc: 1\tvalid_0's l2: 1.20193e+07\n",
      "[28]\tvalid_0's auc: 1\tvalid_0's l2: 1.20183e+07\n",
      "[29]\tvalid_0's auc: 1\tvalid_0's l2: 1.20218e+07\n",
      "[30]\tvalid_0's auc: 1\tvalid_0's l2: 1.20268e+07\n",
      "[31]\tvalid_0's auc: 1\tvalid_0's l2: 1.20439e+07\n",
      "[32]\tvalid_0's auc: 1\tvalid_0's l2: 1.20514e+07\n",
      "[33]\tvalid_0's auc: 1\tvalid_0's l2: 1.20891e+07\n",
      "[34]\tvalid_0's auc: 1\tvalid_0's l2: 1.21058e+07\n",
      "[35]\tvalid_0's auc: 1\tvalid_0's l2: 1.2137e+07\n",
      "[36]\tvalid_0's auc: 1\tvalid_0's l2: 1.2204e+07\n",
      "[37]\tvalid_0's auc: 1\tvalid_0's l2: 1.22508e+07\n",
      "[38]\tvalid_0's auc: 1\tvalid_0's l2: 1.22573e+07\n",
      "[39]\tvalid_0's auc: 1\tvalid_0's l2: 1.22444e+07\n",
      "[40]\tvalid_0's auc: 1\tvalid_0's l2: 1.22452e+07\n",
      "[41]\tvalid_0's auc: 1\tvalid_0's l2: 1.22444e+07\n",
      "[42]\tvalid_0's auc: 1\tvalid_0's l2: 1.22649e+07\n",
      "[43]\tvalid_0's auc: 1\tvalid_0's l2: 1.22962e+07\n",
      "[44]\tvalid_0's auc: 1\tvalid_0's l2: 1.22984e+07\n",
      "[45]\tvalid_0's auc: 1\tvalid_0's l2: 1.2326e+07\n",
      "[46]\tvalid_0's auc: 1\tvalid_0's l2: 1.23303e+07\n",
      "[47]\tvalid_0's auc: 1\tvalid_0's l2: 1.23423e+07\n",
      "[48]\tvalid_0's auc: 1\tvalid_0's l2: 1.2326e+07\n",
      "[49]\tvalid_0's auc: 1\tvalid_0's l2: 1.23347e+07\n",
      "[50]\tvalid_0's auc: 1\tvalid_0's l2: 1.23437e+07\n",
      "[51]\tvalid_0's auc: 1\tvalid_0's l2: 1.23593e+07\n",
      "[52]\tvalid_0's auc: 1\tvalid_0's l2: 1.23809e+07\n",
      "[53]\tvalid_0's auc: 1\tvalid_0's l2: 1.24049e+07\n",
      "[54]\tvalid_0's auc: 1\tvalid_0's l2: 1.23984e+07\n",
      "[55]\tvalid_0's auc: 1\tvalid_0's l2: 1.24148e+07\n",
      "[56]\tvalid_0's auc: 1\tvalid_0's l2: 1.24021e+07\n",
      "[57]\tvalid_0's auc: 1\tvalid_0's l2: 1.24159e+07\n",
      "[58]\tvalid_0's auc: 1\tvalid_0's l2: 1.24358e+07\n",
      "[59]\tvalid_0's auc: 1\tvalid_0's l2: 1.24503e+07\n",
      "[60]\tvalid_0's auc: 1\tvalid_0's l2: 1.24508e+07\n",
      "[61]\tvalid_0's auc: 1\tvalid_0's l2: 1.24394e+07\n",
      "[62]\tvalid_0's auc: 1\tvalid_0's l2: 1.24551e+07\n",
      "[63]\tvalid_0's auc: 1\tvalid_0's l2: 1.24739e+07\n",
      "[64]\tvalid_0's auc: 1\tvalid_0's l2: 1.24792e+07\n",
      "[65]\tvalid_0's auc: 1\tvalid_0's l2: 1.24684e+07\n",
      "[66]\tvalid_0's auc: 1\tvalid_0's l2: 1.24671e+07\n",
      "[67]\tvalid_0's auc: 1\tvalid_0's l2: 1.24751e+07\n",
      "[68]\tvalid_0's auc: 1\tvalid_0's l2: 1.2493e+07\n",
      "[69]\tvalid_0's auc: 1\tvalid_0's l2: 1.25113e+07\n",
      "[70]\tvalid_0's auc: 1\tvalid_0's l2: 1.25328e+07\n",
      "[71]\tvalid_0's auc: 1\tvalid_0's l2: 1.25437e+07\n",
      "[72]\tvalid_0's auc: 1\tvalid_0's l2: 1.25763e+07\n",
      "[73]\tvalid_0's auc: 1\tvalid_0's l2: 1.25643e+07\n",
      "[74]\tvalid_0's auc: 1\tvalid_0's l2: 1.25813e+07\n",
      "[75]\tvalid_0's auc: 1\tvalid_0's l2: 1.2603e+07\n",
      "[76]\tvalid_0's auc: 1\tvalid_0's l2: 1.26213e+07\n",
      "[77]\tvalid_0's auc: 1\tvalid_0's l2: 1.26328e+07\n",
      "[78]\tvalid_0's auc: 1\tvalid_0's l2: 1.26596e+07\n",
      "[79]\tvalid_0's auc: 1\tvalid_0's l2: 1.26642e+07\n",
      "[80]\tvalid_0's auc: 1\tvalid_0's l2: 1.26991e+07\n",
      "[81]\tvalid_0's auc: 1\tvalid_0's l2: 1.27164e+07\n",
      "[82]\tvalid_0's auc: 1\tvalid_0's l2: 1.2707e+07\n",
      "[83]\tvalid_0's auc: 1\tvalid_0's l2: 1.27239e+07\n",
      "[84]\tvalid_0's auc: 1\tvalid_0's l2: 1.27518e+07\n",
      "[85]\tvalid_0's auc: 1\tvalid_0's l2: 1.27795e+07\n",
      "[86]\tvalid_0's auc: 1\tvalid_0's l2: 1.27905e+07\n",
      "[87]\tvalid_0's auc: 1\tvalid_0's l2: 1.28104e+07\n",
      "[88]\tvalid_0's auc: 1\tvalid_0's l2: 1.28193e+07\n",
      "[89]\tvalid_0's auc: 1\tvalid_0's l2: 1.28253e+07\n",
      "[90]\tvalid_0's auc: 1\tvalid_0's l2: 1.28493e+07\n",
      "[91]\tvalid_0's auc: 1\tvalid_0's l2: 1.28586e+07\n",
      "[92]\tvalid_0's auc: 1\tvalid_0's l2: 1.2861e+07\n",
      "[93]\tvalid_0's auc: 1\tvalid_0's l2: 1.28656e+07\n",
      "[94]\tvalid_0's auc: 1\tvalid_0's l2: 1.2864e+07\n",
      "[95]\tvalid_0's auc: 1\tvalid_0's l2: 1.28668e+07\n",
      "[96]\tvalid_0's auc: 1\tvalid_0's l2: 1.28874e+07\n",
      "[97]\tvalid_0's auc: 1\tvalid_0's l2: 1.29091e+07\n",
      "[98]\tvalid_0's auc: 1\tvalid_0's l2: 1.2911e+07\n",
      "[99]\tvalid_0's auc: 1\tvalid_0's l2: 1.29021e+07\n",
      "[100]\tvalid_0's auc: 1\tvalid_0's l2: 1.29315e+07\n",
      "[101]\tvalid_0's auc: 1\tvalid_0's l2: 1.29324e+07\n",
      "Early stopping, best iteration is:\n",
      "[1]\tvalid_0's auc: 1\tvalid_0's l2: 1.15589e+07\n"
     ]
    },
    {
     "data": {
      "text/plain": [
       "LGBMRegressor(n_estimators=1000)"
      ]
     },
     "execution_count": 131,
     "metadata": {},
     "output_type": "execute_result"
    }
   ],
   "source": [
    "# 모델 객체 생성, n_estimators = 400으로 설정\n",
    "lgbm_wrapper = LGBMRegressor(n_estimators=1000, learning_rate=0.1)\n",
    "\n",
    "# 검증 데이터(validation data)\n",
    "evals = [(X_test, y_test)]\n",
    "\n",
    "lgbm_wrapper.fit(X_train, y_train, early_stopping_rounds=100, eval_metric='auc',\n",
    "                eval_set = evals, verbose = True, categorical_feature=['rdb-save-incremental-fsync'])"
   ]
  },
  {
   "cell_type": "code",
   "execution_count": 132,
   "metadata": {},
   "outputs": [
    {
     "data": {
      "text/plain": [
       "array([58786.04412332, 58786.04412332, 58775.6348942 , 58790.92911257,\n",
       "       58775.6348942 , 58558.25923008, 58789.990656  , 58871.7786078 ,\n",
       "       58708.41554785, 58786.04412332, 58825.71123093, 58963.91144864,\n",
       "       58775.6348942 , 58708.41554785, 58742.9091363 , 58551.14282089,\n",
       "       58634.53166389, 58847.45617525, 58692.34395395, 58742.9091363 ,\n",
       "       58558.25923008, 58789.990656  , 58789.990656  , 58786.04412332,\n",
       "       58786.04412332, 58963.91144864, 58786.04412332, 58714.57317709,\n",
       "       58789.990656  , 58871.7786078 , 58663.90946012, 58821.35508105,\n",
       "       58790.92911257, 58789.990656  , 58551.14282089, 58786.04412332,\n",
       "       58786.04412332, 58708.41554785, 58708.41554785, 58789.990656  ,\n",
       "       58522.25021123, 58708.41554785, 58714.57317709, 58708.41554785,\n",
       "       58790.92911257, 58786.04412332, 58786.04412332, 58847.45617525,\n",
       "       58786.04412332, 58742.9091363 , 58786.04412332, 58786.04412332,\n",
       "       58789.990656  , 58528.35503934, 58663.90946012, 58937.49437814,\n",
       "       58789.990656  , 58851.7542631 , 58786.04412332, 58714.57317709,\n",
       "       58708.41554785, 58742.9091363 , 58821.35508105, 58775.6348942 ,\n",
       "       58871.7786078 , 58708.41554785, 58634.53166389, 58742.9091363 ,\n",
       "       58786.04412332, 58716.29302952, 58708.41554785, 58790.92911257,\n",
       "       58789.990656  , 58871.7786078 , 58786.04412332, 58786.04412332,\n",
       "       58786.04412332, 58786.04412332, 58663.90946012, 58692.34395395,\n",
       "       58588.40387184, 58825.71123093, 58528.35503934, 58786.04412332,\n",
       "       58786.04412332, 58786.04412332, 58584.90172413, 58825.71123093,\n",
       "       58851.7542631 , 58708.41554785, 58522.25021123, 58775.6348942 ,\n",
       "       58584.90172413, 58789.990656  , 58663.90946012, 58708.41554785,\n",
       "       58708.41554785, 58663.90946012, 58529.0585099 , 58551.14282089,\n",
       "       58708.41554785, 58963.91144864, 58786.04412332, 58937.49437814,\n",
       "       58634.53166389, 58789.990656  , 58708.41554785, 58786.04412332,\n",
       "       58742.9091363 , 58775.6348942 , 58851.7542631 , 58708.41554785,\n",
       "       58847.45617525, 58716.29302952, 58551.14282089, 58789.990656  ,\n",
       "       58790.92911257, 58786.04412332, 58708.41554785, 58790.92911257,\n",
       "       58851.7542631 , 58708.41554785, 58871.7786078 , 58851.7542631 ,\n",
       "       58742.9091363 , 58663.90946012, 58937.49437814, 58775.6348942 ,\n",
       "       58588.40387184, 58847.45617525, 58789.990656  , 58714.57317709,\n",
       "       58786.04412332, 58786.04412332, 58786.04412332, 58742.9091363 ,\n",
       "       58775.6348942 , 58937.49437814, 58626.21725034, 58708.41554785,\n",
       "       58786.04412332, 58786.04412332, 58708.41554785, 58786.04412332,\n",
       "       58789.990656  , 58963.91144864, 58786.04412332, 58716.29302952,\n",
       "       58708.41554785, 58786.04412332, 58714.57317709, 58775.6348942 ,\n",
       "       58786.04412332, 58703.68114802, 58708.41554785, 58825.71123093,\n",
       "       58825.71123093, 58800.67578117, 58790.92911257, 58708.41554785,\n",
       "       58786.04412332, 58851.7542631 , 58716.29302952, 58847.45617525,\n",
       "       58551.14282089, 58786.04412332, 58847.45617525, 58786.04412332,\n",
       "       58800.67578117, 58615.44370833, 58742.9091363 , 58937.49437814,\n",
       "       58786.04412332, 58714.57317709, 58789.990656  , 58708.41554785,\n",
       "       58551.14282089, 58851.7542631 , 58851.7542631 , 58786.04412332,\n",
       "       58775.6348942 , 58634.53166389, 58786.04412332, 58626.21725034,\n",
       "       58703.68114802, 58789.990656  , 58937.49437814, 58800.67578117,\n",
       "       58714.57317709, 58786.04412332, 58588.40387184, 58847.45617525,\n",
       "       58703.68114802, 58786.04412332, 58786.04412332, 58786.04412332,\n",
       "       58714.57317709, 58714.57317709, 58708.41554785, 58786.04412332,\n",
       "       58790.92911257, 58708.41554785, 58551.14282089, 58851.7542631 ,\n",
       "       58847.45617525, 58825.71123093, 58740.92843675, 58786.04412332,\n",
       "       58786.04412332, 58692.34395395, 58742.9091363 , 58847.45617525,\n",
       "       58786.04412332, 58786.04412332, 58708.41554785, 58786.04412332,\n",
       "       58708.41554785, 58708.41554785, 58789.990656  , 58789.990656  ,\n",
       "       58714.57317709, 58786.04412332, 58789.990656  , 58716.29302952,\n",
       "       58937.49437814, 58663.90946012, 58789.990656  , 58522.25021123,\n",
       "       58786.04412332, 58742.9091363 , 58529.0585099 , 58615.44370833,\n",
       "       58714.57317709, 58786.04412332, 58775.6348942 , 58786.04412332,\n",
       "       58786.04412332, 58786.04412332, 58789.990656  , 58786.04412332,\n",
       "       58663.90946012, 58716.29302952, 58786.04412332, 58703.68114802,\n",
       "       58714.57317709, 58847.45617525, 58775.6348942 , 58634.53166389,\n",
       "       58692.34395395, 58851.7542631 , 58789.990656  , 58786.04412332,\n",
       "       58716.29302952, 58703.68114802, 58708.41554785, 58786.04412332,\n",
       "       58742.9091363 , 58708.41554785, 58789.990656  , 58789.990656  ,\n",
       "       58871.7786078 , 58851.7542631 , 58714.57317709, 58851.7542631 ,\n",
       "       58558.25923008, 58626.21725034, 58714.57317709, 58551.14282089,\n",
       "       58528.35503934, 58790.92911257, 58786.04412332, 58786.04412332,\n",
       "       58786.04412332, 58626.21725034, 58871.7786078 , 58786.04412332,\n",
       "       58786.04412332, 58786.04412332, 58786.04412332, 58937.49437814,\n",
       "       58786.04412332, 58742.9091363 , 58786.04412332, 58708.41554785,\n",
       "       58937.49437814, 58786.04412332, 58800.67578117, 58937.49437814,\n",
       "       58634.53166389, 58789.990656  , 58786.04412332, 58716.29302952,\n",
       "       58786.04412332, 58522.25021123, 58775.6348942 , 58708.41554785,\n",
       "       58692.34395395, 58786.04412332, 58584.90172413, 58663.90946012,\n",
       "       58786.04412332, 58708.41554785, 58786.04412332, 58714.57317709,\n",
       "       58663.90946012, 58528.35503934, 58528.35503934, 58716.29302952,\n",
       "       58851.7542631 , 58692.34395395, 58786.04412332, 58742.9091363 ,\n",
       "       58775.6348942 , 58851.7542631 , 58708.41554785, 58789.990656  ,\n",
       "       58692.34395395, 58708.41554785, 58786.04412332, 58714.57317709,\n",
       "       58786.04412332, 58551.14282089, 58740.92843675, 58786.04412332,\n",
       "       58528.35503934, 58703.68114802, 58786.04412332, 58847.45617525,\n",
       "       58851.7542631 , 58775.6348942 , 58786.04412332, 58786.04412332,\n",
       "       58786.04412332, 58851.7542631 , 58786.04412332, 58851.7542631 ,\n",
       "       58708.41554785, 58786.04412332, 58714.57317709, 58786.04412332,\n",
       "       58775.6348942 , 58708.41554785, 58790.92911257, 58708.41554785,\n",
       "       58790.92911257, 58790.92911257, 58528.35503934, 58800.67578117,\n",
       "       58708.41554785, 58821.35508105, 58851.7542631 , 58663.90946012,\n",
       "       58716.29302952, 58937.49437814, 58789.990656  , 58800.67578117,\n",
       "       58775.6348942 , 58528.35503934, 58740.92843675, 58786.04412332,\n",
       "       58790.92911257, 58528.35503934, 58789.990656  , 58740.92843675,\n",
       "       58775.6348942 , 58786.04412332, 58790.92911257, 58786.04412332,\n",
       "       58871.7786078 , 58786.04412332, 58708.41554785, 58821.35508105,\n",
       "       58789.990656  , 58708.41554785, 58851.7542631 , 58871.7786078 ,\n",
       "       58742.9091363 , 58786.04412332, 58775.6348942 , 58634.53166389,\n",
       "       58786.04412332, 58786.04412332, 58786.04412332, 58708.41554785,\n",
       "       58871.7786078 , 58708.41554785, 58851.7542631 , 58800.67578117,\n",
       "       58714.57317709, 58708.41554785, 58708.41554785, 58663.90946012,\n",
       "       58708.41554785, 58786.04412332, 58786.04412332, 58851.7542631 ,\n",
       "       58692.34395395, 58786.04412332, 58789.990656  , 58937.49437814,\n",
       "       58742.9091363 , 58847.45617525, 58789.990656  , 58775.6348942 ,\n",
       "       58775.6348942 , 58708.41554785, 58789.990656  , 58714.57317709,\n",
       "       58708.41554785, 58692.34395395, 58789.990656  , 58714.57317709,\n",
       "       58789.990656  , 58528.35503934, 58742.9091363 , 58789.990656  ,\n",
       "       58786.04412332, 58786.04412332, 58786.04412332, 58847.45617525,\n",
       "       58790.92911257, 58584.90172413, 58786.04412332, 58708.41554785,\n",
       "       58634.53166389, 58708.41554785, 58708.41554785, 58708.41554785,\n",
       "       58708.41554785, 58871.7786078 , 58692.34395395, 58708.41554785,\n",
       "       58714.57317709, 58789.990656  , 58663.90946012, 58786.04412332,\n",
       "       58786.04412332, 58786.04412332, 58786.04412332, 58663.90946012,\n",
       "       58786.04412332, 58742.9091363 , 58708.41554785, 58708.41554785,\n",
       "       58708.41554785, 58714.57317709, 58708.41554785, 58786.04412332,\n",
       "       58716.29302952, 58786.04412332, 58789.990656  , 58786.04412332,\n",
       "       58714.57317709, 58708.41554785, 58789.990656  , 58708.41554785,\n",
       "       58786.04412332, 58663.90946012, 58847.45617525, 58716.29302952,\n",
       "       58708.41554785, 58786.04412332, 58708.41554785, 58663.90946012,\n",
       "       58789.990656  , 58663.90946012, 58558.25923008, 58847.45617525,\n",
       "       58626.21725034, 58708.41554785, 58789.990656  , 58786.04412332,\n",
       "       58708.41554785, 58789.990656  , 58714.57317709, 58708.41554785,\n",
       "       58847.45617525, 58786.04412332, 58529.0585099 , 58714.57317709,\n",
       "       58714.57317709, 58786.04412332, 58703.68114802, 58588.40387184,\n",
       "       58528.35503934, 58714.57317709, 58522.25021123, 58786.04412332,\n",
       "       58937.49437814, 58786.04412332, 58742.9091363 , 58786.04412332,\n",
       "       58786.04412332, 58786.04412332, 58703.68114802, 58786.04412332,\n",
       "       58786.04412332])"
      ]
     },
     "execution_count": 132,
     "metadata": {},
     "output_type": "execute_result"
    }
   ],
   "source": [
    "preds = lgbm_wrapper.predict(X_test)  # 예측 결과\n",
    "# pred_proba = lgbm_wrapper.predict_proba(X_test)[:, 1]  # 예측 확률\n",
    "preds"
   ]
  },
  {
   "cell_type": "code",
   "execution_count": 124,
   "metadata": {},
   "outputs": [
    {
     "data": {
      "text/html": [
       "<div>\n",
       "<style scoped>\n",
       "    .dataframe tbody tr th:only-of-type {\n",
       "        vertical-align: middle;\n",
       "    }\n",
       "\n",
       "    .dataframe tbody tr th {\n",
       "        vertical-align: top;\n",
       "    }\n",
       "\n",
       "    .dataframe thead th {\n",
       "        text-align: right;\n",
       "    }\n",
       "</style>\n",
       "<table border=\"1\" class=\"dataframe\">\n",
       "  <thead>\n",
       "    <tr style=\"text-align: right;\">\n",
       "      <th></th>\n",
       "      <th>hash-max-ziplist-entries</th>\n",
       "      <th>save0_0</th>\n",
       "      <th>save0_1</th>\n",
       "      <th>save1_1</th>\n",
       "      <th>save2_1</th>\n",
       "      <th>rdb-save-incremental-fsync</th>\n",
       "    </tr>\n",
       "  </thead>\n",
       "  <tbody>\n",
       "    <tr>\n",
       "      <th>358</th>\n",
       "      <td>569</td>\n",
       "      <td>913</td>\n",
       "      <td>7</td>\n",
       "      <td>100</td>\n",
       "      <td>9651</td>\n",
       "      <td>no</td>\n",
       "    </tr>\n",
       "  </tbody>\n",
       "</table>\n",
       "</div>"
      ],
      "text/plain": [
       "     hash-max-ziplist-entries  save0_0  save0_1  save1_1  save2_1  \\\n",
       "358                       569      913        7      100     9651   \n",
       "\n",
       "    rdb-save-incremental-fsync  \n",
       "358                         no  "
      ]
     },
     "execution_count": 124,
     "metadata": {},
     "output_type": "execute_result"
    }
   ],
   "source": [
    "X_test.iloc[:1,:]"
   ]
  },
  {
   "cell_type": "code",
   "execution_count": 205,
   "metadata": {},
   "outputs": [
    {
     "data": {
      "text/plain": [
       "array([58513.45060958])"
      ]
     },
     "execution_count": 205,
     "metadata": {},
     "output_type": "execute_result"
    }
   ],
   "source": [
    "# lgbm_wrapper.predict(X_test.iloc[3:4,:])"
   ]
  },
  {
   "cell_type": "code",
   "execution_count": 138,
   "metadata": {},
   "outputs": [
    {
     "data": {
      "text/plain": [
       "58703.68114802141"
      ]
     },
     "execution_count": 138,
     "metadata": {},
     "output_type": "execute_result"
    }
   ],
   "source": [
    "# 예측 prediction 시험\n",
    "\n",
    "df_result_test = {}\n",
    "\n",
    "for i in knobs_list:\n",
    "    df_result_test[i] = ''\n",
    "\n",
    "df_result_test['save0_0'] = [10]\n",
    "df_result_test['save0_1'] = [99]\n",
    "df_result_test['save1_1'] = [900]\n",
    "df_result_test['save2_1'] = [10]\n",
    "df_result_test['hash-max-ziplist-entries'] = [10]\n",
    "df_result_test['rdb-save-incremental-fsync'] = ['yes']\n",
    "# df_result_test['lazyfree-lazy-expire'] = ['no']\n",
    "\n",
    "# df_result_test['save2_0'] = [0]\n",
    "# df_result_test['rdbcompression'] = ['yes']\n",
    "# df_result_test['active-defrag-cycle-max'] = [0]\n",
    "# df_result_test['maxmemory'] = [0]\n",
    "# df_result_test['maxmemory-samples'] = [0]\n",
    "\n",
    "\n",
    "\n",
    "df_result_test2 = pd.DataFrame(df_result_test)\n",
    "# for idx, ty in enumerate(list(df_result_test2.dtypes)):\n",
    "#     if ty == 'O':\n",
    "#         df_result_test2.iloc[0,idx].astype('category')\n",
    "    \n",
    "for elem in df_result_test2:\n",
    "    if df_result_test2[elem].dtype == 'O':\n",
    "        \n",
    "        df_result_test2[elem] = df_result_test2[elem].astype('category')\n",
    "        \n",
    "lgbm_wrapper.predict(df_result_test2.iloc[:1,:])[0]"
   ]
  },
  {
   "cell_type": "code",
   "execution_count": 207,
   "metadata": {},
   "outputs": [
    {
     "data": {
      "text/html": [
       "<div>\n",
       "<style scoped>\n",
       "    .dataframe tbody tr th:only-of-type {\n",
       "        vertical-align: middle;\n",
       "    }\n",
       "\n",
       "    .dataframe tbody tr th {\n",
       "        vertical-align: top;\n",
       "    }\n",
       "\n",
       "    .dataframe thead th {\n",
       "        text-align: right;\n",
       "    }\n",
       "</style>\n",
       "<table border=\"1\" class=\"dataframe\">\n",
       "  <thead>\n",
       "    <tr style=\"text-align: right;\">\n",
       "      <th></th>\n",
       "      <th>hash-max-ziplist-entries</th>\n",
       "      <th>save0_0</th>\n",
       "      <th>save0_1</th>\n",
       "      <th>save1_1</th>\n",
       "      <th>save2_0</th>\n",
       "      <th>save2_1</th>\n",
       "      <th>rdbcompression</th>\n",
       "      <th>rdb-save-incremental-fsync</th>\n",
       "      <th>active-defrag-cycle-max</th>\n",
       "      <th>maxmemory</th>\n",
       "      <th>maxmemory-samples</th>\n",
       "      <th>lazyfree-lazy-expire</th>\n",
       "    </tr>\n",
       "  </thead>\n",
       "  <tbody>\n",
       "    <tr>\n",
       "      <th>0</th>\n",
       "      <td>0</td>\n",
       "      <td>100</td>\n",
       "      <td>100</td>\n",
       "      <td>0</td>\n",
       "      <td>0</td>\n",
       "      <td>0</td>\n",
       "      <td>yes</td>\n",
       "      <td>yes</td>\n",
       "      <td>0</td>\n",
       "      <td>0</td>\n",
       "      <td>0</td>\n",
       "      <td>no</td>\n",
       "    </tr>\n",
       "  </tbody>\n",
       "</table>\n",
       "</div>"
      ],
      "text/plain": [
       "   hash-max-ziplist-entries  save0_0  save0_1  save1_1  save2_0  save2_1  \\\n",
       "0                         0      100      100        0        0        0   \n",
       "\n",
       "  rdbcompression rdb-save-incremental-fsync  active-defrag-cycle-max  \\\n",
       "0            yes                        yes                        0   \n",
       "\n",
       "   maxmemory  maxmemory-samples lazyfree-lazy-expire  \n",
       "0          0                  0                   no  "
      ]
     },
     "execution_count": 207,
     "metadata": {},
     "output_type": "execute_result"
    }
   ],
   "source": [
    "df_result_test2"
   ]
  },
  {
   "cell_type": "code",
   "execution_count": 208,
   "metadata": {},
   "outputs": [
    {
     "data": {
      "text/plain": [
       "array([58851.7542631])"
      ]
     },
     "execution_count": 208,
     "metadata": {},
     "output_type": "execute_result"
    }
   ],
   "source": [
    "lgbm_wrapper.predict(df_result_test2)"
   ]
  },
  {
   "cell_type": "code",
   "execution_count": 139,
   "metadata": {},
   "outputs": [
    {
     "data": {
      "text/plain": [
       "<AxesSubplot:title={'center':'Feature importance'}, xlabel='Feature importance', ylabel='Features'>"
      ]
     },
     "execution_count": 139,
     "metadata": {},
     "output_type": "execute_result"
    },
    {
     "data": {
      "image/png": "[encoded data removed]",
      "text/plain": [
       "<Figure size 720x864 with 1 Axes>"
      ]
     },
     "metadata": {
      "needs_background": "light"
     },
     "output_type": "display_data"
    }
   ],
   "source": [
    "# plot_importance()를 이영해 피처 중요도 시각화\n",
    "from lightgbm import plot_importance\n",
    "import matplotlib.pyplot as plt\n",
    "%matplotlib inline\n",
    "\n",
    "fig, ax = plt.subplots(figsize=(10, 12))\n",
    "plot_importance(lgbm_wrapper, ax= ax)"
   ]
  },
  {
   "cell_type": "code",
   "execution_count": 210,
   "metadata": {},
   "outputs": [
    {
     "data": {
      "text/plain": [
       "11503466.932714146"
      ]
     },
     "execution_count": 210,
     "metadata": {},
     "output_type": "execute_result"
    }
   ],
   "source": [
    "from sklearn.metrics import mean_absolute_error, mean_squared_error\n",
    "\n",
    "mse = mean_squared_error(y_test ,preds)\n",
    "mse"
   ]
  },
  {
   "cell_type": "markdown",
   "metadata": {},
   "source": [
    "### 하이퍼파라미터 튜닝"
   ]
  },
  {
   "cell_type": "code",
   "execution_count": 211,
   "metadata": {},
   "outputs": [],
   "source": [
    "# from sklearn.model_selection import GridSearchCV\n",
    "\n",
    "# # 하이퍼파라미터 튜닝시 수행 속도를 향상시키기 위해 n_estimators를 200으로 감소\n",
    "# lgbm_wrapper = LGBMRegressor(n_estimators = 200)\n",
    "\n",
    "# params = {\n",
    "#     'num_leaves':[32, 64],\n",
    "#     'max_depth':[128, 160],\n",
    "#     'min_child_samples':[60, 100],\n",
    "#     'subsample':[0.8, 1]\n",
    "# }\n",
    "\n",
    "# # cv는 3으로 가정 (교차 검증을 자동으로 해주는건가?)\n",
    "# gridcv = GridSearchCV(lgbm_wrapper, param_grid = params, cv=3)\n",
    "# gridcv.fit(X_train, y_train, early_stopping_rounds = 30, eval_metric='auc', \n",
    "#           eval_set = [(X_train, y_train), (X_test, y_test)])\n",
    "\n",
    "# print('GridSeaerchCV 최적 파라미터:', gridcv.best_params_)"
   ]
  },
  {
   "cell_type": "code",
   "execution_count": 212,
   "metadata": {
    "scrolled": true
   },
   "outputs": [],
   "source": [
    "# # 하이퍼 파라미터 적용 후 다시 생성\n",
    "# lgbm_wrapper = LGBMRegressor(n_estimators = 1000,\n",
    "#                             num_leaves = 32,\n",
    "#                             subsample=0.8,\n",
    "#                             min_child_samples=60,\n",
    "#                             max_depth=128)\n",
    "\n",
    "# evals = [(X_test, y_test)]\n",
    "\n",
    "# lgbm_wrapper.fit(X_train, y_train, early_stopping_rounds=100,\n",
    "#                 eval_metric='auc',\n",
    "#                 eval_set=evals,\n",
    "#                 verbose=True)"
   ]
  },
  {
   "cell_type": "markdown",
   "metadata": {},
   "source": [
    "---"
   ]
  },
  {
   "cell_type": "markdown",
   "metadata": {},
   "source": [
    "# BO"
   ]
  },
  {
   "cell_type": "markdown",
   "metadata": {},
   "source": [
    "## 목적함수"
   ]
  },
  {
   "cell_type": "code",
   "execution_count": 140,
   "metadata": {},
   "outputs": [],
   "source": [
    "noise_level = 0.1\n",
    "\n",
    "def objective_func(knob_value, noise_level=noise_level):\n",
    "    knob_dict = {}\n",
    "\n",
    "    for i, knob in enumerate(knobs_list): # 딕셔너리로 이동\n",
    "        knob_dict[knob] = knob_value[i]\n",
    "            \n",
    "    if 'activedefrag' in knob_dict:\n",
    "        if knob_dict['activedefrag'] == 'no':  # activedefrag no인 경우 나머지 관련 knob들에 0할당!\n",
    "            activ_var = ['active-defrag-threshold-lower', 'active-defrag-threshold-upper', 'active-defrag-cycle-min', 'active-defrag-cycle-max']\n",
    "            for activ_knob in activ_var:\n",
    "                knob_dict[activ_knob] = 0     \n",
    "    \n",
    "    knob_df = pd.DataFrame(knob_dict, index=[0])  # 데이터 프레임으로 변환\n",
    "    \n",
    "    # 카테고리 변수 변경\n",
    "    for knob in category_knob:\n",
    "        knob_df[knob] = knob_df[knob].astype('category') \n",
    "\n",
    "    return -lgbm_wrapper.predict(knob_df)[0]\n",
    "\n",
    "\n",
    "# noise_level = 0.1\n",
    "\n",
    "# def objective_func2(knob_value, noise_level=noise_level):\n",
    "#     knob_dict = {}\n",
    "    \n",
    "#     for knob in knobs_list:\n",
    "#         knob_dict[knob] = ''\n",
    "    \n",
    "#     # cluster0 인덱스 순서와 무관\n",
    "#     knob_dict['save0_0'] = 722\n",
    "#     knob_dict['save0_1'] = 5\n",
    "#     knob_dict['save1_1'] = 12\n",
    "#     knob_dict['save2_1'] = 9163   \n",
    "#     knob_dict['hash-max-ziplist-entries'] = 305\n",
    "#     knob_dict['rdb-save-incremental-fsync'] = 'no'\n",
    "#     knob_dict['lazyfree-lazy-expire'] = 'yes'\n",
    "\n",
    "#     # 나머지 새로운 넣어주기 \n",
    "#     for i, knob in enumerate(list(knobs_rdb2.keys())): # 현재 클러스터 내용만 담긴다. \n",
    "#         knob_dict[knob] = knob_value[i]\n",
    "    \n",
    "    \n",
    "# #     # cluster1\n",
    "# #     knob_dict['save2_0'] = 60\n",
    "# #     knob_dict['maxmemory'] = 2466    \n",
    "# #     knob_dict['maxmemory-samples'] = 6\n",
    "# #     knob_dict['rdbcomporession'] = 'yes'\n",
    "# #     knob_dict['active-defrag-cycle-max'] = 722\n",
    "        \n",
    "#     if 'activedefrag' in knob_dict:\n",
    "#         if knob_dict['activedefrag'] == 'no':  # activedefrag no인 경우 나머지 관련 knob들에 0할당!\n",
    "#             activ_var = ['active-defrag-threshold-lower', 'active-defrag-threshold-upper', 'active-defrag-cycle-min', 'active-defrag-cycle-max']\n",
    "#             for activ_knob in activ_var:\n",
    "#                 knob_dict[activ_knob] = 0     \n",
    "    \n",
    "#     knob_df = pd.DataFrame(knob_dict, index=[0])  # 데이터 프레임으로 변환\n",
    "    \n",
    "#     # 카테고리 변수 변경\n",
    "#     for knob in category_knob:\n",
    "#         knob_df[knob] = knob_df[knob].astype('category') \n",
    "        \n",
    "# #     print('#########')    \n",
    "# #     print(knob_df)\n",
    "\n",
    "#     return -lgbm_wrapper.predict(knob_df)[0]"
   ]
  },
  {
   "cell_type": "code",
   "execution_count": 141,
   "metadata": {},
   "outputs": [],
   "source": [
    "# # knob 종류 및 바운드\n",
    "# [60, 'yes', 83, 2466, 6]\n",
    "# knobs_rdb2 = {\n",
    "    \n",
    "# #     \"hash-max-ziplist-entries\":     (256, 751), \n",
    "# #     \"hash-max-ziplist-value\": (16, 257),\n",
    "# #     \"activerehashing\": ('yes', 'no'),  ##yes\n",
    "# #     \"hz\": (1, 41),\n",
    "# #     \"dynamic-hz\": ('yes', 'no'),\n",
    "\n",
    "# #     \"save0_0\": (700,1100),\n",
    "# #     \"save0_1\": (1,9),\n",
    "# #     \"save1_0\": (100,500),\n",
    "# #     \"save1_1\": (10,100),\n",
    "#     \"save2_0\": (30,90),\n",
    "# #     \"save2_1\": (8000,12000),\n",
    "\n",
    "#     \"rdbcompression\": ('yes', 'no'), ##yes\n",
    "# #     \"rdbchecksum\": ('yes', 'no'),    ##yes\n",
    "# #     \"rdb-save-incremental-fsync\": ('yes', 'no'),   ## yes\n",
    "\n",
    "# #     \"activedefrag\": ('yes','no'),  \n",
    "# #     \"active-defrag-threshold-lower\": (1, 31),\n",
    "# #     \"active-defrag-threshold-upper\": (70, 101),\n",
    "# #     \"active-defrag-cycle-min\": (1, 31),\n",
    "#     \"active-defrag-cycle-max\": (70, 91),\n",
    "    \n",
    "#     \"maxmemory\": (1000, 2900),   ##\"volatile-lru\"\n",
    "# #     \"maxmemory-policy\":     (\"volatile-lru\", \"allkeys-lru\", \"volatile-lfu\", \"allkeys-lfu\", \n",
    "# #                              \"volatile-random\",\"allkeys-random\", \"volatile-ttl\", \"noeviction\"),\n",
    "#     \"maxmemory-samples\": (3, 7),\n",
    "    \n",
    "# #     \"lazyfree-lazy-eviction\": ('yes', 'no'),\n",
    "# #     \"lazyfree-lazy-expire\": ('yes', 'no'),\n",
    "# #     \"lazyfree-lazy-server-del\": ('yes', 'no')\n",
    "# }\n",
    "\n",
    "# knobs_list2 = list(knobs_rdb2.keys())\n",
    "# knobs_bound2 = list(knobs_rdb2.values())"
   ]
  },
  {
   "cell_type": "markdown",
   "metadata": {},
   "source": [
    "## gp_minimize"
   ]
  },
  {
   "cell_type": "code",
   "execution_count": 142,
   "metadata": {},
   "outputs": [
    {
     "name": "stdout",
     "output_type": "stream",
     "text": [
      "Automatically created module for IPython interactive environment\n"
     ]
    }
   ],
   "source": [
    "%matplotlib inline\n",
    "print(__doc__)\n",
    "\n",
    "import numpy as np\n",
    "np.random.seed(237)\n",
    "import matplotlib.pyplot as plt\n",
    "from skopt.plots import plot_gaussian_process\n",
    "from skopt import gp_minimize"
   ]
  },
  {
   "cell_type": "code",
   "execution_count": 143,
   "metadata": {},
   "outputs": [],
   "source": [
    "res = gp_minimize(objective_func,                  # the function to minimize\n",
    "                  knobs_bound,      # the bounds on each dimension of x\n",
    "                  acq_func=\"EI\",      # the acquisition function\n",
    "                  n_calls=50,         # the number of evaluations of f\n",
    "                  n_random_starts=20,  # the number of random initialization points\n",
    "                  noise=0.1**2,       # the noise level (optional)\n",
    "                  random_state=1234)   # the random seed"
   ]
  },
  {
   "cell_type": "code",
   "execution_count": 144,
   "metadata": {
    "scrolled": true
   },
   "outputs": [
    {
     "data": {
      "text/plain": [
       "[418, 1025, 6, 14, 11980, 'yes']"
      ]
     },
     "execution_count": 144,
     "metadata": {},
     "output_type": "execute_result"
    }
   ],
   "source": [
    "res.x"
   ]
  },
  {
   "cell_type": "code",
   "execution_count": 145,
   "metadata": {},
   "outputs": [
    {
     "data": {
      "text/plain": [
       "[[502, 1027, 6, 79, 11443, 'no'],\n",
       " [354, 1026, 2, 20, 8052, 'no'],\n",
       " [420, 1021, 2, 15, 9771, 'no'],\n",
       " [400, 799, 7, 90, 11949, 'no'],\n",
       " [451, 881, 5, 81, 9863, 'no'],\n",
       " [538, 1088, 1, 59, 9850, 'no'],\n",
       " [418, 1025, 6, 14, 11980, 'yes'],\n",
       " [716, 1067, 9, 46, 9051, 'no'],\n",
       " [634, 940, 2, 73, 8656, 'no'],\n",
       " [418, 890, 2, 44, 8474, 'yes'],\n",
       " [634, 850, 1, 92, 11146, 'yes'],\n",
       " [361, 817, 6, 90, 10685, 'no'],\n",
       " [359, 705, 2, 76, 11919, 'yes'],\n",
       " [746, 976, 9, 63, 10126, 'no'],\n",
       " [335, 1075, 7, 53, 11535, 'no'],\n",
       " [341, 753, 4, 12, 10254, 'yes'],\n",
       " [388, 786, 2, 49, 11888, 'no'],\n",
       " [710, 764, 9, 79, 8216, 'no'],\n",
       " [715, 1035, 2, 72, 9468, 'yes'],\n",
       " [560, 980, 5, 74, 8538, 'yes'],\n",
       " [751, 1100, 1, 10, 12000, 'no'],\n",
       " [354, 970, 7, 16, 12000, 'yes'],\n",
       " [697, 858, 6, 14, 11842, 'yes'],\n",
       " [659, 1044, 2, 57, 8939, 'no'],\n",
       " [353, 775, 6, 76, 11908, 'yes'],\n",
       " [600, 856, 6, 38, 10333, 'yes'],\n",
       " [751, 863, 6, 10, 11895, 'no'],\n",
       " [477, 1035, 6, 30, 10442, 'yes'],\n",
       " [372, 1014, 6, 10, 11031, 'yes'],\n",
       " [617, 1019, 6, 10, 11286, 'no'],\n",
       " [416, 857, 6, 10, 10838, 'yes'],\n",
       " [380, 940, 6, 13, 10294, 'yes'],\n",
       " [665, 903, 6, 19, 9748, 'no'],\n",
       " [512, 1068, 5, 60, 9679, 'no'],\n",
       " [382, 969, 6, 10, 11513, 'yes'],\n",
       " [723, 925, 5, 64, 8476, 'yes'],\n",
       " [542, 718, 5, 70, 10216, 'no'],\n",
       " [342, 988, 5, 70, 11756, 'no'],\n",
       " [403, 985, 5, 70, 9563, 'no'],\n",
       " [397, 1060, 5, 70, 11051, 'no'],\n",
       " [338, 1083, 5, 70, 9156, 'no'],\n",
       " [456, 1064, 5, 70, 8541, 'no'],\n",
       " [357, 756, 5, 31, 11479, 'yes'],\n",
       " [512, 1035, 6, 82, 10669, 'no'],\n",
       " [486, 821, 5, 47, 9312, 'yes'],\n",
       " [569, 1051, 5, 10, 9463, 'no'],\n",
       " [640, 1065, 5, 23, 10479, 'no'],\n",
       " [378, 963, 5, 10, 9209, 'yes'],\n",
       " [725, 933, 6, 12, 10394, 'yes'],\n",
       " [751, 1100, 4, 70, 8000, 'yes']]"
      ]
     },
     "execution_count": 145,
     "metadata": {},
     "output_type": "execute_result"
    }
   ],
   "source": [
    "res.x_iters # "
   ]
  },
  {
   "cell_type": "code",
   "execution_count": 146,
   "metadata": {},
   "outputs": [
    {
     "data": {
      "text/plain": [
       "array([-58786.04412332, -58588.40387184, -58583.38833879, -58615.44370833,\n",
       "       -58786.04412332, -58742.9091363 , -58851.7542631 , -58528.35503934,\n",
       "       -58789.990656  , -58663.90946012, -58708.41554785, -58786.04412332,\n",
       "       -58708.41554785, -58775.6348942 , -58786.04412332, -58708.41554785,\n",
       "       -58708.41554785, -58703.68114802, -58742.9091363 , -58786.04412332,\n",
       "       -58583.38833879, -58615.44370833, -58851.7542631 , -58742.9091363 ,\n",
       "       -58615.44370833, -58786.04412332, -58851.7542631 , -58786.04412332,\n",
       "       -58851.7542631 , -58851.7542631 , -58851.7542631 , -58851.7542631 ,\n",
       "       -58786.04412332, -58786.04412332, -58851.7542631 , -58786.04412332,\n",
       "       -58786.04412332, -58786.04412332, -58786.04412332, -58786.04412332,\n",
       "       -58786.04412332, -58786.04412332, -58786.04412332, -58786.04412332,\n",
       "       -58786.04412332, -58851.7542631 , -58786.04412332, -58851.7542631 ,\n",
       "       -58851.7542631 , -58588.40387184])"
      ]
     },
     "execution_count": 146,
     "metadata": {},
     "output_type": "execute_result"
    }
   ],
   "source": [
    "res.func_vals"
   ]
  },
  {
   "cell_type": "code",
   "execution_count": 220,
   "metadata": {},
   "outputs": [
    {
     "data": {
      "text/plain": [
       "-58851.75426310124"
      ]
     },
     "execution_count": 220,
     "metadata": {},
     "output_type": "execute_result"
    }
   ],
   "source": [
    "res.fun"
   ]
  },
  {
   "cell_type": "code",
   "execution_count": 148,
   "metadata": {},
   "outputs": [
    {
     "ename": "AttributeError",
     "evalue": "func_val",
     "output_type": "error",
     "traceback": [
      "\u001b[0;31m---------------------------------------------------------------------------\u001b[0m",
      "\u001b[0;31mKeyError\u001b[0m                                  Traceback (most recent call last)",
      "\u001b[0;32m~/opt/anaconda3/lib/python3.8/site-packages/scipy/optimize/optimize.py\u001b[0m in \u001b[0;36m__getattr__\u001b[0;34m(self, name)\u001b[0m\n\u001b[1;32m    121\u001b[0m         \u001b[0;32mtry\u001b[0m\u001b[0;34m:\u001b[0m\u001b[0;34m\u001b[0m\u001b[0;34m\u001b[0m\u001b[0m\n\u001b[0;32m--> 122\u001b[0;31m             \u001b[0;32mreturn\u001b[0m \u001b[0mself\u001b[0m\u001b[0;34m[\u001b[0m\u001b[0mname\u001b[0m\u001b[0;34m]\u001b[0m\u001b[0;34m\u001b[0m\u001b[0;34m\u001b[0m\u001b[0m\n\u001b[0m\u001b[1;32m    123\u001b[0m         \u001b[0;32mexcept\u001b[0m \u001b[0mKeyError\u001b[0m \u001b[0;32mas\u001b[0m \u001b[0me\u001b[0m\u001b[0;34m:\u001b[0m\u001b[0;34m\u001b[0m\u001b[0;34m\u001b[0m\u001b[0m\n",
      "\u001b[0;31mKeyError\u001b[0m: 'func_val'",
      "\nThe above exception was the direct cause of the following exception:\n",
      "\u001b[0;31mAttributeError\u001b[0m                            Traceback (most recent call last)",
      "\u001b[0;32m<ipython-input-148-02c406e303c3>\u001b[0m in \u001b[0;36m<module>\u001b[0;34m\u001b[0m\n\u001b[0;32m----> 1\u001b[0;31m \u001b[0mres_func_list\u001b[0m \u001b[0;34m=\u001b[0m \u001b[0mres\u001b[0m\u001b[0;34m.\u001b[0m\u001b[0mfunc_val\u001b[0m\u001b[0;34m\u001b[0m\u001b[0;34m\u001b[0m\u001b[0m\n\u001b[0m\u001b[1;32m      2\u001b[0m \u001b[0mlist\u001b[0m\u001b[0;34m(\u001b[0m\u001b[0mset\u001b[0m\u001b[0;34m(\u001b[0m\u001b[0mres_func_list\u001b[0m\u001b[0;34m)\u001b[0m\u001b[0;34m)\u001b[0m\u001b[0;34m\u001b[0m\u001b[0;34m\u001b[0m\u001b[0m\n",
      "\u001b[0;32m~/opt/anaconda3/lib/python3.8/site-packages/scipy/optimize/optimize.py\u001b[0m in \u001b[0;36m__getattr__\u001b[0;34m(self, name)\u001b[0m\n\u001b[1;32m    122\u001b[0m             \u001b[0;32mreturn\u001b[0m \u001b[0mself\u001b[0m\u001b[0;34m[\u001b[0m\u001b[0mname\u001b[0m\u001b[0;34m]\u001b[0m\u001b[0;34m\u001b[0m\u001b[0;34m\u001b[0m\u001b[0m\n\u001b[1;32m    123\u001b[0m         \u001b[0;32mexcept\u001b[0m \u001b[0mKeyError\u001b[0m \u001b[0;32mas\u001b[0m \u001b[0me\u001b[0m\u001b[0;34m:\u001b[0m\u001b[0;34m\u001b[0m\u001b[0;34m\u001b[0m\u001b[0m\n\u001b[0;32m--> 124\u001b[0;31m             \u001b[0;32mraise\u001b[0m \u001b[0mAttributeError\u001b[0m\u001b[0;34m(\u001b[0m\u001b[0mname\u001b[0m\u001b[0;34m)\u001b[0m \u001b[0;32mfrom\u001b[0m \u001b[0me\u001b[0m\u001b[0;34m\u001b[0m\u001b[0;34m\u001b[0m\u001b[0m\n\u001b[0m\u001b[1;32m    125\u001b[0m \u001b[0;34m\u001b[0m\u001b[0m\n\u001b[1;32m    126\u001b[0m     \u001b[0m__setattr__\u001b[0m \u001b[0;34m=\u001b[0m \u001b[0mdict\u001b[0m\u001b[0;34m.\u001b[0m\u001b[0m__setitem__\u001b[0m\u001b[0;34m\u001b[0m\u001b[0;34m\u001b[0m\u001b[0m\n",
      "\u001b[0;31mAttributeError\u001b[0m: func_val"
     ]
    }
   ],
   "source": [
    "res_func_list = res.func_val\n",
    "list(set(res_func_list))"
   ]
  },
  {
   "cell_type": "markdown",
   "metadata": {},
   "source": [
    "---"
   ]
  },
  {
   "cell_type": "code",
   "execution_count": 181,
   "metadata": {},
   "outputs": [],
   "source": [
    "# gp 결과 정리 함수\n",
    "def li_to_str(result_list):\n",
    "    for idx,knob in enumerate(list(knobs_rdb.keys())):  # knobs_rdb 키마다 접근\n",
    "        print(\"{} \".format(knob), end='')\n",
    "        print('{}'.format(result_list[idx]))"
   ]
  },
  {
   "cell_type": "code",
   "execution_count": 74,
   "metadata": {},
   "outputs": [
    {
     "name": "stdout",
     "output_type": "stream",
     "text": [
      "hash-max-ziplist-entries 305\n",
      "save0_0 722\n",
      "save0_1 5\n",
      "save1_1 12\n",
      "save2_1 9163\n",
      "rdb-save-incremental-fsync no\n",
      "lazyfree-lazy-expire yes\n"
     ]
    }
   ],
   "source": [
    "# gp 결과\n",
    "li_to_str(res.x)"
   ]
  },
  {
   "cell_type": "markdown",
   "metadata": {},
   "source": [
    "## gp 결과 정리\n",
    "\n",
    "### gp 분류된것\n",
    "\"hash-max-ziplist-entries\" : 284\n",
    "'hash-max-ziplist-value' 22\n",
    "'activerehashing': 'yes'\n",
    "'hz' 32\n",
    "'dynamic-hz' : 'yes'\n",
    "'save0_0' : 877\n",
    "'save0_1'2\n",
    "'save1_0'272\n",
    "'save1_1' : 12\n",
    "'save2_0'33\n",
    "'save2_1' : 11669 \n",
    "'rdbcompression'no\n",
    "'rdbchecksum' yes\n",
    "\"rdb-save-incremental-fsync\" 'no'\n",
    "'active-defrag-threshold-lower'3\n",
    "'active-defrag-threshold-upper': 87\n",
    "'active-defrag-cycle-min' : 25\n",
    "'active-defrag-cycle-max' : 80\n",
    "'maxmemory'1298\n",
    "maxmemory-policy : 'allkeys-random' \n",
    "'maxmemory-samples'6\n",
    "\"lazyfree-lazy-eviction\"  'no'\n",
    "'lazyfree-lazy-expire' yes\n",
    "'lazyfree-lazy-server-del' yes\n",
    "\n",
    "\n",
    "### gp 분류된것2\n",
    "hash-max-ziplist-entries 502\n",
    "hash-max-ziplist-value 213\n",
    "activerehashing yes\n",
    "hz 32\n",
    "dynamic-hz yes\n",
    "save0_0 760\n",
    "save0_1 3\n",
    "save1_0 426\n",
    "save1_1 24\n",
    "save2_0 37\n",
    "save2_1 8052 \n",
    "rdbcompression no\n",
    "rdbchecksum' no\n",
    "rdb-save-incremental-fsync yes\n",
    "active-defrag-threshold-lower 4\n",
    "active-defrag-threshold-upper 72\n",
    "active-defrag-cycle-min 14\n",
    "active-defrag-cycle-max 70\n",
    "maxmemory 1552\n",
    "maxmemory-policy allkeys-random\n",
    "maxmemory-samples 6\n",
    "lazyfree-lazy-eviction yes\n",
    "lazyfree-lazy-expire yes\n",
    "lazyfree-lazy-server-del no\n",
    "[575,\n",
    " 94,\n",
    " 'no',\n",
    " 10,\n",
    " 'yes',\n",
    " 1072,\n",
    " 5,\n",
    " 465,\n",
    " 24,\n",
    " 83,\n",
    " 9398,\n",
    " 'yes',\n",
    " 'yes',\n",
    " 'no',\n",
    " 26,\n",
    " 81,\n",
    " 20,\n",
    " 75,\n",
    " 1539,\n",
    " 'allkeys-lfu',\n",
    " 4,\n",
    " 'yes',\n",
    " 'no',\n",
    " 'no']\n",
    "\n",
    "### gp_T\n",
    "hash-max-ziplist-entries 575\n",
    "hash-max-ziplist-value 94\n",
    "activerehashing no\n",
    "hz 10\n",
    "dynamic-hz yes\n",
    "save0_0 1072\n",
    "save0_1 5\n",
    "save1_0 465\n",
    "save1_1 24\n",
    "save2_0 83\n",
    "save2_1 9398\n",
    "rdbcompression yes\n",
    "rdbchecksum yes\n",
    "rdb-save-incremental-fsync no\n",
    "active-defrag-threshold-lower 26\n",
    "active-defrag-threshold-upper 81\n",
    "active-defrag-cycle-min 20\n",
    "active-defrag-cycle-max 75\n",
    "maxmemory 1539\n",
    "maxmemory-policy allkeys-lfu\n",
    "maxmemory-samples 4\n",
    "lazyfree-lazy-eviction yes\n",
    "lazyfree-lazy-expire no\n",
    "lazyfree-lazy-server-del no\n",
    "\n"
   ]
  }
 ],
 "metadata": {
  "kernelspec": {
   "display_name": "Python 3",
   "language": "python",
   "name": "python3"
  },
  "language_info": {
   "codemirror_mode": {
    "name": "ipython",
    "version": 3
   },
   "file_extension": ".py",
   "mimetype": "text/x-python",
   "name": "python",
   "nbconvert_exporter": "python",
   "pygments_lexer": "ipython3",
   "version": "3.8.5"
  }
 },
 "nbformat": 4,
 "nbformat_minor": 4
}
