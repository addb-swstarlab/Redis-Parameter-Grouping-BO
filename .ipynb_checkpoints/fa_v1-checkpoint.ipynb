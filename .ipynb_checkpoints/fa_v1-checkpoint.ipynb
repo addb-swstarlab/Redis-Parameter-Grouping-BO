{
 "cells": [
  {
   "cell_type": "markdown",
   "metadata": {},
   "source": [
    "# FA & Clustering"
   ]
  },
  {
   "cell_type": "markdown",
   "metadata": {},
   "source": [
    "## FA"
   ]
  },
  {
   "cell_type": "markdown",
   "metadata": {},
   "source": [
    "요인수를 선택해야 한다...\n",
    "* 속성값들\n",
    "* 클러스터링 되는 애들"
   ]
  },
  {
   "cell_type": "markdown",
   "metadata": {},
   "source": [
    "## 데이터 전처리\n",
    "1. 버전 관련 제거\n",
    "2. 모두 동일한 값 제거\n",
    "3. 값이 2개인 경우 제거\n",
    "4. 범주형 변수 제거"
   ]
  },
  {
   "cell_type": "code",
   "execution_count": 21,
   "metadata": {},
   "outputs": [],
   "source": [
    "import pandas as pd\n",
    "from factor_analyzer import FactorAnalyzer\n",
    "import matplotlib.pyplot as plt\n",
    "import seaborn as sns"
   ]
  },
  {
   "cell_type": "code",
   "execution_count": 26,
   "metadata": {},
   "outputs": [],
   "source": [
    "# 데이터 가져오기\n",
    "internalMetrics_df = pd.read_csv('./data/internal_metrcis0.csv')"
   ]
  },
  {
   "cell_type": "markdown",
   "metadata": {},
   "source": [
    "### 1. 버전 환경 관련 제거\n",
    "* redis_version\n",
    "* redis_builid_id\n",
    "* os\n",
    "* gcc_version\n",
    "* Executable\n",
    "* config_file\n",
    "* tcp_port\n",
    "* run_id\n",
    "* process_id"
   ]
  },
  {
   "cell_type": "code",
   "execution_count": 29,
   "metadata": {},
   "outputs": [],
   "source": [
    "# 버전, 환경 관련 변수\n",
    "var1_noRel = [\n",
    "    'redis_version', \n",
    "    'redis_build_id', \n",
    "    'os',\n",
    "    'gcc_version',\n",
    "    'executable',\n",
    "    'config_file',\n",
    "    'tcp_port',\n",
    "    'run_id',\n",
    "    'process_id',\n",
    "    'master_replid'\n",
    "]"
   ]
  },
  {
   "cell_type": "code",
   "execution_count": 30,
   "metadata": {
    "scrolled": true
   },
   "outputs": [
    {
     "data": {
      "text/plain": [
       "['redis_version',\n",
       " 'redis_build_id',\n",
       " 'os',\n",
       " 'gcc_version',\n",
       " 'executable',\n",
       " 'config_file',\n",
       " 'tcp_port',\n",
       " 'run_id',\n",
       " 'process_id',\n",
       " 'master_replid']"
      ]
     },
     "execution_count": 30,
     "metadata": {},
     "output_type": "execute_result"
    }
   ],
   "source": [
    "# 버전, 환경 관련 변수 확인\n",
    "var1_noRel"
   ]
  },
  {
   "cell_type": "code",
   "execution_count": 31,
   "metadata": {},
   "outputs": [],
   "source": [
    "# 변수 제거 \n",
    "internalMetrics_df = internalMetrics_df.drop(columns = var1_noRel, axis=0)"
   ]
  },
  {
   "cell_type": "code",
   "execution_count": 32,
   "metadata": {},
   "outputs": [
    {
     "data": {
      "text/plain": [
       "114"
      ]
     },
     "execution_count": 32,
     "metadata": {},
     "output_type": "execute_result"
    }
   ],
   "source": [
    "len(internalMetrics_df.columns)"
   ]
  },
  {
   "cell_type": "code",
   "execution_count": 33,
   "metadata": {},
   "outputs": [
    {
     "data": {
      "text/html": [
       "<div>\n",
       "<style scoped>\n",
       "    .dataframe tbody tr th:only-of-type {\n",
       "        vertical-align: middle;\n",
       "    }\n",
       "\n",
       "    .dataframe tbody tr th {\n",
       "        vertical-align: top;\n",
       "    }\n",
       "\n",
       "    .dataframe thead th {\n",
       "        text-align: right;\n",
       "    }\n",
       "</style>\n",
       "<table border=\"1\" class=\"dataframe\">\n",
       "  <thead>\n",
       "    <tr style=\"text-align: right;\">\n",
       "      <th></th>\n",
       "      <th>redis_git_sha1</th>\n",
       "      <th>redis_git_dirty</th>\n",
       "      <th>redis_mode</th>\n",
       "      <th>arch_bits</th>\n",
       "      <th>multiplexing_api</th>\n",
       "      <th>atomicvar_api</th>\n",
       "      <th>uptime_in_seconds</th>\n",
       "      <th>uptime_in_days</th>\n",
       "      <th>hz</th>\n",
       "      <th>configured_hz</th>\n",
       "      <th>...</th>\n",
       "      <th>repl_backlog_first_byte_offset</th>\n",
       "      <th>repl_backlog_histlen</th>\n",
       "      <th>used_cpu_sys</th>\n",
       "      <th>used_cpu_user</th>\n",
       "      <th>used_cpu_sys_children</th>\n",
       "      <th>used_cpu_user_children</th>\n",
       "      <th>cluster_enabled</th>\n",
       "      <th>db0:keys</th>\n",
       "      <th>expires</th>\n",
       "      <th>avg_ttl</th>\n",
       "    </tr>\n",
       "  </thead>\n",
       "  <tbody>\n",
       "    <tr>\n",
       "      <th>0</th>\n",
       "      <td>0</td>\n",
       "      <td>0</td>\n",
       "      <td>standalone</td>\n",
       "      <td>64</td>\n",
       "      <td>epoll</td>\n",
       "      <td>atomic-builtin</td>\n",
       "      <td>22</td>\n",
       "      <td>0</td>\n",
       "      <td>7</td>\n",
       "      <td>7</td>\n",
       "      <td>...</td>\n",
       "      <td>0</td>\n",
       "      <td>0</td>\n",
       "      <td>8.506465</td>\n",
       "      <td>3.861151</td>\n",
       "      <td>0.0</td>\n",
       "      <td>0.0</td>\n",
       "      <td>0</td>\n",
       "      <td>249666</td>\n",
       "      <td>0</td>\n",
       "      <td>0</td>\n",
       "    </tr>\n",
       "    <tr>\n",
       "      <th>1</th>\n",
       "      <td>0</td>\n",
       "      <td>0</td>\n",
       "      <td>standalone</td>\n",
       "      <td>64</td>\n",
       "      <td>epoll</td>\n",
       "      <td>atomic-builtin</td>\n",
       "      <td>21</td>\n",
       "      <td>0</td>\n",
       "      <td>32</td>\n",
       "      <td>32</td>\n",
       "      <td>...</td>\n",
       "      <td>0</td>\n",
       "      <td>0</td>\n",
       "      <td>8.464944</td>\n",
       "      <td>3.926858</td>\n",
       "      <td>0.0</td>\n",
       "      <td>0.0</td>\n",
       "      <td>0</td>\n",
       "      <td>249666</td>\n",
       "      <td>0</td>\n",
       "      <td>0</td>\n",
       "    </tr>\n",
       "    <tr>\n",
       "      <th>2</th>\n",
       "      <td>0</td>\n",
       "      <td>0</td>\n",
       "      <td>standalone</td>\n",
       "      <td>64</td>\n",
       "      <td>epoll</td>\n",
       "      <td>atomic-builtin</td>\n",
       "      <td>21</td>\n",
       "      <td>0</td>\n",
       "      <td>40</td>\n",
       "      <td>40</td>\n",
       "      <td>...</td>\n",
       "      <td>0</td>\n",
       "      <td>0</td>\n",
       "      <td>8.397651</td>\n",
       "      <td>3.828146</td>\n",
       "      <td>0.0</td>\n",
       "      <td>0.0</td>\n",
       "      <td>0</td>\n",
       "      <td>249666</td>\n",
       "      <td>0</td>\n",
       "      <td>0</td>\n",
       "    </tr>\n",
       "    <tr>\n",
       "      <th>3</th>\n",
       "      <td>0</td>\n",
       "      <td>0</td>\n",
       "      <td>standalone</td>\n",
       "      <td>64</td>\n",
       "      <td>epoll</td>\n",
       "      <td>atomic-builtin</td>\n",
       "      <td>21</td>\n",
       "      <td>0</td>\n",
       "      <td>37</td>\n",
       "      <td>37</td>\n",
       "      <td>...</td>\n",
       "      <td>0</td>\n",
       "      <td>0</td>\n",
       "      <td>8.392912</td>\n",
       "      <td>3.816183</td>\n",
       "      <td>0.0</td>\n",
       "      <td>0.0</td>\n",
       "      <td>0</td>\n",
       "      <td>249666</td>\n",
       "      <td>0</td>\n",
       "      <td>0</td>\n",
       "    </tr>\n",
       "    <tr>\n",
       "      <th>4</th>\n",
       "      <td>0</td>\n",
       "      <td>0</td>\n",
       "      <td>standalone</td>\n",
       "      <td>64</td>\n",
       "      <td>epoll</td>\n",
       "      <td>atomic-builtin</td>\n",
       "      <td>22</td>\n",
       "      <td>0</td>\n",
       "      <td>30</td>\n",
       "      <td>30</td>\n",
       "      <td>...</td>\n",
       "      <td>0</td>\n",
       "      <td>0</td>\n",
       "      <td>9.027816</td>\n",
       "      <td>4.059768</td>\n",
       "      <td>0.0</td>\n",
       "      <td>0.0</td>\n",
       "      <td>0</td>\n",
       "      <td>249666</td>\n",
       "      <td>0</td>\n",
       "      <td>0</td>\n",
       "    </tr>\n",
       "  </tbody>\n",
       "</table>\n",
       "<p>5 rows × 114 columns</p>\n",
       "</div>"
      ],
      "text/plain": [
       "   redis_git_sha1  redis_git_dirty  redis_mode  arch_bits multiplexing_api  \\\n",
       "0               0                0  standalone         64            epoll   \n",
       "1               0                0  standalone         64            epoll   \n",
       "2               0                0  standalone         64            epoll   \n",
       "3               0                0  standalone         64            epoll   \n",
       "4               0                0  standalone         64            epoll   \n",
       "\n",
       "    atomicvar_api  uptime_in_seconds  uptime_in_days  hz  configured_hz  ...  \\\n",
       "0  atomic-builtin                 22               0   7              7  ...   \n",
       "1  atomic-builtin                 21               0  32             32  ...   \n",
       "2  atomic-builtin                 21               0  40             40  ...   \n",
       "3  atomic-builtin                 21               0  37             37  ...   \n",
       "4  atomic-builtin                 22               0  30             30  ...   \n",
       "\n",
       "   repl_backlog_first_byte_offset  repl_backlog_histlen  used_cpu_sys  \\\n",
       "0                               0                     0      8.506465   \n",
       "1                               0                     0      8.464944   \n",
       "2                               0                     0      8.397651   \n",
       "3                               0                     0      8.392912   \n",
       "4                               0                     0      9.027816   \n",
       "\n",
       "   used_cpu_user  used_cpu_sys_children  used_cpu_user_children  \\\n",
       "0       3.861151                    0.0                     0.0   \n",
       "1       3.926858                    0.0                     0.0   \n",
       "2       3.828146                    0.0                     0.0   \n",
       "3       3.816183                    0.0                     0.0   \n",
       "4       4.059768                    0.0                     0.0   \n",
       "\n",
       "   cluster_enabled  db0:keys  expires  avg_ttl  \n",
       "0                0    249666        0        0  \n",
       "1                0    249666        0        0  \n",
       "2                0    249666        0        0  \n",
       "3                0    249666        0        0  \n",
       "4                0    249666        0        0  \n",
       "\n",
       "[5 rows x 114 columns]"
      ]
     },
     "execution_count": 33,
     "metadata": {},
     "output_type": "execute_result"
    }
   ],
   "source": [
    "# 변수 제거 데이터프레임 확인\n",
    "internalMetrics_df.head()"
   ]
  },
  {
   "cell_type": "markdown",
   "metadata": {},
   "source": [
    "### 2. 모두 동일한 값\n",
    "fa의 경우 모두 동일한 값이 존재하면 실행 시 오류 발생"
   ]
  },
  {
   "cell_type": "code",
   "execution_count": 34,
   "metadata": {},
   "outputs": [
    {
     "data": {
      "text/plain": [
       "114"
      ]
     },
     "execution_count": 34,
     "metadata": {},
     "output_type": "execute_result"
    }
   ],
   "source": [
    "len(internalMetrics_df.columns)"
   ]
  },
  {
   "cell_type": "code",
   "execution_count": 35,
   "metadata": {},
   "outputs": [],
   "source": [
    "def find_var_count(df, count):\n",
    "    var = []\n",
    "    \n",
    "    for metric in df:\n",
    "        if len(df[metric].unique()) == count:\n",
    "            var.append(metric)\n",
    "    return var"
   ]
  },
  {
   "cell_type": "code",
   "execution_count": 36,
   "metadata": {
    "scrolled": true
   },
   "outputs": [],
   "source": [
    "# 모두 동일한 값 가지고 있는 변수 리스트\n",
    "# sameValue_var = []\n",
    "\n",
    "# for metric in internalMetrics_df:\n",
    "#     if len(internalMetrics_df[metric].unique()) == 1:\n",
    "#         sameValue_var.append(metric)\n",
    "\n",
    "# len(sameValue_var)\n",
    "\n",
    "sameValue = find_var_count(internalMetrics_df, 1)\n",
    "\n",
    "# 동일 값 변수 제거\n",
    "internalMetrics_df = internalMetrics_df.drop(columns = sameValue, axis = 0)"
   ]
  },
  {
   "cell_type": "markdown",
   "metadata": {},
   "source": [
    "### 3. 값이 2개인 경우 제거"
   ]
  },
  {
   "cell_type": "code",
   "execution_count": 37,
   "metadata": {},
   "outputs": [],
   "source": [
    "# 값이 2개인 경우\n",
    "twoVal_var = find_var_count(internalMetrics_df, 2)\n",
    "\n",
    "internalMetrics_df = internalMetrics_df.drop(columns = twoVal_var, axis = 0)"
   ]
  },
  {
   "cell_type": "code",
   "execution_count": 38,
   "metadata": {},
   "outputs": [
    {
     "data": {
      "text/plain": [
       "29"
      ]
     },
     "execution_count": 38,
     "metadata": {},
     "output_type": "execute_result"
    }
   ],
   "source": [
    "len(internalMetrics_df.columns)"
   ]
  },
  {
   "cell_type": "code",
   "execution_count": 39,
   "metadata": {},
   "outputs": [
    {
     "data": {
      "text/plain": [
       "uptime_in_seconds              int64\n",
       "hz                             int64\n",
       "configured_hz                  int64\n",
       "lru_clock                      int64\n",
       "used_memory_rss                int64\n",
       "used_memory_rss_human        float64\n",
       "used_memory_peak               int64\n",
       "allocator_allocated            int64\n",
       "allocator_active               int64\n",
       "allocator_resident             int64\n",
       "maxmemory                      int64\n",
       "maxmemory_human              float64\n",
       "maxmemory_policy              object\n",
       "allocator_frag_bytes           int64\n",
       "allocator_rss_ratio          float64\n",
       "allocator_rss_bytes            int64\n",
       "rss_overhead_ratio           float64\n",
       "rss_overhead_bytes             int64\n",
       "mem_fragmentation_ratio      float64\n",
       "mem_fragmentation_bytes        int64\n",
       "rdb_last_save_time             int64\n",
       "instantaneous_ops_per_sec      int64\n",
       "total_net_output_bytes         int64\n",
       "instantaneous_input_kbps     float64\n",
       "instantaneous_output_kbps    float64\n",
       "keyspace_hits                  int64\n",
       "keyspace_misses                int64\n",
       "used_cpu_sys                 float64\n",
       "used_cpu_user                float64\n",
       "dtype: object"
      ]
     },
     "execution_count": 39,
     "metadata": {},
     "output_type": "execute_result"
    }
   ],
   "source": [
    "internalMetrics_df.dtypes"
   ]
  },
  {
   "cell_type": "markdown",
   "metadata": {},
   "source": [
    "### 4. 범주형 변수 제거"
   ]
  },
  {
   "cell_type": "code",
   "execution_count": 40,
   "metadata": {},
   "outputs": [],
   "source": [
    "# maxmemory_policy만 제거해보고 해보기\n",
    "internalMetrics_df = internalMetrics_df.drop(columns = 'maxmemory_policy', axis = 0)"
   ]
  },
  {
   "cell_type": "code",
   "execution_count": 41,
   "metadata": {},
   "outputs": [],
   "source": [
    "import pandas as pd"
   ]
  },
  {
   "cell_type": "code",
   "execution_count": 42,
   "metadata": {},
   "outputs": [
    {
     "data": {
      "text/html": [
       "<div>\n",
       "<style scoped>\n",
       "    .dataframe tbody tr th:only-of-type {\n",
       "        vertical-align: middle;\n",
       "    }\n",
       "\n",
       "    .dataframe tbody tr th {\n",
       "        vertical-align: top;\n",
       "    }\n",
       "\n",
       "    .dataframe thead th {\n",
       "        text-align: right;\n",
       "    }\n",
       "</style>\n",
       "<table border=\"1\" class=\"dataframe\">\n",
       "  <thead>\n",
       "    <tr style=\"text-align: right;\">\n",
       "      <th></th>\n",
       "      <th>uptime_in_seconds</th>\n",
       "      <th>hz</th>\n",
       "      <th>configured_hz</th>\n",
       "      <th>lru_clock</th>\n",
       "      <th>used_memory_rss</th>\n",
       "      <th>used_memory_rss_human</th>\n",
       "      <th>used_memory_peak</th>\n",
       "      <th>allocator_allocated</th>\n",
       "      <th>allocator_active</th>\n",
       "      <th>allocator_resident</th>\n",
       "      <th>...</th>\n",
       "      <th>mem_fragmentation_bytes</th>\n",
       "      <th>rdb_last_save_time</th>\n",
       "      <th>instantaneous_ops_per_sec</th>\n",
       "      <th>total_net_output_bytes</th>\n",
       "      <th>instantaneous_input_kbps</th>\n",
       "      <th>instantaneous_output_kbps</th>\n",
       "      <th>keyspace_hits</th>\n",
       "      <th>keyspace_misses</th>\n",
       "      <th>used_cpu_sys</th>\n",
       "      <th>used_cpu_user</th>\n",
       "    </tr>\n",
       "  </thead>\n",
       "  <tbody>\n",
       "    <tr>\n",
       "      <th>0</th>\n",
       "      <td>22</td>\n",
       "      <td>7</td>\n",
       "      <td>7</td>\n",
       "      <td>1745211</td>\n",
       "      <td>42033152</td>\n",
       "      <td>40.09</td>\n",
       "      <td>38704616</td>\n",
       "      <td>38658184</td>\n",
       "      <td>38932480</td>\n",
       "      <td>42209280</td>\n",
       "      <td>...</td>\n",
       "      <td>3410544</td>\n",
       "      <td>1629135141</td>\n",
       "      <td>45654</td>\n",
       "      <td>5048972</td>\n",
       "      <td>3187.77</td>\n",
       "      <td>226.38</td>\n",
       "      <td>742</td>\n",
       "      <td>499258</td>\n",
       "      <td>8.506465</td>\n",
       "      <td>3.861151</td>\n",
       "    </tr>\n",
       "    <tr>\n",
       "      <th>1</th>\n",
       "      <td>21</td>\n",
       "      <td>32</td>\n",
       "      <td>32</td>\n",
       "      <td>1745245</td>\n",
       "      <td>42037248</td>\n",
       "      <td>40.09</td>\n",
       "      <td>38704616</td>\n",
       "      <td>38658328</td>\n",
       "      <td>38932480</td>\n",
       "      <td>44310528</td>\n",
       "      <td>...</td>\n",
       "      <td>3414640</td>\n",
       "      <td>1629135176</td>\n",
       "      <td>55643</td>\n",
       "      <td>5048972</td>\n",
       "      <td>3885.23</td>\n",
       "      <td>275.94</td>\n",
       "      <td>742</td>\n",
       "      <td>499258</td>\n",
       "      <td>8.464944</td>\n",
       "      <td>3.926858</td>\n",
       "    </tr>\n",
       "    <tr>\n",
       "      <th>2</th>\n",
       "      <td>21</td>\n",
       "      <td>40</td>\n",
       "      <td>40</td>\n",
       "      <td>1745272</td>\n",
       "      <td>42029056</td>\n",
       "      <td>40.08</td>\n",
       "      <td>38704616</td>\n",
       "      <td>38657784</td>\n",
       "      <td>38932480</td>\n",
       "      <td>42209280</td>\n",
       "      <td>...</td>\n",
       "      <td>3406448</td>\n",
       "      <td>1629135203</td>\n",
       "      <td>50950</td>\n",
       "      <td>5048972</td>\n",
       "      <td>3557.60</td>\n",
       "      <td>252.57</td>\n",
       "      <td>742</td>\n",
       "      <td>499258</td>\n",
       "      <td>8.397651</td>\n",
       "      <td>3.828146</td>\n",
       "    </tr>\n",
       "    <tr>\n",
       "      <th>3</th>\n",
       "      <td>21</td>\n",
       "      <td>37</td>\n",
       "      <td>37</td>\n",
       "      <td>1745300</td>\n",
       "      <td>41828352</td>\n",
       "      <td>39.89</td>\n",
       "      <td>38704616</td>\n",
       "      <td>38658184</td>\n",
       "      <td>38932480</td>\n",
       "      <td>42209280</td>\n",
       "      <td>...</td>\n",
       "      <td>3205744</td>\n",
       "      <td>1629135231</td>\n",
       "      <td>52136</td>\n",
       "      <td>5048972</td>\n",
       "      <td>3640.36</td>\n",
       "      <td>258.74</td>\n",
       "      <td>742</td>\n",
       "      <td>499258</td>\n",
       "      <td>8.392912</td>\n",
       "      <td>3.816183</td>\n",
       "    </tr>\n",
       "    <tr>\n",
       "      <th>4</th>\n",
       "      <td>22</td>\n",
       "      <td>30</td>\n",
       "      <td>30</td>\n",
       "      <td>1745328</td>\n",
       "      <td>42037248</td>\n",
       "      <td>40.09</td>\n",
       "      <td>38704616</td>\n",
       "      <td>38657928</td>\n",
       "      <td>38932480</td>\n",
       "      <td>42209280</td>\n",
       "      <td>...</td>\n",
       "      <td>3414640</td>\n",
       "      <td>1629135258</td>\n",
       "      <td>53721</td>\n",
       "      <td>5049038</td>\n",
       "      <td>3751.05</td>\n",
       "      <td>266.38</td>\n",
       "      <td>743</td>\n",
       "      <td>499257</td>\n",
       "      <td>9.027816</td>\n",
       "      <td>4.059768</td>\n",
       "    </tr>\n",
       "  </tbody>\n",
       "</table>\n",
       "<p>5 rows × 28 columns</p>\n",
       "</div>"
      ],
      "text/plain": [
       "   uptime_in_seconds  hz  configured_hz  lru_clock  used_memory_rss  \\\n",
       "0                 22   7              7    1745211         42033152   \n",
       "1                 21  32             32    1745245         42037248   \n",
       "2                 21  40             40    1745272         42029056   \n",
       "3                 21  37             37    1745300         41828352   \n",
       "4                 22  30             30    1745328         42037248   \n",
       "\n",
       "   used_memory_rss_human  used_memory_peak  allocator_allocated  \\\n",
       "0                  40.09          38704616             38658184   \n",
       "1                  40.09          38704616             38658328   \n",
       "2                  40.08          38704616             38657784   \n",
       "3                  39.89          38704616             38658184   \n",
       "4                  40.09          38704616             38657928   \n",
       "\n",
       "   allocator_active  allocator_resident  ...  mem_fragmentation_bytes  \\\n",
       "0          38932480            42209280  ...                  3410544   \n",
       "1          38932480            44310528  ...                  3414640   \n",
       "2          38932480            42209280  ...                  3406448   \n",
       "3          38932480            42209280  ...                  3205744   \n",
       "4          38932480            42209280  ...                  3414640   \n",
       "\n",
       "   rdb_last_save_time  instantaneous_ops_per_sec  total_net_output_bytes  \\\n",
       "0          1629135141                      45654                 5048972   \n",
       "1          1629135176                      55643                 5048972   \n",
       "2          1629135203                      50950                 5048972   \n",
       "3          1629135231                      52136                 5048972   \n",
       "4          1629135258                      53721                 5049038   \n",
       "\n",
       "   instantaneous_input_kbps  instantaneous_output_kbps  keyspace_hits  \\\n",
       "0                   3187.77                     226.38            742   \n",
       "1                   3885.23                     275.94            742   \n",
       "2                   3557.60                     252.57            742   \n",
       "3                   3640.36                     258.74            742   \n",
       "4                   3751.05                     266.38            743   \n",
       "\n",
       "   keyspace_misses  used_cpu_sys  used_cpu_user  \n",
       "0           499258      8.506465       3.861151  \n",
       "1           499258      8.464944       3.926858  \n",
       "2           499258      8.397651       3.828146  \n",
       "3           499258      8.392912       3.816183  \n",
       "4           499257      9.027816       4.059768  \n",
       "\n",
       "[5 rows x 28 columns]"
      ]
     },
     "execution_count": 42,
     "metadata": {},
     "output_type": "execute_result"
    }
   ],
   "source": [
    "internalMetrics_df = pd.get_dummies(internalMetrics_df)\n",
    "internalMetrics_df.head()"
   ]
  },
  {
   "cell_type": "code",
   "execution_count": 43,
   "metadata": {},
   "outputs": [
    {
     "data": {
      "text/plain": [
       "uptime_in_seconds              int64\n",
       "hz                             int64\n",
       "configured_hz                  int64\n",
       "lru_clock                      int64\n",
       "used_memory_rss                int64\n",
       "used_memory_rss_human        float64\n",
       "used_memory_peak               int64\n",
       "allocator_allocated            int64\n",
       "allocator_active               int64\n",
       "allocator_resident             int64\n",
       "maxmemory                      int64\n",
       "maxmemory_human              float64\n",
       "allocator_frag_bytes           int64\n",
       "allocator_rss_ratio          float64\n",
       "allocator_rss_bytes            int64\n",
       "rss_overhead_ratio           float64\n",
       "rss_overhead_bytes             int64\n",
       "mem_fragmentation_ratio      float64\n",
       "mem_fragmentation_bytes        int64\n",
       "rdb_last_save_time             int64\n",
       "instantaneous_ops_per_sec      int64\n",
       "total_net_output_bytes         int64\n",
       "instantaneous_input_kbps     float64\n",
       "instantaneous_output_kbps    float64\n",
       "keyspace_hits                  int64\n",
       "keyspace_misses                int64\n",
       "used_cpu_sys                 float64\n",
       "used_cpu_user                float64\n",
       "dtype: object"
      ]
     },
     "execution_count": 43,
     "metadata": {},
     "output_type": "execute_result"
    }
   ],
   "source": [
    "internalMetrics_df.dtypes"
   ]
  },
  {
   "cell_type": "code",
   "execution_count": 44,
   "metadata": {},
   "outputs": [
    {
     "data": {
      "text/plain": [
       "28"
      ]
     },
     "execution_count": 44,
     "metadata": {},
     "output_type": "execute_result"
    }
   ],
   "source": [
    "# 컬럼 개수\n",
    "len(internalMetrics_df.columns)"
   ]
  },
  {
   "cell_type": "markdown",
   "metadata": {},
   "source": [
    "---"
   ]
  },
  {
   "cell_type": "markdown",
   "metadata": {},
   "source": [
    "## Scaling"
   ]
  },
  {
   "cell_type": "code",
   "execution_count": 19,
   "metadata": {},
   "outputs": [],
   "source": [
    "from sklearn.preprocessing import StandardScaler, MinMaxScaler"
   ]
  },
  {
   "cell_type": "markdown",
   "metadata": {},
   "source": [
    "### standardscaler"
   ]
  },
  {
   "cell_type": "code",
   "execution_count": 20,
   "metadata": {},
   "outputs": [],
   "source": [
    "std_scaler = StandardScaler()\n",
    "df = internalMetrics_df.copy()\n",
    "std_scaler.fit(internalMetrics_df)\n",
    "internalMetrics_df = std_scaler.transform(internalMetrics_df)\n"
   ]
  },
  {
   "cell_type": "code",
   "execution_count": 21,
   "metadata": {},
   "outputs": [
    {
     "data": {
      "text/plain": [
       "array([1., 1., 1., 1., 1., 1., 1., 1., 1., 1., 1., 1., 1., 1., 1., 1., 1.,\n",
       "       1., 1., 1., 1., 1., 1., 1., 1., 1., 1., 1.])"
      ]
     },
     "execution_count": 21,
     "metadata": {},
     "output_type": "execute_result"
    }
   ],
   "source": [
    "# 표준펴차 확인\n",
    "internalMetrics_df.std(axis=0)"
   ]
  },
  {
   "cell_type": "code",
   "execution_count": 22,
   "metadata": {},
   "outputs": [],
   "source": [
    "internalMetrics_df = pd.DataFrame(internalMetrics_df, columns = df.columns, index = list(df.index.values))\n"
   ]
  },
  {
   "cell_type": "code",
   "execution_count": 23,
   "metadata": {
    "scrolled": true
   },
   "outputs": [
    {
     "data": {
      "text/html": [
       "<div>\n",
       "<style scoped>\n",
       "    .dataframe tbody tr th:only-of-type {\n",
       "        vertical-align: middle;\n",
       "    }\n",
       "\n",
       "    .dataframe tbody tr th {\n",
       "        vertical-align: top;\n",
       "    }\n",
       "\n",
       "    .dataframe thead th {\n",
       "        text-align: right;\n",
       "    }\n",
       "</style>\n",
       "<table border=\"1\" class=\"dataframe\">\n",
       "  <thead>\n",
       "    <tr style=\"text-align: right;\">\n",
       "      <th></th>\n",
       "      <th>uptime_in_seconds</th>\n",
       "      <th>hz</th>\n",
       "      <th>configured_hz</th>\n",
       "      <th>lru_clock</th>\n",
       "      <th>used_memory_rss</th>\n",
       "      <th>used_memory_rss_human</th>\n",
       "      <th>used_memory_peak</th>\n",
       "      <th>allocator_allocated</th>\n",
       "      <th>allocator_active</th>\n",
       "      <th>allocator_resident</th>\n",
       "      <th>...</th>\n",
       "      <th>mem_fragmentation_bytes</th>\n",
       "      <th>rdb_last_save_time</th>\n",
       "      <th>instantaneous_ops_per_sec</th>\n",
       "      <th>total_net_output_bytes</th>\n",
       "      <th>instantaneous_input_kbps</th>\n",
       "      <th>instantaneous_output_kbps</th>\n",
       "      <th>keyspace_hits</th>\n",
       "      <th>keyspace_misses</th>\n",
       "      <th>used_cpu_sys</th>\n",
       "      <th>used_cpu_user</th>\n",
       "    </tr>\n",
       "  </thead>\n",
       "  <tbody>\n",
       "    <tr>\n",
       "      <th>0</th>\n",
       "      <td>-0.029831</td>\n",
       "      <td>-1.136804</td>\n",
       "      <td>-1.136804</td>\n",
       "      <td>-1.751409</td>\n",
       "      <td>-0.097558</td>\n",
       "      <td>-0.087919</td>\n",
       "      <td>-0.164567</td>\n",
       "      <td>-0.204710</td>\n",
       "      <td>-0.099331</td>\n",
       "      <td>-0.463214</td>\n",
       "      <td>...</td>\n",
       "      <td>-0.102717</td>\n",
       "      <td>-1.751212</td>\n",
       "      <td>0.370439</td>\n",
       "      <td>-0.714460</td>\n",
       "      <td>0.370424</td>\n",
       "      <td>0.368888</td>\n",
       "      <td>-0.714460</td>\n",
       "      <td>0.714460</td>\n",
       "      <td>-1.087608</td>\n",
       "      <td>-1.249273</td>\n",
       "    </tr>\n",
       "    <tr>\n",
       "      <th>1</th>\n",
       "      <td>-0.045070</td>\n",
       "      <td>1.002813</td>\n",
       "      <td>1.002813</td>\n",
       "      <td>-1.749900</td>\n",
       "      <td>-0.087680</td>\n",
       "      <td>-0.087919</td>\n",
       "      <td>-0.164567</td>\n",
       "      <td>-0.200422</td>\n",
       "      <td>-0.099331</td>\n",
       "      <td>2.137230</td>\n",
       "      <td>...</td>\n",
       "      <td>-0.092882</td>\n",
       "      <td>-1.749660</td>\n",
       "      <td>1.041542</td>\n",
       "      <td>-0.714460</td>\n",
       "      <td>1.041507</td>\n",
       "      <td>1.041535</td>\n",
       "      <td>-0.714460</td>\n",
       "      <td>0.714460</td>\n",
       "      <td>-1.170053</td>\n",
       "      <td>-0.977473</td>\n",
       "    </tr>\n",
       "    <tr>\n",
       "      <th>2</th>\n",
       "      <td>-0.045070</td>\n",
       "      <td>1.687491</td>\n",
       "      <td>1.687491</td>\n",
       "      <td>-1.748702</td>\n",
       "      <td>-0.107436</td>\n",
       "      <td>-0.113206</td>\n",
       "      <td>-0.164567</td>\n",
       "      <td>-0.216622</td>\n",
       "      <td>-0.099331</td>\n",
       "      <td>-0.463214</td>\n",
       "      <td>...</td>\n",
       "      <td>-0.112553</td>\n",
       "      <td>-1.748462</td>\n",
       "      <td>0.726247</td>\n",
       "      <td>-0.714460</td>\n",
       "      <td>0.726267</td>\n",
       "      <td>0.724349</td>\n",
       "      <td>-0.714460</td>\n",
       "      <td>0.714460</td>\n",
       "      <td>-1.303671</td>\n",
       "      <td>-1.385800</td>\n",
       "    </tr>\n",
       "    <tr>\n",
       "      <th>3</th>\n",
       "      <td>-0.045070</td>\n",
       "      <td>1.430736</td>\n",
       "      <td>1.430736</td>\n",
       "      <td>-1.747460</td>\n",
       "      <td>-0.591473</td>\n",
       "      <td>-0.593666</td>\n",
       "      <td>-0.164567</td>\n",
       "      <td>-0.204710</td>\n",
       "      <td>-0.099331</td>\n",
       "      <td>-0.463214</td>\n",
       "      <td>...</td>\n",
       "      <td>-0.594513</td>\n",
       "      <td>-1.747220</td>\n",
       "      <td>0.805927</td>\n",
       "      <td>-0.714460</td>\n",
       "      <td>0.805897</td>\n",
       "      <td>0.808090</td>\n",
       "      <td>-0.714460</td>\n",
       "      <td>0.714460</td>\n",
       "      <td>-1.313081</td>\n",
       "      <td>-1.435286</td>\n",
       "    </tr>\n",
       "    <tr>\n",
       "      <th>4</th>\n",
       "      <td>-0.029831</td>\n",
       "      <td>0.831644</td>\n",
       "      <td>0.831644</td>\n",
       "      <td>-1.746218</td>\n",
       "      <td>-0.087680</td>\n",
       "      <td>-0.087919</td>\n",
       "      <td>-0.164567</td>\n",
       "      <td>-0.212334</td>\n",
       "      <td>-0.099331</td>\n",
       "      <td>-0.463214</td>\n",
       "      <td>...</td>\n",
       "      <td>-0.092882</td>\n",
       "      <td>-1.746022</td>\n",
       "      <td>0.912414</td>\n",
       "      <td>1.175646</td>\n",
       "      <td>0.912401</td>\n",
       "      <td>0.911783</td>\n",
       "      <td>1.175646</td>\n",
       "      <td>-1.175646</td>\n",
       "      <td>-0.052404</td>\n",
       "      <td>-0.427683</td>\n",
       "    </tr>\n",
       "  </tbody>\n",
       "</table>\n",
       "<p>5 rows × 28 columns</p>\n",
       "</div>"
      ],
      "text/plain": [
       "   uptime_in_seconds        hz  configured_hz  lru_clock  used_memory_rss  \\\n",
       "0          -0.029831 -1.136804      -1.136804  -1.751409        -0.097558   \n",
       "1          -0.045070  1.002813       1.002813  -1.749900        -0.087680   \n",
       "2          -0.045070  1.687491       1.687491  -1.748702        -0.107436   \n",
       "3          -0.045070  1.430736       1.430736  -1.747460        -0.591473   \n",
       "4          -0.029831  0.831644       0.831644  -1.746218        -0.087680   \n",
       "\n",
       "   used_memory_rss_human  used_memory_peak  allocator_allocated  \\\n",
       "0              -0.087919         -0.164567            -0.204710   \n",
       "1              -0.087919         -0.164567            -0.200422   \n",
       "2              -0.113206         -0.164567            -0.216622   \n",
       "3              -0.593666         -0.164567            -0.204710   \n",
       "4              -0.087919         -0.164567            -0.212334   \n",
       "\n",
       "   allocator_active  allocator_resident  ...  mem_fragmentation_bytes  \\\n",
       "0         -0.099331           -0.463214  ...                -0.102717   \n",
       "1         -0.099331            2.137230  ...                -0.092882   \n",
       "2         -0.099331           -0.463214  ...                -0.112553   \n",
       "3         -0.099331           -0.463214  ...                -0.594513   \n",
       "4         -0.099331           -0.463214  ...                -0.092882   \n",
       "\n",
       "   rdb_last_save_time  instantaneous_ops_per_sec  total_net_output_bytes  \\\n",
       "0           -1.751212                   0.370439               -0.714460   \n",
       "1           -1.749660                   1.041542               -0.714460   \n",
       "2           -1.748462                   0.726247               -0.714460   \n",
       "3           -1.747220                   0.805927               -0.714460   \n",
       "4           -1.746022                   0.912414                1.175646   \n",
       "\n",
       "   instantaneous_input_kbps  instantaneous_output_kbps  keyspace_hits  \\\n",
       "0                  0.370424                   0.368888      -0.714460   \n",
       "1                  1.041507                   1.041535      -0.714460   \n",
       "2                  0.726267                   0.724349      -0.714460   \n",
       "3                  0.805897                   0.808090      -0.714460   \n",
       "4                  0.912401                   0.911783       1.175646   \n",
       "\n",
       "   keyspace_misses  used_cpu_sys  used_cpu_user  \n",
       "0         0.714460     -1.087608      -1.249273  \n",
       "1         0.714460     -1.170053      -0.977473  \n",
       "2         0.714460     -1.303671      -1.385800  \n",
       "3         0.714460     -1.313081      -1.435286  \n",
       "4        -1.175646     -0.052404      -0.427683  \n",
       "\n",
       "[5 rows x 28 columns]"
      ]
     },
     "execution_count": 23,
     "metadata": {},
     "output_type": "execute_result"
    }
   ],
   "source": [
    "internalMetrics_df.head()"
   ]
  },
  {
   "cell_type": "markdown",
   "metadata": {},
   "source": [
    "### minmaxscaler"
   ]
  },
  {
   "cell_type": "code",
   "execution_count": 24,
   "metadata": {},
   "outputs": [],
   "source": [
    "# 객체생성\n",
    "scaler = MinMaxScaler()\n",
    "\n",
    "# fit -> transform\n",
    "scaler.fit(internalMetrics_df) # df는 2차원 이상의 값이어야 함\n",
    "internalMetrics_df_MinMax = scaler.transform(internalMetrics_df.copy())\n",
    "\n",
    "# 배열형태로 반환되기 때문에 데이터 프레임으로 변환해주는 작업\n",
    "internalMetrics_df_MinMax = pd.DataFrame(data = internalMetrics_df_MinMax, columns=internalMetrics_df.columns)"
   ]
  },
  {
   "cell_type": "code",
   "execution_count": 25,
   "metadata": {},
   "outputs": [
    {
     "data": {
      "text/html": [
       "<div>\n",
       "<style scoped>\n",
       "    .dataframe tbody tr th:only-of-type {\n",
       "        vertical-align: middle;\n",
       "    }\n",
       "\n",
       "    .dataframe tbody tr th {\n",
       "        vertical-align: top;\n",
       "    }\n",
       "\n",
       "    .dataframe thead th {\n",
       "        text-align: right;\n",
       "    }\n",
       "</style>\n",
       "<table border=\"1\" class=\"dataframe\">\n",
       "  <thead>\n",
       "    <tr style=\"text-align: right;\">\n",
       "      <th></th>\n",
       "      <th>uptime_in_seconds</th>\n",
       "      <th>hz</th>\n",
       "      <th>configured_hz</th>\n",
       "      <th>lru_clock</th>\n",
       "      <th>used_memory_rss</th>\n",
       "      <th>used_memory_rss_human</th>\n",
       "      <th>used_memory_peak</th>\n",
       "      <th>allocator_allocated</th>\n",
       "      <th>allocator_active</th>\n",
       "      <th>allocator_resident</th>\n",
       "      <th>...</th>\n",
       "      <th>mem_fragmentation_bytes</th>\n",
       "      <th>rdb_last_save_time</th>\n",
       "      <th>instantaneous_ops_per_sec</th>\n",
       "      <th>total_net_output_bytes</th>\n",
       "      <th>instantaneous_input_kbps</th>\n",
       "      <th>instantaneous_output_kbps</th>\n",
       "      <th>keyspace_hits</th>\n",
       "      <th>keyspace_misses</th>\n",
       "      <th>used_cpu_sys</th>\n",
       "      <th>used_cpu_user</th>\n",
       "    </tr>\n",
       "  </thead>\n",
       "  <tbody>\n",
       "    <tr>\n",
       "      <th>0</th>\n",
       "      <td>0.000305</td>\n",
       "      <td>0.153846</td>\n",
       "      <td>0.153846</td>\n",
       "      <td>0.000000</td>\n",
       "      <td>0.148986</td>\n",
       "      <td>0.149852</td>\n",
       "      <td>0.25</td>\n",
       "      <td>0.912393</td>\n",
       "      <td>0.905983</td>\n",
       "      <td>0.314248</td>\n",
       "      <td>...</td>\n",
       "      <td>0.049678</td>\n",
       "      <td>0.000000</td>\n",
       "      <td>0.668551</td>\n",
       "      <td>0.0</td>\n",
       "      <td>0.668545</td>\n",
       "      <td>0.668833</td>\n",
       "      <td>0.0</td>\n",
       "      <td>1.0</td>\n",
       "      <td>0.127907</td>\n",
       "      <td>0.040699</td>\n",
       "    </tr>\n",
       "    <tr>\n",
       "      <th>1</th>\n",
       "      <td>0.000000</td>\n",
       "      <td>0.794872</td>\n",
       "      <td>0.794872</td>\n",
       "      <td>0.000433</td>\n",
       "      <td>0.149565</td>\n",
       "      <td>0.149852</td>\n",
       "      <td>0.25</td>\n",
       "      <td>0.912546</td>\n",
       "      <td>0.905983</td>\n",
       "      <td>0.997337</td>\n",
       "      <td>...</td>\n",
       "      <td>0.050321</td>\n",
       "      <td>0.000445</td>\n",
       "      <td>0.814828</td>\n",
       "      <td>0.0</td>\n",
       "      <td>0.814818</td>\n",
       "      <td>0.815257</td>\n",
       "      <td>0.0</td>\n",
       "      <td>1.0</td>\n",
       "      <td>0.117143</td>\n",
       "      <td>0.053941</td>\n",
       "    </tr>\n",
       "    <tr>\n",
       "      <th>2</th>\n",
       "      <td>0.000000</td>\n",
       "      <td>1.000000</td>\n",
       "      <td>1.000000</td>\n",
       "      <td>0.000776</td>\n",
       "      <td>0.148406</td>\n",
       "      <td>0.148368</td>\n",
       "      <td>0.25</td>\n",
       "      <td>0.911967</td>\n",
       "      <td>0.905983</td>\n",
       "      <td>0.314248</td>\n",
       "      <td>...</td>\n",
       "      <td>0.049036</td>\n",
       "      <td>0.000789</td>\n",
       "      <td>0.746105</td>\n",
       "      <td>0.0</td>\n",
       "      <td>0.746107</td>\n",
       "      <td>0.746211</td>\n",
       "      <td>0.0</td>\n",
       "      <td>1.0</td>\n",
       "      <td>0.099697</td>\n",
       "      <td>0.034047</td>\n",
       "    </tr>\n",
       "    <tr>\n",
       "      <th>3</th>\n",
       "      <td>0.000000</td>\n",
       "      <td>0.923077</td>\n",
       "      <td>0.923077</td>\n",
       "      <td>0.001132</td>\n",
       "      <td>0.120000</td>\n",
       "      <td>0.120178</td>\n",
       "      <td>0.25</td>\n",
       "      <td>0.912393</td>\n",
       "      <td>0.905983</td>\n",
       "      <td>0.314248</td>\n",
       "      <td>...</td>\n",
       "      <td>0.017535</td>\n",
       "      <td>0.001145</td>\n",
       "      <td>0.763472</td>\n",
       "      <td>0.0</td>\n",
       "      <td>0.763463</td>\n",
       "      <td>0.764440</td>\n",
       "      <td>0.0</td>\n",
       "      <td>1.0</td>\n",
       "      <td>0.098469</td>\n",
       "      <td>0.031636</td>\n",
       "    </tr>\n",
       "    <tr>\n",
       "      <th>4</th>\n",
       "      <td>0.000305</td>\n",
       "      <td>0.743590</td>\n",
       "      <td>0.743590</td>\n",
       "      <td>0.001489</td>\n",
       "      <td>0.149565</td>\n",
       "      <td>0.149852</td>\n",
       "      <td>0.25</td>\n",
       "      <td>0.912120</td>\n",
       "      <td>0.905983</td>\n",
       "      <td>0.314248</td>\n",
       "      <td>...</td>\n",
       "      <td>0.050321</td>\n",
       "      <td>0.001489</td>\n",
       "      <td>0.786683</td>\n",
       "      <td>0.5</td>\n",
       "      <td>0.786677</td>\n",
       "      <td>0.787012</td>\n",
       "      <td>0.5</td>\n",
       "      <td>0.5</td>\n",
       "      <td>0.263064</td>\n",
       "      <td>0.080727</td>\n",
       "    </tr>\n",
       "  </tbody>\n",
       "</table>\n",
       "<p>5 rows × 28 columns</p>\n",
       "</div>"
      ],
      "text/plain": [
       "   uptime_in_seconds        hz  configured_hz  lru_clock  used_memory_rss  \\\n",
       "0           0.000305  0.153846       0.153846   0.000000         0.148986   \n",
       "1           0.000000  0.794872       0.794872   0.000433         0.149565   \n",
       "2           0.000000  1.000000       1.000000   0.000776         0.148406   \n",
       "3           0.000000  0.923077       0.923077   0.001132         0.120000   \n",
       "4           0.000305  0.743590       0.743590   0.001489         0.149565   \n",
       "\n",
       "   used_memory_rss_human  used_memory_peak  allocator_allocated  \\\n",
       "0               0.149852              0.25             0.912393   \n",
       "1               0.149852              0.25             0.912546   \n",
       "2               0.148368              0.25             0.911967   \n",
       "3               0.120178              0.25             0.912393   \n",
       "4               0.149852              0.25             0.912120   \n",
       "\n",
       "   allocator_active  allocator_resident  ...  mem_fragmentation_bytes  \\\n",
       "0          0.905983            0.314248  ...                 0.049678   \n",
       "1          0.905983            0.997337  ...                 0.050321   \n",
       "2          0.905983            0.314248  ...                 0.049036   \n",
       "3          0.905983            0.314248  ...                 0.017535   \n",
       "4          0.905983            0.314248  ...                 0.050321   \n",
       "\n",
       "   rdb_last_save_time  instantaneous_ops_per_sec  total_net_output_bytes  \\\n",
       "0            0.000000                   0.668551                     0.0   \n",
       "1            0.000445                   0.814828                     0.0   \n",
       "2            0.000789                   0.746105                     0.0   \n",
       "3            0.001145                   0.763472                     0.0   \n",
       "4            0.001489                   0.786683                     0.5   \n",
       "\n",
       "   instantaneous_input_kbps  instantaneous_output_kbps  keyspace_hits  \\\n",
       "0                  0.668545                   0.668833            0.0   \n",
       "1                  0.814818                   0.815257            0.0   \n",
       "2                  0.746107                   0.746211            0.0   \n",
       "3                  0.763463                   0.764440            0.0   \n",
       "4                  0.786677                   0.787012            0.5   \n",
       "\n",
       "   keyspace_misses  used_cpu_sys  used_cpu_user  \n",
       "0              1.0      0.127907       0.040699  \n",
       "1              1.0      0.117143       0.053941  \n",
       "2              1.0      0.099697       0.034047  \n",
       "3              1.0      0.098469       0.031636  \n",
       "4              0.5      0.263064       0.080727  \n",
       "\n",
       "[5 rows x 28 columns]"
      ]
     },
     "execution_count": 25,
     "metadata": {},
     "output_type": "execute_result"
    }
   ],
   "source": [
    "internalMetrics_df_MinMax.head()"
   ]
  },
  {
   "cell_type": "markdown",
   "metadata": {},
   "source": [
    "---"
   ]
  },
  {
   "cell_type": "markdown",
   "metadata": {},
   "source": [
    "## Factor Analysis"
   ]
  },
  {
   "cell_type": "code",
   "execution_count": 51,
   "metadata": {},
   "outputs": [
    {
     "name": "stdout",
     "output_type": "stream",
     "text": [
      "['hz', 'configured_hz']\n",
      "['total_net_output_bytes', 'keyspace_hits']\n",
      "['total_net_output_bytes', 'keyspace_misses']\n",
      "['keyspace_hits', 'keyspace_misses']\n"
     ]
    }
   ],
   "source": [
    "import itertools\n",
    "\n",
    "# singular Error 발생시키는 변수 확인\n",
    "def find_singularError_var(df, count):\n",
    "    sin_rel_var = []\n",
    "\n",
    "    for var in itertools.combinations(df.columns, count):\n",
    "        new_df = internalMetrics_df[list(var)]\n",
    "        try:\n",
    "            fa_func = FactorAnalyzer(n_factors=2, rotation='varimax')\n",
    "            fa_func.fit(new_df)        \n",
    "        except :\n",
    "            print(list(var))\n",
    "            sin_rel_var += list(var)\n",
    "            continue\n",
    "    sin_rel_var = list(set(sin_rel_var))\n",
    "    return sin_rel_var\n",
    "\n",
    "        \n",
    "sin_rel_var = find_singularError_var(internalMetrics_df, 2)\n",
    "# hz, configured_hz, total_net_output_bytes, keyspace_hits, keyspace_misses 5개! -> 3개를 생략해야 한다!!"
   ]
  },
  {
   "cell_type": "code",
   "execution_count": 28,
   "metadata": {},
   "outputs": [
    {
     "name": "stdout",
     "output_type": "stream",
     "text": [
      "[-0.71446003  1.17564587  3.06575177]\n",
      "[-0.71446003  1.17564587  3.06575177]\n",
      "[ 0.71446003 -1.17564587 -3.06575177]\n"
     ]
    }
   ],
   "source": [
    "# def unique_value(df, col):\n",
    "#     print(df[col].unique())\n",
    "\n",
    "# unique_value(internalMetrics_df, 'total_net_output_bytes')\n",
    "# unique_value(internalMetrics_df, 'keyspace_hits')\n",
    "# unique_value(internalMetrics_df, 'keyspace_misses')\n",
    "\n",
    "# unique_value(internalMetrics_df, 'hz')\n",
    "# unique_value(internalMetrics_df, 'configured_hz')"
   ]
  },
  {
   "cell_type": "code",
   "execution_count": 152,
   "metadata": {},
   "outputs": [
    {
     "name": "stdout",
     "output_type": "stream",
     "text": [
      "['total_net_output_bytes', 'keyspace_misses']\n"
     ]
    },
    {
     "data": {
      "text/plain": [
       "['total_net_output_bytes', 'keyspace_misses']"
      ]
     },
     "execution_count": 152,
     "metadata": {},
     "output_type": "execute_result"
    }
   ],
   "source": [
    "# singluar error를 발생시키는 변수 삭제 -> 추후 조정 필요 상관계수 보면서!\n",
    "drop_val = ['configured_hz', 'hz', 'keyspace_hits']\n",
    "internalMetrics_df_drop = internalMetrics_df.drop(columns = drop_val, axis = 0)\n",
    "\n",
    "find_singularError_var(internalMetrics_df_drop, 2)"
   ]
  },
  {
   "cell_type": "code",
   "execution_count": 153,
   "metadata": {},
   "outputs": [
    {
     "data": {
      "text/plain": [
       "25"
      ]
     },
     "execution_count": 153,
     "metadata": {},
     "output_type": "execute_result"
    }
   ],
   "source": [
    "# 커럼 개수 25개로 줄여짐\n",
    "len(internalMetrics_df_drop.columns)"
   ]
  },
  {
   "cell_type": "markdown",
   "metadata": {},
   "source": [
    "---"
   ]
  },
  {
   "cell_type": "markdown",
   "metadata": {},
   "source": [
    "### 이상치 제거"
   ]
  },
  {
   "cell_type": "code",
   "execution_count": 185,
   "metadata": {},
   "outputs": [
    {
     "data": {
      "text/plain": [
       "array([[<AxesSubplot:title={'center':'uptime_in_seconds'}>,\n",
       "        <AxesSubplot:title={'center':'hz'}>,\n",
       "        <AxesSubplot:title={'center':'configured_hz'}>,\n",
       "        <AxesSubplot:title={'center':'lru_clock'}>,\n",
       "        <AxesSubplot:title={'center':'used_memory_rss'}>],\n",
       "       [<AxesSubplot:title={'center':'used_memory_rss_human'}>,\n",
       "        <AxesSubplot:title={'center':'used_memory_peak'}>,\n",
       "        <AxesSubplot:title={'center':'allocator_allocated'}>,\n",
       "        <AxesSubplot:title={'center':'allocator_active'}>,\n",
       "        <AxesSubplot:title={'center':'allocator_resident'}>],\n",
       "       [<AxesSubplot:title={'center':'maxmemory'}>,\n",
       "        <AxesSubplot:title={'center':'maxmemory_human'}>,\n",
       "        <AxesSubplot:title={'center':'allocator_frag_bytes'}>,\n",
       "        <AxesSubplot:title={'center':'allocator_rss_ratio'}>,\n",
       "        <AxesSubplot:title={'center':'allocator_rss_bytes'}>],\n",
       "       [<AxesSubplot:title={'center':'rss_overhead_ratio'}>,\n",
       "        <AxesSubplot:title={'center':'rss_overhead_bytes'}>,\n",
       "        <AxesSubplot:title={'center':'mem_fragmentation_ratio'}>,\n",
       "        <AxesSubplot:title={'center':'mem_fragmentation_bytes'}>,\n",
       "        <AxesSubplot:title={'center':'rdb_last_save_time'}>],\n",
       "       [<AxesSubplot:title={'center':'instantaneous_ops_per_sec'}>,\n",
       "        <AxesSubplot:title={'center':'total_net_output_bytes'}>,\n",
       "        <AxesSubplot:title={'center':'instantaneous_input_kbps'}>,\n",
       "        <AxesSubplot:title={'center':'instantaneous_output_kbps'}>,\n",
       "        <AxesSubplot:title={'center':'keyspace_hits'}>],\n",
       "       [<AxesSubplot:title={'center':'keyspace_misses'}>,\n",
       "        <AxesSubplot:title={'center':'used_cpu_sys'}>,\n",
       "        <AxesSubplot:title={'center':'used_cpu_user'}>, <AxesSubplot:>,\n",
       "        <AxesSubplot:>]], dtype=object)"
      ]
     },
     "execution_count": 185,
     "metadata": {},
     "output_type": "execute_result"
    },
    {
     "data": {
      "image/png": "[encoded data removed]",
      "text/plain": [
       "<Figure size 1440x1440 with 30 Axes>"
      ]
     },
     "metadata": {
      "needs_background": "light"
     },
     "output_type": "display_data"
    }
   ],
   "source": [
    "# 히스토그램으로 살펴보기\n",
    "internalMetrics_df.hist(figsize=(20, 20), bins=30)"
   ]
  },
  {
   "cell_type": "code",
   "execution_count": 174,
   "metadata": {},
   "outputs": [],
   "source": [
    "import numpy as np\n",
    "\n",
    "def get_outlier(df=None, column=None, weight=1.5):\n",
    "    \n",
    "    # target 값과 상관관계가 높은 열을 우선적으로 진행\n",
    "    quantile_25 = np.percentile(df[column].values, 25)\n",
    "    quantile_75 = np.percentile(df[column].values, 75)\n",
    "\n",
    "    IQR = quantile_75 - quantile_25\n",
    "    IQR_weight = IQR*weight\n",
    "\n",
    "    lowest = quantile_25 - IQR_weight\n",
    "    highest = quantile_75 + IQR_weight\n",
    "\n",
    "    outlier_idx = df[column][ (df[column] < lowest) | (df[column] > highest) ].index\n",
    "    return outlier_idx"
   ]
  },
  {
   "cell_type": "code",
   "execution_count": 206,
   "metadata": {},
   "outputs": [],
   "source": [
    "col = internalMetrics_df_drop.columns.tolist()\n",
    "outlier_idx = []\n",
    "\n",
    "# 컬럼별로 접근해서 인덱스 가져온다.\n",
    "for col_name in col:\n",
    "    idx = get_outlier(internalMetrics_df_drop, col_name)\n",
    "    outlier_idx += list(idx)\n",
    "\n",
    "outlier_idx = list(set(outlier_idx))  # 인데스 중복 삭제\n",
    "\n",
    "# 인덱스 개수가 너무 많다. -> 몇개만 골라서 삭제하자\n",
    "print(len(outlier_idx))"
   ]
  },
  {
   "cell_type": "code",
   "execution_count": 189,
   "metadata": {},
   "outputs": [
    {
     "name": "stdout",
     "output_type": "stream",
     "text": [
      "uptime_in_seconds\n",
      "[  22   21   23 3304   25   24   26   27]\n",
      "lru_clock\n",
      "[1745211 1745245 1745272 ... 1823750 1823779 1823806]\n",
      "used_memory_rss\n",
      "[42033152 42037248 42029056 41828352 42045440 42049536 42057728 42020864\n",
      " 42024960 42041344 42053632 42061824 41955328 42004480 41775104 42012672\n",
      " 42016768 41779200 41926656 42000384 41799680 41836544 42008576 41963520\n",
      " 41992192 41762816 42070016 41771008 42102784 41832448 41709568 41791488\n",
      " 42098688 41820160 41766912 41996288 41889792 41910272 41840640 41988096\n",
      " 41975808 41947136 41754624 41750528 41979904 41824256 41951232 41783296\n",
      " 42094592 41938944 41730048 41738240 42106880 41967616 41934848 41844736\n",
      " 41857024 41807872 41816064 42065920 42082304 41787392 42074112 41848832\n",
      " 41803776 42086400 43388928 45441024 43397120 43466752 45490176 45461504\n",
      " 45596672 43401216 45469696 43384832 47939584 47923200 47566848 45457408\n",
      " 43442176 41922560 43409408 41943040 41877504 41865216 42110976 45473792\n",
      " 45477888 43380736 43376640 43520000 43364352 43528192 43393024 43405312\n",
      " 48041984 48046080 47783936 47554560 43421696 41893888 42078208 41861120\n",
      " 40980480 41869312 41517056 41218048 41984000 41512960 41758720 41746432\n",
      " 41959424]\n",
      "used_memory_rss_human\n",
      "[40.09 40.08 39.89 40.1  40.11 40.07 40.01 40.06 39.84 39.98 40.05 39.86\n",
      " 39.9  40.02 39.83 40.12 40.15 39.78 39.88 39.95 39.97 40.04 40.03 40.\n",
      " 39.82 39.85 40.14 39.8  40.16 39.99 39.91 39.92 39.87 40.13 41.38 43.34\n",
      " 41.39 41.45 43.38 43.36 43.48 45.72 45.7  45.36 43.35 41.43 41.4  39.94\n",
      " 39.93 43.37 41.37 41.5  41.36 41.51 45.82 45.57 45.35 41.41 39.08 39.59\n",
      " 39.31 39.81]\n",
      "used_memory_peak\n",
      "[38704616 38704632 38704640 38704624 38704608]\n",
      "allocator_allocated\n",
      "[38658184 38658328 38657784 38657928 38658528 38740280 38658168 38658336\n",
      " 38738480 38740088 38658376 38658520 38699344 38658496 38740112 38658192\n",
      " 38656632 38656584 38698744 38657768 38656368 38657744 38658384 38657904\n",
      " 38657600 38561080 38657936 38657736 38657320 38657328 38739096 38658352\n",
      " 38657184 38656320 38657976 38656224 38658504 38665856 38655832 38655856\n",
      " 38657792 38656784 38657176 38738240 38656248 38711288 38658360 38656256\n",
      " 38699152 38656176 38658128 38656328 38656776 38737880 38658120 38656800\n",
      " 38656736 38656992 38738080 38740256 38656728 38665688 38656088 38737576\n",
      " 38739896 38656928 38656336 38656392 38663480 38709056 38657992 38620280\n",
      " 38739904 38658000 38656096 38738528 38656720 38697208 38665880 38698944\n",
      " 38740296 38656920 38698704 38657592 38740104 38655688 38664680 38524088\n",
      " 38655896 38692088 38656624 38738504 38655568 38708888 38658144 38656048\n",
      " 38564888 38656184 38739080 38656656 38622488 38637056 38682656 38656376\n",
      " 38635880 38656000 38656200 38680280 38740424 38698144 38655880 38656192\n",
      " 38656576 38656608 38657912 38656344 38656488 38740064 38656080 38655800\n",
      " 38697088 38658096 38737616 38655704 38656352 38656272 38656144 38738552\n",
      " 38698552 38655936 38738128 38655712 38737504 38739664 38507480 38657984\n",
      " 38698896 38656136 38695880 38739704 38655840 38609480 38651288 38656288\n",
      " 38656240 38697544 38657952 38656304 38696720 38655640 38655784 38698288\n",
      " 38720888 38696672 38737624 38655816 38656232 38656560 38739496 38655952\n",
      " 38655872 38740272 38655696 38735480 38655920 38657760 38656384 38737704\n",
      " 38655848 38738032 38655584 38655720 38655864 38655744 38655672 38658104\n",
      " 38698752 38656400 38696560 38737696 38655792 38656112 38696736 38723288\n",
      " 38696816 38737600 38656296 38696744 38697288 38656104 38655944 38698560\n",
      " 38697144 38737672 38738488 38657576 38655728 38655616 38655760 38657960\n",
      " 38697048 38699088 38696552 38697128 38658136 38698696 38655600 38697184\n",
      " 38656768 38655680 38655824 38655736 38655768 38655608 38655752 38697336\n",
      " 38658312 38698960 38657136 38661240 38655576 38655808 38697304 38656168\n",
      " 37801688 38740304 38463080 38656208 38699312 38044088 38418488 38593688\n",
      " 38656128 38696648 38656008 38699336 38536088 38738704 38721080 38696640\n",
      " 38692256 38739688 38677880 38737544 38694488 38636888 38660680 38682488\n",
      " 38676088 38705056 38709080 38653880 38739880 38657296 38660696 38692104\n",
      " 38699144 38696888]\n",
      "allocator_active\n",
      "[38932480 39022592 39010304 38977536 38920192 38825984 38936576 38985728\n",
      " 38899712 38965248 38801408 38973440 38838272 38912000 38948864 38785024\n",
      " 38875136 38064128 38727680 38309888 38690816 38862848]\n",
      "allocator_resident\n",
      "[42209280 44310528 42012672 44298240 42196992 42123264 44273664 42172416\n",
      " 42086400 44224512 41984000 42160128 42119168 42024960 42098688 44236800\n",
      " 42135552 41967616 42213376 42061824 42242048 44318720 41242624 44011520\n",
      " 41488384 41873408 44150784 44261376 42201088]\n",
      "maxmemory\n",
      "[2831155200 2306867200 1782579200 1048576000 1992294400 2936012800\n",
      " 1887436800 2726297600 1363148800 2411724800 2621440000 1677721600\n",
      " 2202009600 1468006400 1153433600 1572864000 2097152000 3040870400\n",
      " 1258291200 2516582400]\n",
      "maxmemory_human\n",
      "[   2.64    2.15    1.66 1000.      1.86    2.73    1.76    2.54    1.27\n",
      "    2.25    2.44    1.56    2.05    1.37    1.07    1.46    1.95    2.83\n",
      "    1.17    2.34]\n",
      "allocator_frag_bytes\n",
      "[274296 274152 274696 274552 273952 282312 274312 274144 271824 282504\n",
      " 274104 273960 278192 273984 282480 274288 263560 263608 278792 274712\n",
      " 263824 274736 274096 274576 274880 264904 274544 274744 262872 262864\n",
      " 271208 274128 263008 263872 274504 263968 273976 270720 264360 264336\n",
      " 274688 263408 263016 272064 263944 274440 274120 263936 278384 264016\n",
      " 274352 263864 263416 272424 274360 263392 263456 263200 272224 282336\n",
      " 263464 270888 264104 272728 282696 263264 263856 263800 273096 276672\n",
      " 274488 279432 282688 274480 264096 271776 263472 268040 270696 278592\n",
      " 282296 263272 278832 274888 282488 264504 271896 277320 264296 281352\n",
      " 263568 271800 264624 276840 274336 264144 273384 264008 271224 263536\n",
      " 277224 274944 266208 263816 276120 264192 263992 268584 282168 267104\n",
      " 264312 264000 263616 263584 274568 263848 263704 282528 264112 264392\n",
      " 268160 274384 272688 264488 263840 263920 264048 271752 278984 264256\n",
      " 272176 264480 272800 282928 277544 274496 278640 264056 277560 282888\n",
      " 264352 265656 260712 263904 263952 267704 274528 263888 268528 264552\n",
      " 264408 266960 264840 268576 272680 264376 263960 263632 283096 264240\n",
      " 264320 282320 264496 274824 264272 274720 263808 272600 264344 272272\n",
      " 264608 264472 264328 264448 264520 274376 278784 263792 268688 272608\n",
      " 264400 264080 268512 262440 268432 272704 263896 268504 267960 264088\n",
      " 264248 278976 268104 272632 271816 274904 264464 264576 264432 274520\n",
      " 268200 278448 268696 268120 274344 278840 264592 268064 263424 264512\n",
      " 264368 264456 264424 264584 264440 267912 274168 278576 263056 258952\n",
      " 264616 264384 267944 264024 282288 264600 263984 278224 265800 272328\n",
      " 269160 264064 268600 264184 278200 265320 271600 264648 268608 281184\n",
      " 282904 270984 272760 278952 275112 266376 272776 268384 276648 258120\n",
      " 282712 262896 271784 281336 278392 276552]\n",
      "allocator_rss_ratio\n",
      "[1.08 1.14 1.09]\n",
      "allocator_rss_bytes\n",
      "[3276800 5378048 3186688 3198976 3231744 5287936 3289088 5390336 5300224\n",
      " 3244032 5332992 3182592 5345280 3293184 3321856 5398528 3280896 3178496\n",
      " 5283840 3309568]\n",
      "rss_overhead_ratio\n",
      "[1.   0.95 0.99 0.94 1.03 1.08 0.98 1.14 1.13]\n",
      "rss_overhead_bytes\n",
      "[ -176128 -2273280  -180224  -380928  -172032 -2265088 -2260992  -151552\n",
      "  -163840  -188416  -184320 -2277376 -2269184  -155648  -167936  -147456\n",
      "  -253952  -204800  -237568  -196608  -139264  -192512 -2281472  -159744\n",
      "  -344064 -2293760 -2306048 -2297856 -2285568  -143360  -282624  -208896\n",
      "  -135168 -2473984 -2244608  -372736 -2256896  -200704  -245760 -2301952\n",
      " -2318336 -2310144  -360448  -233472 -2240512 -2289664  -352256  -106496\n",
      " -2478080  -376832 -2433024 -2207744  -110592  -303104  -212992 -2465792\n",
      "  -368640  -393216   -49152  -430080  -299008  -221184 -2334720  -262144\n",
      "  -331776  -348160 -2469888 -2519040  -229376  -102400  -405504  -385024\n",
      "   -94208 -2486272  -417792  -425984  -114688  -270336 -2215936  -217088\n",
      "  -356352  -323584  -319488  -241664 -2252800 -2248704  -274432  -389120\n",
      "  -401408 -2363392 -2211840  -126976  -409600  -421888 -2228224  -364544\n",
      " -2375680  -131072 -2236416 -2314240 -2232320  -122880  1179648  3231744\n",
      "  -913408  1257472  3280896  3252224  3387392  1204224  3260416  1175552\n",
      "  3641344  5713920  5357568  3248128  1159168  -868352  -286720  1200128\n",
      "  -266240  -258048   -98304  3264512  1167360  1183744  -909312  1310720\n",
      "  1191936  1171456  -790528  1155072  1187840  1318912  1196032  5832704\n",
      "  3735552  5574656  5345280  1212416  -315392 -2224128 -2437120  -339968\n",
      " -2494464 -2453504 -2396160  -225280  -335872 -2347008  -249856]\n",
      "mem_fragmentation_ratio\n",
      "[1.09 1.08 1.12 1.18 1.13 1.24 1.23 1.25]\n",
      "mem_fragmentation_bytes\n",
      "[3410544 3414640 3406448 3205744 3422832 3332736 3468856 3328640 3353216\n",
      " 3398256 3402352 3373688 3418736 3431024 3481144 3464760 3332720 3320448\n",
      " 3381872 3255616 3390064 3435120 3439728 3394160 3340928 3460664 3324544\n",
      " 3426928 3151840 3436088 3423800 3472952 3477048 3444280 3222144 3377776\n",
      " 3439216 3328632 3124072 3402832 3213936 3349096 3343344 3440184 3385968\n",
      " 3382840 3369584 3132888 3349120 3336832 3312256 3340912 3448376 3373664\n",
      " 3447408 3147680 3354136 3480176 3209840 3456568 3131448 3308160 3390072\n",
      " 3345024 3161120 3476080 3192392 3281616 3304064 3247672 3117232 3427440\n",
      " 3291776 3452472 3218536 3156592 3205760 3218032 3365488 3252952 3271296\n",
      " 3324528 3173504 3328616 3123840 3151120 3119560 3373680 3174144 3168880\n",
      " 3357296 3390232 3097240 3381880 3201648 3386448 3415608 3328624 3456112\n",
      " 3160688 3513912 3358264 3431992 3419704 3340920 3471984 3316352 3300208\n",
      " 3150664 3117504 3259000 3164008 3431536 3163656 3484272 3299968 3263104\n",
      " 3353208 3427896 3295872 3317544 3385976 3312240 3340896 3222128 3343672\n",
      " 3234416 3329072 3197552 3185264 3518008 3111552 3230336 3377784 3345848\n",
      " 3485240 3489336 3259008 3361408 3459696 3394168 3267184 3164784 3345008\n",
      " 3443312 3451504 3255864 3398272 3361400 3312248 3206224 3365496 3365504\n",
      " 3357312 3357304 3227192 3181168 3239480 3177072 3386936 3505720 4766320\n",
      " 6860344 4774512 4844144 6867568 6838896 6974064 4820536 6847088 4762224\n",
      " 3423344 9358904 9300592 8944240 6834800 4861496 3299952 4828728 4816440\n",
      " 3320432 3395128 3296824 3369592 3251768 3284536 3522104 3370552 3530296\n",
      " 3411512 6851184 6897208 4800056 4804152 4795960 4815488 4684416 4676224\n",
      " 4808248 4939320 4783672 4778608 4947512 4770416 6880824 4824632 9337472\n",
      " 9465400 9203256 8973880 4841016 3447920 3189376 3497528 3280440 3243576\n",
      " 3268152 3362280 3399224 3217720 3164792 3210808 3094024 3214640 3361392\n",
      " 3353200 3137056 3202752 3279488 3275640 3284920 3109040 3134600 3455600\n",
      " 3143376 3158440 3202616 3291768 3287680 3365376 3148176 3139872 3116248\n",
      " 3107528 3316336 3345520 3157688 3332728 3435632 3333016 3331576 3407416\n",
      " 3146768 3370312 3336816 3126224]\n",
      "rdb_last_save_time\n",
      "[1629135141 1629135176 1629135203 ... 1629213680 1629213709 1629213737]\n",
      "instantaneous_ops_per_sec\n",
      "[45654 55643 50950 ... 42192 21943 56056]\n",
      "total_net_output_bytes\n",
      "[5048972 5049038 5049104]\n",
      "instantaneous_input_kbps\n",
      "[3187.77 3885.23 3557.6  ... 2598.02 1532.13 3914.13]\n",
      "instantaneous_output_kbps\n",
      "[226.38 275.94 252.57 ... 209.28 184.97 108.87]\n",
      "keyspace_misses\n",
      "[499258 499257 499256]\n",
      "used_cpu_sys\n",
      "[8.506465 8.464944 8.397651 ... 8.737909 8.581871 8.42628 ]\n",
      "used_cpu_user\n",
      "[3.861151 3.926858 3.828146 ... 4.083693 3.811128 3.893057]\n"
     ]
    }
   ],
   "source": [
    "# internal unique 한 결과 이상치 하나 삭제하는게 낫다고 판단 \n",
    "# uptime_in_seconds = [  22   21   23 3304   25   24   26   27]\n",
    "for i in internalMetrics_df_drop:\n",
    "    print(i)\n",
    "    print(internalMetrics_df_drop[i].unique())"
   ]
  },
  {
   "cell_type": "code",
   "execution_count": 213,
   "metadata": {},
   "outputs": [
    {
     "data": {
      "text/plain": [
       "<AxesSubplot:>"
      ]
     },
     "execution_count": 213,
     "metadata": {},
     "output_type": "execute_result"
    },
    {
     "data": {
      "image/png": "[encoded data removed]",
      "text/plain": [
       "<Figure size 432x288 with 1 Axes>"
      ]
     },
     "metadata": {
      "needs_background": "light"
     },
     "output_type": "display_data"
    }
   ],
   "source": [
    "# used_memory_rss\n",
    "used_memory_rss_idx = get_outlier(internalMetrics_df_drop, 'used_memory_rss')\n",
    "\n",
    "internalMetrics_df_drop.drop(used_memory_rss_idx, axis=0)['used_memory_rss'].hist()"
   ]
  },
  {
   "cell_type": "markdown",
   "metadata": {},
   "source": [
    "---"
   ]
  },
  {
   "cell_type": "markdown",
   "metadata": {},
   "source": [
    "### 요인수 선택\n",
    "* 요인 적재값\n",
    "* 공통성\n",
    "* \n",
    "* 클러스터링 개수 -> 각 클러스터마다 동등한 개수였으면 좋겠다"
   ]
  },
  {
   "cell_type": "code",
   "execution_count": 154,
   "metadata": {},
   "outputs": [],
   "source": [
    "def factor_analysis(n_factors, df):\n",
    "    fa = FactorAnalyzer(n_factors = n_factors, rotation='varimax')  # 객체 생성\n",
    "    fa.fit(df)  # fitting\n",
    "    df_fa = pd.DataFrame(fa.loadings_, index = df.columns)  # 데이터프레임으로 전달\n",
    "    ev, v = fa.get_eigenvalues()\n",
    "    return df_fa, ev"
   ]
  },
  {
   "cell_type": "code",
   "execution_count": 164,
   "metadata": {},
   "outputs": [],
   "source": [
    "internalMetrics_fa, ev = factor_analysis(5, internalMetrics_df_drop)"
   ]
  },
  {
   "cell_type": "code",
   "execution_count": 165,
   "metadata": {},
   "outputs": [
    {
     "name": "stdout",
     "output_type": "stream",
     "text": [
      "               0\n",
      "0   5.343520e+00\n",
      "1   3.928649e+00\n",
      "2   3.503452e+00\n",
      "3   2.492398e+00\n",
      "4   1.847750e+00\n",
      "5   1.768918e+00\n",
      "6   1.519853e+00\n",
      "7   1.382397e+00\n",
      "8   9.821489e-01\n",
      "9   8.335712e-01\n",
      "10  6.714398e-01\n",
      "11  6.119509e-01\n",
      "12  9.678346e-02\n",
      "13  1.154766e-02\n",
      "14  4.030414e-03\n",
      "15  1.063078e-03\n",
      "16  4.898638e-04\n",
      "17  2.709389e-05\n",
      "18  9.082020e-06\n",
      "19  5.220429e-10\n",
      "20  3.083622e-11\n",
      "21 -1.855368e-16\n",
      "22 -3.434499e-16\n",
      "23 -8.724626e-16\n",
      "24 -2.867685e-15\n"
     ]
    }
   ],
   "source": [
    "# 요인수 선택 방법1 -> 요인수와 상관없다.\n",
    "print(pd.DataFrame(ev))"
   ]
  },
  {
   "cell_type": "code",
   "execution_count": 166,
   "metadata": {},
   "outputs": [
    {
     "data": {
      "image/png": "[encoded data removed]",
      "text/plain": [
       "<Figure size 432x288 with 1 Axes>"
      ]
     },
     "metadata": {
      "needs_background": "light"
     },
     "output_type": "display_data"
    }
   ],
   "source": [
    "# 요인수 선택 방법2 -> 요인수와 상관없다\n",
    "plt.scatter(range(1,internalMetrics_df_drop.shape[1]+1),ev)\n",
    "plt.plot(range(1,internalMetrics_df_drop.shape[1]+1),ev)\n",
    "plt.title('Scree Plot')\n",
    "plt.xlabel('Factors')\n",
    "plt.ylabel('Eigenvalue')\n",
    "plt.grid()\n",
    "plt.show()"
   ]
  },
  {
   "cell_type": "code",
   "execution_count": 167,
   "metadata": {},
   "outputs": [
    {
     "data": {
      "text/plain": [
       "<AxesSubplot:>"
      ]
     },
     "execution_count": 167,
     "metadata": {},
     "output_type": "execute_result"
    },
    {
     "data": {
      "image/png": "[encoded data removed]",
      "text/plain": [
       "<Figure size 432x720 with 2 Axes>"
      ]
     },
     "metadata": {
      "needs_background": "light"
     },
     "output_type": "display_data"
    }
   ],
   "source": [
    "# 요인수 선택 방법3\n",
    "# internal_metrics들이 포함되는 요인들 확인 -> 세로출이 거의다 포함되면 좋다.\n",
    "plt.figure(figsize=(6,10))\n",
    "sns.heatmap(internalMetrics_fa, cmap=\"Blues\", annot=True, fmt='.2f')"
   ]
  },
  {
   "cell_type": "markdown",
   "metadata": {},
   "source": [
    "---"
   ]
  },
  {
   "cell_type": "markdown",
   "metadata": {},
   "source": [
    "## Clustering"
   ]
  },
  {
   "cell_type": "code",
   "execution_count": 159,
   "metadata": {},
   "outputs": [],
   "source": [
    "# from sklearn.cluster import KMeans\n",
    "\n",
    "# kmeans = KMeans(n_clusters=3)\n",
    "# kmeans.fit(internalMetrics_fa)"
   ]
  },
  {
   "cell_type": "code",
   "execution_count": 160,
   "metadata": {},
   "outputs": [],
   "source": [
    "from sklearn.cluster import KMeans\n",
    "def kmeans(n_clusters, df):\n",
    "    kmeans = KMeans(n_clusters = n_clusters)\n",
    "    kmeans.fit(df)\n",
    "    \n",
    "    df['cluster'] = kmeans.labels_\n",
    "    \n",
    "    return df"
   ]
  },
  {
   "cell_type": "code",
   "execution_count": 161,
   "metadata": {},
   "outputs": [],
   "source": [
    "kmeans_df = kmeans(3, internalMetrics_fa)"
   ]
  },
  {
   "cell_type": "code",
   "execution_count": 162,
   "metadata": {},
   "outputs": [],
   "source": [
    "# 클러스터 개수 확인 함수\n",
    "def clusters(df):\n",
    "    \n",
    "    # 총 개수 확인\n",
    "    print(df['cluster'].value_counts())\n",
    "    print()\n",
    "    \n",
    "    count_cluster = len(df['cluster'].unique())\n",
    "    new_df = pd.DataFrame()\n",
    "    metric_list = []\n",
    "    \n",
    "    for i in range(count_cluster):\n",
    "        metric_list = list(df[df['cluster'] == i].index)\n",
    "        print(\"len = {}\".format(len(df[df['cluster'] == i])))\n",
    "        print(\"cluster{}\".format(i))\n",
    "        for metric in metric_list:\n",
    "            print(metric)\n",
    "        print()\n",
    "        \n",
    "    return new_df"
   ]
  },
  {
   "cell_type": "code",
   "execution_count": 163,
   "metadata": {},
   "outputs": [
    {
     "name": "stdout",
     "output_type": "stream",
     "text": [
      "2    12\n",
      "0     7\n",
      "1     6\n",
      "Name: cluster, dtype: int64\n",
      "\n",
      "len = 7\n",
      "cluster0\n",
      "allocator_allocated\n",
      "allocator_active\n",
      "allocator_frag_bytes\n",
      "instantaneous_ops_per_sec\n",
      "instantaneous_input_kbps\n",
      "instantaneous_output_kbps\n",
      "keyspace_misses\n",
      "\n",
      "len = 6\n",
      "cluster1\n",
      "used_memory_rss\n",
      "used_memory_rss_human\n",
      "rss_overhead_ratio\n",
      "rss_overhead_bytes\n",
      "mem_fragmentation_ratio\n",
      "mem_fragmentation_bytes\n",
      "\n",
      "len = 12\n",
      "cluster2\n",
      "uptime_in_seconds\n",
      "lru_clock\n",
      "used_memory_peak\n",
      "allocator_resident\n",
      "maxmemory\n",
      "maxmemory_human\n",
      "allocator_rss_ratio\n",
      "allocator_rss_bytes\n",
      "rdb_last_save_time\n",
      "total_net_output_bytes\n",
      "used_cpu_sys\n",
      "used_cpu_user\n",
      "\n"
     ]
    }
   ],
   "source": [
    "df = clusters(kmeans_df)"
   ]
  },
  {
   "cell_type": "markdown",
   "metadata": {},
   "source": [
    "### Elbow"
   ]
  },
  {
   "cell_type": "code",
   "execution_count": 90,
   "metadata": {},
   "outputs": [],
   "source": [
    "def elbow(data, length):\n",
    "    sse = [] # sum of squre error 오차제곱합\n",
    "    for i in range(1, length):\n",
    "        kmeans = KMeans(n_clusters=i)\n",
    "        kmeans.fit(data)\n",
    "        # SSE 값 저장\n",
    "        sse.append(kmeans.inertia_)\n",
    "    plt.plot(range(1, length), sse, 'bo-')\n",
    "    plt.title(\"elbow method\")\n",
    "    plt.xlabel(\"number of clusters\")\n",
    "    plt.ylabel(\"SSE\")\n",
    "    plt.show()"
   ]
  },
  {
   "cell_type": "code",
   "execution_count": 91,
   "metadata": {},
   "outputs": [
    {
     "data": {
      "image/png": "[encoded data removed]",
      "text/plain": [
       "<Figure size 432x288 with 1 Axes>"
      ]
     },
     "metadata": {
      "needs_background": "light"
     },
     "output_type": "display_data"
    }
   ],
   "source": [
    "# 확 꺽이는 지점을 선택해야 한다. \n",
    "elbow(internalMetrics_fa, 10)"
   ]
  },
  {
   "cell_type": "code",
   "execution_count": 92,
   "metadata": {},
   "outputs": [
    {
     "ename": "AttributeError",
     "evalue": "'DataFrame' object has no attribute 'inertia_'",
     "output_type": "error",
     "traceback": [
      "\u001b[0;31m---------------------------------------------------------------------------\u001b[0m",
      "\u001b[0;31mAttributeError\u001b[0m                            Traceback (most recent call last)",
      "\u001b[0;32m<ipython-input-92-ee58834de53c>\u001b[0m in \u001b[0;36m<module>\u001b[0;34m\u001b[0m\n\u001b[0;32m----> 1\u001b[0;31m \u001b[0minternalMetrics_fa\u001b[0m\u001b[0;34m.\u001b[0m\u001b[0minertia_\u001b[0m\u001b[0;34m\u001b[0m\u001b[0;34m\u001b[0m\u001b[0m\n\u001b[0m",
      "\u001b[0;32m~/opt/anaconda3/lib/python3.8/site-packages/pandas/core/generic.py\u001b[0m in \u001b[0;36m__getattr__\u001b[0;34m(self, name)\u001b[0m\n\u001b[1;32m   5476\u001b[0m         ):\n\u001b[1;32m   5477\u001b[0m             \u001b[0;32mreturn\u001b[0m \u001b[0mself\u001b[0m\u001b[0;34m[\u001b[0m\u001b[0mname\u001b[0m\u001b[0;34m]\u001b[0m\u001b[0;34m\u001b[0m\u001b[0;34m\u001b[0m\u001b[0m\n\u001b[0;32m-> 5478\u001b[0;31m         \u001b[0;32mreturn\u001b[0m \u001b[0mobject\u001b[0m\u001b[0;34m.\u001b[0m\u001b[0m__getattribute__\u001b[0m\u001b[0;34m(\u001b[0m\u001b[0mself\u001b[0m\u001b[0;34m,\u001b[0m \u001b[0mname\u001b[0m\u001b[0;34m)\u001b[0m\u001b[0;34m\u001b[0m\u001b[0;34m\u001b[0m\u001b[0m\n\u001b[0m\u001b[1;32m   5479\u001b[0m \u001b[0;34m\u001b[0m\u001b[0m\n\u001b[1;32m   5480\u001b[0m     \u001b[0;32mdef\u001b[0m \u001b[0m__setattr__\u001b[0m\u001b[0;34m(\u001b[0m\u001b[0mself\u001b[0m\u001b[0;34m,\u001b[0m \u001b[0mname\u001b[0m\u001b[0;34m:\u001b[0m \u001b[0mstr\u001b[0m\u001b[0;34m,\u001b[0m \u001b[0mvalue\u001b[0m\u001b[0;34m)\u001b[0m \u001b[0;34m->\u001b[0m \u001b[0;32mNone\u001b[0m\u001b[0;34m:\u001b[0m\u001b[0;34m\u001b[0m\u001b[0;34m\u001b[0m\u001b[0m\n",
      "\u001b[0;31mAttributeError\u001b[0m: 'DataFrame' object has no attribute 'inertia_'"
     ]
    }
   ],
   "source": [
    "internalMetrics_fa.inertia_"
   ]
  },
  {
   "cell_type": "code",
   "execution_count": 93,
   "metadata": {},
   "outputs": [],
   "source": [
    "def visualize_silhouette_layer(data, param_init='random', param_n_init=10, param_max_iter=300):\n",
    "    clusters_range = range(2,15)\n",
    "    results = []\n",
    "\n",
    "    for i in clusters_range:\n",
    "        clusterer = KMeans(n_clusters=i, init=param_init, n_init=param_n_init, max_iter=param_max_iter, random_state=0)\n",
    "        cluster_labels = clusterer.fit_predict(data)\n",
    "        silhouette_avg = silhouette_score(data, cluster_labels)\n",
    "        results.append([i, silhouette_avg])\n",
    "\n",
    "    result = pd.DataFrame(results, columns=[\"n_clusters\", \"silhouette_score\"])\n",
    "    pivot_km = pd.pivot_table(result, index=\"n_clusters\", values=\"silhouette_score\")\n",
    "\n",
    "    plt.figure()\n",
    "    sns.heatmap(pivot_km, annot=True, linewidths=.5, fmt='.3f', cmap=sns.cm._rocket_lut)\n",
    "    plt.tight_layout()\n",
    "    plt.show()"
   ]
  },
  {
   "cell_type": "code",
   "execution_count": 94,
   "metadata": {},
   "outputs": [
    {
     "ename": "NameError",
     "evalue": "name 'silhouette_score' is not defined",
     "output_type": "error",
     "traceback": [
      "\u001b[0;31m---------------------------------------------------------------------------\u001b[0m",
      "\u001b[0;31mNameError\u001b[0m                                 Traceback (most recent call last)",
      "\u001b[0;32m<ipython-input-94-9be0e0f02044>\u001b[0m in \u001b[0;36m<module>\u001b[0;34m\u001b[0m\n\u001b[0;32m----> 1\u001b[0;31m \u001b[0mvisualize_silhouette_layer\u001b[0m\u001b[0;34m(\u001b[0m\u001b[0minternalMetrics_fa\u001b[0m\u001b[0;34m)\u001b[0m\u001b[0;34m\u001b[0m\u001b[0;34m\u001b[0m\u001b[0m\n\u001b[0m",
      "\u001b[0;32m<ipython-input-93-6ca9f92b6571>\u001b[0m in \u001b[0;36mvisualize_silhouette_layer\u001b[0;34m(data, param_init, param_n_init, param_max_iter)\u001b[0m\n\u001b[1;32m      6\u001b[0m         \u001b[0mclusterer\u001b[0m \u001b[0;34m=\u001b[0m \u001b[0mKMeans\u001b[0m\u001b[0;34m(\u001b[0m\u001b[0mn_clusters\u001b[0m\u001b[0;34m=\u001b[0m\u001b[0mi\u001b[0m\u001b[0;34m,\u001b[0m \u001b[0minit\u001b[0m\u001b[0;34m=\u001b[0m\u001b[0mparam_init\u001b[0m\u001b[0;34m,\u001b[0m \u001b[0mn_init\u001b[0m\u001b[0;34m=\u001b[0m\u001b[0mparam_n_init\u001b[0m\u001b[0;34m,\u001b[0m \u001b[0mmax_iter\u001b[0m\u001b[0;34m=\u001b[0m\u001b[0mparam_max_iter\u001b[0m\u001b[0;34m,\u001b[0m \u001b[0mrandom_state\u001b[0m\u001b[0;34m=\u001b[0m\u001b[0;36m0\u001b[0m\u001b[0;34m)\u001b[0m\u001b[0;34m\u001b[0m\u001b[0;34m\u001b[0m\u001b[0m\n\u001b[1;32m      7\u001b[0m         \u001b[0mcluster_labels\u001b[0m \u001b[0;34m=\u001b[0m \u001b[0mclusterer\u001b[0m\u001b[0;34m.\u001b[0m\u001b[0mfit_predict\u001b[0m\u001b[0;34m(\u001b[0m\u001b[0mdata\u001b[0m\u001b[0;34m)\u001b[0m\u001b[0;34m\u001b[0m\u001b[0;34m\u001b[0m\u001b[0m\n\u001b[0;32m----> 8\u001b[0;31m         \u001b[0msilhouette_avg\u001b[0m \u001b[0;34m=\u001b[0m \u001b[0msilhouette_score\u001b[0m\u001b[0;34m(\u001b[0m\u001b[0mdata\u001b[0m\u001b[0;34m,\u001b[0m \u001b[0mcluster_labels\u001b[0m\u001b[0;34m)\u001b[0m\u001b[0;34m\u001b[0m\u001b[0;34m\u001b[0m\u001b[0m\n\u001b[0m\u001b[1;32m      9\u001b[0m         \u001b[0mresults\u001b[0m\u001b[0;34m.\u001b[0m\u001b[0mappend\u001b[0m\u001b[0;34m(\u001b[0m\u001b[0;34m[\u001b[0m\u001b[0mi\u001b[0m\u001b[0;34m,\u001b[0m \u001b[0msilhouette_avg\u001b[0m\u001b[0;34m]\u001b[0m\u001b[0;34m)\u001b[0m\u001b[0;34m\u001b[0m\u001b[0;34m\u001b[0m\u001b[0m\n\u001b[1;32m     10\u001b[0m \u001b[0;34m\u001b[0m\u001b[0m\n",
      "\u001b[0;31mNameError\u001b[0m: name 'silhouette_score' is not defined"
     ]
    }
   ],
   "source": [
    "visualize_silhouette_layer(internalMetrics_fa)"
   ]
  },
  {
   "cell_type": "code",
   "execution_count": null,
   "metadata": {},
   "outputs": [],
   "source": []
  }
 ],
 "metadata": {
  "kernelspec": {
   "display_name": "Python 3",
   "language": "python",
   "name": "python3"
  },
  "language_info": {
   "codemirror_mode": {
    "name": "ipython",
    "version": 3
   },
   "file_extension": ".py",
   "mimetype": "text/x-python",
   "name": "python",
   "nbconvert_exporter": "python",
   "pygments_lexer": "ipython3",
   "version": "3.8.5"
  }
 },
 "nbformat": 4,
 "nbformat_minor": 4
}
