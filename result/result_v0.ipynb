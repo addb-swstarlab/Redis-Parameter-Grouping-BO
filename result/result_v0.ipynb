{
 "cells": [
  {
   "cell_type": "markdown",
   "metadata": {},
   "source": [
    "# throughput 결과 비교"
   ]
  },
  {
   "cell_type": "code",
   "execution_count": 52,
   "metadata": {},
   "outputs": [],
   "source": [
    "import pandas as pd\n",
    "import os\n",
    "import numpy as np\n",
    "from scipy import stats\n",
    "import scipy as sp\n",
    "import seaborn as sns\n",
    "import matplotlib.pyplot as plt\n",
    "import math\n",
    "import numpy as np\n",
    "from numpy.random import randn\n",
    "from statsmodels.stats.weightstats import ztest"
   ]
  },
  {
   "cell_type": "code",
   "execution_count": 2,
   "metadata": {},
   "outputs": [
    {
     "data": {
      "text/plain": [
       "['gp_rdb_external_4_v1.csv',\n",
       " '.DS_Store',\n",
       " 'gp_rdb_internal_4_v1.csv',\n",
       " 'gp_T_rdb_external_4.csv',\n",
       " 'gp_rdb_external_4_test.csv',\n",
       " '.ipynb_checkpoints',\n",
       " 'default_rdb_external_4.csv']"
      ]
     },
     "execution_count": 2,
     "metadata": {},
     "output_type": "execute_result"
    }
   ],
   "source": [
    "# 경로 내 파일 확인\n",
    "os.listdir('./result_data')"
   ]
  },
  {
   "cell_type": "code",
   "execution_count": 115,
   "metadata": {},
   "outputs": [],
   "source": [
    "# gp_T_rdb_external_4.csv [전체 gp]\n",
    "\n",
    "# rdb 1:1 internal\n",
    "gp_rdb_internal_4_v1 = pd.read_csv('./result_data/gp_rdb_internal_4_v1.csv', sep=',')\n",
    "\n",
    "# rdb 1:1 external\n",
    "gp_rdb_external_4_v1 = pd.read_csv('./result_data/gp_rdb_external_4_v1.csv', sep=',')\n",
    "gp_rdb_external_4_v1_th = gp_rdb_external_4_v1['Gets_KB/sec'].values\n",
    "\n",
    "# rdb 1:1 default\n",
    "default_rdb_external_4 = pd.read_csv('./result_data/default_rdb_external_4.csv', sep=',')\n",
    "default_rdb_external_4_th = default_rdb_external_4['Gets_KB/sec'].values\n",
    "\n",
    "# gp_T_rdb_external_4 = pd.read_csv('./result_data/gp_T_rdb_external_4.csv', sep=',')\n",
    "# gp_rdb_external_4 = pd.read_csv('./result_data/gp_rdb_external_4.csv', sep=',')\n",
    "# default_rdb_external_4 = pd.read_csv('./result_data/default_rdb_external_4.csv', sep=',')"
   ]
  },
  {
   "cell_type": "code",
   "execution_count": 198,
   "metadata": {
    "scrolled": false
   },
   "outputs": [
    {
     "data": {
      "text/plain": [
       "RanksumsResult(statistic=2.7969371002682815, pvalue=0.005158957570721309)"
      ]
     },
     "execution_count": 198,
     "metadata": {},
     "output_type": "execute_result"
    }
   ],
   "source": [
    "stats.ranksums(gp_rdb_external_4_v1_th[50:60], default_rdb_external_4_th[5:15])"
   ]
  },
  {
   "cell_type": "code",
   "execution_count": 143,
   "metadata": {
    "scrolled": true
   },
   "outputs": [
    {
     "name": "stdout",
     "output_type": "stream",
     "text": [
      "0 57467.329000000005\n",
      "1 58244.219\n",
      "2 57693.363\n",
      "3 57015.605\n",
      "4 56920.344\n",
      "5 56282.439\n",
      "6 56466.744000000006\n",
      "7 58164.35399999999\n",
      "8 58344.01399999999\n",
      "9 57912.426\n",
      "10 57150.998\n",
      "11 56705.91199999999\n",
      "12 56380.751000000004\n",
      "13 56149.48\n",
      "14 55422.96699999999\n",
      "15 54711.105\n",
      "16 55198.090000000004\n",
      "17 54963.87999999999\n",
      "18 54178.56499999999\n",
      "19 54298.928\n",
      "20 55511.23100000001\n",
      "21 56522.30500000001\n",
      "22 57347.971999999994\n",
      "23 58233.39600000001\n",
      "24 58794.286\n",
      "25 59043.797000000006\n",
      "26 58987.30299999999\n",
      "27 59018.80099999999\n",
      "28 59710.221999999994\n",
      "29 59816.07200000001\n",
      "30 60874.427\n",
      "31 59838.599\n",
      "32 60030.102\n",
      "33 59658.56299999999\n",
      "34 60234.06799999999\n",
      "35 61428.382\n",
      "36 61353.757\n",
      "37 60792.337\n",
      "38 60066.873999999996\n",
      "39 60507.36699999999\n",
      "40 59405.448\n",
      "41 60260.795\n",
      "42 59740.498\n",
      "43 59415.342000000004\n",
      "44 58826.16399999999\n",
      "45 58204.226\n",
      "46 56996.143000000004\n",
      "47 54432.998\n",
      "48 55161.284999999996\n",
      "49 55161.01900000001\n",
      "50 56214.109\n",
      "51 55421.286\n",
      "52 55625.439\n",
      "53 55316.93200000001\n",
      "54 56167.263\n",
      "55 56803.1\n",
      "56 57609.69499999999\n",
      "57 59902.18199999999\n",
      "58 59682.56000000001\n",
      "59 59607.252\n",
      "60 58632.011\n",
      "61 59711.573\n",
      "62 59685.880000000005\n",
      "63 59157.145\n",
      "64 58622.98099999999\n",
      "65 57890.003000000004\n",
      "66 57082.112\n",
      "67 57252.275\n",
      "68 58130.304000000004\n",
      "69 58082.225\n",
      "70 58268.911\n",
      "71 56755.18200000001\n",
      "72 56245.402\n",
      "73 57410.276\n",
      "74 56386.477\n",
      "75 56649.073\n",
      "76 57463.70700000001\n",
      "77 57375.626000000004\n",
      "78 57351.933\n",
      "79 56909.462\n",
      "80 57158.741\n"
     ]
    }
   ],
   "source": [
    "# rdb 1:1 디폴트 10개별로 값 확인\n",
    "mean_ten_list(default_rdb_external_4_th)"
   ]
  },
  {
   "cell_type": "code",
   "execution_count": 199,
   "metadata": {},
   "outputs": [
    {
     "name": "stdout",
     "output_type": "stream",
     "text": [
      "0 56282.203\n",
      "1 56480.825\n",
      "2 55777.451\n",
      "3 56217.587\n",
      "4 56031.826\n",
      "5 56312.275\n",
      "6 56209.067\n",
      "7 56140.288\n",
      "8 56457.134\n",
      "9 54711.926\n",
      "10 54383.056000000004\n",
      "11 55131.384999999995\n",
      "12 55752.251000000004\n",
      "13 55870.933999999994\n",
      "14 55684.4\n",
      "15 56580.688\n",
      "16 57264.234\n",
      "17 57985.634\n",
      "18 58518.614\n",
      "19 60100.9\n",
      "20 61443.755000000005\n"
     ]
    }
   ],
   "source": [
    "gp_rdb_external_4_v1_th_dict1 = mean_ten_list(gp_rdb_external_4_v1_th[30:60])"
   ]
  },
  {
   "cell_type": "code",
   "execution_count": 156,
   "metadata": {},
   "outputs": [],
   "source": [
    "gp_rdb_external_4_v1_th_dict1\n",
    "\n",
    "def ranksums_default_gp(gp_dict, default_list):\n",
    "        for key, val in gp_dict.items():\n",
    "            ranksums_stats, ranksums_pval = stats.ranksums(val, default_list)\n",
    "            if ranksums_pval < 0.05:\n",
    "                print(key, end=' ')\n",
    "                print(val.mean())\n",
    "\n",
    "            "
   ]
  },
  {
   "cell_type": "code",
   "execution_count": 158,
   "metadata": {},
   "outputs": [],
   "source": [
    "ranksums_default_gp(gp_rdb_external_4_v1_th_dict1, default_rdb_external_4_th[0:10])"
   ]
  },
  {
   "cell_type": "code",
   "execution_count": 149,
   "metadata": {},
   "outputs": [
    {
     "data": {
      "text/plain": [
       "RanksumsResult(statistic=1.4017433746762795, pvalue=0.1609918931745763)"
      ]
     },
     "execution_count": 149,
     "metadata": {},
     "output_type": "execute_result"
    }
   ],
   "source": [
    "x1 = gp_rdb_external_4_v1_th[19:29]\n",
    "x2 = default_rdb_external_4_th\n",
    "stats.ranksums(x1, x2)"
   ]
  },
  {
   "cell_type": "code",
   "execution_count": 150,
   "metadata": {},
   "outputs": [],
   "source": [
    "# 평균\n",
    "def mean_ten_list(data):\n",
    "    mean_dict = {}\n",
    "    len_data = len(data)\n",
    "    count = len_data - 10+1\n",
    "    for i in range(count):\n",
    "        print(i, end=' ')\n",
    "        print(data[i:i+10].mean())\n",
    "        mean_dict[i] = data[i:i+10]\n",
    "    return mean_dict\n",
    "    \n",
    "\n",
    "\n",
    "# 정규성 검정\n",
    "# def shapiro_ten_list(data):\n",
    "#     shapiro_dict = {}\n",
    "#     len_data = len(data)\n",
    "#     count = len_data - 10+1\n",
    "#     for i in range(count):\n",
    "#         shapiro_stats, shapiro_pval = stats.shapiro(data[i:i+10])\n",
    "#         if shapiro_pval < 0.05:\n",
    "#             shapiro_dict[i] = data[i:i+10]\n",
    "    \n",
    "#     return shapiro_dict\n",
    "\n",
    "# shapiro_ten_list(gp_rdb_external_4_v1_th)"
   ]
  },
  {
   "cell_type": "code",
   "execution_count": 109,
   "metadata": {},
   "outputs": [
    {
     "data": {
      "text/plain": [
       "RanksumsResult(statistic=1.0583005244258363, pvalue=0.28991845394256976)"
      ]
     },
     "execution_count": 109,
     "metadata": {},
     "output_type": "execute_result"
    }
   ],
   "source": [
    "# # t test\n",
    "# x1 = gp_rdb_external_4_v1.iloc[0:10]['Gets_KB/sec']\n",
    "# x2 = default_rdb_external_4.iloc[20:30]['Gets_KB/sec']\n",
    "# sp.stats.ttest_ind(x1, x2, equal_var=True)\n",
    "\n",
    "# # 순위합\n",
    "# x1 = gp_rdb_external_4_v1.iloc[75:85]['Gets_KB/sec']\n",
    "# x2 = default_rdb_external_4.iloc[20:30]['Gets_KB/sec']\n",
    "# stats.ranksums(x1, x2)\n",
    "\n",
    "## 등분산\n",
    "# stats.levene(lightgbm_list[0], default_list[0])"
   ]
  },
  {
   "cell_type": "code",
   "execution_count": 47,
   "metadata": {},
   "outputs": [
    {
     "name": "stdout",
     "output_type": "stream",
     "text": [
      "/config_rdb1_lightgbm.conf\n",
      "59304.13300000001\n",
      "/config_rdb1_xgb.conf\n",
      "57369.67133333334\n",
      "/config_rdb1_dt.conf\n",
      "58932.126000000004\n",
      "/config_rdb1_rf.conf\n",
      "59909.356999999975\n",
      "/config_rdb1_ridge.conf\n",
      "59977.013666666666\n",
      "/config_rdb1_lasso.conf\n",
      "58809.895666666685\n",
      "/config_rdb1_lr.conf\n",
      "57478.48\n"
     ]
    }
   ],
   "source": [
    "# # lightgbm\n",
    "# print(gp_rdb_internal_4_v1.iloc[0]['config_file'][57:])\n",
    "# print(gp_rdb_external_4_v1.iloc[0:30]['Gets_KB/sec'].mean())\n",
    "\n",
    "# print(gp_rdb_internal_4_v1.iloc[30]['config_file'][57:])\n",
    "# print(gp_rdb_external_4_v1.iloc[30:60]['Gets_KB/sec'].mean())\n",
    "\n",
    "# print(gp_rdb_internal_4_v1.iloc[60]['config_file'][57:])\n",
    "# print(gp_rdb_external_4_v1.iloc[60:90]['Gets_KB/sec'].mean())\n",
    "\n",
    "# print(gp_rdb_internal_4_v1.iloc[120]['config_file'][57:])\n",
    "# print(gp_rdb_external_4_v1.iloc[120:150]['Gets_KB/sec'].mean())\n",
    "\n",
    "# print(gp_rdb_internal_4_v1.iloc[150]['config_file'][57:])\n",
    "# print(gp_rdb_external_4_v1.iloc[150:180]['Gets_KB/sec'].mean())\n",
    "\n",
    "# print(gp_rdb_internal_4_v1.iloc[180]['config_file'][57:])\n",
    "# print(gp_rdb_external_4_v1.iloc[180:210]['Gets_KB/sec'].mean())\n",
    "\n",
    "# print(gp_rdb_internal_4_v1.iloc[210]['config_file'][57:])\n",
    "# print(gp_rdb_external_4_v1.iloc[210:240]['Gets_KB/sec'].mean())"
   ]
  },
  {
   "cell_type": "code",
   "execution_count": 39,
   "metadata": {},
   "outputs": [
    {
     "name": "stdout",
     "output_type": "stream",
     "text": [
      "56709.85266666666\n",
      "58831.327999999994\n",
      "58019.88766666666\n"
     ]
    }
   ],
   "source": [
    "# # default 1\n",
    "# print(default_rdb_external_4.iloc[0:30]['Gets_KB/sec'].mean())\n",
    "# print(default_rdb_external_4.iloc[30:60]['Gets_KB/sec'].mean())\n",
    "# print(default_rdb_external_4.iloc[60:90]['Gets_KB/sec'].mean())"
   ]
  },
  {
   "cell_type": "code",
   "execution_count": 86,
   "metadata": {},
   "outputs": [
    {
     "name": "stdout",
     "output_type": "stream",
     "text": [
      "0.04549872875213623\n",
      "0.04723963886499405\n"
     ]
    }
   ],
   "source": [
    "# from itertools import combinations\n",
    "\n",
    "# default_list = []\n",
    "# lightgbm_list = []\n",
    "# for i in combinations(list(default_rdb_external_4.iloc[0:30]['Gets_KB/sec']), 10):\n",
    "#     shapiro_stats, shapiro_pval = stats.shapiro(i)\n",
    "#     if shapiro_pval < 0.05:\n",
    "#         print(shapiro_pval)\n",
    "#         default_list.append(i)\n",
    "#         break\n",
    "\n",
    "# for i in combinations(list(gp_rdb_external_4_v1.iloc[0:30]['Gets_KB/sec']), 10):\n",
    "#     shapiro_stats, shapiro_pval = stats.shapiro(i)\n",
    "#     if shapiro_pval < 0.05:\n",
    "#         print(shapiro_pval)\n",
    "#         lightgbm_list.append(i)\n",
    "#         break\n",
    "\n",
    "\n"
   ]
  }
 ],
 "metadata": {
  "kernelspec": {
   "display_name": "Python 3",
   "language": "python",
   "name": "python3"
  },
  "language_info": {
   "codemirror_mode": {
    "name": "ipython",
    "version": 3
   },
   "file_extension": ".py",
   "mimetype": "text/x-python",
   "name": "python",
   "nbconvert_exporter": "python",
   "pygments_lexer": "ipython3",
   "version": "3.8.5"
  }
 },
 "nbformat": 4,
 "nbformat_minor": 4
}
