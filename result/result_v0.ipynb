{
 "cells": [
  {
   "cell_type": "markdown",
   "metadata": {},
   "source": [
    "# throughput 결과 비교"
   ]
  },
  {
   "cell_type": "code",
   "execution_count": 15,
   "metadata": {},
   "outputs": [],
   "source": [
    "import pandas as pd\n",
    "import os"
   ]
  },
  {
   "cell_type": "code",
   "execution_count": 16,
   "metadata": {},
   "outputs": [
    {
     "data": {
      "text/plain": [
       "['.DS_Store',\n",
       " 'gp_T_rdb_external_4.csv',\n",
       " 'gp_rdb_external_4.csv',\n",
       " '.ipynb_checkpoints',\n",
       " 'default_rdb_external_4.csv']"
      ]
     },
     "execution_count": 16,
     "metadata": {},
     "output_type": "execute_result"
    }
   ],
   "source": [
    "# 경로 내 파일 확인\n",
    "os.listdir('./result_data')"
   ]
  },
  {
   "cell_type": "code",
   "execution_count": 23,
   "metadata": {},
   "outputs": [],
   "source": [
    "# gp_T_rdb_external_4.csv [전체 gp]\n",
    "\n",
    "gp_T_rdb_external_4 = pd.read_csv('./result_data/gp_T_rdb_external_4.csv', sep=',')\n",
    "gp_rdb_external_4 = pd.read_csv('./result_data/gp_rdb_external_4.csv', sep=',')\n",
    "default_rdb_external_4 = pd.read_csv('./result_data/default_rdb_external_4.csv', sep=',')"
   ]
  },
  {
   "cell_type": "code",
   "execution_count": 32,
   "metadata": {},
   "outputs": [
    {
     "name": "stdout",
     "output_type": "stream",
     "text": [
      "58103.972\n",
      "59141.867\n",
      "59356.90366666666\n"
     ]
    }
   ],
   "source": [
    "# 전체 gp\n",
    "print(gp_T_rdb_external_4['Gets_KB/sec'].mean())\n",
    "print(gp_rdb_external_4['Gets_KB/sec'].mean())\n",
    "print(default_rdb_external_4['Gets_KB/sec'].mean())"
   ]
  },
  {
   "cell_type": "code",
   "execution_count": 34,
   "metadata": {},
   "outputs": [
    {
     "name": "stdout",
     "output_type": "stream",
     "text": [
      "60851.57533333334\n"
     ]
    }
   ],
   "source": [
    "gp_rdb_external_4_test = pd.read_csv('./result_data/gp_rdb_external_4_test.csv', sep=',')\n",
    "print(gp_rdb_external_4_test['Gets_KB/sec'].mean())"
   ]
  },
  {
   "cell_type": "code",
   "execution_count": null,
   "metadata": {},
   "outputs": [],
   "source": []
  }
 ],
 "metadata": {
  "kernelspec": {
   "display_name": "Python 3",
   "language": "python",
   "name": "python3"
  },
  "language_info": {
   "codemirror_mode": {
    "name": "ipython",
    "version": 3
   },
   "file_extension": ".py",
   "mimetype": "text/x-python",
   "name": "python",
   "nbconvert_exporter": "python",
   "pygments_lexer": "ipython3",
   "version": "3.8.5"
  }
 },
 "nbformat": 4,
 "nbformat_minor": 4
}
