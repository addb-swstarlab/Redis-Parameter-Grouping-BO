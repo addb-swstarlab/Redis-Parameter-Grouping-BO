{
 "cells": [
  {
   "cell_type": "markdown",
   "metadata": {},
   "source": [
    "# model"
   ]
  },
  {
   "cell_type": "code",
   "execution_count": 17,
   "metadata": {},
   "outputs": [],
   "source": [
    "import pandas as pd\n",
    "import numpy as np\n",
    "from sklearn.datasets import load_boston\n",
    "import xgboost\n",
    "import matplotlib.pyplot as plt\n",
    "from sklearn.model_selection import train_test_split\n",
    "from sklearn.metrics import explained_variance_score\n",
    "from lightgbm import LGBMRegressor, plot_importance\n",
    "from sklearn.metrics import roc_auc_score"
   ]
  },
  {
   "cell_type": "code",
   "execution_count": 18,
   "metadata": {},
   "outputs": [],
   "source": [
    "# knob 종류 및 바운드\n",
    "\n",
    "knobs_rdb = {\n",
    "    \n",
    "    \"hash-max-ziplist-entries\":     (256, 751), \n",
    "    \"hash-max-ziplist-value\": (16, 257),\n",
    "    \"activerehashing\": ('yes', 'no'),  ##yes\n",
    "    \"hz\": (1, 41),\n",
    "    \"dynamic-hz\": ('yes', 'no'),\n",
    "\n",
    "    \"save0_0\": (700,1100),\n",
    "    \"save0_1\": (1,9),\n",
    "    \"save1_0\": (100,500),\n",
    "    \"save1_1\": (10,100),\n",
    "    \"save2_0\": (30,90),\n",
    "    \"save2_1\": (8000,12000),\n",
    "\n",
    "    \"rdbcompression\": ('yes', 'no'), ##yes\n",
    "    \"rdbchecksum\": ('yes', 'no'),    ##yes\n",
    "    \"rdb-save-incremental-fsync\": ('yes', 'no'),   ## yes\n",
    "\n",
    "    \"activedefrag\": ('yes','no'),  \n",
    "    \"active-defrag-threshold-lower\": (1, 31),\n",
    "    \"active-defrag-threshold-upper\": (70, 101),\n",
    "    \"active-defrag-cycle-min\": (1, 31),\n",
    "    \"active-defrag-cycle-max\": (70, 91),\n",
    "    \n",
    "    \"maxmemory\": (1000, 2900),   ##\"volatile-lru\"\n",
    "    \"maxmemory-policy\":     (\"volatile-lru\", \"allkeys-lru\", \"volatile-lfu\", \"allkeys-lfu\", \n",
    "                             \"volatile-random\",\"allkeys-random\", \"volatile-ttl\", \"noeviction\"),\n",
    "    \"maxmemory-samples\": (3, 7),\n",
    "    \n",
    "    \"lazyfree-lazy-eviction\": ('yes', 'no'),\n",
    "    \"lazyfree-lazy-expire\": ('yes', 'no'),\n",
    "    \"lazyfree-lazy-server-del\": ('yes', 'no')\n",
    "}\n",
    "\n",
    "knobs_list = list(knobs_rdb.keys())\n",
    "knobs_bound = list(knobs_rdb.values())"
   ]
  },
  {
   "cell_type": "markdown",
   "metadata": {},
   "source": [
    "## 데이터 전처리\n",
    "* 이상치 파악\n",
    "* test, train 데이터 잘 나뉘어졌는지 확인"
   ]
  },
  {
   "cell_type": "code",
   "execution_count": 19,
   "metadata": {},
   "outputs": [],
   "source": [
    "# config(knob) data\n",
    "config_df = pd.read_csv(\"./data/result_config5.csv\", sep=',')\n",
    "\n",
    "# external(throughput) data\n",
    "external_df = pd.read_csv(\"./data/external_metrics5.csv\", sep=',')"
   ]
  },
  {
   "cell_type": "code",
   "execution_count": 20,
   "metadata": {},
   "outputs": [],
   "source": [
    "# config(knog), external(throughput) 데이터 하나의 프레임으로 결합\n",
    "dataset = config_df\n",
    "dataset['throughput'] = external_df['Gets_KB/sec']"
   ]
  },
  {
   "cell_type": "code",
   "execution_count": 21,
   "metadata": {},
   "outputs": [
    {
     "data": {
      "text/html": [
       "<div>\n",
       "<style scoped>\n",
       "    .dataframe tbody tr th:only-of-type {\n",
       "        vertical-align: middle;\n",
       "    }\n",
       "\n",
       "    .dataframe tbody tr th {\n",
       "        vertical-align: top;\n",
       "    }\n",
       "\n",
       "    .dataframe thead th {\n",
       "        text-align: right;\n",
       "    }\n",
       "</style>\n",
       "<table border=\"1\" class=\"dataframe\">\n",
       "  <thead>\n",
       "    <tr style=\"text-align: right;\">\n",
       "      <th></th>\n",
       "      <th>appendonly</th>\n",
       "      <th>appendfsync</th>\n",
       "      <th>auto-aof-rewrite-percentage</th>\n",
       "      <th>auto-aof-rewrite-min-size</th>\n",
       "      <th>no-appendfsync-on-rewrite</th>\n",
       "      <th>aof-rewrite-incremental-fsync</th>\n",
       "      <th>aof-use-rdb-preamble</th>\n",
       "      <th>save0_0</th>\n",
       "      <th>save0_1</th>\n",
       "      <th>save1_0</th>\n",
       "      <th>...</th>\n",
       "      <th>maxmemory-samples</th>\n",
       "      <th>lazyfree-lazy-eviction</th>\n",
       "      <th>lazyfree-lazy-expire</th>\n",
       "      <th>lazyfree-lazy-server-del</th>\n",
       "      <th>hash-max-ziplist-entries</th>\n",
       "      <th>hash-max-ziplist-value</th>\n",
       "      <th>activerehashing</th>\n",
       "      <th>hz</th>\n",
       "      <th>dynamic-hz</th>\n",
       "      <th>throughput</th>\n",
       "    </tr>\n",
       "  </thead>\n",
       "  <tbody>\n",
       "    <tr>\n",
       "      <th>0</th>\n",
       "      <td>NaN</td>\n",
       "      <td>NaN</td>\n",
       "      <td>NaN</td>\n",
       "      <td>NaN</td>\n",
       "      <td>NaN</td>\n",
       "      <td>NaN</td>\n",
       "      <td>NaN</td>\n",
       "      <td>868</td>\n",
       "      <td>4</td>\n",
       "      <td>320</td>\n",
       "      <td>...</td>\n",
       "      <td>5</td>\n",
       "      <td>yes</td>\n",
       "      <td>yes</td>\n",
       "      <td>yes</td>\n",
       "      <td>506</td>\n",
       "      <td>144</td>\n",
       "      <td>no</td>\n",
       "      <td>20</td>\n",
       "      <td>yes</td>\n",
       "      <td>45305.88</td>\n",
       "    </tr>\n",
       "    <tr>\n",
       "      <th>1</th>\n",
       "      <td>NaN</td>\n",
       "      <td>NaN</td>\n",
       "      <td>NaN</td>\n",
       "      <td>NaN</td>\n",
       "      <td>NaN</td>\n",
       "      <td>NaN</td>\n",
       "      <td>NaN</td>\n",
       "      <td>867</td>\n",
       "      <td>6</td>\n",
       "      <td>258</td>\n",
       "      <td>...</td>\n",
       "      <td>4</td>\n",
       "      <td>yes</td>\n",
       "      <td>no</td>\n",
       "      <td>yes</td>\n",
       "      <td>552</td>\n",
       "      <td>141</td>\n",
       "      <td>no</td>\n",
       "      <td>22</td>\n",
       "      <td>yes</td>\n",
       "      <td>44540.19</td>\n",
       "    </tr>\n",
       "    <tr>\n",
       "      <th>2</th>\n",
       "      <td>NaN</td>\n",
       "      <td>NaN</td>\n",
       "      <td>NaN</td>\n",
       "      <td>NaN</td>\n",
       "      <td>NaN</td>\n",
       "      <td>NaN</td>\n",
       "      <td>NaN</td>\n",
       "      <td>911</td>\n",
       "      <td>6</td>\n",
       "      <td>319</td>\n",
       "      <td>...</td>\n",
       "      <td>5</td>\n",
       "      <td>yes</td>\n",
       "      <td>no</td>\n",
       "      <td>yes</td>\n",
       "      <td>552</td>\n",
       "      <td>185</td>\n",
       "      <td>yes</td>\n",
       "      <td>20</td>\n",
       "      <td>no</td>\n",
       "      <td>45261.71</td>\n",
       "    </tr>\n",
       "  </tbody>\n",
       "</table>\n",
       "<p>3 rows × 33 columns</p>\n",
       "</div>"
      ],
      "text/plain": [
       "   appendonly  appendfsync  auto-aof-rewrite-percentage  \\\n",
       "0         NaN          NaN                          NaN   \n",
       "1         NaN          NaN                          NaN   \n",
       "2         NaN          NaN                          NaN   \n",
       "\n",
       "   auto-aof-rewrite-min-size  no-appendfsync-on-rewrite  \\\n",
       "0                        NaN                        NaN   \n",
       "1                        NaN                        NaN   \n",
       "2                        NaN                        NaN   \n",
       "\n",
       "   aof-rewrite-incremental-fsync  aof-use-rdb-preamble  save0_0  save0_1  \\\n",
       "0                            NaN                   NaN      868        4   \n",
       "1                            NaN                   NaN      867        6   \n",
       "2                            NaN                   NaN      911        6   \n",
       "\n",
       "   save1_0  ...  maxmemory-samples  lazyfree-lazy-eviction  \\\n",
       "0      320  ...                  5                     yes   \n",
       "1      258  ...                  4                     yes   \n",
       "2      319  ...                  5                     yes   \n",
       "\n",
       "   lazyfree-lazy-expire lazyfree-lazy-server-del hash-max-ziplist-entries  \\\n",
       "0                   yes                      yes                      506   \n",
       "1                    no                      yes                      552   \n",
       "2                    no                      yes                      552   \n",
       "\n",
       "  hash-max-ziplist-value activerehashing  hz  dynamic-hz  throughput  \n",
       "0                    144              no  20         yes    45305.88  \n",
       "1                    141              no  22         yes    44540.19  \n",
       "2                    185             yes  20          no    45261.71  \n",
       "\n",
       "[3 rows x 33 columns]"
      ]
     },
     "execution_count": 21,
     "metadata": {},
     "output_type": "execute_result"
    }
   ],
   "source": [
    "dataset.head(3)"
   ]
  },
  {
   "cell_type": "code",
   "execution_count": 22,
   "metadata": {},
   "outputs": [],
   "source": [
    "# 결측치 처리 \n",
    "dataset_nan = dataset.copy()\n",
    "dataset['activedefrag'].fillna(value='no', inplace=True)  # activedefrag no 채우기\n",
    "dataset = dataset.fillna(value = 0)  # 전부 0으로 채움"
   ]
  },
  {
   "cell_type": "code",
   "execution_count": 23,
   "metadata": {},
   "outputs": [],
   "source": [
    "# maxmemory knob 단위(mb) 처리\n",
    "dataset['maxmemory']  = dataset['maxmemory'].str.strip('mb')\n",
    "dataset['maxmemory'] = pd.to_numeric(dataset['maxmemory'])"
   ]
  },
  {
   "cell_type": "code",
   "execution_count": 24,
   "metadata": {},
   "outputs": [],
   "source": [
    "# Object 변수 categorical 로 변경 (LightGBM에 바로 넣기 위해)\n",
    "category_knob = []\n",
    "\n",
    "for knob in dataset:\n",
    "    if dataset[knob].dtype == 'O':  # Object인 경우 category 형으로 변경\n",
    "        dataset[knob] = dataset[knob].astype('category')\n",
    "        if knob in knobs_list:\n",
    "            category_knob.append(knob)"
   ]
  },
  {
   "cell_type": "code",
   "execution_count": 25,
   "metadata": {},
   "outputs": [],
   "source": [
    "# 설정한 knob들만 추출\n",
    "extract_knobs_list = knobs_list.copy()\n",
    "extract_knobs_list.append('throughput')  # target 값 추가\n",
    "\n",
    "dataset = dataset[extract_knobs_list]"
   ]
  },
  {
   "cell_type": "code",
   "execution_count": 26,
   "metadata": {
    "scrolled": true
   },
   "outputs": [
    {
     "name": "stdout",
     "output_type": "stream",
     "text": [
      "<class 'pandas.core.frame.DataFrame'>\n",
      "RangeIndex: 1700 entries, 0 to 1699\n",
      "Data columns (total 33 columns):\n",
      " #   Column                         Non-Null Count  Dtype  \n",
      "---  ------                         --------------  -----  \n",
      " 0   appendonly                     0 non-null      float64\n",
      " 1   appendfsync                    0 non-null      float64\n",
      " 2   auto-aof-rewrite-percentage    0 non-null      float64\n",
      " 3   auto-aof-rewrite-min-size      0 non-null      float64\n",
      " 4   no-appendfsync-on-rewrite      0 non-null      float64\n",
      " 5   aof-rewrite-incremental-fsync  0 non-null      float64\n",
      " 6   aof-use-rdb-preamble           0 non-null      float64\n",
      " 7   save0_0                        1700 non-null   int64  \n",
      " 8   save0_1                        1700 non-null   int64  \n",
      " 9   save1_0                        1700 non-null   int64  \n",
      " 10  save1_1                        1700 non-null   int64  \n",
      " 11  save2_0                        1700 non-null   int64  \n",
      " 12  save2_1                        1700 non-null   int64  \n",
      " 13  rdbcompression                 1700 non-null   object \n",
      " 14  rdbchecksum                    1700 non-null   object \n",
      " 15  rdb-save-incremental-fsync     1700 non-null   object \n",
      " 16  activedefrag                   837 non-null    object \n",
      " 17  active-defrag-threshold-lower  837 non-null    float64\n",
      " 18  active-defrag-threshold-upper  837 non-null    float64\n",
      " 19  active-defrag-cycle-min        837 non-null    float64\n",
      " 20  active-defrag-cycle-max        837 non-null    float64\n",
      " 21  maxmemory                      1700 non-null   object \n",
      " 22  maxmemory-policy               1700 non-null   object \n",
      " 23  maxmemory-samples              1700 non-null   int64  \n",
      " 24  lazyfree-lazy-eviction         1700 non-null   object \n",
      " 25  lazyfree-lazy-expire           1700 non-null   object \n",
      " 26  lazyfree-lazy-server-del       1700 non-null   object \n",
      " 27  hash-max-ziplist-entries       1700 non-null   int64  \n",
      " 28  hash-max-ziplist-value         1700 non-null   int64  \n",
      " 29  activerehashing                1700 non-null   object \n",
      " 30  hz                             1700 non-null   int64  \n",
      " 31  dynamic-hz                     1700 non-null   object \n",
      " 32  throughput                     1700 non-null   float64\n",
      "dtypes: float64(12), int64(10), object(11)\n",
      "memory usage: 438.4+ KB\n",
      "None\n",
      "<class 'pandas.core.frame.DataFrame'>\n",
      "RangeIndex: 1700 entries, 0 to 1699\n",
      "Data columns (total 26 columns):\n",
      " #   Column                         Non-Null Count  Dtype   \n",
      "---  ------                         --------------  -----   \n",
      " 0   hash-max-ziplist-entries       1700 non-null   int64   \n",
      " 1   hash-max-ziplist-value         1700 non-null   int64   \n",
      " 2   activerehashing                1700 non-null   category\n",
      " 3   hz                             1700 non-null   int64   \n",
      " 4   dynamic-hz                     1700 non-null   category\n",
      " 5   save0_0                        1700 non-null   int64   \n",
      " 6   save0_1                        1700 non-null   int64   \n",
      " 7   save1_0                        1700 non-null   int64   \n",
      " 8   save1_1                        1700 non-null   int64   \n",
      " 9   save2_0                        1700 non-null   int64   \n",
      " 10  save2_1                        1700 non-null   int64   \n",
      " 11  rdbcompression                 1700 non-null   category\n",
      " 12  rdbchecksum                    1700 non-null   category\n",
      " 13  rdb-save-incremental-fsync     1700 non-null   category\n",
      " 14  activedefrag                   1700 non-null   category\n",
      " 15  active-defrag-threshold-lower  1700 non-null   float64 \n",
      " 16  active-defrag-threshold-upper  1700 non-null   float64 \n",
      " 17  active-defrag-cycle-min        1700 non-null   float64 \n",
      " 18  active-defrag-cycle-max        1700 non-null   float64 \n",
      " 19  maxmemory                      1700 non-null   int64   \n",
      " 20  maxmemory-policy               1700 non-null   category\n",
      " 21  maxmemory-samples              1700 non-null   int64   \n",
      " 22  lazyfree-lazy-eviction         1700 non-null   category\n",
      " 23  lazyfree-lazy-expire           1700 non-null   category\n",
      " 24  lazyfree-lazy-server-del       1700 non-null   category\n",
      " 25  throughput                     1700 non-null   float64 \n",
      "dtypes: category(10), float64(5), int64(11)\n",
      "memory usage: 230.7 KB\n",
      "None\n"
     ]
    }
   ],
   "source": [
    "# 결측치 처리전 확인\n",
    "print(dataset_nan.info())\n",
    "\n",
    "# 결측치 처리후 확인\n",
    "print(dataset.info())"
   ]
  },
  {
   "cell_type": "markdown",
   "metadata": {},
   "source": [
    "### 이상치 처리"
   ]
  },
  {
   "cell_type": "code",
   "execution_count": 27,
   "metadata": {},
   "outputs": [
    {
     "data": {
      "text/html": [
       "<div>\n",
       "<style scoped>\n",
       "    .dataframe tbody tr th:only-of-type {\n",
       "        vertical-align: middle;\n",
       "    }\n",
       "\n",
       "    .dataframe tbody tr th {\n",
       "        vertical-align: top;\n",
       "    }\n",
       "\n",
       "    .dataframe thead th {\n",
       "        text-align: right;\n",
       "    }\n",
       "</style>\n",
       "<table border=\"1\" class=\"dataframe\">\n",
       "  <thead>\n",
       "    <tr style=\"text-align: right;\">\n",
       "      <th></th>\n",
       "      <th>hash-max-ziplist-entries</th>\n",
       "      <th>hash-max-ziplist-value</th>\n",
       "      <th>hz</th>\n",
       "      <th>save0_0</th>\n",
       "      <th>save0_1</th>\n",
       "      <th>save1_0</th>\n",
       "      <th>save1_1</th>\n",
       "      <th>save2_0</th>\n",
       "      <th>save2_1</th>\n",
       "      <th>active-defrag-threshold-lower</th>\n",
       "      <th>active-defrag-threshold-upper</th>\n",
       "      <th>active-defrag-cycle-min</th>\n",
       "      <th>active-defrag-cycle-max</th>\n",
       "      <th>maxmemory</th>\n",
       "      <th>maxmemory-samples</th>\n",
       "      <th>throughput</th>\n",
       "    </tr>\n",
       "  </thead>\n",
       "  <tbody>\n",
       "    <tr>\n",
       "      <th>count</th>\n",
       "      <td>1700.000000</td>\n",
       "      <td>1700.000000</td>\n",
       "      <td>1700.000000</td>\n",
       "      <td>1700.000000</td>\n",
       "      <td>1700.000000</td>\n",
       "      <td>1700.000000</td>\n",
       "      <td>1700.000000</td>\n",
       "      <td>1700.000000</td>\n",
       "      <td>1700.000000</td>\n",
       "      <td>1700.000000</td>\n",
       "      <td>1700.000000</td>\n",
       "      <td>1700.000000</td>\n",
       "      <td>1700.000000</td>\n",
       "      <td>1700.000000</td>\n",
       "      <td>1700.000000</td>\n",
       "      <td>1700.000000</td>\n",
       "    </tr>\n",
       "    <tr>\n",
       "      <th>mean</th>\n",
       "      <td>503.073529</td>\n",
       "      <td>136.014118</td>\n",
       "      <td>20.331765</td>\n",
       "      <td>899.707647</td>\n",
       "      <td>5.018824</td>\n",
       "      <td>301.504118</td>\n",
       "      <td>54.734706</td>\n",
       "      <td>60.100588</td>\n",
       "      <td>10003.781176</td>\n",
       "      <td>7.648235</td>\n",
       "      <td>41.854118</td>\n",
       "      <td>7.588824</td>\n",
       "      <td>39.392353</td>\n",
       "      <td>1938.529412</td>\n",
       "      <td>4.999412</td>\n",
       "      <td>44384.915482</td>\n",
       "    </tr>\n",
       "    <tr>\n",
       "      <th>std</th>\n",
       "      <td>40.678152</td>\n",
       "      <td>20.991291</td>\n",
       "      <td>3.175918</td>\n",
       "      <td>33.353880</td>\n",
       "      <td>0.747528</td>\n",
       "      <td>33.671656</td>\n",
       "      <td>7.505045</td>\n",
       "      <td>5.084096</td>\n",
       "      <td>337.575574</td>\n",
       "      <td>7.950170</td>\n",
       "      <td>42.548603</td>\n",
       "      <td>7.905846</td>\n",
       "      <td>40.028266</td>\n",
       "      <td>571.372337</td>\n",
       "      <td>0.362289</td>\n",
       "      <td>2836.074574</td>\n",
       "    </tr>\n",
       "    <tr>\n",
       "      <th>min</th>\n",
       "      <td>365.000000</td>\n",
       "      <td>68.000000</td>\n",
       "      <td>9.000000</td>\n",
       "      <td>792.000000</td>\n",
       "      <td>2.000000</td>\n",
       "      <td>200.000000</td>\n",
       "      <td>30.000000</td>\n",
       "      <td>44.000000</td>\n",
       "      <td>8680.000000</td>\n",
       "      <td>0.000000</td>\n",
       "      <td>0.000000</td>\n",
       "      <td>0.000000</td>\n",
       "      <td>0.000000</td>\n",
       "      <td>1000.000000</td>\n",
       "      <td>4.000000</td>\n",
       "      <td>26918.970000</td>\n",
       "    </tr>\n",
       "    <tr>\n",
       "      <th>25%</th>\n",
       "      <td>476.000000</td>\n",
       "      <td>122.000000</td>\n",
       "      <td>18.000000</td>\n",
       "      <td>877.000000</td>\n",
       "      <td>5.000000</td>\n",
       "      <td>278.000000</td>\n",
       "      <td>50.000000</td>\n",
       "      <td>57.000000</td>\n",
       "      <td>9781.500000</td>\n",
       "      <td>0.000000</td>\n",
       "      <td>0.000000</td>\n",
       "      <td>0.000000</td>\n",
       "      <td>0.000000</td>\n",
       "      <td>1500.000000</td>\n",
       "      <td>5.000000</td>\n",
       "      <td>42970.870000</td>\n",
       "    </tr>\n",
       "    <tr>\n",
       "      <th>50%</th>\n",
       "      <td>503.000000</td>\n",
       "      <td>135.000000</td>\n",
       "      <td>20.000000</td>\n",
       "      <td>899.000000</td>\n",
       "      <td>5.000000</td>\n",
       "      <td>302.000000</td>\n",
       "      <td>55.000000</td>\n",
       "      <td>60.000000</td>\n",
       "      <td>9999.500000</td>\n",
       "      <td>0.000000</td>\n",
       "      <td>0.000000</td>\n",
       "      <td>0.000000</td>\n",
       "      <td>0.000000</td>\n",
       "      <td>1900.000000</td>\n",
       "      <td>5.000000</td>\n",
       "      <td>44181.360000</td>\n",
       "    </tr>\n",
       "    <tr>\n",
       "      <th>75%</th>\n",
       "      <td>531.000000</td>\n",
       "      <td>150.000000</td>\n",
       "      <td>22.000000</td>\n",
       "      <td>922.000000</td>\n",
       "      <td>5.000000</td>\n",
       "      <td>325.000000</td>\n",
       "      <td>60.000000</td>\n",
       "      <td>63.000000</td>\n",
       "      <td>10229.000000</td>\n",
       "      <td>15.000000</td>\n",
       "      <td>85.000000</td>\n",
       "      <td>15.000000</td>\n",
       "      <td>80.000000</td>\n",
       "      <td>2400.000000</td>\n",
       "      <td>5.000000</td>\n",
       "      <td>45033.152500</td>\n",
       "    </tr>\n",
       "    <tr>\n",
       "      <th>max</th>\n",
       "      <td>635.000000</td>\n",
       "      <td>204.000000</td>\n",
       "      <td>33.000000</td>\n",
       "      <td>1016.000000</td>\n",
       "      <td>7.000000</td>\n",
       "      <td>413.000000</td>\n",
       "      <td>78.000000</td>\n",
       "      <td>75.000000</td>\n",
       "      <td>11169.000000</td>\n",
       "      <td>23.000000</td>\n",
       "      <td>93.000000</td>\n",
       "      <td>23.000000</td>\n",
       "      <td>85.000000</td>\n",
       "      <td>2900.000000</td>\n",
       "      <td>6.000000</td>\n",
       "      <td>64115.000000</td>\n",
       "    </tr>\n",
       "  </tbody>\n",
       "</table>\n",
       "</div>"
      ],
      "text/plain": [
       "       hash-max-ziplist-entries  hash-max-ziplist-value           hz  \\\n",
       "count               1700.000000             1700.000000  1700.000000   \n",
       "mean                 503.073529              136.014118    20.331765   \n",
       "std                   40.678152               20.991291     3.175918   \n",
       "min                  365.000000               68.000000     9.000000   \n",
       "25%                  476.000000              122.000000    18.000000   \n",
       "50%                  503.000000              135.000000    20.000000   \n",
       "75%                  531.000000              150.000000    22.000000   \n",
       "max                  635.000000              204.000000    33.000000   \n",
       "\n",
       "           save0_0      save0_1      save1_0      save1_1      save2_0  \\\n",
       "count  1700.000000  1700.000000  1700.000000  1700.000000  1700.000000   \n",
       "mean    899.707647     5.018824   301.504118    54.734706    60.100588   \n",
       "std      33.353880     0.747528    33.671656     7.505045     5.084096   \n",
       "min     792.000000     2.000000   200.000000    30.000000    44.000000   \n",
       "25%     877.000000     5.000000   278.000000    50.000000    57.000000   \n",
       "50%     899.000000     5.000000   302.000000    55.000000    60.000000   \n",
       "75%     922.000000     5.000000   325.000000    60.000000    63.000000   \n",
       "max    1016.000000     7.000000   413.000000    78.000000    75.000000   \n",
       "\n",
       "            save2_1  active-defrag-threshold-lower  \\\n",
       "count   1700.000000                    1700.000000   \n",
       "mean   10003.781176                       7.648235   \n",
       "std      337.575574                       7.950170   \n",
       "min     8680.000000                       0.000000   \n",
       "25%     9781.500000                       0.000000   \n",
       "50%     9999.500000                       0.000000   \n",
       "75%    10229.000000                      15.000000   \n",
       "max    11169.000000                      23.000000   \n",
       "\n",
       "       active-defrag-threshold-upper  active-defrag-cycle-min  \\\n",
       "count                    1700.000000              1700.000000   \n",
       "mean                       41.854118                 7.588824   \n",
       "std                        42.548603                 7.905846   \n",
       "min                         0.000000                 0.000000   \n",
       "25%                         0.000000                 0.000000   \n",
       "50%                         0.000000                 0.000000   \n",
       "75%                        85.000000                15.000000   \n",
       "max                        93.000000                23.000000   \n",
       "\n",
       "       active-defrag-cycle-max    maxmemory  maxmemory-samples    throughput  \n",
       "count              1700.000000  1700.000000        1700.000000   1700.000000  \n",
       "mean                 39.392353  1938.529412           4.999412  44384.915482  \n",
       "std                  40.028266   571.372337           0.362289   2836.074574  \n",
       "min                   0.000000  1000.000000           4.000000  26918.970000  \n",
       "25%                   0.000000  1500.000000           5.000000  42970.870000  \n",
       "50%                   0.000000  1900.000000           5.000000  44181.360000  \n",
       "75%                  80.000000  2400.000000           5.000000  45033.152500  \n",
       "max                  85.000000  2900.000000           6.000000  64115.000000  "
      ]
     },
     "execution_count": 27,
     "metadata": {},
     "output_type": "execute_result"
    }
   ],
   "source": [
    "# -999999와 같은 이상치 확인 -> 없음\n",
    "dataset.describe()"
   ]
  },
  {
   "cell_type": "code",
   "execution_count": 28,
   "metadata": {},
   "outputs": [
    {
     "data": {
      "text/plain": [
       "<AxesSubplot:>"
      ]
     },
     "execution_count": 28,
     "metadata": {},
     "output_type": "execute_result"
    },
    {
     "data": {
      "image/png": "[encoded data removed]",
      "text/plain": [
       "<Figure size 432x288 with 1 Axes>"
      ]
     },
     "metadata": {
      "needs_background": "light"
     },
     "output_type": "display_data"
    }
   ],
   "source": [
    "# 이상치 파악 \n",
    "dataset['throughput'].hist()"
   ]
  },
  {
   "cell_type": "code",
   "execution_count": 29,
   "metadata": {},
   "outputs": [
    {
     "name": "stdout",
     "output_type": "stream",
     "text": [
      "0       45305.88\n",
      "1       44540.19\n",
      "2       45261.71\n",
      "3       45108.96\n",
      "4       45277.43\n",
      "          ...   \n",
      "1695    44861.25\n",
      "1696    45034.29\n",
      "1697    45003.06\n",
      "1698    44653.27\n",
      "1699    44799.15\n",
      "Name: throughput, Length: 1655, dtype: float64\n",
      "개수:  1655\n"
     ]
    }
   ],
   "source": [
    "# 인덱스제거하고 돌려보자\n",
    "print(dataset['throughput'][dataset['throughput'] <= 52500])\n",
    "outlier_index = dataset['throughput'][dataset['throughput'] <= 52500].index\n",
    "print('개수: ', len(outlier_index))"
   ]
  },
  {
   "cell_type": "code",
   "execution_count": 30,
   "metadata": {},
   "outputs": [
    {
     "data": {
      "image/png": "[encoded data removed]",
      "text/plain": [
       "<Figure size 432x288 with 1 Axes>"
      ]
     },
     "metadata": {
      "needs_background": "light"
     },
     "output_type": "display_data"
    }
   ],
   "source": [
    "# 이상치로 분류되진 않지만 제거한다. \n",
    "import seaborn as sns\n",
    "sns.boxplot(x = \"throughput\",data = dataset )\n",
    "plt.show()"
   ]
  },
  {
   "cell_type": "code",
   "execution_count": 31,
   "metadata": {},
   "outputs": [],
   "source": [
    "# # 이상치 제거\n",
    "# dataset = dataset.drop(outlier_index)"
   ]
  },
  {
   "cell_type": "code",
   "execution_count": 32,
   "metadata": {},
   "outputs": [
    {
     "data": {
      "text/plain": [
       "(1700, 26)"
      ]
     },
     "execution_count": 32,
     "metadata": {},
     "output_type": "execute_result"
    }
   ],
   "source": [
    "# 이상치 제거 확인\n",
    "dataset.shape"
   ]
  },
  {
   "cell_type": "markdown",
   "metadata": {},
   "source": [
    "### test, train 데이터 분리"
   ]
  },
  {
   "cell_type": "code",
   "execution_count": 107,
   "metadata": {},
   "outputs": [],
   "source": [
    "# test, train 데이터로 분리\n",
    "X_train, X_test, y_train, y_test = train_test_split(dataset.iloc[:,:-1]\n",
    "                                                    , dataset['throughput'] \n",
    "                                                    ,test_size=0.2\n",
    "                                                   , random_state = 156)\n"
   ]
  },
  {
   "cell_type": "code",
   "execution_count": 108,
   "metadata": {},
   "outputs": [
    {
     "data": {
      "text/html": [
       "<div>\n",
       "<style scoped>\n",
       "    .dataframe tbody tr th:only-of-type {\n",
       "        vertical-align: middle;\n",
       "    }\n",
       "\n",
       "    .dataframe tbody tr th {\n",
       "        vertical-align: top;\n",
       "    }\n",
       "\n",
       "    .dataframe thead th {\n",
       "        text-align: right;\n",
       "    }\n",
       "</style>\n",
       "<table border=\"1\" class=\"dataframe\">\n",
       "  <thead>\n",
       "    <tr style=\"text-align: right;\">\n",
       "      <th></th>\n",
       "      <th>hash-max-ziplist-entries</th>\n",
       "      <th>hash-max-ziplist-value</th>\n",
       "      <th>activerehashing</th>\n",
       "      <th>hz</th>\n",
       "      <th>dynamic-hz</th>\n",
       "    </tr>\n",
       "  </thead>\n",
       "  <tbody>\n",
       "    <tr>\n",
       "      <th>1658</th>\n",
       "      <td>672</td>\n",
       "      <td>180</td>\n",
       "      <td>yes</td>\n",
       "      <td>5</td>\n",
       "      <td>no</td>\n",
       "    </tr>\n",
       "    <tr>\n",
       "      <th>1286</th>\n",
       "      <td>596</td>\n",
       "      <td>202</td>\n",
       "      <td>no</td>\n",
       "      <td>25</td>\n",
       "      <td>yes</td>\n",
       "    </tr>\n",
       "    <tr>\n",
       "      <th>1709</th>\n",
       "      <td>547</td>\n",
       "      <td>127</td>\n",
       "      <td>yes</td>\n",
       "      <td>16</td>\n",
       "      <td>yes</td>\n",
       "    </tr>\n",
       "    <tr>\n",
       "      <th>1166</th>\n",
       "      <td>642</td>\n",
       "      <td>28</td>\n",
       "      <td>no</td>\n",
       "      <td>33</td>\n",
       "      <td>no</td>\n",
       "    </tr>\n",
       "    <tr>\n",
       "      <th>2258</th>\n",
       "      <td>293</td>\n",
       "      <td>90</td>\n",
       "      <td>yes</td>\n",
       "      <td>31</td>\n",
       "      <td>yes</td>\n",
       "    </tr>\n",
       "  </tbody>\n",
       "</table>\n",
       "</div>"
      ],
      "text/plain": [
       "      hash-max-ziplist-entries  hash-max-ziplist-value activerehashing  hz  \\\n",
       "1658                       672                     180             yes   5   \n",
       "1286                       596                     202              no  25   \n",
       "1709                       547                     127             yes  16   \n",
       "1166                       642                      28              no  33   \n",
       "2258                       293                      90             yes  31   \n",
       "\n",
       "     dynamic-hz  \n",
       "1658         no  \n",
       "1286        yes  \n",
       "1709        yes  \n",
       "1166         no  \n",
       "2258        yes  "
      ]
     },
     "execution_count": 108,
     "metadata": {},
     "output_type": "execute_result"
    }
   ],
   "source": [
    "# X_train 확인\n",
    "X_train.head()"
   ]
  },
  {
   "cell_type": "code",
   "execution_count": 109,
   "metadata": {},
   "outputs": [
    {
     "data": {
      "image/png": "[encoded data removed]",
      "text/plain": [
       "<Figure size 432x288 with 1 Axes>"
      ]
     },
     "metadata": {
      "needs_background": "light"
     },
     "output_type": "display_data"
    },
    {
     "data": {
      "image/png": "[encoded data removed]",
      "text/plain": [
       "<Figure size 432x288 with 1 Axes>"
      ]
     },
     "metadata": {
      "needs_background": "light"
     },
     "output_type": "display_data"
    }
   ],
   "source": [
    "# test, train 에 비슷하게 분류됬는지 확인\n",
    "y_train.hist()\n",
    "plt.title('train data')\n",
    "plt.show()\n",
    "\n",
    "y_test.hist()\n",
    "plt.title('test data')\n",
    "plt.show()"
   ]
  },
  {
   "cell_type": "markdown",
   "metadata": {},
   "source": [
    "## LightGBM 모델 생성"
   ]
  },
  {
   "cell_type": "code",
   "execution_count": 110,
   "metadata": {},
   "outputs": [
    {
     "name": "stderr",
     "output_type": "stream",
     "text": [
      "/Users/joseong-un/opt/anaconda3/lib/python3.8/site-packages/lightgbm/basic.py:1433: UserWarning: Overriding the parameters from Reference Dataset.\n",
      "  _log_warning('Overriding the parameters from Reference Dataset.')\n",
      "/Users/joseong-un/opt/anaconda3/lib/python3.8/site-packages/lightgbm/basic.py:1245: UserWarning: categorical_column in param dict is overridden.\n",
      "  _log_warning('{} in param dict is overridden.'.format(cat_alias))\n"
     ]
    },
    {
     "name": "stdout",
     "output_type": "stream",
     "text": [
      "[1]\tvalid_0's auc: 1\tvalid_0's l2: 1.14983e+07\n",
      "Training until validation scores don't improve for 100 rounds\n",
      "[2]\tvalid_0's auc: 1\tvalid_0's l2: 1.15109e+07\n",
      "[3]\tvalid_0's auc: 1\tvalid_0's l2: 1.15199e+07\n",
      "[4]\tvalid_0's auc: 1\tvalid_0's l2: 1.15248e+07\n",
      "[5]\tvalid_0's auc: 1\tvalid_0's l2: 1.15619e+07\n",
      "[6]\tvalid_0's auc: 1\tvalid_0's l2: 1.15602e+07\n",
      "[7]\tvalid_0's auc: 1\tvalid_0's l2: 1.15746e+07\n",
      "[8]\tvalid_0's auc: 1\tvalid_0's l2: 1.16181e+07\n",
      "[9]\tvalid_0's auc: 1\tvalid_0's l2: 1.16383e+07\n",
      "[10]\tvalid_0's auc: 1\tvalid_0's l2: 1.16665e+07\n",
      "[11]\tvalid_0's auc: 1\tvalid_0's l2: 1.16701e+07\n",
      "[12]\tvalid_0's auc: 1\tvalid_0's l2: 1.17014e+07\n",
      "[13]\tvalid_0's auc: 1\tvalid_0's l2: 1.17219e+07\n",
      "[14]\tvalid_0's auc: 1\tvalid_0's l2: 1.17071e+07\n",
      "[15]\tvalid_0's auc: 1\tvalid_0's l2: 1.16999e+07\n",
      "[16]\tvalid_0's auc: 1\tvalid_0's l2: 1.17257e+07\n",
      "[17]\tvalid_0's auc: 1\tvalid_0's l2: 1.17117e+07\n",
      "[18]\tvalid_0's auc: 1\tvalid_0's l2: 1.1712e+07\n",
      "[19]\tvalid_0's auc: 1\tvalid_0's l2: 1.1735e+07\n",
      "[20]\tvalid_0's auc: 1\tvalid_0's l2: 1.1736e+07\n",
      "[21]\tvalid_0's auc: 1\tvalid_0's l2: 1.17479e+07\n",
      "[22]\tvalid_0's auc: 1\tvalid_0's l2: 1.17627e+07\n",
      "[23]\tvalid_0's auc: 1\tvalid_0's l2: 1.17954e+07\n",
      "[24]\tvalid_0's auc: 1\tvalid_0's l2: 1.17999e+07\n",
      "[25]\tvalid_0's auc: 1\tvalid_0's l2: 1.18095e+07\n",
      "[26]\tvalid_0's auc: 1\tvalid_0's l2: 1.18243e+07\n",
      "[27]\tvalid_0's auc: 1\tvalid_0's l2: 1.18543e+07\n",
      "[28]\tvalid_0's auc: 1\tvalid_0's l2: 1.18613e+07\n",
      "[29]\tvalid_0's auc: 1\tvalid_0's l2: 1.18908e+07\n",
      "[30]\tvalid_0's auc: 1\tvalid_0's l2: 1.19246e+07\n",
      "[31]\tvalid_0's auc: 1\tvalid_0's l2: 1.19308e+07\n",
      "[32]\tvalid_0's auc: 1\tvalid_0's l2: 1.19499e+07\n",
      "[33]\tvalid_0's auc: 1\tvalid_0's l2: 1.19831e+07\n",
      "[34]\tvalid_0's auc: 1\tvalid_0's l2: 1.20242e+07\n",
      "[35]\tvalid_0's auc: 1\tvalid_0's l2: 1.20362e+07\n",
      "[36]\tvalid_0's auc: 1\tvalid_0's l2: 1.20576e+07\n",
      "[37]\tvalid_0's auc: 1\tvalid_0's l2: 1.20563e+07\n",
      "[38]\tvalid_0's auc: 1\tvalid_0's l2: 1.20574e+07\n",
      "[39]\tvalid_0's auc: 1\tvalid_0's l2: 1.20628e+07\n",
      "[40]\tvalid_0's auc: 1\tvalid_0's l2: 1.20747e+07\n",
      "[41]\tvalid_0's auc: 1\tvalid_0's l2: 1.20939e+07\n",
      "[42]\tvalid_0's auc: 1\tvalid_0's l2: 1.20822e+07\n",
      "[43]\tvalid_0's auc: 1\tvalid_0's l2: 1.21042e+07\n",
      "[44]\tvalid_0's auc: 1\tvalid_0's l2: 1.21118e+07\n",
      "[45]\tvalid_0's auc: 1\tvalid_0's l2: 1.21004e+07\n",
      "[46]\tvalid_0's auc: 1\tvalid_0's l2: 1.21062e+07\n",
      "[47]\tvalid_0's auc: 1\tvalid_0's l2: 1.2124e+07\n",
      "[48]\tvalid_0's auc: 1\tvalid_0's l2: 1.21123e+07\n",
      "[49]\tvalid_0's auc: 1\tvalid_0's l2: 1.21203e+07\n",
      "[50]\tvalid_0's auc: 1\tvalid_0's l2: 1.21313e+07\n",
      "[51]\tvalid_0's auc: 1\tvalid_0's l2: 1.21619e+07\n",
      "[52]\tvalid_0's auc: 1\tvalid_0's l2: 1.21864e+07\n",
      "[53]\tvalid_0's auc: 1\tvalid_0's l2: 1.22069e+07\n",
      "[54]\tvalid_0's auc: 1\tvalid_0's l2: 1.22333e+07\n",
      "[55]\tvalid_0's auc: 1\tvalid_0's l2: 1.22363e+07\n",
      "[56]\tvalid_0's auc: 1\tvalid_0's l2: 1.22606e+07\n",
      "[57]\tvalid_0's auc: 1\tvalid_0's l2: 1.22837e+07\n",
      "[58]\tvalid_0's auc: 1\tvalid_0's l2: 1.2317e+07\n",
      "[59]\tvalid_0's auc: 1\tvalid_0's l2: 1.23519e+07\n",
      "[60]\tvalid_0's auc: 1\tvalid_0's l2: 1.2382e+07\n",
      "[61]\tvalid_0's auc: 1\tvalid_0's l2: 1.2383e+07\n",
      "[62]\tvalid_0's auc: 1\tvalid_0's l2: 1.24021e+07\n",
      "[63]\tvalid_0's auc: 1\tvalid_0's l2: 1.24334e+07\n",
      "[64]\tvalid_0's auc: 1\tvalid_0's l2: 1.24617e+07\n",
      "[65]\tvalid_0's auc: 1\tvalid_0's l2: 1.24885e+07\n",
      "[66]\tvalid_0's auc: 1\tvalid_0's l2: 1.25046e+07\n",
      "[67]\tvalid_0's auc: 1\tvalid_0's l2: 1.25161e+07\n",
      "[68]\tvalid_0's auc: 1\tvalid_0's l2: 1.25289e+07\n",
      "[69]\tvalid_0's auc: 1\tvalid_0's l2: 1.25729e+07\n",
      "[70]\tvalid_0's auc: 1\tvalid_0's l2: 1.26091e+07\n",
      "[71]\tvalid_0's auc: 1\tvalid_0's l2: 1.26524e+07\n",
      "[72]\tvalid_0's auc: 1\tvalid_0's l2: 1.26698e+07\n",
      "[73]\tvalid_0's auc: 1\tvalid_0's l2: 1.26856e+07\n",
      "[74]\tvalid_0's auc: 1\tvalid_0's l2: 1.27058e+07\n",
      "[75]\tvalid_0's auc: 1\tvalid_0's l2: 1.27279e+07\n",
      "[76]\tvalid_0's auc: 1\tvalid_0's l2: 1.27491e+07\n",
      "[77]\tvalid_0's auc: 1\tvalid_0's l2: 1.27552e+07\n",
      "[78]\tvalid_0's auc: 1\tvalid_0's l2: 1.27795e+07\n",
      "[79]\tvalid_0's auc: 1\tvalid_0's l2: 1.27806e+07\n",
      "[80]\tvalid_0's auc: 1\tvalid_0's l2: 1.28009e+07\n",
      "[81]\tvalid_0's auc: 1\tvalid_0's l2: 1.28034e+07\n",
      "[82]\tvalid_0's auc: 1\tvalid_0's l2: 1.28288e+07\n",
      "[83]\tvalid_0's auc: 1\tvalid_0's l2: 1.28165e+07\n",
      "[84]\tvalid_0's auc: 1\tvalid_0's l2: 1.28384e+07\n",
      "[85]\tvalid_0's auc: 1\tvalid_0's l2: 1.28384e+07\n",
      "[86]\tvalid_0's auc: 1\tvalid_0's l2: 1.28527e+07\n",
      "[87]\tvalid_0's auc: 1\tvalid_0's l2: 1.28729e+07\n",
      "[88]\tvalid_0's auc: 1\tvalid_0's l2: 1.28876e+07\n",
      "[89]\tvalid_0's auc: 1\tvalid_0's l2: 1.28847e+07\n",
      "[90]\tvalid_0's auc: 1\tvalid_0's l2: 1.28897e+07\n",
      "[91]\tvalid_0's auc: 1\tvalid_0's l2: 1.28849e+07\n",
      "[92]\tvalid_0's auc: 1\tvalid_0's l2: 1.287e+07\n",
      "[93]\tvalid_0's auc: 1\tvalid_0's l2: 1.2866e+07\n",
      "[94]\tvalid_0's auc: 1\tvalid_0's l2: 1.28732e+07\n",
      "[95]\tvalid_0's auc: 1\tvalid_0's l2: 1.28764e+07\n",
      "[96]\tvalid_0's auc: 1\tvalid_0's l2: 1.28555e+07\n",
      "[97]\tvalid_0's auc: 1\tvalid_0's l2: 1.28736e+07\n",
      "[98]\tvalid_0's auc: 1\tvalid_0's l2: 1.28981e+07\n",
      "[99]\tvalid_0's auc: 1\tvalid_0's l2: 1.29042e+07\n",
      "[100]\tvalid_0's auc: 1\tvalid_0's l2: 1.29201e+07\n",
      "[101]\tvalid_0's auc: 1\tvalid_0's l2: 1.29232e+07\n",
      "Early stopping, best iteration is:\n",
      "[1]\tvalid_0's auc: 1\tvalid_0's l2: 1.14983e+07\n"
     ]
    },
    {
     "data": {
      "text/plain": [
       "LGBMRegressor(n_estimators=1000)"
      ]
     },
     "execution_count": 110,
     "metadata": {},
     "output_type": "execute_result"
    }
   ],
   "source": [
    "# 모델 객체 생성, n_estimators = 400으로 설정\n",
    "lgbm_wrapper = LGBMRegressor(n_estimators=1000, learning_rate=0.1)\n",
    "\n",
    "# 검증 데이터(validation data)\n",
    "evals = [(X_test, y_test)]\n",
    "\n",
    "lgbm_wrapper.fit(X_train, y_train, early_stopping_rounds=100, eval_metric='auc',\n",
    "                eval_set = evals, verbose = True)"
   ]
  },
  {
   "cell_type": "code",
   "execution_count": 111,
   "metadata": {},
   "outputs": [
    {
     "data": {
      "text/plain": [
       "array([58826.80826505, 58692.64373492, 58778.24868584, 58778.24868584,\n",
       "       58687.98092326, 58717.10182951, 58815.41910226, 58611.67515675,\n",
       "       58729.05281268, 58729.05281268, 58882.6348665 , 58817.1781994 ,\n",
       "       58674.12036658, 58579.73925029, 58729.05281268, 58654.02008525,\n",
       "       58841.35484087, 58756.23790981, 58729.67027327, 58611.67515675,\n",
       "       58756.23790981, 58793.62210881, 58841.35484087, 58793.62210881,\n",
       "       58729.05281268, 58793.62210881, 58692.64373492, 58793.62210881,\n",
       "       58841.35484087, 58579.73925029, 58774.17338441, 58793.62210881,\n",
       "       58654.02008525, 58729.67027327, 58774.17338441, 58927.37225652,\n",
       "       58882.6348665 , 58729.67027327, 58692.64373492, 58815.41910226,\n",
       "       58755.49891882, 58817.1781994 , 58817.1781994 , 58793.62210881,\n",
       "       58825.91646389, 58674.12036658, 58689.92943783, 58516.29044213,\n",
       "       58551.40323977, 58611.67515675, 58689.92943783, 58729.67027327,\n",
       "       58729.67027327, 58729.67027327, 58882.6348665 , 58793.62210881,\n",
       "       58516.29044213, 58817.1781994 , 58654.02008525, 58821.08775809,\n",
       "       58729.67027327, 58755.49891882, 58825.91646389, 58793.62210881,\n",
       "       58717.10182951, 58793.62210881, 58579.73925029, 58729.67027327,\n",
       "       58579.73925029, 58611.67515675, 58821.08775809, 58729.05281268,\n",
       "       58551.40323977, 58825.91646389, 58729.67027327, 58579.73925029,\n",
       "       58815.41910226, 58882.6348665 , 58611.67515675, 58826.80826505,\n",
       "       58887.04525377, 58887.04525377, 58687.98092326, 58729.67027327,\n",
       "       58729.67027327, 58896.75453992, 58729.67027327, 58729.05281268,\n",
       "       58797.43238614, 58756.23790981, 58756.23790981, 58580.44018412,\n",
       "       58793.62210881, 58774.17338441, 58821.08775809, 58793.62210881,\n",
       "       58551.40323977, 58793.62210881, 58687.98092326, 58580.44018412,\n",
       "       58793.62210881, 58774.17338441, 58729.67027327, 58579.73925029,\n",
       "       58821.08775809, 58793.62210881, 58815.41910226, 58729.67027327,\n",
       "       58817.1781994 , 58580.44018412, 58821.08775809, 58927.37225652,\n",
       "       58653.69902755, 58516.29044213, 58717.10182951, 58756.23790981,\n",
       "       58756.23790981, 58817.1781994 , 58815.41910226, 58611.67515675,\n",
       "       58729.67027327, 58687.98092326, 58717.10182951, 58778.24868584,\n",
       "       58896.75453992, 58927.37225652, 58653.69902755, 58692.64373492,\n",
       "       58756.23790981, 58755.49891882, 58756.23790981, 58689.92943783,\n",
       "       58729.05281268, 58927.37225652, 58674.12036658, 58817.1781994 ,\n",
       "       58551.40323977, 58729.67027327, 58653.69902755, 58687.98092326,\n",
       "       58729.67027327, 58729.67027327, 58778.24868584, 58580.44018412,\n",
       "       58687.98092326, 58927.37225652, 58815.41910226, 58729.67027327,\n",
       "       58729.67027327, 58817.1781994 , 58611.67515675, 58729.67027327,\n",
       "       58755.49891882, 58551.40323977, 58887.04525377, 58611.67515675,\n",
       "       58580.44018412, 58729.67027327, 58825.91646389, 58774.17338441,\n",
       "       58729.67027327, 58774.17338441, 58692.64373492, 58793.62210881,\n",
       "       58653.69902755, 58729.67027327, 58774.17338441, 58774.17338441,\n",
       "       58778.24868584, 58826.80826505, 58674.12036658, 58825.91646389,\n",
       "       58774.17338441, 58887.04525377, 58815.41910226, 58551.40323977,\n",
       "       58729.05281268, 58729.67027327, 58756.23790981, 58825.91646389,\n",
       "       58793.62210881, 58817.1781994 , 58717.10182951, 58579.73925029,\n",
       "       58774.17338441, 58579.73925029, 58825.91646389, 58774.17338441,\n",
       "       58755.49891882, 58653.69902755, 58729.67027327, 58774.17338441,\n",
       "       58579.73925029, 58815.41910226, 58793.62210881, 58729.67027327,\n",
       "       58692.64373492, 58674.12036658, 58793.62210881, 58793.62210881,\n",
       "       58882.6348665 , 58815.41910226, 58817.1781994 , 58793.62210881,\n",
       "       58793.62210881, 58756.23790981, 58817.1781994 , 58774.17338441,\n",
       "       58611.67515675, 58815.41910226, 58687.98092326, 58717.10182951,\n",
       "       58774.17338441, 58551.40323977, 58729.67027327, 58793.62210881,\n",
       "       58887.04525377, 58674.12036658, 58653.69902755, 58611.67515675,\n",
       "       58611.67515675, 58729.67027327, 58729.67027327, 58887.04525377,\n",
       "       58729.67027327, 58817.1781994 , 58756.23790981, 58778.24868584,\n",
       "       58579.73925029, 58815.41910226, 58687.98092326, 58793.62210881,\n",
       "       58674.12036658, 58692.64373492, 58689.92943783, 58825.91646389,\n",
       "       58687.98092326, 58729.67027327, 58717.10182951, 58815.41910226,\n",
       "       58611.67515675, 58687.98092326, 58729.05281268, 58817.1781994 ,\n",
       "       58729.67027327, 58611.67515675, 58756.23790981, 58551.40323977,\n",
       "       58692.64373492, 58887.04525377, 58516.29044213, 58755.49891882,\n",
       "       58729.67027327, 58817.1781994 , 58516.29044213, 58717.10182951,\n",
       "       58729.67027327, 59020.23828733, 58692.64373492, 58729.67027327,\n",
       "       58756.23790981, 58825.91646389, 58729.67027327, 58793.62210881,\n",
       "       58687.98092326, 58692.64373492, 58729.67027327, 58756.23790981,\n",
       "       58817.1781994 , 58611.67515675, 58729.67027327, 58817.1781994 ,\n",
       "       58756.23790981, 58793.62210881, 58717.10182951, 58793.62210881,\n",
       "       58687.98092326, 58653.69902755, 58793.62210881, 58797.43238614,\n",
       "       58729.67027327, 58755.49891882, 58611.67515675, 58793.62210881,\n",
       "       58821.08775809, 58756.23790981, 58729.05281268, 58797.43238614,\n",
       "       58611.67515675, 58729.67027327, 58729.67027327, 58821.08775809,\n",
       "       58692.64373492, 58793.62210881, 58825.91646389, 58825.91646389,\n",
       "       58815.41910226, 58817.1781994 , 58815.41910226, 58717.10182951,\n",
       "       58793.62210881, 58793.62210881, 58653.69902755, 58756.23790981,\n",
       "       58674.12036658, 58817.1781994 , 58793.62210881, 58729.67027327,\n",
       "       58817.1781994 , 58774.17338441, 58815.41910226, 58692.64373492,\n",
       "       58825.91646389, 58729.67027327, 58551.40323977, 58717.10182951,\n",
       "       58815.41910226, 58674.12036658, 58729.67027327, 58674.12036658,\n",
       "       58551.40323977, 58654.02008525, 58755.49891882, 58756.23790981,\n",
       "       58611.67515675, 58687.98092326, 58729.67027327, 58729.67027327,\n",
       "       58551.40323977, 58821.08775809, 58887.04525377, 58729.67027327,\n",
       "       58774.17338441, 58817.1781994 , 58841.35484087, 58692.64373492,\n",
       "       58825.91646389, 58674.12036658, 58793.62210881, 58729.67027327,\n",
       "       58778.24868584, 58896.75453992, 58756.23790981, 58654.02008525,\n",
       "       58841.35484087, 58825.91646389, 58896.75453992, 58774.17338441,\n",
       "       58687.98092326, 58778.24868584, 58579.73925029, 58774.17338441,\n",
       "       58815.41910226, 58815.41910226, 58887.04525377, 58729.67027327,\n",
       "       58729.67027327, 58817.1781994 , 58778.24868584, 58817.1781994 ,\n",
       "       58654.02008525, 58815.41910226, 58717.10182951, 58687.98092326,\n",
       "       58756.23790981, 58729.67027327, 58778.24868584, 58927.37225652,\n",
       "       58692.64373492, 58774.17338441, 58611.67515675, 58756.23790981,\n",
       "       58729.67027327, 58793.62210881, 58692.64373492, 58692.64373492,\n",
       "       58793.62210881, 58817.1781994 , 58580.44018412, 58729.67027327,\n",
       "       58774.17338441, 58687.98092326, 58756.23790981, 58793.62210881,\n",
       "       58756.23790981, 58580.44018412, 58692.64373492, 58687.98092326,\n",
       "       58729.67027327, 58653.69902755, 58841.35484087, 58689.92943783,\n",
       "       58516.29044213, 58825.91646389, 58793.62210881, 58817.1781994 ,\n",
       "       58692.64373492, 58692.64373492, 58774.17338441, 58717.10182951,\n",
       "       58692.64373492, 58611.67515675, 58717.10182951, 58611.67515675,\n",
       "       58729.67027327, 58689.92943783, 58729.67027327, 58674.12036658,\n",
       "       58729.05281268, 58793.62210881, 58579.73925029, 58674.12036658,\n",
       "       58729.67027327, 58841.35484087, 58815.41910226, 58793.62210881,\n",
       "       58793.62210881, 58692.64373492, 58887.04525377, 58579.73925029,\n",
       "       58611.67515675, 58516.29044213, 58756.23790981, 58756.23790981,\n",
       "       58793.62210881, 58692.64373492, 58793.62210881, 58717.10182951,\n",
       "       58674.12036658, 58653.69902755, 58580.44018412, 58815.41910226,\n",
       "       58821.08775809, 58729.67027327, 58927.37225652, 58654.02008525,\n",
       "       58756.23790981, 58729.67027327, 58896.75453992, 58687.98092326,\n",
       "       58825.91646389, 58653.69902755, 58756.23790981, 58793.62210881,\n",
       "       58815.41910226, 58797.43238614, 58653.69902755, 58825.91646389,\n",
       "       58797.43238614, 58729.05281268, 58841.35484087, 58579.73925029,\n",
       "       58580.44018412, 58729.67027327, 58692.64373492, 58611.67515675,\n",
       "       58825.91646389, 58516.29044213, 58793.62210881, 58815.41910226,\n",
       "       58793.62210881, 58729.67027327, 58674.12036658, 58826.80826505,\n",
       "       58756.23790981, 58611.67515675, 58756.23790981, 58826.80826505,\n",
       "       58774.17338441, 58579.73925029, 58729.67027327, 58729.67027327,\n",
       "       58717.10182951, 58797.43238614, 58817.1781994 , 58896.75453992,\n",
       "       58815.41910226, 58793.62210881, 58717.10182951, 58815.41910226,\n",
       "       58692.64373492, 58729.67027327, 58774.17338441, 58927.37225652,\n",
       "       58653.69902755, 58896.75453992, 58611.67515675, 58815.41910226,\n",
       "       58896.75453992, 58653.69902755, 58653.69902755, 58793.62210881,\n",
       "       58579.73925029, 58756.23790981, 58826.80826505, 58674.12036658,\n",
       "       58887.04525377])"
      ]
     },
     "execution_count": 111,
     "metadata": {},
     "output_type": "execute_result"
    }
   ],
   "source": [
    "preds = lgbm_wrapper.predict(X_test)  # 예측 결과\n",
    "# pred_proba = lgbm_wrapper.predict_proba(X_test)[:, 1]  # 예측 확률\n",
    "preds"
   ]
  },
  {
   "cell_type": "code",
   "execution_count": 112,
   "metadata": {},
   "outputs": [
    {
     "data": {
      "text/html": [
       "<div>\n",
       "<style scoped>\n",
       "    .dataframe tbody tr th:only-of-type {\n",
       "        vertical-align: middle;\n",
       "    }\n",
       "\n",
       "    .dataframe tbody tr th {\n",
       "        vertical-align: top;\n",
       "    }\n",
       "\n",
       "    .dataframe thead th {\n",
       "        text-align: right;\n",
       "    }\n",
       "</style>\n",
       "<table border=\"1\" class=\"dataframe\">\n",
       "  <thead>\n",
       "    <tr style=\"text-align: right;\">\n",
       "      <th></th>\n",
       "      <th>hash-max-ziplist-entries</th>\n",
       "      <th>hash-max-ziplist-value</th>\n",
       "      <th>activerehashing</th>\n",
       "      <th>hz</th>\n",
       "      <th>dynamic-hz</th>\n",
       "    </tr>\n",
       "  </thead>\n",
       "  <tbody>\n",
       "    <tr>\n",
       "      <th>358</th>\n",
       "      <td>569</td>\n",
       "      <td>69</td>\n",
       "      <td>no</td>\n",
       "      <td>30</td>\n",
       "      <td>no</td>\n",
       "    </tr>\n",
       "  </tbody>\n",
       "</table>\n",
       "</div>"
      ],
      "text/plain": [
       "     hash-max-ziplist-entries  hash-max-ziplist-value activerehashing  hz  \\\n",
       "358                       569                      69              no  30   \n",
       "\n",
       "    dynamic-hz  \n",
       "358         no  "
      ]
     },
     "execution_count": 112,
     "metadata": {},
     "output_type": "execute_result"
    }
   ],
   "source": [
    "X_test.iloc[:1,:]"
   ]
  },
  {
   "cell_type": "code",
   "execution_count": 113,
   "metadata": {},
   "outputs": [
    {
     "data": {
      "text/plain": [
       "array([58778.24868584])"
      ]
     },
     "execution_count": 113,
     "metadata": {},
     "output_type": "execute_result"
    }
   ],
   "source": [
    "lgbm_wrapper.predict(X_test.iloc[3:4,:])"
   ]
  },
  {
   "cell_type": "code",
   "execution_count": 114,
   "metadata": {},
   "outputs": [
    {
     "data": {
      "text/html": [
       "<div>\n",
       "<style scoped>\n",
       "    .dataframe tbody tr th:only-of-type {\n",
       "        vertical-align: middle;\n",
       "    }\n",
       "\n",
       "    .dataframe tbody tr th {\n",
       "        vertical-align: top;\n",
       "    }\n",
       "\n",
       "    .dataframe thead th {\n",
       "        text-align: right;\n",
       "    }\n",
       "</style>\n",
       "<table border=\"1\" class=\"dataframe\">\n",
       "  <thead>\n",
       "    <tr style=\"text-align: right;\">\n",
       "      <th></th>\n",
       "      <th>hash-max-ziplist-entries</th>\n",
       "      <th>hash-max-ziplist-value</th>\n",
       "      <th>activerehashing</th>\n",
       "      <th>hz</th>\n",
       "      <th>dynamic-hz</th>\n",
       "      <th>save0_0</th>\n",
       "      <th>save0_1</th>\n",
       "      <th>save1_0</th>\n",
       "      <th>save1_1</th>\n",
       "      <th>save2_0</th>\n",
       "      <th>...</th>\n",
       "      <th>active-defrag-threshold-lower</th>\n",
       "      <th>active-defrag-threshold-upper</th>\n",
       "      <th>active-defrag-cycle-min</th>\n",
       "      <th>active-defrag-cycle-max</th>\n",
       "      <th>maxmemory</th>\n",
       "      <th>maxmemory-policy</th>\n",
       "      <th>maxmemory-samples</th>\n",
       "      <th>lazyfree-lazy-eviction</th>\n",
       "      <th>lazyfree-lazy-expire</th>\n",
       "      <th>lazyfree-lazy-server-del</th>\n",
       "    </tr>\n",
       "  </thead>\n",
       "  <tbody>\n",
       "    <tr>\n",
       "      <th>0</th>\n",
       "      <td>0</td>\n",
       "      <td></td>\n",
       "      <td></td>\n",
       "      <td></td>\n",
       "      <td></td>\n",
       "      <td>100</td>\n",
       "      <td>100</td>\n",
       "      <td></td>\n",
       "      <td>0</td>\n",
       "      <td>0</td>\n",
       "      <td>...</td>\n",
       "      <td></td>\n",
       "      <td></td>\n",
       "      <td></td>\n",
       "      <td>0</td>\n",
       "      <td>0</td>\n",
       "      <td></td>\n",
       "      <td>0</td>\n",
       "      <td></td>\n",
       "      <td>no</td>\n",
       "      <td></td>\n",
       "    </tr>\n",
       "  </tbody>\n",
       "</table>\n",
       "<p>1 rows × 24 columns</p>\n",
       "</div>"
      ],
      "text/plain": [
       "   hash-max-ziplist-entries hash-max-ziplist-value activerehashing hz  \\\n",
       "0                         0                                             \n",
       "\n",
       "  dynamic-hz  save0_0  save0_1 save1_0  save1_1  save2_0  ...  \\\n",
       "0                 100      100                0        0  ...   \n",
       "\n",
       "   active-defrag-threshold-lower active-defrag-threshold-upper  \\\n",
       "0                                                                \n",
       "\n",
       "  active-defrag-cycle-min active-defrag-cycle-max maxmemory maxmemory-policy  \\\n",
       "0                                               0         0                    \n",
       "\n",
       "  maxmemory-samples  lazyfree-lazy-eviction  lazyfree-lazy-expire  \\\n",
       "0                 0                                            no   \n",
       "\n",
       "  lazyfree-lazy-server-del  \n",
       "0                           \n",
       "\n",
       "[1 rows x 24 columns]"
      ]
     },
     "execution_count": 114,
     "metadata": {},
     "output_type": "execute_result"
    }
   ],
   "source": [
    "df_result_test2"
   ]
  },
  {
   "cell_type": "code",
   "execution_count": 115,
   "metadata": {},
   "outputs": [],
   "source": [
    "# lgbm_wrapper.predict(df_result_test2)"
   ]
  },
  {
   "cell_type": "code",
   "execution_count": 116,
   "metadata": {},
   "outputs": [
    {
     "data": {
      "text/plain": [
       "<AxesSubplot:title={'center':'Feature importance'}, xlabel='Feature importance', ylabel='Features'>"
      ]
     },
     "execution_count": 116,
     "metadata": {},
     "output_type": "execute_result"
    },
    {
     "data": {
      "image/png": "[encoded data removed]",
      "text/plain": [
       "<Figure size 720x864 with 1 Axes>"
      ]
     },
     "metadata": {
      "needs_background": "light"
     },
     "output_type": "display_data"
    }
   ],
   "source": [
    "# plot_importance()를 이영해 피처 중요도 시각화\n",
    "from lightgbm import plot_importance\n",
    "import matplotlib.pyplot as plt\n",
    "%matplotlib inline\n",
    "\n",
    "fig, ax = plt.subplots(figsize=(10, 12))\n",
    "plot_importance(lgbm_wrapper, ax= ax)"
   ]
  },
  {
   "cell_type": "code",
   "execution_count": 117,
   "metadata": {},
   "outputs": [
    {
     "data": {
      "text/plain": [
       "11498283.461579042"
      ]
     },
     "execution_count": 117,
     "metadata": {},
     "output_type": "execute_result"
    }
   ],
   "source": [
    "from sklearn.metrics import mean_absolute_error, mean_squared_error\n",
    "\n",
    "mse = mean_squared_error(y_test ,preds)\n",
    "mse"
   ]
  },
  {
   "cell_type": "markdown",
   "metadata": {},
   "source": [
    "### 하이퍼파라미터 튜닝"
   ]
  },
  {
   "cell_type": "code",
   "execution_count": 118,
   "metadata": {},
   "outputs": [],
   "source": [
    "# from sklearn.model_selection import GridSearchCV\n",
    "\n",
    "# # 하이퍼파라미터 튜닝시 수행 속도를 향상시키기 위해 n_estimators를 200으로 감소\n",
    "# lgbm_wrapper = LGBMRegressor(n_estimators = 200)\n",
    "\n",
    "# params = {\n",
    "#     'num_leaves':[32, 64],\n",
    "#     'max_depth':[128, 160],\n",
    "#     'min_child_samples':[60, 100],\n",
    "#     'subsample':[0.8, 1]\n",
    "# }\n",
    "\n",
    "# # cv는 3으로 가정 (교차 검증을 자동으로 해주는건가?)\n",
    "# gridcv = GridSearchCV(lgbm_wrapper, param_grid = params, cv=3)\n",
    "# gridcv.fit(X_train, y_train, early_stopping_rounds = 30, eval_metric='auc', \n",
    "#           eval_set = [(X_train, y_train), (X_test, y_test)])\n",
    "\n",
    "# print('GridSeaerchCV 최적 파라미터:', gridcv.best_params_)"
   ]
  },
  {
   "cell_type": "code",
   "execution_count": 119,
   "metadata": {
    "scrolled": true
   },
   "outputs": [],
   "source": [
    "# # 하이퍼 파라미터 적용 후 다시 생성\n",
    "# lgbm_wrapper = LGBMRegressor(n_estimators = 1000,\n",
    "#                             num_leaves = 32,\n",
    "#                             subsample=0.8,\n",
    "#                             min_child_samples=60,\n",
    "#                             max_depth=128)\n",
    "\n",
    "# evals = [(X_test, y_test)]\n",
    "\n",
    "# lgbm_wrapper.fit(X_train, y_train, early_stopping_rounds=100,\n",
    "#                 eval_metric='auc',\n",
    "#                 eval_set=evals,\n",
    "#                 verbose=True)"
   ]
  },
  {
   "cell_type": "markdown",
   "metadata": {},
   "source": [
    "---"
   ]
  },
  {
   "cell_type": "markdown",
   "metadata": {},
   "source": [
    "# BO"
   ]
  },
  {
   "cell_type": "markdown",
   "metadata": {},
   "source": [
    "## 목적함수"
   ]
  },
  {
   "cell_type": "code",
   "execution_count": 120,
   "metadata": {},
   "outputs": [],
   "source": [
    "noise_level = 0.1\n",
    "\n",
    "def objective_func(knob_value, noise_level=noise_level):\n",
    "    knob_dict = {}\n",
    "\n",
    "    for i, knob in enumerate(knobs_list): # 딕셔너리로 이동\n",
    "        knob_dict[knob] = knob_value[i]\n",
    "    \n",
    "#     # 고정\n",
    "\n",
    "#     knob_dict['hash-max-ziplist-entries'] =305\n",
    "#     knob_dict['hash-max-ziplist-value'] =157\n",
    "#     knob_dict['activerehashing'] ='yes'\n",
    "#     knob_dict['hz'] = 32\n",
    "#     knob_dict['dynamic-hz'] ='yes'\n",
    "#     knob_dict['save0_0'] = 722\n",
    "#     knob_dict['save0_1'] = 5\n",
    "#     knob_dict['save1_0'] = 475\n",
    "#     knob_dict['save1_1'] =12\n",
    "#     knob_dict['save2_0'] = 82\n",
    "#     knob_dict['save2_1'] =9163\n",
    "#     knob_dict['rdbcompression'] = 'no'\n",
    "#     knob_dict['rdbchecksum'] = 'no'\n",
    "#     knob_dict['rdb-save-incremental-fsync'] = 'no'\n",
    "#     knob_dict['active-defrag-threshold-lower'] = 13\n",
    "#     knob_dict['active-defrag-threshold-upper'] = 72\n",
    "#     knob_dict['active-defrag-cycle-min'] = 2\n",
    "#     knob_dict['active-defrag-cycle-max'] = 73\n",
    "#     knob_dict['maxmemory'] = 1221\n",
    "#     knob_dict[\"maxmemory-policy\"] = 'allkeys-random'\n",
    "#     knob_dict['maxmemory-samples'] =3\n",
    "#     knob_dict['lazyfree-lazy-eviction'] = 'no'\n",
    "#     knob_dict['lazyfree-lazy-expire'] = 'yes'\n",
    "#     knob_dict['lazyfree-lazy-server-del'] = 'no'\n",
    "        \n",
    "    if 'activedefrag' in knob_dict:\n",
    "        if knob_dict['activedefrag'] == 'no':  # activedefrag no인 경우 나머지 관련 knob들에 0할당!\n",
    "            activ_var = ['active-defrag-threshold-lower', 'active-defrag-threshold-upper', 'active-defrag-cycle-min', 'active-defrag-cycle-max']\n",
    "            for activ_knob in activ_var:\n",
    "                knob_dict[activ_knob] = 0     \n",
    "    \n",
    "    knob_df = pd.DataFrame(knob_dict, index=[0])  # 데이터 프레임으로 변환\n",
    "    \n",
    "    # 카테고리 변수 변경\n",
    "    for knob in category_knob:\n",
    "        knob_df[knob] = knob_df[knob].astype('category') \n",
    "\n",
    "    return -lgbm_wrapper.predict(knob_df)[0]\n",
    "\n",
    "\n"
   ]
  },
  {
   "cell_type": "markdown",
   "metadata": {},
   "source": [
    "## gp_minimize"
   ]
  },
  {
   "cell_type": "code",
   "execution_count": 121,
   "metadata": {},
   "outputs": [
    {
     "name": "stdout",
     "output_type": "stream",
     "text": [
      "Automatically created module for IPython interactive environment\n"
     ]
    }
   ],
   "source": [
    "%matplotlib inline\n",
    "print(__doc__)\n",
    "\n",
    "import numpy as np\n",
    "np.random.seed(237)\n",
    "import matplotlib.pyplot as plt\n",
    "from skopt.plots import plot_gaussian_process\n",
    "from skopt import gp_minimize"
   ]
  },
  {
   "cell_type": "code",
   "execution_count": 122,
   "metadata": {},
   "outputs": [],
   "source": [
    "res = gp_minimize(objective_func,                  # the function to minimize\n",
    "                  knobs_bound,      # the bounds on each dimension of x\n",
    "                  acq_func=\"EI\",      # the acquisition function\n",
    "                  n_calls=50,         # the number of evaluations of f\n",
    "                  n_random_starts=20,  # the number of random initialization points\n",
    "                  noise=0.1**2,       # the noise level (optional)\n",
    "                  random_state=1234)   # the random seed"
   ]
  },
  {
   "cell_type": "code",
   "execution_count": 123,
   "metadata": {
    "scrolled": true
   },
   "outputs": [
    {
     "data": {
      "text/plain": [
       "[308, 257, 'yes', 14, 'yes']"
      ]
     },
     "execution_count": 123,
     "metadata": {},
     "output_type": "execute_result"
    }
   ],
   "source": [
    "res.x"
   ]
  },
  {
   "cell_type": "code",
   "execution_count": 124,
   "metadata": {},
   "outputs": [
    {
     "data": {
      "text/plain": [
       "[[502, 213, 'yes', 32, 'yes'],\n",
       " [331, 64, 'yes', 7, 'no'],\n",
       " [262, 133, 'no', 33, 'no'],\n",
       " [284, 123, 'no', 13, 'no'],\n",
       " [621, 230, 'yes', 6, 'no'],\n",
       " [480, 146, 'yes', 20, 'no'],\n",
       " [538, 250, 'no', 23, 'no'],\n",
       " [442, 95, 'yes', 27, 'no'],\n",
       " [749, 182, 'yes', 38, 'yes'],\n",
       " [453, 79, 'no', 32, 'yes'],\n",
       " [296, 186, 'no', 2, 'no'],\n",
       " [491, 32, 'no', 6, 'yes'],\n",
       " [634, 106, 'no', 37, 'yes'],\n",
       " [563, 67, 'no', 27, 'yes'],\n",
       " [588, 95, 'no', 1, 'no'],\n",
       " [617, 252, 'yes', 41, 'yes'],\n",
       " [725, 157, 'yes', 8, 'no'],\n",
       " [720, 189, 'no', 36, 'no'],\n",
       " [341, 48, 'no', 2, 'yes'],\n",
       " [643, 80, 'no', 8, 'no'],\n",
       " [504, 254, 'yes', 40, 'yes'],\n",
       " [507, 175, 'yes', 32, 'yes'],\n",
       " [476, 234, 'yes', 35, 'yes'],\n",
       " [504, 253, 'yes', 40, 'yes'],\n",
       " [504, 227, 'yes', 7, 'yes'],\n",
       " [450, 257, 'yes', 6, 'yes'],\n",
       " [503, 232, 'yes', 41, 'yes'],\n",
       " [499, 231, 'yes', 2, 'yes'],\n",
       " [482, 220, 'yes', 41, 'yes'],\n",
       " [525, 251, 'no', 31, 'yes'],\n",
       " [522, 249, 'yes', 39, 'yes'],\n",
       " [485, 249, 'yes', 35, 'yes'],\n",
       " [497, 257, 'no', 22, 'yes'],\n",
       " [484, 233, 'no', 38, 'yes'],\n",
       " [495, 240, 'no', 41, 'no'],\n",
       " [479, 257, 'no', 2, 'no'],\n",
       " [665, 18, 'no', 31, 'no'],\n",
       " [501, 234, 'no', 5, 'no'],\n",
       " [281, 257, 'yes', 36, 'yes'],\n",
       " [308, 257, 'yes', 14, 'yes'],\n",
       " [318, 257, 'no', 33, 'no'],\n",
       " [322, 257, 'no', 21, 'yes'],\n",
       " [315, 227, 'yes', 33, 'yes'],\n",
       " [315, 248, 'no', 39, 'yes'],\n",
       " [338, 225, 'yes', 1, 'yes'],\n",
       " [349, 257, 'yes', 1, 'yes'],\n",
       " [337, 257, 'yes', 15, 'yes'],\n",
       " [364, 216, 'yes', 41, 'yes'],\n",
       " [372, 257, 'no', 39, 'yes'],\n",
       " [361, 241, 'no', 41, 'yes']]"
      ]
     },
     "execution_count": 124,
     "metadata": {},
     "output_type": "execute_result"
    }
   ],
   "source": [
    "res.x_iters # "
   ]
  },
  {
   "cell_type": "code",
   "execution_count": 125,
   "metadata": {},
   "outputs": [
    {
     "data": {
      "text/plain": [
       "array([-58896.75453992, -58579.73925029, -58793.62210881, -58778.24868584,\n",
       "       -58729.67027327, -58793.62210881, -58729.67027327, -58579.73925029,\n",
       "       -58815.41910226, -58756.23790981, -58825.91646389, -58729.05281268,\n",
       "       -58551.40323977, -58756.23790981, -58717.10182951, -58729.67027327,\n",
       "       -58793.62210881, -58815.41910226, -58674.12036658, -58717.10182951,\n",
       "       -58896.75453992, -58692.64373492, -58896.75453992, -58896.75453992,\n",
       "       -58896.75453992, -58687.98092326, -58896.75453992, -58896.75453992,\n",
       "       -58896.75453992, -58729.67027327, -58729.67027327, -58896.75453992,\n",
       "       -58896.75453992, -58896.75453992, -58896.75453992, -58896.75453992,\n",
       "       -58797.43238614, -58896.75453992, -58825.91646389, -58927.37225652,\n",
       "       -58611.67515675, -58927.37225652, -58927.37225652, -58927.37225652,\n",
       "       -58927.37225652, -58927.37225652, -58927.37225652, -58927.37225652,\n",
       "       -58927.37225652, -58927.37225652])"
      ]
     },
     "execution_count": 125,
     "metadata": {},
     "output_type": "execute_result"
    }
   ],
   "source": [
    "res.func_vals"
   ]
  },
  {
   "cell_type": "code",
   "execution_count": 126,
   "metadata": {},
   "outputs": [
    {
     "data": {
      "text/plain": [
       "-58927.372256519615"
      ]
     },
     "execution_count": 126,
     "metadata": {},
     "output_type": "execute_result"
    }
   ],
   "source": [
    "res.fun"
   ]
  },
  {
   "cell_type": "markdown",
   "metadata": {},
   "source": [
    "---"
   ]
  },
  {
   "cell_type": "code",
   "execution_count": 127,
   "metadata": {},
   "outputs": [],
   "source": [
    "# gp 결과 정리 함수\n",
    "def li_to_str(result_list):\n",
    "    for idx,knob in enumerate(list(knobs_rdb.keys())):  # knobs_rdb 키마다 접근\n",
    "        print(\"{} \".format(knob), end='')\n",
    "        print('{}'.format(result_list[idx]))"
   ]
  },
  {
   "cell_type": "code",
   "execution_count": 128,
   "metadata": {},
   "outputs": [
    {
     "name": "stdout",
     "output_type": "stream",
     "text": [
      "hash-max-ziplist-entries 308\n",
      "hash-max-ziplist-value 257\n",
      "activerehashing yes\n",
      "hz 14\n",
      "dynamic-hz yes\n"
     ]
    }
   ],
   "source": [
    "# gp 결과\n",
    "li_to_str(res.x)"
   ]
  },
  {
   "cell_type": "markdown",
   "metadata": {},
   "source": [
    "## gp 결과 정리\n",
    "\n",
    "### gp 분류된것\n",
    "\"hash-max-ziplist-entries\" : 284\n",
    "'hash-max-ziplist-value' 22\n",
    "'activerehashing': 'yes'\n",
    "'hz' 32\n",
    "'dynamic-hz' : 'yes'\n",
    "'save0_0' : 877\n",
    "'save0_1'2\n",
    "'save1_0'272\n",
    "'save1_1' : 12\n",
    "'save2_0'33\n",
    "'save2_1' : 11669 \n",
    "'rdbcompression'no\n",
    "'rdbchecksum' yes\n",
    "\"rdb-save-incremental-fsync\" 'no'\n",
    "'active-defrag-threshold-lower'3\n",
    "'active-defrag-threshold-upper': 87\n",
    "'active-defrag-cycle-min' : 25\n",
    "'active-defrag-cycle-max' : 80\n",
    "'maxmemory'1298\n",
    "maxmemory-policy : 'allkeys-random' \n",
    "'maxmemory-samples'6\n",
    "\"lazyfree-lazy-eviction\"  'no'\n",
    "'lazyfree-lazy-expire' yes\n",
    "'lazyfree-lazy-server-del' yes\n",
    "\n",
    "\n",
    "### gp 분류된것2\n",
    "hash-max-ziplist-entries 502\n",
    "hash-max-ziplist-value 213\n",
    "activerehashing yes\n",
    "hz 32\n",
    "dynamic-hz yes\n",
    "save0_0 760\n",
    "save0_1 3\n",
    "save1_0 426\n",
    "save1_1 24\n",
    "save2_0 37\n",
    "save2_1 8052 \n",
    "rdbcompression no\n",
    "rdbchecksum' no\n",
    "rdb-save-incremental-fsync yes\n",
    "active-defrag-threshold-lower 4\n",
    "active-defrag-threshold-upper 72\n",
    "active-defrag-cycle-min 14\n",
    "active-defrag-cycle-max 70\n",
    "maxmemory 1552\n",
    "maxmemory-policy allkeys-random\n",
    "maxmemory-samples 6\n",
    "lazyfree-lazy-eviction yes\n",
    "lazyfree-lazy-expire yes\n",
    "lazyfree-lazy-server-del no\n",
    "[575,\n",
    " 94,\n",
    " 'no',\n",
    " 10,\n",
    " 'yes',\n",
    " 1072,\n",
    " 5,\n",
    " 465,\n",
    " 24,\n",
    " 83,\n",
    " 9398,\n",
    " 'yes',\n",
    " 'yes',\n",
    " 'no',\n",
    " 26,\n",
    " 81,\n",
    " 20,\n",
    " 75,\n",
    " 1539,\n",
    " 'allkeys-lfu',\n",
    " 4,\n",
    " 'yes',\n",
    " 'no',\n",
    " 'no']\n",
    "\n",
    "### gp_T\n",
    "hash-max-ziplist-entries 575\n",
    "hash-max-ziplist-value 94\n",
    "activerehashing no\n",
    "hz 10\n",
    "dynamic-hz yes\n",
    "save0_0 1072\n",
    "save0_1 5\n",
    "save1_0 465\n",
    "save1_1 24\n",
    "save2_0 83\n",
    "save2_1 9398\n",
    "rdbcompression yes\n",
    "rdbchecksum yes\n",
    "rdb-save-incremental-fsync no\n",
    "active-defrag-threshold-lower 26\n",
    "active-defrag-threshold-upper 81\n",
    "active-defrag-cycle-min 20\n",
    "active-defrag-cycle-max 75\n",
    "maxmemory 1539\n",
    "maxmemory-policy allkeys-lfu\n",
    "maxmemory-samples 4\n",
    "lazyfree-lazy-eviction yes\n",
    "lazyfree-lazy-expire no\n",
    "lazyfree-lazy-server-del no\n",
    "\n"
   ]
  },
  {
   "cell_type": "code",
   "execution_count": null,
   "metadata": {},
   "outputs": [],
   "source": []
  }
 ],
 "metadata": {
  "kernelspec": {
   "display_name": "Python 3",
   "language": "python",
   "name": "python3"
  },
  "language_info": {
   "codemirror_mode": {
    "name": "ipython",
    "version": 3
   },
   "file_extension": ".py",
   "mimetype": "text/x-python",
   "name": "python",
   "nbconvert_exporter": "python",
   "pygments_lexer": "ipython3",
   "version": "3.8.5"
  }
 },
 "nbformat": 4,
 "nbformat_minor": 4
}
