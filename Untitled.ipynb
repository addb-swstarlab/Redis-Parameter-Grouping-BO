{
 "cells": [
  {
   "cell_type": "markdown",
   "metadata": {},
   "source": [
    "##  def ParamsToDict\n",
    "config 파일의 파라미터를 딕셔너리 값으로 채워넣는 함수\n",
    "* input : params dict ,config 파일\n",
    "* ouput : params dict\n",
    "\n"
   ]
  },
  {
   "cell_type": "code",
   "execution_count": 3,
   "metadata": {},
   "outputs": [],
   "source": [
    "dict = {\n",
    "    '1':None,\n",
    "    '2':None,\n",
    "    '3':None,\n",
    "    '4':None,\n",
    "    '5':None,\n",
    "    '6':None,\n",
    "    '7':None,\n",
    "    '8':None,\n",
    "    '9':None,\n",
    "    '10':None,\n",
    "    '11':None,\n",
    "    '12':None,\n",
    "    '13':None,\n",
    "    '14':None,\n",
    "    '15':None,\n",
    "    '16':None,\n",
    "    '17':None,\n",
    "    '18':None,\n",
    "    '19':None,\n",
    "    '20':None,\n",
    "    '21':None,\n",
    "    '22':None,\n",
    "    '23':None,\n",
    "    '24':None,\n",
    "    '25':None,\n",
    "    '26':None,\n",
    "    '27':None,\n",
    "    '28':None,\n",
    "}"
   ]
  },
  {
   "cell_type": "code",
   "execution_count": 4,
   "metadata": {},
   "outputs": [
    {
     "data": {
      "text/plain": [
       "28"
      ]
     },
     "execution_count": 4,
     "metadata": {},
     "output_type": "execute_result"
    }
   ],
   "source": [
    "len(dict)"
   ]
  },
  {
   "cell_type": "code",
   "execution_count": 14,
   "metadata": {},
   "outputs": [
    {
     "name": "stdout",
     "output_type": "stream",
     "text": [
      "27\n"
     ]
    }
   ],
   "source": [
    "params = {\n",
    "    \"appendonly\": 1,\n",
    "    \"appendfsync\": 2,\n",
    "    \"auto-aof-rewrite-percentage\": 3,\n",
    "    \"auto-aof-rewrite-min-size\": 4,\n",
    "    \"no-appendfsync-on-rewrite\": None,\n",
    "    \"aof-rewrite-incremental-fsync\": None,\n",
    "    \"aof-use-rdb-preamble\": None,\n",
    "\n",
    "    \"save\": None,\n",
    "    \"rdbcompression\": None,\n",
    "    \"rdbchecksum\": None,\n",
    "    \"rdb-save-incremental-fsync\": None,\n",
    "\n",
    "    \"activedefrag\": None,\n",
    "    \"active-defrag-threshold-lower\": None,\n",
    "    \"active-defrag-threshold-upper\": None,\n",
    "    \"active-defrag-cycle-min\": None,\n",
    "    \"active-defrag-cycle-max\": None,\n",
    "\n",
    "    \"maxmemory\": None,\n",
    "    \"maxmemory-policy\": None,\n",
    "    \"maxmemory-samples\": None,\n",
    "    \"lazyfree-lazy-eviction\": None,\n",
    "    \"lazyfree-lazy-expire\": None,\n",
    "    \"lazyfree-lazy-server-del\": None,\n",
    "\n",
    "    \"hash-max-ziplist-entries\": None,\n",
    "    \"hash-max-ziplist-value\": None,\n",
    "    \"activerehashing\": None,\n",
    "    \"hz\": None,\n",
    "    \"dynamic-hz\": None,\n",
    "}\n",
    "\n",
    "print(len(params))"
   ]
  },
  {
   "cell_type": "code",
   "execution_count": 11,
   "metadata": {},
   "outputs": [
    {
     "data": {
      "text/plain": [
       "5"
      ]
     },
     "execution_count": 11,
     "metadata": {},
     "output_type": "execute_result"
    }
   ],
   "source": [
    "params['lazyfree-lazy-server-del']"
   ]
  },
  {
   "cell_type": "code",
   "execution_count": 22,
   "metadata": {},
   "outputs": [],
   "source": [
    "dict1 = {\n",
    "    'a' : [],\n",
    "    'b' : []\n",
    "}\n",
    "\n",
    "dict2 = {\n",
    "    'a' : '22',\n",
    "    'b' : '222'\n",
    "}"
   ]
  },
  {
   "cell_type": "code",
   "execution_count": 18,
   "metadata": {},
   "outputs": [],
   "source": [
    "dict1['a'].append(dict2['a'])"
   ]
  },
  {
   "cell_type": "code",
   "execution_count": 19,
   "metadata": {},
   "outputs": [
    {
     "data": {
      "text/plain": [
       "{'a': [1], 'b': []}"
      ]
     },
     "execution_count": 19,
     "metadata": {},
     "output_type": "execute_result"
    }
   ],
   "source": [
    "dict1"
   ]
  },
  {
   "cell_type": "code",
   "execution_count": 23,
   "metadata": {},
   "outputs": [],
   "source": [
    "for name in dict1:\n",
    "    dict1[name].append(dict2[name])"
   ]
  },
  {
   "cell_type": "code",
   "execution_count": 24,
   "metadata": {},
   "outputs": [
    {
     "data": {
      "text/plain": [
       "{'a': ['22'], 'b': ['222']}"
      ]
     },
     "execution_count": 24,
     "metadata": {},
     "output_type": "execute_result"
    }
   ],
   "source": [
    "dict1"
   ]
  },
  {
   "cell_type": "code",
   "execution_count": null,
   "metadata": {},
   "outputs": [],
   "source": []
  }
 ],
 "metadata": {
  "kernelspec": {
   "display_name": "Python 3",
   "language": "python",
   "name": "python3"
  },
  "language_info": {
   "codemirror_mode": {
    "name": "ipython",
    "version": 3
   },
   "file_extension": ".py",
   "mimetype": "text/x-python",
   "name": "python",
   "nbconvert_exporter": "python",
   "pygments_lexer": "ipython3",
   "version": "3.8.5"
  }
 },
 "nbformat": 4,
 "nbformat_minor": 4
}
