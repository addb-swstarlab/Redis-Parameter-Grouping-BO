{
 "cells": [
  {
   "cell_type": "code",
   "execution_count": 1,
   "metadata": {},
   "outputs": [],
   "source": [
    "%matplotlib inline"
   ]
  },
  {
   "cell_type": "code",
   "execution_count": 2,
   "metadata": {},
   "outputs": [
    {
     "name": "stdout",
     "output_type": "stream",
     "text": [
      "Automatically created module for IPython interactive environment\n"
     ]
    }
   ],
   "source": [
    "print(__doc__)\n",
    "\n",
    "import numpy as np\n",
    "np.random.seed(237)\n",
    "import matplotlib.pyplot as plt\n",
    "from skopt.plots import plot_gaussian_process"
   ]
  },
  {
   "cell_type": "code",
   "execution_count": 22,
   "metadata": {},
   "outputs": [],
   "source": [
    "list = [(-2.0, 2.0),(-0.0010, 0.000050)]"
   ]
  },
  {
   "cell_type": "markdown",
   "metadata": {},
   "source": [
    "## Section1\n"
   ]
  },
  {
   "cell_type": "code",
   "execution_count": 29,
   "metadata": {},
   "outputs": [],
   "source": [
    "noise_level = 0.1\n",
    "\n",
    "def f(list, noise_level=noise_level):\n",
    "    print('#{}'.format(list))\n",
    "    print(np.sin(5 * list[0]) * (1 - np.tanh(list[0] ** 2))+ np.random.randn() * noise_level)\n",
    "    return np.sin(5 * list[0]) * (1 - np.tanh(list[0] ** 2))+ np.random.randn() * noise_level\n",
    "\n",
    "def f2(x, noise_level=noise_level):\n",
    "    count = 0\n",
    "    for ele in x:\n",
    "        count += 1\n",
    "    return np.sin(5 * x[0]) * (1 - np.tanh(x[0] ** 2))+ np.random.randn() * noise_level + count\n",
    "    \n"
   ]
  },
  {
   "cell_type": "markdown",
   "metadata": {},
   "source": [
    "**Note.** In `skopt`, functions $f$ are assumed to take as input a 1D\n",
    "vector $x$: represented as an array-like and to return a scalar\n",
    "$f(x)$:.\n",
    "\n",
    "functions $f$ 에 input의 x는 1차원 벡터로만 입력될 수 있다.\n",
    "\n"
   ]
  },
  {
   "cell_type": "markdown",
   "metadata": {},
   "source": [
    "---"
   ]
  },
  {
   "cell_type": "markdown",
   "metadata": {},
   "source": [
    "---"
   ]
  },
  {
   "cell_type": "code",
   "execution_count": 30,
   "metadata": {},
   "outputs": [
    {
     "name": "stdout",
     "output_type": "stream",
     "text": [
      "#[-0.009345334109402526, -0.0001412696368276019]\n",
      "-0.059802907998061254\n",
      "#[0.4484475787090836, -0.00019007208519447886]\n",
      "0.7079683157467833\n",
      "#[1.4426790855107496, -0.0008418311861135999]\n",
      "-0.03441894433824409\n",
      "#[-1.2059249638953158, -0.00014407891924644758]\n",
      "0.08712240193768502\n",
      "#[-1.364738587262254, -0.0008780552810005238]\n",
      "0.0034662360113975714\n",
      "#[1.708646575163522, -0.00013710588132848805]\n",
      "0.07808962673118046\n",
      "#[-1.899964659920435, -0.0008869843766596122]\n",
      "0.003709725034042149\n",
      "#[-0.9625291011760682, -0.000870068773728428]\n",
      "0.1927504396549588\n",
      "#[-0.03856441016237189, -0.0001422112146609774]\n",
      "-0.1644933049256717\n",
      "#[-0.08941666976773388, -0.0002915198669340978]\n",
      "-0.40740963091764915\n",
      "#[-0.23182789816502658, -0.00013725742912657673]\n",
      "-0.8744061308751964\n",
      "#[-0.2961696249771044, 4.841360817155302e-05]\n",
      "-0.883455226934396\n",
      "#[-0.3561044631996537, -0.0007132000549595224]\n",
      "-1.21123138071078\n",
      "#[-0.29763036594745995, 4.9999999999999914e-05]\n",
      "-0.9671285451347121\n",
      "#[-0.27778951953374365, -0.001]\n",
      "-1.0689915546676043\n"
     ]
    }
   ],
   "source": [
    "res = gp_minimize(f,                  # the function to minimize\n",
    "                  list,      # the bounds on each dimension of x\n",
    "                  acq_func=\"EI\",      # the acquisition function\n",
    "                  n_calls=15,         # the number of evaluations of f\n",
    "                  n_random_starts=5,  # the number of random initialization points\n",
    "                  noise=0.1**2,       # the noise level (optional)\n",
    "                  random_state=1234)   # the random seed"
   ]
  },
  {
   "cell_type": "code",
   "execution_count": null,
   "metadata": {},
   "outputs": [],
   "source": [
    "res"
   ]
  },
  {
   "cell_type": "markdown",
   "metadata": {},
   "source": [
    "## Section3"
   ]
  },
  {
   "cell_type": "markdown",
   "metadata": {},
   "source": [
    "Bayesian optimization based on gaussian process regression is implemented in\n",
    ":class:`gp_minimize` and can be carried out as follows:\n",
    "\n"
   ]
  },
  {
   "cell_type": "code",
   "execution_count": 9,
   "metadata": {
    "scrolled": true
   },
   "outputs": [],
   "source": [
    "from skopt import gp_minimize\n",
    "\n",
    "res = gp_minimize(f,                  # the function to minimize\n",
    "                  [(-2.0, 2.0), ('yes', 'no')],   # 파라미터 범위 설정\n",
    "                  acq_func=\"EI\",      # the acquisition function\n",
    "                  n_calls=4,         # the number of evaluations of f\n",
    "                  n_initial_points=1,  # the number of random initialization points\n",
    "                  noise=0.1**2,       # the noise level (optional)\n",
    "                  x0 = [[0.958, 'yes'], [0.566, 'no']],  # 파라미터 sample 값 삽입\n",
    "                  y0 = [0.6, 0.6],         # throughput 값 삽입\n",
    "                  random_state=1234)   # the random seed"
   ]
  },
  {
   "cell_type": "code",
   "execution_count": 10,
   "metadata": {
    "scrolled": true
   },
   "outputs": [
    {
     "data": {
      "text/plain": [
       "[GaussianProcessRegressor(kernel=1**2 * Matern(length_scale=[1, 1], nu=2.5) + WhiteKernel(noise_level=0.01),\n",
       "                          n_restarts_optimizer=2, noise=0.010000000000000002,\n",
       "                          normalize_y=True, random_state=822569775),\n",
       " GaussianProcessRegressor(kernel=1**2 * Matern(length_scale=[1, 1], nu=2.5) + WhiteKernel(noise_level=0.01),\n",
       "                          n_restarts_optimizer=2, noise=0.010000000000000002,\n",
       "                          normalize_y=True, random_state=822569775),\n",
       " GaussianProcessRegressor(kernel=1**2 * Matern(length_scale=[1, 1], nu=2.5) + WhiteKernel(noise_level=0.01),\n",
       "                          n_restarts_optimizer=2, noise=0.010000000000000002,\n",
       "                          normalize_y=True, random_state=822569775),\n",
       " GaussianProcessRegressor(kernel=1**2 * Matern(length_scale=[1, 1], nu=2.5) + WhiteKernel(noise_level=0.01),\n",
       "                          n_restarts_optimizer=2, noise=0.010000000000000002,\n",
       "                          normalize_y=True, random_state=822569775)]"
      ]
     },
     "execution_count": 10,
     "metadata": {},
     "output_type": "execute_result"
    }
   ],
   "source": [
    "res.models"
   ]
  },
  {
   "cell_type": "code",
   "execution_count": null,
   "metadata": {},
   "outputs": [],
   "source": []
  }
 ],
 "metadata": {
  "kernelspec": {
   "display_name": "Python 3",
   "language": "python",
   "name": "python3"
  },
  "language_info": {
   "codemirror_mode": {
    "name": "ipython",
    "version": 3
   },
   "file_extension": ".py",
   "mimetype": "text/x-python",
   "name": "python",
   "nbconvert_exporter": "python",
   "pygments_lexer": "ipython3",
   "version": "3.8.5"
  }
 },
 "nbformat": 4,
 "nbformat_minor": 1
}
