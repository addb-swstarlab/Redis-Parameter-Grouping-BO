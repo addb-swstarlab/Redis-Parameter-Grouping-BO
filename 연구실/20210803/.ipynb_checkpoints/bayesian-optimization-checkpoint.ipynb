{
 "cells": [
  {
   "cell_type": "code",
   "execution_count": 1,
   "metadata": {},
   "outputs": [],
   "source": [
    "%matplotlib inline"
   ]
  },
  {
   "cell_type": "code",
   "execution_count": 2,
   "metadata": {},
   "outputs": [
    {
     "name": "stdout",
     "output_type": "stream",
     "text": [
      "Automatically created module for IPython interactive environment\n"
     ]
    }
   ],
   "source": [
    "print(__doc__)\n",
    "\n",
    "import numpy as np\n",
    "np.random.seed(237)\n",
    "import matplotlib.pyplot as plt\n",
    "from skopt.plots import plot_gaussian_process"
   ]
  },
  {
   "cell_type": "markdown",
   "metadata": {},
   "source": [
    "## Section1\n"
   ]
  },
  {
   "cell_type": "code",
   "execution_count": 56,
   "metadata": {},
   "outputs": [],
   "source": [
    "noise_level = 0.1\n",
    "\n",
    "# surrogate model\n",
    "def f(x, noise_level=noise_level):\n",
    "    return np.sin(5 * x[0]) * (1 - np.tanh(x[0] ** 2))+ np.random.randn() * noise_level"
   ]
  },
  {
   "cell_type": "markdown",
   "metadata": {},
   "source": [
    "**Note.** In `skopt`, functions $f$ are assumed to take as input a 1D\n",
    "vector $x$: represented as an array-like and to return a scalar\n",
    "$f(x)$:.\n",
    "\n",
    "functions $f$ 에 input의 x는 1차원 벡터로만 입력될 수 있다.\n",
    "\n"
   ]
  },
  {
   "cell_type": "markdown",
   "metadata": {},
   "source": [
    "---"
   ]
  },
  {
   "cell_type": "markdown",
   "metadata": {},
   "source": [
    "## Section2"
   ]
  },
  {
   "cell_type": "code",
   "execution_count": 4,
   "metadata": {
    "scrolled": true
   },
   "outputs": [
    {
     "data": {
      "image/png": "[encoded data removed]",
      "text/plain": [
       "<Figure size 432x288 with 1 Axes>"
      ]
     },
     "metadata": {
      "needs_background": "light"
     },
     "output_type": "display_data"
    }
   ],
   "source": [
    "# Plot f(x) + contours\n",
    "## 이 부분에 그 샘플 데이터를 넣는걸까..?\n",
    "### 열벡터? 로 쭈욱 바꾸었다. \n",
    "x = np.linspace(-2, 2, 400).reshape(-1, 1)  \n",
    "\n",
    "\n",
    "fx = [f(x_i, noise_level=0.0) for x_i in x]\n",
    "\n",
    "plt.plot(x, fx, \"r--\", label=\"True (unknown)\")\n",
    "plt.fill(np.concatenate([x, x[::-1]]),\n",
    "         np.concatenate(([fx_i - 1.9600 * noise_level for fx_i in fx],\n",
    "                         [fx_i + 1.9600 * noise_level for fx_i in fx[::-1]])),\n",
    "         alpha=.2, fc=\"r\", ec=\"None\")\n",
    "plt.legend()\n",
    "plt.grid()\n",
    "plt.show()"
   ]
  },
  {
   "cell_type": "markdown",
   "metadata": {},
   "source": [
    "### code1"
   ]
  },
  {
   "cell_type": "code",
   "execution_count": 7,
   "metadata": {},
   "outputs": [],
   "source": [
    "x = np.linspace(-2, 2, 400).reshape(-1, 1)  "
   ]
  },
  {
   "cell_type": "code",
   "execution_count": 6,
   "metadata": {
    "scrolled": false
   },
   "outputs": [
    {
     "ename": "NameError",
     "evalue": "name 'x_testss' is not defined",
     "output_type": "error",
     "traceback": [
      "\u001b[0;31m---------------------------------------------------------------------------\u001b[0m",
      "\u001b[0;31mNameError\u001b[0m                                 Traceback (most recent call last)",
      "\u001b[0;32m<ipython-input-6-f254c5cf8537>\u001b[0m in \u001b[0;36m<module>\u001b[0;34m\u001b[0m\n\u001b[1;32m      1\u001b[0m \u001b[0mx_test\u001b[0m \u001b[0;34m=\u001b[0m \u001b[0mnp\u001b[0m\u001b[0;34m.\u001b[0m\u001b[0mlinspace\u001b[0m\u001b[0;34m(\u001b[0m\u001b[0;34m-\u001b[0m\u001b[0;36m2\u001b[0m\u001b[0;34m,\u001b[0m \u001b[0;36m2\u001b[0m\u001b[0;34m,\u001b[0m \u001b[0;36m400\u001b[0m\u001b[0;34m)\u001b[0m\u001b[0;34m\u001b[0m\u001b[0;34m\u001b[0m\u001b[0m\n\u001b[0;32m----> 2\u001b[0;31m \u001b[0mx_testss\u001b[0m\u001b[0;34m\u001b[0m\u001b[0;34m\u001b[0m\u001b[0m\n\u001b[0m",
      "\u001b[0;31mNameError\u001b[0m: name 'x_testss' is not defined"
     ]
    }
   ],
   "source": [
    "x_test = np.linspace(-2, 2, 400)\n",
    "x_test"
   ]
  },
  {
   "cell_type": "code",
   "execution_count": 17,
   "metadata": {},
   "outputs": [
    {
     "name": "stdout",
     "output_type": "stream",
     "text": [
      "1\n",
      "(400,)\n"
     ]
    }
   ],
   "source": [
    "print(x_test.ndim)\n",
    "print(x_test.shape)"
   ]
  },
  {
   "cell_type": "code",
   "execution_count": 5,
   "metadata": {
    "scrolled": false
   },
   "outputs": [
    {
     "ename": "NameError",
     "evalue": "name 'x_test' is not defined",
     "output_type": "error",
     "traceback": [
      "\u001b[0;31m---------------------------------------------------------------------------\u001b[0m",
      "\u001b[0;31mNameError\u001b[0m                                 Traceback (most recent call last)",
      "\u001b[0;32m<ipython-input-5-0030a9239641>\u001b[0m in \u001b[0;36m<module>\u001b[0;34m\u001b[0m\n\u001b[1;32m      1\u001b[0m \u001b[0;31m# 열의 개수를 1로 지정하고 행은 자동적으로 채워지게 한다.\u001b[0m\u001b[0;34m\u001b[0m\u001b[0;34m\u001b[0m\u001b[0;34m\u001b[0m\u001b[0m\n\u001b[0;32m----> 2\u001b[0;31m \u001b[0mx_test\u001b[0m\u001b[0;34m.\u001b[0m\u001b[0mreshape\u001b[0m\u001b[0;34m(\u001b[0m\u001b[0;34m-\u001b[0m\u001b[0;36m1\u001b[0m\u001b[0;34m,\u001b[0m \u001b[0;36m1\u001b[0m\u001b[0;34m)\u001b[0m\u001b[0;34m.\u001b[0m\u001b[0mhead\u001b[0m\u001b[0;34m(\u001b[0m\u001b[0;34m)\u001b[0m\u001b[0;34m\u001b[0m\u001b[0;34m\u001b[0m\u001b[0m\n\u001b[0m",
      "\u001b[0;31mNameError\u001b[0m: name 'x_test' is not defined"
     ]
    }
   ],
   "source": [
    "# 열의 개수를 1로 지정하고 행은 자동적으로 채워지게 한다.\n",
    "x_test.reshape(-1, 1)"
   ]
  },
  {
   "cell_type": "code",
   "execution_count": 19,
   "metadata": {},
   "outputs": [
    {
     "name": "stdout",
     "output_type": "stream",
     "text": [
      "2\n",
      "(400, 1)\n"
     ]
    }
   ],
   "source": [
    "print(x_test.reshape(-1, 1).ndim)\n",
    "print(x_test.reshape(-1, 1).shape)"
   ]
  },
  {
   "cell_type": "markdown",
   "metadata": {},
   "source": [
    "### code2"
   ]
  },
  {
   "cell_type": "code",
   "execution_count": 8,
   "metadata": {},
   "outputs": [],
   "source": [
    "fx = [f(x_i, noise_level=0.0) for x_i in x]"
   ]
  },
  {
   "cell_type": "code",
   "execution_count": 13,
   "metadata": {
    "collapsed": true
   },
   "outputs": [
    {
     "data": {
      "text/plain": [
       "[0.0003648751010265424,\n",
       " 0.00036421223666233815,\n",
       " 0.0003597733052662445,\n",
       " 0.0003509804774107912,\n",
       " 0.0003372065643243921,\n",
       " 0.00031777348010165996,\n",
       " 0.000291950955175524,\n",
       " 0.0002589555471380062,\n",
       " 0.00021794999817574204,\n",
       " 0.0001680429914818202,\n",
       " 0.0001082893619733421,\n",
       " 3.769081943515142e-05,\n",
       " -4.480275522157838e-05,\n",
       " -0.0001402913776115492,\n",
       " -0.00024992232651493035,\n",
       " -0.0003748867430326728,\n",
       " -0.0005164153947024017,\n",
       " -0.0006757735364691467,\n",
       " -0.000854254800457513,\n",
       " -0.0010531740472204739,\n",
       " -0.0012738591126174477,\n",
       " -0.0015176413867759545,\n",
       " -0.0017858451647932566,\n",
       " -0.0020797757130065755,\n",
       " -0.0024007059998828136,\n",
       " -0.0027498620469113286,\n",
       " -0.0031284068624022354,\n",
       " -0.003537422929851427,\n",
       " -0.003977893232590894,\n",
       " -0.004450680807846183,\n",
       " -0.0049565068361098145,\n",
       " -0.005495927285937387,\n",
       " -0.00606930814990027,\n",
       " -0.006676799324485623,\n",
       " -0.007318307205208204,\n",
       " -0.007993466088060444,\n",
       " -0.008701608489628159,\n",
       " -0.009441734520667683,\n",
       " -0.010212480471590634,\n",
       " -0.01101208679301619,\n",
       " -0.011838365680188718,\n",
       " -0.012688668496455585,\n",
       " -0.013559853297968782,\n",
       " -0.01444825274907599,\n",
       " -0.015349642745277198,\n",
       " -0.016259212087833052,\n",
       " -0.017171533580835334,\n",
       " -0.018080536947429667,\n",
       " -0.018979483986561883,\n",
       " -0.019860946414693794,\n",
       " -0.020716786857989524,\n",
       " -0.02153814347905717,\n",
       " -0.02231541873797766,\n",
       " -0.02303827279957997,\n",
       " -0.02369562210723039,\n",
       " -0.02427564364728668,\n",
       " -0.024765785427317766,\n",
       " -0.025152783684703386,\n",
       " -0.025422687329807694,\n",
       " -0.025560890109093664,\n",
       " -0.025552170947866992,\n",
       " -0.025380742899390494,\n",
       " -0.0250303110865388,\n",
       " -0.02448413997365797,\n",
       " -0.02372513024961424,\n",
       " -0.0227359055380139,\n",
       " -0.021498909077170208,\n",
       " -0.01999651043063219,\n",
       " -0.018211122199112726,\n",
       " -0.016125326606732406,\n",
       " -0.013722011729041812,\n",
       " -0.010984517017831387,\n",
       " -0.007896787658989069,\n",
       " -0.004443537175464265,\n",
       " -0.0006104175587436975,\n",
       " 0.003615803919693456,\n",
       " 0.00824706219938281,\n",
       " 0.013293807341199186,\n",
       " 0.018764814107153104,\n",
       " 0.02466698959026749,\n",
       " 0.03100518040088444,\n",
       " 0.03778198103482419,\n",
       " 0.04499754515919871,\n",
       " 0.05264940165128234,\n",
       " 0.06073227731256531,\n",
       " 0.06923792825188557,\n",
       " 0.0781549819863012,\n",
       " 0.08746879234420057,\n",
       " 0.09716130927022043,\n",
       " 0.10721096562420653,\n",
       " 0.11759258303527394,\n",
       " 0.12827729881581038,\n",
       " 0.13923251585811625,\n",
       " 0.15042187732772894,\n",
       " 0.16180526783209542,\n",
       " 0.17333884258133767,\n",
       " 0.18497508586994924,\n",
       " 0.19666289999538458,\n",
       " 0.20834772549307334,\n",
       " 0.21997169330928001,\n",
       " 0.23147380925570013,\n",
       " 0.24279017079542295,\n",
       " 0.2538542159019588,\n",
       " 0.264597003414798,\n",
       " 0.2749475239901538,\n",
       " 0.2848330404180312,\n",
       " 0.29417945575070514,\n",
       " 0.3029117073672666,\n",
       " 0.31095418478840214,\n",
       " 0.31823116875922935,\n",
       " 0.3246672888399618,\n",
       " 0.3301879964883803,\n",
       " 0.33472005038824637,\n",
       " 0.3381920105773107,\n",
       " 0.3405347377604387,\n",
       " 0.3416818940601865,\n",
       " 0.3415704413609951,\n",
       " 0.34014113334558627,\n",
       " 0.3373389973041782,\n",
       " 0.33311380181921785,\n",
       " 0.3274205064903307,\n",
       " 0.32021968996545036,\n",
       " 0.3114779526833229,\n",
       " 0.3011682909080734,\n",
       " 0.28927043884598624,\n",
       " 0.2757711758754302,\n",
       " 0.2606645961898647,\n",
       " 0.24395233844771128,\n",
       " 0.225643773337896,\n",
       " 0.20575614730222205,\n",
       " 0.1843146810014234,\n",
       " 0.16135262146674773,\n",
       " 0.13691124723917342,\n",
       " 0.11103982615993037,\n",
       " 0.08379552583500345,\n",
       " 0.05524327714910446,\n",
       " 0.025455591547759525,\n",
       " -0.0054876668634923,\n",
       " -0.03749955303912989,\n",
       " -0.070486354872824,\n",
       " -0.10434794729967378,\n",
       " -0.13897818443171622,\n",
       " -0.17426532730699,\n",
       " -0.2100925046274283,\n",
       " -0.24633820368155201,\n",
       " -0.28287678849479675,\n",
       " -0.31957904212348354,\n",
       " -0.3563127299077729,\n",
       " -0.3929431804240215,\n",
       " -0.4293338808271055,\n",
       " -0.46534708324763374,\n",
       " -0.5008444189064816,\n",
       " -0.5356875166285164,\n",
       " -0.5697386224774162,\n",
       " -0.6028612172926832,\n",
       " -0.6349206289868009,\n",
       " -0.6657846365534383,\n",
       " -0.6953240628450648,\n",
       " -0.723413353298768,\n",
       " -0.7499311379208674,\n",
       " -0.7747607739825696,\n",
       " -0.7977908670289514,\n",
       " -0.818915767960535,\n",
       " -0.8380360441093129,\n",
       " -0.8550589223979742,\n",
       " -0.8698987028411198,\n",
       " -0.8824771408192863,\n",
       " -0.8927237967296217,\n",
       " -0.9005763517901245,\n",
       " -0.9059808889466212,\n",
       " -0.9088921380023413,\n",
       " -0.9092736842583855,\n",
       " -0.9070981401189446,\n",
       " -0.902347279277291,\n",
       " -0.8950121332568771,\n",
       " -0.885093050235919,\n",
       " -0.8725997162332981,\n",
       " -0.8575511388781905,\n",
       " -0.8399755941252982,\n",
       " -0.8199105364117245,\n",
       " -0.7974024728802579,\n",
       " -0.7725068024169954,\n",
       " -0.7452876203687624,\n",
       " -0.7158174899176166,\n",
       " -0.6841771811958378,\n",
       " -0.6504553793251702,\n",
       " -0.6147483626587253,\n",
       " -0.5771596525928718,\n",
       " -0.5377996363996669,\n",
       " -0.4967851646079601,\n",
       " -0.4542391245332514,\n",
       " -0.4102899916227778,\n",
       " -0.3650713603431516,\n",
       " -0.31872145639326,\n",
       " -0.27138263207507485,\n",
       " -0.2232008466995774,\n",
       " -0.17432513394421043,\n",
       " -0.12490705811216475,\n",
       " -0.07510016127243002,\n",
       " -0.025059403282913763,\n",
       " 0.025059403282912653,\n",
       " 0.07510016127242782,\n",
       " 0.12490705811216364,\n",
       " 0.17432513394421043,\n",
       " 0.22320084669957632,\n",
       " 0.2713826320750727,\n",
       " 0.31872145639325894,\n",
       " 0.3650713603431516,\n",
       " 0.41028999162277674,\n",
       " 0.45423912453324944,\n",
       " 0.4967851646079591,\n",
       " 0.5377996363996669,\n",
       " 0.5771596525928709,\n",
       " 0.6147483626587237,\n",
       " 0.6504553793251694,\n",
       " 0.6841771811958378,\n",
       " 0.715817489917616,\n",
       " 0.7452876203687612,\n",
       " 0.7725068024169949,\n",
       " 0.7974024728802579,\n",
       " 0.8199105364117241,\n",
       " 0.8399755941252973,\n",
       " 0.8575511388781901,\n",
       " 0.8725997162332981,\n",
       " 0.8850930502359188,\n",
       " 0.8950121332568768,\n",
       " 0.902347279277291,\n",
       " 0.9070981401189446,\n",
       " 0.9092736842583855,\n",
       " 0.9088921380023415,\n",
       " 0.9059808889466214,\n",
       " 0.9005763517901245,\n",
       " 0.8927237967296219,\n",
       " 0.8824771408192869,\n",
       " 0.8698987028411203,\n",
       " 0.8550589223979742,\n",
       " 0.8380360441093133,\n",
       " 0.8189157679605359,\n",
       " 0.7977908670289519,\n",
       " 0.7747607739825696,\n",
       " 0.749931137920868,\n",
       " 0.7234133532987692,\n",
       " 0.6953240628450655,\n",
       " 0.6657846365534383,\n",
       " 0.6349206289868015,\n",
       " 0.6028612172926845,\n",
       " 0.5697386224774171,\n",
       " 0.5356875166285164,\n",
       " 0.5008444189064822,\n",
       " 0.46534708324763524,\n",
       " 0.4293338808271065,\n",
       " 0.3929431804240215,\n",
       " 0.3563127299077736,\n",
       " 0.3195790421234852,\n",
       " 0.2828767884947977,\n",
       " 0.24633820368155201,\n",
       " 0.21009250462742898,\n",
       " 0.17426532730699157,\n",
       " 0.13897818443171714,\n",
       " 0.10434794729967378,\n",
       " 0.07048635487282459,\n",
       " 0.037499553039131335,\n",
       " 0.005487666863493136,\n",
       " -0.025455591547759525,\n",
       " -0.05524327714910395,\n",
       " -0.08379552583500222,\n",
       " -0.11103982615992965,\n",
       " -0.13691124723917342,\n",
       " -0.16135262146674728,\n",
       " -0.18431468100142243,\n",
       " -0.20575614730222147,\n",
       " -0.225643773337896,\n",
       " -0.243952338447711,\n",
       " -0.26066459618986404,\n",
       " -0.2757711758754299,\n",
       " -0.28927043884598624,\n",
       " -0.30116829090807323,\n",
       " -0.31147795268332246,\n",
       " -0.3202196899654502,\n",
       " -0.3274205064903307,\n",
       " -0.33311380181921774,\n",
       " -0.3373389973041782,\n",
       " -0.34014113334558604,\n",
       " -0.3415704413609951,\n",
       " -0.34168189406018656,\n",
       " -0.34053473776043863,\n",
       " -0.33819201057731085,\n",
       " -0.33472005038824637,\n",
       " -0.3301879964883803,\n",
       " -0.3246672888399621,\n",
       " -0.31823116875922947,\n",
       " -0.31095418478840214,\n",
       " -0.3029117073672668,\n",
       " -0.29417945575070553,\n",
       " -0.2848330404180314,\n",
       " -0.2749475239901538,\n",
       " -0.26459700341479825,\n",
       " -0.2538542159019592,\n",
       " -0.24279017079542325,\n",
       " -0.23147380925570013,\n",
       " -0.2199716933092803,\n",
       " -0.20834772549307384,\n",
       " -0.19666289999538478,\n",
       " -0.18497508586994924,\n",
       " -0.17333884258133786,\n",
       " -0.1618052678320959,\n",
       " -0.15042187732772921,\n",
       " -0.13923251585811625,\n",
       " -0.12827729881581054,\n",
       " -0.11759258303527446,\n",
       " -0.1072109656242067,\n",
       " -0.09716130927022043,\n",
       " -0.08746879234420082,\n",
       " -0.0781549819863016,\n",
       " -0.06923792825188582,\n",
       " -0.06073227731256531,\n",
       " -0.052649401651282485,\n",
       " -0.04499754515919909,\n",
       " -0.037781981034824316,\n",
       " -0.03100518040088444,\n",
       " -0.024666989590267606,\n",
       " -0.018764814107153315,\n",
       " -0.013293807341199365,\n",
       " -0.00824706219938281,\n",
       " -0.003615803919693531,\n",
       " 0.0006104175587434826,\n",
       " 0.004443537175464203,\n",
       " 0.007896787658989069,\n",
       " 0.010984517017831342,\n",
       " 0.013722011729041719,\n",
       " 0.016125326606732326,\n",
       " 0.018211122199112726,\n",
       " 0.01999651043063218,\n",
       " 0.021498909077170118,\n",
       " 0.02273590553801391,\n",
       " 0.02372513024961424,\n",
       " 0.02448413997365793,\n",
       " 0.025030311086538796,\n",
       " 0.025380742899390435,\n",
       " 0.025552170947866992,\n",
       " 0.02556089010909364,\n",
       " 0.02542268732980771,\n",
       " 0.02515278368470345,\n",
       " 0.024765785427317766,\n",
       " 0.024275643647286665,\n",
       " 0.023695622107230366,\n",
       " 0.023038272799579953,\n",
       " 0.02231541873797766,\n",
       " 0.021538143479057262,\n",
       " 0.020716786857989503,\n",
       " 0.019860946414693787,\n",
       " 0.018979483986561883,\n",
       " 0.018080536947429664,\n",
       " 0.017171533580835438,\n",
       " 0.016259212087833163,\n",
       " 0.015349642745277198,\n",
       " 0.01444825274907599,\n",
       " 0.013559853297968782,\n",
       " 0.012688668496455587,\n",
       " 0.011838365680188718,\n",
       " 0.011012086793016193,\n",
       " 0.01021248047159064,\n",
       " 0.009441734520667688,\n",
       " 0.008701608489628159,\n",
       " 0.007993466088060444,\n",
       " 0.00731830720520821,\n",
       " 0.006676799324485721,\n",
       " 0.00606930814990027,\n",
       " 0.005495927285937394,\n",
       " 0.004956506836109821,\n",
       " 0.004450680807846189,\n",
       " 0.003977893232590894,\n",
       " 0.003537422929851433,\n",
       " 0.003128406862402248,\n",
       " 0.0027498620469113286,\n",
       " 0.0024007059998828136,\n",
       " 0.0020797757130065807,\n",
       " 0.0017858451647932622,\n",
       " 0.0015176413867759595,\n",
       " 0.0012738591126174477,\n",
       " 0.0010531740472204739,\n",
       " 0.0008542548004575177,\n",
       " 0.0006757735364691467,\n",
       " 0.0005164153947024017,\n",
       " 0.00037488674303267657,\n",
       " 0.0002499223265149338,\n",
       " 0.00014029137761155245,\n",
       " 4.480275522157838e-05,\n",
       " -3.769081943514861e-05,\n",
       " -0.00010828936197333689,\n",
       " -0.0001680429914818202,\n",
       " -0.00021794999817574204,\n",
       " -0.0002589555471380042,\n",
       " -0.0002919509551755221,\n",
       " -0.00031777348010165833,\n",
       " -0.0003372065643243921,\n",
       " -0.0003509804774107912,\n",
       " -0.00035977330526624325,\n",
       " -0.00036421223666233815,\n",
       " -0.0003648751010265424]"
      ]
     },
     "execution_count": 13,
     "metadata": {},
     "output_type": "execute_result"
    }
   ],
   "source": [
    "# 리스트 형식\n",
    "fx"
   ]
  },
  {
   "cell_type": "code",
   "execution_count": 18,
   "metadata": {},
   "outputs": [
    {
     "data": {
      "text/plain": [
       "[<matplotlib.lines.Line2D at 0x7fb2f583e430>]"
      ]
     },
     "execution_count": 18,
     "metadata": {},
     "output_type": "execute_result"
    },
    {
     "data": {
      "image/png": "[encoded data removed]",
      "text/plain": [
       "<Figure size 432x288 with 1 Axes>"
      ]
     },
     "metadata": {
      "needs_background": "light"
     },
     "output_type": "display_data"
    }
   ],
   "source": [
    "plt.plot(x, fx, \"r--\", label=\"True (unknown)\")"
   ]
  },
  {
   "cell_type": "code",
   "execution_count": 19,
   "metadata": {},
   "outputs": [
    {
     "data": {
      "text/plain": [
       "[<matplotlib.patches.Polygon at 0x7fb2f5a974f0>]"
      ]
     },
     "execution_count": 19,
     "metadata": {},
     "output_type": "execute_result"
    },
    {
     "data": {
      "image/png": "[encoded data removed]",
      "text/plain": [
       "<Figure size 432x288 with 1 Axes>"
      ]
     },
     "metadata": {
      "needs_background": "light"
     },
     "output_type": "display_data"
    }
   ],
   "source": [
    "plt.fill(np.concatenate([x, x[::-1]]),\n",
    "         np.concatenate(([fx_i - 1.9600 * noise_level for fx_i in fx],\n",
    "                         [fx_i + 1.9600 * noise_level for fx_i in fx[::-1]])),\n",
    "         alpha=.2, fc=\"r\", ec=\"None\")"
   ]
  },
  {
   "cell_type": "markdown",
   "metadata": {},
   "source": [
    "---"
   ]
  },
  {
   "cell_type": "markdown",
   "metadata": {},
   "source": [
    "## Section3"
   ]
  },
  {
   "cell_type": "markdown",
   "metadata": {},
   "source": [
    "Bayesian optimization based on gaussian process regression is implemented in\n",
    ":class:`gp_minimize` and can be carried out as follows:\n",
    "\n"
   ]
  },
  {
   "cell_type": "code",
   "execution_count": 57,
   "metadata": {},
   "outputs": [],
   "source": [
    "from skopt import gp_minimize\n",
    "\n",
    "res = gp_minimize(f,                  # the function to minimize\n",
    "                  [(-2.0, 2.0), (-2.0, 2.0)],   # the bounds on each dimension of x\n",
    "                  acq_func=\"EI\",      # the acquisition function\n",
    "                  n_calls=15,         # the number of evaluations of f\n",
    "                  n_random_starts=5,  # the number of random initialization points\n",
    "                  noise=0.1**2,       # the noise level (optional)\n",
    "                  random_state=1234)   # the random seed"
   ]
  },
  {
   "cell_type": "code",
   "execution_count": 46,
   "metadata": {
    "scrolled": false
   },
   "outputs": [
    {
     "data": {
      "text/plain": [
       "          fun: -0.992097097234359\n",
       "    func_vals: array([-0.04940912,  0.67875253,  0.06429957,  0.03195604, -0.1234569 ,\n",
       "       -0.16592245,  0.15283816, -0.00862513,  0.06259111, -0.96664247,\n",
       "       -0.9920971 , -0.89181351, -0.91172898, -0.30775036, -0.94188723])\n",
       "       models: [GaussianProcessRegressor(kernel=1**2 * Matern(length_scale=[1, 1], nu=2.5) + WhiteKernel(noise_level=0.01),\n",
       "                         n_restarts_optimizer=2, noise=0.010000000000000002,\n",
       "                         normalize_y=True, random_state=822569775), GaussianProcessRegressor(kernel=1**2 * Matern(length_scale=[1, 1], nu=2.5) + WhiteKernel(noise_level=0.01),\n",
       "                         n_restarts_optimizer=2, noise=0.010000000000000002,\n",
       "                         normalize_y=True, random_state=822569775), GaussianProcessRegressor(kernel=1**2 * Matern(length_scale=[1, 1], nu=2.5) + WhiteKernel(noise_level=0.01),\n",
       "                         n_restarts_optimizer=2, noise=0.010000000000000002,\n",
       "                         normalize_y=True, random_state=822569775), GaussianProcessRegressor(kernel=1**2 * Matern(length_scale=[1, 1], nu=2.5) + WhiteKernel(noise_level=0.01),\n",
       "                         n_restarts_optimizer=2, noise=0.010000000000000002,\n",
       "                         normalize_y=True, random_state=822569775), GaussianProcessRegressor(kernel=1**2 * Matern(length_scale=[1, 1], nu=2.5) + WhiteKernel(noise_level=0.01),\n",
       "                         n_restarts_optimizer=2, noise=0.010000000000000002,\n",
       "                         normalize_y=True, random_state=822569775), GaussianProcessRegressor(kernel=1**2 * Matern(length_scale=[1, 1], nu=2.5) + WhiteKernel(noise_level=0.01),\n",
       "                         n_restarts_optimizer=2, noise=0.010000000000000002,\n",
       "                         normalize_y=True, random_state=822569775), GaussianProcessRegressor(kernel=1**2 * Matern(length_scale=[1, 1], nu=2.5) + WhiteKernel(noise_level=0.01),\n",
       "                         n_restarts_optimizer=2, noise=0.010000000000000002,\n",
       "                         normalize_y=True, random_state=822569775), GaussianProcessRegressor(kernel=1**2 * Matern(length_scale=[1, 1], nu=2.5) + WhiteKernel(noise_level=0.01),\n",
       "                         n_restarts_optimizer=2, noise=0.010000000000000002,\n",
       "                         normalize_y=True, random_state=822569775), GaussianProcessRegressor(kernel=1**2 * Matern(length_scale=[1, 1], nu=2.5) + WhiteKernel(noise_level=0.01),\n",
       "                         n_restarts_optimizer=2, noise=0.010000000000000002,\n",
       "                         normalize_y=True, random_state=822569775), GaussianProcessRegressor(kernel=1**2 * Matern(length_scale=[1, 1], nu=2.5) + WhiteKernel(noise_level=0.01),\n",
       "                         n_restarts_optimizer=2, noise=0.010000000000000002,\n",
       "                         normalize_y=True, random_state=822569775), GaussianProcessRegressor(kernel=1**2 * Matern(length_scale=[1, 1], nu=2.5) + WhiteKernel(noise_level=0.01),\n",
       "                         n_restarts_optimizer=2, noise=0.010000000000000002,\n",
       "                         normalize_y=True, random_state=822569775)]\n",
       " random_state: RandomState(MT19937) at 0x7FB2F15AC040\n",
       "        space: Space([Real(low=-2.0, high=2.0, prior='uniform', transform='normalize'),\n",
       "       Real(low=-2.0, high=2.0, prior='uniform', transform='normalize')])\n",
       "        specs: {'args': {'func': <function f at 0x7fb2f1e90790>, 'dimensions': Space([Real(low=-2.0, high=2.0, prior='uniform', transform='normalize'),\n",
       "       Real(low=-2.0, high=2.0, prior='uniform', transform='normalize')]), 'base_estimator': GaussianProcessRegressor(kernel=1**2 * Matern(length_scale=[1, 1], nu=2.5),\n",
       "                         n_restarts_optimizer=2, noise=0.010000000000000002,\n",
       "                         normalize_y=True, random_state=822569775), 'n_calls': 15, 'n_random_starts': 5, 'n_initial_points': 10, 'initial_point_generator': 'random', 'acq_func': 'EI', 'acq_optimizer': 'auto', 'x0': None, 'y0': None, 'random_state': RandomState(MT19937) at 0x7FB2F15AC040, 'verbose': False, 'callback': None, 'n_points': 10000, 'n_restarts_optimizer': 5, 'xi': 0.01, 'kappa': 1.96, 'n_jobs': 1, 'model_queue_size': None}, 'function': 'base_minimize'}\n",
       "            x: [-0.38533041906143906, 1.2640812623880233]\n",
       "      x_iters: [[-0.009345334109402526, 1.2713537644662787], [0.4484475787090836, 1.0854396754496047], [1.4426790855107496, -1.3974521375756188], [-1.2059249638953158, 1.2606517362040095], [-1.364738587262254, -1.535448689525805], [2.0, 1.3586292552810781], [-1.0209752089123274, -1.686320252293628], [1.880382579921585, 1.4969688614131833], [-1.623453485864614, -0.00593335714258969], [-0.2733732363492982, 0.9705165705081176], [-0.38533041906143906, 1.2640812623880233], [-0.3452082249696342, -2.0], [-0.3428218456387464, 2.0], [-0.5155102540131158, 2.0], [-0.211873751839188, 0.786636251468467]]"
      ]
     },
     "execution_count": 46,
     "metadata": {},
     "output_type": "execute_result"
    }
   ],
   "source": [
    "res"
   ]
  },
  {
   "cell_type": "code",
   "execution_count": 58,
   "metadata": {},
   "outputs": [
    {
     "data": {
      "text/plain": [
       "[-1.1784601853254535, 0.8053854162175131]"
      ]
     },
     "execution_count": 58,
     "metadata": {},
     "output_type": "execute_result"
    }
   ],
   "source": [
    "res.x"
   ]
  },
  {
   "cell_type": "code",
   "execution_count": 51,
   "metadata": {},
   "outputs": [
    {
     "data": {
      "text/plain": [
       "[[-0.009345334109402526, 1.2713537644662787],\n",
       " [0.4484475787090836, 1.0854396754496047],\n",
       " [1.4426790855107496, -1.3974521375756188],\n",
       " [-1.2059249638953158, 1.2606517362040095],\n",
       " [-1.364738587262254, -1.535448689525805],\n",
       " [2.0, 1.3586292552810781],\n",
       " [-1.0209752089123274, -1.686320252293628],\n",
       " [1.880382579921585, 1.4969688614131833],\n",
       " [-1.623453485864614, -0.00593335714258969],\n",
       " [-0.2733732363492982, 0.9705165705081176],\n",
       " [-0.38533041906143906, 1.2640812623880233],\n",
       " [-0.3452082249696342, -2.0],\n",
       " [-0.3428218456387464, 2.0],\n",
       " [-0.5155102540131158, 2.0],\n",
       " [-0.211873751839188, 0.786636251468467]]"
      ]
     },
     "execution_count": 51,
     "metadata": {},
     "output_type": "execute_result"
    }
   ],
   "source": [
    "res.x_iters"
   ]
  },
  {
   "cell_type": "code",
   "execution_count": null,
   "metadata": {},
   "outputs": [],
   "source": []
  }
 ],
 "metadata": {
  "kernelspec": {
   "display_name": "Python 3",
   "language": "python",
   "name": "python3"
  },
  "language_info": {
   "codemirror_mode": {
    "name": "ipython",
    "version": 3
   },
   "file_extension": ".py",
   "mimetype": "text/x-python",
   "name": "python",
   "nbconvert_exporter": "python",
   "pygments_lexer": "ipython3",
   "version": "3.8.5"
  }
 },
 "nbformat": 4,
 "nbformat_minor": 1
}
