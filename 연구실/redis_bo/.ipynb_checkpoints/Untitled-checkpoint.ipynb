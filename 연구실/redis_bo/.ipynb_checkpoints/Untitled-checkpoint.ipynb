{
 "cells": [
  {
   "cell_type": "code",
   "execution_count": 3,
   "metadata": {},
   "outputs": [
    {
     "name": "stdout",
     "output_type": "stream",
     "text": [
      "  appendonly appendfsync auto-aof-rewrite-percentage  \\\n",
      "0       None        None                        None   \n",
      "1       None        None                        None   \n",
      "\n",
      "  auto-aof-rewrite-min-size no-appendfsync-on-rewrite  \\\n",
      "0                      None                      None   \n",
      "1                      None                      None   \n",
      "\n",
      "  aof-rewrite-incremental-fsync aof-use-rdb-preamble rdbcompression  \\\n",
      "0                          None                 None            yes   \n",
      "1                          None                 None             no   \n",
      "\n",
      "  rdbchecksum rdb-save-incremental-fsync  ... maxmemory-policy  \\\n",
      "0         yes                        yes  ...   allkeys-random   \n",
      "1          no                         no  ...     volatile-lfu   \n",
      "\n",
      "  maxmemory-samples lazyfree-lazy-eviction lazyfree-lazy-expire  \\\n",
      "0                 6                     no                   no   \n",
      "1                 7                     no                  yes   \n",
      "\n",
      "  lazyfree-lazy-server-del hash-max-ziplist-entries hash-max-ziplist-value  \\\n",
      "0                       no                      571                    166   \n",
      "1                       no                      636                    235   \n",
      "\n",
      "  activerehashing  hz dynamic-hz  \n",
      "0             yes  37        yes  \n",
      "1             yes   7         no  \n",
      "\n",
      "[2 rows x 26 columns]\n"
     ]
    }
   ],
   "source": [
    "# -*- coding: utf-8 -*-\n",
    "import pandas as pd\n",
    "from knobs import *\n",
    "from func import *\n",
    "\n",
    "knobs_DictList = {}\n",
    "\n",
    "# 리스트로 초기화\n",
    "for knob in knobs:\n",
    "    knobs_DictList[knob] = []\n",
    "\n",
    "\n",
    "# 1.config 파일에서 파라미터 value를 parmas_dict로 복사\n",
    "knobs_dict = Extract_knobs(\"config2.conf\", knobs)\n",
    "\n",
    "\n",
    "\n",
    "for knob in knobs_DictList:\n",
    "    knobs_DictList[knob].append(knobs_dict[knob])\n",
    "\n",
    "knobs_dict = Extract_knobs(\"config1.conf\", knobs)\n",
    "\n",
    "for knob in knobs_DictList:\n",
    "    knobs_DictList[knob].append(knobs_dict[knob])\n",
    "\n",
    "knobs_DataFrame = pd.DataFrame(knobs_DictList)\n",
    "print(knobs_DataFrame)"
   ]
  },
  {
   "cell_type": "code",
   "execution_count": null,
   "metadata": {},
   "outputs": [],
   "source": []
  }
 ],
 "metadata": {
  "kernelspec": {
   "display_name": "Python 3",
   "language": "python",
   "name": "python3"
  },
  "language_info": {
   "codemirror_mode": {
    "name": "ipython",
    "version": 3
   },
   "file_extension": ".py",
   "mimetype": "text/x-python",
   "name": "python",
   "nbconvert_exporter": "python",
   "pygments_lexer": "ipython3",
   "version": "3.8.5"
  }
 },
 "nbformat": 4,
 "nbformat_minor": 4
}
