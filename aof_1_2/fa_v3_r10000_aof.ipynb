{
 "cells": [
  {
   "cell_type": "markdown",
   "metadata": {},
   "source": [
    "# FA & Clustering\n",
    "\n",
    "internal_metrics 만 필요하다!!"
   ]
  },
  {
   "cell_type": "markdown",
   "metadata": {},
   "source": [
    "## FA"
   ]
  },
  {
   "cell_type": "markdown",
   "metadata": {},
   "source": [
    "* 이상치 처리\n",
    "* 요인 수\n",
    "* 클러스터 개수"
   ]
  },
  {
   "cell_type": "markdown",
   "metadata": {},
   "source": [
    "## 데이터 전처리\n",
    "1. 버전 관련 제거\n",
    "2. 모두 동일한 값 제거\n",
    "3. 값이 2개인 경우 제거\n",
    "4. 범주형 변수 제거"
   ]
  },
  {
   "cell_type": "code",
   "execution_count": 1,
   "metadata": {},
   "outputs": [],
   "source": [
    "import pandas as pd\n",
    "from factor_analyzer import FactorAnalyzer\n",
    "import matplotlib.pyplot as plt\n",
    "import seaborn as sns"
   ]
  },
  {
   "cell_type": "code",
   "execution_count": 2,
   "metadata": {},
   "outputs": [],
   "source": [
    "# 데이터 가져오기\n",
    "\n",
    "file_dir = '../data/'\n",
    "file_name = 'internal_metrics_r10000_aof2.csv'\n",
    "\n",
    "internalMetrics_df = pd.read_csv(file_dir+file_name)"
   ]
  },
  {
   "cell_type": "code",
   "execution_count": 3,
   "metadata": {},
   "outputs": [
    {
     "data": {
      "text/plain": [
       "(1000, 131)"
      ]
     },
     "execution_count": 3,
     "metadata": {},
     "output_type": "execute_result"
    }
   ],
   "source": [
    "# 1250 개 추출\n",
    "internalMetrics_df.shape"
   ]
  },
  {
   "cell_type": "markdown",
   "metadata": {},
   "source": [
    "### 0. role master 아닌 경우 제외"
   ]
  },
  {
   "cell_type": "code",
   "execution_count": 4,
   "metadata": {},
   "outputs": [],
   "source": [
    "# master 부분 추출\n",
    "idx_role_null = internalMetrics_df['role'] == 'master'\n",
    "internalMetrics_df = internalMetrics_df[idx_role_null]"
   ]
  },
  {
   "cell_type": "markdown",
   "metadata": {},
   "source": [
    "### 1. 버전 환경 관련 제거\n",
    "* redis_version\n",
    "* redis_builid_id\n",
    "* os\n",
    "* gcc_version\n",
    "* Executable\n",
    "* config_file\n",
    "* tcp_port\n",
    "* run_id\n",
    "* process_id"
   ]
  },
  {
   "cell_type": "code",
   "execution_count": 5,
   "metadata": {},
   "outputs": [],
   "source": [
    "# 버전, 환경 관련 변수\n",
    "var1_noRel = [\n",
    "    'redis_version', \n",
    "    'redis_build_id', \n",
    "    'os',\n",
    "    'gcc_version',\n",
    "    'executable',\n",
    "    'config_file',\n",
    "    'tcp_port',\n",
    "    'run_id',\n",
    "    'process_id',\n",
    "    'master_replid'\n",
    "]"
   ]
  },
  {
   "cell_type": "code",
   "execution_count": 6,
   "metadata": {
    "scrolled": true
   },
   "outputs": [
    {
     "data": {
      "text/plain": [
       "['redis_version',\n",
       " 'redis_build_id',\n",
       " 'os',\n",
       " 'gcc_version',\n",
       " 'executable',\n",
       " 'config_file',\n",
       " 'tcp_port',\n",
       " 'run_id',\n",
       " 'process_id',\n",
       " 'master_replid']"
      ]
     },
     "execution_count": 6,
     "metadata": {},
     "output_type": "execute_result"
    }
   ],
   "source": [
    "# 버전, 환경 관련 변수 확인\n",
    "var1_noRel"
   ]
  },
  {
   "cell_type": "code",
   "execution_count": 7,
   "metadata": {},
   "outputs": [],
   "source": [
    "# 변수 제거 \n",
    "internalMetrics_df = internalMetrics_df.drop(columns = var1_noRel, axis=0)"
   ]
  },
  {
   "cell_type": "code",
   "execution_count": 8,
   "metadata": {},
   "outputs": [
    {
     "data": {
      "text/plain": [
       "121"
      ]
     },
     "execution_count": 8,
     "metadata": {},
     "output_type": "execute_result"
    }
   ],
   "source": [
    "len(internalMetrics_df.columns)"
   ]
  },
  {
   "cell_type": "code",
   "execution_count": 9,
   "metadata": {},
   "outputs": [
    {
     "data": {
      "text/html": [
       "<div>\n",
       "<style scoped>\n",
       "    .dataframe tbody tr th:only-of-type {\n",
       "        vertical-align: middle;\n",
       "    }\n",
       "\n",
       "    .dataframe tbody tr th {\n",
       "        vertical-align: top;\n",
       "    }\n",
       "\n",
       "    .dataframe thead th {\n",
       "        text-align: right;\n",
       "    }\n",
       "</style>\n",
       "<table border=\"1\" class=\"dataframe\">\n",
       "  <thead>\n",
       "    <tr style=\"text-align: right;\">\n",
       "      <th></th>\n",
       "      <th>redis_git_sha1</th>\n",
       "      <th>redis_git_dirty</th>\n",
       "      <th>redis_mode</th>\n",
       "      <th>arch_bits</th>\n",
       "      <th>multiplexing_api</th>\n",
       "      <th>atomicvar_api</th>\n",
       "      <th>uptime_in_seconds</th>\n",
       "      <th>uptime_in_days</th>\n",
       "      <th>hz</th>\n",
       "      <th>configured_hz</th>\n",
       "      <th>...</th>\n",
       "      <th>repl_backlog_first_byte_offset</th>\n",
       "      <th>repl_backlog_histlen</th>\n",
       "      <th>used_cpu_sys</th>\n",
       "      <th>used_cpu_user</th>\n",
       "      <th>used_cpu_sys_children</th>\n",
       "      <th>used_cpu_user_children</th>\n",
       "      <th>cluster_enabled</th>\n",
       "      <th>db0:keys</th>\n",
       "      <th>expires</th>\n",
       "      <th>avg_ttl</th>\n",
       "    </tr>\n",
       "  </thead>\n",
       "  <tbody>\n",
       "    <tr>\n",
       "      <th>0</th>\n",
       "      <td>0</td>\n",
       "      <td>0</td>\n",
       "      <td>standalone</td>\n",
       "      <td>64</td>\n",
       "      <td>epoll</td>\n",
       "      <td>atomic-builtin</td>\n",
       "      <td>6</td>\n",
       "      <td>0</td>\n",
       "      <td>6</td>\n",
       "      <td>6</td>\n",
       "      <td>...</td>\n",
       "      <td>0</td>\n",
       "      <td>0</td>\n",
       "      <td>0.259284</td>\n",
       "      <td>0.095140</td>\n",
       "      <td>0.000000</td>\n",
       "      <td>0.000000</td>\n",
       "      <td>0</td>\n",
       "      <td>10000</td>\n",
       "      <td>0</td>\n",
       "      <td>0</td>\n",
       "    </tr>\n",
       "    <tr>\n",
       "      <th>1</th>\n",
       "      <td>0</td>\n",
       "      <td>0</td>\n",
       "      <td>standalone</td>\n",
       "      <td>64</td>\n",
       "      <td>epoll</td>\n",
       "      <td>atomic-builtin</td>\n",
       "      <td>6</td>\n",
       "      <td>0</td>\n",
       "      <td>18</td>\n",
       "      <td>18</td>\n",
       "      <td>...</td>\n",
       "      <td>0</td>\n",
       "      <td>0</td>\n",
       "      <td>0.292150</td>\n",
       "      <td>0.119217</td>\n",
       "      <td>0.000000</td>\n",
       "      <td>0.000000</td>\n",
       "      <td>0</td>\n",
       "      <td>10000</td>\n",
       "      <td>0</td>\n",
       "      <td>0</td>\n",
       "    </tr>\n",
       "    <tr>\n",
       "      <th>2</th>\n",
       "      <td>0</td>\n",
       "      <td>0</td>\n",
       "      <td>standalone</td>\n",
       "      <td>64</td>\n",
       "      <td>epoll</td>\n",
       "      <td>atomic-builtin</td>\n",
       "      <td>1145</td>\n",
       "      <td>0</td>\n",
       "      <td>16</td>\n",
       "      <td>16</td>\n",
       "      <td>...</td>\n",
       "      <td>0</td>\n",
       "      <td>0</td>\n",
       "      <td>1.787249</td>\n",
       "      <td>0.715064</td>\n",
       "      <td>0.005020</td>\n",
       "      <td>0.007959</td>\n",
       "      <td>0</td>\n",
       "      <td>10000</td>\n",
       "      <td>0</td>\n",
       "      <td>0</td>\n",
       "    </tr>\n",
       "    <tr>\n",
       "      <th>3</th>\n",
       "      <td>0</td>\n",
       "      <td>0</td>\n",
       "      <td>standalone</td>\n",
       "      <td>64</td>\n",
       "      <td>epoll</td>\n",
       "      <td>atomic-builtin</td>\n",
       "      <td>6</td>\n",
       "      <td>0</td>\n",
       "      <td>2</td>\n",
       "      <td>2</td>\n",
       "      <td>...</td>\n",
       "      <td>0</td>\n",
       "      <td>0</td>\n",
       "      <td>0.299743</td>\n",
       "      <td>0.151652</td>\n",
       "      <td>0.000000</td>\n",
       "      <td>0.000000</td>\n",
       "      <td>0</td>\n",
       "      <td>10000</td>\n",
       "      <td>0</td>\n",
       "      <td>0</td>\n",
       "    </tr>\n",
       "    <tr>\n",
       "      <th>4</th>\n",
       "      <td>0</td>\n",
       "      <td>0</td>\n",
       "      <td>standalone</td>\n",
       "      <td>64</td>\n",
       "      <td>epoll</td>\n",
       "      <td>atomic-builtin</td>\n",
       "      <td>1081</td>\n",
       "      <td>0</td>\n",
       "      <td>7</td>\n",
       "      <td>7</td>\n",
       "      <td>...</td>\n",
       "      <td>0</td>\n",
       "      <td>0</td>\n",
       "      <td>1.770491</td>\n",
       "      <td>0.654785</td>\n",
       "      <td>0.005629</td>\n",
       "      <td>0.007635</td>\n",
       "      <td>0</td>\n",
       "      <td>10000</td>\n",
       "      <td>0</td>\n",
       "      <td>0</td>\n",
       "    </tr>\n",
       "  </tbody>\n",
       "</table>\n",
       "<p>5 rows × 121 columns</p>\n",
       "</div>"
      ],
      "text/plain": [
       "   redis_git_sha1  redis_git_dirty  redis_mode  arch_bits multiplexing_api  \\\n",
       "0               0                0  standalone         64            epoll   \n",
       "1               0                0  standalone         64            epoll   \n",
       "2               0                0  standalone         64            epoll   \n",
       "3               0                0  standalone         64            epoll   \n",
       "4               0                0  standalone         64            epoll   \n",
       "\n",
       "    atomicvar_api  uptime_in_seconds  uptime_in_days  hz  configured_hz  ...  \\\n",
       "0  atomic-builtin                  6               0   6              6  ...   \n",
       "1  atomic-builtin                  6               0  18             18  ...   \n",
       "2  atomic-builtin               1145               0  16             16  ...   \n",
       "3  atomic-builtin                  6               0   2              2  ...   \n",
       "4  atomic-builtin               1081               0   7              7  ...   \n",
       "\n",
       "   repl_backlog_first_byte_offset  repl_backlog_histlen  used_cpu_sys  \\\n",
       "0                               0                     0      0.259284   \n",
       "1                               0                     0      0.292150   \n",
       "2                               0                     0      1.787249   \n",
       "3                               0                     0      0.299743   \n",
       "4                               0                     0      1.770491   \n",
       "\n",
       "   used_cpu_user  used_cpu_sys_children  used_cpu_user_children  \\\n",
       "0       0.095140               0.000000                0.000000   \n",
       "1       0.119217               0.000000                0.000000   \n",
       "2       0.715064               0.005020                0.007959   \n",
       "3       0.151652               0.000000                0.000000   \n",
       "4       0.654785               0.005629                0.007635   \n",
       "\n",
       "   cluster_enabled  db0:keys  expires  avg_ttl  \n",
       "0                0     10000        0        0  \n",
       "1                0     10000        0        0  \n",
       "2                0     10000        0        0  \n",
       "3                0     10000        0        0  \n",
       "4                0     10000        0        0  \n",
       "\n",
       "[5 rows x 121 columns]"
      ]
     },
     "execution_count": 9,
     "metadata": {},
     "output_type": "execute_result"
    }
   ],
   "source": [
    "# 변수 제거 데이터프레임 확인\n",
    "internalMetrics_df.head()"
   ]
  },
  {
   "cell_type": "markdown",
   "metadata": {},
   "source": [
    "### 2. 모두 동일한 값\n",
    "fa의 경우 모두 동일한 값이 존재하면 실행 시 오류 발생"
   ]
  },
  {
   "cell_type": "code",
   "execution_count": 10,
   "metadata": {},
   "outputs": [
    {
     "data": {
      "text/plain": [
       "121"
      ]
     },
     "execution_count": 10,
     "metadata": {},
     "output_type": "execute_result"
    }
   ],
   "source": [
    "len(internalMetrics_df.columns)"
   ]
  },
  {
   "cell_type": "code",
   "execution_count": 11,
   "metadata": {},
   "outputs": [],
   "source": [
    "def find_var_count(df, count):\n",
    "    var = []\n",
    "    \n",
    "    for metric in df:\n",
    "        if len(df[metric].unique()) == count:\n",
    "            var.append(metric)\n",
    "    return var"
   ]
  },
  {
   "cell_type": "code",
   "execution_count": 12,
   "metadata": {
    "scrolled": true
   },
   "outputs": [],
   "source": [
    "# 모두 동일한 값 가지고 있는 변수 리스트\n",
    "# sameValue_var = []\n",
    "\n",
    "# for metric in internalMetrics_df:\n",
    "#     if len(internalMetrics_df[metric].unique()) == 1:\n",
    "#         sameValue_var.append(metric)\n",
    "\n",
    "# len(sameValue_var)\n",
    "\n",
    "sameValue = find_var_count(internalMetrics_df, 1)\n",
    "\n",
    "# 동일 값 변수 제거\n",
    "internalMetrics_df = internalMetrics_df.drop(columns = sameValue, axis = 0)"
   ]
  },
  {
   "cell_type": "markdown",
   "metadata": {},
   "source": [
    "### 3. 값이 2개인 경우 제거"
   ]
  },
  {
   "cell_type": "code",
   "execution_count": 13,
   "metadata": {},
   "outputs": [],
   "source": [
    "# 값이 2개인 경우\n",
    "twoVal_var = find_var_count(internalMetrics_df, 2)\n",
    "\n",
    "internalMetrics_df = internalMetrics_df.drop(columns = twoVal_var, axis = 0)"
   ]
  },
  {
   "cell_type": "code",
   "execution_count": 14,
   "metadata": {},
   "outputs": [
    {
     "data": {
      "text/plain": [
       "45"
      ]
     },
     "execution_count": 14,
     "metadata": {},
     "output_type": "execute_result"
    }
   ],
   "source": [
    "len(internalMetrics_df.columns)"
   ]
  },
  {
   "cell_type": "code",
   "execution_count": 15,
   "metadata": {},
   "outputs": [],
   "source": [
    "# latest_fork_usec, slave_expires_tracked_keys, maxmemory-polcy, \n",
    "# print(internalMetrics_df['slave_expires_tracked_keys'].unique())\n",
    "# print(internalMetrics_df['latest_fork_usec'].unique())"
   ]
  },
  {
   "cell_type": "markdown",
   "metadata": {},
   "source": [
    "### 4. 범주형 변수 제거"
   ]
  },
  {
   "cell_type": "code",
   "execution_count": 16,
   "metadata": {},
   "outputs": [],
   "source": [
    "# maxmemory_policy만 제거해보고 해보기\n",
    "del_col = ['maxmemory_policy']\n",
    "# del_col = ['role','maxmemory_policy', 'slave_expires_tracked_keys', 'latest_fork_usec']\n",
    "internalMetrics_df = internalMetrics_df.drop(columns = del_col, axis = 0)\n"
   ]
  },
  {
   "cell_type": "code",
   "execution_count": 17,
   "metadata": {},
   "outputs": [],
   "source": [
    "# internalMetrics_df = pd.get_dummies(internalMetrics_df)\n",
    "# internalMetrics_df.head()"
   ]
  },
  {
   "cell_type": "code",
   "execution_count": 18,
   "metadata": {},
   "outputs": [],
   "source": [
    "# list(internalMetrics_df.dtypes)"
   ]
  },
  {
   "cell_type": "code",
   "execution_count": 19,
   "metadata": {
    "scrolled": true
   },
   "outputs": [
    {
     "data": {
      "text/plain": [
       "44"
      ]
     },
     "execution_count": 19,
     "metadata": {},
     "output_type": "execute_result"
    }
   ],
   "source": [
    "# 컬럼 개수\n",
    "len(internalMetrics_df.columns)"
   ]
  },
  {
   "cell_type": "markdown",
   "metadata": {},
   "source": [
    "---"
   ]
  },
  {
   "cell_type": "markdown",
   "metadata": {},
   "source": [
    "## Scaling"
   ]
  },
  {
   "cell_type": "code",
   "execution_count": 20,
   "metadata": {},
   "outputs": [],
   "source": [
    "from sklearn.preprocessing import StandardScaler, MinMaxScaler"
   ]
  },
  {
   "cell_type": "markdown",
   "metadata": {},
   "source": [
    "### standardscaler"
   ]
  },
  {
   "cell_type": "code",
   "execution_count": 21,
   "metadata": {},
   "outputs": [],
   "source": [
    "std_scaler = StandardScaler()\n",
    "df = internalMetrics_df.copy()\n",
    "std_scaler.fit(internalMetrics_df)\n",
    "internalMetrics_df = std_scaler.transform(internalMetrics_df)\n"
   ]
  },
  {
   "cell_type": "code",
   "execution_count": 22,
   "metadata": {},
   "outputs": [
    {
     "data": {
      "text/plain": [
       "array([1., 1., 1., 1., 1., 1., 1., 1., 1., 1., 1., 1., 1., 1., 1., 1., 1.,\n",
       "       1., 1., 1., 1., 1., 1., 1., 1., 1., 1., 1., 1., 1., 1., 1., 1., 1.,\n",
       "       1., 1., 1., 1., 1., 1., 1., 1., 1., 1.])"
      ]
     },
     "execution_count": 22,
     "metadata": {},
     "output_type": "execute_result"
    }
   ],
   "source": [
    "# 표준펴차 확인\n",
    "internalMetrics_df.std(axis=0)"
   ]
  },
  {
   "cell_type": "code",
   "execution_count": 23,
   "metadata": {},
   "outputs": [],
   "source": [
    "internalMetrics_df = pd.DataFrame(internalMetrics_df, columns = df.columns, index = list(df.index.values))\n"
   ]
  },
  {
   "cell_type": "code",
   "execution_count": 24,
   "metadata": {
    "scrolled": true
   },
   "outputs": [
    {
     "data": {
      "text/html": [
       "<div>\n",
       "<style scoped>\n",
       "    .dataframe tbody tr th:only-of-type {\n",
       "        vertical-align: middle;\n",
       "    }\n",
       "\n",
       "    .dataframe tbody tr th {\n",
       "        vertical-align: top;\n",
       "    }\n",
       "\n",
       "    .dataframe thead th {\n",
       "        text-align: right;\n",
       "    }\n",
       "</style>\n",
       "<table border=\"1\" class=\"dataframe\">\n",
       "  <thead>\n",
       "    <tr style=\"text-align: right;\">\n",
       "      <th></th>\n",
       "      <th>uptime_in_seconds</th>\n",
       "      <th>hz</th>\n",
       "      <th>configured_hz</th>\n",
       "      <th>lru_clock</th>\n",
       "      <th>used_memory</th>\n",
       "      <th>used_memory_human</th>\n",
       "      <th>used_memory_rss</th>\n",
       "      <th>used_memory_rss_human</th>\n",
       "      <th>used_memory_peak</th>\n",
       "      <th>used_memory_peak_human</th>\n",
       "      <th>...</th>\n",
       "      <th>aof_current_size</th>\n",
       "      <th>aof_base_size</th>\n",
       "      <th>instantaneous_ops_per_sec</th>\n",
       "      <th>instantaneous_input_kbps</th>\n",
       "      <th>instantaneous_output_kbps</th>\n",
       "      <th>latest_fork_usec</th>\n",
       "      <th>used_cpu_sys</th>\n",
       "      <th>used_cpu_user</th>\n",
       "      <th>used_cpu_sys_children</th>\n",
       "      <th>used_cpu_user_children</th>\n",
       "    </tr>\n",
       "  </thead>\n",
       "  <tbody>\n",
       "    <tr>\n",
       "      <th>0</th>\n",
       "      <td>-0.670477</td>\n",
       "      <td>-1.267062</td>\n",
       "      <td>-1.267062</td>\n",
       "      <td>-1.663395</td>\n",
       "      <td>0.064084</td>\n",
       "      <td>0.057499</td>\n",
       "      <td>0.542542</td>\n",
       "      <td>0.541025</td>\n",
       "      <td>4.506416</td>\n",
       "      <td>4.504909</td>\n",
       "      <td>...</td>\n",
       "      <td>-0.063543</td>\n",
       "      <td>-0.059787</td>\n",
       "      <td>-0.190519</td>\n",
       "      <td>-0.190595</td>\n",
       "      <td>-0.190554</td>\n",
       "      <td>-0.047388</td>\n",
       "      <td>-0.718890</td>\n",
       "      <td>-0.786620</td>\n",
       "      <td>-0.655361</td>\n",
       "      <td>-0.651178</td>\n",
       "    </tr>\n",
       "    <tr>\n",
       "      <th>1</th>\n",
       "      <td>-0.670477</td>\n",
       "      <td>-0.229125</td>\n",
       "      <td>-0.229125</td>\n",
       "      <td>-1.663221</td>\n",
       "      <td>0.077266</td>\n",
       "      <td>0.057499</td>\n",
       "      <td>-0.125551</td>\n",
       "      <td>-0.120146</td>\n",
       "      <td>-0.203066</td>\n",
       "      <td>-0.205995</td>\n",
       "      <td>...</td>\n",
       "      <td>-0.063543</td>\n",
       "      <td>-0.059787</td>\n",
       "      <td>1.067476</td>\n",
       "      <td>1.067539</td>\n",
       "      <td>1.067754</td>\n",
       "      <td>-0.047388</td>\n",
       "      <td>-0.669536</td>\n",
       "      <td>-0.698450</td>\n",
       "      <td>-0.655361</td>\n",
       "      <td>-0.651178</td>\n",
       "    </tr>\n",
       "    <tr>\n",
       "      <th>2</th>\n",
       "      <td>1.867823</td>\n",
       "      <td>-0.402114</td>\n",
       "      <td>-0.402114</td>\n",
       "      <td>-1.652702</td>\n",
       "      <td>0.077266</td>\n",
       "      <td>0.057499</td>\n",
       "      <td>-0.260292</td>\n",
       "      <td>-0.263879</td>\n",
       "      <td>-0.203066</td>\n",
       "      <td>-0.205995</td>\n",
       "      <td>...</td>\n",
       "      <td>-0.063543</td>\n",
       "      <td>-0.059787</td>\n",
       "      <td>-1.242412</td>\n",
       "      <td>-1.242496</td>\n",
       "      <td>-1.242529</td>\n",
       "      <td>-0.005255</td>\n",
       "      <td>1.575652</td>\n",
       "      <td>1.483539</td>\n",
       "      <td>1.338324</td>\n",
       "      <td>1.419074</td>\n",
       "    </tr>\n",
       "    <tr>\n",
       "      <th>3</th>\n",
       "      <td>-0.670477</td>\n",
       "      <td>-1.613041</td>\n",
       "      <td>-1.613041</td>\n",
       "      <td>-1.652602</td>\n",
       "      <td>0.077266</td>\n",
       "      <td>0.057499</td>\n",
       "      <td>-0.119937</td>\n",
       "      <td>-0.120146</td>\n",
       "      <td>-0.203066</td>\n",
       "      <td>-0.205995</td>\n",
       "      <td>...</td>\n",
       "      <td>-0.063543</td>\n",
       "      <td>-0.059787</td>\n",
       "      <td>-0.893365</td>\n",
       "      <td>-0.893445</td>\n",
       "      <td>-0.893397</td>\n",
       "      <td>-0.047388</td>\n",
       "      <td>-0.658133</td>\n",
       "      <td>-0.579673</td>\n",
       "      <td>-0.655361</td>\n",
       "      <td>-0.651178</td>\n",
       "    </tr>\n",
       "    <tr>\n",
       "      <th>4</th>\n",
       "      <td>1.725197</td>\n",
       "      <td>-1.180567</td>\n",
       "      <td>-1.180567</td>\n",
       "      <td>-1.642667</td>\n",
       "      <td>0.077266</td>\n",
       "      <td>0.057499</td>\n",
       "      <td>-0.344506</td>\n",
       "      <td>-0.350119</td>\n",
       "      <td>-0.203066</td>\n",
       "      <td>-0.205995</td>\n",
       "      <td>...</td>\n",
       "      <td>-0.063543</td>\n",
       "      <td>-0.059787</td>\n",
       "      <td>-1.240037</td>\n",
       "      <td>-1.239977</td>\n",
       "      <td>-1.239954</td>\n",
       "      <td>0.003220</td>\n",
       "      <td>1.550486</td>\n",
       "      <td>1.262798</td>\n",
       "      <td>1.580187</td>\n",
       "      <td>1.334797</td>\n",
       "    </tr>\n",
       "  </tbody>\n",
       "</table>\n",
       "<p>5 rows × 44 columns</p>\n",
       "</div>"
      ],
      "text/plain": [
       "   uptime_in_seconds        hz  configured_hz  lru_clock  used_memory  \\\n",
       "0          -0.670477 -1.267062      -1.267062  -1.663395     0.064084   \n",
       "1          -0.670477 -0.229125      -0.229125  -1.663221     0.077266   \n",
       "2           1.867823 -0.402114      -0.402114  -1.652702     0.077266   \n",
       "3          -0.670477 -1.613041      -1.613041  -1.652602     0.077266   \n",
       "4           1.725197 -1.180567      -1.180567  -1.642667     0.077266   \n",
       "\n",
       "   used_memory_human  used_memory_rss  used_memory_rss_human  \\\n",
       "0           0.057499         0.542542               0.541025   \n",
       "1           0.057499        -0.125551              -0.120146   \n",
       "2           0.057499        -0.260292              -0.263879   \n",
       "3           0.057499        -0.119937              -0.120146   \n",
       "4           0.057499        -0.344506              -0.350119   \n",
       "\n",
       "   used_memory_peak  used_memory_peak_human  ...  aof_current_size  \\\n",
       "0          4.506416                4.504909  ...         -0.063543   \n",
       "1         -0.203066               -0.205995  ...         -0.063543   \n",
       "2         -0.203066               -0.205995  ...         -0.063543   \n",
       "3         -0.203066               -0.205995  ...         -0.063543   \n",
       "4         -0.203066               -0.205995  ...         -0.063543   \n",
       "\n",
       "   aof_base_size  instantaneous_ops_per_sec  instantaneous_input_kbps  \\\n",
       "0      -0.059787                  -0.190519                 -0.190595   \n",
       "1      -0.059787                   1.067476                  1.067539   \n",
       "2      -0.059787                  -1.242412                 -1.242496   \n",
       "3      -0.059787                  -0.893365                 -0.893445   \n",
       "4      -0.059787                  -1.240037                 -1.239977   \n",
       "\n",
       "   instantaneous_output_kbps  latest_fork_usec  used_cpu_sys  used_cpu_user  \\\n",
       "0                  -0.190554         -0.047388     -0.718890      -0.786620   \n",
       "1                   1.067754         -0.047388     -0.669536      -0.698450   \n",
       "2                  -1.242529         -0.005255      1.575652       1.483539   \n",
       "3                  -0.893397         -0.047388     -0.658133      -0.579673   \n",
       "4                  -1.239954          0.003220      1.550486       1.262798   \n",
       "\n",
       "   used_cpu_sys_children  used_cpu_user_children  \n",
       "0              -0.655361               -0.651178  \n",
       "1              -0.655361               -0.651178  \n",
       "2               1.338324                1.419074  \n",
       "3              -0.655361               -0.651178  \n",
       "4               1.580187                1.334797  \n",
       "\n",
       "[5 rows x 44 columns]"
      ]
     },
     "execution_count": 24,
     "metadata": {},
     "output_type": "execute_result"
    }
   ],
   "source": [
    "internalMetrics_df.head()"
   ]
  },
  {
   "cell_type": "markdown",
   "metadata": {},
   "source": [
    "### minmaxscaler"
   ]
  },
  {
   "cell_type": "code",
   "execution_count": 25,
   "metadata": {},
   "outputs": [],
   "source": [
    "# # 객체생성\n",
    "# scaler = MinMaxScaler()\n",
    "\n",
    "# # fit -> transform\n",
    "# scaler.fit(internalMetrics_df) # df는 2차원 이상의 값이어야 함\n",
    "# internalMetrics_df_MinMax = scaler.transform(internalMetrics_df.copy())\n",
    "\n",
    "# # 배열형태로 반환되기 때문에 데이터 프레임으로 변환해주는 작업\n",
    "# internalMetrics_df_MinMax = pd.DataFrame(data = internalMetrics_df_MinMax, columns=internalMetrics_df.columns)"
   ]
  },
  {
   "cell_type": "code",
   "execution_count": 26,
   "metadata": {},
   "outputs": [],
   "source": [
    "# internalMetrics_df_MinMax.head()"
   ]
  },
  {
   "cell_type": "markdown",
   "metadata": {},
   "source": [
    "---"
   ]
  },
  {
   "cell_type": "markdown",
   "metadata": {},
   "source": [
    "## Factor Analysis"
   ]
  },
  {
   "cell_type": "code",
   "execution_count": 27,
   "metadata": {},
   "outputs": [
    {
     "data": {
      "text/html": [
       "<div>\n",
       "<style scoped>\n",
       "    .dataframe tbody tr th:only-of-type {\n",
       "        vertical-align: middle;\n",
       "    }\n",
       "\n",
       "    .dataframe tbody tr th {\n",
       "        vertical-align: top;\n",
       "    }\n",
       "\n",
       "    .dataframe thead th {\n",
       "        text-align: right;\n",
       "    }\n",
       "</style>\n",
       "<table border=\"1\" class=\"dataframe\">\n",
       "  <thead>\n",
       "    <tr style=\"text-align: right;\">\n",
       "      <th></th>\n",
       "      <th>uptime_in_seconds</th>\n",
       "      <th>hz</th>\n",
       "      <th>configured_hz</th>\n",
       "      <th>lru_clock</th>\n",
       "      <th>used_memory</th>\n",
       "      <th>used_memory_human</th>\n",
       "      <th>used_memory_rss</th>\n",
       "      <th>used_memory_rss_human</th>\n",
       "      <th>used_memory_peak</th>\n",
       "      <th>used_memory_peak_human</th>\n",
       "      <th>...</th>\n",
       "      <th>aof_current_size</th>\n",
       "      <th>aof_base_size</th>\n",
       "      <th>instantaneous_ops_per_sec</th>\n",
       "      <th>instantaneous_input_kbps</th>\n",
       "      <th>instantaneous_output_kbps</th>\n",
       "      <th>latest_fork_usec</th>\n",
       "      <th>used_cpu_sys</th>\n",
       "      <th>used_cpu_user</th>\n",
       "      <th>used_cpu_sys_children</th>\n",
       "      <th>used_cpu_user_children</th>\n",
       "    </tr>\n",
       "  </thead>\n",
       "  <tbody>\n",
       "    <tr>\n",
       "      <th>0</th>\n",
       "      <td>-0.670477</td>\n",
       "      <td>-1.267062</td>\n",
       "      <td>-1.267062</td>\n",
       "      <td>-1.663395</td>\n",
       "      <td>0.064084</td>\n",
       "      <td>0.057499</td>\n",
       "      <td>0.542542</td>\n",
       "      <td>0.541025</td>\n",
       "      <td>4.506416</td>\n",
       "      <td>4.504909</td>\n",
       "      <td>...</td>\n",
       "      <td>-0.063543</td>\n",
       "      <td>-0.059787</td>\n",
       "      <td>-0.190519</td>\n",
       "      <td>-0.190595</td>\n",
       "      <td>-0.190554</td>\n",
       "      <td>-0.047388</td>\n",
       "      <td>-0.718890</td>\n",
       "      <td>-0.786620</td>\n",
       "      <td>-0.655361</td>\n",
       "      <td>-0.651178</td>\n",
       "    </tr>\n",
       "    <tr>\n",
       "      <th>1</th>\n",
       "      <td>-0.670477</td>\n",
       "      <td>-0.229125</td>\n",
       "      <td>-0.229125</td>\n",
       "      <td>-1.663221</td>\n",
       "      <td>0.077266</td>\n",
       "      <td>0.057499</td>\n",
       "      <td>-0.125551</td>\n",
       "      <td>-0.120146</td>\n",
       "      <td>-0.203066</td>\n",
       "      <td>-0.205995</td>\n",
       "      <td>...</td>\n",
       "      <td>-0.063543</td>\n",
       "      <td>-0.059787</td>\n",
       "      <td>1.067476</td>\n",
       "      <td>1.067539</td>\n",
       "      <td>1.067754</td>\n",
       "      <td>-0.047388</td>\n",
       "      <td>-0.669536</td>\n",
       "      <td>-0.698450</td>\n",
       "      <td>-0.655361</td>\n",
       "      <td>-0.651178</td>\n",
       "    </tr>\n",
       "    <tr>\n",
       "      <th>2</th>\n",
       "      <td>1.867823</td>\n",
       "      <td>-0.402114</td>\n",
       "      <td>-0.402114</td>\n",
       "      <td>-1.652702</td>\n",
       "      <td>0.077266</td>\n",
       "      <td>0.057499</td>\n",
       "      <td>-0.260292</td>\n",
       "      <td>-0.263879</td>\n",
       "      <td>-0.203066</td>\n",
       "      <td>-0.205995</td>\n",
       "      <td>...</td>\n",
       "      <td>-0.063543</td>\n",
       "      <td>-0.059787</td>\n",
       "      <td>-1.242412</td>\n",
       "      <td>-1.242496</td>\n",
       "      <td>-1.242529</td>\n",
       "      <td>-0.005255</td>\n",
       "      <td>1.575652</td>\n",
       "      <td>1.483539</td>\n",
       "      <td>1.338324</td>\n",
       "      <td>1.419074</td>\n",
       "    </tr>\n",
       "    <tr>\n",
       "      <th>3</th>\n",
       "      <td>-0.670477</td>\n",
       "      <td>-1.613041</td>\n",
       "      <td>-1.613041</td>\n",
       "      <td>-1.652602</td>\n",
       "      <td>0.077266</td>\n",
       "      <td>0.057499</td>\n",
       "      <td>-0.119937</td>\n",
       "      <td>-0.120146</td>\n",
       "      <td>-0.203066</td>\n",
       "      <td>-0.205995</td>\n",
       "      <td>...</td>\n",
       "      <td>-0.063543</td>\n",
       "      <td>-0.059787</td>\n",
       "      <td>-0.893365</td>\n",
       "      <td>-0.893445</td>\n",
       "      <td>-0.893397</td>\n",
       "      <td>-0.047388</td>\n",
       "      <td>-0.658133</td>\n",
       "      <td>-0.579673</td>\n",
       "      <td>-0.655361</td>\n",
       "      <td>-0.651178</td>\n",
       "    </tr>\n",
       "    <tr>\n",
       "      <th>4</th>\n",
       "      <td>1.725197</td>\n",
       "      <td>-1.180567</td>\n",
       "      <td>-1.180567</td>\n",
       "      <td>-1.642667</td>\n",
       "      <td>0.077266</td>\n",
       "      <td>0.057499</td>\n",
       "      <td>-0.344506</td>\n",
       "      <td>-0.350119</td>\n",
       "      <td>-0.203066</td>\n",
       "      <td>-0.205995</td>\n",
       "      <td>...</td>\n",
       "      <td>-0.063543</td>\n",
       "      <td>-0.059787</td>\n",
       "      <td>-1.240037</td>\n",
       "      <td>-1.239977</td>\n",
       "      <td>-1.239954</td>\n",
       "      <td>0.003220</td>\n",
       "      <td>1.550486</td>\n",
       "      <td>1.262798</td>\n",
       "      <td>1.580187</td>\n",
       "      <td>1.334797</td>\n",
       "    </tr>\n",
       "    <tr>\n",
       "      <th>...</th>\n",
       "      <td>...</td>\n",
       "      <td>...</td>\n",
       "      <td>...</td>\n",
       "      <td>...</td>\n",
       "      <td>...</td>\n",
       "      <td>...</td>\n",
       "      <td>...</td>\n",
       "      <td>...</td>\n",
       "      <td>...</td>\n",
       "      <td>...</td>\n",
       "      <td>...</td>\n",
       "      <td>...</td>\n",
       "      <td>...</td>\n",
       "      <td>...</td>\n",
       "      <td>...</td>\n",
       "      <td>...</td>\n",
       "      <td>...</td>\n",
       "      <td>...</td>\n",
       "      <td>...</td>\n",
       "      <td>...</td>\n",
       "      <td>...</td>\n",
       "    </tr>\n",
       "    <tr>\n",
       "      <th>995</th>\n",
       "      <td>-0.670477</td>\n",
       "      <td>-1.353557</td>\n",
       "      <td>-1.353557</td>\n",
       "      <td>1.619246</td>\n",
       "      <td>0.077266</td>\n",
       "      <td>0.057499</td>\n",
       "      <td>-0.097480</td>\n",
       "      <td>-0.091400</td>\n",
       "      <td>-0.203066</td>\n",
       "      <td>-0.205995</td>\n",
       "      <td>...</td>\n",
       "      <td>-0.063543</td>\n",
       "      <td>-0.059787</td>\n",
       "      <td>-0.369375</td>\n",
       "      <td>-0.369469</td>\n",
       "      <td>-0.369412</td>\n",
       "      <td>-0.047388</td>\n",
       "      <td>-0.686260</td>\n",
       "      <td>-0.593189</td>\n",
       "      <td>-0.655361</td>\n",
       "      <td>-0.651178</td>\n",
       "    </tr>\n",
       "    <tr>\n",
       "      <th>996</th>\n",
       "      <td>-0.670477</td>\n",
       "      <td>0.549328</td>\n",
       "      <td>0.549328</td>\n",
       "      <td>1.619356</td>\n",
       "      <td>0.077266</td>\n",
       "      <td>0.057499</td>\n",
       "      <td>-0.142394</td>\n",
       "      <td>-0.148893</td>\n",
       "      <td>-0.203066</td>\n",
       "      <td>-0.205995</td>\n",
       "      <td>...</td>\n",
       "      <td>-0.063543</td>\n",
       "      <td>-0.059787</td>\n",
       "      <td>1.112609</td>\n",
       "      <td>1.112563</td>\n",
       "      <td>1.112683</td>\n",
       "      <td>-0.047388</td>\n",
       "      <td>-0.646154</td>\n",
       "      <td>-0.655821</td>\n",
       "      <td>-0.655361</td>\n",
       "      <td>-0.651178</td>\n",
       "    </tr>\n",
       "    <tr>\n",
       "      <th>997</th>\n",
       "      <td>-0.670477</td>\n",
       "      <td>0.289844</td>\n",
       "      <td>0.289844</td>\n",
       "      <td>1.619466</td>\n",
       "      <td>0.073360</td>\n",
       "      <td>0.057499</td>\n",
       "      <td>-0.170465</td>\n",
       "      <td>-0.177639</td>\n",
       "      <td>-0.203723</td>\n",
       "      <td>-0.205995</td>\n",
       "      <td>...</td>\n",
       "      <td>-0.063543</td>\n",
       "      <td>-0.059787</td>\n",
       "      <td>0.882473</td>\n",
       "      <td>0.882521</td>\n",
       "      <td>0.882599</td>\n",
       "      <td>-0.047388</td>\n",
       "      <td>-0.676383</td>\n",
       "      <td>-0.629355</td>\n",
       "      <td>-0.655361</td>\n",
       "      <td>-0.651178</td>\n",
       "    </tr>\n",
       "    <tr>\n",
       "      <th>998</th>\n",
       "      <td>1.740797</td>\n",
       "      <td>1.414276</td>\n",
       "      <td>1.414276</td>\n",
       "      <td>1.629455</td>\n",
       "      <td>0.077266</td>\n",
       "      <td>0.057499</td>\n",
       "      <td>-0.260292</td>\n",
       "      <td>-0.263879</td>\n",
       "      <td>-0.623635</td>\n",
       "      <td>-0.634259</td>\n",
       "      <td>...</td>\n",
       "      <td>-0.063543</td>\n",
       "      <td>-0.059787</td>\n",
       "      <td>-1.241993</td>\n",
       "      <td>-1.242038</td>\n",
       "      <td>-1.241957</td>\n",
       "      <td>-0.001139</td>\n",
       "      <td>2.049180</td>\n",
       "      <td>2.213119</td>\n",
       "      <td>2.713649</td>\n",
       "      <td>0.460031</td>\n",
       "    </tr>\n",
       "    <tr>\n",
       "      <th>999</th>\n",
       "      <td>-0.670477</td>\n",
       "      <td>0.549328</td>\n",
       "      <td>0.549328</td>\n",
       "      <td>1.629565</td>\n",
       "      <td>0.073360</td>\n",
       "      <td>0.057499</td>\n",
       "      <td>-0.114322</td>\n",
       "      <td>-0.120146</td>\n",
       "      <td>-0.203723</td>\n",
       "      <td>-0.205995</td>\n",
       "      <td>...</td>\n",
       "      <td>-0.063543</td>\n",
       "      <td>-0.059787</td>\n",
       "      <td>1.117500</td>\n",
       "      <td>1.117543</td>\n",
       "      <td>1.117548</td>\n",
       "      <td>-0.047388</td>\n",
       "      <td>-0.712121</td>\n",
       "      <td>-0.707825</td>\n",
       "      <td>-0.655361</td>\n",
       "      <td>-0.651178</td>\n",
       "    </tr>\n",
       "  </tbody>\n",
       "</table>\n",
       "<p>1000 rows × 44 columns</p>\n",
       "</div>"
      ],
      "text/plain": [
       "     uptime_in_seconds        hz  configured_hz  lru_clock  used_memory  \\\n",
       "0            -0.670477 -1.267062      -1.267062  -1.663395     0.064084   \n",
       "1            -0.670477 -0.229125      -0.229125  -1.663221     0.077266   \n",
       "2             1.867823 -0.402114      -0.402114  -1.652702     0.077266   \n",
       "3            -0.670477 -1.613041      -1.613041  -1.652602     0.077266   \n",
       "4             1.725197 -1.180567      -1.180567  -1.642667     0.077266   \n",
       "..                 ...       ...            ...        ...          ...   \n",
       "995          -0.670477 -1.353557      -1.353557   1.619246     0.077266   \n",
       "996          -0.670477  0.549328       0.549328   1.619356     0.077266   \n",
       "997          -0.670477  0.289844       0.289844   1.619466     0.073360   \n",
       "998           1.740797  1.414276       1.414276   1.629455     0.077266   \n",
       "999          -0.670477  0.549328       0.549328   1.629565     0.073360   \n",
       "\n",
       "     used_memory_human  used_memory_rss  used_memory_rss_human  \\\n",
       "0             0.057499         0.542542               0.541025   \n",
       "1             0.057499        -0.125551              -0.120146   \n",
       "2             0.057499        -0.260292              -0.263879   \n",
       "3             0.057499        -0.119937              -0.120146   \n",
       "4             0.057499        -0.344506              -0.350119   \n",
       "..                 ...              ...                    ...   \n",
       "995           0.057499        -0.097480              -0.091400   \n",
       "996           0.057499        -0.142394              -0.148893   \n",
       "997           0.057499        -0.170465              -0.177639   \n",
       "998           0.057499        -0.260292              -0.263879   \n",
       "999           0.057499        -0.114322              -0.120146   \n",
       "\n",
       "     used_memory_peak  used_memory_peak_human  ...  aof_current_size  \\\n",
       "0            4.506416                4.504909  ...         -0.063543   \n",
       "1           -0.203066               -0.205995  ...         -0.063543   \n",
       "2           -0.203066               -0.205995  ...         -0.063543   \n",
       "3           -0.203066               -0.205995  ...         -0.063543   \n",
       "4           -0.203066               -0.205995  ...         -0.063543   \n",
       "..                ...                     ...  ...               ...   \n",
       "995         -0.203066               -0.205995  ...         -0.063543   \n",
       "996         -0.203066               -0.205995  ...         -0.063543   \n",
       "997         -0.203723               -0.205995  ...         -0.063543   \n",
       "998         -0.623635               -0.634259  ...         -0.063543   \n",
       "999         -0.203723               -0.205995  ...         -0.063543   \n",
       "\n",
       "     aof_base_size  instantaneous_ops_per_sec  instantaneous_input_kbps  \\\n",
       "0        -0.059787                  -0.190519                 -0.190595   \n",
       "1        -0.059787                   1.067476                  1.067539   \n",
       "2        -0.059787                  -1.242412                 -1.242496   \n",
       "3        -0.059787                  -0.893365                 -0.893445   \n",
       "4        -0.059787                  -1.240037                 -1.239977   \n",
       "..             ...                        ...                       ...   \n",
       "995      -0.059787                  -0.369375                 -0.369469   \n",
       "996      -0.059787                   1.112609                  1.112563   \n",
       "997      -0.059787                   0.882473                  0.882521   \n",
       "998      -0.059787                  -1.241993                 -1.242038   \n",
       "999      -0.059787                   1.117500                  1.117543   \n",
       "\n",
       "     instantaneous_output_kbps  latest_fork_usec  used_cpu_sys  used_cpu_user  \\\n",
       "0                    -0.190554         -0.047388     -0.718890      -0.786620   \n",
       "1                     1.067754         -0.047388     -0.669536      -0.698450   \n",
       "2                    -1.242529         -0.005255      1.575652       1.483539   \n",
       "3                    -0.893397         -0.047388     -0.658133      -0.579673   \n",
       "4                    -1.239954          0.003220      1.550486       1.262798   \n",
       "..                         ...               ...           ...            ...   \n",
       "995                  -0.369412         -0.047388     -0.686260      -0.593189   \n",
       "996                   1.112683         -0.047388     -0.646154      -0.655821   \n",
       "997                   0.882599         -0.047388     -0.676383      -0.629355   \n",
       "998                  -1.241957         -0.001139      2.049180       2.213119   \n",
       "999                   1.117548         -0.047388     -0.712121      -0.707825   \n",
       "\n",
       "     used_cpu_sys_children  used_cpu_user_children  \n",
       "0                -0.655361               -0.651178  \n",
       "1                -0.655361               -0.651178  \n",
       "2                 1.338324                1.419074  \n",
       "3                -0.655361               -0.651178  \n",
       "4                 1.580187                1.334797  \n",
       "..                     ...                     ...  \n",
       "995              -0.655361               -0.651178  \n",
       "996              -0.655361               -0.651178  \n",
       "997              -0.655361               -0.651178  \n",
       "998               2.713649                0.460031  \n",
       "999              -0.655361               -0.651178  \n",
       "\n",
       "[1000 rows x 44 columns]"
      ]
     },
     "execution_count": 27,
     "metadata": {},
     "output_type": "execute_result"
    }
   ],
   "source": [
    "internalMetrics_df"
   ]
  },
  {
   "cell_type": "code",
   "execution_count": 28,
   "metadata": {},
   "outputs": [],
   "source": [
    "# # 상관성 높은 normal에서 .. df 구성\n",
    "# corr_knob = ['allocator_allocated',\n",
    "#  'allocator_rss_bytes',\n",
    "#  'used_memory_rss',\n",
    "#  'allocator_resident',\n",
    "#  'allocator_frag_bytes',\n",
    "#  'rss_overhead_bytes',\n",
    "#  'uptime_in_seconds',\n",
    "#  'mem_fragmentation_bytes',\n",
    "#  'used_memory_peak',\n",
    "#  'configured_hz',\n",
    "#  'used_cpu_sys',\n",
    "#  'maxmemory',\n",
    "#  'hz',\n",
    "#  'used_cpu_user',\n",
    "#  'used_memory_rss_human',\n",
    "#  'maxmemory_human',\n",
    "#  'allocator_rss_ratio']\n",
    "\n",
    "# internalMetrics_normal_df = internalMetrics_df.copy()[corr_knob]"
   ]
  },
  {
   "cell_type": "code",
   "execution_count": 29,
   "metadata": {},
   "outputs": [
    {
     "name": "stdout",
     "output_type": "stream",
     "text": [
      "['hz', 'configured_hz']\n"
     ]
    }
   ],
   "source": [
    "import itertools\n",
    "\n",
    "# singular Error 발생시키는 변수 확인\n",
    "def find_singularError_var(df, count):\n",
    "    sin_rel_var = []\n",
    "\n",
    "    for var in itertools.combinations(df.columns, count):\n",
    "        new_df = internalMetrics_df[list(var)]\n",
    "        try:\n",
    "            fa_func = FactorAnalyzer(n_factors=2, rotation='varimax')\n",
    "            fa_func.fit(new_df)        \n",
    "        except :\n",
    "            print(list(var))\n",
    "            sin_rel_var += list(var)\n",
    "            continue\n",
    "    sin_rel_var = list(set(sin_rel_var))\n",
    "    return sin_rel_var\n",
    "\n",
    "        \n",
    "sin_rel_var = find_singularError_var(internalMetrics_df, 2)\n",
    "# hz, configured_hz, total_net_output_bytes, keyspace_hits, keyspace_misses 5개! -> 3개를 생략해야 한다!!"
   ]
  },
  {
   "cell_type": "code",
   "execution_count": 30,
   "metadata": {
    "scrolled": true
   },
   "outputs": [
    {
     "data": {
      "text/plain": [
       "[]"
      ]
     },
     "execution_count": 30,
     "metadata": {},
     "output_type": "execute_result"
    }
   ],
   "source": [
    "# singluar error를 발생시키는 변수 삭제 -> 추후 조정 필요 상관계수 보면서!\n",
    "drop_val = ['configured_hz']\n",
    "internalMetrics_df_drop = internalMetrics_df.drop(columns = drop_val, axis = 0)\n",
    "\n",
    "find_singularError_var(internalMetrics_df_drop, 2)"
   ]
  },
  {
   "cell_type": "code",
   "execution_count": 31,
   "metadata": {},
   "outputs": [
    {
     "data": {
      "text/plain": [
       "43"
      ]
     },
     "execution_count": 31,
     "metadata": {},
     "output_type": "execute_result"
    }
   ],
   "source": [
    "# 커럼 개수 25개로 줄여짐\n",
    "len(internalMetrics_df_drop.columns)"
   ]
  },
  {
   "cell_type": "markdown",
   "metadata": {},
   "source": [
    "---"
   ]
  },
  {
   "cell_type": "markdown",
   "metadata": {},
   "source": [
    "### 이상치 제거"
   ]
  },
  {
   "cell_type": "code",
   "execution_count": 32,
   "metadata": {},
   "outputs": [],
   "source": [
    "# # 히스토그램으로 살펴보기\n",
    "# internalMetrics_df.hist(figsize=(20, 20), bins=30)"
   ]
  },
  {
   "cell_type": "code",
   "execution_count": 33,
   "metadata": {},
   "outputs": [],
   "source": [
    "# import numpy as np\n",
    "\n",
    "# def get_outlier(df=None, column=None, weight=1.5):\n",
    "    \n",
    "#     # target 값과 상관관계가 높은 열을 우선적으로 진행\n",
    "#     quantile_25 = np.percentile(df[column].values, 25)\n",
    "#     quantile_75 = np.percentile(df[column].values, 75)\n",
    "\n",
    "#     IQR = quantile_75 - quantile_25\n",
    "#     IQR_weight = IQR*weight\n",
    "\n",
    "#     lowest = quantile_25 - IQR_weight\n",
    "#     highest = quantile_75 + IQR_weight\n",
    "\n",
    "#     outlier_idx = df[column][ (df[column] < lowest) | (df[column] > highest) ].index\n",
    "#     return outlier_idx"
   ]
  },
  {
   "cell_type": "code",
   "execution_count": 34,
   "metadata": {},
   "outputs": [],
   "source": [
    "# col = internalMetrics_df_drop.columns.tolist()\n",
    "# outlier_idx = []\n",
    "\n",
    "# # 컬럼별로 접근해서 인덱스 가져온다.\n",
    "# for col_name in col:\n",
    "#     idx = get_outlier(internalMetrics_df_drop, col_name)\n",
    "#     outlier_idx += list(idx)\n",
    "\n",
    "# outlier_idx = list(set(outlier_idx))  # 인데스 중복 삭제\n",
    "\n",
    "# # 인덱스 개수가 너무 많다. -> 몇개만 골라서 삭제하자\n",
    "# print(len(outlier_idx))"
   ]
  },
  {
   "cell_type": "code",
   "execution_count": 35,
   "metadata": {},
   "outputs": [],
   "source": [
    "# # internal unique 한 결과 이상치 하나 삭제하는게 낫다고 판단 \n",
    "# # uptime_in_seconds = [  22   21   23 3304   25   24   26   27]\n",
    "# for i in internalMetrics_df_drop:\n",
    "#     print(i)\n",
    "#     print(internalMetrics_df_drop[i].unique())"
   ]
  },
  {
   "cell_type": "code",
   "execution_count": 36,
   "metadata": {},
   "outputs": [],
   "source": [
    "# # used_memory_rss\n",
    "# used_memory_rss_idx = get_outlier(internalMetrics_df_drop, 'used_memory_rss')\n",
    "\n",
    "# internalMetrics_df_drop.drop(used_memory_rss_idx, axis=0)['used_memory_rss'].hist()"
   ]
  },
  {
   "cell_type": "markdown",
   "metadata": {},
   "source": [
    "---"
   ]
  },
  {
   "cell_type": "markdown",
   "metadata": {},
   "source": [
    "### 요인수 선택\n",
    "* 요인 적재값\n",
    "* 공통성\n",
    "* \n",
    "* 클러스터링 개수 -> 각 클러스터마다 동등한 개수였으면 좋겠다"
   ]
  },
  {
   "cell_type": "code",
   "execution_count": 37,
   "metadata": {},
   "outputs": [],
   "source": [
    "def factor_analysis(n_factors, df):\n",
    "    fa = FactorAnalyzer(n_factors = n_factors, rotation='varimax')  # 객체 생성\n",
    "    fa.fit(df)  # fitting\n",
    "    df_fa = pd.DataFrame(fa.loadings_, index = df.columns)  # 데이터프레임으로 전달\n",
    "    ev, v = fa.get_eigenvalues()\n",
    "    return df_fa, ev"
   ]
  },
  {
   "cell_type": "code",
   "execution_count": 38,
   "metadata": {},
   "outputs": [],
   "source": [
    "internalMetrics_fa, ev = factor_analysis(11, internalMetrics_df_drop)  ## 전체 데이터\n",
    "\n",
    "# internalMetrics_df_drop = internalMetrics_normal_df\n",
    "# internalMetrics_fa, ev = factor_analysis(6, internalMetrics_normal_df)  # 상관성 높은걸로 줄인거\n"
   ]
  },
  {
   "cell_type": "code",
   "execution_count": 39,
   "metadata": {},
   "outputs": [
    {
     "name": "stdout",
     "output_type": "stream",
     "text": [
      "               0\n",
      "0   1.022755e+01\n",
      "1   5.737684e+00\n",
      "2   5.077248e+00\n",
      "3   3.723646e+00\n",
      "4   2.863107e+00\n",
      "5   2.299531e+00\n",
      "6   2.133701e+00\n",
      "7   1.808087e+00\n",
      "8   1.536437e+00\n",
      "9   1.385137e+00\n",
      "10  1.186381e+00\n",
      "11  1.093720e+00\n",
      "12  8.575058e-01\n",
      "13  6.903479e-01\n",
      "14  5.591813e-01\n",
      "15  5.534135e-01\n",
      "16  4.800879e-01\n",
      "17  3.906828e-01\n",
      "18  1.450952e-01\n",
      "19  1.052266e-01\n",
      "20  6.609301e-02\n",
      "21  2.209306e-02\n",
      "22  1.455468e-02\n",
      "23  1.208769e-02\n",
      "24  8.635951e-03\n",
      "25  7.144269e-03\n",
      "26  6.348984e-03\n",
      "27  4.705950e-03\n",
      "28  2.313828e-03\n",
      "29  1.729489e-03\n",
      "30  2.714113e-04\n",
      "31  1.227476e-04\n",
      "32  7.312639e-05\n",
      "33  4.724538e-05\n",
      "34  9.309484e-06\n",
      "35  1.407960e-07\n",
      "36  2.614620e-08\n",
      "37  5.163846e-09\n",
      "38  9.424723e-10\n",
      "39  4.981293e-15\n",
      "40  5.780614e-16\n",
      "41  6.229221e-17\n",
      "42 -1.277967e-16\n"
     ]
    }
   ],
   "source": [
    "# 요인수 선택 방법1 -> 요인수와 상관없다.\n",
    "print(pd.DataFrame(ev))"
   ]
  },
  {
   "cell_type": "code",
   "execution_count": 40,
   "metadata": {},
   "outputs": [
    {
     "data": {
      "image/png": "[encoded data removed]",
      "text/plain": [
       "<Figure size 432x288 with 1 Axes>"
      ]
     },
     "metadata": {
      "needs_background": "light"
     },
     "output_type": "display_data"
    }
   ],
   "source": [
    "# 요인수 선택 방법2 -> 요인수와 상관없다\n",
    "plt.scatter(range(1,internalMetrics_df_drop.shape[1]+1),ev)\n",
    "plt.plot(range(1,internalMetrics_df_drop.shape[1]+1),ev)\n",
    "plt.title('Scree Plot')\n",
    "plt.xlabel('Factors')\n",
    "plt.ylabel('Eigenvalue')\n",
    "plt.grid()\n",
    "plt.show()"
   ]
  },
  {
   "cell_type": "code",
   "execution_count": 41,
   "metadata": {},
   "outputs": [
    {
     "data": {
      "text/plain": [
       "<AxesSubplot:>"
      ]
     },
     "execution_count": 41,
     "metadata": {},
     "output_type": "execute_result"
    },
    {
     "data": {
      "image/png": "[encoded data removed]",
      "text/plain": [
       "<Figure size 432x720 with 2 Axes>"
      ]
     },
     "metadata": {
      "needs_background": "light"
     },
     "output_type": "display_data"
    }
   ],
   "source": [
    "# 요인수 선택 방법3\n",
    "# internal_metrics들이 포함되는 요인들 확인 -> 세로출이 거의다 포함되면 좋다.\n",
    "plt.figure(figsize=(6,10))\n",
    "sns.heatmap(internalMetrics_fa, cmap=\"Blues\", annot=True, fmt='.2f')"
   ]
  },
  {
   "cell_type": "markdown",
   "metadata": {},
   "source": [
    "---"
   ]
  },
  {
   "cell_type": "markdown",
   "metadata": {},
   "source": [
    "## Clustering"
   ]
  },
  {
   "cell_type": "code",
   "execution_count": 42,
   "metadata": {},
   "outputs": [],
   "source": [
    "# from sklearn.cluster import KMeans\n",
    "\n",
    "# kmeans = KMeans(n_clusters=3)\n",
    "# kmeans.fit(internalMetrics_fa)"
   ]
  },
  {
   "cell_type": "code",
   "execution_count": 43,
   "metadata": {},
   "outputs": [],
   "source": [
    "from sklearn.cluster import KMeans\n",
    "def kmeans(n_clusters, df):\n",
    "    kmeans = KMeans(n_clusters = n_clusters)\n",
    "    kmeans.fit(df)\n",
    "    \n",
    "    df['cluster'] = kmeans.labels_\n",
    "    \n",
    "    return df"
   ]
  },
  {
   "cell_type": "code",
   "execution_count": 44,
   "metadata": {},
   "outputs": [],
   "source": [
    "kmeans_df = kmeans(2, internalMetrics_fa)"
   ]
  },
  {
   "cell_type": "code",
   "execution_count": 45,
   "metadata": {},
   "outputs": [],
   "source": [
    "# 클러스터 개수 확인 함수\n",
    "def clusters(df):\n",
    "    \n",
    "    # 총 개수 확인\n",
    "    print(df['cluster'].value_counts())\n",
    "    print()\n",
    "    \n",
    "    count_cluster = len(df['cluster'].unique())\n",
    "    new_df = pd.DataFrame()\n",
    "    metric_list = []\n",
    "    \n",
    "    for i in range(count_cluster):\n",
    "        metric_list = list(df[df['cluster'] == i].index)\n",
    "        print(\"len = {}\".format(len(df[df['cluster'] == i])))\n",
    "        print(\"cluster{}\".format(i))\n",
    "        for metric in metric_list:\n",
    "            print(metric)\n",
    "        print()\n",
    "        \n",
    "    return new_df"
   ]
  },
  {
   "cell_type": "code",
   "execution_count": 46,
   "metadata": {},
   "outputs": [
    {
     "name": "stdout",
     "output_type": "stream",
     "text": [
      "1    25\n",
      "0    18\n",
      "Name: cluster, dtype: int64\n",
      "\n",
      "len = 18\n",
      "cluster0\n",
      "uptime_in_seconds\n",
      "lru_clock\n",
      "used_memory_peak_perc\n",
      "used_memory_dataset_perc\n",
      "allocator_frag_ratio\n",
      "mem_not_counted_for_evict\n",
      "mem_aof_buffer\n",
      "rdb_last_save_time\n",
      "rdb_last_bgsave_time_sec\n",
      "rdb_current_bgsave_time_sec\n",
      "rdb_last_cow_size\n",
      "aof_current_size\n",
      "aof_base_size\n",
      "latest_fork_usec\n",
      "used_cpu_sys\n",
      "used_cpu_user\n",
      "used_cpu_sys_children\n",
      "used_cpu_user_children\n",
      "\n",
      "len = 25\n",
      "cluster1\n",
      "hz\n",
      "used_memory\n",
      "used_memory_human\n",
      "used_memory_rss\n",
      "used_memory_rss_human\n",
      "used_memory_peak\n",
      "used_memory_peak_human\n",
      "used_memory_overhead\n",
      "used_memory_dataset\n",
      "allocator_allocated\n",
      "allocator_active\n",
      "allocator_resident\n",
      "maxmemory\n",
      "maxmemory_human\n",
      "allocator_frag_bytes\n",
      "allocator_rss_ratio\n",
      "allocator_rss_bytes\n",
      "rss_overhead_ratio\n",
      "rss_overhead_bytes\n",
      "mem_fragmentation_ratio\n",
      "mem_fragmentation_bytes\n",
      "rdb_changes_since_last_save\n",
      "instantaneous_ops_per_sec\n",
      "instantaneous_input_kbps\n",
      "instantaneous_output_kbps\n",
      "\n"
     ]
    }
   ],
   "source": [
    "df = clusters(kmeans_df)"
   ]
  },
  {
   "cell_type": "markdown",
   "metadata": {},
   "source": [
    "### Elbow"
   ]
  },
  {
   "cell_type": "code",
   "execution_count": 47,
   "metadata": {},
   "outputs": [],
   "source": [
    "def elbow(data, length):\n",
    "    sse = [] # sum of squre error 오차제곱합\n",
    "    for i in range(1, length):\n",
    "        kmeans = KMeans(n_clusters=i)\n",
    "        kmeans.fit(data)\n",
    "        # SSE 값 저장\n",
    "        sse.append(kmeans.inertia_)\n",
    "    plt.plot(range(1, length), sse, 'bo-')\n",
    "    plt.title(\"elbow method\")\n",
    "    plt.xlabel(\"number of clusters\")\n",
    "    plt.ylabel(\"SSE\")\n",
    "    plt.show()"
   ]
  },
  {
   "cell_type": "code",
   "execution_count": 48,
   "metadata": {},
   "outputs": [
    {
     "data": {
      "image/png": "[encoded data removed]",
      "text/plain": [
       "<Figure size 432x288 with 1 Axes>"
      ]
     },
     "metadata": {
      "needs_background": "light"
     },
     "output_type": "display_data"
    }
   ],
   "source": [
    "# 확 꺽이는 지점을 선택해야 한다. \n",
    "elbow(internalMetrics_fa, 10)"
   ]
  },
  {
   "cell_type": "code",
   "execution_count": 49,
   "metadata": {},
   "outputs": [],
   "source": [
    "# def visualize_silhouette_layer(data, param_init='random', param_n_init=10, param_max_iter=300):\n",
    "#     clusters_range = range(2,15)\n",
    "#     results = []\n",
    "\n",
    "#     for i in clusters_range:\n",
    "#         clusterer = KMeans(n_clusters=i, init=param_init, n_init=param_n_init, max_iter=param_max_iter, random_state=0)\n",
    "#         cluster_labels = clusterer.fit_predict(data)\n",
    "#         silhouette_avg = silhouette_score(data, cluster_labels)\n",
    "#         results.append([i, silhouette_avg])\n",
    "\n",
    "#     result = pd.DataFrame(results, columns=[\"n_clusters\", \"silhouette_score\"])\n",
    "#     pivot_km = pd.pivot_table(result, index=\"n_clusters\", values=\"silhouette_score\")\n",
    "\n",
    "#     plt.figure()\n",
    "#     sns.heatmap(pivot_km, annot=True, linewidths=.5, fmt='.3f', cmap=sns.cm._rocket_lut)\n",
    "#     plt.tight_layout()\n",
    "#     plt.show()"
   ]
  },
  {
   "cell_type": "code",
   "execution_count": null,
   "metadata": {},
   "outputs": [],
   "source": []
  },
  {
   "cell_type": "code",
   "execution_count": null,
   "metadata": {},
   "outputs": [],
   "source": []
  }
 ],
 "metadata": {
  "kernelspec": {
   "display_name": "Python 3",
   "language": "python",
   "name": "python3"
  },
  "language_info": {
   "codemirror_mode": {
    "name": "ipython",
    "version": 3
   },
   "file_extension": ".py",
   "mimetype": "text/x-python",
   "name": "python",
   "nbconvert_exporter": "python",
   "pygments_lexer": "ipython3",
   "version": "3.8.5"
  }
 },
 "nbformat": 4,
 "nbformat_minor": 4
}
