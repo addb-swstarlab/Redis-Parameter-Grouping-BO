{
 "cells": [
  {
   "cell_type": "markdown",
   "metadata": {},
   "source": [
    "# 상관분석"
   ]
  },
  {
   "cell_type": "code",
   "execution_count": 4,
   "metadata": {},
   "outputs": [
    {
     "name": "stdout",
     "output_type": "stream",
     "text": [
      "The DataFrame of Employees is:\n",
      "   Age  Weight(KG)  Height(meters)  Salary($)\n",
      "0   20          65            1.60       3200\n",
      "1   22          75            1.70       3500\n",
      "2   29          80            1.85       4000\n",
      "3   20          60            1.69       2090\n",
      "4   20          63            1.80       2500\n",
      "5   21          70            1.75       3600 \n",
      "\n"
     ]
    }
   ],
   "source": [
    "import pandas as pd\n",
    "\n",
    "employees_df = pd.DataFrame({\n",
    "#     'Name': [\"Jonathan\", \"Will\", \"Michael\", \"Liva\", \"Sia\", \"Alice\"],\n",
    "    'Age': [20, 22, 29, 20, 20, 21],\n",
    "    'Weight(KG)': [65, 75, 80, 60, 63, 70],\n",
    "    'Height(meters)': [1.6, 1.7, 1.85, 1.69, 1.8, 1.75],\n",
    "    'Salary($)': [3200, 3500, 4000, 2090, 2500, 3600]\n",
    "\n",
    "})\n",
    "\n",
    "print(\"The DataFrame of Employees is:\")\n",
    "print(employees_df, \"\\n\")"
   ]
  },
  {
   "cell_type": "code",
   "execution_count": 8,
   "metadata": {},
   "outputs": [
    {
     "data": {
      "image/png": "[encoded data removed]",
      "text/plain": [
       "<Figure size 432x288 with 1 Axes>"
      ]
     },
     "metadata": {
      "needs_background": "light"
     },
     "output_type": "display_data"
    }
   ],
   "source": [
    "import matplotlib.pyplot as plt\n",
    "plt.scatter(employees_df['Weight(KG)'], employees_df['Age'], alpha=0.5)\n",
    "plt.xlabel('Age')\n",
    "plt.ylabel('Weight(KG)')\n",
    "plt.show()\n"
   ]
  },
  {
   "cell_type": "code",
   "execution_count": 13,
   "metadata": {},
   "outputs": [
    {
     "data": {
      "text/plain": [
       "0    65\n",
       "1    75\n",
       "2    80\n",
       "3    60\n",
       "4    63\n",
       "5    70\n",
       "Name: Weight(KG), dtype: int64"
      ]
     },
     "execution_count": 13,
     "metadata": {},
     "output_type": "execute_result"
    }
   ],
   "source": [
    "employees_df['Weight(KG)']"
   ]
  },
  {
   "cell_type": "code",
   "execution_count": 7,
   "metadata": {},
   "outputs": [
    {
     "name": "stdout",
     "output_type": "stream",
     "text": [
      "The correlation DataFrame is:\n",
      "                     Age  Weight(KG)  Height(meters)  Salary($)\n",
      "Age             1.000000    0.848959        0.655252   0.695206\n",
      "Weight(KG)      0.848959    1.000000        0.480998   0.914861\n",
      "Height(meters)  0.655252    0.480998        1.000000   0.285423\n",
      "Salary($)       0.695206    0.914861        0.285423   1.000000 \n",
      "\n"
     ]
    }
   ],
   "source": [
    "corr_df = employees_df.corr()\n",
    "print(\"The correlation DataFrame is:\")\n",
    "print(corr_df, \"\\n\")"
   ]
  },
  {
   "cell_type": "code",
   "execution_count": 10,
   "metadata": {},
   "outputs": [
    {
     "data": {
      "text/html": [
       "<div>\n",
       "<style scoped>\n",
       "    .dataframe tbody tr th:only-of-type {\n",
       "        vertical-align: middle;\n",
       "    }\n",
       "\n",
       "    .dataframe tbody tr th {\n",
       "        vertical-align: top;\n",
       "    }\n",
       "\n",
       "    .dataframe thead th {\n",
       "        text-align: right;\n",
       "    }\n",
       "</style>\n",
       "<table border=\"1\" class=\"dataframe\">\n",
       "  <thead>\n",
       "    <tr style=\"text-align: right;\">\n",
       "      <th></th>\n",
       "      <th>Age</th>\n",
       "      <th>Weight(KG)</th>\n",
       "      <th>Height(meters)</th>\n",
       "      <th>Salary($)</th>\n",
       "    </tr>\n",
       "  </thead>\n",
       "  <tbody>\n",
       "    <tr>\n",
       "      <th>0</th>\n",
       "      <td>-0.622171</td>\n",
       "      <td>-0.550592</td>\n",
       "      <td>-1.631382</td>\n",
       "      <td>0.078546</td>\n",
       "    </tr>\n",
       "    <tr>\n",
       "      <th>1</th>\n",
       "      <td>0.000000</td>\n",
       "      <td>0.885735</td>\n",
       "      <td>-0.392358</td>\n",
       "      <td>0.534623</td>\n",
       "    </tr>\n",
       "    <tr>\n",
       "      <th>2</th>\n",
       "      <td>2.177599</td>\n",
       "      <td>1.603899</td>\n",
       "      <td>1.466179</td>\n",
       "      <td>1.294750</td>\n",
       "    </tr>\n",
       "    <tr>\n",
       "      <th>3</th>\n",
       "      <td>-0.622171</td>\n",
       "      <td>-1.268756</td>\n",
       "      <td>-0.516260</td>\n",
       "      <td>-1.608936</td>\n",
       "    </tr>\n",
       "    <tr>\n",
       "      <th>4</th>\n",
       "      <td>-0.622171</td>\n",
       "      <td>-0.837858</td>\n",
       "      <td>0.846667</td>\n",
       "      <td>-0.985632</td>\n",
       "    </tr>\n",
       "    <tr>\n",
       "      <th>5</th>\n",
       "      <td>-0.311086</td>\n",
       "      <td>0.167572</td>\n",
       "      <td>0.227154</td>\n",
       "      <td>0.686648</td>\n",
       "    </tr>\n",
       "  </tbody>\n",
       "</table>\n",
       "</div>"
      ],
      "text/plain": [
       "        Age  Weight(KG)  Height(meters)  Salary($)\n",
       "0 -0.622171   -0.550592       -1.631382   0.078546\n",
       "1  0.000000    0.885735       -0.392358   0.534623\n",
       "2  2.177599    1.603899        1.466179   1.294750\n",
       "3 -0.622171   -1.268756       -0.516260  -1.608936\n",
       "4 -0.622171   -0.837858        0.846667  -0.985632\n",
       "5 -0.311086    0.167572        0.227154   0.686648"
      ]
     },
     "execution_count": 10,
     "metadata": {},
     "output_type": "execute_result"
    }
   ],
   "source": [
    "# 표준화\n",
    "from sklearn.preprocessing import StandardScaler\n",
    "\n",
    "scaler = StandardScaler()\n",
    "scaler.fit(employees_df)\n",
    "employees_scaled = scaler.transform(employees_df)\n",
    "\n",
    "employees_df_scaled = pd.DataFrame(employees_scaled, columns = employees_df.columns)\n",
    "employees_df_scaled"
   ]
  },
  {
   "cell_type": "code",
   "execution_count": 11,
   "metadata": {},
   "outputs": [
    {
     "data": {
      "image/png": "[encoded data removed]",
      "text/plain": [
       "<Figure size 432x288 with 1 Axes>"
      ]
     },
     "metadata": {
      "needs_background": "light"
     },
     "output_type": "display_data"
    }
   ],
   "source": [
    "plt.scatter(employees_df_scaled['Weight(KG)'], employees_df_scaled['Age'], alpha=0.5)\n",
    "plt.xlabel('Age')\n",
    "plt.ylabel('Weight(KG)')\n",
    "plt.show()\n"
   ]
  },
  {
   "cell_type": "code",
   "execution_count": 13,
   "metadata": {},
   "outputs": [
    {
     "data": {
      "text/html": [
       "<div>\n",
       "<style scoped>\n",
       "    .dataframe tbody tr th:only-of-type {\n",
       "        vertical-align: middle;\n",
       "    }\n",
       "\n",
       "    .dataframe tbody tr th {\n",
       "        vertical-align: top;\n",
       "    }\n",
       "\n",
       "    .dataframe thead th {\n",
       "        text-align: right;\n",
       "    }\n",
       "</style>\n",
       "<table border=\"1\" class=\"dataframe\">\n",
       "  <thead>\n",
       "    <tr style=\"text-align: right;\">\n",
       "      <th></th>\n",
       "      <th>Age</th>\n",
       "      <th>Weight(KG)</th>\n",
       "      <th>Height(meters)</th>\n",
       "      <th>Salary($)</th>\n",
       "    </tr>\n",
       "  </thead>\n",
       "  <tbody>\n",
       "    <tr>\n",
       "      <th>Age</th>\n",
       "      <td>1.000000</td>\n",
       "      <td>0.848959</td>\n",
       "      <td>0.655252</td>\n",
       "      <td>0.695206</td>\n",
       "    </tr>\n",
       "    <tr>\n",
       "      <th>Weight(KG)</th>\n",
       "      <td>0.848959</td>\n",
       "      <td>1.000000</td>\n",
       "      <td>0.480998</td>\n",
       "      <td>0.914861</td>\n",
       "    </tr>\n",
       "    <tr>\n",
       "      <th>Height(meters)</th>\n",
       "      <td>0.655252</td>\n",
       "      <td>0.480998</td>\n",
       "      <td>1.000000</td>\n",
       "      <td>0.285423</td>\n",
       "    </tr>\n",
       "    <tr>\n",
       "      <th>Salary($)</th>\n",
       "      <td>0.695206</td>\n",
       "      <td>0.914861</td>\n",
       "      <td>0.285423</td>\n",
       "      <td>1.000000</td>\n",
       "    </tr>\n",
       "  </tbody>\n",
       "</table>\n",
       "</div>"
      ],
      "text/plain": [
       "                     Age  Weight(KG)  Height(meters)  Salary($)\n",
       "Age             1.000000    0.848959        0.655252   0.695206\n",
       "Weight(KG)      0.848959    1.000000        0.480998   0.914861\n",
       "Height(meters)  0.655252    0.480998        1.000000   0.285423\n",
       "Salary($)       0.695206    0.914861        0.285423   1.000000"
      ]
     },
     "execution_count": 13,
     "metadata": {},
     "output_type": "execute_result"
    }
   ],
   "source": [
    "# 표준화 후 상관분석\n",
    "employees_df_scaled.corr()"
   ]
  },
  {
   "cell_type": "code",
   "execution_count": 20,
   "metadata": {},
   "outputs": [
    {
     "data": {
      "text/html": [
       "<div>\n",
       "<style scoped>\n",
       "    .dataframe tbody tr th:only-of-type {\n",
       "        vertical-align: middle;\n",
       "    }\n",
       "\n",
       "    .dataframe tbody tr th {\n",
       "        vertical-align: top;\n",
       "    }\n",
       "\n",
       "    .dataframe thead th {\n",
       "        text-align: right;\n",
       "    }\n",
       "</style>\n",
       "<table border=\"1\" class=\"dataframe\">\n",
       "  <thead>\n",
       "    <tr style=\"text-align: right;\">\n",
       "      <th></th>\n",
       "      <th>Age</th>\n",
       "      <th>Weight(KG)</th>\n",
       "      <th>Height(meters)</th>\n",
       "      <th>Salary($)</th>\n",
       "    </tr>\n",
       "  </thead>\n",
       "  <tbody>\n",
       "    <tr>\n",
       "      <th>0</th>\n",
       "      <td>0.000000</td>\n",
       "      <td>0.25</td>\n",
       "      <td>0.00</td>\n",
       "      <td>0.581152</td>\n",
       "    </tr>\n",
       "    <tr>\n",
       "      <th>1</th>\n",
       "      <td>0.222222</td>\n",
       "      <td>0.75</td>\n",
       "      <td>0.40</td>\n",
       "      <td>0.738220</td>\n",
       "    </tr>\n",
       "    <tr>\n",
       "      <th>2</th>\n",
       "      <td>1.000000</td>\n",
       "      <td>1.00</td>\n",
       "      <td>1.00</td>\n",
       "      <td>1.000000</td>\n",
       "    </tr>\n",
       "    <tr>\n",
       "      <th>3</th>\n",
       "      <td>0.000000</td>\n",
       "      <td>0.00</td>\n",
       "      <td>0.36</td>\n",
       "      <td>0.000000</td>\n",
       "    </tr>\n",
       "    <tr>\n",
       "      <th>4</th>\n",
       "      <td>0.000000</td>\n",
       "      <td>0.15</td>\n",
       "      <td>0.80</td>\n",
       "      <td>0.214660</td>\n",
       "    </tr>\n",
       "    <tr>\n",
       "      <th>5</th>\n",
       "      <td>0.111111</td>\n",
       "      <td>0.50</td>\n",
       "      <td>0.60</td>\n",
       "      <td>0.790576</td>\n",
       "    </tr>\n",
       "  </tbody>\n",
       "</table>\n",
       "</div>"
      ],
      "text/plain": [
       "        Age  Weight(KG)  Height(meters)  Salary($)\n",
       "0  0.000000        0.25            0.00   0.581152\n",
       "1  0.222222        0.75            0.40   0.738220\n",
       "2  1.000000        1.00            1.00   1.000000\n",
       "3  0.000000        0.00            0.36   0.000000\n",
       "4  0.000000        0.15            0.80   0.214660\n",
       "5  0.111111        0.50            0.60   0.790576"
      ]
     },
     "execution_count": 20,
     "metadata": {},
     "output_type": "execute_result"
    }
   ],
   "source": [
    "# 정규화\n",
    "from sklearn.preprocessing import MinMaxScaler\n",
    "\n",
    "scaler_mm = MinMaxScaler()\n",
    "scaler_mm.fit(employees_df)\n",
    "employees_scaled_mm = scaler_mm.transform(employees_df)\n",
    "\n",
    "employees_scaled_mm_df = pd.DataFrame(employees_scaled_mm, columns = employees_df.columns)\n",
    "employees_scaled_mm_df"
   ]
  },
  {
   "cell_type": "markdown",
   "metadata": {},
   "source": [
    "## 공분산"
   ]
  },
  {
   "cell_type": "code",
   "execution_count": 14,
   "metadata": {},
   "outputs": [
    {
     "data": {
      "text/html": [
       "<div>\n",
       "<style scoped>\n",
       "    .dataframe tbody tr th:only-of-type {\n",
       "        vertical-align: middle;\n",
       "    }\n",
       "\n",
       "    .dataframe tbody tr th {\n",
       "        vertical-align: top;\n",
       "    }\n",
       "\n",
       "    .dataframe thead th {\n",
       "        text-align: right;\n",
       "    }\n",
       "</style>\n",
       "<table border=\"1\" class=\"dataframe\">\n",
       "  <thead>\n",
       "    <tr style=\"text-align: right;\">\n",
       "      <th></th>\n",
       "      <th>Age</th>\n",
       "      <th>Weight(KG)</th>\n",
       "      <th>Height(meters)</th>\n",
       "      <th>Salary($)</th>\n",
       "    </tr>\n",
       "  </thead>\n",
       "  <tbody>\n",
       "    <tr>\n",
       "      <th>Age</th>\n",
       "      <td>12.400</td>\n",
       "      <td>22.800000</td>\n",
       "      <td>0.204000</td>\n",
       "      <td>1764.000000</td>\n",
       "    </tr>\n",
       "    <tr>\n",
       "      <th>Weight(KG)</th>\n",
       "      <td>22.800</td>\n",
       "      <td>58.166667</td>\n",
       "      <td>0.324333</td>\n",
       "      <td>5027.666667</td>\n",
       "    </tr>\n",
       "    <tr>\n",
       "      <th>Height(meters)</th>\n",
       "      <td>0.204</td>\n",
       "      <td>0.324333</td>\n",
       "      <td>0.007817</td>\n",
       "      <td>18.183333</td>\n",
       "    </tr>\n",
       "    <tr>\n",
       "      <th>Salary($)</th>\n",
       "      <td>1764.000</td>\n",
       "      <td>5027.666667</td>\n",
       "      <td>18.183333</td>\n",
       "      <td>519216.666667</td>\n",
       "    </tr>\n",
       "  </tbody>\n",
       "</table>\n",
       "</div>"
      ],
      "text/plain": [
       "                     Age   Weight(KG)  Height(meters)      Salary($)\n",
       "Age               12.400    22.800000        0.204000    1764.000000\n",
       "Weight(KG)        22.800    58.166667        0.324333    5027.666667\n",
       "Height(meters)     0.204     0.324333        0.007817      18.183333\n",
       "Salary($)       1764.000  5027.666667       18.183333  519216.666667"
      ]
     },
     "execution_count": 14,
     "metadata": {},
     "output_type": "execute_result"
    }
   ],
   "source": [
    "# 스케일 적용 전 공분산\n",
    "employees_df.cov()"
   ]
  },
  {
   "cell_type": "code",
   "execution_count": 16,
   "metadata": {},
   "outputs": [
    {
     "data": {
      "text/html": [
       "<div>\n",
       "<style scoped>\n",
       "    .dataframe tbody tr th:only-of-type {\n",
       "        vertical-align: middle;\n",
       "    }\n",
       "\n",
       "    .dataframe tbody tr th {\n",
       "        vertical-align: top;\n",
       "    }\n",
       "\n",
       "    .dataframe thead th {\n",
       "        text-align: right;\n",
       "    }\n",
       "</style>\n",
       "<table border=\"1\" class=\"dataframe\">\n",
       "  <thead>\n",
       "    <tr style=\"text-align: right;\">\n",
       "      <th></th>\n",
       "      <th>Age</th>\n",
       "      <th>Weight(KG)</th>\n",
       "      <th>Height(meters)</th>\n",
       "      <th>Salary($)</th>\n",
       "    </tr>\n",
       "  </thead>\n",
       "  <tbody>\n",
       "    <tr>\n",
       "      <th>Age</th>\n",
       "      <td>1.200000</td>\n",
       "      <td>1.018751</td>\n",
       "      <td>0.786303</td>\n",
       "      <td>0.834247</td>\n",
       "    </tr>\n",
       "    <tr>\n",
       "      <th>Weight(KG)</th>\n",
       "      <td>1.018751</td>\n",
       "      <td>1.200000</td>\n",
       "      <td>0.577198</td>\n",
       "      <td>1.097833</td>\n",
       "    </tr>\n",
       "    <tr>\n",
       "      <th>Height(meters)</th>\n",
       "      <td>0.786303</td>\n",
       "      <td>0.577198</td>\n",
       "      <td>1.200000</td>\n",
       "      <td>0.342507</td>\n",
       "    </tr>\n",
       "    <tr>\n",
       "      <th>Salary($)</th>\n",
       "      <td>0.834247</td>\n",
       "      <td>1.097833</td>\n",
       "      <td>0.342507</td>\n",
       "      <td>1.200000</td>\n",
       "    </tr>\n",
       "  </tbody>\n",
       "</table>\n",
       "</div>"
      ],
      "text/plain": [
       "                     Age  Weight(KG)  Height(meters)  Salary($)\n",
       "Age             1.200000    1.018751        0.786303   0.834247\n",
       "Weight(KG)      1.018751    1.200000        0.577198   1.097833\n",
       "Height(meters)  0.786303    0.577198        1.200000   0.342507\n",
       "Salary($)       0.834247    1.097833        0.342507   1.200000"
      ]
     },
     "execution_count": 16,
     "metadata": {},
     "output_type": "execute_result"
    }
   ],
   "source": [
    "# 표준화 후 공분산\n",
    "employees_df_scaled.cov()"
   ]
  },
  {
   "cell_type": "code",
   "execution_count": 21,
   "metadata": {},
   "outputs": [
    {
     "data": {
      "text/html": [
       "<div>\n",
       "<style scoped>\n",
       "    .dataframe tbody tr th:only-of-type {\n",
       "        vertical-align: middle;\n",
       "    }\n",
       "\n",
       "    .dataframe tbody tr th {\n",
       "        vertical-align: top;\n",
       "    }\n",
       "\n",
       "    .dataframe thead th {\n",
       "        text-align: right;\n",
       "    }\n",
       "</style>\n",
       "<table border=\"1\" class=\"dataframe\">\n",
       "  <thead>\n",
       "    <tr style=\"text-align: right;\">\n",
       "      <th></th>\n",
       "      <th>Age</th>\n",
       "      <th>Weight(KG)</th>\n",
       "      <th>Height(meters)</th>\n",
       "      <th>Salary($)</th>\n",
       "    </tr>\n",
       "  </thead>\n",
       "  <tbody>\n",
       "    <tr>\n",
       "      <th>Age</th>\n",
       "      <td>0.153086</td>\n",
       "      <td>0.126667</td>\n",
       "      <td>0.090667</td>\n",
       "      <td>0.102618</td>\n",
       "    </tr>\n",
       "    <tr>\n",
       "      <th>Weight(KG)</th>\n",
       "      <td>0.126667</td>\n",
       "      <td>0.145417</td>\n",
       "      <td>0.064867</td>\n",
       "      <td>0.131614</td>\n",
       "    </tr>\n",
       "    <tr>\n",
       "      <th>Height(meters)</th>\n",
       "      <td>0.090667</td>\n",
       "      <td>0.064867</td>\n",
       "      <td>0.125067</td>\n",
       "      <td>0.038080</td>\n",
       "    </tr>\n",
       "    <tr>\n",
       "      <th>Salary($)</th>\n",
       "      <td>0.102618</td>\n",
       "      <td>0.131614</td>\n",
       "      <td>0.038080</td>\n",
       "      <td>0.142325</td>\n",
       "    </tr>\n",
       "  </tbody>\n",
       "</table>\n",
       "</div>"
      ],
      "text/plain": [
       "                     Age  Weight(KG)  Height(meters)  Salary($)\n",
       "Age             0.153086    0.126667        0.090667   0.102618\n",
       "Weight(KG)      0.126667    0.145417        0.064867   0.131614\n",
       "Height(meters)  0.090667    0.064867        0.125067   0.038080\n",
       "Salary($)       0.102618    0.131614        0.038080   0.142325"
      ]
     },
     "execution_count": 21,
     "metadata": {},
     "output_type": "execute_result"
    }
   ],
   "source": [
    "# 정규화 후 공분산\n",
    "employees_scaled_mm_df.cov()"
   ]
  },
  {
   "cell_type": "code",
   "execution_count": null,
   "metadata": {},
   "outputs": [],
   "source": []
  }
 ],
 "metadata": {
  "kernelspec": {
   "display_name": "Python 3",
   "language": "python",
   "name": "python3"
  },
  "language_info": {
   "codemirror_mode": {
    "name": "ipython",
    "version": 3
   },
   "file_extension": ".py",
   "mimetype": "text/x-python",
   "name": "python",
   "nbconvert_exporter": "python",
   "pygments_lexer": "ipython3",
   "version": "3.8.5"
  }
 },
 "nbformat": 4,
 "nbformat_minor": 4
}
