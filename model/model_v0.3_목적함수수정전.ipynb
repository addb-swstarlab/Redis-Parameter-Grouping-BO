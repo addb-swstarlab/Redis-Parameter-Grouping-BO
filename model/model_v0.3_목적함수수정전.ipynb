{
 "cells": [
  {
   "cell_type": "markdown",
   "metadata": {},
   "source": [
    "# model"
   ]
  },
  {
   "cell_type": "code",
   "execution_count": 255,
   "metadata": {},
   "outputs": [],
   "source": [
    "import pandas as pd\n",
    "import numpy as np\n",
    "from sklearn.datasets import load_boston\n",
    "import xgboost\n",
    "import matplotlib.pyplot as plt\n",
    "from sklearn.model_selection import train_test_split\n",
    "from sklearn.metrics import explained_variance_score\n",
    "from lightgbm import LGBMRegressor, plot_importance\n",
    "from sklearn.metrics import roc_auc_score"
   ]
  },
  {
   "cell_type": "code",
   "execution_count": null,
   "metadata": {},
   "outputs": [],
   "source": [
    "        'active-defrag-threshold-lower',\n",
    "        'save0_0',\n",
    "        'save1_0',\n",
    "        'save2_1',\n",
    "        'maxmemory',\n",
    "        'maxmemory-samples',\n",
    "        'hz',\n",
    "        \n",
    "        'rdbcompression',\n",
    "        'lazyfree-lazy-eviction',\n",
    "        'lazyfree-lazy-server-del',\n",
    "        'activerehashing',\n",
    "        'dynamic-hz',"
   ]
  },
  {
   "cell_type": "code",
   "execution_count": 338,
   "metadata": {},
   "outputs": [],
   "source": [
    "# knob 종류 및 바운드\n",
    "['yes', 32, 'yes', 700, 355, 9577, 'no', 1, 2900, 7, 'no', 'no']\n",
    "knobs_rdb = {\n",
    "    \n",
    "#     \"hash-max-ziplist-entries\":     (256, 751), \n",
    "#     \"hash-max-ziplist-value\": (16, 257),\n",
    "    \"activerehashing\": ('yes', 'no'),  ##yes\n",
    "    \"hz\": (1, 41),\n",
    "    \"dynamic-hz\": ('yes', 'no'),\n",
    "\n",
    "    \"save0_0\": (700,1100),\n",
    "#     \"save0_1\": (1,9),\n",
    "    \"save1_0\": (100,500),\n",
    "#     \"save1_1\": (10,100),\n",
    "#     \"save2_0\": (30,90),\n",
    "    \"save2_1\": (8000,12000),\n",
    "\n",
    "    \"rdbcompression\": ('yes', 'no'), ##yes\n",
    "#     \"rdbchecksum\": ('yes', 'no'),    ##yes\n",
    "#     \"rdb-save-incremental-fsync\": ('yes', 'no'),   ## yes\n",
    "\n",
    "#     \"activedefrag\": ('yes','no'),  \n",
    "    \"active-defrag-threshold-lower\": (1, 31),\n",
    "#     \"active-defrag-threshold-upper\": (70, 101),\n",
    "#     \"active-defrag-cycle-min\": (1, 31),\n",
    "#     \"active-defrag-cycle-max\": (70, 91),\n",
    "    \n",
    "    \"maxmemory\": (1000, 2900),   ##\"volatile-lru\"\n",
    "#     \"maxmemory-policy\":     (\"volatile-lru\", \"allkeys-lru\", \"volatile-lfu\", \"allkeys-lfu\", \n",
    "#                              \"volatile-random\",\"allkeys-random\", \"volatile-ttl\", \"noeviction\"),\n",
    "    \"maxmemory-samples\": (3, 7),\n",
    "    \n",
    "    \"lazyfree-lazy-eviction\": ('yes', 'no'),\n",
    "#     \"lazyfree-lazy-expire\": ('yes', 'no'),\n",
    "    \"lazyfree-lazy-server-del\": ('yes', 'no')\n",
    "}\n",
    "\n",
    "knobs_list = list(knobs_rdb.keys())\n",
    "knobs_bound = list(knobs_rdb.values())"
   ]
  },
  {
   "cell_type": "markdown",
   "metadata": {},
   "source": [
    "## 데이터 전처리\n",
    "* 이상치 파악\n",
    "* test, train 데이터 잘 나뉘어졌는지 확인"
   ]
  },
  {
   "cell_type": "code",
   "execution_count": 339,
   "metadata": {},
   "outputs": [],
   "source": [
    "# config(knob) data\n",
    "config_df = pd.read_csv(\"./data/result_config_6000_6.csv\", sep=',')\n",
    "\n",
    "# external(throughput) data\n",
    "external_df = pd.read_csv(\"./data/external_metrics_6000_6.csv\", sep=',')"
   ]
  },
  {
   "cell_type": "code",
   "execution_count": 340,
   "metadata": {},
   "outputs": [],
   "source": [
    "# config(knog), external(throughput) 데이터 하나의 프레임으로 결합\n",
    "dataset = config_df\n",
    "dataset['throughput'] = external_df['Gets_KB/sec']"
   ]
  },
  {
   "cell_type": "code",
   "execution_count": 341,
   "metadata": {},
   "outputs": [
    {
     "data": {
      "text/html": [
       "<div>\n",
       "<style scoped>\n",
       "    .dataframe tbody tr th:only-of-type {\n",
       "        vertical-align: middle;\n",
       "    }\n",
       "\n",
       "    .dataframe tbody tr th {\n",
       "        vertical-align: top;\n",
       "    }\n",
       "\n",
       "    .dataframe thead th {\n",
       "        text-align: right;\n",
       "    }\n",
       "</style>\n",
       "<table border=\"1\" class=\"dataframe\">\n",
       "  <thead>\n",
       "    <tr style=\"text-align: right;\">\n",
       "      <th></th>\n",
       "      <th>appendonly</th>\n",
       "      <th>appendfsync</th>\n",
       "      <th>auto-aof-rewrite-percentage</th>\n",
       "      <th>auto-aof-rewrite-min-size</th>\n",
       "      <th>no-appendfsync-on-rewrite</th>\n",
       "      <th>aof-rewrite-incremental-fsync</th>\n",
       "      <th>aof-use-rdb-preamble</th>\n",
       "      <th>save0_0</th>\n",
       "      <th>save0_1</th>\n",
       "      <th>save1_0</th>\n",
       "      <th>...</th>\n",
       "      <th>maxmemory-samples</th>\n",
       "      <th>lazyfree-lazy-eviction</th>\n",
       "      <th>lazyfree-lazy-expire</th>\n",
       "      <th>lazyfree-lazy-server-del</th>\n",
       "      <th>hash-max-ziplist-entries</th>\n",
       "      <th>hash-max-ziplist-value</th>\n",
       "      <th>activerehashing</th>\n",
       "      <th>hz</th>\n",
       "      <th>dynamic-hz</th>\n",
       "      <th>throughput</th>\n",
       "    </tr>\n",
       "  </thead>\n",
       "  <tbody>\n",
       "    <tr>\n",
       "      <th>0</th>\n",
       "      <td>NaN</td>\n",
       "      <td>NaN</td>\n",
       "      <td>NaN</td>\n",
       "      <td>NaN</td>\n",
       "      <td>NaN</td>\n",
       "      <td>NaN</td>\n",
       "      <td>NaN</td>\n",
       "      <td>805</td>\n",
       "      <td>5</td>\n",
       "      <td>178</td>\n",
       "      <td>...</td>\n",
       "      <td>5</td>\n",
       "      <td>no</td>\n",
       "      <td>yes</td>\n",
       "      <td>yes</td>\n",
       "      <td>258</td>\n",
       "      <td>253</td>\n",
       "      <td>no</td>\n",
       "      <td>7</td>\n",
       "      <td>yes</td>\n",
       "      <td>61645.41</td>\n",
       "    </tr>\n",
       "    <tr>\n",
       "      <th>1</th>\n",
       "      <td>NaN</td>\n",
       "      <td>NaN</td>\n",
       "      <td>NaN</td>\n",
       "      <td>NaN</td>\n",
       "      <td>NaN</td>\n",
       "      <td>NaN</td>\n",
       "      <td>NaN</td>\n",
       "      <td>1097</td>\n",
       "      <td>3</td>\n",
       "      <td>499</td>\n",
       "      <td>...</td>\n",
       "      <td>3</td>\n",
       "      <td>yes</td>\n",
       "      <td>yes</td>\n",
       "      <td>yes</td>\n",
       "      <td>360</td>\n",
       "      <td>226</td>\n",
       "      <td>yes</td>\n",
       "      <td>32</td>\n",
       "      <td>yes</td>\n",
       "      <td>63270.32</td>\n",
       "    </tr>\n",
       "    <tr>\n",
       "      <th>2</th>\n",
       "      <td>NaN</td>\n",
       "      <td>NaN</td>\n",
       "      <td>NaN</td>\n",
       "      <td>NaN</td>\n",
       "      <td>NaN</td>\n",
       "      <td>NaN</td>\n",
       "      <td>NaN</td>\n",
       "      <td>1018</td>\n",
       "      <td>2</td>\n",
       "      <td>497</td>\n",
       "      <td>...</td>\n",
       "      <td>3</td>\n",
       "      <td>yes</td>\n",
       "      <td>yes</td>\n",
       "      <td>yes</td>\n",
       "      <td>364</td>\n",
       "      <td>136</td>\n",
       "      <td>yes</td>\n",
       "      <td>40</td>\n",
       "      <td>no</td>\n",
       "      <td>63602.49</td>\n",
       "    </tr>\n",
       "  </tbody>\n",
       "</table>\n",
       "<p>3 rows × 33 columns</p>\n",
       "</div>"
      ],
      "text/plain": [
       "   appendonly  appendfsync  auto-aof-rewrite-percentage  \\\n",
       "0         NaN          NaN                          NaN   \n",
       "1         NaN          NaN                          NaN   \n",
       "2         NaN          NaN                          NaN   \n",
       "\n",
       "   auto-aof-rewrite-min-size  no-appendfsync-on-rewrite  \\\n",
       "0                        NaN                        NaN   \n",
       "1                        NaN                        NaN   \n",
       "2                        NaN                        NaN   \n",
       "\n",
       "   aof-rewrite-incremental-fsync  aof-use-rdb-preamble  save0_0  save0_1  \\\n",
       "0                            NaN                   NaN      805        5   \n",
       "1                            NaN                   NaN     1097        3   \n",
       "2                            NaN                   NaN     1018        2   \n",
       "\n",
       "   save1_0  ...  maxmemory-samples  lazyfree-lazy-eviction  \\\n",
       "0      178  ...                  5                      no   \n",
       "1      499  ...                  3                     yes   \n",
       "2      497  ...                  3                     yes   \n",
       "\n",
       "   lazyfree-lazy-expire lazyfree-lazy-server-del hash-max-ziplist-entries  \\\n",
       "0                   yes                      yes                      258   \n",
       "1                   yes                      yes                      360   \n",
       "2                   yes                      yes                      364   \n",
       "\n",
       "  hash-max-ziplist-value activerehashing  hz  dynamic-hz  throughput  \n",
       "0                    253              no   7         yes    61645.41  \n",
       "1                    226             yes  32         yes    63270.32  \n",
       "2                    136             yes  40          no    63602.49  \n",
       "\n",
       "[3 rows x 33 columns]"
      ]
     },
     "execution_count": 341,
     "metadata": {},
     "output_type": "execute_result"
    }
   ],
   "source": [
    "dataset.head(3)"
   ]
  },
  {
   "cell_type": "code",
   "execution_count": 342,
   "metadata": {},
   "outputs": [],
   "source": [
    "# 결측치 처리 \n",
    "dataset_nan = dataset.copy()\n",
    "dataset['activedefrag'].fillna(value='no', inplace=True)  # activedefrag no 채우기\n",
    "dataset = dataset.fillna(value = 0)  # 전부 0으로 채움"
   ]
  },
  {
   "cell_type": "code",
   "execution_count": 343,
   "metadata": {},
   "outputs": [],
   "source": [
    "# maxmemory knob 단위(mb) 처리\n",
    "dataset['maxmemory']  = dataset['maxmemory'].str.strip('mb')\n",
    "dataset['maxmemory'] = pd.to_numeric(dataset['maxmemory'])"
   ]
  },
  {
   "cell_type": "code",
   "execution_count": 344,
   "metadata": {},
   "outputs": [],
   "source": [
    "# Object 변수 categorical 로 변경 (LightGBM에 바로 넣기 위해)\n",
    "category_knob = []\n",
    "\n",
    "for knob in dataset:\n",
    "    if dataset[knob].dtype == 'O':  # Object인 경우 category 형으로 변경\n",
    "        dataset[knob] = dataset[knob].astype('category')\n",
    "        if knob in knobs_list:\n",
    "            category_knob.append(knob)"
   ]
  },
  {
   "cell_type": "code",
   "execution_count": 345,
   "metadata": {},
   "outputs": [],
   "source": [
    "# 설정한 knob들만 추출\n",
    "extract_knobs_list = knobs_list.copy()\n",
    "extract_knobs_list.append('throughput')  # target 값 추가\n",
    "\n",
    "dataset = dataset[extract_knobs_list]"
   ]
  },
  {
   "cell_type": "code",
   "execution_count": 346,
   "metadata": {
    "scrolled": true
   },
   "outputs": [
    {
     "name": "stdout",
     "output_type": "stream",
     "text": [
      "<class 'pandas.core.frame.DataFrame'>\n",
      "RangeIndex: 2500 entries, 0 to 2499\n",
      "Data columns (total 33 columns):\n",
      " #   Column                         Non-Null Count  Dtype  \n",
      "---  ------                         --------------  -----  \n",
      " 0   appendonly                     0 non-null      float64\n",
      " 1   appendfsync                    0 non-null      float64\n",
      " 2   auto-aof-rewrite-percentage    0 non-null      float64\n",
      " 3   auto-aof-rewrite-min-size      0 non-null      float64\n",
      " 4   no-appendfsync-on-rewrite      0 non-null      float64\n",
      " 5   aof-rewrite-incremental-fsync  0 non-null      float64\n",
      " 6   aof-use-rdb-preamble           0 non-null      float64\n",
      " 7   save0_0                        2500 non-null   int64  \n",
      " 8   save0_1                        2500 non-null   int64  \n",
      " 9   save1_0                        2500 non-null   int64  \n",
      " 10  save1_1                        2500 non-null   int64  \n",
      " 11  save2_0                        2500 non-null   int64  \n",
      " 12  save2_1                        2500 non-null   int64  \n",
      " 13  rdbcompression                 2500 non-null   object \n",
      " 14  rdbchecksum                    2500 non-null   object \n",
      " 15  rdb-save-incremental-fsync     2500 non-null   object \n",
      " 16  activedefrag                   1252 non-null   object \n",
      " 17  active-defrag-threshold-lower  1252 non-null   float64\n",
      " 18  active-defrag-threshold-upper  1252 non-null   float64\n",
      " 19  active-defrag-cycle-min        1252 non-null   float64\n",
      " 20  active-defrag-cycle-max        1252 non-null   float64\n",
      " 21  maxmemory                      2500 non-null   object \n",
      " 22  maxmemory-policy               2500 non-null   object \n",
      " 23  maxmemory-samples              2500 non-null   int64  \n",
      " 24  lazyfree-lazy-eviction         2500 non-null   object \n",
      " 25  lazyfree-lazy-expire           2500 non-null   object \n",
      " 26  lazyfree-lazy-server-del       2500 non-null   object \n",
      " 27  hash-max-ziplist-entries       2500 non-null   int64  \n",
      " 28  hash-max-ziplist-value         2500 non-null   int64  \n",
      " 29  activerehashing                2500 non-null   object \n",
      " 30  hz                             2500 non-null   int64  \n",
      " 31  dynamic-hz                     2500 non-null   object \n",
      " 32  throughput                     2500 non-null   float64\n",
      "dtypes: float64(12), int64(10), object(11)\n",
      "memory usage: 644.7+ KB\n",
      "None\n",
      "<class 'pandas.core.frame.DataFrame'>\n",
      "RangeIndex: 2500 entries, 0 to 2499\n",
      "Data columns (total 13 columns):\n",
      " #   Column                         Non-Null Count  Dtype   \n",
      "---  ------                         --------------  -----   \n",
      " 0   activerehashing                2500 non-null   category\n",
      " 1   hz                             2500 non-null   int64   \n",
      " 2   dynamic-hz                     2500 non-null   category\n",
      " 3   save0_0                        2500 non-null   int64   \n",
      " 4   save1_0                        2500 non-null   int64   \n",
      " 5   save2_1                        2500 non-null   int64   \n",
      " 6   rdbcompression                 2500 non-null   category\n",
      " 7   active-defrag-threshold-lower  2500 non-null   float64 \n",
      " 8   maxmemory                      2500 non-null   int64   \n",
      " 9   maxmemory-samples              2500 non-null   int64   \n",
      " 10  lazyfree-lazy-eviction         2500 non-null   category\n",
      " 11  lazyfree-lazy-server-del       2500 non-null   category\n",
      " 12  throughput                     2500 non-null   float64 \n",
      "dtypes: category(5), float64(2), int64(6)\n",
      "memory usage: 169.2 KB\n",
      "None\n"
     ]
    }
   ],
   "source": [
    "# 결측치 처리전 확인\n",
    "print(dataset_nan.info())\n",
    "\n",
    "# 결측치 처리후 확인\n",
    "print(dataset.info())"
   ]
  },
  {
   "cell_type": "markdown",
   "metadata": {},
   "source": [
    "### 이상치 처리"
   ]
  },
  {
   "cell_type": "code",
   "execution_count": 347,
   "metadata": {},
   "outputs": [
    {
     "data": {
      "text/html": [
       "<div>\n",
       "<style scoped>\n",
       "    .dataframe tbody tr th:only-of-type {\n",
       "        vertical-align: middle;\n",
       "    }\n",
       "\n",
       "    .dataframe tbody tr th {\n",
       "        vertical-align: top;\n",
       "    }\n",
       "\n",
       "    .dataframe thead th {\n",
       "        text-align: right;\n",
       "    }\n",
       "</style>\n",
       "<table border=\"1\" class=\"dataframe\">\n",
       "  <thead>\n",
       "    <tr style=\"text-align: right;\">\n",
       "      <th></th>\n",
       "      <th>hz</th>\n",
       "      <th>save0_0</th>\n",
       "      <th>save1_0</th>\n",
       "      <th>save2_1</th>\n",
       "      <th>active-defrag-threshold-lower</th>\n",
       "      <th>maxmemory</th>\n",
       "      <th>maxmemory-samples</th>\n",
       "      <th>throughput</th>\n",
       "    </tr>\n",
       "  </thead>\n",
       "  <tbody>\n",
       "    <tr>\n",
       "      <th>count</th>\n",
       "      <td>2500.00000</td>\n",
       "      <td>2500.000000</td>\n",
       "      <td>2500.00000</td>\n",
       "      <td>2500.000000</td>\n",
       "      <td>2500.00000</td>\n",
       "      <td>2500.000000</td>\n",
       "      <td>2500.000000</td>\n",
       "      <td>2500.000000</td>\n",
       "    </tr>\n",
       "    <tr>\n",
       "      <th>mean</th>\n",
       "      <td>20.28280</td>\n",
       "      <td>895.984000</td>\n",
       "      <td>301.26200</td>\n",
       "      <td>9979.238400</td>\n",
       "      <td>7.83080</td>\n",
       "      <td>1950.880000</td>\n",
       "      <td>4.990000</td>\n",
       "      <td>58662.946124</td>\n",
       "    </tr>\n",
       "    <tr>\n",
       "      <th>std</th>\n",
       "      <td>11.68667</td>\n",
       "      <td>116.627749</td>\n",
       "      <td>116.01361</td>\n",
       "      <td>1168.360083</td>\n",
       "      <td>9.87832</td>\n",
       "      <td>583.036189</td>\n",
       "      <td>1.407229</td>\n",
       "      <td>3374.542926</td>\n",
       "    </tr>\n",
       "    <tr>\n",
       "      <th>min</th>\n",
       "      <td>1.00000</td>\n",
       "      <td>700.000000</td>\n",
       "      <td>100.00000</td>\n",
       "      <td>8000.000000</td>\n",
       "      <td>0.00000</td>\n",
       "      <td>1000.000000</td>\n",
       "      <td>3.000000</td>\n",
       "      <td>47520.430000</td>\n",
       "    </tr>\n",
       "    <tr>\n",
       "      <th>25%</th>\n",
       "      <td>10.00000</td>\n",
       "      <td>794.000000</td>\n",
       "      <td>202.00000</td>\n",
       "      <td>8957.250000</td>\n",
       "      <td>0.00000</td>\n",
       "      <td>1400.000000</td>\n",
       "      <td>4.000000</td>\n",
       "      <td>55643.050000</td>\n",
       "    </tr>\n",
       "    <tr>\n",
       "      <th>50%</th>\n",
       "      <td>20.00000</td>\n",
       "      <td>891.000000</td>\n",
       "      <td>302.00000</td>\n",
       "      <td>9958.500000</td>\n",
       "      <td>1.00000</td>\n",
       "      <td>2000.000000</td>\n",
       "      <td>5.000000</td>\n",
       "      <td>59031.920000</td>\n",
       "    </tr>\n",
       "    <tr>\n",
       "      <th>75%</th>\n",
       "      <td>31.00000</td>\n",
       "      <td>997.000000</td>\n",
       "      <td>402.00000</td>\n",
       "      <td>10999.500000</td>\n",
       "      <td>16.00000</td>\n",
       "      <td>2500.000000</td>\n",
       "      <td>6.000000</td>\n",
       "      <td>61586.640000</td>\n",
       "    </tr>\n",
       "    <tr>\n",
       "      <th>max</th>\n",
       "      <td>40.00000</td>\n",
       "      <td>1100.000000</td>\n",
       "      <td>500.00000</td>\n",
       "      <td>11996.000000</td>\n",
       "      <td>30.00000</td>\n",
       "      <td>2900.000000</td>\n",
       "      <td>7.000000</td>\n",
       "      <td>66377.650000</td>\n",
       "    </tr>\n",
       "  </tbody>\n",
       "</table>\n",
       "</div>"
      ],
      "text/plain": [
       "               hz      save0_0     save1_0       save2_1  \\\n",
       "count  2500.00000  2500.000000  2500.00000   2500.000000   \n",
       "mean     20.28280   895.984000   301.26200   9979.238400   \n",
       "std      11.68667   116.627749   116.01361   1168.360083   \n",
       "min       1.00000   700.000000   100.00000   8000.000000   \n",
       "25%      10.00000   794.000000   202.00000   8957.250000   \n",
       "50%      20.00000   891.000000   302.00000   9958.500000   \n",
       "75%      31.00000   997.000000   402.00000  10999.500000   \n",
       "max      40.00000  1100.000000   500.00000  11996.000000   \n",
       "\n",
       "       active-defrag-threshold-lower    maxmemory  maxmemory-samples  \\\n",
       "count                     2500.00000  2500.000000        2500.000000   \n",
       "mean                         7.83080  1950.880000           4.990000   \n",
       "std                          9.87832   583.036189           1.407229   \n",
       "min                          0.00000  1000.000000           3.000000   \n",
       "25%                          0.00000  1400.000000           4.000000   \n",
       "50%                          1.00000  2000.000000           5.000000   \n",
       "75%                         16.00000  2500.000000           6.000000   \n",
       "max                         30.00000  2900.000000           7.000000   \n",
       "\n",
       "         throughput  \n",
       "count   2500.000000  \n",
       "mean   58662.946124  \n",
       "std     3374.542926  \n",
       "min    47520.430000  \n",
       "25%    55643.050000  \n",
       "50%    59031.920000  \n",
       "75%    61586.640000  \n",
       "max    66377.650000  "
      ]
     },
     "execution_count": 347,
     "metadata": {},
     "output_type": "execute_result"
    }
   ],
   "source": [
    "# -999999와 같은 이상치 확인 -> 없음\n",
    "dataset.describe()"
   ]
  },
  {
   "cell_type": "code",
   "execution_count": 348,
   "metadata": {},
   "outputs": [
    {
     "data": {
      "text/plain": [
       "<AxesSubplot:>"
      ]
     },
     "execution_count": 348,
     "metadata": {},
     "output_type": "execute_result"
    },
    {
     "data": {
      "image/png": "[encoded data removed]",
      "text/plain": [
       "<Figure size 432x288 with 1 Axes>"
      ]
     },
     "metadata": {
      "needs_background": "light"
     },
     "output_type": "display_data"
    }
   ],
   "source": [
    "# 이상치 파악 \n",
    "dataset['throughput'].hist()"
   ]
  },
  {
   "cell_type": "code",
   "execution_count": 349,
   "metadata": {},
   "outputs": [
    {
     "name": "stdout",
     "output_type": "stream",
     "text": [
      "289     50567.71\n",
      "1662    48151.93\n",
      "1795    47520.43\n",
      "1819    52479.91\n",
      "1829    52219.64\n",
      "1869    52156.25\n",
      "1871    52365.91\n",
      "1872    52402.46\n",
      "1918    49023.47\n",
      "1941    52407.46\n",
      "1972    52470.66\n",
      "1994    51419.62\n",
      "2277    48485.40\n",
      "2400    50734.14\n",
      "2437    47543.22\n",
      "Name: throughput, dtype: float64\n",
      "개수:  15\n"
     ]
    }
   ],
   "source": [
    "# 인덱스제거하고 돌려보자\n",
    "print(dataset['throughput'][dataset['throughput'] <= 52500])\n",
    "outlier_index = dataset['throughput'][dataset['throughput'] <= 52500].index\n",
    "print('개수: ', len(outlier_index))"
   ]
  },
  {
   "cell_type": "code",
   "execution_count": 350,
   "metadata": {},
   "outputs": [
    {
     "data": {
      "image/png": "[encoded data removed]",
      "text/plain": [
       "<Figure size 432x288 with 1 Axes>"
      ]
     },
     "metadata": {
      "needs_background": "light"
     },
     "output_type": "display_data"
    }
   ],
   "source": [
    "# 이상치로 분류되진 않지만 제거한다. \n",
    "import seaborn as sns\n",
    "sns.boxplot(x = \"throughput\",data = dataset )\n",
    "plt.show()"
   ]
  },
  {
   "cell_type": "code",
   "execution_count": 351,
   "metadata": {},
   "outputs": [],
   "source": [
    "# # 이상치 제거\n",
    "# dataset = dataset.drop(outlier_index)"
   ]
  },
  {
   "cell_type": "code",
   "execution_count": 352,
   "metadata": {},
   "outputs": [
    {
     "data": {
      "text/plain": [
       "(2500, 13)"
      ]
     },
     "execution_count": 352,
     "metadata": {},
     "output_type": "execute_result"
    }
   ],
   "source": [
    "# 이상치 제거 확인\n",
    "dataset.shape"
   ]
  },
  {
   "cell_type": "markdown",
   "metadata": {},
   "source": [
    "### test, train 데이터 분리"
   ]
  },
  {
   "cell_type": "code",
   "execution_count": 353,
   "metadata": {},
   "outputs": [],
   "source": [
    "# test, train 데이터로 분리\n",
    "X_train, X_test, y_train, y_test = train_test_split(dataset.iloc[:,:-1]\n",
    "                                                    , dataset['throughput'] \n",
    "                                                    ,test_size=0.2\n",
    "                                                   , random_state = 156)\n"
   ]
  },
  {
   "cell_type": "code",
   "execution_count": 354,
   "metadata": {},
   "outputs": [
    {
     "data": {
      "text/html": [
       "<div>\n",
       "<style scoped>\n",
       "    .dataframe tbody tr th:only-of-type {\n",
       "        vertical-align: middle;\n",
       "    }\n",
       "\n",
       "    .dataframe tbody tr th {\n",
       "        vertical-align: top;\n",
       "    }\n",
       "\n",
       "    .dataframe thead th {\n",
       "        text-align: right;\n",
       "    }\n",
       "</style>\n",
       "<table border=\"1\" class=\"dataframe\">\n",
       "  <thead>\n",
       "    <tr style=\"text-align: right;\">\n",
       "      <th></th>\n",
       "      <th>activerehashing</th>\n",
       "      <th>hz</th>\n",
       "      <th>dynamic-hz</th>\n",
       "      <th>save0_0</th>\n",
       "      <th>save1_0</th>\n",
       "      <th>save2_1</th>\n",
       "      <th>rdbcompression</th>\n",
       "      <th>active-defrag-threshold-lower</th>\n",
       "      <th>maxmemory</th>\n",
       "      <th>maxmemory-samples</th>\n",
       "      <th>lazyfree-lazy-eviction</th>\n",
       "      <th>lazyfree-lazy-server-del</th>\n",
       "    </tr>\n",
       "  </thead>\n",
       "  <tbody>\n",
       "    <tr>\n",
       "      <th>1716</th>\n",
       "      <td>yes</td>\n",
       "      <td>29</td>\n",
       "      <td>yes</td>\n",
       "      <td>838</td>\n",
       "      <td>205</td>\n",
       "      <td>10529</td>\n",
       "      <td>yes</td>\n",
       "      <td>0.0</td>\n",
       "      <td>2600</td>\n",
       "      <td>3</td>\n",
       "      <td>no</td>\n",
       "      <td>no</td>\n",
       "    </tr>\n",
       "    <tr>\n",
       "      <th>486</th>\n",
       "      <td>yes</td>\n",
       "      <td>32</td>\n",
       "      <td>no</td>\n",
       "      <td>795</td>\n",
       "      <td>193</td>\n",
       "      <td>11917</td>\n",
       "      <td>no</td>\n",
       "      <td>0.0</td>\n",
       "      <td>2700</td>\n",
       "      <td>4</td>\n",
       "      <td>yes</td>\n",
       "      <td>no</td>\n",
       "    </tr>\n",
       "    <tr>\n",
       "      <th>1803</th>\n",
       "      <td>yes</td>\n",
       "      <td>23</td>\n",
       "      <td>yes</td>\n",
       "      <td>1100</td>\n",
       "      <td>497</td>\n",
       "      <td>8122</td>\n",
       "      <td>yes</td>\n",
       "      <td>0.0</td>\n",
       "      <td>2400</td>\n",
       "      <td>3</td>\n",
       "      <td>no</td>\n",
       "      <td>yes</td>\n",
       "    </tr>\n",
       "    <tr>\n",
       "      <th>1279</th>\n",
       "      <td>yes</td>\n",
       "      <td>33</td>\n",
       "      <td>no</td>\n",
       "      <td>735</td>\n",
       "      <td>209</td>\n",
       "      <td>11753</td>\n",
       "      <td>yes</td>\n",
       "      <td>0.0</td>\n",
       "      <td>2300</td>\n",
       "      <td>5</td>\n",
       "      <td>no</td>\n",
       "      <td>no</td>\n",
       "    </tr>\n",
       "    <tr>\n",
       "      <th>1642</th>\n",
       "      <td>no</td>\n",
       "      <td>39</td>\n",
       "      <td>no</td>\n",
       "      <td>818</td>\n",
       "      <td>255</td>\n",
       "      <td>10283</td>\n",
       "      <td>no</td>\n",
       "      <td>0.0</td>\n",
       "      <td>1500</td>\n",
       "      <td>3</td>\n",
       "      <td>no</td>\n",
       "      <td>yes</td>\n",
       "    </tr>\n",
       "  </tbody>\n",
       "</table>\n",
       "</div>"
      ],
      "text/plain": [
       "     activerehashing  hz dynamic-hz  save0_0  save1_0  save2_1 rdbcompression  \\\n",
       "1716             yes  29        yes      838      205    10529            yes   \n",
       "486              yes  32         no      795      193    11917             no   \n",
       "1803             yes  23        yes     1100      497     8122            yes   \n",
       "1279             yes  33         no      735      209    11753            yes   \n",
       "1642              no  39         no      818      255    10283             no   \n",
       "\n",
       "      active-defrag-threshold-lower  maxmemory  maxmemory-samples  \\\n",
       "1716                            0.0       2600                  3   \n",
       "486                             0.0       2700                  4   \n",
       "1803                            0.0       2400                  3   \n",
       "1279                            0.0       2300                  5   \n",
       "1642                            0.0       1500                  3   \n",
       "\n",
       "     lazyfree-lazy-eviction lazyfree-lazy-server-del  \n",
       "1716                     no                       no  \n",
       "486                     yes                       no  \n",
       "1803                     no                      yes  \n",
       "1279                     no                       no  \n",
       "1642                     no                      yes  "
      ]
     },
     "execution_count": 354,
     "metadata": {},
     "output_type": "execute_result"
    }
   ],
   "source": [
    "# X_train 확인\n",
    "X_train.head()"
   ]
  },
  {
   "cell_type": "code",
   "execution_count": 355,
   "metadata": {},
   "outputs": [
    {
     "data": {
      "image/png": "[encoded data removed]",
      "text/plain": [
       "<Figure size 432x288 with 1 Axes>"
      ]
     },
     "metadata": {
      "needs_background": "light"
     },
     "output_type": "display_data"
    },
    {
     "data": {
      "image/png": "[encoded data removed]",
      "text/plain": [
       "<Figure size 432x288 with 1 Axes>"
      ]
     },
     "metadata": {
      "needs_background": "light"
     },
     "output_type": "display_data"
    }
   ],
   "source": [
    "# test, train 에 비슷하게 분류됬는지 확인\n",
    "y_train.hist()\n",
    "plt.title('train data')\n",
    "plt.show()\n",
    "\n",
    "y_test.hist()\n",
    "plt.title('test data')\n",
    "plt.show()"
   ]
  },
  {
   "cell_type": "markdown",
   "metadata": {},
   "source": [
    "## LightGBM 모델 생성"
   ]
  },
  {
   "cell_type": "code",
   "execution_count": 357,
   "metadata": {},
   "outputs": [
    {
     "name": "stdout",
     "output_type": "stream",
     "text": [
      "[1]\tvalid_0's auc: 1\tvalid_0's l2: 1.21936e+07\n",
      "Training until validation scores don't improve for 100 rounds\n",
      "[2]\tvalid_0's auc: 1\tvalid_0's l2: 1.21977e+07\n",
      "[3]\tvalid_0's auc: 1\tvalid_0's l2: 1.21989e+07\n",
      "[4]\tvalid_0's auc: 1\tvalid_0's l2: 1.2209e+07\n",
      "[5]\tvalid_0's auc: 1\tvalid_0's l2: 1.22038e+07\n",
      "[6]\tvalid_0's auc: 1\tvalid_0's l2: 1.22096e+07\n",
      "[7]\tvalid_0's auc: 1\tvalid_0's l2: 1.22696e+07\n",
      "[8]\tvalid_0's auc: 1\tvalid_0's l2: 1.22963e+07\n",
      "[9]\tvalid_0's auc: 1\tvalid_0's l2: 1.23191e+07\n",
      "[10]\tvalid_0's auc: 1\tvalid_0's l2: 1.23359e+07\n",
      "[11]\tvalid_0's auc: 1\tvalid_0's l2: 1.23688e+07\n",
      "[12]\tvalid_0's auc: 1\tvalid_0's l2: 1.2392e+07\n",
      "[13]\tvalid_0's auc: 1\tvalid_0's l2: 1.23674e+07\n",
      "[14]\tvalid_0's auc: 1\tvalid_0's l2: 1.23503e+07\n",
      "[15]\tvalid_0's auc: 1\tvalid_0's l2: 1.23411e+07\n",
      "[16]\tvalid_0's auc: 1\tvalid_0's l2: 1.23568e+07\n",
      "[17]\tvalid_0's auc: 1\tvalid_0's l2: 1.235e+07\n",
      "[18]\tvalid_0's auc: 1\tvalid_0's l2: 1.23953e+07\n",
      "[19]\tvalid_0's auc: 1\tvalid_0's l2: 1.2408e+07\n",
      "[20]\tvalid_0's auc: 1\tvalid_0's l2: 1.24337e+07\n",
      "[21]\tvalid_0's auc: 1\tvalid_0's l2: 1.24133e+07\n",
      "[22]\tvalid_0's auc: 1\tvalid_0's l2: 1.23976e+07\n",
      "[23]\tvalid_0's auc: 1\tvalid_0's l2: 1.24073e+07\n",
      "[24]\tvalid_0's auc: 1\tvalid_0's l2: 1.24424e+07\n",
      "[25]\tvalid_0's auc: 1\tvalid_0's l2: 1.24397e+07\n",
      "[26]\tvalid_0's auc: 1\tvalid_0's l2: 1.24602e+07\n",
      "[27]\tvalid_0's auc: 1\tvalid_0's l2: 1.24814e+07\n",
      "[28]\tvalid_0's auc: 1\tvalid_0's l2: 1.2499e+07\n",
      "[29]\tvalid_0's auc: 1\tvalid_0's l2: 1.25068e+07\n",
      "[30]\tvalid_0's auc: 1\tvalid_0's l2: 1.25343e+07\n",
      "[31]\tvalid_0's auc: 1\tvalid_0's l2: 1.25644e+07\n",
      "[32]\tvalid_0's auc: 1\tvalid_0's l2: 1.26095e+07\n",
      "[33]\tvalid_0's auc: 1\tvalid_0's l2: 1.26132e+07\n",
      "[34]\tvalid_0's auc: 1\tvalid_0's l2: 1.26348e+07\n",
      "[35]\tvalid_0's auc: 1\tvalid_0's l2: 1.26784e+07\n",
      "[36]\tvalid_0's auc: 1\tvalid_0's l2: 1.27006e+07\n",
      "[37]\tvalid_0's auc: 1\tvalid_0's l2: 1.27e+07\n",
      "[38]\tvalid_0's auc: 1\tvalid_0's l2: 1.2699e+07\n",
      "[39]\tvalid_0's auc: 1\tvalid_0's l2: 1.27261e+07\n",
      "[40]\tvalid_0's auc: 1\tvalid_0's l2: 1.2742e+07\n",
      "[41]\tvalid_0's auc: 1\tvalid_0's l2: 1.27397e+07\n",
      "[42]\tvalid_0's auc: 1\tvalid_0's l2: 1.27503e+07\n",
      "[43]\tvalid_0's auc: 1\tvalid_0's l2: 1.27566e+07\n",
      "[44]\tvalid_0's auc: 1\tvalid_0's l2: 1.27374e+07\n",
      "[45]\tvalid_0's auc: 1\tvalid_0's l2: 1.2737e+07\n",
      "[46]\tvalid_0's auc: 1\tvalid_0's l2: 1.27264e+07\n",
      "[47]\tvalid_0's auc: 1\tvalid_0's l2: 1.27464e+07\n",
      "[48]\tvalid_0's auc: 1\tvalid_0's l2: 1.27528e+07\n",
      "[49]\tvalid_0's auc: 1\tvalid_0's l2: 1.27846e+07\n",
      "[50]\tvalid_0's auc: 1\tvalid_0's l2: 1.27963e+07\n",
      "[51]\tvalid_0's auc: 1\tvalid_0's l2: 1.2775e+07\n",
      "[52]\tvalid_0's auc: 1\tvalid_0's l2: 1.28049e+07\n",
      "[53]\tvalid_0's auc: 1\tvalid_0's l2: 1.28446e+07\n",
      "[54]\tvalid_0's auc: 1\tvalid_0's l2: 1.28569e+07\n",
      "[55]\tvalid_0's auc: 1\tvalid_0's l2: 1.28468e+07\n",
      "[56]\tvalid_0's auc: 1\tvalid_0's l2: 1.28515e+07\n",
      "[57]\tvalid_0's auc: 1\tvalid_0's l2: 1.2859e+07\n",
      "[58]\tvalid_0's auc: 1\tvalid_0's l2: 1.28868e+07\n",
      "[59]\tvalid_0's auc: 1\tvalid_0's l2: 1.2916e+07\n",
      "[60]\tvalid_0's auc: 1\tvalid_0's l2: 1.29191e+07\n",
      "[61]\tvalid_0's auc: 1\tvalid_0's l2: 1.29132e+07\n",
      "[62]\tvalid_0's auc: 1\tvalid_0's l2: 1.29245e+07\n",
      "[63]\tvalid_0's auc: 1\tvalid_0's l2: 1.29428e+07\n",
      "[64]\tvalid_0's auc: 1\tvalid_0's l2: 1.29628e+07\n",
      "[65]\tvalid_0's auc: 1\tvalid_0's l2: 1.30043e+07\n",
      "[66]\tvalid_0's auc: 1\tvalid_0's l2: 1.30187e+07\n",
      "[67]\tvalid_0's auc: 1\tvalid_0's l2: 1.30193e+07\n",
      "[68]\tvalid_0's auc: 1\tvalid_0's l2: 1.30055e+07\n",
      "[69]\tvalid_0's auc: 1\tvalid_0's l2: 1.30078e+07\n",
      "[70]\tvalid_0's auc: 1\tvalid_0's l2: 1.29854e+07\n",
      "[71]\tvalid_0's auc: 1\tvalid_0's l2: 1.30018e+07\n",
      "[72]\tvalid_0's auc: 1\tvalid_0's l2: 1.29874e+07\n",
      "[73]\tvalid_0's auc: 1\tvalid_0's l2: 1.30056e+07\n",
      "[74]\tvalid_0's auc: 1\tvalid_0's l2: 1.30129e+07\n",
      "[75]\tvalid_0's auc: 1\tvalid_0's l2: 1.30067e+07\n",
      "[76]\tvalid_0's auc: 1\tvalid_0's l2: 1.29936e+07\n",
      "[77]\tvalid_0's auc: 1\tvalid_0's l2: 1.30162e+07\n",
      "[78]\tvalid_0's auc: 1\tvalid_0's l2: 1.29962e+07\n",
      "[79]\tvalid_0's auc: 1\tvalid_0's l2: 1.29977e+07\n",
      "[80]\tvalid_0's auc: 1\tvalid_0's l2: 1.30306e+07\n",
      "[81]\tvalid_0's auc: 1\tvalid_0's l2: 1.30114e+07\n",
      "[82]\tvalid_0's auc: 1\tvalid_0's l2: 1.30201e+07\n",
      "[83]\tvalid_0's auc: 1\tvalid_0's l2: 1.30199e+07\n",
      "[84]\tvalid_0's auc: 1\tvalid_0's l2: 1.30245e+07\n",
      "[85]\tvalid_0's auc: 1\tvalid_0's l2: 1.30148e+07\n",
      "[86]\tvalid_0's auc: 1\tvalid_0's l2: 1.30617e+07\n",
      "[87]\tvalid_0's auc: 1\tvalid_0's l2: 1.30698e+07\n",
      "[88]\tvalid_0's auc: 1\tvalid_0's l2: 1.3058e+07\n",
      "[89]\tvalid_0's auc: 1\tvalid_0's l2: 1.30617e+07\n",
      "[90]\tvalid_0's auc: 1\tvalid_0's l2: 1.30743e+07\n",
      "[91]\tvalid_0's auc: 1\tvalid_0's l2: 1.31036e+07\n",
      "[92]\tvalid_0's auc: 1\tvalid_0's l2: 1.31154e+07\n",
      "[93]\tvalid_0's auc: 1\tvalid_0's l2: 1.31056e+07\n",
      "[94]\tvalid_0's auc: 1\tvalid_0's l2: 1.31002e+07\n",
      "[95]\tvalid_0's auc: 1\tvalid_0's l2: 1.31078e+07\n",
      "[96]\tvalid_0's auc: 1\tvalid_0's l2: 1.31416e+07\n",
      "[97]\tvalid_0's auc: 1\tvalid_0's l2: 1.31462e+07\n",
      "[98]\tvalid_0's auc: 1\tvalid_0's l2: 1.31586e+07\n",
      "[99]\tvalid_0's auc: 1\tvalid_0's l2: 1.31823e+07\n",
      "[100]\tvalid_0's auc: 1\tvalid_0's l2: 1.31942e+07\n",
      "[101]\tvalid_0's auc: 1\tvalid_0's l2: 1.32109e+07\n",
      "Early stopping, best iteration is:\n",
      "[1]\tvalid_0's auc: 1\tvalid_0's l2: 1.21936e+07\n"
     ]
    },
    {
     "data": {
      "text/plain": [
       "LGBMRegressor(n_estimators=1000)"
      ]
     },
     "execution_count": 357,
     "metadata": {},
     "output_type": "execute_result"
    }
   ],
   "source": [
    "# 모델 객체 생성, n_estimators = 400으로 설정\n",
    "lgbm_wrapper = LGBMRegressor(n_estimators=1000, learning_rate=0.1)\n",
    "\n",
    "# 검증 데이터(validation data)\n",
    "evals = [(X_test, y_test)]\n",
    "\n",
    "lgbm_wrapper.fit(X_train, y_train, early_stopping_rounds=100, eval_metric='auc',\n",
    "                eval_set = evals, verbose = True)"
   ]
  },
  {
   "cell_type": "code",
   "execution_count": 358,
   "metadata": {},
   "outputs": [
    {
     "data": {
      "text/plain": [
       "array([58701.31525365, 58676.7399116 , 58676.7399116 , 58673.76719134,\n",
       "       58544.23641008, 58673.76719134, 58673.76719134, 58517.17446822,\n",
       "       58673.76719134, 58701.31525365, 58732.0930921 , 58701.31525365,\n",
       "       58701.31525365, 58693.03010285, 58701.31525365, 58676.7399116 ,\n",
       "       58673.76719134, 58701.31525365, 58693.03010285, 58701.31525365,\n",
       "       58701.31525365, 58522.53094503, 58720.23074878, 58673.76719134,\n",
       "       58701.31525365, 58676.7399116 , 58556.36764358, 58673.76719134,\n",
       "       58673.76719134, 58696.3302863 , 58544.23641008, 58701.31525365,\n",
       "       58701.31525365, 58701.31525365, 58764.12253397, 58673.76719134,\n",
       "       58788.30384062, 58701.31525365, 58673.76719134, 58521.23871755,\n",
       "       58764.12253397, 58517.17446822, 58792.3037125 , 58673.76719134,\n",
       "       58676.7399116 , 58673.76719134, 58788.30384062, 58673.76719134,\n",
       "       58522.53094503, 58673.76719134, 58701.31525365, 58673.6074624 ,\n",
       "       58673.76719134, 58701.31525365, 58858.24897305, 58701.31525365,\n",
       "       58673.76719134, 58693.03010285, 58673.76719134, 58673.76719134,\n",
       "       58673.76719134, 58425.76351363, 58662.46769533, 58673.76719134,\n",
       "       58673.6074624 , 58676.7399116 , 58701.31525365, 58701.31525365,\n",
       "       58521.23871755, 58693.03010285, 58792.3037125 , 58556.36764358,\n",
       "       58673.76719134, 58792.3037125 , 58701.31525365, 58701.31525365,\n",
       "       58834.41663243, 58673.76719134, 58709.13790564, 58676.7399116 ,\n",
       "       58701.31525365, 58701.31525365, 58673.76719134, 58701.31525365,\n",
       "       58673.76719134, 58673.76719134, 58673.76719134, 58676.7399116 ,\n",
       "       58673.76719134, 58701.31525365, 58673.76719134, 58521.23871755,\n",
       "       58676.7399116 , 58673.76719134, 58719.71785987, 58732.0930921 ,\n",
       "       58673.76719134, 58673.76719134, 58673.76719134, 58876.33437168,\n",
       "       58673.6074624 , 58701.31525365, 58676.7399116 , 58673.76719134,\n",
       "       58701.31525365, 58435.72311711, 58673.76719134, 58676.7399116 ,\n",
       "       58522.53094503, 58676.7399116 , 58701.31525365, 58701.31525365,\n",
       "       58876.33437168, 58673.76719134, 58425.76351363, 58673.76719134,\n",
       "       58673.76719134, 58673.76719134, 58676.7399116 , 58701.31525365,\n",
       "       58673.76719134, 58673.76719134, 58522.53094503, 58673.76719134,\n",
       "       58676.7399116 , 58676.7399116 , 58435.72311711, 58673.76719134,\n",
       "       58673.76719134, 58673.76719134, 58673.76719134, 58673.76719134,\n",
       "       58537.64017789, 58709.13790564, 58673.76719134, 58673.76719134,\n",
       "       58458.81794885, 58676.7399116 , 58834.41663243, 58556.36764358,\n",
       "       58701.31525365, 58425.76351363, 58673.76719134, 58521.23871755,\n",
       "       58673.76719134, 58719.71785987, 58788.30384062, 58673.76719134,\n",
       "       58425.76351363, 58701.31525365, 58764.12253397, 58673.76719134,\n",
       "       58876.33437168, 58452.82162412, 58673.76719134, 58556.36764358,\n",
       "       58788.30384062, 58693.03010285, 58673.76719134, 58732.0930921 ,\n",
       "       58673.76719134, 58673.76719134, 58537.64017789, 58768.09993748,\n",
       "       58673.76719134, 58701.31525365, 58673.76719134, 58676.7399116 ,\n",
       "       58673.76719134, 58537.64017789, 58556.36764358, 58701.31525365,\n",
       "       58701.31525365, 58701.31525365, 58676.7399116 , 58673.76719134,\n",
       "       58701.31525365, 58693.03010285, 58673.76719134, 58673.76719134,\n",
       "       58701.31525365, 58435.72311711, 58701.31525365, 58452.82162412,\n",
       "       58701.31525365, 58465.18953878, 58673.76719134, 58858.24897305,\n",
       "       58517.17446822, 58673.76719134, 58673.76719134, 58693.03010285,\n",
       "       58673.76719134, 58673.76719134, 58701.31525365, 58452.82162412,\n",
       "       58696.3302863 , 58673.76719134, 58673.76719134, 58522.53094503,\n",
       "       58701.31525365, 58673.76719134, 58792.3037125 , 58673.6074624 ,\n",
       "       58673.76719134, 58834.41663243, 58517.17446822, 58521.23871755,\n",
       "       58673.76719134, 58720.23074878, 58521.23871755, 58764.12253397,\n",
       "       58673.76719134, 58701.31525365, 58673.76719134, 58764.12253397,\n",
       "       58537.64017789, 58673.76719134, 58701.31525365, 58673.76719134,\n",
       "       58673.76719134, 58673.76719134, 58676.7399116 , 58435.72311711,\n",
       "       58521.23871755, 58701.31525365, 58693.03010285, 58696.3302863 ,\n",
       "       58673.76719134, 58701.31525365, 58425.76351363, 58701.31525365,\n",
       "       58709.13790564, 58676.7399116 , 58720.23074878, 58603.56322883,\n",
       "       58673.76719134, 58673.76719134, 58764.12253397, 58662.46769533,\n",
       "       58673.76719134, 58673.76719134, 58537.64017789, 58834.41663243,\n",
       "       58673.76719134, 58537.64017789, 58458.81794885, 58719.71785987,\n",
       "       58676.7399116 , 58673.76719134, 58425.76351363, 58433.83937558,\n",
       "       58673.76719134, 58701.31525365, 58673.76719134, 58701.31525365,\n",
       "       58701.31525365, 58673.76719134, 58834.41663243, 58673.76719134,\n",
       "       58452.82162412, 58701.31525365, 58537.64017789, 58556.36764358,\n",
       "       58517.17446822, 58676.7399116 , 58701.31525365, 58701.31525365,\n",
       "       58732.0930921 , 58701.31525365, 58858.24897305, 58673.76719134,\n",
       "       58673.76719134, 58709.13790564, 58465.18953878, 58673.76719134,\n",
       "       58673.76719134, 58521.23871755, 58701.31525365, 58662.46769533,\n",
       "       58673.76719134, 58673.76719134, 58701.31525365, 58693.03010285,\n",
       "       58556.36764358, 58673.76719134, 58676.7399116 , 58425.76351363,\n",
       "       58701.31525365, 58425.76351363, 58556.36764358, 58701.31525365,\n",
       "       58465.18953878, 58701.31525365, 58673.76719134, 58521.23871755,\n",
       "       58433.83937558, 58701.31525365, 58556.36764358, 58701.31525365,\n",
       "       58701.31525365, 58465.18953878, 58676.7399116 , 58764.12253397,\n",
       "       58544.23641008, 58673.76719134, 58701.31525365, 58701.31525365,\n",
       "       58673.76719134, 58696.3302863 , 58788.30384062, 58458.81794885,\n",
       "       58673.76719134, 58673.76719134, 58676.7399116 , 58764.12253397,\n",
       "       58701.31525365, 58517.17446822, 58834.41663243, 58556.36764358,\n",
       "       58764.12253397, 58701.31525365, 58673.76719134, 58709.13790564,\n",
       "       58673.76719134, 58673.76719134, 58701.31525365, 58673.76719134,\n",
       "       58693.03010285, 58701.31525365, 58517.17446822, 58673.6074624 ,\n",
       "       58693.03010285, 58764.12253397, 58522.53094503, 58764.12253397,\n",
       "       58522.53094503, 58701.31525365, 58452.82162412, 58673.76719134,\n",
       "       58452.82162412, 58676.7399116 , 58537.64017789, 58701.31525365,\n",
       "       58834.41663243, 58673.76719134, 58701.31525365, 58696.3302863 ,\n",
       "       58788.30384062, 58701.31525365, 58537.64017789, 58673.76719134,\n",
       "       58764.12253397, 58764.12253397, 58720.23074878, 58544.23641008,\n",
       "       58673.76719134, 58673.76719134, 58764.12253397, 58522.53094503,\n",
       "       58673.6074624 , 58676.7399116 , 58792.3037125 , 58701.31525365,\n",
       "       58676.7399116 , 58673.76719134, 58788.30384062, 58834.41663243,\n",
       "       58673.76719134, 58465.18953878, 58673.76719134, 58673.76719134,\n",
       "       58435.72311711, 58517.17446822, 58673.76719134, 58701.31525365,\n",
       "       58764.12253397, 58662.46769533, 58673.76719134, 58435.72311711,\n",
       "       58425.76351363, 58701.31525365, 58673.76719134, 58764.12253397,\n",
       "       58425.76351363, 58732.0930921 , 58834.41663243, 58673.76719134,\n",
       "       58701.31525365, 58673.6074624 , 58673.76719134, 58673.76719134,\n",
       "       58673.76719134, 58673.76719134, 58693.03010285, 58452.82162412,\n",
       "       58425.76351363, 58522.53094503, 58673.76719134, 58701.31525365,\n",
       "       58701.31525365, 58673.76719134, 58876.33437168, 58701.31525365,\n",
       "       58701.31525365, 58764.12253397, 58701.31525365, 58701.31525365,\n",
       "       58764.12253397, 58676.7399116 , 58876.33437168, 58425.76351363,\n",
       "       58701.31525365, 58673.76719134, 58673.76719134, 58876.33437168,\n",
       "       58537.64017789, 58673.76719134, 58720.23074878, 58522.53094503,\n",
       "       58673.76719134, 58662.46769533, 58696.3302863 , 58537.64017789,\n",
       "       58425.76351363, 58834.41663243, 58768.09993748, 58537.64017789,\n",
       "       58537.64017789, 58433.83937558, 58693.03010285, 58673.76719134,\n",
       "       58709.13790564, 58701.31525365, 58673.76719134, 58701.31525365,\n",
       "       58764.12253397, 58701.31525365, 58673.76719134, 58676.7399116 ,\n",
       "       58732.0930921 , 58522.53094503, 58556.36764358, 58701.31525365,\n",
       "       58701.31525365, 58544.23641008, 58720.23074878, 58701.31525365,\n",
       "       58788.30384062, 58673.76719134, 58676.7399116 , 58834.41663243,\n",
       "       58693.03010285, 58693.03010285, 58676.7399116 , 58676.7399116 ,\n",
       "       58603.56322883, 58673.76719134, 58764.12253397, 58701.31525365,\n",
       "       58673.76719134, 58673.76719134, 58452.82162412, 58673.76719134,\n",
       "       58673.76719134, 58673.76719134, 58701.31525365, 58435.72311711,\n",
       "       58701.31525365, 58673.76719134, 58603.56322883, 58701.31525365,\n",
       "       58435.72311711, 58673.76719134, 58425.76351363, 58673.76719134,\n",
       "       58701.31525365, 58720.23074878, 58673.76719134, 58701.31525365,\n",
       "       58521.23871755, 58701.31525365, 58556.36764358, 58556.36764358,\n",
       "       58673.76719134, 58701.31525365, 58522.53094503, 58521.23871755,\n",
       "       58701.31525365, 58537.64017789, 58701.31525365, 58673.76719134,\n",
       "       58764.12253397, 58662.46769533, 58673.76719134, 58792.3037125 ,\n",
       "       58701.31525365, 58768.09993748, 58764.12253397, 58834.41663243])"
      ]
     },
     "execution_count": 358,
     "metadata": {},
     "output_type": "execute_result"
    }
   ],
   "source": [
    "preds = lgbm_wrapper.predict(X_test)  # 예측 결과\n",
    "# pred_proba = lgbm_wrapper.predict_proba(X_test)[:, 1]  # 예측 확률\n",
    "preds"
   ]
  },
  {
   "cell_type": "code",
   "execution_count": 359,
   "metadata": {},
   "outputs": [
    {
     "data": {
      "text/html": [
       "<div>\n",
       "<style scoped>\n",
       "    .dataframe tbody tr th:only-of-type {\n",
       "        vertical-align: middle;\n",
       "    }\n",
       "\n",
       "    .dataframe tbody tr th {\n",
       "        vertical-align: top;\n",
       "    }\n",
       "\n",
       "    .dataframe thead th {\n",
       "        text-align: right;\n",
       "    }\n",
       "</style>\n",
       "<table border=\"1\" class=\"dataframe\">\n",
       "  <thead>\n",
       "    <tr style=\"text-align: right;\">\n",
       "      <th></th>\n",
       "      <th>activerehashing</th>\n",
       "      <th>hz</th>\n",
       "      <th>dynamic-hz</th>\n",
       "      <th>save0_0</th>\n",
       "      <th>save1_0</th>\n",
       "      <th>save2_1</th>\n",
       "      <th>rdbcompression</th>\n",
       "      <th>active-defrag-threshold-lower</th>\n",
       "      <th>maxmemory</th>\n",
       "      <th>maxmemory-samples</th>\n",
       "      <th>lazyfree-lazy-eviction</th>\n",
       "      <th>lazyfree-lazy-server-del</th>\n",
       "    </tr>\n",
       "  </thead>\n",
       "  <tbody>\n",
       "    <tr>\n",
       "      <th>1096</th>\n",
       "      <td>yes</td>\n",
       "      <td>34</td>\n",
       "      <td>no</td>\n",
       "      <td>1068</td>\n",
       "      <td>270</td>\n",
       "      <td>9047</td>\n",
       "      <td>no</td>\n",
       "      <td>0.0</td>\n",
       "      <td>1000</td>\n",
       "      <td>3</td>\n",
       "      <td>no</td>\n",
       "      <td>no</td>\n",
       "    </tr>\n",
       "  </tbody>\n",
       "</table>\n",
       "</div>"
      ],
      "text/plain": [
       "     activerehashing  hz dynamic-hz  save0_0  save1_0  save2_1 rdbcompression  \\\n",
       "1096             yes  34         no     1068      270     9047             no   \n",
       "\n",
       "      active-defrag-threshold-lower  maxmemory  maxmemory-samples  \\\n",
       "1096                            0.0       1000                  3   \n",
       "\n",
       "     lazyfree-lazy-eviction lazyfree-lazy-server-del  \n",
       "1096                     no                       no  "
      ]
     },
     "execution_count": 359,
     "metadata": {},
     "output_type": "execute_result"
    }
   ],
   "source": [
    "X_test.iloc[:1,:]"
   ]
  },
  {
   "cell_type": "code",
   "execution_count": 360,
   "metadata": {},
   "outputs": [
    {
     "data": {
      "text/plain": [
       "array([58673.76719134])"
      ]
     },
     "execution_count": 360,
     "metadata": {},
     "output_type": "execute_result"
    }
   ],
   "source": [
    "lgbm_wrapper.predict(X_test.iloc[3:4,:])"
   ]
  },
  {
   "cell_type": "code",
   "execution_count": 361,
   "metadata": {},
   "outputs": [
    {
     "ename": "NameError",
     "evalue": "name 'df_result_test2' is not defined",
     "output_type": "error",
     "traceback": [
      "\u001b[0;31m---------------------------------------------------------------------------\u001b[0m",
      "\u001b[0;31mNameError\u001b[0m                                 Traceback (most recent call last)",
      "\u001b[0;32m<ipython-input-361-90f3de9becb3>\u001b[0m in \u001b[0;36m<module>\u001b[0;34m\u001b[0m\n\u001b[0;32m----> 1\u001b[0;31m \u001b[0mdf_result_test2\u001b[0m\u001b[0;34m\u001b[0m\u001b[0;34m\u001b[0m\u001b[0m\n\u001b[0m",
      "\u001b[0;31mNameError\u001b[0m: name 'df_result_test2' is not defined"
     ]
    }
   ],
   "source": [
    "df_result_test2"
   ]
  },
  {
   "cell_type": "code",
   "execution_count": 362,
   "metadata": {},
   "outputs": [],
   "source": [
    "# lgbm_wrapper.predict(df_result_test2)"
   ]
  },
  {
   "cell_type": "code",
   "execution_count": 363,
   "metadata": {},
   "outputs": [
    {
     "data": {
      "text/plain": [
       "<AxesSubplot:title={'center':'Feature importance'}, xlabel='Feature importance', ylabel='Features'>"
      ]
     },
     "execution_count": 363,
     "metadata": {},
     "output_type": "execute_result"
    },
    {
     "data": {
      "image/png": "[encoded data removed]",
      "text/plain": [
       "<Figure size 720x864 with 1 Axes>"
      ]
     },
     "metadata": {
      "needs_background": "light"
     },
     "output_type": "display_data"
    }
   ],
   "source": [
    "# plot_importance()를 이영해 피처 중요도 시각화\n",
    "from lightgbm import plot_importance\n",
    "import matplotlib.pyplot as plt\n",
    "%matplotlib inline\n",
    "\n",
    "fig, ax = plt.subplots(figsize=(10, 12))\n",
    "plot_importance(lgbm_wrapper, ax= ax)"
   ]
  },
  {
   "cell_type": "code",
   "execution_count": 364,
   "metadata": {},
   "outputs": [
    {
     "data": {
      "text/plain": [
       "12193580.638339631"
      ]
     },
     "execution_count": 364,
     "metadata": {},
     "output_type": "execute_result"
    }
   ],
   "source": [
    "from sklearn.metrics import mean_absolute_error, mean_squared_error\n",
    "\n",
    "mse = mean_squared_error(y_test ,preds)\n",
    "mse"
   ]
  },
  {
   "cell_type": "markdown",
   "metadata": {},
   "source": [
    "### 하이퍼파라미터 튜닝"
   ]
  },
  {
   "cell_type": "code",
   "execution_count": 365,
   "metadata": {},
   "outputs": [],
   "source": [
    "# from sklearn.model_selection import GridSearchCV\n",
    "\n",
    "# # 하이퍼파라미터 튜닝시 수행 속도를 향상시키기 위해 n_estimators를 200으로 감소\n",
    "# lgbm_wrapper = LGBMRegressor(n_estimators = 200)\n",
    "\n",
    "# params = {\n",
    "#     'num_leaves':[32, 64],\n",
    "#     'max_depth':[128, 160],\n",
    "#     'min_child_samples':[60, 100],\n",
    "#     'subsample':[0.8, 1]\n",
    "# }\n",
    "\n",
    "# # cv는 3으로 가정 (교차 검증을 자동으로 해주는건가?)\n",
    "# gridcv = GridSearchCV(lgbm_wrapper, param_grid = params, cv=3)\n",
    "# gridcv.fit(X_train, y_train, early_stopping_rounds = 30, eval_metric='auc', \n",
    "#           eval_set = [(X_train, y_train), (X_test, y_test)])\n",
    "\n",
    "# print('GridSeaerchCV 최적 파라미터:', gridcv.best_params_)"
   ]
  },
  {
   "cell_type": "code",
   "execution_count": 366,
   "metadata": {
    "scrolled": true
   },
   "outputs": [],
   "source": [
    "# # 하이퍼 파라미터 적용 후 다시 생성\n",
    "# lgbm_wrapper = LGBMRegressor(n_estimators = 1000,\n",
    "#                             num_leaves = 32,\n",
    "#                             subsample=0.8,\n",
    "#                             min_child_samples=60,\n",
    "#                             max_depth=128)\n",
    "\n",
    "# evals = [(X_test, y_test)]\n",
    "\n",
    "# lgbm_wrapper.fit(X_train, y_train, early_stopping_rounds=100,\n",
    "#                 eval_metric='auc',\n",
    "#                 eval_set=evals,\n",
    "#                 verbose=True)"
   ]
  },
  {
   "cell_type": "markdown",
   "metadata": {},
   "source": [
    "---"
   ]
  },
  {
   "cell_type": "markdown",
   "metadata": {},
   "source": [
    "# BO"
   ]
  },
  {
   "cell_type": "markdown",
   "metadata": {},
   "source": [
    "## 목적함수"
   ]
  },
  {
   "cell_type": "code",
   "execution_count": 367,
   "metadata": {},
   "outputs": [],
   "source": [
    "noise_level = 0.1\n",
    "\n",
    "def objective_func(knob_value, noise_level=noise_level):\n",
    "    knob_dict = {}\n",
    "\n",
    "    for i, knob in enumerate(knobs_list): # 딕셔너리로 이동\n",
    "        knob_dict[knob] = knob_value[i]\n",
    "    \n",
    "#     # 고정\n",
    "\n",
    "#     knob_dict['hash-max-ziplist-entries'] =305\n",
    "#     knob_dict['hash-max-ziplist-value'] =157\n",
    "#     knob_dict['activerehashing'] ='yes'\n",
    "#     knob_dict['hz'] = 32\n",
    "#     knob_dict['dynamic-hz'] ='yes'\n",
    "#     knob_dict['save0_0'] = 722\n",
    "#     knob_dict['save0_1'] = 5\n",
    "#     knob_dict['save1_0'] = 475\n",
    "#     knob_dict['save1_1'] =12\n",
    "#     knob_dict['save2_0'] = 82\n",
    "#     knob_dict['save2_1'] =9163\n",
    "#     knob_dict['rdbcompression'] = 'no'\n",
    "#     knob_dict['rdbchecksum'] = 'no'\n",
    "#     knob_dict['rdb-save-incremental-fsync'] = 'no'\n",
    "#     knob_dict['active-defrag-threshold-lower'] = 13\n",
    "#     knob_dict['active-defrag-threshold-upper'] = 72\n",
    "#     knob_dict['active-defrag-cycle-min'] = 2\n",
    "#     knob_dict['active-defrag-cycle-max'] = 73\n",
    "#     knob_dict['maxmemory'] = 1221\n",
    "#     knob_dict[\"maxmemory-policy\"] = 'allkeys-random'\n",
    "#     knob_dict['maxmemory-samples'] =3\n",
    "#     knob_dict['lazyfree-lazy-eviction'] = 'no'\n",
    "#     knob_dict['lazyfree-lazy-expire'] = 'yes'\n",
    "#     knob_dict['lazyfree-lazy-server-del'] = 'no'\n",
    "        \n",
    "    if 'activedefrag' in knob_dict:\n",
    "        if knob_dict['activedefrag'] == 'no':  # activedefrag no인 경우 나머지 관련 knob들에 0할당!\n",
    "            activ_var = ['active-defrag-threshold-lower', 'active-defrag-threshold-upper', 'active-defrag-cycle-min', 'active-defrag-cycle-max']\n",
    "            for activ_knob in activ_var:\n",
    "                knob_dict[activ_knob] = 0     \n",
    "    \n",
    "    knob_df = pd.DataFrame(knob_dict, index=[0])  # 데이터 프레임으로 변환\n",
    "    \n",
    "    # 카테고리 변수 변경\n",
    "    for knob in category_knob:\n",
    "        knob_df[knob] = knob_df[knob].astype('category') \n",
    "\n",
    "    return -lgbm_wrapper.predict(knob_df)[0]\n",
    "\n",
    "\n"
   ]
  },
  {
   "cell_type": "markdown",
   "metadata": {},
   "source": [
    "## gp_minimize"
   ]
  },
  {
   "cell_type": "code",
   "execution_count": 368,
   "metadata": {},
   "outputs": [
    {
     "name": "stdout",
     "output_type": "stream",
     "text": [
      "Automatically created module for IPython interactive environment\n"
     ]
    }
   ],
   "source": [
    "%matplotlib inline\n",
    "print(__doc__)\n",
    "\n",
    "import numpy as np\n",
    "np.random.seed(237)\n",
    "import matplotlib.pyplot as plt\n",
    "from skopt.plots import plot_gaussian_process\n",
    "from skopt import gp_minimize"
   ]
  },
  {
   "cell_type": "code",
   "execution_count": 384,
   "metadata": {},
   "outputs": [],
   "source": [
    "res = gp_minimize(objective_func,                  # the function to minimize\n",
    "                  knobs_bound,      # the bounds on each dimension of x\n",
    "                  acq_func=\"EI\",      # the acquisition function\n",
    "                  n_calls=150,         # the number of evaluations of f\n",
    "                  n_random_starts=20,  # the number of random initialization points\n",
    "                  noise=0.1**2,       # the noise level (optional)\n",
    "                  random_state=1234)   # the random seed"
   ]
  },
  {
   "cell_type": "code",
   "execution_count": 385,
   "metadata": {
    "scrolled": true
   },
   "outputs": [
    {
     "data": {
      "text/plain": [
       "['yes', 32, 'yes', 700, 355, 9577, 'no', 1, 2900, 7, 'no', 'no']"
      ]
     },
     "execution_count": 385,
     "metadata": {},
     "output_type": "execute_result"
    }
   ],
   "source": [
    "res.x"
   ]
  },
  {
   "cell_type": "code",
   "execution_count": 381,
   "metadata": {
    "scrolled": true
   },
   "outputs": [
    {
     "data": {
      "text/plain": [
       "[['no', 34, 'yes', 1009, 444, 8603, 'no', 25, 1302, 3, 'no', 'no'],\n",
       " ['no', 33, 'no', 722, 277, 8089, 'no', 8, 2403, 7, 'yes', 'no'],\n",
       " ['no', 19, 'yes', 1016, 286, 9741, 'yes', 30, 1077, 5, 'no', 'no'],\n",
       " ['no', 34, 'yes', 719, 498, 10757, 'yes', 29, 2853, 5, 'no', 'no'],\n",
       " ['yes', 25, 'no', 982, 166, 8129, 'no', 15, 1129, 5, 'no', 'yes'],\n",
       " ['yes', 16, 'no', 1063, 415, 10477, 'no', 10, 2257, 7, 'yes', 'no'],\n",
       " ['no', 1, 'no', 992, 492, 10760, 'yes', 22, 2801, 5, 'yes', 'no'],\n",
       " ['no', 39, 'yes', 891, 453, 9617, 'no', 5, 1783, 3, 'yes', 'yes'],\n",
       " ['no', 10, 'no', 872, 489, 8186, 'yes', 6, 2792, 6, 'no', 'no'],\n",
       " ['yes', 35, 'no', 976, 247, 11750, 'yes', 22, 1956, 6, 'no', 'yes'],\n",
       " ['yes', 19, 'no', 849, 473, 9675, 'no', 18, 2087, 5, 'yes', 'no'],\n",
       " ['yes', 20, 'yes', 1009, 111, 8884, 'no', 6, 1816, 6, 'yes', 'yes'],\n",
       " ['yes', 16, 'yes', 779, 440, 11842, 'no', 11, 1496, 6, 'no', 'no'],\n",
       " ['no', 15, 'no', 887, 361, 11989, 'yes', 13, 1111, 3, 'yes', 'no'],\n",
       " ['no', 1, 'no', 845, 348, 9676, 'no', 13, 1418, 5, 'yes', 'yes'],\n",
       " ['yes', 4, 'no', 981, 470, 10200, 'no', 20, 2809, 4, 'yes', 'yes'],\n",
       " ['yes', 22, 'yes', 848, 133, 10120, 'yes', 2, 1067, 7, 'no', 'no'],\n",
       " ['yes', 24, 'yes', 844, 271, 11335, 'no', 27, 2504, 5, 'no', 'no'],\n",
       " ['no', 9, 'no', 1064, 333, 11595, 'no', 3, 1427, 6, 'no', 'yes'],\n",
       " ['yes', 36, 'no', 815, 497, 11446, 'no', 12, 2074, 5, 'no', 'no'],\n",
       " ['yes', 39, 'no', 738, 473, 10725, 'yes', 10, 2900, 7, 'no', 'no'],\n",
       " ['yes', 41, 'no', 700, 500, 12000, 'no', 1, 2900, 7, 'no', 'no'],\n",
       " ['no', 22, 'no', 938, 107, 8512, 'yes', 2, 1678, 6, 'no', 'yes'],\n",
       " ['no', 41, 'no', 700, 130, 8000, 'no', 28, 2900, 7, 'yes', 'no'],\n",
       " ['no', 4, 'no', 825, 500, 8182, 'yes', 27, 2317, 7, 'yes', 'no'],\n",
       " ['no', 28, 'no', 798, 478, 8826, 'no', 16, 2659, 6, 'no', 'no'],\n",
       " ['no', 30, 'no', 775, 173, 9130, 'yes', 1, 1368, 6, 'no', 'no'],\n",
       " ['no', 41, 'no', 707, 100, 9024, 'yes', 1, 2900, 7, 'yes', 'no'],\n",
       " ['no', 41, 'no', 700, 206, 8000, 'no', 17, 2900, 7, 'yes', 'no'],\n",
       " ['no', 5, 'no', 1041, 377, 11336, 'yes', 11, 2900, 6, 'no', 'no'],\n",
       " ['no', 22, 'no', 839, 376, 8198, 'yes', 24, 1122, 6, 'yes', 'no'],\n",
       " ['yes', 31, 'no', 707, 421, 8534, 'no', 30, 1585, 7, 'no', 'no'],\n",
       " ['no', 41, 'no', 700, 422, 12000, 'no', 1, 2900, 7, 'yes', 'no'],\n",
       " ['no', 30, 'no', 860, 274, 9305, 'yes', 26, 1111, 7, 'yes', 'no'],\n",
       " ['yes', 1, 'no', 700, 306, 11018, 'no', 14, 1203, 7, 'yes', 'no'],\n",
       " ['yes', 28, 'no', 1005, 304, 11954, 'no', 12, 2367, 7, 'no', 'yes'],\n",
       " ['yes', 27, 'no', 1100, 442, 11671, 'no', 9, 2900, 7, 'yes', 'yes'],\n",
       " ['yes', 41, 'no', 878, 255, 12000, 'no', 11, 2900, 7, 'no', 'no'],\n",
       " ['no', 1, 'no', 844, 500, 8000, 'yes', 31, 1470, 6, 'yes', 'no'],\n",
       " ['yes', 2, 'no', 884, 304, 12000, 'no', 24, 2900, 7, 'no', 'no'],\n",
       " ['no', 41, 'no', 700, 500, 8000, 'yes', 11, 2718, 4, 'yes', 'no'],\n",
       " ['yes', 41, 'no', 885, 184, 12000, 'no', 1, 2900, 7, 'no', 'yes'],\n",
       " ['yes', 41, 'yes', 1013, 214, 12000, 'no', 6, 2900, 7, 'no', 'yes'],\n",
       " ['yes', 14, 'no', 801, 307, 11941, 'no', 27, 1150, 5, 'no', 'yes'],\n",
       " ['yes', 30, 'no', 1089, 485, 11995, 'no', 22, 1087, 6, 'no', 'no'],\n",
       " ['yes', 10, 'yes', 1100, 135, 11964, 'no', 31, 1990, 4, 'yes', 'no'],\n",
       " ['yes', 41, 'no', 1100, 231, 12000, 'no', 31, 2900, 7, 'no', 'yes'],\n",
       " ['no', 12, 'no', 841, 499, 8020, 'yes', 7, 2900, 7, 'no', 'no'],\n",
       " ['yes', 41, 'no', 700, 306, 12000, 'no', 18, 2900, 7, 'no', 'yes'],\n",
       " ['no', 19, 'yes', 991, 156, 8088, 'yes', 31, 2327, 5, 'yes', 'yes'],\n",
       " ['yes', 25, 'yes', 700, 170, 12000, 'no', 14, 2900, 7, 'yes', 'no'],\n",
       " ['yes', 32, 'yes', 700, 355, 9577, 'no', 1, 2900, 7, 'no', 'no'],\n",
       " ['yes', 25, 'yes', 700, 494, 8514, 'no', 8, 2900, 7, 'no', 'no'],\n",
       " ['yes', 29, 'yes', 1100, 419, 10003, 'no', 1, 1189, 7, 'yes', 'yes'],\n",
       " ['yes', 41, 'yes', 733, 187, 10030, 'no', 1, 2900, 7, 'no', 'no'],\n",
       " ['yes', 39, 'no', 708, 407, 9843, 'no', 1, 2900, 7, 'no', 'no'],\n",
       " ['yes', 7, 'yes', 700, 264, 9451, 'no', 26, 2737, 7, 'no', 'no'],\n",
       " ['yes', 41, 'yes', 700, 224, 9512, 'no', 1, 2900, 6, 'yes', 'no'],\n",
       " ['yes', 41, 'yes', 1100, 171, 9512, 'no', 20, 1830, 7, 'no', 'no'],\n",
       " ['yes', 25, 'yes', 700, 280, 9390, 'no', 31, 2900, 3, 'no', 'no'],\n",
       " ['yes', 39, 'yes', 700, 353, 9471, 'no', 28, 2900, 4, 'no', 'no'],\n",
       " ['yes', 1, 'yes', 700, 252, 9465, 'no', 9, 2900, 7, 'no', 'no'],\n",
       " ['yes', 1, 'yes', 700, 336, 9462, 'no', 22, 2900, 7, 'no', 'no'],\n",
       " ['yes', 3, 'yes', 700, 285, 9461, 'no', 22, 2900, 6, 'no', 'no'],\n",
       " ['yes', 4, 'yes', 700, 288, 9461, 'no', 17, 2900, 5, 'no', 'yes'],\n",
       " ['yes', 22, 'yes', 700, 283, 9457, 'no', 26, 2900, 4, 'no', 'no'],\n",
       " ['yes', 26, 'yes', 700, 401, 9453, 'no', 22, 2900, 4, 'yes', 'no'],\n",
       " ['yes', 4, 'yes', 700, 386, 9454, 'no', 20, 2900, 4, 'no', 'no'],\n",
       " ['yes', 30, 'yes', 700, 393, 9451, 'no', 8, 2900, 5, 'no', 'no'],\n",
       " ['yes', 32, 'yes', 700, 233, 9450, 'no', 31, 2900, 6, 'yes', 'no'],\n",
       " ['yes', 20, 'yes', 700, 176, 9447, 'no', 12, 2900, 4, 'no', 'no'],\n",
       " ['yes', 31, 'yes', 700, 483, 9445, 'no', 9, 2900, 7, 'no', 'yes'],\n",
       " ['yes', 13, 'yes', 700, 203, 9443, 'no', 5, 2900, 7, 'no', 'yes'],\n",
       " ['yes', 9, 'yes', 700, 244, 9441, 'yes', 31, 2900, 4, 'no', 'no'],\n",
       " ['yes', 1, 'yes', 700, 425, 9739, 'yes', 21, 2900, 4, 'yes', 'yes'],\n",
       " ['yes', 2, 'yes', 700, 168, 9291, 'yes', 25, 2900, 5, 'yes', 'no'],\n",
       " ['yes', 6, 'yes', 700, 323, 9370, 'yes', 29, 2900, 7, 'no', 'no'],\n",
       " ['yes', 27, 'yes', 700, 245, 9374, 'no', 25, 2900, 4, 'no', 'yes'],\n",
       " ['yes', 17, 'yes', 744, 182, 9368, 'yes', 25, 2900, 4, 'yes', 'no'],\n",
       " ['yes', 6, 'yes', 987, 401, 9368, 'yes', 30, 2900, 3, 'no', 'yes'],\n",
       " ['yes', 1, 'yes', 700, 197, 9310, 'no', 22, 2900, 7, 'no', 'no'],\n",
       " ['yes', 1, 'yes', 700, 483, 9305, 'no', 28, 2900, 6, 'no', 'yes'],\n",
       " ['yes', 1, 'no', 842, 117, 9304, 'yes', 6, 2900, 7, 'no', 'no'],\n",
       " ['yes', 12, 'yes', 733, 411, 9312, 'yes', 20, 2900, 5, 'no', 'no'],\n",
       " ['yes', 38, 'yes', 783, 228, 9266, 'yes', 1, 2900, 5, 'yes', 'no'],\n",
       " ['yes', 12, 'no', 766, 321, 9240, 'yes', 26, 2900, 3, 'no', 'no'],\n",
       " ['yes', 15, 'yes', 839, 227, 9352, 'no', 9, 2900, 5, 'no', 'yes'],\n",
       " ['yes', 2, 'yes', 748, 178, 9353, 'no', 14, 2900, 7, 'yes', 'yes'],\n",
       " ['yes', 38, 'no', 809, 442, 9283, 'no', 18, 2900, 5, 'no', 'no'],\n",
       " ['yes', 25, 'no', 916, 389, 9284, 'yes', 6, 2900, 4, 'no', 'no'],\n",
       " ['yes', 12, 'no', 1064, 308, 9285, 'yes', 6, 2900, 7, 'no', 'no'],\n",
       " ['yes', 23, 'no', 758, 411, 9294, 'yes', 6, 2900, 5, 'yes', 'no'],\n",
       " ['yes', 6, 'no', 790, 124, 9286, 'yes', 20, 2900, 3, 'no', 'yes'],\n",
       " ['yes', 20, 'no', 797, 233, 9289, 'yes', 10, 2900, 6, 'yes', 'no'],\n",
       " ['yes', 33, 'yes', 926, 369, 9361, 'no', 12, 2900, 3, 'no', 'yes'],\n",
       " ['yes', 17, 'no', 791, 205, 9286, 'yes', 17, 2900, 3, 'yes', 'yes'],\n",
       " ['yes', 6, 'no', 791, 368, 9287, 'no', 30, 2900, 3, 'no', 'no'],\n",
       " ['no', 29, 'yes', 1100, 162, 8862, 'yes', 11, 1000, 3, 'yes', 'no'],\n",
       " ['yes', 28, 'yes', 700, 238, 9082, 'no', 26, 1000, 5, 'no', 'no'],\n",
       " ['yes', 26, 'yes', 1100, 478, 11196, 'no', 27, 2900, 4, 'no', 'no']]"
      ]
     },
     "execution_count": 381,
     "metadata": {},
     "output_type": "execute_result"
    }
   ],
   "source": [
    "res.x_iters # "
   ]
  },
  {
   "cell_type": "code",
   "execution_count": 382,
   "metadata": {},
   "outputs": [
    {
     "data": {
      "text/plain": [
       "array([-58701.31525365, -58768.09993748, -58673.76719134, -58521.23871755,\n",
       "       -58425.76351363, -58764.12253397, -58693.03010285, -58701.31525365,\n",
       "       -58768.09993748, -58701.31525365, -58556.36764358, -58673.76719134,\n",
       "       -58673.76719134, -58673.76719134, -58673.76719134, -58556.36764358,\n",
       "       -58537.64017789, -58720.23074878, -58673.76719134, -58556.36764358,\n",
       "       -58556.36764358, -58788.30384062, -58537.64017789, -58768.09993748,\n",
       "       -58768.09993748, -58693.03010285, -58701.31525365, -58521.23871755,\n",
       "       -58768.09993748, -58522.53094503, -58768.09993748, -58701.31525365,\n",
       "       -58521.23871755, -58701.31525365, -58673.76719134, -58788.30384062,\n",
       "       -58764.12253397, -58788.30384062, -58768.09993748, -58788.30384062,\n",
       "       -58768.09993748, -58788.30384062, -58788.30384062, -58673.76719134,\n",
       "       -58701.31525365, -58673.76719134, -58764.12253397, -58768.09993748,\n",
       "       -58788.30384062, -58425.76351363, -58788.30384062, -58876.33437168,\n",
       "       -58696.3302863 , -58701.31525365, -58720.23074878, -58556.36764358,\n",
       "       -58876.33437168, -58876.33437168, -58701.31525365, -58876.33437168,\n",
       "       -58876.33437168, -58876.33437168, -58876.33437168, -58876.33437168,\n",
       "       -58876.33437168, -58876.33437168, -58876.33437168, -58876.33437168,\n",
       "       -58876.33437168, -58876.33437168, -58876.33437168, -58876.33437168,\n",
       "       -58876.33437168, -58876.33437168, -58556.36764358, -58876.33437168,\n",
       "       -58876.33437168, -58876.33437168, -58876.33437168, -58876.33437168,\n",
       "       -58876.33437168, -58876.33437168, -58876.33437168, -58876.33437168,\n",
       "       -58876.33437168, -58876.33437168, -58876.33437168, -58876.33437168,\n",
       "       -58876.33437168, -58876.33437168, -58764.12253397, -58876.33437168,\n",
       "       -58876.33437168, -58876.33437168, -58876.33437168, -58876.33437168,\n",
       "       -58876.33437168, -58701.31525365, -58701.31525365, -58764.12253397])"
      ]
     },
     "execution_count": 382,
     "metadata": {},
     "output_type": "execute_result"
    }
   ],
   "source": [
    "res.func_vals"
   ]
  },
  {
   "cell_type": "code",
   "execution_count": 386,
   "metadata": {},
   "outputs": [
    {
     "data": {
      "text/plain": [
       "-58876.33437167593"
      ]
     },
     "execution_count": 386,
     "metadata": {},
     "output_type": "execute_result"
    }
   ],
   "source": [
    "res.fun"
   ]
  },
  {
   "cell_type": "markdown",
   "metadata": {},
   "source": [
    "일부:-58768.09993747965\n",
    "\n",
    "전체: --58898.448123949456\n",
    "\n",
    "* hash-max-ziplist-entries 504\n",
    "* hash-max-ziplist-value 257\n",
    "* activerehashing yes\n",
    "* hz 2\n",
    "* dynamic-hz no\n",
    "* save 793 8\n",
    "* save 500 26\n",
    "* save 50 8694\n",
    "* rdbcompression yes\n",
    "* rdbchecksum yes\n",
    "* rdb-save-incremental-fsync yes\n",
    "* activedefrag no\n",
    "* active-defrag-threshold-lower 1\n",
    "* active-defrag-threshold-upper 101\n",
    "* active-defrag-cycle-min 29\n",
    "* active-defrag-cycle-max 70\n",
    "* maxmemory 1000mb\n",
    "* maxmemory-policy volatile-lfu\n",
    "* maxmemory-samples 5\n",
    "* lazyfree-lazy-eviction yes\n",
    "* lazyfree-lazy-expire yes\n",
    "* lazyfree-lazy-server-del no\n"
   ]
  },
  {
   "cell_type": "code",
   "execution_count": 337,
   "metadata": {},
   "outputs": [
    {
     "data": {
      "text/plain": [
       "[504,\n",
       " 257,\n",
       " 'yes',\n",
       " 2,\n",
       " 'no',\n",
       " 793,\n",
       " 8,\n",
       " 500,\n",
       " 26,\n",
       " 50,\n",
       " 8694,\n",
       " 'yes',\n",
       " 'yes',\n",
       " 'yes',\n",
       " 'no',\n",
       " 1,\n",
       " 101,\n",
       " 29,\n",
       " 70,\n",
       " 1000,\n",
       " 'volatile-lfu',\n",
       " 5,\n",
       " 'yes',\n",
       " 'yes',\n",
       " 'no']"
      ]
     },
     "execution_count": 337,
     "metadata": {},
     "output_type": "execute_result"
    }
   ],
   "source": [
    "res.x"
   ]
  },
  {
   "cell_type": "markdown",
   "metadata": {},
   "source": [
    "---"
   ]
  },
  {
   "cell_type": "code",
   "execution_count": 127,
   "metadata": {},
   "outputs": [],
   "source": [
    "# gp 결과 정리 함수\n",
    "def li_to_str(result_list):\n",
    "    for idx,knob in enumerate(list(knobs_rdb.keys())):  # knobs_rdb 키마다 접근\n",
    "        print(\"{} \".format(knob), end='')\n",
    "        print('{}'.format(result_list[idx]))"
   ]
  },
  {
   "cell_type": "code",
   "execution_count": 128,
   "metadata": {},
   "outputs": [
    {
     "name": "stdout",
     "output_type": "stream",
     "text": [
      "hash-max-ziplist-entries 308\n",
      "hash-max-ziplist-value 257\n",
      "activerehashing yes\n",
      "hz 14\n",
      "dynamic-hz yes\n"
     ]
    }
   ],
   "source": [
    "# gp 결과\n",
    "li_to_str(res.x)"
   ]
  },
  {
   "cell_type": "markdown",
   "metadata": {},
   "source": [
    "## gp 결과 정리\n",
    "\n",
    "### gp 분류된것\n",
    "\"hash-max-ziplist-entries\" : 284\n",
    "'hash-max-ziplist-value' 22\n",
    "'activerehashing': 'yes'\n",
    "'hz' 32\n",
    "'dynamic-hz' : 'yes'\n",
    "'save0_0' : 877\n",
    "'save0_1'2\n",
    "'save1_0'272\n",
    "'save1_1' : 12\n",
    "'save2_0'33\n",
    "'save2_1' : 11669 \n",
    "'rdbcompression'no\n",
    "'rdbchecksum' yes\n",
    "\"rdb-save-incremental-fsync\" 'no'\n",
    "'active-defrag-threshold-lower'3\n",
    "'active-defrag-threshold-upper': 87\n",
    "'active-defrag-cycle-min' : 25\n",
    "'active-defrag-cycle-max' : 80\n",
    "'maxmemory'1298\n",
    "maxmemory-policy : 'allkeys-random' \n",
    "'maxmemory-samples'6\n",
    "\"lazyfree-lazy-eviction\"  'no'\n",
    "'lazyfree-lazy-expire' yes\n",
    "'lazyfree-lazy-server-del' yes\n",
    "\n",
    "\n",
    "### gp 분류된것2\n",
    "hash-max-ziplist-entries 502\n",
    "hash-max-ziplist-value 213\n",
    "activerehashing yes\n",
    "hz 32\n",
    "dynamic-hz yes\n",
    "save0_0 760\n",
    "save0_1 3\n",
    "save1_0 426\n",
    "save1_1 24\n",
    "save2_0 37\n",
    "save2_1 8052 \n",
    "rdbcompression no\n",
    "rdbchecksum' no\n",
    "rdb-save-incremental-fsync yes\n",
    "active-defrag-threshold-lower 4\n",
    "active-defrag-threshold-upper 72\n",
    "active-defrag-cycle-min 14\n",
    "active-defrag-cycle-max 70\n",
    "maxmemory 1552\n",
    "maxmemory-policy allkeys-random\n",
    "maxmemory-samples 6\n",
    "lazyfree-lazy-eviction yes\n",
    "lazyfree-lazy-expire yes\n",
    "lazyfree-lazy-server-del no\n",
    "[575,\n",
    " 94,\n",
    " 'no',\n",
    " 10,\n",
    " 'yes',\n",
    " 1072,\n",
    " 5,\n",
    " 465,\n",
    " 24,\n",
    " 83,\n",
    " 9398,\n",
    " 'yes',\n",
    " 'yes',\n",
    " 'no',\n",
    " 26,\n",
    " 81,\n",
    " 20,\n",
    " 75,\n",
    " 1539,\n",
    " 'allkeys-lfu',\n",
    " 4,\n",
    " 'yes',\n",
    " 'no',\n",
    " 'no']\n",
    "\n",
    "### gp_T\n",
    "hash-max-ziplist-entries 575\n",
    "hash-max-ziplist-value 94\n",
    "activerehashing no\n",
    "hz 10\n",
    "dynamic-hz yes\n",
    "save0_0 1072\n",
    "save0_1 5\n",
    "save1_0 465\n",
    "save1_1 24\n",
    "save2_0 83\n",
    "save2_1 9398\n",
    "rdbcompression yes\n",
    "rdbchecksum yes\n",
    "rdb-save-incremental-fsync no\n",
    "active-defrag-threshold-lower 26\n",
    "active-defrag-threshold-upper 81\n",
    "active-defrag-cycle-min 20\n",
    "active-defrag-cycle-max 75\n",
    "maxmemory 1539\n",
    "maxmemory-policy allkeys-lfu\n",
    "maxmemory-samples 4\n",
    "lazyfree-lazy-eviction yes\n",
    "lazyfree-lazy-expire no\n",
    "lazyfree-lazy-server-del no\n",
    "\n"
   ]
  },
  {
   "cell_type": "code",
   "execution_count": null,
   "metadata": {},
   "outputs": [],
   "source": []
  }
 ],
 "metadata": {
  "kernelspec": {
   "display_name": "Python 3",
   "language": "python",
   "name": "python3"
  },
  "language_info": {
   "codemirror_mode": {
    "name": "ipython",
    "version": 3
   },
   "file_extension": ".py",
   "mimetype": "text/x-python",
   "name": "python",
   "nbconvert_exporter": "python",
   "pygments_lexer": "ipython3",
   "version": "3.8.5"
  }
 },
 "nbformat": 4,
 "nbformat_minor": 4
}
