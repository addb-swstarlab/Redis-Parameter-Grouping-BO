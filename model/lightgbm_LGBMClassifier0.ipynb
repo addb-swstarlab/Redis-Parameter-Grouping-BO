{
 "cells": [
  {
   "cell_type": "code",
   "execution_count": 1,
   "metadata": {},
   "outputs": [
    {
     "ename": "NameError",
     "evalue": "name 'load_iris' is not defined",
     "output_type": "error",
     "traceback": [
      "\u001b[0;31m---------------------------------------------------------------------------\u001b[0m",
      "\u001b[0;31mNameError\u001b[0m                                 Traceback (most recent call last)",
      "\u001b[0;32m<ipython-input-1-0b193307c3e1>\u001b[0m in \u001b[0;36m<module>\u001b[0;34m\u001b[0m\n\u001b[0;32m----> 1\u001b[0;31m \u001b[0miris\u001b[0m \u001b[0;34m=\u001b[0m \u001b[0mload_iris\u001b[0m\u001b[0;34m(\u001b[0m\u001b[0;34m)\u001b[0m\u001b[0;34m\u001b[0m\u001b[0;34m\u001b[0m\u001b[0m\n\u001b[0m\u001b[1;32m      2\u001b[0m \u001b[0mX_train\u001b[0m\u001b[0;34m,\u001b[0m \u001b[0mX_test\u001b[0m\u001b[0;34m,\u001b[0m \u001b[0my_train\u001b[0m\u001b[0;34m,\u001b[0m \u001b[0my_test\u001b[0m \u001b[0;34m=\u001b[0m \u001b[0mtrain_test_split\u001b[0m\u001b[0;34m(\u001b[0m\u001b[0miris\u001b[0m\u001b[0;34m.\u001b[0m\u001b[0mdata\u001b[0m\u001b[0;34m,\u001b[0m \u001b[0mtest_size\u001b[0m\u001b[0;34m=\u001b[0m\u001b[0;36m0.2\u001b[0m\u001b[0;34m,\u001b[0m \u001b[0mrandom_state\u001b[0m\u001b[0;34m=\u001b[0m\u001b[0;36m123\u001b[0m\u001b[0;34m)\u001b[0m\u001b[0;34m\u001b[0m\u001b[0;34m\u001b[0m\u001b[0m\n",
      "\u001b[0;31mNameError\u001b[0m: name 'load_iris' is not defined"
     ]
    }
   ],
   "source": []
  },
  {
   "cell_type": "code",
   "execution_count": 28,
   "metadata": {},
   "outputs": [],
   "source": [
    "from lightgbm import LGBMClassifier, LGBMRegressor\n",
    "from lightgbm import plot_importance, plot_metric, plot_tree\n",
    "from sklearn.datasets import load_iris\n",
    "from sklearn.datasets import load_iris\n",
    "from sklearn.tree import DecisionTreeClassifier\n",
    "from sklearn.model_selection import train_test_split\n",
    "import pandas as pd\n",
    "from sklearn.metrics import mean_squared_error\n",
    "from sklearn.model_selection import cross_validate"
   ]
  },
  {
   "cell_type": "code",
   "execution_count": 29,
   "metadata": {},
   "outputs": [],
   "source": [
    "iris = load_iris()\n",
    "X_train, X_test, y_train, y_test = train_test_split(iris.data, iris.target,test_size=0.2, random_state=123)"
   ]
  },
  {
   "cell_type": "code",
   "execution_count": 30,
   "metadata": {},
   "outputs": [
    {
     "name": "stdout",
     "output_type": "stream",
     "text": [
      "[1]\tvalid_0's multi_logloss: 0.95847\n",
      "Training until validation scores don't improve for 100 rounds\n",
      "[2]\tvalid_0's multi_logloss: 0.832184\n",
      "[3]\tvalid_0's multi_logloss: 0.731164\n",
      "[4]\tvalid_0's multi_logloss: 0.641056\n",
      "[5]\tvalid_0's multi_logloss: 0.571726\n",
      "[6]\tvalid_0's multi_logloss: 0.507286\n",
      "[7]\tvalid_0's multi_logloss: 0.454933\n",
      "[8]\tvalid_0's multi_logloss: 0.410205\n",
      "[9]\tvalid_0's multi_logloss: 0.372194\n",
      "[10]\tvalid_0's multi_logloss: 0.333919\n",
      "[11]\tvalid_0's multi_logloss: 0.310212\n",
      "[12]\tvalid_0's multi_logloss: 0.282326\n",
      "[13]\tvalid_0's multi_logloss: 0.257165\n",
      "[14]\tvalid_0's multi_logloss: 0.240836\n",
      "[15]\tvalid_0's multi_logloss: 0.225383\n",
      "[16]\tvalid_0's multi_logloss: 0.211583\n",
      "[17]\tvalid_0's multi_logloss: 0.199289\n",
      "[18]\tvalid_0's multi_logloss: 0.186269\n",
      "[19]\tvalid_0's multi_logloss: 0.171556\n",
      "[20]\tvalid_0's multi_logloss: 0.168245\n",
      "[21]\tvalid_0's multi_logloss: 0.161065\n",
      "[22]\tvalid_0's multi_logloss: 0.151371\n",
      "[23]\tvalid_0's multi_logloss: 0.148081\n",
      "[24]\tvalid_0's multi_logloss: 0.143843\n",
      "[25]\tvalid_0's multi_logloss: 0.140169\n",
      "[26]\tvalid_0's multi_logloss: 0.138303\n",
      "[27]\tvalid_0's multi_logloss: 0.134058\n",
      "[28]\tvalid_0's multi_logloss: 0.130884\n",
      "[29]\tvalid_0's multi_logloss: 0.128082\n",
      "[30]\tvalid_0's multi_logloss: 0.124975\n",
      "[31]\tvalid_0's multi_logloss: 0.122225\n",
      "[32]\tvalid_0's multi_logloss: 0.120298\n",
      "[33]\tvalid_0's multi_logloss: 0.117257\n",
      "[34]\tvalid_0's multi_logloss: 0.115021\n",
      "[35]\tvalid_0's multi_logloss: 0.115037\n",
      "[36]\tvalid_0's multi_logloss: 0.115831\n",
      "[37]\tvalid_0's multi_logloss: 0.113318\n",
      "[38]\tvalid_0's multi_logloss: 0.115651\n",
      "[39]\tvalid_0's multi_logloss: 0.115772\n",
      "[40]\tvalid_0's multi_logloss: 0.114953\n",
      "[41]\tvalid_0's multi_logloss: 0.117056\n",
      "[42]\tvalid_0's multi_logloss: 0.115412\n",
      "[43]\tvalid_0's multi_logloss: 0.118359\n",
      "[44]\tvalid_0's multi_logloss: 0.117129\n",
      "[45]\tvalid_0's multi_logloss: 0.119174\n",
      "[46]\tvalid_0's multi_logloss: 0.117789\n",
      "[47]\tvalid_0's multi_logloss: 0.121333\n",
      "[48]\tvalid_0's multi_logloss: 0.120375\n",
      "[49]\tvalid_0's multi_logloss: 0.124128\n",
      "[50]\tvalid_0's multi_logloss: 0.123394\n",
      "[51]\tvalid_0's multi_logloss: 0.126631\n",
      "[52]\tvalid_0's multi_logloss: 0.129833\n",
      "[53]\tvalid_0's multi_logloss: 0.129069\n",
      "[54]\tvalid_0's multi_logloss: 0.135166\n",
      "[55]\tvalid_0's multi_logloss: 0.134996\n",
      "[56]\tvalid_0's multi_logloss: 0.13912\n",
      "[57]\tvalid_0's multi_logloss: 0.138818\n",
      "[58]\tvalid_0's multi_logloss: 0.142758\n",
      "[59]\tvalid_0's multi_logloss: 0.142228\n",
      "[60]\tvalid_0's multi_logloss: 0.142928\n",
      "[61]\tvalid_0's multi_logloss: 0.142513\n",
      "[62]\tvalid_0's multi_logloss: 0.143485\n",
      "[63]\tvalid_0's multi_logloss: 0.143408\n",
      "[64]\tvalid_0's multi_logloss: 0.148199\n",
      "[65]\tvalid_0's multi_logloss: 0.148074\n",
      "[66]\tvalid_0's multi_logloss: 0.156199\n",
      "[67]\tvalid_0's multi_logloss: 0.15898\n",
      "[68]\tvalid_0's multi_logloss: 0.157612\n",
      "[69]\tvalid_0's multi_logloss: 0.162526\n",
      "[70]\tvalid_0's multi_logloss: 0.166269\n",
      "[71]\tvalid_0's multi_logloss: 0.168114\n",
      "[72]\tvalid_0's multi_logloss: 0.173203\n",
      "[73]\tvalid_0's multi_logloss: 0.181871\n",
      "[74]\tvalid_0's multi_logloss: 0.181307\n",
      "[75]\tvalid_0's multi_logloss: 0.186251\n",
      "[76]\tvalid_0's multi_logloss: 0.185765\n",
      "[77]\tvalid_0's multi_logloss: 0.190847\n",
      "[78]\tvalid_0's multi_logloss: 0.190228\n",
      "[79]\tvalid_0's multi_logloss: 0.195371\n",
      "[80]\tvalid_0's multi_logloss: 0.199459\n",
      "[81]\tvalid_0's multi_logloss: 0.198517\n",
      "[82]\tvalid_0's multi_logloss: 0.203972\n",
      "[83]\tvalid_0's multi_logloss: 0.213262\n",
      "[84]\tvalid_0's multi_logloss: 0.212185\n",
      "[85]\tvalid_0's multi_logloss: 0.217603\n",
      "[86]\tvalid_0's multi_logloss: 0.227068\n",
      "[87]\tvalid_0's multi_logloss: 0.225914\n",
      "[88]\tvalid_0's multi_logloss: 0.230099\n",
      "[89]\tvalid_0's multi_logloss: 0.229018\n",
      "[90]\tvalid_0's multi_logloss: 0.23464\n",
      "[91]\tvalid_0's multi_logloss: 0.24434\n",
      "[92]\tvalid_0's multi_logloss: 0.243782\n",
      "[93]\tvalid_0's multi_logloss: 0.24814\n",
      "[94]\tvalid_0's multi_logloss: 0.25793\n",
      "[95]\tvalid_0's multi_logloss: 0.257366\n",
      "[96]\tvalid_0's multi_logloss: 0.261762\n",
      "[97]\tvalid_0's multi_logloss: 0.260774\n",
      "[98]\tvalid_0's multi_logloss: 0.270632\n",
      "[99]\tvalid_0's multi_logloss: 0.269316\n",
      "[100]\tvalid_0's multi_logloss: 0.269535\n",
      "[101]\tvalid_0's multi_logloss: 0.279374\n",
      "[102]\tvalid_0's multi_logloss: 0.278105\n",
      "[103]\tvalid_0's multi_logloss: 0.279826\n",
      "[104]\tvalid_0's multi_logloss: 0.282811\n",
      "[105]\tvalid_0's multi_logloss: 0.29269\n",
      "[106]\tvalid_0's multi_logloss: 0.297696\n",
      "[107]\tvalid_0's multi_logloss: 0.297028\n",
      "[108]\tvalid_0's multi_logloss: 0.29694\n",
      "[109]\tvalid_0's multi_logloss: 0.30682\n",
      "[110]\tvalid_0's multi_logloss: 0.306206\n",
      "[111]\tvalid_0's multi_logloss: 0.303895\n",
      "[112]\tvalid_0's multi_logloss: 0.300907\n",
      "[113]\tvalid_0's multi_logloss: 0.304274\n",
      "[114]\tvalid_0's multi_logloss: 0.314218\n",
      "[115]\tvalid_0's multi_logloss: 0.312988\n",
      "[116]\tvalid_0's multi_logloss: 0.317589\n",
      "[117]\tvalid_0's multi_logloss: 0.323073\n",
      "[118]\tvalid_0's multi_logloss: 0.333026\n",
      "[119]\tvalid_0's multi_logloss: 0.332652\n",
      "[120]\tvalid_0's multi_logloss: 0.337212\n",
      "[121]\tvalid_0's multi_logloss: 0.334481\n",
      "[122]\tvalid_0's multi_logloss: 0.340022\n",
      "[123]\tvalid_0's multi_logloss: 0.350061\n",
      "[124]\tvalid_0's multi_logloss: 0.351676\n",
      "[125]\tvalid_0's multi_logloss: 0.348515\n",
      "[126]\tvalid_0's multi_logloss: 0.358595\n",
      "[127]\tvalid_0's multi_logloss: 0.356737\n",
      "[128]\tvalid_0's multi_logloss: 0.351512\n",
      "[129]\tvalid_0's multi_logloss: 0.361591\n",
      "[130]\tvalid_0's multi_logloss: 0.35978\n",
      "[131]\tvalid_0's multi_logloss: 0.357317\n",
      "[132]\tvalid_0's multi_logloss: 0.367439\n",
      "[133]\tvalid_0's multi_logloss: 0.365665\n",
      "[134]\tvalid_0's multi_logloss: 0.365745\n",
      "[135]\tvalid_0's multi_logloss: 0.375832\n",
      "[136]\tvalid_0's multi_logloss: 0.374115\n",
      "[137]\tvalid_0's multi_logloss: 0.376748\n",
      "Early stopping, best iteration is:\n",
      "[37]\tvalid_0's multi_logloss: 0.113318\n"
     ]
    }
   ],
   "source": [
    "lgbmc = LGBMClassifier(n_estimators = 400)\n",
    "evals = [(X_test, y_test)]\n",
    "\n",
    "lgbmc.fit(X_train, y_train, early_stopping_rounds=100, eval_metric='logloss', eval_set=evals, verbose=True)\n",
    "preds=lgbmc.predict(X_test)"
   ]
  },
  {
   "cell_type": "code",
   "execution_count": 31,
   "metadata": {},
   "outputs": [
    {
     "name": "stdout",
     "output_type": "stream",
     "text": [
      "avg fit time: 0.06936306953430176 (+/-0.01731760013844797)\n",
      "avg score time: 0.0008147239685058593 (+/-4.7076266151396415e-05)\n",
      "avg test score: 0.9600000000000002 (+/-0.04898979485566355)\n"
     ]
    }
   ],
   "source": [
    "# 성능\n",
    "cross_val = cross_validate(\n",
    "    estimator = lgbmc,\n",
    "    X=iris.data, y = iris.target,\n",
    "    cv = 5\n",
    ")\n",
    "\n",
    "print('avg fit time: {} (+/-{})'.format(cross_val['fit_time'].mean(), cross_val['fit_time'].std()))\n",
    "print('avg score time: {} (+/-{})'.format(cross_val['score_time'].mean(), cross_val['score_time'].std()))\n",
    "print('avg test score: {} (+/-{})'.format(cross_val['test_score'].mean(), cross_val['test_score'].std()))"
   ]
  },
  {
   "cell_type": "code",
   "execution_count": 32,
   "metadata": {},
   "outputs": [
    {
     "data": {
      "text/plain": [
       "<AxesSubplot:title={'center':'Metric during training'}, xlabel='Iterations', ylabel='multi_logloss'>"
      ]
     },
     "execution_count": 32,
     "metadata": {},
     "output_type": "execute_result"
    },
    {
     "data": {
      "image/png": "[encoded data removed]",
      "text/plain": [
       "<Figure size 432x288 with 1 Axes>"
      ]
     },
     "metadata": {
      "needs_background": "light"
     },
     "output_type": "display_data"
    }
   ],
   "source": [
    "plot_metric(lgbmc)"
   ]
  },
  {
   "cell_type": "code",
   "execution_count": 33,
   "metadata": {},
   "outputs": [
    {
     "data": {
      "text/plain": [
       "<AxesSubplot:title={'center':'Feature importance'}, xlabel='Feature importance', ylabel='Features'>"
      ]
     },
     "execution_count": 33,
     "metadata": {},
     "output_type": "execute_result"
    },
    {
     "data": {
      "image/png": "[encoded data removed]",
      "text/plain": [
       "<Figure size 720x864 with 1 Axes>"
      ]
     },
     "metadata": {
      "needs_background": "light"
     },
     "output_type": "display_data"
    }
   ],
   "source": [
    "plot_importance(lgbmc, figsize=(10, 12))"
   ]
  },
  {
   "cell_type": "code",
   "execution_count": 27,
   "metadata": {},
   "outputs": [
    {
     "ename": "ImportError",
     "evalue": "You must install graphviz to plot tree.",
     "output_type": "error",
     "traceback": [
      "\u001b[0;31m---------------------------------------------------------------------------\u001b[0m",
      "\u001b[0;31mImportError\u001b[0m                               Traceback (most recent call last)",
      "\u001b[0;32m<ipython-input-27-bb5e7fd981d5>\u001b[0m in \u001b[0;36m<module>\u001b[0;34m\u001b[0m\n\u001b[0;32m----> 1\u001b[0;31m \u001b[0mplot_tree\u001b[0m\u001b[0;34m(\u001b[0m\u001b[0mlgbmc\u001b[0m\u001b[0;34m,\u001b[0m \u001b[0mfigsize\u001b[0m\u001b[0;34m=\u001b[0m\u001b[0;34m(\u001b[0m\u001b[0;36m28\u001b[0m\u001b[0;34m,\u001b[0m \u001b[0;36m24\u001b[0m\u001b[0;34m)\u001b[0m\u001b[0;34m)\u001b[0m\u001b[0;34m\u001b[0m\u001b[0;34m\u001b[0m\u001b[0m\n\u001b[0m",
      "\u001b[0;32m~/opt/anaconda3/lib/python3.8/site-packages/lightgbm/plotting.py\u001b[0m in \u001b[0;36mplot_tree\u001b[0;34m(booster, ax, tree_index, figsize, dpi, show_info, precision, orientation, **kwargs)\u001b[0m\n\u001b[1;32m    610\u001b[0m         \u001b[0m_\u001b[0m\u001b[0;34m,\u001b[0m \u001b[0max\u001b[0m \u001b[0;34m=\u001b[0m \u001b[0mplt\u001b[0m\u001b[0;34m.\u001b[0m\u001b[0msubplots\u001b[0m\u001b[0;34m(\u001b[0m\u001b[0;36m1\u001b[0m\u001b[0;34m,\u001b[0m \u001b[0;36m1\u001b[0m\u001b[0;34m,\u001b[0m \u001b[0mfigsize\u001b[0m\u001b[0;34m=\u001b[0m\u001b[0mfigsize\u001b[0m\u001b[0;34m,\u001b[0m \u001b[0mdpi\u001b[0m\u001b[0;34m=\u001b[0m\u001b[0mdpi\u001b[0m\u001b[0;34m)\u001b[0m\u001b[0;34m\u001b[0m\u001b[0;34m\u001b[0m\u001b[0m\n\u001b[1;32m    611\u001b[0m \u001b[0;34m\u001b[0m\u001b[0m\n\u001b[0;32m--> 612\u001b[0;31m     graph = create_tree_digraph(booster=booster, tree_index=tree_index,\n\u001b[0m\u001b[1;32m    613\u001b[0m                                 \u001b[0mshow_info\u001b[0m\u001b[0;34m=\u001b[0m\u001b[0mshow_info\u001b[0m\u001b[0;34m,\u001b[0m \u001b[0mprecision\u001b[0m\u001b[0;34m=\u001b[0m\u001b[0mprecision\u001b[0m\u001b[0;34m,\u001b[0m\u001b[0;34m\u001b[0m\u001b[0;34m\u001b[0m\u001b[0m\n\u001b[1;32m    614\u001b[0m                                 orientation=orientation, **kwargs)\n",
      "\u001b[0;32m~/opt/anaconda3/lib/python3.8/site-packages/lightgbm/plotting.py\u001b[0m in \u001b[0;36mcreate_tree_digraph\u001b[0;34m(booster, tree_index, show_info, precision, orientation, **kwargs)\u001b[0m\n\u001b[1;32m    537\u001b[0m         \u001b[0mshow_info\u001b[0m \u001b[0;34m=\u001b[0m \u001b[0;34m[\u001b[0m\u001b[0;34m]\u001b[0m\u001b[0;34m\u001b[0m\u001b[0;34m\u001b[0m\u001b[0m\n\u001b[1;32m    538\u001b[0m \u001b[0;34m\u001b[0m\u001b[0m\n\u001b[0;32m--> 539\u001b[0;31m     graph = _to_graphviz(tree_info, show_info, feature_names, precision,\n\u001b[0m\u001b[1;32m    540\u001b[0m                          orientation, monotone_constraints, **kwargs)\n\u001b[1;32m    541\u001b[0m \u001b[0;34m\u001b[0m\u001b[0m\n",
      "\u001b[0;32m~/opt/anaconda3/lib/python3.8/site-packages/lightgbm/plotting.py\u001b[0m in \u001b[0;36m_to_graphviz\u001b[0;34m(tree_info, show_info, feature_names, precision, orientation, constraints, **kwargs)\u001b[0m\n\u001b[1;32m    380\u001b[0m         \u001b[0;32mfrom\u001b[0m \u001b[0mgraphviz\u001b[0m \u001b[0;32mimport\u001b[0m \u001b[0mDigraph\u001b[0m\u001b[0;34m\u001b[0m\u001b[0;34m\u001b[0m\u001b[0m\n\u001b[1;32m    381\u001b[0m     \u001b[0;32melse\u001b[0m\u001b[0;34m:\u001b[0m\u001b[0;34m\u001b[0m\u001b[0;34m\u001b[0m\u001b[0m\n\u001b[0;32m--> 382\u001b[0;31m         \u001b[0;32mraise\u001b[0m \u001b[0mImportError\u001b[0m\u001b[0;34m(\u001b[0m\u001b[0;34m'You must install graphviz to plot tree.'\u001b[0m\u001b[0;34m)\u001b[0m\u001b[0;34m\u001b[0m\u001b[0;34m\u001b[0m\u001b[0m\n\u001b[0m\u001b[1;32m    383\u001b[0m \u001b[0;34m\u001b[0m\u001b[0m\n\u001b[1;32m    384\u001b[0m     \u001b[0;32mdef\u001b[0m \u001b[0madd\u001b[0m\u001b[0;34m(\u001b[0m\u001b[0mroot\u001b[0m\u001b[0;34m,\u001b[0m \u001b[0mtotal_count\u001b[0m\u001b[0;34m,\u001b[0m \u001b[0mparent\u001b[0m\u001b[0;34m=\u001b[0m\u001b[0;32mNone\u001b[0m\u001b[0;34m,\u001b[0m \u001b[0mdecision\u001b[0m\u001b[0;34m=\u001b[0m\u001b[0;32mNone\u001b[0m\u001b[0;34m)\u001b[0m\u001b[0;34m:\u001b[0m\u001b[0;34m\u001b[0m\u001b[0;34m\u001b[0m\u001b[0m\n",
      "\u001b[0;31mImportError\u001b[0m: You must install graphviz to plot tree."
     ]
    },
    {
     "data": {
      "image/png": "[encoded data removed]",
      "text/plain": [
       "<Figure size 2016x1728 with 1 Axes>"
      ]
     },
     "metadata": {
      "needs_background": "light"
     },
     "output_type": "display_data"
    }
   ],
   "source": [
    "plot_tree(lgbmc, figsize=(28, 24))"
   ]
  },
  {
   "cell_type": "code",
   "execution_count": null,
   "metadata": {},
   "outputs": [],
   "source": []
  }
 ],
 "metadata": {
  "kernelspec": {
   "display_name": "Python 3",
   "language": "python",
   "name": "python3"
  },
  "language_info": {
   "codemirror_mode": {
    "name": "ipython",
    "version": 3
   },
   "file_extension": ".py",
   "mimetype": "text/x-python",
   "name": "python",
   "nbconvert_exporter": "python",
   "pygments_lexer": "ipython3",
   "version": "3.8.5"
  }
 },
 "nbformat": 4,
 "nbformat_minor": 4
}
