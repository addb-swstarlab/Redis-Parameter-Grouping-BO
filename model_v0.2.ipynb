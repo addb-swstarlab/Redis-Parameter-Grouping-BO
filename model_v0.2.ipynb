{
 "cells": [
  {
   "cell_type": "markdown",
   "metadata": {},
   "source": [
    "# model"
   ]
  },
  {
   "cell_type": "code",
   "execution_count": 403,
   "metadata": {},
   "outputs": [],
   "source": [
    "import pandas as pd\n",
    "import numpy as np\n",
    "from sklearn.datasets import load_boston\n",
    "import matplotlib.pyplot as plt\n",
    "from sklearn.model_selection import train_test_split\n",
    "from sklearn.metrics import explained_variance_score\n",
    "from lightgbm import LGBMRegressor, plot_importance\n",
    "from sklearn.metrics import roc_auc_score"
   ]
  },
  {
   "cell_type": "code",
   "execution_count": 404,
   "metadata": {},
   "outputs": [],
   "source": [
    "# knob 종류 및 바운드\n",
    "[305, 722, 5, 12, 9163, 'no', 'yes']\n",
    "knobs_rdb = {\n",
    "    \n",
    "    \"hash-max-ziplist-entries\":     (256, 751), \n",
    "    \"hash-max-ziplist-value\": (16, 257),\n",
    "    \"activerehashing\": ('yes', 'no'),  ##yes\n",
    "    \"hz\": (1, 41),\n",
    "    \"dynamic-hz\": ('yes', 'no'),\n",
    "\n",
    "    \"save0_0\": (700,1100),\n",
    "    \"save0_1\": (1,9),\n",
    "    \"save1_0\": (100,500),\n",
    "    \"save1_1\": (10,100),\n",
    "    \"save2_0\": (30,90),\n",
    "    \"save2_1\": (8000,12000),\n",
    "\n",
    "    \"rdbcompression\": ('yes', 'no'), ##yes\n",
    "    \"rdbchecksum\": ('yes', 'no'),    ##yes\n",
    "    \"rdb-save-incremental-fsync\": ('yes', 'no'),   ## yes\n",
    "\n",
    "#     \"activedefrag\": ('yes','no'),  \n",
    "    \"active-defrag-threshold-lower\": (1, 31),\n",
    "    \"active-defrag-threshold-upper\": (70, 101),\n",
    "    \"active-defrag-cycle-min\": (1, 31),\n",
    "    \"active-defrag-cycle-max\": (70, 91),\n",
    "    \n",
    "    \"maxmemory\": (1000, 2900),   ##\"volatile-lru\"\n",
    "    \"maxmemory-policy\":     (\"volatile-lru\", \"allkeys-lru\", \"volatile-lfu\", \"allkeys-lfu\", \n",
    "                             \"volatile-random\",\"allkeys-random\", \"volatile-ttl\", \"noeviction\"),\n",
    "    \"maxmemory-samples\": (3, 7),\n",
    "    \n",
    "    \"lazyfree-lazy-eviction\": ('yes', 'no'),\n",
    "    \"lazyfree-lazy-expire\": ('yes', 'no'),\n",
    "    \"lazyfree-lazy-server-del\": ('yes', 'no')\n",
    "}\n",
    "\n",
    "knobs_list = list(knobs_rdb.keys())\n",
    "knobs_bound = list(knobs_rdb.values())"
   ]
  },
  {
   "cell_type": "markdown",
   "metadata": {},
   "source": [
    "## 데이터 전처리\n",
    "* 이상치 파악\n",
    "* test, train 데이터 잘 나뉘어졌는지 확인"
   ]
  },
  {
   "cell_type": "code",
   "execution_count": 405,
   "metadata": {},
   "outputs": [],
   "source": [
    "# config(knob) data\n",
    "# config_df = pd.read_csv(\"./data/result_config0.csv\", sep=',')\n",
    "config_df = pd.read_csv(\"./data/result_config5.csv\", sep=',')\n",
    "\n",
    "# external(throughput) data\n",
    "# external_df = pd.read_csv(\"./data/external_metrics0.csv\", sep=',')\n",
    "external_df = pd.read_csv(\"./data/external_metrics5.csv\", sep=',')"
   ]
  },
  {
   "cell_type": "code",
   "execution_count": 406,
   "metadata": {},
   "outputs": [],
   "source": [
    "# config(knog), external(throughput) 데이터 하나의 프레임으로 결합\n",
    "dataset = config_df\n",
    "dataset['throughput'] = external_df['Gets_KB/sec']"
   ]
  },
  {
   "cell_type": "code",
   "execution_count": 407,
   "metadata": {},
   "outputs": [
    {
     "data": {
      "text/html": [
       "<div>\n",
       "<style scoped>\n",
       "    .dataframe tbody tr th:only-of-type {\n",
       "        vertical-align: middle;\n",
       "    }\n",
       "\n",
       "    .dataframe tbody tr th {\n",
       "        vertical-align: top;\n",
       "    }\n",
       "\n",
       "    .dataframe thead th {\n",
       "        text-align: right;\n",
       "    }\n",
       "</style>\n",
       "<table border=\"1\" class=\"dataframe\">\n",
       "  <thead>\n",
       "    <tr style=\"text-align: right;\">\n",
       "      <th></th>\n",
       "      <th>appendonly</th>\n",
       "      <th>appendfsync</th>\n",
       "      <th>auto-aof-rewrite-percentage</th>\n",
       "      <th>auto-aof-rewrite-min-size</th>\n",
       "      <th>no-appendfsync-on-rewrite</th>\n",
       "      <th>aof-rewrite-incremental-fsync</th>\n",
       "      <th>aof-use-rdb-preamble</th>\n",
       "      <th>save0_0</th>\n",
       "      <th>save0_1</th>\n",
       "      <th>save1_0</th>\n",
       "      <th>...</th>\n",
       "      <th>maxmemory-samples</th>\n",
       "      <th>lazyfree-lazy-eviction</th>\n",
       "      <th>lazyfree-lazy-expire</th>\n",
       "      <th>lazyfree-lazy-server-del</th>\n",
       "      <th>hash-max-ziplist-entries</th>\n",
       "      <th>hash-max-ziplist-value</th>\n",
       "      <th>activerehashing</th>\n",
       "      <th>hz</th>\n",
       "      <th>dynamic-hz</th>\n",
       "      <th>throughput</th>\n",
       "    </tr>\n",
       "  </thead>\n",
       "  <tbody>\n",
       "    <tr>\n",
       "      <th>0</th>\n",
       "      <td>NaN</td>\n",
       "      <td>NaN</td>\n",
       "      <td>NaN</td>\n",
       "      <td>NaN</td>\n",
       "      <td>NaN</td>\n",
       "      <td>NaN</td>\n",
       "      <td>NaN</td>\n",
       "      <td>868</td>\n",
       "      <td>4</td>\n",
       "      <td>320</td>\n",
       "      <td>...</td>\n",
       "      <td>5</td>\n",
       "      <td>yes</td>\n",
       "      <td>yes</td>\n",
       "      <td>yes</td>\n",
       "      <td>506</td>\n",
       "      <td>144</td>\n",
       "      <td>no</td>\n",
       "      <td>20</td>\n",
       "      <td>yes</td>\n",
       "      <td>45305.88</td>\n",
       "    </tr>\n",
       "    <tr>\n",
       "      <th>1</th>\n",
       "      <td>NaN</td>\n",
       "      <td>NaN</td>\n",
       "      <td>NaN</td>\n",
       "      <td>NaN</td>\n",
       "      <td>NaN</td>\n",
       "      <td>NaN</td>\n",
       "      <td>NaN</td>\n",
       "      <td>867</td>\n",
       "      <td>6</td>\n",
       "      <td>258</td>\n",
       "      <td>...</td>\n",
       "      <td>4</td>\n",
       "      <td>yes</td>\n",
       "      <td>no</td>\n",
       "      <td>yes</td>\n",
       "      <td>552</td>\n",
       "      <td>141</td>\n",
       "      <td>no</td>\n",
       "      <td>22</td>\n",
       "      <td>yes</td>\n",
       "      <td>44540.19</td>\n",
       "    </tr>\n",
       "    <tr>\n",
       "      <th>2</th>\n",
       "      <td>NaN</td>\n",
       "      <td>NaN</td>\n",
       "      <td>NaN</td>\n",
       "      <td>NaN</td>\n",
       "      <td>NaN</td>\n",
       "      <td>NaN</td>\n",
       "      <td>NaN</td>\n",
       "      <td>911</td>\n",
       "      <td>6</td>\n",
       "      <td>319</td>\n",
       "      <td>...</td>\n",
       "      <td>5</td>\n",
       "      <td>yes</td>\n",
       "      <td>no</td>\n",
       "      <td>yes</td>\n",
       "      <td>552</td>\n",
       "      <td>185</td>\n",
       "      <td>yes</td>\n",
       "      <td>20</td>\n",
       "      <td>no</td>\n",
       "      <td>45261.71</td>\n",
       "    </tr>\n",
       "  </tbody>\n",
       "</table>\n",
       "<p>3 rows × 33 columns</p>\n",
       "</div>"
      ],
      "text/plain": [
       "   appendonly  appendfsync  auto-aof-rewrite-percentage  \\\n",
       "0         NaN          NaN                          NaN   \n",
       "1         NaN          NaN                          NaN   \n",
       "2         NaN          NaN                          NaN   \n",
       "\n",
       "   auto-aof-rewrite-min-size  no-appendfsync-on-rewrite  \\\n",
       "0                        NaN                        NaN   \n",
       "1                        NaN                        NaN   \n",
       "2                        NaN                        NaN   \n",
       "\n",
       "   aof-rewrite-incremental-fsync  aof-use-rdb-preamble  save0_0  save0_1  \\\n",
       "0                            NaN                   NaN      868        4   \n",
       "1                            NaN                   NaN      867        6   \n",
       "2                            NaN                   NaN      911        6   \n",
       "\n",
       "   save1_0  ...  maxmemory-samples  lazyfree-lazy-eviction  \\\n",
       "0      320  ...                  5                     yes   \n",
       "1      258  ...                  4                     yes   \n",
       "2      319  ...                  5                     yes   \n",
       "\n",
       "   lazyfree-lazy-expire lazyfree-lazy-server-del hash-max-ziplist-entries  \\\n",
       "0                   yes                      yes                      506   \n",
       "1                    no                      yes                      552   \n",
       "2                    no                      yes                      552   \n",
       "\n",
       "  hash-max-ziplist-value activerehashing  hz  dynamic-hz  throughput  \n",
       "0                    144              no  20         yes    45305.88  \n",
       "1                    141              no  22         yes    44540.19  \n",
       "2                    185             yes  20          no    45261.71  \n",
       "\n",
       "[3 rows x 33 columns]"
      ]
     },
     "execution_count": 407,
     "metadata": {},
     "output_type": "execute_result"
    }
   ],
   "source": [
    "dataset.head(3)"
   ]
  },
  {
   "cell_type": "code",
   "execution_count": 408,
   "metadata": {},
   "outputs": [],
   "source": [
    "# 결측치 처리 \n",
    "dataset_nan = dataset.copy()\n",
    "dataset = dataset.fillna(value = 0)  # 전부 0으로 채움"
   ]
  },
  {
   "cell_type": "markdown",
   "metadata": {},
   "source": [
    "---"
   ]
  },
  {
   "cell_type": "markdown",
   "metadata": {},
   "source": [
    "### activedefrag 확인"
   ]
  },
  {
   "cell_type": "code",
   "execution_count": 411,
   "metadata": {
    "scrolled": true
   },
   "outputs": [
    {
     "data": {
      "text/html": [
       "<div>\n",
       "<style scoped>\n",
       "    .dataframe tbody tr th:only-of-type {\n",
       "        vertical-align: middle;\n",
       "    }\n",
       "\n",
       "    .dataframe tbody tr th {\n",
       "        vertical-align: top;\n",
       "    }\n",
       "\n",
       "    .dataframe thead th {\n",
       "        text-align: right;\n",
       "    }\n",
       "</style>\n",
       "<table border=\"1\" class=\"dataframe\">\n",
       "  <thead>\n",
       "    <tr style=\"text-align: right;\">\n",
       "      <th></th>\n",
       "      <th>activedefrag</th>\n",
       "      <th>throughput</th>\n",
       "    </tr>\n",
       "  </thead>\n",
       "  <tbody>\n",
       "    <tr>\n",
       "      <th>3</th>\n",
       "      <td>yes</td>\n",
       "      <td>45108.96</td>\n",
       "    </tr>\n",
       "    <tr>\n",
       "      <th>4</th>\n",
       "      <td>yes</td>\n",
       "      <td>45277.43</td>\n",
       "    </tr>\n",
       "    <tr>\n",
       "      <th>5</th>\n",
       "      <td>yes</td>\n",
       "      <td>45304.80</td>\n",
       "    </tr>\n",
       "    <tr>\n",
       "      <th>9</th>\n",
       "      <td>yes</td>\n",
       "      <td>44982.43</td>\n",
       "    </tr>\n",
       "    <tr>\n",
       "      <th>10</th>\n",
       "      <td>yes</td>\n",
       "      <td>45162.27</td>\n",
       "    </tr>\n",
       "    <tr>\n",
       "      <th>...</th>\n",
       "      <td>...</td>\n",
       "      <td>...</td>\n",
       "    </tr>\n",
       "    <tr>\n",
       "      <th>1691</th>\n",
       "      <td>yes</td>\n",
       "      <td>45092.26</td>\n",
       "    </tr>\n",
       "    <tr>\n",
       "      <th>1693</th>\n",
       "      <td>yes</td>\n",
       "      <td>44645.52</td>\n",
       "    </tr>\n",
       "    <tr>\n",
       "      <th>1695</th>\n",
       "      <td>yes</td>\n",
       "      <td>44861.25</td>\n",
       "    </tr>\n",
       "    <tr>\n",
       "      <th>1696</th>\n",
       "      <td>yes</td>\n",
       "      <td>45034.29</td>\n",
       "    </tr>\n",
       "    <tr>\n",
       "      <th>1699</th>\n",
       "      <td>yes</td>\n",
       "      <td>44799.15</td>\n",
       "    </tr>\n",
       "  </tbody>\n",
       "</table>\n",
       "<p>837 rows × 2 columns</p>\n",
       "</div>"
      ],
      "text/plain": [
       "     activedefrag  throughput\n",
       "3             yes    45108.96\n",
       "4             yes    45277.43\n",
       "5             yes    45304.80\n",
       "9             yes    44982.43\n",
       "10            yes    45162.27\n",
       "...           ...         ...\n",
       "1691          yes    45092.26\n",
       "1693          yes    44645.52\n",
       "1695          yes    44861.25\n",
       "1696          yes    45034.29\n",
       "1699          yes    44799.15\n",
       "\n",
       "[837 rows x 2 columns]"
      ]
     },
     "execution_count": 411,
     "metadata": {},
     "output_type": "execute_result"
    }
   ],
   "source": [
    "act_compare_list = ['activedefrag', 'throughput']\n",
    "dataset_nan = dataset_nan[act_compare_list]\n",
    "act_index = dataset_nan.dropna().index()\n"
   ]
  },
  {
   "cell_type": "code",
   "execution_count": 416,
   "metadata": {},
   "outputs": [],
   "source": [
    "# nan 가 아닌거\n",
    "dataset_nan_act = dataset_nan[dataset_nan['activedefrag'].notna()]\n",
    "\n",
    "# nan인거\n",
    "dataset_nan_act_nan = dataset_nan[dataset_nan['activedefrag'].isna()]"
   ]
  },
  {
   "cell_type": "code",
   "execution_count": 420,
   "metadata": {},
   "outputs": [
    {
     "data": {
      "image/png": "[encoded data removed]",
      "text/plain": [
       "<Figure size 432x288 with 1 Axes>"
      ]
     },
     "metadata": {
      "needs_background": "light"
     },
     "output_type": "display_data"
    },
    {
     "data": {
      "image/png": "[encoded data removed]",
      "text/plain": [
       "<Figure size 432x288 with 1 Axes>"
      ]
     },
     "metadata": {
      "needs_background": "light"
     },
     "output_type": "display_data"
    }
   ],
   "source": [
    "import seaborn as sns\n",
    "sns.histplot(dataset_nan_act['throughput'])\n",
    "plt.show()\n",
    "\n",
    "import seaborn as sns\n",
    "sns.histplot(dataset_nan_act_nan['throughput'])\n",
    "plt.show()"
   ]
  },
  {
   "cell_type": "code",
   "execution_count": 427,
   "metadata": {},
   "outputs": [
    {
     "name": "stderr",
     "output_type": "stream",
     "text": [
      "/Users/joseong-un/opt/anaconda3/lib/python3.8/site-packages/seaborn/_decorators.py:36: FutureWarning: Pass the following variable as a keyword arg: x. From version 0.12, the only valid positional argument will be `data`, and passing other arguments without an explicit keyword will result in an error or misinterpretation.\n",
      "  warnings.warn(\n"
     ]
    },
    {
     "data": {
      "image/png": "[encoded data removed]",
      "text/plain": [
       "<Figure size 432x288 with 1 Axes>"
      ]
     },
     "metadata": {
      "needs_background": "light"
     },
     "output_type": "display_data"
    },
    {
     "name": "stderr",
     "output_type": "stream",
     "text": [
      "/Users/joseong-un/opt/anaconda3/lib/python3.8/site-packages/seaborn/_decorators.py:36: FutureWarning: Pass the following variable as a keyword arg: x. From version 0.12, the only valid positional argument will be `data`, and passing other arguments without an explicit keyword will result in an error or misinterpretation.\n",
      "  warnings.warn(\n"
     ]
    },
    {
     "data": {
      "image/png": "[encoded data removed]",
      "text/plain": [
       "<Figure size 432x288 with 1 Axes>"
      ]
     },
     "metadata": {
      "needs_background": "light"
     },
     "output_type": "display_data"
    }
   ],
   "source": [
    "import seaborn as sns\n",
    "sns.boxplot(dataset_nan_act['throughput'])\n",
    "plt.show()\n",
    "\n",
    "import seaborn as sns\n",
    "sns.boxplot(dataset_nan_act_nan['throughput'])\n",
    "plt.show()"
   ]
  },
  {
   "cell_type": "code",
   "execution_count": 425,
   "metadata": {},
   "outputs": [
    {
     "name": "stdout",
     "output_type": "stream",
     "text": [
      "         throughput\n",
      "count    837.000000\n",
      "mean   44450.625293\n",
      "std     3062.921291\n",
      "min    26918.970000\n",
      "25%    42952.760000\n",
      "50%    44171.360000\n",
      "75%    45034.290000\n",
      "max    64115.000000\n",
      "         throughput\n",
      "count    863.000000\n",
      "mean   44321.185342\n",
      "std     2597.419050\n",
      "min    37426.380000\n",
      "25%    43016.310000\n",
      "50%    44205.720000\n",
      "75%    45026.530000\n",
      "max    63134.480000\n"
     ]
    }
   ],
   "source": [
    "print(dataset_nan_act.describe())\n",
    "print(dataset_nan_act_nan.describe())"
   ]
  },
  {
   "cell_type": "markdown",
   "metadata": {},
   "source": [
    "---"
   ]
  },
  {
   "cell_type": "code",
   "execution_count": 396,
   "metadata": {},
   "outputs": [],
   "source": [
    "# maxmemory knob 단위(mb) 처리\n",
    "dataset['maxmemory']  = dataset['maxmemory'].str.strip('mb')\n",
    "dataset['maxmemory'] = pd.to_numeric(dataset['maxmemory'])"
   ]
  },
  {
   "cell_type": "code",
   "execution_count": 397,
   "metadata": {},
   "outputs": [],
   "source": [
    "# Object 변수 categorical 로 변경 (LightGBM에 바로 넣기 위해)\n",
    "category_knob = []\n",
    "\n",
    "for knob in dataset:\n",
    "    if dataset[knob].dtype == 'O':  # Object인 경우 category 형으로 변경\n",
    "        dataset[knob] = dataset[knob].astype('category')\n",
    "        if knob in knobs_list:\n",
    "            category_knob.append(knob)"
   ]
  },
  {
   "cell_type": "code",
   "execution_count": 398,
   "metadata": {},
   "outputs": [],
   "source": [
    "# 설정한 knob들만 추출\n",
    "extract_knobs_list = knobs_list.copy()\n",
    "extract_knobs_list.append('throughput')  # target 값 추가\n",
    "\n",
    "dataset = dataset[extract_knobs_list]"
   ]
  },
  {
   "cell_type": "code",
   "execution_count": 399,
   "metadata": {
    "scrolled": true
   },
   "outputs": [
    {
     "data": {
      "text/html": [
       "<div>\n",
       "<style scoped>\n",
       "    .dataframe tbody tr th:only-of-type {\n",
       "        vertical-align: middle;\n",
       "    }\n",
       "\n",
       "    .dataframe tbody tr th {\n",
       "        vertical-align: top;\n",
       "    }\n",
       "\n",
       "    .dataframe thead th {\n",
       "        text-align: right;\n",
       "    }\n",
       "</style>\n",
       "<table border=\"1\" class=\"dataframe\">\n",
       "  <thead>\n",
       "    <tr style=\"text-align: right;\">\n",
       "      <th></th>\n",
       "      <th>hash-max-ziplist-entries</th>\n",
       "      <th>hash-max-ziplist-value</th>\n",
       "      <th>activerehashing</th>\n",
       "      <th>hz</th>\n",
       "      <th>dynamic-hz</th>\n",
       "      <th>save0_0</th>\n",
       "      <th>save0_1</th>\n",
       "      <th>save1_0</th>\n",
       "      <th>save1_1</th>\n",
       "      <th>save2_0</th>\n",
       "      <th>...</th>\n",
       "      <th>active-defrag-threshold-upper</th>\n",
       "      <th>active-defrag-cycle-min</th>\n",
       "      <th>active-defrag-cycle-max</th>\n",
       "      <th>maxmemory</th>\n",
       "      <th>maxmemory-policy</th>\n",
       "      <th>maxmemory-samples</th>\n",
       "      <th>lazyfree-lazy-eviction</th>\n",
       "      <th>lazyfree-lazy-expire</th>\n",
       "      <th>lazyfree-lazy-server-del</th>\n",
       "      <th>throughput</th>\n",
       "    </tr>\n",
       "  </thead>\n",
       "  <tbody>\n",
       "    <tr>\n",
       "      <th>0</th>\n",
       "      <td>506</td>\n",
       "      <td>144</td>\n",
       "      <td>no</td>\n",
       "      <td>20</td>\n",
       "      <td>yes</td>\n",
       "      <td>868</td>\n",
       "      <td>4</td>\n",
       "      <td>320</td>\n",
       "      <td>58</td>\n",
       "      <td>58</td>\n",
       "      <td>...</td>\n",
       "      <td>0.0</td>\n",
       "      <td>0.0</td>\n",
       "      <td>0.0</td>\n",
       "      <td>1500</td>\n",
       "      <td>volatile-random</td>\n",
       "      <td>5</td>\n",
       "      <td>yes</td>\n",
       "      <td>yes</td>\n",
       "      <td>yes</td>\n",
       "      <td>45305.88</td>\n",
       "    </tr>\n",
       "    <tr>\n",
       "      <th>1</th>\n",
       "      <td>552</td>\n",
       "      <td>141</td>\n",
       "      <td>no</td>\n",
       "      <td>22</td>\n",
       "      <td>yes</td>\n",
       "      <td>867</td>\n",
       "      <td>6</td>\n",
       "      <td>258</td>\n",
       "      <td>52</td>\n",
       "      <td>67</td>\n",
       "      <td>...</td>\n",
       "      <td>0.0</td>\n",
       "      <td>0.0</td>\n",
       "      <td>0.0</td>\n",
       "      <td>1500</td>\n",
       "      <td>allkeys-lfu</td>\n",
       "      <td>4</td>\n",
       "      <td>yes</td>\n",
       "      <td>no</td>\n",
       "      <td>yes</td>\n",
       "      <td>44540.19</td>\n",
       "    </tr>\n",
       "    <tr>\n",
       "      <th>2</th>\n",
       "      <td>552</td>\n",
       "      <td>185</td>\n",
       "      <td>yes</td>\n",
       "      <td>20</td>\n",
       "      <td>no</td>\n",
       "      <td>911</td>\n",
       "      <td>6</td>\n",
       "      <td>319</td>\n",
       "      <td>54</td>\n",
       "      <td>65</td>\n",
       "      <td>...</td>\n",
       "      <td>0.0</td>\n",
       "      <td>0.0</td>\n",
       "      <td>0.0</td>\n",
       "      <td>2900</td>\n",
       "      <td>noeviction</td>\n",
       "      <td>5</td>\n",
       "      <td>yes</td>\n",
       "      <td>no</td>\n",
       "      <td>yes</td>\n",
       "      <td>45261.71</td>\n",
       "    </tr>\n",
       "  </tbody>\n",
       "</table>\n",
       "<p>3 rows × 25 columns</p>\n",
       "</div>"
      ],
      "text/plain": [
       "   hash-max-ziplist-entries  hash-max-ziplist-value activerehashing  hz  \\\n",
       "0                       506                     144              no  20   \n",
       "1                       552                     141              no  22   \n",
       "2                       552                     185             yes  20   \n",
       "\n",
       "  dynamic-hz  save0_0  save0_1  save1_0  save1_1  save2_0  ...  \\\n",
       "0        yes      868        4      320       58       58  ...   \n",
       "1        yes      867        6      258       52       67  ...   \n",
       "2         no      911        6      319       54       65  ...   \n",
       "\n",
       "   active-defrag-threshold-upper active-defrag-cycle-min  \\\n",
       "0                            0.0                     0.0   \n",
       "1                            0.0                     0.0   \n",
       "2                            0.0                     0.0   \n",
       "\n",
       "  active-defrag-cycle-max maxmemory  maxmemory-policy  maxmemory-samples  \\\n",
       "0                     0.0      1500   volatile-random                  5   \n",
       "1                     0.0      1500       allkeys-lfu                  4   \n",
       "2                     0.0      2900        noeviction                  5   \n",
       "\n",
       "   lazyfree-lazy-eviction  lazyfree-lazy-expire  lazyfree-lazy-server-del  \\\n",
       "0                     yes                   yes                       yes   \n",
       "1                     yes                    no                       yes   \n",
       "2                     yes                    no                       yes   \n",
       "\n",
       "  throughput  \n",
       "0   45305.88  \n",
       "1   44540.19  \n",
       "2   45261.71  \n",
       "\n",
       "[3 rows x 25 columns]"
      ]
     },
     "execution_count": 399,
     "metadata": {},
     "output_type": "execute_result"
    }
   ],
   "source": [
    "dataset.head(3)"
   ]
  },
  {
   "cell_type": "code",
   "execution_count": 358,
   "metadata": {
    "scrolled": true
   },
   "outputs": [
    {
     "name": "stdout",
     "output_type": "stream",
     "text": [
      "<class 'pandas.core.frame.DataFrame'>\n",
      "RangeIndex: 1700 entries, 0 to 1699\n",
      "Data columns (total 33 columns):\n",
      " #   Column                         Non-Null Count  Dtype  \n",
      "---  ------                         --------------  -----  \n",
      " 0   appendonly                     0 non-null      float64\n",
      " 1   appendfsync                    0 non-null      float64\n",
      " 2   auto-aof-rewrite-percentage    0 non-null      float64\n",
      " 3   auto-aof-rewrite-min-size      0 non-null      float64\n",
      " 4   no-appendfsync-on-rewrite      0 non-null      float64\n",
      " 5   aof-rewrite-incremental-fsync  0 non-null      float64\n",
      " 6   aof-use-rdb-preamble           0 non-null      float64\n",
      " 7   save0_0                        1700 non-null   int64  \n",
      " 8   save0_1                        1700 non-null   int64  \n",
      " 9   save1_0                        1700 non-null   int64  \n",
      " 10  save1_1                        1700 non-null   int64  \n",
      " 11  save2_0                        1700 non-null   int64  \n",
      " 12  save2_1                        1700 non-null   int64  \n",
      " 13  rdbcompression                 1700 non-null   object \n",
      " 14  rdbchecksum                    1700 non-null   object \n",
      " 15  rdb-save-incremental-fsync     1700 non-null   object \n",
      " 16  activedefrag                   837 non-null    object \n",
      " 17  active-defrag-threshold-lower  837 non-null    float64\n",
      " 18  active-defrag-threshold-upper  837 non-null    float64\n",
      " 19  active-defrag-cycle-min        837 non-null    float64\n",
      " 20  active-defrag-cycle-max        837 non-null    float64\n",
      " 21  maxmemory                      1700 non-null   object \n",
      " 22  maxmemory-policy               1700 non-null   object \n",
      " 23  maxmemory-samples              1700 non-null   int64  \n",
      " 24  lazyfree-lazy-eviction         1700 non-null   object \n",
      " 25  lazyfree-lazy-expire           1700 non-null   object \n",
      " 26  lazyfree-lazy-server-del       1700 non-null   object \n",
      " 27  hash-max-ziplist-entries       1700 non-null   int64  \n",
      " 28  hash-max-ziplist-value         1700 non-null   int64  \n",
      " 29  activerehashing                1700 non-null   object \n",
      " 30  hz                             1700 non-null   int64  \n",
      " 31  dynamic-hz                     1700 non-null   object \n",
      " 32  throughput                     1700 non-null   float64\n",
      "dtypes: float64(12), int64(10), object(11)\n",
      "memory usage: 438.4+ KB\n",
      "None\n",
      "<class 'pandas.core.frame.DataFrame'>\n",
      "RangeIndex: 1700 entries, 0 to 1699\n",
      "Data columns (total 25 columns):\n",
      " #   Column                         Non-Null Count  Dtype   \n",
      "---  ------                         --------------  -----   \n",
      " 0   hash-max-ziplist-entries       1700 non-null   int64   \n",
      " 1   hash-max-ziplist-value         1700 non-null   int64   \n",
      " 2   activerehashing                1700 non-null   category\n",
      " 3   hz                             1700 non-null   int64   \n",
      " 4   dynamic-hz                     1700 non-null   category\n",
      " 5   save0_0                        1700 non-null   int64   \n",
      " 6   save0_1                        1700 non-null   int64   \n",
      " 7   save1_0                        1700 non-null   int64   \n",
      " 8   save1_1                        1700 non-null   int64   \n",
      " 9   save2_0                        1700 non-null   int64   \n",
      " 10  save2_1                        1700 non-null   int64   \n",
      " 11  rdbcompression                 1700 non-null   category\n",
      " 12  rdbchecksum                    1700 non-null   category\n",
      " 13  rdb-save-incremental-fsync     1700 non-null   category\n",
      " 14  active-defrag-threshold-lower  1700 non-null   float64 \n",
      " 15  active-defrag-threshold-upper  1700 non-null   float64 \n",
      " 16  active-defrag-cycle-min        1700 non-null   float64 \n",
      " 17  active-defrag-cycle-max        1700 non-null   float64 \n",
      " 18  maxmemory                      1700 non-null   int64   \n",
      " 19  maxmemory-policy               1700 non-null   category\n",
      " 20  maxmemory-samples              1700 non-null   int64   \n",
      " 21  lazyfree-lazy-eviction         1700 non-null   category\n",
      " 22  lazyfree-lazy-expire           1700 non-null   category\n",
      " 23  lazyfree-lazy-server-del       1700 non-null   category\n",
      " 24  throughput                     1700 non-null   float64 \n",
      "dtypes: category(9), float64(5), int64(11)\n",
      "memory usage: 228.9 KB\n",
      "None\n"
     ]
    }
   ],
   "source": [
    "# 결측치 처리전 확인\n",
    "print(dataset_nan.info())\n",
    "\n",
    "# 결측치 처리후 확인\n",
    "print(dataset.info())"
   ]
  },
  {
   "cell_type": "markdown",
   "metadata": {},
   "source": [
    "### 이상치 처리"
   ]
  },
  {
   "cell_type": "code",
   "execution_count": 359,
   "metadata": {},
   "outputs": [
    {
     "data": {
      "text/html": [
       "<div>\n",
       "<style scoped>\n",
       "    .dataframe tbody tr th:only-of-type {\n",
       "        vertical-align: middle;\n",
       "    }\n",
       "\n",
       "    .dataframe tbody tr th {\n",
       "        vertical-align: top;\n",
       "    }\n",
       "\n",
       "    .dataframe thead th {\n",
       "        text-align: right;\n",
       "    }\n",
       "</style>\n",
       "<table border=\"1\" class=\"dataframe\">\n",
       "  <thead>\n",
       "    <tr style=\"text-align: right;\">\n",
       "      <th></th>\n",
       "      <th>hash-max-ziplist-entries</th>\n",
       "      <th>hash-max-ziplist-value</th>\n",
       "      <th>hz</th>\n",
       "      <th>save0_0</th>\n",
       "      <th>save0_1</th>\n",
       "      <th>save1_0</th>\n",
       "      <th>save1_1</th>\n",
       "      <th>save2_0</th>\n",
       "      <th>save2_1</th>\n",
       "      <th>active-defrag-threshold-lower</th>\n",
       "      <th>active-defrag-threshold-upper</th>\n",
       "      <th>active-defrag-cycle-min</th>\n",
       "      <th>active-defrag-cycle-max</th>\n",
       "      <th>maxmemory</th>\n",
       "      <th>maxmemory-samples</th>\n",
       "      <th>throughput</th>\n",
       "    </tr>\n",
       "  </thead>\n",
       "  <tbody>\n",
       "    <tr>\n",
       "      <th>count</th>\n",
       "      <td>1700.000000</td>\n",
       "      <td>1700.000000</td>\n",
       "      <td>1700.000000</td>\n",
       "      <td>1700.000000</td>\n",
       "      <td>1700.000000</td>\n",
       "      <td>1700.000000</td>\n",
       "      <td>1700.000000</td>\n",
       "      <td>1700.000000</td>\n",
       "      <td>1700.000000</td>\n",
       "      <td>1700.000000</td>\n",
       "      <td>1700.000000</td>\n",
       "      <td>1700.000000</td>\n",
       "      <td>1700.000000</td>\n",
       "      <td>1700.000000</td>\n",
       "      <td>1700.000000</td>\n",
       "      <td>1700.000000</td>\n",
       "    </tr>\n",
       "    <tr>\n",
       "      <th>mean</th>\n",
       "      <td>503.073529</td>\n",
       "      <td>136.014118</td>\n",
       "      <td>20.331765</td>\n",
       "      <td>899.707647</td>\n",
       "      <td>5.018824</td>\n",
       "      <td>301.504118</td>\n",
       "      <td>54.734706</td>\n",
       "      <td>60.100588</td>\n",
       "      <td>10003.781176</td>\n",
       "      <td>7.648235</td>\n",
       "      <td>41.854118</td>\n",
       "      <td>7.588824</td>\n",
       "      <td>39.392353</td>\n",
       "      <td>1938.529412</td>\n",
       "      <td>4.999412</td>\n",
       "      <td>44384.915482</td>\n",
       "    </tr>\n",
       "    <tr>\n",
       "      <th>std</th>\n",
       "      <td>40.678152</td>\n",
       "      <td>20.991291</td>\n",
       "      <td>3.175918</td>\n",
       "      <td>33.353880</td>\n",
       "      <td>0.747528</td>\n",
       "      <td>33.671656</td>\n",
       "      <td>7.505045</td>\n",
       "      <td>5.084096</td>\n",
       "      <td>337.575574</td>\n",
       "      <td>7.950170</td>\n",
       "      <td>42.548603</td>\n",
       "      <td>7.905846</td>\n",
       "      <td>40.028266</td>\n",
       "      <td>571.372337</td>\n",
       "      <td>0.362289</td>\n",
       "      <td>2836.074574</td>\n",
       "    </tr>\n",
       "    <tr>\n",
       "      <th>min</th>\n",
       "      <td>365.000000</td>\n",
       "      <td>68.000000</td>\n",
       "      <td>9.000000</td>\n",
       "      <td>792.000000</td>\n",
       "      <td>2.000000</td>\n",
       "      <td>200.000000</td>\n",
       "      <td>30.000000</td>\n",
       "      <td>44.000000</td>\n",
       "      <td>8680.000000</td>\n",
       "      <td>0.000000</td>\n",
       "      <td>0.000000</td>\n",
       "      <td>0.000000</td>\n",
       "      <td>0.000000</td>\n",
       "      <td>1000.000000</td>\n",
       "      <td>4.000000</td>\n",
       "      <td>26918.970000</td>\n",
       "    </tr>\n",
       "    <tr>\n",
       "      <th>25%</th>\n",
       "      <td>476.000000</td>\n",
       "      <td>122.000000</td>\n",
       "      <td>18.000000</td>\n",
       "      <td>877.000000</td>\n",
       "      <td>5.000000</td>\n",
       "      <td>278.000000</td>\n",
       "      <td>50.000000</td>\n",
       "      <td>57.000000</td>\n",
       "      <td>9781.500000</td>\n",
       "      <td>0.000000</td>\n",
       "      <td>0.000000</td>\n",
       "      <td>0.000000</td>\n",
       "      <td>0.000000</td>\n",
       "      <td>1500.000000</td>\n",
       "      <td>5.000000</td>\n",
       "      <td>42970.870000</td>\n",
       "    </tr>\n",
       "    <tr>\n",
       "      <th>50%</th>\n",
       "      <td>503.000000</td>\n",
       "      <td>135.000000</td>\n",
       "      <td>20.000000</td>\n",
       "      <td>899.000000</td>\n",
       "      <td>5.000000</td>\n",
       "      <td>302.000000</td>\n",
       "      <td>55.000000</td>\n",
       "      <td>60.000000</td>\n",
       "      <td>9999.500000</td>\n",
       "      <td>0.000000</td>\n",
       "      <td>0.000000</td>\n",
       "      <td>0.000000</td>\n",
       "      <td>0.000000</td>\n",
       "      <td>1900.000000</td>\n",
       "      <td>5.000000</td>\n",
       "      <td>44181.360000</td>\n",
       "    </tr>\n",
       "    <tr>\n",
       "      <th>75%</th>\n",
       "      <td>531.000000</td>\n",
       "      <td>150.000000</td>\n",
       "      <td>22.000000</td>\n",
       "      <td>922.000000</td>\n",
       "      <td>5.000000</td>\n",
       "      <td>325.000000</td>\n",
       "      <td>60.000000</td>\n",
       "      <td>63.000000</td>\n",
       "      <td>10229.000000</td>\n",
       "      <td>15.000000</td>\n",
       "      <td>85.000000</td>\n",
       "      <td>15.000000</td>\n",
       "      <td>80.000000</td>\n",
       "      <td>2400.000000</td>\n",
       "      <td>5.000000</td>\n",
       "      <td>45033.152500</td>\n",
       "    </tr>\n",
       "    <tr>\n",
       "      <th>max</th>\n",
       "      <td>635.000000</td>\n",
       "      <td>204.000000</td>\n",
       "      <td>33.000000</td>\n",
       "      <td>1016.000000</td>\n",
       "      <td>7.000000</td>\n",
       "      <td>413.000000</td>\n",
       "      <td>78.000000</td>\n",
       "      <td>75.000000</td>\n",
       "      <td>11169.000000</td>\n",
       "      <td>23.000000</td>\n",
       "      <td>93.000000</td>\n",
       "      <td>23.000000</td>\n",
       "      <td>85.000000</td>\n",
       "      <td>2900.000000</td>\n",
       "      <td>6.000000</td>\n",
       "      <td>64115.000000</td>\n",
       "    </tr>\n",
       "  </tbody>\n",
       "</table>\n",
       "</div>"
      ],
      "text/plain": [
       "       hash-max-ziplist-entries  hash-max-ziplist-value           hz  \\\n",
       "count               1700.000000             1700.000000  1700.000000   \n",
       "mean                 503.073529              136.014118    20.331765   \n",
       "std                   40.678152               20.991291     3.175918   \n",
       "min                  365.000000               68.000000     9.000000   \n",
       "25%                  476.000000              122.000000    18.000000   \n",
       "50%                  503.000000              135.000000    20.000000   \n",
       "75%                  531.000000              150.000000    22.000000   \n",
       "max                  635.000000              204.000000    33.000000   \n",
       "\n",
       "           save0_0      save0_1      save1_0      save1_1      save2_0  \\\n",
       "count  1700.000000  1700.000000  1700.000000  1700.000000  1700.000000   \n",
       "mean    899.707647     5.018824   301.504118    54.734706    60.100588   \n",
       "std      33.353880     0.747528    33.671656     7.505045     5.084096   \n",
       "min     792.000000     2.000000   200.000000    30.000000    44.000000   \n",
       "25%     877.000000     5.000000   278.000000    50.000000    57.000000   \n",
       "50%     899.000000     5.000000   302.000000    55.000000    60.000000   \n",
       "75%     922.000000     5.000000   325.000000    60.000000    63.000000   \n",
       "max    1016.000000     7.000000   413.000000    78.000000    75.000000   \n",
       "\n",
       "            save2_1  active-defrag-threshold-lower  \\\n",
       "count   1700.000000                    1700.000000   \n",
       "mean   10003.781176                       7.648235   \n",
       "std      337.575574                       7.950170   \n",
       "min     8680.000000                       0.000000   \n",
       "25%     9781.500000                       0.000000   \n",
       "50%     9999.500000                       0.000000   \n",
       "75%    10229.000000                      15.000000   \n",
       "max    11169.000000                      23.000000   \n",
       "\n",
       "       active-defrag-threshold-upper  active-defrag-cycle-min  \\\n",
       "count                    1700.000000              1700.000000   \n",
       "mean                       41.854118                 7.588824   \n",
       "std                        42.548603                 7.905846   \n",
       "min                         0.000000                 0.000000   \n",
       "25%                         0.000000                 0.000000   \n",
       "50%                         0.000000                 0.000000   \n",
       "75%                        85.000000                15.000000   \n",
       "max                        93.000000                23.000000   \n",
       "\n",
       "       active-defrag-cycle-max    maxmemory  maxmemory-samples    throughput  \n",
       "count              1700.000000  1700.000000        1700.000000   1700.000000  \n",
       "mean                 39.392353  1938.529412           4.999412  44384.915482  \n",
       "std                  40.028266   571.372337           0.362289   2836.074574  \n",
       "min                   0.000000  1000.000000           4.000000  26918.970000  \n",
       "25%                   0.000000  1500.000000           5.000000  42970.870000  \n",
       "50%                   0.000000  1900.000000           5.000000  44181.360000  \n",
       "75%                  80.000000  2400.000000           5.000000  45033.152500  \n",
       "max                  85.000000  2900.000000           6.000000  64115.000000  "
      ]
     },
     "execution_count": 359,
     "metadata": {},
     "output_type": "execute_result"
    }
   ],
   "source": [
    "# -999999와 같은 이상치 확인 -> 없음\n",
    "dataset.describe()"
   ]
  },
  {
   "cell_type": "code",
   "execution_count": 360,
   "metadata": {},
   "outputs": [
    {
     "data": {
      "text/plain": [
       "<AxesSubplot:>"
      ]
     },
     "execution_count": 360,
     "metadata": {},
     "output_type": "execute_result"
    },
    {
     "data": {
      "image/png": "[encoded data removed]",
      "text/plain": [
       "<Figure size 432x288 with 1 Axes>"
      ]
     },
     "metadata": {
      "needs_background": "light"
     },
     "output_type": "display_data"
    }
   ],
   "source": [
    "# 이상치 파악 \n",
    "dataset['throughput'].hist()"
   ]
  },
  {
   "cell_type": "code",
   "execution_count": 361,
   "metadata": {},
   "outputs": [
    {
     "name": "stdout",
     "output_type": "stream",
     "text": [
      "0       45305.88\n",
      "1       44540.19\n",
      "2       45261.71\n",
      "3       45108.96\n",
      "4       45277.43\n",
      "          ...   \n",
      "1695    44861.25\n",
      "1696    45034.29\n",
      "1697    45003.06\n",
      "1698    44653.27\n",
      "1699    44799.15\n",
      "Name: throughput, Length: 1655, dtype: float64\n",
      "개수:  1655\n"
     ]
    }
   ],
   "source": [
    "# 인덱스제거하고 돌려보자\n",
    "print(dataset['throughput'][dataset['throughput'] <= 52500])\n",
    "outlier_index = dataset['throughput'][dataset['throughput'] <= 52500].index\n",
    "print('개수: ', len(outlier_index))"
   ]
  },
  {
   "cell_type": "code",
   "execution_count": 362,
   "metadata": {},
   "outputs": [
    {
     "data": {
      "image/png": "[encoded data removed]",
      "text/plain": [
       "<Figure size 432x288 with 1 Axes>"
      ]
     },
     "metadata": {
      "needs_background": "light"
     },
     "output_type": "display_data"
    }
   ],
   "source": [
    "# 이상치 제거 전 상자그림\n",
    "# 이상치로 분류되진 않지만 제거한다. \n",
    "import seaborn as sns\n",
    "sns.boxplot(x = \"throughput\",data = dataset )\n",
    "plt.show()"
   ]
  },
  {
   "cell_type": "code",
   "execution_count": 363,
   "metadata": {},
   "outputs": [],
   "source": [
    "# # 이상치 제거\n",
    "# dataset = dataset.drop(outlier_index)"
   ]
  },
  {
   "cell_type": "code",
   "execution_count": 364,
   "metadata": {},
   "outputs": [
    {
     "data": {
      "text/plain": [
       "(1700, 25)"
      ]
     },
     "execution_count": 364,
     "metadata": {},
     "output_type": "execute_result"
    }
   ],
   "source": [
    "# 이상치 제거 확인\n",
    "dataset.shape"
   ]
  },
  {
   "cell_type": "code",
   "execution_count": 365,
   "metadata": {},
   "outputs": [
    {
     "data": {
      "text/plain": [
       "hash-max-ziplist-entries            int64\n",
       "hash-max-ziplist-value              int64\n",
       "activerehashing                  category\n",
       "hz                                  int64\n",
       "dynamic-hz                       category\n",
       "save0_0                             int64\n",
       "save0_1                             int64\n",
       "save1_0                             int64\n",
       "save1_1                             int64\n",
       "save2_0                             int64\n",
       "save2_1                             int64\n",
       "rdbcompression                   category\n",
       "rdbchecksum                      category\n",
       "rdb-save-incremental-fsync       category\n",
       "active-defrag-threshold-lower     float64\n",
       "active-defrag-threshold-upper     float64\n",
       "active-defrag-cycle-min           float64\n",
       "active-defrag-cycle-max           float64\n",
       "maxmemory                           int64\n",
       "maxmemory-policy                 category\n",
       "maxmemory-samples                   int64\n",
       "lazyfree-lazy-eviction           category\n",
       "lazyfree-lazy-expire             category\n",
       "lazyfree-lazy-server-del         category\n",
       "throughput                        float64\n",
       "dtype: object"
      ]
     },
     "execution_count": 365,
     "metadata": {},
     "output_type": "execute_result"
    }
   ],
   "source": [
    "# 타입 확인 (카테고리)\n",
    "dataset.dtypes"
   ]
  },
  {
   "cell_type": "markdown",
   "metadata": {},
   "source": [
    "### test, train 데이터 분리"
   ]
  },
  {
   "cell_type": "code",
   "execution_count": 366,
   "metadata": {},
   "outputs": [],
   "source": [
    "# train 8, test 2\n",
    "X_train_val, X_test, y_train_val, y_test = train_test_split(dataset.iloc[:,:-1]\n",
    "                                                    , dataset['throughput'] \n",
    "                                                    ,test_size=0.2\n",
    "                                                   , random_state = 156)\n",
    "\n",
    "# train 6 test 2\n",
    "X_train, X_val, y_train, y_val = train_test_split(X_train_val\n",
    "                                                    , y_train_val \n",
    "                                                    ,test_size=0.25\n",
    "                                                   , random_state = 156)\n"
   ]
  },
  {
   "cell_type": "code",
   "execution_count": 367,
   "metadata": {},
   "outputs": [
    {
     "data": {
      "text/html": [
       "<div>\n",
       "<style scoped>\n",
       "    .dataframe tbody tr th:only-of-type {\n",
       "        vertical-align: middle;\n",
       "    }\n",
       "\n",
       "    .dataframe tbody tr th {\n",
       "        vertical-align: top;\n",
       "    }\n",
       "\n",
       "    .dataframe thead th {\n",
       "        text-align: right;\n",
       "    }\n",
       "</style>\n",
       "<table border=\"1\" class=\"dataframe\">\n",
       "  <thead>\n",
       "    <tr style=\"text-align: right;\">\n",
       "      <th></th>\n",
       "      <th>hash-max-ziplist-entries</th>\n",
       "      <th>hash-max-ziplist-value</th>\n",
       "      <th>activerehashing</th>\n",
       "      <th>hz</th>\n",
       "      <th>dynamic-hz</th>\n",
       "      <th>save0_0</th>\n",
       "      <th>save0_1</th>\n",
       "      <th>save1_0</th>\n",
       "      <th>save1_1</th>\n",
       "      <th>save2_0</th>\n",
       "      <th>...</th>\n",
       "      <th>active-defrag-threshold-lower</th>\n",
       "      <th>active-defrag-threshold-upper</th>\n",
       "      <th>active-defrag-cycle-min</th>\n",
       "      <th>active-defrag-cycle-max</th>\n",
       "      <th>maxmemory</th>\n",
       "      <th>maxmemory-policy</th>\n",
       "      <th>maxmemory-samples</th>\n",
       "      <th>lazyfree-lazy-eviction</th>\n",
       "      <th>lazyfree-lazy-expire</th>\n",
       "      <th>lazyfree-lazy-server-del</th>\n",
       "    </tr>\n",
       "  </thead>\n",
       "  <tbody>\n",
       "    <tr>\n",
       "      <th>1645</th>\n",
       "      <td>496</td>\n",
       "      <td>127</td>\n",
       "      <td>no</td>\n",
       "      <td>19</td>\n",
       "      <td>yes</td>\n",
       "      <td>884</td>\n",
       "      <td>6</td>\n",
       "      <td>349</td>\n",
       "      <td>75</td>\n",
       "      <td>64</td>\n",
       "      <td>...</td>\n",
       "      <td>0.0</td>\n",
       "      <td>0.0</td>\n",
       "      <td>0.0</td>\n",
       "      <td>0.0</td>\n",
       "      <td>1800</td>\n",
       "      <td>volatile-random</td>\n",
       "      <td>5</td>\n",
       "      <td>yes</td>\n",
       "      <td>no</td>\n",
       "      <td>no</td>\n",
       "    </tr>\n",
       "    <tr>\n",
       "      <th>522</th>\n",
       "      <td>490</td>\n",
       "      <td>148</td>\n",
       "      <td>no</td>\n",
       "      <td>20</td>\n",
       "      <td>no</td>\n",
       "      <td>848</td>\n",
       "      <td>4</td>\n",
       "      <td>346</td>\n",
       "      <td>63</td>\n",
       "      <td>57</td>\n",
       "      <td>...</td>\n",
       "      <td>15.0</td>\n",
       "      <td>85.0</td>\n",
       "      <td>13.0</td>\n",
       "      <td>82.0</td>\n",
       "      <td>2900</td>\n",
       "      <td>volatile-ttl</td>\n",
       "      <td>4</td>\n",
       "      <td>yes</td>\n",
       "      <td>yes</td>\n",
       "      <td>no</td>\n",
       "    </tr>\n",
       "    <tr>\n",
       "      <th>445</th>\n",
       "      <td>568</td>\n",
       "      <td>147</td>\n",
       "      <td>yes</td>\n",
       "      <td>20</td>\n",
       "      <td>yes</td>\n",
       "      <td>894</td>\n",
       "      <td>6</td>\n",
       "      <td>254</td>\n",
       "      <td>59</td>\n",
       "      <td>62</td>\n",
       "      <td>...</td>\n",
       "      <td>11.0</td>\n",
       "      <td>86.0</td>\n",
       "      <td>14.0</td>\n",
       "      <td>80.0</td>\n",
       "      <td>1300</td>\n",
       "      <td>allkeys-lru</td>\n",
       "      <td>5</td>\n",
       "      <td>no</td>\n",
       "      <td>yes</td>\n",
       "      <td>no</td>\n",
       "    </tr>\n",
       "    <tr>\n",
       "      <th>220</th>\n",
       "      <td>580</td>\n",
       "      <td>128</td>\n",
       "      <td>yes</td>\n",
       "      <td>23</td>\n",
       "      <td>no</td>\n",
       "      <td>906</td>\n",
       "      <td>4</td>\n",
       "      <td>326</td>\n",
       "      <td>48</td>\n",
       "      <td>67</td>\n",
       "      <td>...</td>\n",
       "      <td>0.0</td>\n",
       "      <td>0.0</td>\n",
       "      <td>0.0</td>\n",
       "      <td>0.0</td>\n",
       "      <td>1900</td>\n",
       "      <td>volatile-lru</td>\n",
       "      <td>5</td>\n",
       "      <td>yes</td>\n",
       "      <td>yes</td>\n",
       "      <td>no</td>\n",
       "    </tr>\n",
       "    <tr>\n",
       "      <th>1611</th>\n",
       "      <td>480</td>\n",
       "      <td>136</td>\n",
       "      <td>no</td>\n",
       "      <td>18</td>\n",
       "      <td>yes</td>\n",
       "      <td>883</td>\n",
       "      <td>4</td>\n",
       "      <td>243</td>\n",
       "      <td>71</td>\n",
       "      <td>60</td>\n",
       "      <td>...</td>\n",
       "      <td>0.0</td>\n",
       "      <td>0.0</td>\n",
       "      <td>0.0</td>\n",
       "      <td>0.0</td>\n",
       "      <td>1500</td>\n",
       "      <td>volatile-ttl</td>\n",
       "      <td>5</td>\n",
       "      <td>no</td>\n",
       "      <td>no</td>\n",
       "      <td>yes</td>\n",
       "    </tr>\n",
       "  </tbody>\n",
       "</table>\n",
       "<p>5 rows × 24 columns</p>\n",
       "</div>"
      ],
      "text/plain": [
       "      hash-max-ziplist-entries  hash-max-ziplist-value activerehashing  hz  \\\n",
       "1645                       496                     127              no  19   \n",
       "522                        490                     148              no  20   \n",
       "445                        568                     147             yes  20   \n",
       "220                        580                     128             yes  23   \n",
       "1611                       480                     136              no  18   \n",
       "\n",
       "     dynamic-hz  save0_0  save0_1  save1_0  save1_1  save2_0  ...  \\\n",
       "1645        yes      884        6      349       75       64  ...   \n",
       "522          no      848        4      346       63       57  ...   \n",
       "445         yes      894        6      254       59       62  ...   \n",
       "220          no      906        4      326       48       67  ...   \n",
       "1611        yes      883        4      243       71       60  ...   \n",
       "\n",
       "      active-defrag-threshold-lower active-defrag-threshold-upper  \\\n",
       "1645                            0.0                           0.0   \n",
       "522                            15.0                          85.0   \n",
       "445                            11.0                          86.0   \n",
       "220                             0.0                           0.0   \n",
       "1611                            0.0                           0.0   \n",
       "\n",
       "     active-defrag-cycle-min active-defrag-cycle-max  maxmemory  \\\n",
       "1645                     0.0                     0.0       1800   \n",
       "522                     13.0                    82.0       2900   \n",
       "445                     14.0                    80.0       1300   \n",
       "220                      0.0                     0.0       1900   \n",
       "1611                     0.0                     0.0       1500   \n",
       "\n",
       "      maxmemory-policy  maxmemory-samples  lazyfree-lazy-eviction  \\\n",
       "1645   volatile-random                  5                     yes   \n",
       "522       volatile-ttl                  4                     yes   \n",
       "445        allkeys-lru                  5                      no   \n",
       "220       volatile-lru                  5                     yes   \n",
       "1611      volatile-ttl                  5                      no   \n",
       "\n",
       "      lazyfree-lazy-expire lazyfree-lazy-server-del  \n",
       "1645                    no                       no  \n",
       "522                    yes                       no  \n",
       "445                    yes                       no  \n",
       "220                    yes                       no  \n",
       "1611                    no                      yes  \n",
       "\n",
       "[5 rows x 24 columns]"
      ]
     },
     "execution_count": 367,
     "metadata": {},
     "output_type": "execute_result"
    }
   ],
   "source": [
    "# X_train 확인\n",
    "X_train.head()"
   ]
  },
  {
   "cell_type": "code",
   "execution_count": 368,
   "metadata": {},
   "outputs": [],
   "source": [
    "# # test, train 에 비슷하게 분류됬는지 확인\n",
    "# y_train.hist()\n",
    "# plt.title('train data')\n",
    "# plt.show()\n",
    "\n",
    "# y_test.hist()\n",
    "# plt.title('test data')\n",
    "# plt.show()"
   ]
  },
  {
   "cell_type": "markdown",
   "metadata": {},
   "source": [
    "## LightGBM 모델 생성"
   ]
  },
  {
   "cell_type": "code",
   "execution_count": 370,
   "metadata": {},
   "outputs": [
    {
     "name": "stdout",
     "output_type": "stream",
     "text": [
      "[1]\tvalid_0's auc: 1\tvalid_0's l2: 7.24503e+06\n",
      "Training until validation scores don't improve for 100 rounds\n",
      "[2]\tvalid_0's auc: 1\tvalid_0's l2: 7.21582e+06\n",
      "[3]\tvalid_0's auc: 1\tvalid_0's l2: 7.19e+06\n",
      "[4]\tvalid_0's auc: 1\tvalid_0's l2: 7.16154e+06\n",
      "[5]\tvalid_0's auc: 1\tvalid_0's l2: 7.16496e+06\n",
      "[6]\tvalid_0's auc: 1\tvalid_0's l2: 7.18558e+06\n",
      "[7]\tvalid_0's auc: 1\tvalid_0's l2: 7.21274e+06\n",
      "[8]\tvalid_0's auc: 1\tvalid_0's l2: 7.20442e+06\n",
      "[9]\tvalid_0's auc: 1\tvalid_0's l2: 7.23668e+06\n",
      "[10]\tvalid_0's auc: 1\tvalid_0's l2: 7.27831e+06\n",
      "[11]\tvalid_0's auc: 1\tvalid_0's l2: 7.29073e+06\n",
      "[12]\tvalid_0's auc: 1\tvalid_0's l2: 7.28766e+06\n",
      "[13]\tvalid_0's auc: 1\tvalid_0's l2: 7.33869e+06\n",
      "[14]\tvalid_0's auc: 1\tvalid_0's l2: 7.35963e+06\n",
      "[15]\tvalid_0's auc: 1\tvalid_0's l2: 7.40025e+06\n",
      "[16]\tvalid_0's auc: 1\tvalid_0's l2: 7.38563e+06\n",
      "[17]\tvalid_0's auc: 1\tvalid_0's l2: 7.44351e+06\n",
      "[18]\tvalid_0's auc: 1\tvalid_0's l2: 7.43369e+06\n",
      "[19]\tvalid_0's auc: 1\tvalid_0's l2: 7.46954e+06\n",
      "[20]\tvalid_0's auc: 1\tvalid_0's l2: 7.4869e+06\n",
      "[21]\tvalid_0's auc: 1\tvalid_0's l2: 7.53754e+06\n",
      "[22]\tvalid_0's auc: 1\tvalid_0's l2: 7.51501e+06\n",
      "[23]\tvalid_0's auc: 1\tvalid_0's l2: 7.47213e+06\n",
      "[24]\tvalid_0's auc: 1\tvalid_0's l2: 7.46502e+06\n",
      "[25]\tvalid_0's auc: 1\tvalid_0's l2: 7.46586e+06\n",
      "[26]\tvalid_0's auc: 1\tvalid_0's l2: 7.45366e+06\n",
      "[27]\tvalid_0's auc: 1\tvalid_0's l2: 7.48063e+06\n",
      "[28]\tvalid_0's auc: 1\tvalid_0's l2: 7.48372e+06\n",
      "[29]\tvalid_0's auc: 1\tvalid_0's l2: 7.53243e+06\n",
      "[30]\tvalid_0's auc: 1\tvalid_0's l2: 7.57836e+06\n",
      "[31]\tvalid_0's auc: 1\tvalid_0's l2: 7.60574e+06\n",
      "[32]\tvalid_0's auc: 1\tvalid_0's l2: 7.64427e+06\n",
      "[33]\tvalid_0's auc: 1\tvalid_0's l2: 7.68926e+06\n",
      "[34]\tvalid_0's auc: 1\tvalid_0's l2: 7.74576e+06\n",
      "[35]\tvalid_0's auc: 1\tvalid_0's l2: 7.79559e+06\n",
      "[36]\tvalid_0's auc: 1\tvalid_0's l2: 7.77732e+06\n",
      "[37]\tvalid_0's auc: 1\tvalid_0's l2: 7.8088e+06\n",
      "[38]\tvalid_0's auc: 1\tvalid_0's l2: 7.8523e+06\n",
      "[39]\tvalid_0's auc: 1\tvalid_0's l2: 7.83017e+06\n",
      "[40]\tvalid_0's auc: 1\tvalid_0's l2: 7.80593e+06\n",
      "[41]\tvalid_0's auc: 1\tvalid_0's l2: 7.80756e+06\n",
      "[42]\tvalid_0's auc: 1\tvalid_0's l2: 7.79536e+06\n",
      "[43]\tvalid_0's auc: 1\tvalid_0's l2: 7.77866e+06\n",
      "[44]\tvalid_0's auc: 1\tvalid_0's l2: 7.81563e+06\n",
      "[45]\tvalid_0's auc: 1\tvalid_0's l2: 7.83537e+06\n",
      "[46]\tvalid_0's auc: 1\tvalid_0's l2: 7.8792e+06\n",
      "[47]\tvalid_0's auc: 1\tvalid_0's l2: 7.92158e+06\n",
      "[48]\tvalid_0's auc: 1\tvalid_0's l2: 7.91726e+06\n",
      "[49]\tvalid_0's auc: 1\tvalid_0's l2: 7.94701e+06\n",
      "[50]\tvalid_0's auc: 1\tvalid_0's l2: 7.94086e+06\n",
      "[51]\tvalid_0's auc: 1\tvalid_0's l2: 7.96228e+06\n",
      "[52]\tvalid_0's auc: 1\tvalid_0's l2: 7.99842e+06\n",
      "[53]\tvalid_0's auc: 1\tvalid_0's l2: 8.01518e+06\n",
      "[54]\tvalid_0's auc: 1\tvalid_0's l2: 8.03358e+06\n",
      "[55]\tvalid_0's auc: 1\tvalid_0's l2: 8.05869e+06\n",
      "[56]\tvalid_0's auc: 1\tvalid_0's l2: 8.10844e+06\n",
      "[57]\tvalid_0's auc: 1\tvalid_0's l2: 8.15356e+06\n",
      "[58]\tvalid_0's auc: 1\tvalid_0's l2: 8.11861e+06\n",
      "[59]\tvalid_0's auc: 1\tvalid_0's l2: 8.11555e+06\n",
      "[60]\tvalid_0's auc: 1\tvalid_0's l2: 8.13162e+06\n",
      "[61]\tvalid_0's auc: 1\tvalid_0's l2: 8.16987e+06\n",
      "[62]\tvalid_0's auc: 1\tvalid_0's l2: 8.1628e+06\n",
      "[63]\tvalid_0's auc: 1\tvalid_0's l2: 8.16385e+06\n",
      "[64]\tvalid_0's auc: 1\tvalid_0's l2: 8.15668e+06\n",
      "[65]\tvalid_0's auc: 1\tvalid_0's l2: 8.21472e+06\n",
      "[66]\tvalid_0's auc: 1\tvalid_0's l2: 8.25565e+06\n",
      "[67]\tvalid_0's auc: 1\tvalid_0's l2: 8.25523e+06\n",
      "[68]\tvalid_0's auc: 1\tvalid_0's l2: 8.25868e+06\n",
      "[69]\tvalid_0's auc: 1\tvalid_0's l2: 8.26572e+06\n",
      "[70]\tvalid_0's auc: 1\tvalid_0's l2: 8.28374e+06\n",
      "[71]\tvalid_0's auc: 1\tvalid_0's l2: 8.30525e+06\n",
      "[72]\tvalid_0's auc: 1\tvalid_0's l2: 8.30851e+06\n",
      "[73]\tvalid_0's auc: 1\tvalid_0's l2: 8.32175e+06\n",
      "[74]\tvalid_0's auc: 1\tvalid_0's l2: 8.31006e+06\n",
      "[75]\tvalid_0's auc: 1\tvalid_0's l2: 8.31684e+06\n",
      "[76]\tvalid_0's auc: 1\tvalid_0's l2: 8.29768e+06\n",
      "[77]\tvalid_0's auc: 1\tvalid_0's l2: 8.30838e+06\n",
      "[78]\tvalid_0's auc: 1\tvalid_0's l2: 8.2924e+06\n",
      "[79]\tvalid_0's auc: 1\tvalid_0's l2: 8.3176e+06\n",
      "[80]\tvalid_0's auc: 1\tvalid_0's l2: 8.35068e+06\n",
      "[81]\tvalid_0's auc: 1\tvalid_0's l2: 8.35101e+06\n",
      "[82]\tvalid_0's auc: 1\tvalid_0's l2: 8.36729e+06\n",
      "[83]\tvalid_0's auc: 1\tvalid_0's l2: 8.38697e+06\n",
      "[84]\tvalid_0's auc: 1\tvalid_0's l2: 8.378e+06\n",
      "[85]\tvalid_0's auc: 1\tvalid_0's l2: 8.37939e+06\n",
      "[86]\tvalid_0's auc: 1\tvalid_0's l2: 8.3826e+06\n",
      "[87]\tvalid_0's auc: 1\tvalid_0's l2: 8.41953e+06\n",
      "[88]\tvalid_0's auc: 1\tvalid_0's l2: 8.43722e+06\n",
      "[89]\tvalid_0's auc: 1\tvalid_0's l2: 8.46679e+06\n",
      "[90]\tvalid_0's auc: 1\tvalid_0's l2: 8.47365e+06\n",
      "[91]\tvalid_0's auc: 1\tvalid_0's l2: 8.4885e+06\n",
      "[92]\tvalid_0's auc: 1\tvalid_0's l2: 8.50144e+06\n",
      "[93]\tvalid_0's auc: 1\tvalid_0's l2: 8.48731e+06\n",
      "[94]\tvalid_0's auc: 1\tvalid_0's l2: 8.49805e+06\n",
      "[95]\tvalid_0's auc: 1\tvalid_0's l2: 8.51804e+06\n",
      "[96]\tvalid_0's auc: 1\tvalid_0's l2: 8.53025e+06\n",
      "[97]\tvalid_0's auc: 1\tvalid_0's l2: 8.56483e+06\n",
      "[98]\tvalid_0's auc: 1\tvalid_0's l2: 8.57353e+06\n",
      "[99]\tvalid_0's auc: 1\tvalid_0's l2: 8.58214e+06\n",
      "[100]\tvalid_0's auc: 1\tvalid_0's l2: 8.60399e+06\n",
      "[101]\tvalid_0's auc: 1\tvalid_0's l2: 8.60946e+06\n",
      "Early stopping, best iteration is:\n",
      "[1]\tvalid_0's auc: 1\tvalid_0's l2: 7.24503e+06\n"
     ]
    },
    {
     "data": {
      "text/plain": [
       "LGBMRegressor(n_estimators=1000)"
      ]
     },
     "execution_count": 370,
     "metadata": {},
     "output_type": "execute_result"
    }
   ],
   "source": [
    "# 모델 객체 생성, n_estimators = 400으로 설정\n",
    "lgbm_wrapper = LGBMRegressor(n_estimators=1000, learning_rate=0.1)\n",
    "\n",
    "# 검증 데이터(validation data)\n",
    "evals = [(X_val, y_val)]\n",
    "\n",
    "lgbm_wrapper.fit(X_train, y_train, early_stopping_rounds=100, eval_metric='auc',\n",
    "                eval_set = evals, verbose = True, categorical_feature=category_knob)\n"
   ]
  },
  {
   "cell_type": "markdown",
   "metadata": {},
   "source": [
    "## 성능 평가"
   ]
  },
  {
   "cell_type": "code",
   "execution_count": 371,
   "metadata": {},
   "outputs": [],
   "source": [
    "# 성능 측정 함수 RMSLE(캐글에서 요구한 성능 평가 방법), MSE, RMSE\n",
    "from sklearn.metrics import mean_squared_error, mean_absolute_error\n",
    "# log 값 변환 시 NaN 등의 이슈로 log()가 아닌 log1p()를 이용해 RMSLE 계산 \n",
    "def rmsle(y, pred):\n",
    "    # log1p 변환\n",
    "    log_y = np.log1p(y)\n",
    "    log_pred = np.log1p(pred)\n",
    "    \n",
    "    # squred 계산\n",
    "    squared_error = (log_y-log_pred)**2\n",
    "    \n",
    "    # RMSE 계산\n",
    "    rmsle = np.sqrt(np.mean(squared_error))\n",
    "    \n",
    "    return rmsle\n",
    "\n",
    "# 사이킷런의 mean_square_error()를 이용해 RMSE 계산\n",
    "def rmse(y, pred):\n",
    "    return np.sqrt(mean_squared_error(y, pred))\n",
    "\n",
    "# MSE, RMSE, RMSLE를 모두 계산\n",
    "def evaluate_regr(y, pred):\n",
    "    rmsle_val = rmsle(y, pred)\n",
    "    rmse_val = rmse(y, pred)\n",
    "    \n",
    "    # MAE는 사이킷런의 mean_absolute_error()로 계산\n",
    "    mae_val = mean_absolute_error(y, pred)\n",
    "    \n",
    "    print('RMSLE: {0:.3f}, RMSE: {1:.3F}, MAE: {2:.3F}'.format(rmsle_val, rmse_val, mae_val))\n",
    "    "
   ]
  },
  {
   "cell_type": "code",
   "execution_count": 372,
   "metadata": {},
   "outputs": [
    {
     "name": "stdout",
     "output_type": "stream",
     "text": [
      "RMSLE: 0.052, RMSE: 2528.660, MAE: 1359.666\n"
     ]
    }
   ],
   "source": [
    "preds = lgbm_wrapper.predict(X_test)  # 예측 결과\n",
    "evaluate_regr(y_test, preds)"
   ]
  },
  {
   "cell_type": "markdown",
   "metadata": {},
   "source": [
    "이상치 제거 전 RMSLE: 0.060, RMSE: 3492.223, MAE: 3032.843\n",
    "\n",
    "이상치 제거 후 RMSLE: 0.058, RMSE: 3393.720, MAE: 2974.377"
   ]
  },
  {
   "cell_type": "code",
   "execution_count": 373,
   "metadata": {},
   "outputs": [
    {
     "data": {
      "text/html": [
       "<div>\n",
       "<style scoped>\n",
       "    .dataframe tbody tr th:only-of-type {\n",
       "        vertical-align: middle;\n",
       "    }\n",
       "\n",
       "    .dataframe tbody tr th {\n",
       "        vertical-align: top;\n",
       "    }\n",
       "\n",
       "    .dataframe thead th {\n",
       "        text-align: right;\n",
       "    }\n",
       "</style>\n",
       "<table border=\"1\" class=\"dataframe\">\n",
       "  <thead>\n",
       "    <tr style=\"text-align: right;\">\n",
       "      <th></th>\n",
       "      <th>hash-max-ziplist-entries</th>\n",
       "      <th>hash-max-ziplist-value</th>\n",
       "      <th>activerehashing</th>\n",
       "      <th>hz</th>\n",
       "      <th>dynamic-hz</th>\n",
       "      <th>save0_0</th>\n",
       "      <th>save0_1</th>\n",
       "      <th>save1_0</th>\n",
       "      <th>save1_1</th>\n",
       "      <th>save2_0</th>\n",
       "      <th>...</th>\n",
       "      <th>active-defrag-threshold-lower</th>\n",
       "      <th>active-defrag-threshold-upper</th>\n",
       "      <th>active-defrag-cycle-min</th>\n",
       "      <th>active-defrag-cycle-max</th>\n",
       "      <th>maxmemory</th>\n",
       "      <th>maxmemory-policy</th>\n",
       "      <th>maxmemory-samples</th>\n",
       "      <th>lazyfree-lazy-eviction</th>\n",
       "      <th>lazyfree-lazy-expire</th>\n",
       "      <th>lazyfree-lazy-server-del</th>\n",
       "    </tr>\n",
       "  </thead>\n",
       "  <tbody>\n",
       "    <tr>\n",
       "      <th>1050</th>\n",
       "      <td>500</td>\n",
       "      <td>142</td>\n",
       "      <td>no</td>\n",
       "      <td>33</td>\n",
       "      <td>no</td>\n",
       "      <td>933</td>\n",
       "      <td>5</td>\n",
       "      <td>282</td>\n",
       "      <td>61</td>\n",
       "      <td>61</td>\n",
       "      <td>...</td>\n",
       "      <td>0.0</td>\n",
       "      <td>0.0</td>\n",
       "      <td>0.0</td>\n",
       "      <td>0.0</td>\n",
       "      <td>1200</td>\n",
       "      <td>allkeys-lfu</td>\n",
       "      <td>5</td>\n",
       "      <td>yes</td>\n",
       "      <td>yes</td>\n",
       "      <td>yes</td>\n",
       "    </tr>\n",
       "  </tbody>\n",
       "</table>\n",
       "<p>1 rows × 24 columns</p>\n",
       "</div>"
      ],
      "text/plain": [
       "      hash-max-ziplist-entries  hash-max-ziplist-value activerehashing  hz  \\\n",
       "1050                       500                     142              no  33   \n",
       "\n",
       "     dynamic-hz  save0_0  save0_1  save1_0  save1_1  save2_0  ...  \\\n",
       "1050         no      933        5      282       61       61  ...   \n",
       "\n",
       "      active-defrag-threshold-lower active-defrag-threshold-upper  \\\n",
       "1050                            0.0                           0.0   \n",
       "\n",
       "     active-defrag-cycle-min active-defrag-cycle-max  maxmemory  \\\n",
       "1050                     0.0                     0.0       1200   \n",
       "\n",
       "      maxmemory-policy  maxmemory-samples  lazyfree-lazy-eviction  \\\n",
       "1050       allkeys-lfu                  5                     yes   \n",
       "\n",
       "      lazyfree-lazy-expire lazyfree-lazy-server-del  \n",
       "1050                   yes                      yes  \n",
       "\n",
       "[1 rows x 24 columns]"
      ]
     },
     "execution_count": 373,
     "metadata": {},
     "output_type": "execute_result"
    }
   ],
   "source": [
    "X_test.iloc[:1,:]"
   ]
  },
  {
   "cell_type": "code",
   "execution_count": 374,
   "metadata": {},
   "outputs": [],
   "source": [
    "# lgbm_wrapper.predict(X_test.iloc[3:4,:])"
   ]
  },
  {
   "cell_type": "code",
   "execution_count": 375,
   "metadata": {},
   "outputs": [
    {
     "ename": "ValueError",
     "evalue": "train and valid dataset categorical_feature do not match.",
     "output_type": "error",
     "traceback": [
      "\u001b[0;31m---------------------------------------------------------------------------\u001b[0m",
      "\u001b[0;31mValueError\u001b[0m                                Traceback (most recent call last)",
      "\u001b[0;32m<ipython-input-375-5e7d25434157>\u001b[0m in \u001b[0;36m<module>\u001b[0;34m\u001b[0m\n\u001b[1;32m     32\u001b[0m         \u001b[0mdf_result_test2\u001b[0m\u001b[0;34m[\u001b[0m\u001b[0melem\u001b[0m\u001b[0;34m]\u001b[0m \u001b[0;34m=\u001b[0m \u001b[0mdf_result_test2\u001b[0m\u001b[0;34m[\u001b[0m\u001b[0melem\u001b[0m\u001b[0;34m]\u001b[0m\u001b[0;34m.\u001b[0m\u001b[0mastype\u001b[0m\u001b[0;34m(\u001b[0m\u001b[0;34m'category'\u001b[0m\u001b[0;34m)\u001b[0m\u001b[0;34m\u001b[0m\u001b[0;34m\u001b[0m\u001b[0m\n\u001b[1;32m     33\u001b[0m \u001b[0;34m\u001b[0m\u001b[0m\n\u001b[0;32m---> 34\u001b[0;31m \u001b[0mlgbm_wrapper\u001b[0m\u001b[0;34m.\u001b[0m\u001b[0mpredict\u001b[0m\u001b[0;34m(\u001b[0m\u001b[0mdf_result_test2\u001b[0m\u001b[0;34m.\u001b[0m\u001b[0miloc\u001b[0m\u001b[0;34m[\u001b[0m\u001b[0;34m:\u001b[0m\u001b[0;36m1\u001b[0m\u001b[0;34m,\u001b[0m\u001b[0;34m:\u001b[0m\u001b[0;34m]\u001b[0m\u001b[0;34m)\u001b[0m\u001b[0;34m[\u001b[0m\u001b[0;36m0\u001b[0m\u001b[0;34m]\u001b[0m\u001b[0;34m\u001b[0m\u001b[0;34m\u001b[0m\u001b[0m\n\u001b[0m",
      "\u001b[0;32m~/opt/anaconda3/lib/python3.8/site-packages/lightgbm/sklearn.py\u001b[0m in \u001b[0;36mpredict\u001b[0;34m(self, X, raw_score, start_iteration, num_iteration, pred_leaf, pred_contrib, **kwargs)\u001b[0m\n\u001b[1;32m    724\u001b[0m                              \u001b[0;34m\"input n_features is %s \"\u001b[0m\u001b[0;34m\u001b[0m\u001b[0;34m\u001b[0m\u001b[0m\n\u001b[1;32m    725\u001b[0m                              % (self._n_features, n_features))\n\u001b[0;32m--> 726\u001b[0;31m         return self._Booster.predict(X, raw_score=raw_score, start_iteration=start_iteration, num_iteration=num_iteration,\n\u001b[0m\u001b[1;32m    727\u001b[0m                                      pred_leaf=pred_leaf, pred_contrib=pred_contrib, **kwargs)\n\u001b[1;32m    728\u001b[0m \u001b[0;34m\u001b[0m\u001b[0m\n",
      "\u001b[0;32m~/opt/anaconda3/lib/python3.8/site-packages/lightgbm/basic.py\u001b[0m in \u001b[0;36mpredict\u001b[0;34m(self, data, start_iteration, num_iteration, raw_score, pred_leaf, pred_contrib, data_has_header, is_reshape, **kwargs)\u001b[0m\n\u001b[1;32m   3140\u001b[0m             \u001b[0;32melse\u001b[0m\u001b[0;34m:\u001b[0m\u001b[0;34m\u001b[0m\u001b[0;34m\u001b[0m\u001b[0m\n\u001b[1;32m   3141\u001b[0m                 \u001b[0mnum_iteration\u001b[0m \u001b[0;34m=\u001b[0m \u001b[0;34m-\u001b[0m\u001b[0;36m1\u001b[0m\u001b[0;34m\u001b[0m\u001b[0;34m\u001b[0m\u001b[0m\n\u001b[0;32m-> 3142\u001b[0;31m         return predictor.predict(data, start_iteration, num_iteration,\n\u001b[0m\u001b[1;32m   3143\u001b[0m                                  \u001b[0mraw_score\u001b[0m\u001b[0;34m,\u001b[0m \u001b[0mpred_leaf\u001b[0m\u001b[0;34m,\u001b[0m \u001b[0mpred_contrib\u001b[0m\u001b[0;34m,\u001b[0m\u001b[0;34m\u001b[0m\u001b[0;34m\u001b[0m\u001b[0m\n\u001b[1;32m   3144\u001b[0m                                  data_has_header, is_reshape)\n",
      "\u001b[0;32m~/opt/anaconda3/lib/python3.8/site-packages/lightgbm/basic.py\u001b[0m in \u001b[0;36mpredict\u001b[0;34m(self, data, start_iteration, num_iteration, raw_score, pred_leaf, pred_contrib, data_has_header, is_reshape)\u001b[0m\n\u001b[1;32m    696\u001b[0m         \u001b[0;32mif\u001b[0m \u001b[0misinstance\u001b[0m\u001b[0;34m(\u001b[0m\u001b[0mdata\u001b[0m\u001b[0;34m,\u001b[0m \u001b[0mDataset\u001b[0m\u001b[0;34m)\u001b[0m\u001b[0;34m:\u001b[0m\u001b[0;34m\u001b[0m\u001b[0;34m\u001b[0m\u001b[0m\n\u001b[1;32m    697\u001b[0m             \u001b[0;32mraise\u001b[0m \u001b[0mTypeError\u001b[0m\u001b[0;34m(\u001b[0m\u001b[0;34m\"Cannot use Dataset instance for prediction, please use raw data instead\"\u001b[0m\u001b[0;34m)\u001b[0m\u001b[0;34m\u001b[0m\u001b[0;34m\u001b[0m\u001b[0m\n\u001b[0;32m--> 698\u001b[0;31m         \u001b[0mdata\u001b[0m \u001b[0;34m=\u001b[0m \u001b[0m_data_from_pandas\u001b[0m\u001b[0;34m(\u001b[0m\u001b[0mdata\u001b[0m\u001b[0;34m,\u001b[0m \u001b[0;32mNone\u001b[0m\u001b[0;34m,\u001b[0m \u001b[0;32mNone\u001b[0m\u001b[0;34m,\u001b[0m \u001b[0mself\u001b[0m\u001b[0;34m.\u001b[0m\u001b[0mpandas_categorical\u001b[0m\u001b[0;34m)\u001b[0m\u001b[0;34m[\u001b[0m\u001b[0;36m0\u001b[0m\u001b[0;34m]\u001b[0m\u001b[0;34m\u001b[0m\u001b[0;34m\u001b[0m\u001b[0m\n\u001b[0m\u001b[1;32m    699\u001b[0m         \u001b[0mpredict_type\u001b[0m \u001b[0;34m=\u001b[0m \u001b[0mC_API_PREDICT_NORMAL\u001b[0m\u001b[0;34m\u001b[0m\u001b[0;34m\u001b[0m\u001b[0m\n\u001b[1;32m    700\u001b[0m         \u001b[0;32mif\u001b[0m \u001b[0mraw_score\u001b[0m\u001b[0;34m:\u001b[0m\u001b[0;34m\u001b[0m\u001b[0;34m\u001b[0m\u001b[0m\n",
      "\u001b[0;32m~/opt/anaconda3/lib/python3.8/site-packages/lightgbm/basic.py\u001b[0m in \u001b[0;36m_data_from_pandas\u001b[0;34m(data, feature_name, categorical_feature, pandas_categorical)\u001b[0m\n\u001b[1;32m    517\u001b[0m         \u001b[0;32melse\u001b[0m\u001b[0;34m:\u001b[0m\u001b[0;34m\u001b[0m\u001b[0;34m\u001b[0m\u001b[0m\n\u001b[1;32m    518\u001b[0m             \u001b[0;32mif\u001b[0m \u001b[0mlen\u001b[0m\u001b[0;34m(\u001b[0m\u001b[0mcat_cols\u001b[0m\u001b[0;34m)\u001b[0m \u001b[0;34m!=\u001b[0m \u001b[0mlen\u001b[0m\u001b[0;34m(\u001b[0m\u001b[0mpandas_categorical\u001b[0m\u001b[0;34m)\u001b[0m\u001b[0;34m:\u001b[0m\u001b[0;34m\u001b[0m\u001b[0;34m\u001b[0m\u001b[0m\n\u001b[0;32m--> 519\u001b[0;31m                 \u001b[0;32mraise\u001b[0m \u001b[0mValueError\u001b[0m\u001b[0;34m(\u001b[0m\u001b[0;34m'train and valid dataset categorical_feature do not match.'\u001b[0m\u001b[0;34m)\u001b[0m\u001b[0;34m\u001b[0m\u001b[0;34m\u001b[0m\u001b[0m\n\u001b[0m\u001b[1;32m    520\u001b[0m             \u001b[0;32mfor\u001b[0m \u001b[0mcol\u001b[0m\u001b[0;34m,\u001b[0m \u001b[0mcategory\u001b[0m \u001b[0;32min\u001b[0m \u001b[0mzip\u001b[0m\u001b[0;34m(\u001b[0m\u001b[0mcat_cols\u001b[0m\u001b[0;34m,\u001b[0m \u001b[0mpandas_categorical\u001b[0m\u001b[0;34m)\u001b[0m\u001b[0;34m:\u001b[0m\u001b[0;34m\u001b[0m\u001b[0;34m\u001b[0m\u001b[0m\n\u001b[1;32m    521\u001b[0m                 \u001b[0;32mif\u001b[0m \u001b[0mlist\u001b[0m\u001b[0;34m(\u001b[0m\u001b[0mdata\u001b[0m\u001b[0;34m[\u001b[0m\u001b[0mcol\u001b[0m\u001b[0;34m]\u001b[0m\u001b[0;34m.\u001b[0m\u001b[0mcat\u001b[0m\u001b[0;34m.\u001b[0m\u001b[0mcategories\u001b[0m\u001b[0;34m)\u001b[0m \u001b[0;34m!=\u001b[0m \u001b[0mlist\u001b[0m\u001b[0;34m(\u001b[0m\u001b[0mcategory\u001b[0m\u001b[0;34m)\u001b[0m\u001b[0;34m:\u001b[0m\u001b[0;34m\u001b[0m\u001b[0;34m\u001b[0m\u001b[0m\n",
      "\u001b[0;31mValueError\u001b[0m: train and valid dataset categorical_feature do not match."
     ]
    }
   ],
   "source": [
    "# 예측 prediction 시험\n",
    "\n",
    "df_result_test = {}\n",
    "\n",
    "for i in knobs_list:\n",
    "    df_result_test[i] = ''\n",
    "\n",
    "df_result_test['save0_0'] = [929]\n",
    "df_result_test['save0_1'] = [6]\n",
    "df_result_test['save1_1'] = [48]\n",
    "df_result_test['save2_1'] = [10504]\n",
    "df_result_test['hash-max-ziplist-entries'] = [372]  #(256, 751)\n",
    "df_result_test['rdb-save-incremental-fsync'] = ['no']\n",
    "df_result_test['lazyfree-lazy-expire'] = ['yes']\n",
    "\n",
    "df_result_test['save2_0'] = [74]\n",
    "df_result_test['rdbcompression'] = ['yes']\n",
    "df_result_test['active-defrag-cycle-max'] = [91]\n",
    "df_result_test['maxmemory'] = [1223]\n",
    "df_result_test['maxmemory-samples'] = [5]\n",
    "\n",
    "\n",
    "\n",
    "df_result_test2 = pd.DataFrame(df_result_test)\n",
    "# for idx, ty in enumerate(list(df_result_test2.dtypes)):\n",
    "#     if ty == 'O':\n",
    "#         df_result_test2.iloc[0,idx].astype('category')\n",
    "    \n",
    "for elem in df_result_test2:\n",
    "    if df_result_test2[elem].dtype == 'O':\n",
    "        \n",
    "        df_result_test2[elem] = df_result_test2[elem].astype('category')\n",
    "        \n",
    "lgbm_wrapper.predict(df_result_test2.iloc[:1,:])[0]"
   ]
  },
  {
   "cell_type": "code",
   "execution_count": 150,
   "metadata": {},
   "outputs": [],
   "source": [
    "# df_result_test2"
   ]
  },
  {
   "cell_type": "code",
   "execution_count": 151,
   "metadata": {},
   "outputs": [
    {
     "ename": "ValueError",
     "evalue": "train and valid dataset categorical_feature do not match.",
     "output_type": "error",
     "traceback": [
      "\u001b[0;31m---------------------------------------------------------------------------\u001b[0m",
      "\u001b[0;31mValueError\u001b[0m                                Traceback (most recent call last)",
      "\u001b[0;32m<ipython-input-151-398ef00dd03e>\u001b[0m in \u001b[0;36m<module>\u001b[0;34m\u001b[0m\n\u001b[0;32m----> 1\u001b[0;31m \u001b[0mlgbm_wrapper\u001b[0m\u001b[0;34m.\u001b[0m\u001b[0mpredict\u001b[0m\u001b[0;34m(\u001b[0m\u001b[0mdf_result_test2\u001b[0m\u001b[0;34m)\u001b[0m\u001b[0;34m\u001b[0m\u001b[0;34m\u001b[0m\u001b[0m\n\u001b[0m",
      "\u001b[0;32m~/opt/anaconda3/lib/python3.8/site-packages/lightgbm/sklearn.py\u001b[0m in \u001b[0;36mpredict\u001b[0;34m(self, X, raw_score, start_iteration, num_iteration, pred_leaf, pred_contrib, **kwargs)\u001b[0m\n\u001b[1;32m    724\u001b[0m                              \u001b[0;34m\"input n_features is %s \"\u001b[0m\u001b[0;34m\u001b[0m\u001b[0;34m\u001b[0m\u001b[0m\n\u001b[1;32m    725\u001b[0m                              % (self._n_features, n_features))\n\u001b[0;32m--> 726\u001b[0;31m         return self._Booster.predict(X, raw_score=raw_score, start_iteration=start_iteration, num_iteration=num_iteration,\n\u001b[0m\u001b[1;32m    727\u001b[0m                                      pred_leaf=pred_leaf, pred_contrib=pred_contrib, **kwargs)\n\u001b[1;32m    728\u001b[0m \u001b[0;34m\u001b[0m\u001b[0m\n",
      "\u001b[0;32m~/opt/anaconda3/lib/python3.8/site-packages/lightgbm/basic.py\u001b[0m in \u001b[0;36mpredict\u001b[0;34m(self, data, start_iteration, num_iteration, raw_score, pred_leaf, pred_contrib, data_has_header, is_reshape, **kwargs)\u001b[0m\n\u001b[1;32m   3140\u001b[0m             \u001b[0;32melse\u001b[0m\u001b[0;34m:\u001b[0m\u001b[0;34m\u001b[0m\u001b[0;34m\u001b[0m\u001b[0m\n\u001b[1;32m   3141\u001b[0m                 \u001b[0mnum_iteration\u001b[0m \u001b[0;34m=\u001b[0m \u001b[0;34m-\u001b[0m\u001b[0;36m1\u001b[0m\u001b[0;34m\u001b[0m\u001b[0;34m\u001b[0m\u001b[0m\n\u001b[0;32m-> 3142\u001b[0;31m         return predictor.predict(data, start_iteration, num_iteration,\n\u001b[0m\u001b[1;32m   3143\u001b[0m                                  \u001b[0mraw_score\u001b[0m\u001b[0;34m,\u001b[0m \u001b[0mpred_leaf\u001b[0m\u001b[0;34m,\u001b[0m \u001b[0mpred_contrib\u001b[0m\u001b[0;34m,\u001b[0m\u001b[0;34m\u001b[0m\u001b[0;34m\u001b[0m\u001b[0m\n\u001b[1;32m   3144\u001b[0m                                  data_has_header, is_reshape)\n",
      "\u001b[0;32m~/opt/anaconda3/lib/python3.8/site-packages/lightgbm/basic.py\u001b[0m in \u001b[0;36mpredict\u001b[0;34m(self, data, start_iteration, num_iteration, raw_score, pred_leaf, pred_contrib, data_has_header, is_reshape)\u001b[0m\n\u001b[1;32m    696\u001b[0m         \u001b[0;32mif\u001b[0m \u001b[0misinstance\u001b[0m\u001b[0;34m(\u001b[0m\u001b[0mdata\u001b[0m\u001b[0;34m,\u001b[0m \u001b[0mDataset\u001b[0m\u001b[0;34m)\u001b[0m\u001b[0;34m:\u001b[0m\u001b[0;34m\u001b[0m\u001b[0;34m\u001b[0m\u001b[0m\n\u001b[1;32m    697\u001b[0m             \u001b[0;32mraise\u001b[0m \u001b[0mTypeError\u001b[0m\u001b[0;34m(\u001b[0m\u001b[0;34m\"Cannot use Dataset instance for prediction, please use raw data instead\"\u001b[0m\u001b[0;34m)\u001b[0m\u001b[0;34m\u001b[0m\u001b[0;34m\u001b[0m\u001b[0m\n\u001b[0;32m--> 698\u001b[0;31m         \u001b[0mdata\u001b[0m \u001b[0;34m=\u001b[0m \u001b[0m_data_from_pandas\u001b[0m\u001b[0;34m(\u001b[0m\u001b[0mdata\u001b[0m\u001b[0;34m,\u001b[0m \u001b[0;32mNone\u001b[0m\u001b[0;34m,\u001b[0m \u001b[0;32mNone\u001b[0m\u001b[0;34m,\u001b[0m \u001b[0mself\u001b[0m\u001b[0;34m.\u001b[0m\u001b[0mpandas_categorical\u001b[0m\u001b[0;34m)\u001b[0m\u001b[0;34m[\u001b[0m\u001b[0;36m0\u001b[0m\u001b[0;34m]\u001b[0m\u001b[0;34m\u001b[0m\u001b[0;34m\u001b[0m\u001b[0m\n\u001b[0m\u001b[1;32m    699\u001b[0m         \u001b[0mpredict_type\u001b[0m \u001b[0;34m=\u001b[0m \u001b[0mC_API_PREDICT_NORMAL\u001b[0m\u001b[0;34m\u001b[0m\u001b[0;34m\u001b[0m\u001b[0m\n\u001b[1;32m    700\u001b[0m         \u001b[0;32mif\u001b[0m \u001b[0mraw_score\u001b[0m\u001b[0;34m:\u001b[0m\u001b[0;34m\u001b[0m\u001b[0;34m\u001b[0m\u001b[0m\n",
      "\u001b[0;32m~/opt/anaconda3/lib/python3.8/site-packages/lightgbm/basic.py\u001b[0m in \u001b[0;36m_data_from_pandas\u001b[0;34m(data, feature_name, categorical_feature, pandas_categorical)\u001b[0m\n\u001b[1;32m    517\u001b[0m         \u001b[0;32melse\u001b[0m\u001b[0;34m:\u001b[0m\u001b[0;34m\u001b[0m\u001b[0;34m\u001b[0m\u001b[0m\n\u001b[1;32m    518\u001b[0m             \u001b[0;32mif\u001b[0m \u001b[0mlen\u001b[0m\u001b[0;34m(\u001b[0m\u001b[0mcat_cols\u001b[0m\u001b[0;34m)\u001b[0m \u001b[0;34m!=\u001b[0m \u001b[0mlen\u001b[0m\u001b[0;34m(\u001b[0m\u001b[0mpandas_categorical\u001b[0m\u001b[0;34m)\u001b[0m\u001b[0;34m:\u001b[0m\u001b[0;34m\u001b[0m\u001b[0;34m\u001b[0m\u001b[0m\n\u001b[0;32m--> 519\u001b[0;31m                 \u001b[0;32mraise\u001b[0m \u001b[0mValueError\u001b[0m\u001b[0;34m(\u001b[0m\u001b[0;34m'train and valid dataset categorical_feature do not match.'\u001b[0m\u001b[0;34m)\u001b[0m\u001b[0;34m\u001b[0m\u001b[0;34m\u001b[0m\u001b[0m\n\u001b[0m\u001b[1;32m    520\u001b[0m             \u001b[0;32mfor\u001b[0m \u001b[0mcol\u001b[0m\u001b[0;34m,\u001b[0m \u001b[0mcategory\u001b[0m \u001b[0;32min\u001b[0m \u001b[0mzip\u001b[0m\u001b[0;34m(\u001b[0m\u001b[0mcat_cols\u001b[0m\u001b[0;34m,\u001b[0m \u001b[0mpandas_categorical\u001b[0m\u001b[0;34m)\u001b[0m\u001b[0;34m:\u001b[0m\u001b[0;34m\u001b[0m\u001b[0;34m\u001b[0m\u001b[0m\n\u001b[1;32m    521\u001b[0m                 \u001b[0;32mif\u001b[0m \u001b[0mlist\u001b[0m\u001b[0;34m(\u001b[0m\u001b[0mdata\u001b[0m\u001b[0;34m[\u001b[0m\u001b[0mcol\u001b[0m\u001b[0;34m]\u001b[0m\u001b[0;34m.\u001b[0m\u001b[0mcat\u001b[0m\u001b[0;34m.\u001b[0m\u001b[0mcategories\u001b[0m\u001b[0;34m)\u001b[0m \u001b[0;34m!=\u001b[0m \u001b[0mlist\u001b[0m\u001b[0;34m(\u001b[0m\u001b[0mcategory\u001b[0m\u001b[0;34m)\u001b[0m\u001b[0;34m:\u001b[0m\u001b[0;34m\u001b[0m\u001b[0;34m\u001b[0m\u001b[0m\n",
      "\u001b[0;31mValueError\u001b[0m: train and valid dataset categorical_feature do not match."
     ]
    }
   ],
   "source": [
    "lgbm_wrapper.predict(df_result_test2)"
   ]
  },
  {
   "cell_type": "code",
   "execution_count": 376,
   "metadata": {},
   "outputs": [
    {
     "data": {
      "text/plain": [
       "<AxesSubplot:title={'center':'Feature importance'}, xlabel='Feature importance', ylabel='Features'>"
      ]
     },
     "execution_count": 376,
     "metadata": {},
     "output_type": "execute_result"
    },
    {
     "data": {
      "image/png": "[encoded data removed]",
      "text/plain": [
       "<Figure size 720x864 with 1 Axes>"
      ]
     },
     "metadata": {
      "needs_background": "light"
     },
     "output_type": "display_data"
    }
   ],
   "source": [
    "# plot_importance()를 이영해 피처 중요도 시각화\n",
    "from lightgbm import plot_importance\n",
    "import matplotlib.pyplot as plt\n",
    "%matplotlib inline\n",
    "\n",
    "fig, ax = plt.subplots(figsize=(10, 12))\n",
    "plot_importance(lgbm_wrapper, ax= ax)"
   ]
  },
  {
   "cell_type": "code",
   "execution_count": 377,
   "metadata": {},
   "outputs": [
    {
     "data": {
      "text/plain": [
       "6394119.15635138"
      ]
     },
     "execution_count": 377,
     "metadata": {},
     "output_type": "execute_result"
    }
   ],
   "source": [
    "from sklearn.metrics import mean_absolute_error, mean_squared_error\n",
    "\n",
    "mse = mean_squared_error(y_test ,preds)\n",
    "mse"
   ]
  },
  {
   "cell_type": "markdown",
   "metadata": {},
   "source": [
    "### 하이퍼파라미터 튜닝"
   ]
  },
  {
   "cell_type": "code",
   "execution_count": 233,
   "metadata": {},
   "outputs": [],
   "source": [
    "# from sklearn.model_selection import GridSearchCV\n",
    "\n",
    "# # 하이퍼파라미터 튜닝시 수행 속도를 향상시키기 위해 n_estimators를 200으로 감소\n",
    "# lgbm_wrapper = LGBMRegressor(n_estimators = 200)\n",
    "\n",
    "# params = {\n",
    "#     'num_leaves':[32, 64],\n",
    "#     'max_depth':[128, 160],\n",
    "#     'min_child_samples':[60, 100],\n",
    "#     'subsample':[0.8, 1]\n",
    "# }\n",
    "\n",
    "# # cv는 3으로 가정 (교차 검증을 자동으로 해주는건가?)\n",
    "# gridcv = GridSearchCV(lgbm_wrapper, param_grid = params, cv=3)\n",
    "# gridcv.fit(X_train, y_train, early_stopping_rounds = 30, eval_metric='auc', \n",
    "#           eval_set = [(X_train, y_train), (X_test, y_test)])\n",
    "\n",
    "# print('GridSeaerchCV 최적 파라미터:', gridcv.best_params_)"
   ]
  },
  {
   "cell_type": "code",
   "execution_count": 234,
   "metadata": {
    "scrolled": true
   },
   "outputs": [],
   "source": [
    "# # 하이퍼 파라미터 적용 후 다시 생성\n",
    "# lgbm_wrapper = LGBMRegressor(n_estimators = 1000,\n",
    "#                             num_leaves = 32,\n",
    "#                             subsample=0.8,\n",
    "#                             min_child_samples=60,\n",
    "#                             max_depth=128)\n",
    "\n",
    "# evals = [(X_test, y_test)]\n",
    "\n",
    "# lgbm_wrapper.fit(X_train, y_train, early_stopping_rounds=100,\n",
    "#                 eval_metric='auc',\n",
    "#                 eval_set=evals,\n",
    "#                 verbose=True)"
   ]
  },
  {
   "cell_type": "markdown",
   "metadata": {},
   "source": [
    "---"
   ]
  },
  {
   "cell_type": "markdown",
   "metadata": {},
   "source": [
    "# BO"
   ]
  },
  {
   "cell_type": "code",
   "execution_count": 235,
   "metadata": {},
   "outputs": [],
   "source": [
    "# knob 종류 및 바운드\n",
    "\n",
    "knobs_rdb2 = {\n",
    "    \n",
    "#     \"hash-max-ziplist-entries\":     (256, 751), \n",
    "#     \"hash-max-ziplist-value\": (16, 257),\n",
    "#     \"activerehashing\": ('yes', 'no'),  ##yes\n",
    "#     \"hz\": (1, 41),\n",
    "#     \"dynamic-hz\": ('yes', 'no'),\n",
    "\n",
    "#     \"save0_0\": (700,1100),\n",
    "#     \"save0_1\": (1,9),\n",
    "#     \"save1_0\": (100,500),\n",
    "#     \"save1_1\": (10,100),\n",
    "#     \"save2_0\": (30,90),\n",
    "#     \"save2_1\": (8000,12000),\n",
    "\n",
    "#     \"rdbcompression\": ('yes', 'no'), ##yes\n",
    "#     \"rdbchecksum\": ('yes', 'no'),    ##yes\n",
    "#     \"rdb-save-incremental-fsync\": ('yes', 'no'),   ## yes\n",
    "\n",
    "#     \"activedefrag\": ('yes','no'),  \n",
    "#     \"active-defrag-threshold-lower\": (1, 31),\n",
    "#     \"active-defrag-threshold-upper\": (70, 101),\n",
    "#     \"active-defrag-cycle-min\": (1, 31),\n",
    "#     \"active-defrag-cycle-max\": (70, 91),\n",
    "    \n",
    "#     \"maxmemory\": (1000, 2900),   ##\"volatile-lru\"\n",
    "    \"maxmemory-policy\":     (\"volatile-lru\", \"allkeys-lru\", \"volatile-lfu\", \"allkeys-lfu\", \n",
    "                             \"volatile-random\",\"allkeys-random\", \"volatile-ttl\", \"noeviction\"),\n",
    "#     \"maxmemory-samples\": (3, 7),\n",
    "    \n",
    "#     \"lazyfree-lazy-eviction\": ('yes', 'no'),\n",
    "#     \"lazyfree-lazy-expire\": ('yes', 'no'),\n",
    "#     \"lazyfree-lazy-server-del\": ('yes', 'no')\n",
    "}\n",
    "\n",
    "knobs_list2 = list(knobs_rdb2.keys())\n",
    "knobs_bound2 = list(knobs_rdb2.values())"
   ]
  },
  {
   "cell_type": "markdown",
   "metadata": {},
   "source": [
    "## 목적함수"
   ]
  },
  {
   "cell_type": "code",
   "execution_count": 236,
   "metadata": {},
   "outputs": [],
   "source": [
    "noise_level = 0.1\n",
    "\n",
    "def objective_func(knob_value, noise_level=noise_level):\n",
    "    knob_dict = {}\n",
    "\n",
    "    for i, knob in enumerate(knobs_list): # 딕셔너리로 이동\n",
    "        knob_dict[knob] = knob_value[i]\n",
    "            \n",
    "    if 'activedefrag' in knob_dict:\n",
    "        if knob_dict['activedefrag'] == 'no':  # activedefrag no인 경우 나머지 관련 knob들에 0할당!\n",
    "            activ_var = ['active-defrag-threshold-lower', 'active-defrag-threshold-upper', 'active-defrag-cycle-min', 'active-defrag-cycle-max']\n",
    "            for activ_knob in activ_var:\n",
    "                knob_dict[activ_knob] = 0     \n",
    "    \n",
    "    knob_df = pd.DataFrame(knob_dict, index=[0])  # 데이터 프레임으로 변환\n",
    "    \n",
    "    # 카테고리 변수 변경\n",
    "    for knob in category_knob:\n",
    "        knob_df[knob] = knob_df[knob].astype('category') \n",
    "\n",
    "    return -lgbm_wrapper.predict(knob_df)[0]\n",
    "\n",
    "\n",
    "noise_level = 0.1\n",
    "\n",
    "def objective_func2(knob_value, noise_level=noise_level):\n",
    "    knob_dict = {}\n",
    "    \n",
    "    for knob in knobs_list:\n",
    "        knob_dict[knob] = ''\n",
    "    \n",
    "    # cluster0 인덱스 순서와 무관\n",
    "    knob_dict['save0_0'] = 929\n",
    "    knob_dict['save0_1'] = 6\n",
    "    knob_dict['save1_1'] = 48\n",
    "    knob_dict['save2_1'] = 10504   \n",
    "    knob_dict['hash-max-ziplist-entries'] = 372\n",
    "    knob_dict['rdb-save-incremental-fsync'] = 'no'\n",
    "    knob_dict['lazyfree-lazy-expire'] = 'yes'\n",
    "    \n",
    "    # cluster1\n",
    "    knob_dict['save2_0'] = 74\n",
    "    knob_dict['maxmemory'] = 1223\n",
    "    knob_dict['maxmemory-samples'] = 5\n",
    "    knob_dict['rdbcompression'] = 'yes'   \n",
    "    knob_dict['active-defrag-cycle-max'] = 91 \n",
    "    \n",
    "    # cluseter2\n",
    "    knob_dict['save1_0'] = 472\n",
    "    knob_dict['hash-max-ziplist-value'] = 256\n",
    "    knob_dict['active-defrag-threshold-lower'] = 30\n",
    "    knob_dict['rdbchecksum'] = 'yes'   \n",
    "    knob_dict['lazyfree-lazy-eviction'] = 'no' \n",
    "    knob_dict['lazyfree-lazy-server-del'] = 'no'   \n",
    "    knob_dict['dynamic-hz'] = 'yes' \n",
    "    knob_dict['active-defrag-cycle-min'] = 13 \n",
    "\n",
    "    # cluster2\n",
    "    knob_dict['hz'] = 34   \n",
    "    knob_dict['activerehashing'] = 'no' \n",
    "    knob_dict['active-defrag-threshold-upper'] = 89 \n",
    "\n",
    "    \n",
    "\n",
    "    # 나머지 새로운 넣어주기 \n",
    "    for i, knob in enumerate(list(knobs_rdb2.keys())): # 현재 클러스터 내용만 담긴다. \n",
    "        knob_dict[knob] = knob_value[i]\n",
    "    \n",
    "    \n",
    "#     # cluster1\n",
    "#     knob_dict['save2_0'] = 60\n",
    "#     knob_dict['maxmemory'] = 2466    \n",
    "#     knob_dict['maxmemory-samples'] = 6\n",
    "#     knob_dict['rdbcomporession'] = 'yes'\n",
    "#     knob_dict['active-defrag-cycle-max'] = 722\n",
    "        \n",
    "    if 'activedefrag' in knob_dict:\n",
    "        if knob_dict['activedefrag'] == 'no':  # activedefrag no인 경우 나머지 관련 knob들에 0할당!\n",
    "            activ_var = ['active-defrag-threshold-lower', 'active-defrag-threshold-upper', 'active-defrag-cycle-min', 'active-defrag-cycle-max']\n",
    "            for activ_knob in activ_var:\n",
    "                knob_dict[activ_knob] = 0     \n",
    "    \n",
    "    knob_df = pd.DataFrame(knob_dict, index=[0])  # 데이터 프레임으로 변환\n",
    "    \n",
    "    # 카테고리 변수 변경\n",
    "    for knob in category_knob:\n",
    "        knob_df[knob] = knob_df[knob].astype('category') \n",
    "        \n",
    "#     print('#########')    \n",
    "#     print(knob_df)\n",
    "\n",
    "    return -lgbm_wrapper.predict(knob_df)[0]"
   ]
  },
  {
   "cell_type": "markdown",
   "metadata": {},
   "source": [
    "## gp_minimize"
   ]
  },
  {
   "cell_type": "code",
   "execution_count": 237,
   "metadata": {},
   "outputs": [
    {
     "name": "stdout",
     "output_type": "stream",
     "text": [
      "Automatically created module for IPython interactive environment\n"
     ]
    }
   ],
   "source": [
    "%matplotlib inline\n",
    "print(__doc__)\n",
    "\n",
    "import numpy as np\n",
    "np.random.seed(237)\n",
    "import matplotlib.pyplot as plt\n",
    "from skopt.plots import plot_gaussian_process\n",
    "from skopt import gp_minimize"
   ]
  },
  {
   "cell_type": "code",
   "execution_count": 238,
   "metadata": {},
   "outputs": [
    {
     "name": "stderr",
     "output_type": "stream",
     "text": [
      "/Users/joseong-un/opt/anaconda3/lib/python3.8/site-packages/skopt/optimizer/optimizer.py:449: UserWarning: The objective has been evaluated at this point before.\n",
      "  warnings.warn(\"The objective has been evaluated \"\n",
      "/Users/joseong-un/opt/anaconda3/lib/python3.8/site-packages/skopt/optimizer/optimizer.py:449: UserWarning: The objective has been evaluated at this point before.\n",
      "  warnings.warn(\"The objective has been evaluated \"\n",
      "/Users/joseong-un/opt/anaconda3/lib/python3.8/site-packages/skopt/optimizer/optimizer.py:449: UserWarning: The objective has been evaluated at this point before.\n",
      "  warnings.warn(\"The objective has been evaluated \"\n",
      "/Users/joseong-un/opt/anaconda3/lib/python3.8/site-packages/skopt/optimizer/optimizer.py:449: UserWarning: The objective has been evaluated at this point before.\n",
      "  warnings.warn(\"The objective has been evaluated \"\n",
      "/Users/joseong-un/opt/anaconda3/lib/python3.8/site-packages/skopt/optimizer/optimizer.py:449: UserWarning: The objective has been evaluated at this point before.\n",
      "  warnings.warn(\"The objective has been evaluated \"\n",
      "/Users/joseong-un/opt/anaconda3/lib/python3.8/site-packages/skopt/optimizer/optimizer.py:449: UserWarning: The objective has been evaluated at this point before.\n",
      "  warnings.warn(\"The objective has been evaluated \"\n",
      "/Users/joseong-un/opt/anaconda3/lib/python3.8/site-packages/skopt/optimizer/optimizer.py:449: UserWarning: The objective has been evaluated at this point before.\n",
      "  warnings.warn(\"The objective has been evaluated \"\n",
      "/Users/joseong-un/opt/anaconda3/lib/python3.8/site-packages/skopt/optimizer/optimizer.py:449: UserWarning: The objective has been evaluated at this point before.\n",
      "  warnings.warn(\"The objective has been evaluated \"\n",
      "/Users/joseong-un/opt/anaconda3/lib/python3.8/site-packages/skopt/optimizer/optimizer.py:449: UserWarning: The objective has been evaluated at this point before.\n",
      "  warnings.warn(\"The objective has been evaluated \"\n",
      "/Users/joseong-un/opt/anaconda3/lib/python3.8/site-packages/skopt/optimizer/optimizer.py:449: UserWarning: The objective has been evaluated at this point before.\n",
      "  warnings.warn(\"The objective has been evaluated \"\n",
      "/Users/joseong-un/opt/anaconda3/lib/python3.8/site-packages/skopt/optimizer/optimizer.py:449: UserWarning: The objective has been evaluated at this point before.\n",
      "  warnings.warn(\"The objective has been evaluated \"\n",
      "/Users/joseong-un/opt/anaconda3/lib/python3.8/site-packages/skopt/optimizer/optimizer.py:449: UserWarning: The objective has been evaluated at this point before.\n",
      "  warnings.warn(\"The objective has been evaluated \"\n",
      "/Users/joseong-un/opt/anaconda3/lib/python3.8/site-packages/skopt/optimizer/optimizer.py:449: UserWarning: The objective has been evaluated at this point before.\n",
      "  warnings.warn(\"The objective has been evaluated \"\n",
      "/Users/joseong-un/opt/anaconda3/lib/python3.8/site-packages/skopt/optimizer/optimizer.py:449: UserWarning: The objective has been evaluated at this point before.\n",
      "  warnings.warn(\"The objective has been evaluated \"\n",
      "/Users/joseong-un/opt/anaconda3/lib/python3.8/site-packages/skopt/optimizer/optimizer.py:449: UserWarning: The objective has been evaluated at this point before.\n",
      "  warnings.warn(\"The objective has been evaluated \"\n",
      "/Users/joseong-un/opt/anaconda3/lib/python3.8/site-packages/skopt/optimizer/optimizer.py:449: UserWarning: The objective has been evaluated at this point before.\n",
      "  warnings.warn(\"The objective has been evaluated \"\n",
      "/Users/joseong-un/opt/anaconda3/lib/python3.8/site-packages/skopt/optimizer/optimizer.py:449: UserWarning: The objective has been evaluated at this point before.\n",
      "  warnings.warn(\"The objective has been evaluated \"\n",
      "/Users/joseong-un/opt/anaconda3/lib/python3.8/site-packages/skopt/optimizer/optimizer.py:449: UserWarning: The objective has been evaluated at this point before.\n",
      "  warnings.warn(\"The objective has been evaluated \"\n",
      "/Users/joseong-un/opt/anaconda3/lib/python3.8/site-packages/skopt/optimizer/optimizer.py:449: UserWarning: The objective has been evaluated at this point before.\n",
      "  warnings.warn(\"The objective has been evaluated \"\n",
      "/Users/joseong-un/opt/anaconda3/lib/python3.8/site-packages/skopt/optimizer/optimizer.py:449: UserWarning: The objective has been evaluated at this point before.\n",
      "  warnings.warn(\"The objective has been evaluated \"\n"
     ]
    }
   ],
   "source": [
    "res = gp_minimize(objective_func2,                  # the function to minimize\n",
    "                  knobs_bound2,      # the bounds on each dimension of x\n",
    "                  acq_func=\"EI\",      # the acquisition function\n",
    "                  n_calls=50,         # the number of evaluations of f\n",
    "                  n_random_starts=30,  # the number of random initialization points\n",
    "                  noise=0.1**2,       # the noise level (optional)\n",
    "                  random_state=1234)   # the random seed"
   ]
  },
  {
   "cell_type": "code",
   "execution_count": 239,
   "metadata": {
    "scrolled": false
   },
   "outputs": [
    {
     "data": {
      "text/plain": [
       "['noeviction']"
      ]
     },
     "execution_count": 239,
     "metadata": {},
     "output_type": "execute_result"
    }
   ],
   "source": [
    "res.x"
   ]
  },
  {
   "cell_type": "code",
   "execution_count": 240,
   "metadata": {
    "scrolled": true
   },
   "outputs": [
    {
     "data": {
      "text/plain": [
       "[['noeviction'],\n",
       " ['volatile-random'],\n",
       " ['volatile-lfu'],\n",
       " ['volatile-lru'],\n",
       " ['volatile-random'],\n",
       " ['allkeys-lru'],\n",
       " ['allkeys-lru'],\n",
       " ['volatile-random'],\n",
       " ['allkeys-lru'],\n",
       " ['allkeys-lru'],\n",
       " ['allkeys-lfu'],\n",
       " ['noeviction'],\n",
       " ['allkeys-random'],\n",
       " ['volatile-random'],\n",
       " ['allkeys-lru'],\n",
       " ['allkeys-lfu'],\n",
       " ['noeviction'],\n",
       " ['allkeys-lfu'],\n",
       " ['allkeys-random'],\n",
       " ['allkeys-random'],\n",
       " ['volatile-lru'],\n",
       " ['volatile-random'],\n",
       " ['volatile-ttl'],\n",
       " ['allkeys-lru'],\n",
       " ['noeviction'],\n",
       " ['noeviction'],\n",
       " ['volatile-lfu'],\n",
       " ['volatile-random'],\n",
       " ['noeviction'],\n",
       " ['noeviction'],\n",
       " ['volatile-lfu'],\n",
       " ['noeviction'],\n",
       " ['volatile-ttl'],\n",
       " ['volatile-ttl'],\n",
       " ['volatile-lru'],\n",
       " ['volatile-ttl'],\n",
       " ['allkeys-lfu'],\n",
       " ['allkeys-random'],\n",
       " ['allkeys-lfu'],\n",
       " ['volatile-random'],\n",
       " ['volatile-lru'],\n",
       " ['volatile-random'],\n",
       " ['volatile-lru'],\n",
       " ['volatile-random'],\n",
       " ['noeviction'],\n",
       " ['noeviction'],\n",
       " ['allkeys-random'],\n",
       " ['allkeys-lru'],\n",
       " ['volatile-lru'],\n",
       " ['allkeys-lfu']]"
      ]
     },
     "execution_count": 240,
     "metadata": {},
     "output_type": "execute_result"
    }
   ],
   "source": [
    "res.x_iters # "
   ]
  },
  {
   "cell_type": "code",
   "execution_count": 241,
   "metadata": {},
   "outputs": [
    {
     "data": {
      "text/plain": [
       "array([-58845.57485802, -58845.57485802, -58845.57485802, -58845.57485802,\n",
       "       -58845.57485802, -58845.57485802, -58845.57485802, -58845.57485802,\n",
       "       -58845.57485802, -58845.57485802, -58845.57485802, -58845.57485802,\n",
       "       -58845.57485802, -58845.57485802, -58845.57485802, -58845.57485802,\n",
       "       -58845.57485802, -58845.57485802, -58845.57485802, -58845.57485802,\n",
       "       -58845.57485802, -58845.57485802, -58845.57485802, -58845.57485802,\n",
       "       -58845.57485802, -58845.57485802, -58845.57485802, -58845.57485802,\n",
       "       -58845.57485802, -58845.57485802, -58845.57485802, -58845.57485802,\n",
       "       -58845.57485802, -58845.57485802, -58845.57485802, -58845.57485802,\n",
       "       -58845.57485802, -58845.57485802, -58845.57485802, -58845.57485802,\n",
       "       -58845.57485802, -58845.57485802, -58845.57485802, -58845.57485802,\n",
       "       -58845.57485802, -58845.57485802, -58845.57485802, -58845.57485802,\n",
       "       -58845.57485802, -58845.57485802])"
      ]
     },
     "execution_count": 241,
     "metadata": {},
     "output_type": "execute_result"
    }
   ],
   "source": [
    "res.func_vals"
   ]
  },
  {
   "cell_type": "code",
   "execution_count": 242,
   "metadata": {},
   "outputs": [
    {
     "data": {
      "text/plain": [
       "-58845.57485802096"
      ]
     },
     "execution_count": 242,
     "metadata": {},
     "output_type": "execute_result"
    }
   ],
   "source": [
    "res.fun"
   ]
  },
  {
   "cell_type": "code",
   "execution_count": 243,
   "metadata": {},
   "outputs": [
    {
     "data": {
      "text/plain": [
       "[-58845.57485802096]"
      ]
     },
     "execution_count": 243,
     "metadata": {},
     "output_type": "execute_result"
    }
   ],
   "source": [
    "res_func_list = res.func_vals\n",
    "list(set(res_func_list))"
   ]
  },
  {
   "cell_type": "markdown",
   "metadata": {},
   "source": [
    "---"
   ]
  },
  {
   "cell_type": "code",
   "execution_count": 181,
   "metadata": {},
   "outputs": [],
   "source": [
    "# gp 결과 정리 함수\n",
    "def li_to_str(result_list):\n",
    "    for idx,knob in enumerate(list(knobs_rdb.keys())):  # knobs_rdb 키마다 접근\n",
    "        print(\"{} \".format(knob), end='')\n",
    "        print('{}'.format(result_list[idx]))"
   ]
  },
  {
   "cell_type": "code",
   "execution_count": 74,
   "metadata": {},
   "outputs": [
    {
     "name": "stdout",
     "output_type": "stream",
     "text": [
      "hash-max-ziplist-entries 305\n",
      "save0_0 722\n",
      "save0_1 5\n",
      "save1_1 12\n",
      "save2_1 9163\n",
      "rdb-save-incremental-fsync no\n",
      "lazyfree-lazy-expire yes\n"
     ]
    }
   ],
   "source": [
    "# gp 결과\n",
    "li_to_str(res.x)"
   ]
  },
  {
   "cell_type": "markdown",
   "metadata": {},
   "source": [
    "## gp 결과 정리\n",
    "\n",
    "### gp 분류된것\n",
    "\"hash-max-ziplist-entries\" : 284\n",
    "'hash-max-ziplist-value' 22\n",
    "'activerehashing': 'yes'\n",
    "'hz' 32\n",
    "'dynamic-hz' : 'yes'\n",
    "'save0_0' : 877\n",
    "'save0_1'2\n",
    "'save1_0'272\n",
    "'save1_1' : 12\n",
    "'save2_0'33\n",
    "'save2_1' : 11669 \n",
    "'rdbcompression'no\n",
    "'rdbchecksum' yes\n",
    "\"rdb-save-incremental-fsync\" 'no'\n",
    "'active-defrag-threshold-lower'3\n",
    "'active-defrag-threshold-upper': 87\n",
    "'active-defrag-cycle-min' : 25\n",
    "'active-defrag-cycle-max' : 80\n",
    "'maxmemory'1298\n",
    "maxmemory-policy : 'allkeys-random' \n",
    "'maxmemory-samples'6\n",
    "\"lazyfree-lazy-eviction\"  'no'\n",
    "'lazyfree-lazy-expire' yes\n",
    "'lazyfree-lazy-server-del' yes\n",
    "\n",
    "\n",
    "### gp 분류된것2\n",
    "hash-max-ziplist-entries 502\n",
    "hash-max-ziplist-value 213\n",
    "activerehashing yes\n",
    "hz 32\n",
    "dynamic-hz yes\n",
    "save0_0 760\n",
    "save0_1 3\n",
    "save1_0 426\n",
    "save1_1 24\n",
    "save2_0 37\n",
    "save2_1 8052 \n",
    "rdbcompression no\n",
    "rdbchecksum' no\n",
    "rdb-save-incremental-fsync yes\n",
    "active-defrag-threshold-lower 4\n",
    "active-defrag-threshold-upper 72\n",
    "active-defrag-cycle-min 14\n",
    "active-defrag-cycle-max 70\n",
    "maxmemory 1552\n",
    "maxmemory-policy allkeys-random\n",
    "maxmemory-samples 6\n",
    "lazyfree-lazy-eviction yes\n",
    "lazyfree-lazy-expire yes\n",
    "lazyfree-lazy-server-del no\n",
    "[575,\n",
    " 94,\n",
    " 'no',\n",
    " 10,\n",
    " 'yes',\n",
    " 1072,\n",
    " 5,\n",
    " 465,\n",
    " 24,\n",
    " 83,\n",
    " 9398,\n",
    " 'yes',\n",
    " 'yes',\n",
    " 'no',\n",
    " 26,\n",
    " 81,\n",
    " 20,\n",
    " 75,\n",
    " 1539,\n",
    " 'allkeys-lfu',\n",
    " 4,\n",
    " 'yes',\n",
    " 'no',\n",
    " 'no']\n",
    "\n",
    "### gp_T\n",
    "hash-max-ziplist-entries 575\n",
    "hash-max-ziplist-value 94\n",
    "activerehashing no\n",
    "hz 10\n",
    "dynamic-hz yes\n",
    "save0_0 1072\n",
    "save0_1 5\n",
    "save1_0 465\n",
    "save1_1 24\n",
    "save2_0 83\n",
    "save2_1 9398\n",
    "rdbcompression yes\n",
    "rdbchecksum yes\n",
    "rdb-save-incremental-fsync no\n",
    "active-defrag-threshold-lower 26\n",
    "active-defrag-threshold-upper 81\n",
    "active-defrag-cycle-min 20\n",
    "active-defrag-cycle-max 75\n",
    "maxmemory 1539\n",
    "maxmemory-policy allkeys-lfu\n",
    "maxmemory-samples 4\n",
    "lazyfree-lazy-eviction yes\n",
    "lazyfree-lazy-expire no\n",
    "lazyfree-lazy-server-del no\n",
    "\n"
   ]
  }
 ],
 "metadata": {
  "kernelspec": {
   "display_name": "Python 3",
   "language": "python",
   "name": "python3"
  },
  "language_info": {
   "codemirror_mode": {
    "name": "ipython",
    "version": 3
   },
   "file_extension": ".py",
   "mimetype": "text/x-python",
   "name": "python",
   "nbconvert_exporter": "python",
   "pygments_lexer": "ipython3",
   "version": "3.8.5"
  }
 },
 "nbformat": 4,
 "nbformat_minor": 4
}
