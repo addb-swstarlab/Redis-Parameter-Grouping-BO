{
 "cells": [
  {
   "cell_type": "markdown",
   "metadata": {},
   "source": [
    "# gp_minimize"
   ]
  },
  {
   "cell_type": "code",
   "execution_count": 2,
   "metadata": {},
   "outputs": [],
   "source": [
    "import numpy as np\n",
    "np.random.seed(237)\n",
    "import matplotlib.pyplot as plt\n",
    "from skopt.plots import plot_gaussian_process"
   ]
  },
  {
   "cell_type": "code",
   "execution_count": 21,
   "metadata": {},
   "outputs": [],
   "source": [
    "noise_level = 0.1\n",
    "def f(x, noise_level=noise_level):\n",
    "    print(x)\n",
    "    return np.sin(5 * x[0]) * (1 - np.tanh(x[0] ** 2))\\\n",
    "           + np.random.randn() * noise_level"
   ]
  },
  {
   "cell_type": "code",
   "execution_count": 16,
   "metadata": {},
   "outputs": [],
   "source": [
    "x = np.linspace(-2, 2, 400).reshape(-1, 1)"
   ]
  },
  {
   "cell_type": "code",
   "execution_count": 54,
   "metadata": {},
   "outputs": [
    {
     "name": "stdout",
     "output_type": "stream",
     "text": [
      "[-1.55555]\n",
      "[-0.009345334109402526]\n",
      "[1.2713537644662787]\n",
      "[0.4484475787090836]\n",
      "[1.0854396754496047]\n",
      "[1.4426790855107496]\n",
      "[0.957522117211465]\n",
      "[-0.4294953092515996]\n",
      "[-0.6296912488477844]\n",
      "[-0.4131665871365353]\n",
      "[-0.44859264794007925]\n",
      "[-0.47432653817308035]\n",
      "[-0.4438401360789599]\n",
      "[1.9996218888136874]\n",
      "[-2.0]\n"
     ]
    }
   ],
   "source": [
    "from skopt import gp_minimize\n",
    "\n",
    "res = gp_minimize(f,                  # the function to minimize\n",
    "                  [(-2.0, 2.0)],      # the bounds on each dimension of x\n",
    "                  acq_func=\"EI\",      # the acquisition function\n",
    "                  n_calls=15,         # the number of evaluations of f\n",
    "                  n_random_starts=5,  # the number of random initialization points\n",
    "                  noise=0.1**2,       # the noise level (optional)\n",
    "                  random_state=1234,\n",
    "                  \n",
    "                  x0 = [-1.55555]\n",
    "#                   y0 = -1.006560928380077\n",
    "                 \n",
    "                 \n",
    "                 \n",
    "                 )   # the random seed"
   ]
  },
  {
   "cell_type": "code",
   "execution_count": 53,
   "metadata": {},
   "outputs": [
    {
     "data": {
      "text/plain": [
       "-1.006560928380077"
      ]
     },
     "execution_count": 53,
     "metadata": {},
     "output_type": "execute_result"
    }
   ],
   "source": [
    "res.fun"
   ]
  },
  {
   "cell_type": "code",
   "execution_count": 41,
   "metadata": {},
   "outputs": [
    {
     "data": {
      "text/plain": [
       "[-0.2615628877945513]"
      ]
     },
     "execution_count": 41,
     "metadata": {},
     "output_type": "execute_result"
    }
   ],
   "source": [
    "res.x"
   ]
  },
  {
   "cell_type": "code",
   "execution_count": null,
   "metadata": {},
   "outputs": [],
   "source": []
  }
 ],
 "metadata": {
  "kernelspec": {
   "display_name": "Python 3",
   "language": "python",
   "name": "python3"
  },
  "language_info": {
   "codemirror_mode": {
    "name": "ipython",
    "version": 3
   },
   "file_extension": ".py",
   "mimetype": "text/x-python",
   "name": "python",
   "nbconvert_exporter": "python",
   "pygments_lexer": "ipython3",
   "version": "3.8.5"
  }
 },
 "nbformat": 4,
 "nbformat_minor": 4
}
